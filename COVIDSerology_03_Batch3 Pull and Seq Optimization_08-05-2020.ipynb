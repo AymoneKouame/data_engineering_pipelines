{
 "cells": [
  {
   "cell_type": "markdown",
   "metadata": {
    "toc": true
   },
   "source": [
    "<h1>Table of Contents<span class=\"tocSkip\"></span></h1>\n",
    "<div class=\"toc\"><ul class=\"toc-item\"><li><span><a href=\"#Set-Up\" data-toc-modified-id=\"Set-Up-1\"><span class=\"toc-item-num\">1&nbsp;&nbsp;</span>Set Up</a></span><ul class=\"toc-item\"><li><span><a href=\"#Load-All-function-used-for-this-project\" data-toc-modified-id=\"Load-All-function-used-for-this-project-1.1\"><span class=\"toc-item-num\">1.1&nbsp;&nbsp;</span>Load All function used for this project</a></span></li><li><span><a href=\"#Load-needed-datasets\" data-toc-modified-id=\"Load-needed-datasets-1.2\"><span class=\"toc-item-num\">1.2&nbsp;&nbsp;</span>Load needed datasets</a></span><ul class=\"toc-item\"><li><span><a href=\"#Load-Master-Files\" data-toc-modified-id=\"Load-Master-Files-1.2.1\"><span class=\"toc-item-num\">1.2.1&nbsp;&nbsp;</span>Load Master Files</a></span></li><li><span><a href=\"#Load-Previous-Batches,-includeing-their-controls\" data-toc-modified-id=\"Load-Previous-Batches,-includeing-their-controls-1.2.2\"><span class=\"toc-item-num\">1.2.2&nbsp;&nbsp;</span>Load Previous Batches, includeing their controls</a></span></li></ul></li></ul></li><li><span><a href=\"#EXECUTE-THE-PLATING-STRATEGY\" data-toc-modified-id=\"EXECUTE-THE-PLATING-STRATEGY-2\"><span class=\"toc-item-num\">2&nbsp;&nbsp;</span>EXECUTE THE PLATING STRATEGY</a></span><ul class=\"toc-item\"><li><span><a href=\"#Plating-Numbers-we-need\" data-toc-modified-id=\"Plating-Numbers-we-need-2.1\"><span class=\"toc-item-num\">2.1&nbsp;&nbsp;</span>Plating Numbers we need</a></span></li><li><span><a href=\"#BATCH-3\" data-toc-modified-id=\"BATCH-3-2.2\"><span class=\"toc-item-num\">2.2&nbsp;&nbsp;</span>BATCH 3</a></span><ul class=\"toc-item\"><li><span><a href=\"#Pull-batch-3\" data-toc-modified-id=\"Pull-batch-3-2.2.1\"><span class=\"toc-item-num\">2.2.1&nbsp;&nbsp;</span>Pull batch 3</a></span></li><li><span><a href=\"#Randomize-by-State-and-add-Location-to-batch\" data-toc-modified-id=\"Randomize-by-State-and-add-Location-to-batch-2.2.2\"><span class=\"toc-item-num\">2.2.2&nbsp;&nbsp;</span>Randomize by State and add Location to batch</a></span></li><li><span><a href=\"#Sequence-Optimization\" data-toc-modified-id=\"Sequence-Optimization-2.2.3\"><span class=\"toc-item-num\">2.2.3&nbsp;&nbsp;</span>Sequence Optimization</a></span></li><li><span><a href=\"#Add-Negative-Controls\" data-toc-modified-id=\"Add-Negative-Controls-2.2.4\"><span class=\"toc-item-num\">2.2.4&nbsp;&nbsp;</span>Add Negative Controls</a></span></li><li><span><a href=\"#Add-Postitive-Controls\" data-toc-modified-id=\"Add-Postitive-Controls-2.2.5\"><span class=\"toc-item-num\">2.2.5&nbsp;&nbsp;</span>Add Postitive Controls</a></span></li><li><span><a href=\"#FINAL-DELIVERABLE\" data-toc-modified-id=\"FINAL-DELIVERABLE-2.2.6\"><span class=\"toc-item-num\">2.2.6&nbsp;&nbsp;</span>FINAL DELIVERABLE</a></span></li><li><span><a href=\"#08/07/2020-QC-Before-Sending-to-Mayo\" data-toc-modified-id=\"08/07/2020-QC-Before-Sending-to-Mayo-2.2.7\"><span class=\"toc-item-num\">2.2.7&nbsp;&nbsp;</span>08/07/2020 QC Before Sending to Mayo</a></span></li></ul></li></ul></li><li><span><a href=\"#08/11-Replacing-bids-with-low-serums\" data-toc-modified-id=\"08/11-Replacing-bids-with-low-serums-3\"><span class=\"toc-item-num\">3&nbsp;&nbsp;</span>08/11 Replacing bids with low serums</a></span><ul class=\"toc-item\"><li><span><a href=\"#Assign-same-plates-to-replacement-serums\" data-toc-modified-id=\"Assign-same-plates-to-replacement-serums-3.1\"><span class=\"toc-item-num\">3.1&nbsp;&nbsp;</span>Assign same plates to replacement serums</a></span></li><li><span><a href=\"#Removing/repalcing-low-volumes-in-previous-batch3-and-save-new-batch3\" data-toc-modified-id=\"Removing/repalcing-low-volumes-in-previous-batch3-and-save-new-batch3-3.2\"><span class=\"toc-item-num\">3.2&nbsp;&nbsp;</span>Removing/repalcing low volumes in previous batch3 and save new batch3</a></span></li><li><span><a href=\"#Removing-low-samples-in-previous-batch-3-from-Master-List\" data-toc-modified-id=\"Removing-low-samples-in-previous-batch-3-from-Master-List-3.3\"><span class=\"toc-item-num\">3.3&nbsp;&nbsp;</span>Removing low samples in previous batch 3 from Master List</a></span></li></ul></li></ul></div>"
   ]
  },
  {
   "cell_type": "markdown",
   "metadata": {},
   "source": [
    "# Set Up"
   ]
  },
  {
   "cell_type": "code",
   "execution_count": null,
   "metadata": {
    "ExecuteTime": {
     "end_time": "2020-08-11T20:12:02.005895Z",
     "start_time": "2020-08-11T20:11:54.018728Z"
    }
   },
   "outputs": [],
   "source": [
    "%run ../CONNECTIONS/setup.ipynb"
   ]
  },
  {
   "cell_type": "code",
   "execution_count": null,
   "metadata": {
    "ExecuteTime": {
     "end_time": "2020-08-11T20:12:02.015899Z",
     "start_time": "2020-08-11T20:12:02.006894Z"
    }
   },
   "outputs": [],
   "source": [
    "import glob\n",
    "\n",
    "location = '../DATA/DSC2'\n",
    "fileset = [file for file in glob.glob(location + \"**/***.*\", recursive=True)]\n",
    "n = 0\n",
    "for file in fileset:\n",
    "    #print()\n",
    "    print(n, file)\n",
    "    n+=1"
   ]
  },
  {
   "cell_type": "code",
   "execution_count": null,
   "metadata": {
    "ExecuteTime": {
     "end_time": "2020-08-11T20:12:02.026896Z",
     "start_time": "2020-08-11T20:12:02.016894Z"
    }
   },
   "outputs": [],
   "source": [
    "data_directory = '../DATA\\\\DSC2\\\\'\n",
    "david_directory = 'S:\\\\david\\\\fromAymone\\\\'"
   ]
  },
  {
   "cell_type": "markdown",
   "metadata": {},
   "source": [
    "## Load All function used for this project"
   ]
  },
  {
   "cell_type": "code",
   "execution_count": null,
   "metadata": {
    "ExecuteTime": {
     "end_time": "2020-08-11T20:11:45.335944Z",
     "start_time": "2020-08-11T20:11:45.258939Z"
    }
   },
   "outputs": [],
   "source": [
    "%run Serology_All_Functions.ipynb"
   ]
  },
  {
   "cell_type": "markdown",
   "metadata": {},
   "source": [
    "## Load needed datasets"
   ]
  },
  {
   "cell_type": "code",
   "execution_count": null,
   "metadata": {},
   "outputs": [],
   "source": []
  },
  {
   "cell_type": "code",
   "execution_count": null,
   "metadata": {},
   "outputs": [],
   "source": []
  },
  {
   "cell_type": "markdown",
   "metadata": {},
   "source": [
    "### Load Master Files\n",
    "Serology Master File, Negative Control Master File, Positive Control List "
   ]
  },
  {
   "cell_type": "code",
   "execution_count": null,
   "metadata": {
    "ExecuteTime": {
     "end_time": "2020-08-11T20:11:45.653960Z",
     "start_time": "2020-08-11T20:11:45.336943Z"
    }
   },
   "outputs": [],
   "source": [
    "# load master sample list\n",
    "master_list = pd.read_csv('../DATA\\DSC2\\Antobodies_tests_Master_List_2020-05-21.csv')\n",
    "master_list.head(3)"
   ]
  },
  {
   "cell_type": "code",
   "execution_count": null,
   "metadata": {
    "ExecuteTime": {
     "end_time": "2020-08-11T20:11:45.716962Z",
     "start_time": "2020-08-11T20:11:45.654959Z"
    }
   },
   "outputs": [],
   "source": [
    "# load negative controls list\n",
    "negative_controls_master = pd.read_csv('../DATA\\DSC2\\COVID_controls_2020-06-15_14.14.52.csv')\n",
    "negative_controls_master.head(3)"
   ]
  },
  {
   "cell_type": "code",
   "execution_count": null,
   "metadata": {
    "ExecuteTime": {
     "end_time": "2020-08-11T20:11:45.879971Z",
     "start_time": "2020-08-11T20:11:45.718962Z"
    }
   },
   "outputs": [],
   "source": [
    "## or this?\n",
    "negative_controls_master3 = pd.read_csv('../DATA\\DSC2\\COVID_controls_afterbatch22020-07-01_12.56.08.csv')\n",
    "negative_controls_master3.head()#.to_csv('../DATA\\DSC2\\COVID_controls_afterbatch22020-07-01_12.56.08.csv', index = False)"
   ]
  },
  {
   "cell_type": "code",
   "execution_count": null,
   "metadata": {
    "ExecuteTime": {
     "end_time": "2020-08-11T20:11:46.002981Z",
     "start_time": "2020-08-11T20:11:45.880971Z"
    }
   },
   "outputs": [],
   "source": [
    "## or this?\n",
    "negative_controls_master3 = pd.read_csv('../DATA\\DSC2\\COVID_controls_afterbatch22020-07-01_12.56.08.csv')\n",
    "negative_controls_master3.head()#.to_csv('../DATA\\DSC2\\COVID_controls_afterbatch22020-07-01_12.56.08.csv', index = False)"
   ]
  },
  {
   "cell_type": "code",
   "execution_count": null,
   "metadata": {
    "ExecuteTime": {
     "end_time": "2020-08-11T17:10:59.463695Z",
     "start_time": "2020-08-11T17:10:59.437695Z"
    }
   },
   "outputs": [],
   "source": [
    "# load positive controls list\n",
    "vumc_positive_controls = pd.read_csv('../DATA\\\\DSC2\\\\VUMCPositive Controls Tracker_addedCals_08_03_2020.csv')\n",
    "vumc_positive_controls.head(5)"
   ]
  },
  {
   "cell_type": "code",
   "execution_count": null,
   "metadata": {
    "ExecuteTime": {
     "end_time": "2020-08-11T17:10:59.670832Z",
     "start_time": "2020-08-11T17:10:59.632833Z"
    }
   },
   "outputs": [],
   "source": [
    "pmp_positive_controls = pd.concat([pd.read_csv('../DATA\\DSC2\\ppm_positive_controls.csv'),\n",
    "                                   pd.read_csv('../DATA\\DSC2\\ppm_positive_controls_scnd.csv')], sort = False).drop_duplicates()\n",
    "pmp_positive_controls.head(5)"
   ]
  },
  {
   "cell_type": "code",
   "execution_count": null,
   "metadata": {},
   "outputs": [],
   "source": []
  },
  {
   "cell_type": "markdown",
   "metadata": {},
   "source": [
    "### Load Previous Batches, includeing their controls"
   ]
  },
  {
   "cell_type": "code",
   "execution_count": null,
   "metadata": {
    "ExecuteTime": {
     "end_time": "2020-08-11T20:12:15.203118Z",
     "start_time": "2020-08-11T20:12:15.123104Z"
    }
   },
   "outputs": [],
   "source": [
    "# Load Previous batches\n",
    "batch1_manifest = pd.read_csv('../DATA\\\\DSC2\\\\batch1_manifest_fromMayo.csv')#[['biobank_id']]\n",
    "batch1_manifest.head()"
   ]
  },
  {
   "cell_type": "code",
   "execution_count": null,
   "metadata": {
    "ExecuteTime": {
     "end_time": "2020-08-11T20:12:15.446171Z",
     "start_time": "2020-08-11T20:12:15.303142Z"
    }
   },
   "outputs": [],
   "source": [
    "bath1_testsamples = transform_manifest(batch1_manifest, 'Biobank ID', which_df = 'test samples')\n",
    "bath1_negativecontrols = transform_manifest(batch1_manifest, 'Biobank ID', which_df = 'negative controls')\n",
    "#bath1_testsamples = transform_manifest(batch1_manifest, 'Biobank ID', which_df = 'test samples')"
   ]
  },
  {
   "cell_type": "code",
   "execution_count": null,
   "metadata": {
    "ExecuteTime": {
     "end_time": "2020-08-11T20:12:15.621207Z",
     "start_time": "2020-08-11T20:12:15.551193Z"
    }
   },
   "outputs": [],
   "source": [
    "batch2_manifest = pd.read_csv('../DATA\\\\DSC2\\\\batch2_manifest_fromMayo.csv')#[['biobank_id']] #Manifest file from Mayo received July 22?\n",
    "batch2_manifest.head()"
   ]
  },
  {
   "cell_type": "code",
   "execution_count": null,
   "metadata": {
    "ExecuteTime": {
     "end_time": "2020-08-11T20:12:15.860256Z",
     "start_time": "2020-08-11T20:12:15.735230Z"
    }
   },
   "outputs": [],
   "source": [
    "bath2_testsamples = transform_manifest(batch2_manifest, 'Biobank ID', which_df = 'test samples')\n",
    "bath2_negativecontrols = transform_manifest(batch2_manifest, 'Biobank ID', which_df = 'negative controls')\n"
   ]
  },
  {
   "cell_type": "code",
   "execution_count": null,
   "metadata": {
    "ExecuteTime": {
     "end_time": "2020-08-11T20:12:16.724933Z",
     "start_time": "2020-08-11T20:12:16.705926Z"
    }
   },
   "outputs": [],
   "source": [
    "batch1and2_testsamples_bids = bath1_testsamples[['biobank_id']].merge(bath2_testsamples[['biobank_id']], 'outer').drop_duplicates()\n",
    "batch1and2_testsamples_bids.biobank_id.nunique()"
   ]
  },
  {
   "cell_type": "code",
   "execution_count": null,
   "metadata": {
    "ExecuteTime": {
     "end_time": "2020-08-11T20:12:17.006743Z",
     "start_time": "2020-08-11T20:12:16.995739Z"
    }
   },
   "outputs": [],
   "source": [
    "# Get pervious batches negative controls list\n",
    "batch1and2_negative_bids = bath1_negativecontrols[['biobank_id']].merge(bath2_negativecontrols[['biobank_id']], 'outer').drop_duplicates()\n",
    "len(batch1and2_negative_bids)"
   ]
  },
  {
   "cell_type": "markdown",
   "metadata": {},
   "source": [
    "# EXECUTE THE PLATING STRATEGY"
   ]
  },
  {
   "cell_type": "markdown",
   "metadata": {},
   "source": [
    "## Plating Numbers we need"
   ]
  },
  {
   "cell_type": "code",
   "execution_count": null,
   "metadata": {
    "ExecuteTime": {
     "end_time": "2020-08-07T18:06:56.013998Z",
     "start_time": "2020-08-07T18:06:56.007994Z"
    }
   },
   "outputs": [],
   "source": [
    "import math\n",
    "### Which batch number is this (that we deliver to the biobank?)\n",
    "batch_number = 3\n",
    "\n",
    "## Scenario 1: 85 well, 350uL per plate\n",
    "\n",
    "batch_size = 5146  ## added to the 5k so we have even numbers of samples per plate\n",
    "nwells = 83\n",
    "number_of_plates = math.ceil(batch_size/nwells) #excluding controls\n",
    "NegControls_perBatch = 1#int(304/2) #unrepeated  #repeated = 304\n",
    "PosControls_perBatch = 1#153 ##unrepeated \n",
    "                               #= sum column C here: https://docs.google.com/spreadsheets/d/1l7nu71PbE7QDdHzZcwHyHuIpl2QsE4N5QMHt7WWQTro/edit#gid=0\n",
    "                               #repeated = 304 (153*2)\n",
    "number_of_plates"
   ]
  },
  {
   "cell_type": "markdown",
   "metadata": {},
   "source": [
    "## BATCH 3"
   ]
  },
  {
   "cell_type": "markdown",
   "metadata": {},
   "source": [
    "### Pull batch 3\n",
    "Uses function `pull_batch()`"
   ]
  },
  {
   "cell_type": "code",
   "execution_count": null,
   "metadata": {
    "ExecuteTime": {
     "end_time": "2020-08-07T18:06:56.597031Z",
     "start_time": "2020-08-07T18:06:56.592034Z"
    }
   },
   "outputs": [],
   "source": [
    "batch1and2_testsamples_bids.head(), len(batch1and2_testsamples_bids)"
   ]
  },
  {
   "cell_type": "code",
   "execution_count": null,
   "metadata": {
    "ExecuteTime": {
     "end_time": "2020-08-11T17:10:51.532640Z",
     "start_time": "2020-08-11T17:10:51.296644Z"
    }
   },
   "outputs": [],
   "source": [
    "# We reveived a list of avalable serums by Mine - Just ensuring that the master list we pull consists only of those with available serums\n",
    "available_serums_bids = pd.read_csv('../DATA\\\\DSC2\\\\11.1.2019-3.18.2020 Available Serum with bids.csv')\n",
    "available_serums_bids.head()"
   ]
  },
  {
   "cell_type": "code",
   "execution_count": null,
   "metadata": {
    "ExecuteTime": {
     "end_time": "2020-08-07T18:06:57.087063Z",
     "start_time": "2020-08-07T18:06:57.004059Z"
    }
   },
   "outputs": [],
   "source": [
    "master_list2 = master_list.merge(available_serums_bids[['biobank_id']])"
   ]
  },
  {
   "cell_type": "code",
   "execution_count": null,
   "metadata": {
    "ExecuteTime": {
     "end_time": "2020-08-07T18:06:57.373082Z",
     "start_time": "2020-08-07T18:06:57.207069Z"
    }
   },
   "outputs": [],
   "source": [
    "batch3 = pull_batch(master_ls = master_list2, batch_size = batch_size, batch_number= batch_number, previous_batch = batch1and2_testsamples_bids)\n",
    "batch3#.head()"
   ]
  },
  {
   "cell_type": "code",
   "execution_count": null,
   "metadata": {
    "ExecuteTime": {
     "end_time": "2020-08-07T18:06:57.395086Z",
     "start_time": "2020-08-07T18:06:57.390086Z"
    }
   },
   "outputs": [],
   "source": [
    "#batch3.state.drop_duplicates().sort_values()\n",
    "batch3.state.nunique()"
   ]
  },
  {
   "cell_type": "code",
   "execution_count": null,
   "metadata": {
    "ExecuteTime": {
     "end_time": "2020-08-07T18:06:58.248891Z",
     "start_time": "2020-08-07T18:06:58.246895Z"
    }
   },
   "outputs": [],
   "source": [
    "##### Quick checks + Save batch to drive for documentation"
   ]
  },
  {
   "cell_type": "code",
   "execution_count": null,
   "metadata": {
    "ExecuteTime": {
     "end_time": "2020-08-07T18:06:58.500285Z",
     "start_time": "2020-08-07T18:06:58.494278Z"
    }
   },
   "outputs": [],
   "source": [
    "#Check dates of specimen collection and number of unique biobank_ids\n",
    "batch3.participant_id.nunique(), batch3['DateBloodSampleCollected'].max(), batch3['DateBloodSampleCollected'].min()\n"
   ]
  },
  {
   "cell_type": "code",
   "execution_count": null,
   "metadata": {
    "ExecuteTime": {
     "end_time": "2020-08-07T18:06:58.809529Z",
     "start_time": "2020-08-07T18:06:58.798531Z"
    }
   },
   "outputs": [],
   "source": [
    "# Check that batch3 pids are not in batch1 or batch2\n",
    "pd.merge(batch3['biobank_id'],batch1and2_testsamples_bids)"
   ]
  },
  {
   "cell_type": "code",
   "execution_count": null,
   "metadata": {
    "ExecuteTime": {
     "end_time": "2020-08-07T18:06:59.016883Z",
     "start_time": "2020-08-07T18:06:58.994884Z"
    }
   },
   "outputs": [],
   "source": [
    "save_this_csv(batch3, desired_filename='Serology_batch' +str(batch_number))"
   ]
  },
  {
   "cell_type": "markdown",
   "metadata": {
    "ExecuteTime": {
     "end_time": "2020-08-05T16:01:14.884590Z",
     "start_time": "2020-08-05T16:01:14.881591Z"
    }
   },
   "source": [
    "### Randomize by State and add Location to batch\n",
    "Uses `randomize_and_locate()`"
   ]
  },
  {
   "cell_type": "code",
   "execution_count": null,
   "metadata": {
    "ExecuteTime": {
     "end_time": "2020-08-07T18:06:59.395905Z",
     "start_time": "2020-08-07T18:06:59.391910Z"
    }
   },
   "outputs": [],
   "source": [
    "## double check n participants in batch\n",
    "batch3.participant_id.nunique()"
   ]
  },
  {
   "cell_type": "code",
   "execution_count": null,
   "metadata": {
    "ExecuteTime": {
     "end_time": "2020-08-07T18:06:59.658181Z",
     "start_time": "2020-08-07T18:06:59.643191Z"
    }
   },
   "outputs": [],
   "source": [
    "samples_groups = randomize_and_locate(batch_df = batch3, batch_size = batch_size, rand_state = 805)\n",
    "samples_groups.head()"
   ]
  },
  {
   "cell_type": "code",
   "execution_count": null,
   "metadata": {
    "ExecuteTime": {
     "end_time": "2020-08-07T18:06:59.879196Z",
     "start_time": "2020-08-07T18:06:59.874196Z"
    }
   },
   "outputs": [],
   "source": [
    "samples_groups.shape[0]"
   ]
  },
  {
   "cell_type": "markdown",
   "metadata": {
    "ExecuteTime": {
     "end_time": "2020-08-05T16:01:54.973397Z",
     "start_time": "2020-08-05T16:01:54.968402Z"
    }
   },
   "source": [
    "### Sequence Optimization\n",
    "Uses `optimize_sequence()`"
   ]
  },
  {
   "cell_type": "code",
   "execution_count": null,
   "metadata": {
    "ExecuteTime": {
     "end_time": "2020-08-07T18:07:05.086279Z",
     "start_time": "2020-08-07T18:07:00.232968Z"
    }
   },
   "outputs": [],
   "source": [
    "#nwells defined in 2.1 #excludes both positive and negative control wells for now\n",
    "\n",
    "samples_groups_optimized = optimize_sequence(df = samples_groups, n_wells = nwells, batch_size = batch_size,\n",
    "                                             rand_state= 80511)\n",
    "samples_groups_optimized.sort_values('plate')"
   ]
  },
  {
   "cell_type": "code",
   "execution_count": null,
   "metadata": {
    "ExecuteTime": {
     "end_time": "2020-08-07T18:07:05.089278Z",
     "start_time": "2020-08-07T18:07:05.087277Z"
    }
   },
   "outputs": [],
   "source": [
    "##### QC and fix"
   ]
  },
  {
   "cell_type": "code",
   "execution_count": null,
   "metadata": {},
   "outputs": [],
   "source": []
  },
  {
   "cell_type": "markdown",
   "metadata": {
    "ExecuteTime": {
     "end_time": "2020-08-05T16:06:33.835579Z",
     "start_time": "2020-08-05T16:06:33.831578Z"
    }
   },
   "source": [
    "### Add Negative Controls\n",
    "Uses `add_negative_controls()`"
   ]
  },
  {
   "cell_type": "code",
   "execution_count": null,
   "metadata": {
    "ExecuteTime": {
     "end_time": "2020-08-07T18:07:05.101281Z",
     "start_time": "2020-08-07T18:07:05.091280Z"
    }
   },
   "outputs": [],
   "source": [
    "batch1and2_negative_bids.head()"
   ]
  },
  {
   "cell_type": "code",
   "execution_count": null,
   "metadata": {
    "ExecuteTime": {
     "end_time": "2020-08-07T18:07:05.110280Z",
     "start_time": "2020-08-07T18:07:05.102281Z"
    }
   },
   "outputs": [],
   "source": [
    "batch3['biobank_id']"
   ]
  },
  {
   "cell_type": "code",
   "execution_count": null,
   "metadata": {
    "ExecuteTime": {
     "end_time": "2020-08-07T18:11:56.763326Z",
     "start_time": "2020-08-07T18:11:56.717329Z"
    }
   },
   "outputs": [],
   "source": [
    "batch3_negControls = batch_negative_controls(ramdomized_sample_df = samples_groups_optimized,#samples_groups, \n",
    "                                                batch_df = batch3, \n",
    "                                               negControls_master = negative_controls_master, \n",
    "                                               unrepeated_negControls = NegControls_perBatch,\n",
    "                                               number_plates = number_of_plates, rand_state = 8051107,\n",
    "                                                previous_batch_negControls = batch1and2_negative_bids)\n",
    "\n",
    "batch3_negControls"
   ]
  },
  {
   "cell_type": "code",
   "execution_count": null,
   "metadata": {
    "ExecuteTime": {
     "end_time": "2020-08-07T18:35:54.353914Z",
     "start_time": "2020-08-07T18:35:54.349914Z"
    }
   },
   "outputs": [],
   "source": [
    "batch3_negControls.biobank_id.nunique(), batch3_negControls['biobank_id'].count()"
   ]
  },
  {
   "cell_type": "markdown",
   "metadata": {},
   "source": [
    "##### QC AND FIX"
   ]
  },
  {
   "cell_type": "code",
   "execution_count": null,
   "metadata": {
    "ExecuteTime": {
     "end_time": "2020-08-07T18:13:19.742259Z",
     "start_time": "2020-08-07T18:13:19.730256Z"
    }
   },
   "outputs": [],
   "source": [
    "# Check neg controls dist per plate\n",
    "check = batch3_negControls[['biobank_id','plate']].groupby('plate').count()#.drop('plate', axis = 1)\n",
    "check.sort_values('plate', ascending = False)#.tail(15)"
   ]
  },
  {
   "cell_type": "code",
   "execution_count": null,
   "metadata": {
    "ExecuteTime": {
     "end_time": "2020-08-07T18:07:12.108470Z",
     "start_time": "2020-08-07T18:07:12.096469Z"
    }
   },
   "outputs": [],
   "source": [
    "# ensure batch 3 negative controls is not in batch1 or 2\n",
    "pd.merge(batch1and2_negative_bids, batch3_negControls)"
   ]
  },
  {
   "cell_type": "code",
   "execution_count": null,
   "metadata": {
    "ExecuteTime": {
     "end_time": "2020-08-07T17:48:49.417059Z",
     "start_time": "2020-08-07T17:48:49.415058Z"
    }
   },
   "outputs": [],
   "source": [
    "#savebatch3_negControls_.to_csv('../DATA/DSC2/batch'+str(b_number)+str(scenario)+'_negative_controls_'+now+'.csv')"
   ]
  },
  {
   "cell_type": "markdown",
   "metadata": {},
   "source": [
    "### Add Postitive Controls\n",
    "Uses `batch_positive_controls()`"
   ]
  },
  {
   "cell_type": "code",
   "execution_count": null,
   "metadata": {
    "ExecuteTime": {
     "end_time": "2020-08-07T18:13:31.594200Z",
     "start_time": "2020-08-07T18:13:31.579201Z"
    }
   },
   "outputs": [],
   "source": [
    "vumc_positive_controls.head(3)"
   ]
  },
  {
   "cell_type": "code",
   "execution_count": null,
   "metadata": {
    "ExecuteTime": {
     "end_time": "2020-08-07T18:13:31.748200Z",
     "start_time": "2020-08-07T18:13:31.735204Z"
    }
   },
   "outputs": [],
   "source": [
    "batch3_posControls1 = vumc_positive_controls[['Sample ID', 'Total vol (ml)']].dropna()\n",
    "batch3_posControls1"
   ]
  },
  {
   "cell_type": "code",
   "execution_count": null,
   "metadata": {
    "ExecuteTime": {
     "end_time": "2020-08-07T18:13:31.876200Z",
     "start_time": "2020-08-07T18:13:31.866204Z"
    }
   },
   "outputs": [],
   "source": [
    "batch3_posControls2 = pmp_positive_controls[['Lab ID', 'Volume(mL)']]\n",
    "batch3_posControls2.columns = ['Sample ID','Total vol (ml)']\n",
    "batch3_posControls2"
   ]
  },
  {
   "cell_type": "code",
   "execution_count": null,
   "metadata": {
    "ExecuteTime": {
     "end_time": "2020-08-07T18:13:32.053203Z",
     "start_time": "2020-08-07T18:13:32.037200Z"
    }
   },
   "outputs": [],
   "source": [
    "batch3_posControls = pd.concat([batch3_posControls1, batch3_posControls2])\n",
    "batch3_posControls['Positive Control'] = 'Yes'\n",
    "batch3_posControls['Negative Control'] = 'No'\n",
    "batch3_posControls"
   ]
  },
  {
   "cell_type": "code",
   "execution_count": null,
   "metadata": {
    "ExecuteTime": {
     "end_time": "2020-08-07T18:15:47.961237Z",
     "start_time": "2020-08-07T18:15:47.932237Z"
    }
   },
   "outputs": [],
   "source": [
    "positive_controls_df = batch_positive_controls(pos_controls_df = batch3_posControls, \n",
    "                                                   rand_state = 805134, \n",
    "                                                   number_plates = number_of_plates,\n",
    "                                                   aliquots_needed = 350)\n",
    "positive_controls_df #= _sc1[['Sample ID','serology_id','positive control', 'negative control', 'plate']]\n",
    "#positive_controls_df_sc1"
   ]
  },
  {
   "cell_type": "code",
   "execution_count": null,
   "metadata": {
    "ExecuteTime": {
     "end_time": "2020-08-07T18:34:13.151295Z",
     "start_time": "2020-08-07T18:34:13.141298Z"
    }
   },
   "outputs": [],
   "source": [
    "positive_controls_df[['plate','Sample ID']].groupby('plate').count()"
   ]
  },
  {
   "cell_type": "code",
   "execution_count": null,
   "metadata": {
    "ExecuteTime": {
     "end_time": "2020-08-07T18:35:25.885767Z",
     "start_time": "2020-08-07T18:35:25.878770Z"
    }
   },
   "outputs": [],
   "source": [
    "positive_controls_df['Sample ID'].nunique(), positive_controls_df['Sample ID'].count()"
   ]
  },
  {
   "cell_type": "code",
   "execution_count": null,
   "metadata": {
    "ExecuteTime": {
     "end_time": "2020-08-07T18:15:49.883190Z",
     "start_time": "2020-08-07T18:15:49.871189Z"
    }
   },
   "outputs": [],
   "source": [
    "positive_controls_df[['plate','Total vol (ml)']].groupby('plate').sum()"
   ]
  },
  {
   "cell_type": "code",
   "execution_count": null,
   "metadata": {
    "ExecuteTime": {
     "end_time": "2020-08-07T18:13:32.734079Z",
     "start_time": "2020-08-07T18:13:32.731081Z"
    }
   },
   "outputs": [],
   "source": [
    "# ## QC\n",
    "# batch_controls_demog = pd.merge(COVID_controls, batch_controls_repeated[['biobank_id']], how = 'inner')#.drop('Unnamed: 0', axis =1)\n",
    "# batch_controls_demog.head()\n",
    "\n",
    "# for v in ['Race','state']:\n",
    "#     display(get_dist(DF = batch_controls_demog, dist_var = v, group = None, groupnumber = None))"
   ]
  },
  {
   "cell_type": "code",
   "execution_count": null,
   "metadata": {
    "ExecuteTime": {
     "end_time": "2020-08-07T17:51:56.132252Z",
     "start_time": "2020-08-07T17:51:56.127250Z"
    }
   },
   "outputs": [],
   "source": [
    "positive_controls_df['Sample ID'].nunique(), positive_controls_df['Sample ID'].count()"
   ]
  },
  {
   "cell_type": "code",
   "execution_count": null,
   "metadata": {},
   "outputs": [],
   "source": []
  },
  {
   "cell_type": "markdown",
   "metadata": {},
   "source": [
    "### FINAL DELIVERABLE"
   ]
  },
  {
   "cell_type": "code",
   "execution_count": null,
   "metadata": {
    "ExecuteTime": {
     "end_time": "2020-08-07T18:16:00.102117Z",
     "start_time": "2020-08-07T18:16:00.092115Z"
    }
   },
   "outputs": [],
   "source": [
    "Serology_batch_final = final_deliverable(samples_groups_optimized, batch3_negControls, positive_controls_df.drop('Total vol (ml)', axis = 1))"
   ]
  },
  {
   "cell_type": "code",
   "execution_count": null,
   "metadata": {
    "ExecuteTime": {
     "end_time": "2020-08-07T18:16:00.290687Z",
     "start_time": "2020-08-07T18:16:00.272686Z"
    }
   },
   "outputs": [],
   "source": [
    "Serology_batch_final .sort_values('plate')"
   ]
  },
  {
   "cell_type": "code",
   "execution_count": null,
   "metadata": {
    "ExecuteTime": {
     "end_time": "2020-08-07T18:16:00.497172Z",
     "start_time": "2020-08-07T18:16:00.482175Z"
    }
   },
   "outputs": [],
   "source": [
    "Serology_batch_final[['biobank_id','plate', 'Sample ID']].drop_duplicates().sort_values('plate').groupby('plate').count()"
   ]
  },
  {
   "cell_type": "code",
   "execution_count": null,
   "metadata": {
    "ExecuteTime": {
     "end_time": "2020-08-07T18:16:06.264773Z",
     "start_time": "2020-08-07T18:16:06.234773Z"
    }
   },
   "outputs": [],
   "source": [
    "Mayo_Serology_batch_final = Serology_batch_final.drop(['state', 'participant_id'], axis = 1)\n",
    "Mayo_Serology_batch_final['biobank_id']  = Mayo_Serology_batch_final['biobank_id'].fillna(0)\n",
    "Mayo_Serology_batch_final['biobank_id'] = [int(i) for i in Mayo_Serology_batch_final['biobank_id']]\n",
    "Mayo_Serology_batch_final['biobank_id'] = ['A'+str(i) for i in Mayo_Serology_batch_final['biobank_id']]\n",
    "Mayo_Serology_batch_final.columns = ['DateBloodSampleCollected', 'DateBloodSampleReceived',\n",
    "       'Negative Control', 'Positive Control', 'Positive Control ID', 'Biobank ID','Plate ID']\n",
    "Mayo_Serology_batch_final = Mayo_Serology_batch_final[['Biobank ID','Plate ID', 'DateBloodSampleCollected', 'DateBloodSampleReceived', 'Negative Control', 'Positive Control', 'Positive Control ID']].replace('A0', '')\n",
    "Mayo_Serology_batch_final"
   ]
  },
  {
   "cell_type": "code",
   "execution_count": null,
   "metadata": {
    "ExecuteTime": {
     "end_time": "2020-08-07T18:16:06.477779Z",
     "start_time": "2020-08-07T18:16:06.469776Z"
    }
   },
   "outputs": [],
   "source": [
    "Mayo_Serology_batch_final['Biobank ID'].nunique(), Mayo_Serology_batch_final['Positive Control ID'].nunique(),Mayo_Serology_batch_final[Mayo_Serology_batch_final['Negative Control'] == 'Yes']['Biobank ID'].nunique()"
   ]
  },
  {
   "cell_type": "code",
   "execution_count": null,
   "metadata": {
    "ExecuteTime": {
     "end_time": "2020-08-07T18:16:07.857403Z",
     "start_time": "2020-08-07T18:16:07.849400Z"
    }
   },
   "outputs": [],
   "source": [
    "Serology_batch_final['biobank_id'].nunique(), Serology_batch_final['Sample ID'].nunique(),Serology_batch_final[Mayo_Serology_batch_final['Negative Control'] == 'Yes']['biobank_id'].nunique()"
   ]
  },
  {
   "cell_type": "code",
   "execution_count": null,
   "metadata": {
    "ExecuteTime": {
     "end_time": "2020-08-07T18:16:08.025402Z",
     "start_time": "2020-08-07T18:16:08.013401Z"
    }
   },
   "outputs": [],
   "source": [
    "Serology_batch_final.head()"
   ]
  },
  {
   "cell_type": "code",
   "execution_count": null,
   "metadata": {
    "ExecuteTime": {
     "end_time": "2020-08-07T18:16:08.246407Z",
     "start_time": "2020-08-07T18:16:08.236410Z"
    }
   },
   "outputs": [],
   "source": [
    "Mayo_Serology_batch_final.head()"
   ]
  },
  {
   "cell_type": "code",
   "execution_count": null,
   "metadata": {
    "ExecuteTime": {
     "end_time": "2020-08-07T18:16:09.458145Z",
     "start_time": "2020-08-07T18:16:09.411147Z"
    }
   },
   "outputs": [],
   "source": [
    "save_this_csv(Serology_batch_final, 'DRC_Serology_batch'+str(batch_number))\n",
    "save_this_csv(Mayo_Serology_batch_final, 'Mayo_Serology_batch'+str(batch_number))"
   ]
  },
  {
   "cell_type": "markdown",
   "metadata": {},
   "source": [
    "### 08/07/2020 QC Before Sending to Mayo"
   ]
  },
  {
   "cell_type": "code",
   "execution_count": null,
   "metadata": {
    "ExecuteTime": {
     "end_time": "2020-08-07T18:16:13.365248Z",
     "start_time": "2020-08-07T18:16:13.336246Z"
    },
    "scrolled": true
   },
   "outputs": [],
   "source": [
    "qc_before_sending = pd.read_csv(data_directory+'DRC_Serology_batch3_2020-08-05_19.39.06.csv')\n",
    "qc_before_sending"
   ]
  },
  {
   "cell_type": "code",
   "execution_count": null,
   "metadata": {
    "ExecuteTime": {
     "end_time": "2020-08-07T18:16:13.521251Z",
     "start_time": "2020-08-07T18:16:13.515252Z"
    }
   },
   "outputs": [],
   "source": [
    "qc_before_sending[qc_before_sending['Negative Control'] == 'Yes']['DateBloodSampleCollected'].min()"
   ]
  },
  {
   "cell_type": "code",
   "execution_count": null,
   "metadata": {
    "ExecuteTime": {
     "end_time": "2020-08-07T18:16:13.677255Z",
     "start_time": "2020-08-07T18:16:13.671258Z"
    }
   },
   "outputs": [],
   "source": [
    "qc_before_sending[qc_before_sending['Negative Control'] == 'Yes']['DateBloodSampleCollected'].max()"
   ]
  },
  {
   "cell_type": "code",
   "execution_count": null,
   "metadata": {
    "ExecuteTime": {
     "end_time": "2020-08-07T18:16:14.906568Z",
     "start_time": "2020-08-07T18:16:14.902571Z"
    }
   },
   "outputs": [],
   "source": [
    "qc_before_sending['state'].nunique()"
   ]
  },
  {
   "cell_type": "markdown",
   "metadata": {},
   "source": [
    "# 08/11 Replacing bids with low serums"
   ]
  },
  {
   "cell_type": "markdown",
   "metadata": {},
   "source": [
    "Mine and Samantha said 32 bids samples (not negative controls) have low serums. Sam said evenif i checked against the list of available serums they sent, there is a second level of check that is needed.\n",
    "So I sent her the replacement samples below for her to check"
   ]
  },
  {
   "cell_type": "code",
   "execution_count": null,
   "metadata": {
    "ExecuteTime": {
     "end_time": "2020-08-11T17:09:15.282343Z",
     "start_time": "2020-08-11T17:09:15.273344Z"
    }
   },
   "outputs": [],
   "source": [
    "batch3_lowSerums_pids = pd.read_csv(data_directory + 'batch3_lowSerums_pids.csv')\n",
    "batch3 = pd.read_csv('../DATA\\DSC2\\Mayo_Serology_batch3_2020-08-07_13.16.09.csv')\n",
    "batch3_lowSerums_pids.head()"
   ]
  },
  {
   "cell_type": "code",
   "execution_count": null,
   "metadata": {
    "ExecuteTime": {
     "end_time": "2020-08-11T17:31:03.585544Z",
     "start_time": "2020-08-11T17:31:03.366531Z"
    }
   },
   "outputs": [],
   "source": [
    "\n",
    "batch3 = batch3[batch3['Biobank ID'].str.startswith('A')]\n",
    "batch3_lowSerums_pids = batch3.merge(batch3_lowSerums_pids.rename(columns = {'Biobank Id':'Biobank ID'}))\n",
    "batch3_lowSerums_pids = transform_manifest(batch3_lowSerums_pids, 'Biobank ID', 'test samples')\n",
    "batch3 = transform_manifest(batch3, 'Biobank ID', 'test samples')"
   ]
  },
  {
   "cell_type": "code",
   "execution_count": null,
   "metadata": {
    "ExecuteTime": {
     "end_time": "2020-08-11T17:31:18.616120Z",
     "start_time": "2020-08-11T17:31:18.602119Z"
    }
   },
   "outputs": [],
   "source": [
    "#combine batch 1, 2 and batch3 low samples\n",
    "batch1and2and3_testsamples_bids = batch1and2_testsamples_bids.merge(batch3[['biobank_id']], 'outer').drop_duplicates()\n",
    "batch1and2and3_testsamples_bids.shape"
   ]
  },
  {
   "cell_type": "code",
   "execution_count": null,
   "metadata": {
    "ExecuteTime": {
     "end_time": "2020-08-11T19:16:10.117345Z",
     "start_time": "2020-08-11T19:16:10.030335Z"
    }
   },
   "outputs": [],
   "source": [
    "master_list2 = master_list.merge(available_serums_bids[['biobank_id']])"
   ]
  },
  {
   "cell_type": "code",
   "execution_count": null,
   "metadata": {
    "ExecuteTime": {
     "end_time": "2020-08-11T17:31:32.492493Z",
     "start_time": "2020-08-11T17:31:32.330486Z"
    }
   },
   "outputs": [],
   "source": [
    "# bull batch for replacement samples\n",
    "batch3_replacement_serums = pull_batch(master_ls = master_list2, batch_size = 32, batch_number= 3, previous_batch = batch1and2and3_testsamples_bids[['biobank_id']])\n",
    "batch3_replacement_serums#.head()"
   ]
  },
  {
   "cell_type": "code",
   "execution_count": null,
   "metadata": {
    "ExecuteTime": {
     "end_time": "2020-08-11T17:31:54.177699Z",
     "start_time": "2020-08-11T17:31:54.155703Z"
    }
   },
   "outputs": [],
   "source": [
    "#making sure not in batch 3\n",
    "\n",
    "pd.merge(batch3_replacement_serums, batch3)"
   ]
  },
  {
   "cell_type": "code",
   "execution_count": null,
   "metadata": {
    "ExecuteTime": {
     "end_time": "2020-08-11T19:56:33.874453Z",
     "start_time": "2020-08-11T19:56:33.863448Z"
    }
   },
   "outputs": [],
   "source": [
    "batch3_replacement_serums"
   ]
  },
  {
   "cell_type": "code",
   "execution_count": null,
   "metadata": {
    "ExecuteTime": {
     "end_time": "2020-08-11T19:57:31.637294Z",
     "start_time": "2020-08-11T19:57:31.635294Z"
    }
   },
   "outputs": [],
   "source": [
    "#batch3_replacement_serums2 = transform_manifest(batch3_replacement_serums, 'Biobank ID', 'test samples')"
   ]
  },
  {
   "cell_type": "markdown",
   "metadata": {},
   "source": [
    "## Assign same plates to replacement serums"
   ]
  },
  {
   "cell_type": "code",
   "execution_count": null,
   "metadata": {
    "ExecuteTime": {
     "end_time": "2020-08-11T20:24:51.364386Z",
     "start_time": "2020-08-11T20:24:51.348382Z"
    }
   },
   "outputs": [],
   "source": [
    "prev_batch3 = pd.read_csv('../DATA\\DSC2\\Mayo_Serology_batch3_2020-08-07_13.16.09.csv')\n",
    "batch3_replacement_serums = pd.read_csv(data_directory+'batch3_replacement_serums.csv').drop('Plate ID', axis = 1)\n",
    "batch3_lowSerums_pids = pd.read_csv(data_directory + 'batch3_lowSerums_pids.csv').rename(columns = {'Biobank Id':'Biobank ID'})\n",
    "#batch3_lowSerums_pids, batch3_replacement_serums"
   ]
  },
  {
   "cell_type": "code",
   "execution_count": null,
   "metadata": {
    "ExecuteTime": {
     "end_time": "2020-08-11T20:24:55.076918Z",
     "start_time": "2020-08-11T20:24:55.057920Z"
    }
   },
   "outputs": [],
   "source": [
    "batch3_lowSerums_plates = batch3_lowSerums_pids.merge(prev_batch3).rename(columns = {'Biobank ID':'Previous BID'}).drop('DateBloodSampleCollected', axis = 1)\n",
    "batch3_lowSerums_plates"
   ]
  },
  {
   "cell_type": "code",
   "execution_count": null,
   "metadata": {
    "ExecuteTime": {
     "end_time": "2020-08-11T20:24:57.376202Z",
     "start_time": "2020-08-11T20:24:57.364202Z"
    }
   },
   "outputs": [],
   "source": [
    "batch3_replacement_serums.reset_index()"
   ]
  },
  {
   "cell_type": "code",
   "execution_count": null,
   "metadata": {
    "ExecuteTime": {
     "end_time": "2020-08-11T20:25:01.556284Z",
     "start_time": "2020-08-11T20:25:01.535284Z"
    }
   },
   "outputs": [],
   "source": [
    "batch3_replacement_serums_plates = batch3_replacement_serums.reset_index().merge(batch3_lowSerums_plates.reset_index()).drop('index', axis = 1)\n",
    "batch3_replacement_serums_plates#[['biobank_id','Plate ID']]"
   ]
  },
  {
   "cell_type": "code",
   "execution_count": null,
   "metadata": {
    "ExecuteTime": {
     "end_time": "2020-08-11T20:30:05.242990Z",
     "start_time": "2020-08-11T20:30:05.236985Z"
    }
   },
   "outputs": [],
   "source": [
    "save_this_csv(batch3_replacement_serums_plates, 'batch3_replacement_serums')"
   ]
  },
  {
   "cell_type": "markdown",
   "metadata": {},
   "source": [
    "Samantha confirmed that the list of 32 provided to Mayo have available samples."
   ]
  },
  {
   "cell_type": "markdown",
   "metadata": {},
   "source": [
    "## Removing/repalcing low volumes in previous batch3 and save new batch3"
   ]
  },
  {
   "cell_type": "code",
   "execution_count": null,
   "metadata": {
    "ExecuteTime": {
     "end_time": "2020-08-11T20:26:22.009777Z",
     "start_time": "2020-08-11T20:26:21.999775Z"
    }
   },
   "outputs": [],
   "source": [
    "#batch3_lowSerums = pd.read_csv(data_directory + 'batch3_lowSerums_pids.csv')\n",
    "new_batch3 = pd.DataFrame((set(prev_batch3['Biobank ID']) - set(batch3_lowSerums['Biobank Id'])), columns = ['Biobank ID'])\n",
    "new_batch3"
   ]
  },
  {
   "cell_type": "code",
   "execution_count": null,
   "metadata": {
    "ExecuteTime": {
     "end_time": "2020-08-11T20:26:25.334090Z",
     "start_time": "2020-08-11T20:26:25.329090Z"
    }
   },
   "outputs": [],
   "source": [
    "new_batch3['Biobank ID'].nunique()"
   ]
  },
  {
   "cell_type": "code",
   "execution_count": null,
   "metadata": {
    "ExecuteTime": {
     "end_time": "2020-08-11T20:26:25.489095Z",
     "start_time": "2020-08-11T20:26:25.479091Z"
    }
   },
   "outputs": [],
   "source": [
    "new_batch3 = prev_batch3.merge(new_batch3)\n",
    "new_batch3['Biobank ID'].nunique()"
   ]
  },
  {
   "cell_type": "code",
   "execution_count": null,
   "metadata": {
    "ExecuteTime": {
     "end_time": "2020-08-11T20:27:06.550928Z",
     "start_time": "2020-08-11T20:27:06.537924Z"
    }
   },
   "outputs": [],
   "source": [
    "new_batch3"
   ]
  },
  {
   "cell_type": "code",
   "execution_count": null,
   "metadata": {
    "ExecuteTime": {
     "end_time": "2020-08-11T20:58:57.337650Z",
     "start_time": "2020-08-11T20:58:57.331646Z"
    }
   },
   "outputs": [],
   "source": [
    "new_batch3_1 = pd.concat([new_batch3, batch3_replacement_serums_plates.drop('Previous BID', axis = 1)])"
   ]
  },
  {
   "cell_type": "code",
   "execution_count": null,
   "metadata": {
    "ExecuteTime": {
     "end_time": "2020-08-11T20:59:02.778715Z",
     "start_time": "2020-08-11T20:59:02.766716Z"
    },
    "scrolled": true
   },
   "outputs": [],
   "source": [
    "new_batch3_1[['Biobank ID','Plate ID']].groupby('Plate ID').count().sort_values('Biobank ID')"
   ]
  },
  {
   "cell_type": "code",
   "execution_count": null,
   "metadata": {
    "ExecuteTime": {
     "end_time": "2020-08-11T20:49:38.959785Z",
     "start_time": "2020-08-11T20:49:38.951784Z"
    }
   },
   "outputs": [],
   "source": [
    "new_batch3_1[new_batch3_1['Negative Control'] == 'Yes']['Biobank ID'].nunique()"
   ]
  },
  {
   "cell_type": "code",
   "execution_count": null,
   "metadata": {
    "ExecuteTime": {
     "end_time": "2020-08-11T20:49:51.602083Z",
     "start_time": "2020-08-11T20:49:51.597082Z"
    }
   },
   "outputs": [],
   "source": [
    "new_batch3_1[new_batch3_1['Positive Control'] == 'Yes']['Biobank ID'].nunique()"
   ]
  },
  {
   "cell_type": "code",
   "execution_count": null,
   "metadata": {
    "ExecuteTime": {
     "end_time": "2020-08-11T20:51:06.411484Z",
     "start_time": "2020-08-11T20:51:06.402484Z"
    }
   },
   "outputs": [],
   "source": [
    "new_batch3_1[(new_batch3_1['Positive Control'] == 'No') & (new_batch3_1['Negative Control'] == 'No')]['Biobank ID'].nunique()"
   ]
  },
  {
   "cell_type": "code",
   "execution_count": null,
   "metadata": {
    "ExecuteTime": {
     "end_time": "2020-08-11T20:59:09.443800Z",
     "start_time": "2020-08-11T20:59:09.429797Z"
    }
   },
   "outputs": [],
   "source": [
    "save_this_csv(new_batch3_1, 'Mayo_batch3_replaced_serums')"
   ]
  },
  {
   "cell_type": "markdown",
   "metadata": {},
   "source": [
    "## Removing low samples in previous batch 3 from Master List\n",
    "Also keeping only those with available serums fromt the list that Mine sent on June 30"
   ]
  },
  {
   "cell_type": "code",
   "execution_count": null,
   "metadata": {
    "ExecuteTime": {
     "end_time": "2020-08-11T19:16:25.607128Z",
     "start_time": "2020-08-11T19:16:25.516122Z"
    }
   },
   "outputs": [],
   "source": [
    "master_list2 = master_list.merge(available_serums_bids[['biobank_id']])"
   ]
  },
  {
   "cell_type": "code",
   "execution_count": null,
   "metadata": {
    "ExecuteTime": {
     "end_time": "2020-08-11T19:16:25.812137Z",
     "start_time": "2020-08-11T19:16:25.703140Z"
    }
   },
   "outputs": [],
   "source": [
    "batch3_replacement_serums_bids = transform_manifest(batch3_replacement_serums, 'Biobank ID', 'test samples')[['biobank_id']]\n",
    "\n",
    "master_list3 = pd.DataFrame((set(master_list2.biobank_id) - set(batch3_replacement_serums_bids.biobank_id)),\n",
    "                            columns= ['biobank_id'])\n",
    "master_list3"
   ]
  },
  {
   "cell_type": "code",
   "execution_count": null,
   "metadata": {
    "ExecuteTime": {
     "end_time": "2020-08-11T19:16:26.068146Z",
     "start_time": "2020-08-11T19:16:25.887138Z"
    }
   },
   "outputs": [],
   "source": [
    "master_list3 = master_list3.merge(master_list2)\n",
    "master_list3.head(3)"
   ]
  },
  {
   "cell_type": "code",
   "execution_count": null,
   "metadata": {
    "ExecuteTime": {
     "end_time": "2020-08-11T19:16:26.077154Z",
     "start_time": "2020-08-11T19:16:26.069146Z"
    }
   },
   "outputs": [],
   "source": [
    "master_list2.biobank_id.nunique(), master_list3.biobank_id.nunique()#shape#shape"
   ]
  },
  {
   "cell_type": "code",
   "execution_count": null,
   "metadata": {
    "ExecuteTime": {
     "end_time": "2020-08-11T19:19:14.424065Z",
     "start_time": "2020-08-11T19:19:13.419013Z"
    }
   },
   "outputs": [],
   "source": [
    "save_this_csv(master_list3, desired_filename= 'Antobodies_tests_Master_List_afterBatch3')"
   ]
  },
  {
   "cell_type": "code",
   "execution_count": null,
   "metadata": {},
   "outputs": [],
   "source": []
  }
 ],
 "metadata": {
  "kernelspec": {
   "display_name": "Python 3 (ipykernel)",
   "language": "python",
   "name": "python3"
  },
  "language_info": {
   "codemirror_mode": {
    "name": "ipython",
    "version": 3
   },
   "file_extension": ".py",
   "mimetype": "text/x-python",
   "name": "python",
   "nbconvert_exporter": "python",
   "pygments_lexer": "ipython3",
   "version": "3.9.12"
  },
  "nbTranslate": {
   "displayLangs": [
    "*"
   ],
   "hotkey": "alt-t",
   "langInMainMenu": true,
   "sourceLang": "en",
   "targetLang": "fr",
   "useGoogleTranslate": true
  },
  "toc": {
   "base_numbering": 1,
   "nav_menu": {},
   "number_sections": true,
   "sideBar": true,
   "skip_h1_title": false,
   "title_cell": "Table of Contents",
   "title_sidebar": "Contents",
   "toc_cell": true,
   "toc_position": {
    "height": "calc(100% - 180px)",
    "left": "10px",
    "top": "150px",
    "width": "383.963px"
   },
   "toc_section_display": true,
   "toc_window_display": true
  }
 },
 "nbformat": 4,
 "nbformat_minor": 4
}
