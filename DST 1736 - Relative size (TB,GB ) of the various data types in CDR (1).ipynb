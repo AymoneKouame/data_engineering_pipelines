{
 "cells": [
  {
   "cell_type": "markdown",
   "id": "0022d8b5",
   "metadata": {},
   "source": [
    "# Set Up"
   ]
  },
  {
   "cell_type": "code",
   "execution_count": null,
   "id": "38be2061",
   "metadata": {},
   "outputs": [],
   "source": [
    "import pandas as pd\n",
    "import os"
   ]
  },
  {
   "cell_type": "code",
   "execution_count": null,
   "id": "138596a7",
   "metadata": {},
   "outputs": [],
   "source": [
    "#dataset = 'aou-res-curation-output-prod.C2022Q4R11'\n",
    "dataset = 'aou-res-curation-output-prod.C2024Q3R4'\n",
    "version = 'v8'"
   ]
  },
  {
   "cell_type": "code",
   "execution_count": null,
   "id": "54b02705",
   "metadata": {},
   "outputs": [],
   "source": [
    "pd.read_gbq(f\"\"\"SELECT DISTINCT * FROM `{dataset}`.__TABLES__ LIMIT 1\"\"\")"
   ]
  },
  {
   "cell_type": "markdown",
   "id": "68a58d0f",
   "metadata": {},
   "source": [
    "## get size for tables and estimate size per row"
   ]
  },
  {
   "cell_type": "code",
   "execution_count": null,
   "id": "7878d2be",
   "metadata": {},
   "outputs": [],
   "source": [
    "pd.read_gbq(f\"\"\"SELECT table_id as table_name\n",
    "FROM `{dataset}`.__TABLES__\n",
    "WHERE table_id LIKE '%era%' or table_id like '%period%'\n",
    " \"\"\")"
   ]
  },
  {
   "cell_type": "code",
   "execution_count": null,
   "id": "2c15145c",
   "metadata": {},
   "outputs": [],
   "source": [
    "# Get the row count, and size for each v7 table\n",
    "tables_size = pd.read_gbq(f\"\"\"SELECT table_id as table_name\n",
    "                                    , CAST(row_count AS INTEGER) as total_row_count\n",
    "                                    , CAST(size_bytes AS INTEGER) as total_size_bytes\n",
    "                                    , CAST(size_bytes/row_count  AS NUMERIC) as byte_per_row\n",
    "                                    , CAST(size_bytes/1000000000 AS NUMERIC) as total_size_GB\n",
    "                                FROM `{dataset}`.__TABLES__\n",
    "                                WHERE row_count >0\n",
    "                                AND LOWER(TABLE_ID) NOT LIKE '%prep_%'\n",
    "                                AND LOWER(TABLE_ID) NOT LIKE '%ds_%'\n",
    "                                AND LOWER(TABLE_ID) NOT LIKE '%cb_%' \n",
    "                                AND LOWER(TABLE_ID) NOT LIKE '%achilles_%'\n",
    "                                AND LOWER(TABLE_ID) NOT LIKE '%_cdr%'\n",
    "                                AND TABLE_ID != 'drug_strength' #it is a concept table\n",
    "                                \"\"\")"
   ]
  },
  {
   "cell_type": "code",
   "execution_count": null,
   "id": "4ca4dc83",
   "metadata": {
    "scrolled": true
   },
   "outputs": [],
   "source": [
    "tables_size"
   ]
  },
  {
   "cell_type": "code",
   "execution_count": null,
   "id": "bf5a8795",
   "metadata": {},
   "outputs": [],
   "source": [
    "all_tables = sorted(tables_size.table_name.unique())\n",
    "all_tables"
   ]
  },
  {
   "cell_type": "markdown",
   "id": "45cbc4fb",
   "metadata": {},
   "source": [
    "## Function - EST total data  size"
   ]
  },
  {
   "cell_type": "code",
   "execution_count": null,
   "id": "79fae13a",
   "metadata": {},
   "outputs": [],
   "source": [
    "def size_estimator(row_count_df, data_type, tables_size= tables_size):\n",
    "    tbs_row_counts = row_count_df.merge(tables_size[['table_name','byte_per_row']].rename(columns = {'table_name':'data_table'})) \n",
    "    tbs_row_counts['est_size_byte'] = round((tbs_row_counts['data_row_count']*tbs_row_counts['byte_per_row'].astype('float')).astype('int64'))\n",
    "    tbs_row_counts['est_size_GB'] = round((tbs_row_counts['est_size_byte']/1000000000).astype('float64'))\n",
    "    \n",
    "    data_size =tbs_row_counts.drop('data_table', axis = 1)\n",
    "    data_size['Data Type'] = data_type\n",
    "    data_size['Tables'] = ', '.join(tbs_row_counts['data_table'].unique())\n",
    "    data_size = data_size.groupby(['Data Type', 'Tables']).sum()\n",
    "    display(data_size)\n",
    "    print('returning data_tables_sizes, grouped_data_size')\n",
    "    return tbs_row_counts, data_size"
   ]
  },
  {
   "cell_type": "markdown",
   "id": "697e1fc2",
   "metadata": {},
   "source": [
    "-------------"
   ]
  },
  {
   "cell_type": "markdown",
   "id": "8473a2b0",
   "metadata": {},
   "source": [
    "# Query row counts per data type"
   ]
  },
  {
   "cell_type": "markdown",
   "id": "a111b07e",
   "metadata": {},
   "source": [
    "## EHR"
   ]
  },
  {
   "cell_type": "code",
   "execution_count": null,
   "id": "fd68642f",
   "metadata": {},
   "outputs": [],
   "source": [
    "EHR_ext_tables = list(sorted(set([i for i in all_tables if '_ext' in i and i not in ['person_ext','survey_conduct_ext']])))         "
   ]
  },
  {
   "cell_type": "code",
   "execution_count": null,
   "id": "d84cd1ba",
   "metadata": {},
   "outputs": [],
   "source": [
    "#list(sorted(set([i for i in all_tables if '_ext' not in i and i not in EHR_ext_tables+EHR_tables])))"
   ]
  },
  {
   "cell_type": "code",
   "execution_count": null,
   "id": "dad429c1",
   "metadata": {},
   "outputs": [],
   "source": [
    "add_EHR_table = ['death', 'condition_era', 'drug_era', 'observation_period']\n",
    "EHR_tables = list(sorted(set([i.replace('_ext','') for i in EHR_ext_tables]+add_EHR_table)))"
   ]
  },
  {
   "cell_type": "code",
   "execution_count": null,
   "id": "1894e9cb",
   "metadata": {},
   "outputs": [],
   "source": [
    "ehr_ext_tbs = tuple(EHR_ext_tables)\n",
    "ehr_ext_schemas = pd.read_gbq(f\"\"\"SELECT DISTINCT table_name, column_name\n",
    "                                FROM `{dataset}`.INFORMATION_SCHEMA.COLUMNS\n",
    "                                WHERE table_name in {ehr_ext_tbs}\n",
    "                                and column_name != 'src_id'\n",
    "                               \n",
    "                                \"\"\")"
   ]
  },
  {
   "cell_type": "code",
   "execution_count": null,
   "id": "5887331a",
   "metadata": {},
   "outputs": [],
   "source": [
    "ehr_tb0 = [t for t in EHR_tables if t not in add_EHR_table][0]\n",
    "ehr_ext_col0 = ehr_ext_schemas[ehr_ext_schemas.table_name == ehr_tb0+'_ext'].column_name.values[0]\n",
    "QUERY = f\"\"\"SELECT '{ehr_tb0}' AS data_table\n",
    "        , count(distinct person_id) as unique_participants_count, count(*) as data_row_count\n",
    "        FROM `{dataset}.{ehr_tb0}`\n",
    "        JOIN `{dataset}.{ehr_tb0}_ext` USING({ehr_ext_col0})\n",
    "        WHERE src_id LIKE '%EHR%' group by 1 \n",
    "        \n",
    "        UNION ALL\n",
    "        SELECT 'death' AS data_table\n",
    "        , count(distinct person_id) as unique_participants_count, count(*) as data_row_count\n",
    "        FROM `{dataset}.death`\n",
    "        \n",
    "        UNION ALL\n",
    "        SELECT 'condition_era' AS data_table\n",
    "        , count(distinct person_id) as unique_participants_count, count(*) as data_row_count\n",
    "        FROM `{dataset}.condition_era`\n",
    "        ##JOIN `{dataset}.condition_era_ext` USING(condition_era_id)\n",
    "        ##WHERE src_id LIKE '%EHR%' group by 1 \n",
    "        \n",
    "        UNION ALL\n",
    "        SELECT 'drug_era' AS data_table\n",
    "        , count(distinct person_id) as unique_participants_count, count(*) as data_row_count\n",
    "        FROM `{dataset}.drug_era`\n",
    "        ###JOIN `{dataset}.drug_era_ext` USING(drug_era_id)\n",
    "        ###WHERE src_id LIKE '%EHR%' group by 1 \n",
    "        \n",
    "        UNION ALL\n",
    "        SELECT 'observation_period' AS data_table\n",
    "        , count(distinct person_id) as unique_participants_count, count(*) as data_row_count\n",
    "        FROM `{dataset}.observation_period`\n",
    "        ##JOIN `{dataset}.observation_period_ext` USING(observation_period_id)\n",
    "        ##WHERE src_id LIKE '%EHR%' group by 1 \n",
    "        \"\"\"\n",
    "\n",
    "for ehr_tb in [t for t in EHR_tables if t not in [ehr_tb0]+add_EHR_table]:\n",
    "    ehr_ext_col = ehr_ext_schemas[ehr_ext_schemas.table_name == ehr_tb+'_ext'].column_name.values[0]\n",
    "    query = f'''\n",
    "        UNION ALL\n",
    "        SELECT '{ehr_tb}' AS data_table\n",
    "        , count(distinct person_id) as unique_participants_count, count(*) as data_row_count\n",
    "        FROM `{dataset}.{ehr_tb}`\n",
    "        JOIN `{dataset}.{ehr_tb}_ext` USING({ehr_ext_col})\n",
    "        WHERE LOWER(src_id) LIKE '%ehr%' group by 1 '''\n",
    "    \n",
    "    QUERY = QUERY+query"
   ]
  },
  {
   "cell_type": "code",
   "execution_count": null,
   "id": "8f57d60d",
   "metadata": {},
   "outputs": [],
   "source": [
    "ehr_tbs_row_counts = pd.read_gbq(QUERY)"
   ]
  },
  {
   "cell_type": "code",
   "execution_count": null,
   "id": "1e18456f",
   "metadata": {},
   "outputs": [],
   "source": [
    "ehr_tbs_row_counts1, ehr_data_size = size_estimator(ehr_tbs_row_counts, data_type = 'EHR')"
   ]
  },
  {
   "cell_type": "code",
   "execution_count": null,
   "id": "e4dc244c",
   "metadata": {},
   "outputs": [],
   "source": [
    "ehr_data_size"
   ]
  },
  {
   "cell_type": "code",
   "execution_count": null,
   "id": "335e277c",
   "metadata": {},
   "outputs": [],
   "source": [
    "ehr_tbs_row_counts1"
   ]
  },
  {
   "cell_type": "code",
   "execution_count": null,
   "id": "d6ce8a3b",
   "metadata": {},
   "outputs": [],
   "source": [
    "ehr_tbs_row_counts1['Data Type'] = 'EHR'\n",
    "ehr_tbs_row_counts1 = ehr_tbs_row_counts1.set_index(['Data Type','data_table'])\n",
    "ehr_tbs_row_counts1"
   ]
  },
  {
   "cell_type": "code",
   "execution_count": null,
   "id": "9462f234",
   "metadata": {},
   "outputs": [],
   "source": [
    "#check if est makes sense\n",
    "ehr_tbs_row_counts1.merge(tables_size.rename(columns = {'table_name':'data_table'})) "
   ]
  },
  {
   "cell_type": "markdown",
   "id": "c067da14",
   "metadata": {},
   "source": [
    "## Survey"
   ]
  },
  {
   "cell_type": "code",
   "execution_count": null,
   "id": "ad05144e",
   "metadata": {},
   "outputs": [],
   "source": [
    "survey_tb = 'observation'"
   ]
  },
  {
   "cell_type": "code",
   "execution_count": null,
   "id": "900ff335",
   "metadata": {
    "scrolled": true
   },
   "outputs": [],
   "source": [
    "pd.read_gbq(f'''SELECT distinct src_id FROM `{dataset}.{survey_tb}_ext`''')"
   ]
  },
  {
   "cell_type": "code",
   "execution_count": null,
   "id": "a751e079",
   "metadata": {},
   "outputs": [],
   "source": [
    "s_query = f'''\n",
    "        SELECT '{survey_tb}' AS data_table\n",
    "        , count(distinct person_id) as unique_participants_count, count(*) as data_row_count\n",
    "\n",
    "        FROM `{dataset}.{survey_tb}`\n",
    "        JOIN `{dataset}.{survey_tb}_ext` USING(observation_id)\n",
    "        WHERE src_id NOT LIKE '%EHR%' group by 1 \n",
    "        \n",
    "        \n",
    "        \n",
    "        '''"
   ]
  },
  {
   "cell_type": "code",
   "execution_count": null,
   "id": "21a04a53",
   "metadata": {},
   "outputs": [],
   "source": [
    "survey_tbs_row_counts = pd.read_gbq(s_query)"
   ]
  },
  {
   "cell_type": "code",
   "execution_count": null,
   "id": "67eda844",
   "metadata": {},
   "outputs": [],
   "source": [
    "survey_tbs_row_counts1, s_data_size = size_estimator(survey_tbs_row_counts, data_type = 'Survey')"
   ]
  },
  {
   "cell_type": "code",
   "execution_count": null,
   "id": "1dbb822c",
   "metadata": {},
   "outputs": [],
   "source": [
    "survey_tbs_row_counts1.merge(tables_size.rename(columns = {'table_name':'data_table'})) "
   ]
  },
  {
   "cell_type": "code",
   "execution_count": null,
   "id": "08bca9dd",
   "metadata": {},
   "outputs": [],
   "source": [
    "survey_tbs_row_counts1['Data Type'] = 'Survey'\n",
    "survey_tbs_row_counts1 = survey_tbs_row_counts1.set_index(['Data Type','data_table'])\n",
    "survey_tbs_row_counts1"
   ]
  },
  {
   "cell_type": "markdown",
   "id": "6f700cab",
   "metadata": {},
   "source": [
    "## Fitbit"
   ]
  },
  {
   "cell_type": "code",
   "execution_count": null,
   "id": "d1b8e5e9",
   "metadata": {},
   "outputs": [],
   "source": [
    "fitbit_tables = ['heart_rate_minute_level', 'heart_rate_summary' ,'sleep_level','sleep_daily_summary'\n",
    "                 ,'activity_summary','steps_intraday', 'device']\n",
    "fitbit_tables"
   ]
  },
  {
   "cell_type": "code",
   "execution_count": null,
   "id": "b1b23d5f",
   "metadata": {},
   "outputs": [],
   "source": [
    "fb_tb0 = fitbit_tables[0]\n",
    "QUERY = f\"\"\"\n",
    "        SELECT '{fb_tb0}' AS data_table\n",
    "        , count(distinct person_id) as unique_participants_count, count(*) as data_row_count\n",
    "        FROM `{dataset}.{fb_tb0}` group by 1      \n",
    "        \"\"\"          \n",
    "\n",
    "for fb_tb in [t for t in fitbit_tables if t not in [fb_tb0]]:\n",
    "    query = f'''\n",
    "        UNION ALL\n",
    "        SELECT '{fb_tb}' AS data_table\n",
    "        , count(distinct person_id) as unique_participants_count, count(*) as data_row_count\n",
    "        FROM `{dataset}.{fb_tb}` group by 1 '''\n",
    "    \n",
    "    QUERY = QUERY+query"
   ]
  },
  {
   "cell_type": "code",
   "execution_count": null,
   "id": "8be8f064",
   "metadata": {},
   "outputs": [],
   "source": [
    "fb_tbs_row_counts = pd.read_gbq(QUERY)"
   ]
  },
  {
   "cell_type": "code",
   "execution_count": null,
   "id": "0f156e4b",
   "metadata": {},
   "outputs": [],
   "source": [
    "fb_tbs_row_counts1, fb_data_size = size_estimator(fb_tbs_row_counts, data_type = 'Fitbit')"
   ]
  },
  {
   "cell_type": "code",
   "execution_count": null,
   "id": "efb56853",
   "metadata": {},
   "outputs": [],
   "source": [
    "fb_tbs_row_counts1.merge(tables_size.rename(columns = {'table_name':'data_table'})) "
   ]
  },
  {
   "cell_type": "code",
   "execution_count": null,
   "id": "cc222905",
   "metadata": {},
   "outputs": [],
   "source": [
    "fb_tbs_row_counts1.columns"
   ]
  },
  {
   "cell_type": "code",
   "execution_count": null,
   "id": "b12cb869",
   "metadata": {},
   "outputs": [],
   "source": [
    "fb_tbs_row_counts1['Data Type'] = 'Fitbit'\n",
    "fb_tbs_row_counts1 = fb_tbs_row_counts1.set_index(['Data Type','data_table'])\n",
    "fb_tbs_row_counts1"
   ]
  },
  {
   "cell_type": "code",
   "execution_count": null,
   "id": "e9e15202",
   "metadata": {},
   "outputs": [],
   "source": [
    "display(pd.read_gbq(f'''SELECT count(distinct person_id) n\n",
    "        FROM (SELECT DISTINCT person_id FROM `{dataset}.device`)\n",
    "        FULL OUTER JOIN (SELECT DISTINCT person_id FROM `{dataset}.cb_search_person` WHERE has_fitbit =1) using(person_id)\n",
    "        '''))"
   ]
  },
  {
   "cell_type": "markdown",
   "id": "3103e0cb",
   "metadata": {},
   "source": [
    "## Physical Measurement"
   ]
  },
  {
   "cell_type": "code",
   "execution_count": null,
   "id": "860e58b6",
   "metadata": {},
   "outputs": [],
   "source": [
    "pm_tb = 'measurement'\n",
    "pm_query = f'''\n",
    "        SELECT '{pm_tb}' AS data_table\n",
    "        , count(distinct person_id) as unique_participants_count, count(*) as data_row_count\n",
    "        FROM `{dataset}.{pm_tb}`\n",
    "        JOIN `{dataset}.{pm_tb}_ext` USING(measurement_id)\n",
    "        ###WHERE LOWER(src_id) LIKE '%ppi%' \n",
    "        WHERE src_id NOT LIKE '%EHR%' group by 1 '''\n",
    "\n",
    "pm_tbs_row_counts = pd.read_gbq(pm_query)"
   ]
  },
  {
   "cell_type": "code",
   "execution_count": null,
   "id": "f7b4050b",
   "metadata": {},
   "outputs": [],
   "source": [
    "pm_tbs_row_counts1, pm_data_size = size_estimator(pm_tbs_row_counts, data_type = 'Physical Measurements')"
   ]
  },
  {
   "cell_type": "code",
   "execution_count": null,
   "id": "6f754f9c",
   "metadata": {},
   "outputs": [],
   "source": [
    "pm_tbs_row_counts1.merge(tables_size.rename(columns = {'table_name':'data_table'})) "
   ]
  },
  {
   "cell_type": "code",
   "execution_count": null,
   "id": "bdfc6eda",
   "metadata": {},
   "outputs": [],
   "source": [
    "pm_tbs_row_counts1['Data Type'] = 'Physical Measurements'\n",
    "pm_tbs_row_counts1 = pm_tbs_row_counts1.set_index(['Data Type','data_table'])\n",
    "pm_tbs_row_counts1"
   ]
  },
  {
   "cell_type": "markdown",
   "id": "9b6d2aa0",
   "metadata": {},
   "source": [
    "# Final DF"
   ]
  },
  {
   "cell_type": "code",
   "execution_count": null,
   "id": "e00e8066",
   "metadata": {},
   "outputs": [],
   "source": [
    "filename = f'CDR{version}_data_types_sizes.xlsx'\n",
    "writer = pd.ExcelWriter(filename)"
   ]
  },
  {
   "cell_type": "code",
   "execution_count": null,
   "id": "305d621f",
   "metadata": {},
   "outputs": [],
   "source": [
    "data_size_df = pd.concat([ehr_data_size, s_data_size, fb_data_size, pm_data_size])\n",
    "data_size_df"
   ]
  },
  {
   "cell_type": "code",
   "execution_count": null,
   "id": "066f30c2",
   "metadata": {},
   "outputs": [],
   "source": [
    "display(pd.read_gbq(f'''SELECT count(distinct person_id) n_ehr\n",
    "        FROM `{dataset}.cb_search_person` WHERE has_ehr_data = 1  '''))\n",
    "\n",
    "display(pd.read_gbq(f'''SELECT count(distinct person_id) n_fitbit\n",
    "        FROM `{dataset}.cb_search_person` WHERE has_fitbit = 1  '''))\n",
    "\n",
    "display(pd.read_gbq(f'''SELECT count(distinct person_id) n_pm\n",
    "        FROM `{dataset}.cb_search_person` WHERE has_physical_measurement_data = 1  '''))\n",
    "\n",
    "display(pd.read_gbq(f'''SELECT count(distinct person_id) n_ppi\n",
    "        FROM `{dataset}.cb_search_person` WHERE has_ppi_survey_data = 1  '''))"
   ]
  },
  {
   "cell_type": "code",
   "execution_count": null,
   "id": "1b6b6246",
   "metadata": {},
   "outputs": [],
   "source": [
    "data_size_df.to_excel(writer, 'By Data Type')"
   ]
  },
  {
   "cell_type": "code",
   "execution_count": null,
   "id": "df9d67c8",
   "metadata": {
    "scrolled": true
   },
   "outputs": [],
   "source": [
    "data_table_size_df = pd.concat([ehr_tbs_row_counts1, survey_tbs_row_counts1, fb_tbs_row_counts1, pm_tbs_row_counts1]).drop('byte_per_row', axis = 1)\n",
    "data_table_size_df"
   ]
  },
  {
   "cell_type": "code",
   "execution_count": null,
   "id": "9dbf9335",
   "metadata": {},
   "outputs": [],
   "source": [
    "data_table_size_df.to_excel(writer, 'By Data Type and Table')"
   ]
  },
  {
   "cell_type": "code",
   "execution_count": null,
   "id": "ab2b1de1",
   "metadata": {},
   "outputs": [],
   "source": [
    "writer.close()"
   ]
  },
  {
   "cell_type": "code",
   "execution_count": null,
   "id": "b96ff77d",
   "metadata": {},
   "outputs": [],
   "source": []
  }
 ],
 "metadata": {
  "kernelspec": {
   "display_name": "Python 3 (ipykernel)",
   "language": "python",
   "name": "python3"
  },
  "language_info": {
   "codemirror_mode": {
    "name": "ipython",
    "version": 3
   },
   "file_extension": ".py",
   "mimetype": "text/x-python",
   "name": "python",
   "nbconvert_exporter": "python",
   "pygments_lexer": "ipython3",
   "version": "3.9.12"
  },
  "toc": {
   "base_numbering": 1,
   "nav_menu": {},
   "number_sections": true,
   "sideBar": true,
   "skip_h1_title": false,
   "title_cell": "Table of Contents",
   "title_sidebar": "Contents",
   "toc_cell": false,
   "toc_position": {
    "height": "calc(100% - 180px)",
    "left": "10px",
    "top": "150px",
    "width": "383.976px"
   },
   "toc_section_display": true,
   "toc_window_display": true
  }
 },
 "nbformat": 4,
 "nbformat_minor": 5
}
