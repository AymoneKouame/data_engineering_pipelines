{
 "cells": [
  {
   "cell_type": "markdown",
   "metadata": {
    "toc": true
   },
   "source": [
    "<h1>Table of Contents<span class=\"tocSkip\"></span></h1>\n",
    "<div class=\"toc\"><ul class=\"toc-item\"><li><span><a href=\"#Set-Up\" data-toc-modified-id=\"Set-Up-1\"><span class=\"toc-item-num\">1&nbsp;&nbsp;</span>Set Up</a></span><ul class=\"toc-item\"><li><span><a href=\"#Load-All-function-used-for-this-project\" data-toc-modified-id=\"Load-All-function-used-for-this-project-1.1\"><span class=\"toc-item-num\">1.1&nbsp;&nbsp;</span>Load All function used for this project</a></span></li><li><span><a href=\"#Load-needed-datasets\" data-toc-modified-id=\"Load-needed-datasets-1.2\"><span class=\"toc-item-num\">1.2&nbsp;&nbsp;</span>Load needed datasets</a></span><ul class=\"toc-item\"><li><span><a href=\"#Load-Master-Files\" data-toc-modified-id=\"Load-Master-Files-1.2.1\"><span class=\"toc-item-num\">1.2.1&nbsp;&nbsp;</span>Load Master Files</a></span></li><li><span><a href=\"#Load-Previous-Batches,-includeing-their-controls\" data-toc-modified-id=\"Load-Previous-Batches,-includeing-their-controls-1.2.2\"><span class=\"toc-item-num\">1.2.2&nbsp;&nbsp;</span>Load Previous Batches, includeing their controls</a></span></li></ul></li></ul></li><li><span><a href=\"#EXECUTE-THE-PLATING-STRATEGY\" data-toc-modified-id=\"EXECUTE-THE-PLATING-STRATEGY-2\"><span class=\"toc-item-num\">2&nbsp;&nbsp;</span>EXECUTE THE PLATING STRATEGY</a></span><ul class=\"toc-item\"><li><span><a href=\"#Plating-Numbers-we-need\" data-toc-modified-id=\"Plating-Numbers-we-need-2.1\"><span class=\"toc-item-num\">2.1&nbsp;&nbsp;</span>Plating Numbers we need</a></span></li><li><span><a href=\"#BATCH-4\" data-toc-modified-id=\"BATCH-4-2.2\"><span class=\"toc-item-num\">2.2&nbsp;&nbsp;</span>BATCH 4</a></span><ul class=\"toc-item\"><li><span><a href=\"#Pull-batch-4\" data-toc-modified-id=\"Pull-batch-4-2.2.1\"><span class=\"toc-item-num\">2.2.1&nbsp;&nbsp;</span>Pull batch 4</a></span></li><li><span><a href=\"#Randomize-by-State-and-add-Location-to-batch\" data-toc-modified-id=\"Randomize-by-State-and-add-Location-to-batch-2.2.2\"><span class=\"toc-item-num\">2.2.2&nbsp;&nbsp;</span>Randomize by State and add Location to batch</a></span></li><li><span><a href=\"#Plating\" data-toc-modified-id=\"Plating-2.2.3\"><span class=\"toc-item-num\">2.2.3&nbsp;&nbsp;</span>Plating</a></span></li><li><span><a href=\"#Add-Negative-Controls-matched-on-state\" data-toc-modified-id=\"Add-Negative-Controls-matched-on-state-2.2.4\"><span class=\"toc-item-num\">2.2.4&nbsp;&nbsp;</span>Add Negative Controls matched on state</a></span></li><li><span><a href=\"#Add-Postitive-Controls\" data-toc-modified-id=\"Add-Postitive-Controls-2.2.5\"><span class=\"toc-item-num\">2.2.5&nbsp;&nbsp;</span>Add Postitive Controls</a></span></li><li><span><a href=\"#FINAL-DELIVERABLE\" data-toc-modified-id=\"FINAL-DELIVERABLE-2.2.6\"><span class=\"toc-item-num\">2.2.6&nbsp;&nbsp;</span>FINAL DELIVERABLE</a></span></li></ul></li></ul></li><li><span><a href=\"#10.13.2020-Replace-76-people-in-file-sent-to-Mayo--insufficient-serums\" data-toc-modified-id=\"10.13.2020-Replace-76-people-in-file-sent-to-Mayo--insufficient-serums-3\"><span class=\"toc-item-num\">3&nbsp;&nbsp;</span><strong>10.13.2020</strong> Replace 76 people in file sent to Mayo- insufficient serums</a></span><ul class=\"toc-item\"><li><span><a href=\"#get-the-two-pos-replacements-from-the-boston-controls\" data-toc-modified-id=\"get-the-two-pos-replacements-from-the-boston-controls-3.1\"><span class=\"toc-item-num\">3.1&nbsp;&nbsp;</span>get the two pos replacements from the boston controls</a></span><ul class=\"toc-item\"><li><span><a href=\"#add-back-plates\" data-toc-modified-id=\"add-back-plates-3.1.1\"><span class=\"toc-item-num\">3.1.1&nbsp;&nbsp;</span>add back plates</a></span></li></ul></li><li><span><a href=\"#get-the-74-specimen-from-the-master-list\" data-toc-modified-id=\"get-the-74-specimen-from-the-master-list-3.2\"><span class=\"toc-item-num\">3.2&nbsp;&nbsp;</span>get the 74 specimen from the master list</a></span><ul class=\"toc-item\"><li><span><a href=\"#add-back-plates\" data-toc-modified-id=\"add-back-plates-3.2.1\"><span class=\"toc-item-num\">3.2.1&nbsp;&nbsp;</span>add back plates</a></span></li></ul></li><li><span><a href=\"#cncat-pos-and-neg-controls-replacements\" data-toc-modified-id=\"cncat-pos-and-neg-controls-replacements-3.3\"><span class=\"toc-item-num\">3.3&nbsp;&nbsp;</span>cncat pos and neg controls replacements</a></span></li><li><span><a href=\"#Update-the-file-you-sent-originally\" data-toc-modified-id=\"Update-the-file-you-sent-originally-3.4\"><span class=\"toc-item-num\">3.4&nbsp;&nbsp;</span>Update the file you sent originally</a></span></li><li><span><a href=\"#10.14.2020-Replace-one-more-serum-in-the-replacement-sent:-A568329493\" data-toc-modified-id=\"10.14.2020-Replace-one-more-serum-in-the-replacement-sent:-A568329493-3.5\"><span class=\"toc-item-num\">3.5&nbsp;&nbsp;</span>10.14.2020 Replace one more serum in the replacement sent: <code>A568329493</code></a></span><ul class=\"toc-item\"><li><span><a href=\"#Making-sure-the-chosen-serum-is-not-in-any-of-the-previous-lists\" data-toc-modified-id=\"Making-sure-the-chosen-serum-is-not-in-any-of-the-previous-lists-3.5.1\"><span class=\"toc-item-num\">3.5.1&nbsp;&nbsp;</span>Making sure the chosen serum is not in any of the previous lists</a></span></li><li><span><a href=\"#replace-old-serum-with-new\" data-toc-modified-id=\"replace-old-serum-with-new-3.5.2\"><span class=\"toc-item-num\">3.5.2&nbsp;&nbsp;</span>replace old serum with new</a></span><ul class=\"toc-item\"><li><span><a href=\"#Save\" data-toc-modified-id=\"Save-3.5.2.1\"><span class=\"toc-item-num\">3.5.2.1&nbsp;&nbsp;</span>Save</a></span></li></ul></li></ul></li></ul></li><li><span><a href=\"#10.22.2020-Sam-emailed--to-say-some-samples-were-duplicated-and-asked-for-them-to-be-replace?\" data-toc-modified-id=\"10.22.2020-Sam-emailed--to-say-some-samples-were-duplicated-and-asked-for-them-to-be-replace?-4\"><span class=\"toc-item-num\">4&nbsp;&nbsp;</span><strong>10.22.2020</strong> Sam emailed  to say some samples were duplicated and asked for them to be replace?</a></span><ul class=\"toc-item\"><li><span><a href=\"#I-Cleaned-up-Mater-List-in-the-01_-notebook,-then-will-use-that-to-get-replacements\" data-toc-modified-id=\"I-Cleaned-up-Mater-List-in-the-01_-notebook,-then-will-use-that-to-get-replacements-4.1\"><span class=\"toc-item-num\">4.1&nbsp;&nbsp;</span>I Cleaned up Mater List in the 01_ notebook, then will use that to get replacements</a></span><ul class=\"toc-item\"><li><span><a href=\"#QC-make-sure-the-replacements-are-not-in-the-previous-files\" data-toc-modified-id=\"QC-make-sure-the-replacements-are-not-in-the-previous-files-4.1.1\"><span class=\"toc-item-num\">4.1.1&nbsp;&nbsp;</span>QC make sure the replacements are not in the previous files</a></span></li></ul></li><li><span><a href=\"#replace\" data-toc-modified-id=\"replace-4.2\"><span class=\"toc-item-num\">4.2&nbsp;&nbsp;</span>replace</a></span></li></ul></li></ul></div>"
   ]
  },
  {
   "cell_type": "markdown",
   "metadata": {},
   "source": [
    "# Set Up"
   ]
  },
  {
   "cell_type": "code",
   "execution_count": null,
   "metadata": {
    "ExecuteTime": {
     "end_time": "2020-11-30T15:31:09.279347Z",
     "start_time": "2020-11-30T15:31:02.691839Z"
    }
   },
   "outputs": [],
   "source": [
    "%run ../setup.ipynb"
   ]
  },
  {
   "cell_type": "code",
   "execution_count": null,
   "metadata": {
    "ExecuteTime": {
     "end_time": "2020-11-30T20:14:10.277168Z",
     "start_time": "2020-11-30T20:14:10.245167Z"
    }
   },
   "outputs": [],
   "source": [
    "import glob\n",
    "\n",
    "location = '../DATA/DSC2'\n",
    "fileset = [file for file in glob.glob(location + \"**/***.*\", recursive=True)]\n",
    "n = 0\n",
    "for file in fileset:\n",
    "    #print()\n",
    "    print(n, file)\n",
    "    n+=1"
   ]
  },
  {
   "cell_type": "code",
   "execution_count": null,
   "metadata": {
    "ExecuteTime": {
     "end_time": "2021-02-23T17:20:43.831925Z",
     "start_time": "2021-02-23T17:20:43.828933Z"
    }
   },
   "outputs": [],
   "source": [
    "data_directory = '../DATA\\\\DSC2\\\\'\n",
    "david_directory = 'S:\\\\david\\\\fromAymone\\\\'"
   ]
  },
  {
   "cell_type": "markdown",
   "metadata": {},
   "source": [
    "## Load All function used for this project"
   ]
  },
  {
   "cell_type": "code",
   "execution_count": null,
   "metadata": {
    "ExecuteTime": {
     "end_time": "2020-11-30T20:14:16.966989Z",
     "start_time": "2020-11-30T20:14:16.913986Z"
    }
   },
   "outputs": [],
   "source": [
    "%run Serology_All_Functions.ipynb"
   ]
  },
  {
   "cell_type": "markdown",
   "metadata": {},
   "source": [
    "## Load needed datasets"
   ]
  },
  {
   "cell_type": "markdown",
   "metadata": {},
   "source": [
    "### Load Master Files\n",
    "Serology Master File, Negative Control Master File, Positive Control List "
   ]
  },
  {
   "cell_type": "code",
   "execution_count": null,
   "metadata": {
    "ExecuteTime": {
     "end_time": "2020-11-30T20:14:18.888106Z",
     "start_time": "2020-11-30T20:14:18.102060Z"
    }
   },
   "outputs": [],
   "source": [
    "# load master sample list\n",
    "master_list_original = pd.read_csv('../DATA\\DSC2\\Antobodies_tests_Master_List_2020-05-21.csv') ##very first\n",
    "master_list_afterbatch3 = pd.read_csv('../DATA\\DSC2\\master_list_afterBatch3_2020-08-11_14.18.07.csv')\n",
    "master_list = pd.read_csv('../DATA\\DSC2\\master_list_afterbatch4_2020-10-22_18.38.41.csv') ## most recent\n",
    "\n",
    "master_list.head(3)"
   ]
  },
  {
   "cell_type": "code",
   "execution_count": null,
   "metadata": {
    "ExecuteTime": {
     "end_time": "2020-11-30T15:31:35.717785Z",
     "start_time": "2020-11-30T15:31:35.557780Z"
    }
   },
   "outputs": [],
   "source": [
    "# load negative controls list\n",
    "negative_controls_master_original = pd.read_csv('../DATA\\DSC2\\COVID_controls_2020-06-15_14.14.52.csv') #very first\n",
    "negative_controls_master_original.head()\n",
    "## or this?\n",
    "negative_controls_master3 = pd.read_csv('../DATA\\DSC2\\COVID_controls_afterbatch22020-07-01_12.56.08.csv')\n",
    "# negative_controls_master4 = negative_controls_master3[~negative_controls_master3.biobank_id.isin(['215453393','167765452','570857394','215933740'])]\n",
    "# negative_controls_master4.to_csv('negative_controls_master_afterlist4_2020.10.08.csv', index = False)\n",
    "#negative_controls_master4 = pd.read_csv('../DATA\\\\DSC2\\\\negative_controls_master_afterlist4_2020.10.08.csv')\n"
   ]
  },
  {
   "cell_type": "code",
   "execution_count": null,
   "metadata": {
    "ExecuteTime": {
     "end_time": "2020-11-30T15:31:36.973826Z",
     "start_time": "2020-11-30T15:31:36.931824Z"
    }
   },
   "outputs": [],
   "source": [
    "negative_controls_master = pd.read_csv('../DATA\\\\DSC2\\\\negative_controls_master_afterbatch4_2020-10-22_18.54.42.csv') #most recent\n",
    "negative_controls_master.head()"
   ]
  },
  {
   "cell_type": "code",
   "execution_count": null,
   "metadata": {
    "ExecuteTime": {
     "end_time": "2020-11-30T15:31:40.489409Z",
     "start_time": "2020-11-30T15:31:40.461409Z"
    }
   },
   "outputs": [],
   "source": [
    "# load positive controls list\n",
    "##vumc_positive_controls = pd.read_csv('../DATA\\\\DSC2\\\\VUMCPositive Controls Tracker_addedCals_10_08_2020.csv') ##Includes pos with insufficient vols\n",
    "vumc_positive_controls = pd.read_csv(data_directory+'VUMCPositive Controls Tracker_10.22.2020.csv')\n",
    "vumc_positive_controls.head(5)"
   ]
  },
  {
   "cell_type": "code",
   "execution_count": null,
   "metadata": {
    "ExecuteTime": {
     "end_time": "2020-11-30T15:31:40.724416Z",
     "start_time": "2020-11-30T15:31:40.686416Z"
    }
   },
   "outputs": [],
   "source": [
    "pmp_positive_controls = pd.concat([pd.read_csv('../DATA\\DSC2\\ppm_positive_controls.csv'),\n",
    "                                   pd.read_csv('../DATA\\DSC2\\ppm_positive_controls_scnd.csv')], sort = False).drop_duplicates()\n",
    "pmp_positive_controls.head(5)"
   ]
  },
  {
   "cell_type": "code",
   "execution_count": null,
   "metadata": {},
   "outputs": [],
   "source": []
  },
  {
   "cell_type": "markdown",
   "metadata": {},
   "source": [
    "### Load Previous Batches, includeing their controls"
   ]
  },
  {
   "cell_type": "code",
   "execution_count": null,
   "metadata": {
    "ExecuteTime": {
     "end_time": "2020-11-30T15:31:42.196474Z",
     "start_time": "2020-11-30T15:31:42.079472Z"
    }
   },
   "outputs": [],
   "source": [
    "# Load Previous batches\n",
    "batch1_manifest = pd.read_csv('../DATA\\\\DSC2\\\\batch1_manifest_fromMayo.csv')#[['biobank_id']]\n",
    "bath1_testsamples = transform_manifest(batch1_manifest, 'Biobank ID', master_list_df= master_list_original,\n",
    "                                       which_df = 'test samples')\n",
    "bath1_negativecontrols = transform_manifest(batch1_manifest, 'Biobank ID',negative_controls_master_df = negative_controls_master_original, \n",
    "                                            which_df = 'negative controls')\n",
    "#bath1_testsamples = transform_manifest(batch1_manifest, 'Biobank ID', which_df = 'test samples')"
   ]
  },
  {
   "cell_type": "code",
   "execution_count": null,
   "metadata": {
    "ExecuteTime": {
     "end_time": "2020-11-30T15:31:42.975609Z",
     "start_time": "2020-11-30T15:31:42.859607Z"
    }
   },
   "outputs": [],
   "source": [
    "batch2_manifest = pd.read_csv('../DATA\\\\DSC2\\\\batch2_manifest_fromMayo.csv')#[['biobank_id']] #Manifest file from Mayo received July 22?\n",
    "bath2_testsamples = transform_manifest(batch2_manifest, 'Biobank ID', master_list_df= master_list_original,\n",
    "                                       which_df = 'test samples')\n",
    "bath2_negativecontrols = transform_manifest(batch2_manifest, 'Biobank ID', negative_controls_master_df= negative_controls_master_original,\n",
    "                                            which_df = 'negative controls')"
   ]
  },
  {
   "cell_type": "code",
   "execution_count": null,
   "metadata": {},
   "outputs": [],
   "source": []
  },
  {
   "cell_type": "code",
   "execution_count": null,
   "metadata": {
    "ExecuteTime": {
     "end_time": "2020-11-30T15:31:43.574627Z",
     "start_time": "2020-11-30T15:31:43.486623Z"
    }
   },
   "outputs": [],
   "source": [
    "batch3_manifest = pd.read_csv(data_directory+'Quest_AoU_Serology_Batch3_manifest_updated.csv').rename(columns = {'Sample ID':'Specimen ID'})\n",
    "batch3_manifest.loc[~batch3_manifest['Partners ID'].isnull(), 'Biobank ID'] = batch3_manifest.loc[~batch3_manifest['Partners ID'].isnull(), 'Partners ID']\n",
    "batch3_manifest = batch3_manifest.drop('Partners ID', axis = 1)\n",
    "\n",
    "bath3_testsamples = transform_manifest(batch3_manifest, 'Biobank ID', master_list_df= master_list_original,\n",
    "                                       which_df = 'test samples')\n",
    "bath3_negativecontrols = transform_manifest(batch3_manifest, 'Biobank ID', negative_controls_master_df= negative_controls_master_original,\n",
    "                                            which_df = 'negative controls')\n"
   ]
  },
  {
   "cell_type": "code",
   "execution_count": null,
   "metadata": {
    "ExecuteTime": {
     "end_time": "2020-11-30T15:31:43.742634Z",
     "start_time": "2020-11-30T15:31:43.725630Z"
    }
   },
   "outputs": [],
   "source": [
    "bath3_poscontrols = transform_manifest(batch3_manifest, 'Biobank ID',\n",
    "                                            which_df = 'positive controls')\n"
   ]
  },
  {
   "cell_type": "code",
   "execution_count": null,
   "metadata": {
    "ExecuteTime": {
     "end_time": "2020-11-30T15:31:43.982641Z",
     "start_time": "2020-11-30T15:31:43.897637Z"
    }
   },
   "outputs": [],
   "source": [
    "list4 = pd.read_csv(data_directory+'DRC_Serology_list4_2020-09-02_11.17.13.csv')\n",
    "\n",
    "list4_testsamples = transform_manifest(list4, 'Biobank ID', master_list_df= master_list_original,\n",
    "                                       which_df = 'test samples')\n",
    "\n",
    "list4_negativecontrols = transform_manifest(list4[['Biobank ID', 'Negative Control',\n",
    "                                                   'Positive Control','DateBloodSampleCollected']], 'Biobank ID', \n",
    "                                            negative_controls_master_df= negative_controls_master3.drop('DateBloodSampleCollected',axis =1),\n",
    "                                            which_df = 'negative controls')"
   ]
  },
  {
   "cell_type": "markdown",
   "metadata": {},
   "source": [
    "---------------------"
   ]
  },
  {
   "cell_type": "code",
   "execution_count": null,
   "metadata": {
    "ExecuteTime": {
     "end_time": "2020-11-30T15:31:44.403652Z",
     "start_time": "2020-11-30T15:31:44.372652Z"
    }
   },
   "outputs": [],
   "source": [
    "batch1and2_testsamples_bids = bath1_testsamples[['biobank_id']].merge(bath2_testsamples[['biobank_id']], 'outer').drop_duplicates()\n",
    "batch123_andl4_testsamples_bids = batch1and2_testsamples_bids.merge(bath3_testsamples[['biobank_id']], 'outer').merge(list4_testsamples[['biobank_id']], 'outer').drop_duplicates()\n",
    "\n",
    "batch123_andl4_testsamples_bids.biobank_id.nunique()"
   ]
  },
  {
   "cell_type": "code",
   "execution_count": null,
   "metadata": {
    "ExecuteTime": {
     "end_time": "2020-11-30T15:31:44.600659Z",
     "start_time": "2020-11-30T15:31:44.596658Z"
    }
   },
   "outputs": [],
   "source": [
    "5060+5060+5146"
   ]
  },
  {
   "cell_type": "code",
   "execution_count": null,
   "metadata": {
    "ExecuteTime": {
     "end_time": "2020-11-30T15:31:44.861667Z",
     "start_time": "2020-11-30T15:31:44.841666Z"
    }
   },
   "outputs": [],
   "source": [
    "# Get pervious batches negative controls list\n",
    "batch1and2_negative_bids = bath1_negativecontrols[['biobank_id']].merge(bath2_negativecontrols[['biobank_id']], 'outer').drop_duplicates()\n",
    "batch123_andl4_negative_bids = batch1and2_negative_bids.merge(bath3_negativecontrols[['biobank_id']], 'outer').merge(list4_negativecontrols[['biobank_id']], 'outer').drop_duplicates()\n",
    "display(batch123_andl4_negative_bids.head())\n",
    "batch123_andl4_negative_bids.biobank_id.nunique()"
   ]
  },
  {
   "cell_type": "code",
   "execution_count": null,
   "metadata": {
    "ExecuteTime": {
     "end_time": "2020-11-30T15:31:45.069674Z",
     "start_time": "2020-11-30T15:31:45.066676Z"
    }
   },
   "outputs": [],
   "source": [
    "278+31"
   ]
  },
  {
   "cell_type": "markdown",
   "metadata": {},
   "source": [
    "# EXECUTE THE PLATING STRATEGY"
   ]
  },
  {
   "cell_type": "markdown",
   "metadata": {},
   "source": [
    "## Plating Numbers we need"
   ]
  },
  {
   "cell_type": "code",
   "execution_count": null,
   "metadata": {
    "ExecuteTime": {
     "end_time": "2020-11-30T15:31:45.879703Z",
     "start_time": "2020-11-30T15:31:45.874701Z"
    }
   },
   "outputs": [],
   "source": [
    "import math\n",
    "\n",
    "### Which batch number is this?\n",
    "batch_number = 4\n",
    "\n",
    "batch_size = 5000+146  ## added 146 to the 5k so we have even numbers of samples per plate\n",
    "nwells = 83\n",
    "number_of_plates = math.ceil(batch_size/nwells) #excluding controls\n",
    "NegControls_perBatch = 1 #unrepeated  #repeated = 304\n",
    "PosControls_perBatch = 1 ##unrepeated \n",
    "                               #= sum column C here: https://docs.google.com/spreadsheets/d/1l7nu71PbE7QDdHzZcwHyHuIpl2QsE4N5QMHt7WWQTro/edit#gid=0\n",
    "                               #repeated = 304 (153*2)\n",
    "number_of_plates"
   ]
  },
  {
   "cell_type": "markdown",
   "metadata": {},
   "source": [
    "## BATCH 4"
   ]
  },
  {
   "cell_type": "markdown",
   "metadata": {},
   "source": [
    "### Pull batch 4\n",
    "Uses function `pull_batch()`"
   ]
  },
  {
   "cell_type": "code",
   "execution_count": null,
   "metadata": {
    "ExecuteTime": {
     "end_time": "2020-11-30T15:31:46.895034Z",
     "start_time": "2020-11-30T15:31:46.889033Z"
    }
   },
   "outputs": [],
   "source": [
    "batch123_andl4_testsamples_bids.head(), len(batch123_andl4_testsamples_bids)"
   ]
  },
  {
   "cell_type": "code",
   "execution_count": null,
   "metadata": {
    "ExecuteTime": {
     "end_time": "2020-11-30T15:31:47.408049Z",
     "start_time": "2020-11-30T15:31:47.162040Z"
    }
   },
   "outputs": [],
   "source": [
    "# We reveived a list of avalable serums by Mine - Just ensuring that the master list we pull consists only of those with available serums\n",
    "\n",
    "## SOME OF THESE SAMPLES ARE PROB DEPLETED - I WILL JUST GET THE LISTTO MAYO AND WE WIL SEE\n",
    "## AND WE WILL SEE WHAT MAYO SAYS\n",
    "available_serums_bids = pd.read_csv('../DATA\\\\DSC2\\\\11.1.2019-3.18.2020 Available Serum with bids.csv')\n",
    "available_serums_bids.head()"
   ]
  },
  {
   "cell_type": "code",
   "execution_count": null,
   "metadata": {
    "ExecuteTime": {
     "end_time": "2020-11-30T15:31:48.024585Z",
     "start_time": "2020-11-30T15:31:47.944580Z"
    }
   },
   "outputs": [],
   "source": [
    "master_list2 = master_list.merge(available_serums_bids[['biobank_id']])"
   ]
  },
  {
   "cell_type": "code",
   "execution_count": null,
   "metadata": {
    "ExecuteTime": {
     "end_time": "2020-11-30T15:31:48.380595Z",
     "start_time": "2020-11-30T15:31:48.207588Z"
    }
   },
   "outputs": [],
   "source": [
    "batch4 = pull_batch(master_ls = master_list2, batch_size = batch_size, batch_number= batch_number, previous_batch = batch123_andl4_testsamples_bids)\n",
    "batch4#.head()"
   ]
  },
  {
   "cell_type": "code",
   "execution_count": null,
   "metadata": {
    "ExecuteTime": {
     "end_time": "2020-11-30T15:31:48.468599Z",
     "start_time": "2020-11-30T15:31:48.463596Z"
    }
   },
   "outputs": [],
   "source": [
    "#batch3.state.drop_duplicates().sort_values()\n",
    "batch4.state.nunique()"
   ]
  },
  {
   "cell_type": "code",
   "execution_count": null,
   "metadata": {
    "ExecuteTime": {
     "end_time": "2020-11-30T15:31:49.349629Z",
     "start_time": "2020-11-30T15:31:49.344627Z"
    }
   },
   "outputs": [],
   "source": [
    "##### Quick checks + Save batch to drive for documentation"
   ]
  },
  {
   "cell_type": "code",
   "execution_count": null,
   "metadata": {
    "ExecuteTime": {
     "end_time": "2020-10-09T15:00:31.614331Z",
     "start_time": "2020-10-09T15:00:31.608336Z"
    }
   },
   "outputs": [],
   "source": [
    "#Check dates of specimen collection and number of unique biobank_ids\n",
    "batch4.participant_id.nunique(), batch4['DateBloodSampleCollected'].max(), batch4['DateBloodSampleCollected'].min()\n"
   ]
  },
  {
   "cell_type": "code",
   "execution_count": null,
   "metadata": {
    "ExecuteTime": {
     "end_time": "2020-10-09T15:00:31.900356Z",
     "start_time": "2020-10-09T15:00:31.889354Z"
    }
   },
   "outputs": [],
   "source": [
    "# Check that batch3 pids are not in batch1 or batch2\n",
    "pd.merge(batch4['biobank_id'],batch123_andl4_testsamples_bids)"
   ]
  },
  {
   "cell_type": "code",
   "execution_count": null,
   "metadata": {
    "ExecuteTime": {
     "end_time": "2020-10-09T15:00:32.131972Z",
     "start_time": "2020-10-09T15:00:32.129973Z"
    }
   },
   "outputs": [],
   "source": [
    "#save_this_csv(batch3, desired_filename='Serology_batch' +str(batch_number))"
   ]
  },
  {
   "cell_type": "markdown",
   "metadata": {
    "ExecuteTime": {
     "end_time": "2020-08-05T16:01:14.884590Z",
     "start_time": "2020-08-05T16:01:14.881591Z"
    }
   },
   "source": [
    "### Randomize by State and add Location to batch\n",
    "Uses `randomize_and_locate()`"
   ]
  },
  {
   "cell_type": "code",
   "execution_count": null,
   "metadata": {
    "ExecuteTime": {
     "end_time": "2020-10-09T15:00:32.689464Z",
     "start_time": "2020-10-09T15:00:32.685466Z"
    }
   },
   "outputs": [],
   "source": [
    "## double check n participants in batch\n",
    "batch4.participant_id.nunique()"
   ]
  },
  {
   "cell_type": "code",
   "execution_count": null,
   "metadata": {
    "ExecuteTime": {
     "end_time": "2020-10-09T15:00:32.926577Z",
     "start_time": "2020-10-09T15:00:32.910572Z"
    }
   },
   "outputs": [],
   "source": [
    "samples_groups = randomize_and_locate(batch_df = batch4, batch_size = batch_size, rand_state = 1008)\n",
    "samples_groups.head()"
   ]
  },
  {
   "cell_type": "code",
   "execution_count": null,
   "metadata": {
    "ExecuteTime": {
     "end_time": "2020-10-09T15:00:33.179300Z",
     "start_time": "2020-10-09T15:00:33.176295Z"
    }
   },
   "outputs": [],
   "source": [
    "samples_groups.shape[0]"
   ]
  },
  {
   "cell_type": "markdown",
   "metadata": {
    "ExecuteTime": {
     "end_time": "2020-08-05T16:01:54.973397Z",
     "start_time": "2020-08-05T16:01:54.968402Z"
    }
   },
   "source": [
    "### Plating\n",
    "Uses `plate_em()`"
   ]
  },
  {
   "cell_type": "code",
   "execution_count": null,
   "metadata": {
    "ExecuteTime": {
     "end_time": "2020-10-09T15:00:38.718889Z",
     "start_time": "2020-10-09T15:00:33.755508Z"
    }
   },
   "outputs": [],
   "source": [
    "#nwells defined in 2.1 #excludes both positive and negative control wells for now\n",
    "\n",
    "plated_noncontrols = plate_em(df = samples_groups, n_wells = nwells, batch_size = batch_size,\n",
    "                                             rand_state= 100820)\n",
    "plated_noncontrols.sort_values('plate')"
   ]
  },
  {
   "cell_type": "code",
   "execution_count": null,
   "metadata": {
    "ExecuteTime": {
     "end_time": "2020-10-09T15:00:38.722890Z",
     "start_time": "2020-10-09T15:00:38.719887Z"
    }
   },
   "outputs": [],
   "source": [
    "##### QC and fix"
   ]
  },
  {
   "cell_type": "code",
   "execution_count": null,
   "metadata": {},
   "outputs": [],
   "source": []
  },
  {
   "cell_type": "markdown",
   "metadata": {
    "ExecuteTime": {
     "end_time": "2020-08-05T16:06:33.835579Z",
     "start_time": "2020-08-05T16:06:33.831578Z"
    }
   },
   "source": [
    "### Add Negative Controls matched on state\n",
    "Uses `add_negative_controls()`"
   ]
  },
  {
   "cell_type": "code",
   "execution_count": null,
   "metadata": {
    "ExecuteTime": {
     "end_time": "2020-10-09T15:00:42.220745Z",
     "start_time": "2020-10-09T15:00:42.213742Z"
    }
   },
   "outputs": [],
   "source": [
    "batch123_andl4_negative_bids.head()"
   ]
  },
  {
   "cell_type": "code",
   "execution_count": null,
   "metadata": {
    "ExecuteTime": {
     "end_time": "2020-10-09T15:06:09.997050Z",
     "start_time": "2020-10-09T15:06:09.624030Z"
    }
   },
   "outputs": [],
   "source": [
    "batch4_negControls = batch_negative_controls(plated_samples_df = plated_noncontrols,#samples_groups, \n",
    "                                                batch_df = batch4, \n",
    "                                               negControls_master = negative_controls_master4, \n",
    "                                               unrepeated_negControls = NegControls_perBatch,\n",
    "                                               number_plates = number_of_plates, rand_state = 1008202,\n",
    "                                                previous_batch_negControls = batch123_andl4_negative_bids)\n",
    "\n",
    "batch4_negControls.sort_values('biobank_id')"
   ]
  },
  {
   "cell_type": "markdown",
   "metadata": {},
   "source": [
    "##### QC "
   ]
  },
  {
   "cell_type": "code",
   "execution_count": null,
   "metadata": {
    "ExecuteTime": {
     "end_time": "2020-10-09T15:06:30.971553Z",
     "start_time": "2020-10-09T15:06:30.952562Z"
    }
   },
   "outputs": [],
   "source": [
    "# Check neg controls dist per plate\n",
    "check = batch4_negControls[['biobank_id','plate']]\n",
    "display(check)\n",
    "check.groupby('plate').nunique().sort_values('biobank_id', ascending = False)#.drop('plate', axis = 1)"
   ]
  },
  {
   "cell_type": "code",
   "execution_count": null,
   "metadata": {
    "ExecuteTime": {
     "end_time": "2020-10-09T15:06:31.086561Z",
     "start_time": "2020-10-09T15:06:31.076559Z"
    }
   },
   "outputs": [],
   "source": [
    "# Check neg controls dist per plate\n",
    "check2 = check.groupby('biobank_id').count()#.drop('plate', axis = 1)\n",
    "check2.sort_values('plate', ascending = False)"
   ]
  },
  {
   "cell_type": "code",
   "execution_count": null,
   "metadata": {
    "ExecuteTime": {
     "end_time": "2020-10-09T15:06:47.043852Z",
     "start_time": "2020-10-09T15:06:47.033850Z"
    }
   },
   "outputs": [],
   "source": [
    "# ensure batch 4 negative controls is not in batch1,2,3 or list4\n",
    "pd.merge(batch123_andl4_negative_bids, batch4_negControls)"
   ]
  },
  {
   "cell_type": "code",
   "execution_count": null,
   "metadata": {
    "ExecuteTime": {
     "end_time": "2020-10-09T15:06:51.661931Z",
     "start_time": "2020-10-09T15:06:51.659931Z"
    }
   },
   "outputs": [],
   "source": [
    "#savebatch3_negControls_.to_csv('../DATA/DSC2/batch'+str(b_number)+str(scenario)+'_negative_controls_'+now+'.csv')"
   ]
  },
  {
   "cell_type": "markdown",
   "metadata": {},
   "source": [
    "### Add Postitive Controls\n",
    "Uses `batch_positive_controls()`"
   ]
  },
  {
   "cell_type": "code",
   "execution_count": null,
   "metadata": {
    "ExecuteTime": {
     "end_time": "2020-10-09T15:06:53.634733Z",
     "start_time": "2020-10-09T15:06:53.619729Z"
    }
   },
   "outputs": [],
   "source": [
    "vumc_positive_controls.head(3)"
   ]
  },
  {
   "cell_type": "code",
   "execution_count": null,
   "metadata": {
    "ExecuteTime": {
     "end_time": "2020-10-09T15:06:53.858876Z",
     "start_time": "2020-10-09T15:06:53.845874Z"
    }
   },
   "outputs": [],
   "source": [
    "batch4_posControls = vumc_positive_controls[['Sample ID', 'What Vol remains after List4?']].dropna()\n",
    "batch4_posControls"
   ]
  },
  {
   "cell_type": "code",
   "execution_count": null,
   "metadata": {
    "ExecuteTime": {
     "end_time": "2020-10-09T15:06:54.067890Z",
     "start_time": "2020-10-09T15:06:54.062888Z"
    }
   },
   "outputs": [],
   "source": [
    "batch4_posControls.iloc[:,1].sum()"
   ]
  },
  {
   "cell_type": "markdown",
   "metadata": {},
   "source": [
    "**Since we seem to have enough positives vol left, I will resuse vumc pos alone, no boston**"
   ]
  },
  {
   "cell_type": "code",
   "execution_count": null,
   "metadata": {
    "ExecuteTime": {
     "end_time": "2020-10-09T15:06:55.330526Z",
     "start_time": "2020-10-09T15:06:55.327526Z"
    }
   },
   "outputs": [],
   "source": [
    "# batch3_posControls2 = pmp_positive_controls[['Lab ID', 'Volume(mL)']]\n",
    "# batch3_posControls2.columns = ['Sample ID','Total vol (ml)']\n",
    "# batch3_posControls2"
   ]
  },
  {
   "cell_type": "code",
   "execution_count": null,
   "metadata": {
    "ExecuteTime": {
     "end_time": "2020-10-09T15:06:56.096181Z",
     "start_time": "2020-10-09T15:06:56.093182Z"
    }
   },
   "outputs": [],
   "source": [
    "# batch3_posControls = pd.concat([batch3_posControls1, batch3_posControls2])\n",
    "# batch3_posControls['Positive Control'] = 'Yes'\n",
    "# batch3_posControls['Negative Control'] = 'No'\n",
    "# batch3_posControls"
   ]
  },
  {
   "cell_type": "code",
   "execution_count": null,
   "metadata": {
    "ExecuteTime": {
     "end_time": "2020-10-09T15:06:56.392909Z",
     "start_time": "2020-10-09T15:06:56.368908Z"
    }
   },
   "outputs": [],
   "source": [
    "positive_controls_df = batch_positive_controls(pos_controls_df = batch4_posControls, \n",
    "                                                   rand_state = 10081225, \n",
    "                                                   number_plates = number_of_plates,\n",
    "                                                   aliquots_needed = 350/83)\n",
    "positive_controls_df #= _sc1[['Sample ID','serology_id','positive control', 'negative control', 'plate']]\n",
    "#positive_controls_df_sc1"
   ]
  },
  {
   "cell_type": "code",
   "execution_count": null,
   "metadata": {
    "ExecuteTime": {
     "end_time": "2020-10-09T15:06:58.919353Z",
     "start_time": "2020-10-09T15:06:58.916355Z"
    }
   },
   "outputs": [],
   "source": [
    "# # ## QC\n",
    "# batch_controls_demog = pd.merge(COVID_controls, batch_controls_repeated[['biobank_id']], how = 'inner')#.drop('Unnamed: 0', axis =1)\n",
    "# batch_controls_demog.head()\n",
    "\n",
    "# for v in ['Race','state']:\n",
    "#     display(get_dist(DF = batch_controls_demog, dist_var = v, group = None, groupnumber = None))"
   ]
  },
  {
   "cell_type": "code",
   "execution_count": null,
   "metadata": {
    "ExecuteTime": {
     "end_time": "2020-10-09T15:07:34.859283Z",
     "start_time": "2020-10-09T15:07:34.847285Z"
    }
   },
   "outputs": [],
   "source": [
    "positive_controls_df.groupby('plate').count()"
   ]
  },
  {
   "cell_type": "code",
   "execution_count": null,
   "metadata": {
    "ExecuteTime": {
     "end_time": "2020-10-09T15:08:02.956281Z",
     "start_time": "2020-10-09T15:08:02.942279Z"
    }
   },
   "outputs": [],
   "source": [
    "positive_controls_df.groupby('Sample ID').count()"
   ]
  },
  {
   "cell_type": "code",
   "execution_count": null,
   "metadata": {},
   "outputs": [],
   "source": []
  },
  {
   "cell_type": "markdown",
   "metadata": {},
   "source": [
    "### FINAL DELIVERABLE"
   ]
  },
  {
   "cell_type": "code",
   "execution_count": null,
   "metadata": {
    "ExecuteTime": {
     "end_time": "2020-10-09T15:08:14.331560Z",
     "start_time": "2020-10-09T15:08:14.295558Z"
    }
   },
   "outputs": [],
   "source": [
    "Serology_batch_final = final_deliverable(plated_noncontrols, batch4_negControls, \n",
    "                                         positive_controls_df.drop('What Vol remains after List4?', axis = 1),\n",
    "                                        bid_fieldname= 'biobank_id')"
   ]
  },
  {
   "cell_type": "code",
   "execution_count": null,
   "metadata": {
    "ExecuteTime": {
     "end_time": "2020-10-09T15:27:09.007197Z",
     "start_time": "2020-10-09T15:27:08.992196Z"
    }
   },
   "outputs": [],
   "source": [
    "Serology_batch_final"
   ]
  },
  {
   "cell_type": "code",
   "execution_count": null,
   "metadata": {
    "ExecuteTime": {
     "end_time": "2020-10-09T15:27:02.063266Z",
     "start_time": "2020-10-09T15:27:02.049264Z"
    }
   },
   "outputs": [],
   "source": [
    "Serology_batch_final[['biobank_id','Positive Control ID','plate']].groupby('plate').nunique()#.sort_values('biobank_id', ascending = False)#.drop('plate', axis = 1)"
   ]
  },
  {
   "cell_type": "code",
   "execution_count": null,
   "metadata": {
    "ExecuteTime": {
     "end_time": "2020-10-08T19:29:15.783455Z",
     "start_time": "2020-10-08T19:29:15.781455Z"
    }
   },
   "outputs": [],
   "source": [
    "#Serology_batch_final[['biobank_id','plate', 'Positive Control ID']].drop_duplicates().sort_values('plate').groupby('plate').nunique()"
   ]
  },
  {
   "cell_type": "code",
   "execution_count": null,
   "metadata": {
    "ExecuteTime": {
     "end_time": "2020-10-09T15:08:36.819477Z",
     "start_time": "2020-10-09T15:08:36.796474Z"
    }
   },
   "outputs": [],
   "source": [
    "Mayo_Serology_batch_final= Serology_batch_final\n",
    "Mayo_Serology_batch_final['biobank_id'] = ['A'+str(i) for i in Mayo_Serology_batch_final['biobank_id']]\n",
    "Mayo_Serology_batch_final.loc[Mayo_Serology_batch_final['participant_id'].isnull(), 'biobank_id'] = Mayo_Serology_batch_final[~Mayo_Serology_batch_final['Positive Control ID'].isnull()]['Positive Control ID']\n",
    "Mayo_Serology_batch_final = Mayo_Serology_batch_final.drop(['state', 'participant_id', 'Positive Control ID'], axis = 1)\n",
    "\n",
    "Mayo_Serology_batch_final.columns = ['DateBloodSampleCollected',\n",
    "        'Negative Control', 'Positive Control', 'Biobank ID','Plate ID']\n",
    "Mayo_Serology_batch_final = Mayo_Serology_batch_final[['Biobank ID','Plate ID', 'DateBloodSampleCollected', 'Negative Control', 'Positive Control']]#.replace('Anan', None)\n",
    "Mayo_Serology_batch_final"
   ]
  },
  {
   "cell_type": "code",
   "execution_count": null,
   "metadata": {
    "ExecuteTime": {
     "end_time": "2020-10-09T15:29:08.466662Z",
     "start_time": "2020-10-09T15:29:08.462662Z"
    }
   },
   "outputs": [],
   "source": [
    "62*2"
   ]
  },
  {
   "cell_type": "code",
   "execution_count": null,
   "metadata": {
    "ExecuteTime": {
     "end_time": "2020-10-09T15:26:35.664302Z",
     "start_time": "2020-10-09T15:26:35.649302Z"
    }
   },
   "outputs": [],
   "source": [
    "Mayo_Serology_batch_final[['Biobank ID', 'Plate ID']].groupby('Plate ID').nunique()#.sort_values('biobank_id', ascending = False)#.drop('plate', axis = 1)"
   ]
  },
  {
   "cell_type": "code",
   "execution_count": null,
   "metadata": {
    "ExecuteTime": {
     "end_time": "2020-10-09T15:08:37.538281Z",
     "start_time": "2020-10-09T15:08:37.514274Z"
    }
   },
   "outputs": [],
   "source": [
    "QC_batch_numbers(Mayo_Serology_batch_final, bid_fieldname= 'Biobank ID')"
   ]
  },
  {
   "cell_type": "code",
   "execution_count": null,
   "metadata": {
    "ExecuteTime": {
     "end_time": "2020-10-09T15:09:28.276793Z",
     "start_time": "2020-10-09T15:09:28.270792Z"
    }
   },
   "outputs": [],
   "source": [
    "Mayo_Serology_batch_final['Biobank ID'].count(), Serology_batch_final['biobank_id'].count(),Mayo_Serology_batch_final[Mayo_Serology_batch_final['Negative Control'] == 'Yes']['Biobank ID'].count()"
   ]
  },
  {
   "cell_type": "code",
   "execution_count": null,
   "metadata": {
    "ExecuteTime": {
     "end_time": "2020-10-09T15:09:32.767112Z",
     "start_time": "2020-10-09T15:09:32.727107Z"
    }
   },
   "outputs": [],
   "source": [
    "save_this_csv(Serology_batch_final, 'DRC_Serology_batch'+str(batch_number))\n",
    "save_this_csv(Mayo_Serology_batch_final, 'Mayo_Serology_batch'+str(batch_number))"
   ]
  },
  {
   "cell_type": "markdown",
   "metadata": {},
   "source": [
    "# **10.13.2020** Replace 76 people in file sent to Mayo- insufficient serums"
   ]
  },
  {
   "cell_type": "code",
   "execution_count": null,
   "metadata": {
    "ExecuteTime": {
     "end_time": "2021-02-23T17:20:49.000595Z",
     "start_time": "2021-02-23T17:20:48.956590Z"
    }
   },
   "outputs": [],
   "source": [
    "import pandas as pd\n",
    "first_file_sent = pd.read_csv(data_directory+'Mayo_Serology_batch4_2020-10-09_10.09.32.csv')\n",
    "first_file_sent"
   ]
  },
  {
   "cell_type": "code",
   "execution_count": null,
   "metadata": {
    "ExecuteTime": {
     "end_time": "2020-11-30T17:00:59.135592Z",
     "start_time": "2020-11-30T17:00:59.120589Z"
    }
   },
   "outputs": [],
   "source": [
    "pd.to_datetime(first_file_sent.DateBloodSampleCollected).min(),\n",
    "pd.to_datetime(first_file_sent.DateBloodSampleCollected).max()"
   ]
  },
  {
   "cell_type": "code",
   "execution_count": null,
   "metadata": {
    "ExecuteTime": {
     "end_time": "2020-11-30T15:33:18.705947Z",
     "start_time": "2020-11-30T15:33:18.679944Z"
    }
   },
   "outputs": [],
   "source": [
    "to_be_replaced = pd.read_excel(data_directory+'Mayo Serology Batch Replacements Needed.xlsx').merge(first_file_sent)[['Biobank ID', 'Plate ID',\n",
    "                                                                                        'Negative Control', 'Positive Control', 'DateBloodSampleCollected']]\n",
    "\n",
    "to_be_replaced.columns = ['Replaced Biobank ID', 'Plate ID','Negative Control', 'Positive Control', 'DateBloodSampleCollected']\n",
    "to_be_replaced"
   ]
  },
  {
   "cell_type": "code",
   "execution_count": null,
   "metadata": {
    "ExecuteTime": {
     "end_time": "2020-11-30T15:34:34.637339Z",
     "start_time": "2020-11-30T15:34:34.629337Z"
    }
   },
   "outputs": [],
   "source": [
    "pd.to_datetime(to_be_replaced.DateBloodSampleCollected).min(),pd.to_datetime(to_be_replaced.DateBloodSampleCollected).max()"
   ]
  },
  {
   "cell_type": "code",
   "execution_count": null,
   "metadata": {
    "ExecuteTime": {
     "end_time": "2020-10-22T22:22:55.989478Z",
     "start_time": "2020-10-22T22:22:55.985473Z"
    }
   },
   "outputs": [],
   "source": []
  },
  {
   "cell_type": "code",
   "execution_count": null,
   "metadata": {
    "ExecuteTime": {
     "end_time": "2020-10-14T17:20:40.582442Z",
     "start_time": "2020-10-14T17:20:40.575443Z"
    }
   },
   "outputs": [],
   "source": [
    "to_be_replaced['Negative Control'].drop_duplicates()"
   ]
  },
  {
   "cell_type": "code",
   "execution_count": null,
   "metadata": {
    "ExecuteTime": {
     "end_time": "2020-10-14T17:20:40.831010Z",
     "start_time": "2020-10-14T17:20:40.826013Z"
    }
   },
   "outputs": [],
   "source": [
    "to_be_replaced[to_be_replaced['Positive Control'] == 'No']['Replaced Biobank ID'].nunique()"
   ]
  },
  {
   "cell_type": "markdown",
   "metadata": {},
   "source": [
    "## get the two pos replacements from the boston controls"
   ]
  },
  {
   "cell_type": "code",
   "execution_count": null,
   "metadata": {
    "ExecuteTime": {
     "end_time": "2020-10-13T15:20:55.051026Z",
     "start_time": "2020-10-13T15:20:55.039023Z"
    }
   },
   "outputs": [],
   "source": [
    "replacement_pos_controls = pmp_positive_controls.sample(n = 2, random_state=101320)[['Lab ID']]\n",
    "replacement_pos_controls.columns = ['Biobank ID']\n",
    "\n",
    "replacement_pos_controls['Positive Control'] = 'Yes'\n",
    "replacement_pos_controls['Negative Control'] = 'No'\n",
    "#replacement_pos_controls = pd.concat([replacement_pos_controls,replacement_pos_controls]) #since it is duplicated\n",
    "replacement_pos_controls"
   ]
  },
  {
   "cell_type": "markdown",
   "metadata": {},
   "source": [
    "### add back plates"
   ]
  },
  {
   "cell_type": "code",
   "execution_count": null,
   "metadata": {
    "ExecuteTime": {
     "end_time": "2020-10-13T15:20:55.486254Z",
     "start_time": "2020-10-13T15:20:55.478254Z"
    }
   },
   "outputs": [],
   "source": [
    "pos_controls_tobe_replaced = to_be_replaced[to_be_replaced['Positive Control'] == 'Yes']\n",
    "pos_controls_tobe_replaced"
   ]
  },
  {
   "cell_type": "code",
   "execution_count": null,
   "metadata": {
    "ExecuteTime": {
     "end_time": "2020-10-13T15:20:55.616264Z",
     "start_time": "2020-10-13T15:20:55.608262Z"
    }
   },
   "outputs": [],
   "source": [
    "pos_controls_tobe_replaced['Biobank ID'] = ''\n",
    "pos_controls_tobe_replaced.loc[pos_controls_tobe_replaced['Replaced Biobank ID'] == 'PIO 1009', 'Biobank ID'] = '0420P3B00060'\n",
    "pos_controls_tobe_replaced.loc[pos_controls_tobe_replaced['Replaced Biobank ID'] == 'PIO 1028', 'Biobank ID'] = '0420P3B00053'"
   ]
  },
  {
   "cell_type": "code",
   "execution_count": null,
   "metadata": {
    "ExecuteTime": {
     "end_time": "2020-10-13T15:20:55.793274Z",
     "start_time": "2020-10-13T15:20:55.783273Z"
    }
   },
   "outputs": [],
   "source": [
    "replaced_pos_controls = pos_controls_tobe_replaced\n",
    "replaced_pos_controls"
   ]
  },
  {
   "cell_type": "markdown",
   "metadata": {},
   "source": [
    "## get the 74 specimen from the master list\n",
    "making sure they are not in the previous specimen chosen"
   ]
  },
  {
   "cell_type": "code",
   "execution_count": null,
   "metadata": {
    "ExecuteTime": {
     "end_time": "2020-10-14T15:56:47.166369Z",
     "start_time": "2020-10-14T15:56:47.148365Z"
    }
   },
   "outputs": [],
   "source": [
    "non_controls_tobe_replaced = to_be_replaced[to_be_replaced['Positive Control'] == 'No'][['Replaced Biobank ID', 'Plate ID',\n",
    "                                                                                        'Negative Control', 'Positive Control']]\n",
    "non_controls_tobe_replaced['biobank_id'] = [int(i.split('A')[1]) for i in non_controls_tobe_replaced['Replaced Biobank ID']]\n",
    "\n",
    "non_controls_tobe_replaced = non_controls_tobe_replaced.reset_index().drop('index', axis = 1)\n",
    "non_controls_tobe_replaced"
   ]
  },
  {
   "cell_type": "code",
   "execution_count": null,
   "metadata": {
    "ExecuteTime": {
     "end_time": "2020-10-13T15:25:20.822968Z",
     "start_time": "2020-10-13T15:25:20.818969Z"
    }
   },
   "outputs": [],
   "source": [
    "non_controls_tobe_replaced['Replaced Biobank ID'].nunique()"
   ]
  },
  {
   "cell_type": "code",
   "execution_count": null,
   "metadata": {
    "ExecuteTime": {
     "end_time": "2020-10-13T15:25:20.964980Z",
     "start_time": "2020-10-13T15:25:20.950979Z"
    }
   },
   "outputs": [],
   "source": [
    "replace_n = int(non_controls_tobe_replaced['biobank_id'].nunique())  \n",
    "not_in_bids = pd.concat([batch123_andl4_testsamples_bids, non_controls_tobe_replaced[['biobank_id']]]).drop_duplicates().dropna()\n",
    "not_in_bids\n",
    "#replace_n"
   ]
  },
  {
   "cell_type": "code",
   "execution_count": null,
   "metadata": {
    "ExecuteTime": {
     "end_time": "2020-10-13T15:25:21.792847Z",
     "start_time": "2020-10-13T15:25:21.754848Z"
    }
   },
   "outputs": [],
   "source": [
    "choose_from_these = pd.DataFrame(set(master_list.biobank_id) - set(not_in_bids.biobank_id))\n",
    "choose_from_these.columns = ['biobank_id']\n",
    "choose_from_these\n"
   ]
  },
  {
   "cell_type": "code",
   "execution_count": null,
   "metadata": {
    "ExecuteTime": {
     "end_time": "2020-10-13T15:25:22.695572Z",
     "start_time": "2020-10-13T15:25:22.678580Z"
    }
   },
   "outputs": [],
   "source": [
    "replacement_non_controls = choose_from_these.sample(n = replace_n).reset_index().drop('index', axis = 1)\n",
    "replacement_non_controls['Biobank ID'] = ['A'+str(int(i)) for i in replacement_non_controls.biobank_id]\n",
    "replacement_non_controls['Positive Control'] = 'No'\n",
    "replacement_non_controls['Negative Control'] = 'No'\n",
    "replacement_non_controls"
   ]
  },
  {
   "cell_type": "markdown",
   "metadata": {},
   "source": [
    "### add back plates"
   ]
  },
  {
   "cell_type": "code",
   "execution_count": null,
   "metadata": {
    "ExecuteTime": {
     "end_time": "2020-10-13T15:25:25.249230Z",
     "start_time": "2020-10-13T15:25:25.231227Z"
    }
   },
   "outputs": [],
   "source": [
    "replacement_non_controls['Replaced Biobank ID'] = ''\n",
    "replacement_non_controls['Plate ID'] = ''\n",
    "\n",
    "for r in non_controls_tobe_replaced[['Replaced Biobank ID','Plate ID','Negative Control','Positive Control']].index:\n",
    "    replacement_non_controls['Replaced Biobank ID'][r] = non_controls_tobe_replaced['Replaced Biobank ID'][r]\n",
    "    replacement_non_controls['Plate ID'][r] = non_controls_tobe_replaced['Plate ID'][r]\n"
   ]
  },
  {
   "cell_type": "code",
   "execution_count": null,
   "metadata": {
    "ExecuteTime": {
     "end_time": "2020-10-13T15:25:26.411461Z",
     "start_time": "2020-10-13T15:25:26.395457Z"
    }
   },
   "outputs": [],
   "source": [
    "replaced_non_controls = replacement_non_controls\n",
    "replaced_non_controls"
   ]
  },
  {
   "cell_type": "markdown",
   "metadata": {
    "ExecuteTime": {
     "end_time": "2020-10-12T21:39:53.853604Z",
     "start_time": "2020-10-12T21:39:53.847602Z"
    }
   },
   "source": [
    "## cncat pos and neg controls replacements"
   ]
  },
  {
   "cell_type": "code",
   "execution_count": null,
   "metadata": {
    "ExecuteTime": {
     "end_time": "2020-10-13T15:25:34.781902Z",
     "start_time": "2020-10-13T15:25:34.765899Z"
    }
   },
   "outputs": [],
   "source": [
    "all_specimen_replaced = pd.concat([replaced_non_controls, replaced_pos_controls])\n",
    "all_specimen_replaced"
   ]
  },
  {
   "cell_type": "code",
   "execution_count": null,
   "metadata": {
    "ExecuteTime": {
     "end_time": "2020-10-13T15:25:46.457604Z",
     "start_time": "2020-10-13T15:25:46.449603Z"
    }
   },
   "outputs": [],
   "source": [
    "save_this_csv(all_specimen_replaced, 'Specimens_replacements')"
   ]
  },
  {
   "cell_type": "markdown",
   "metadata": {},
   "source": [
    "## Update the file you sent originally"
   ]
  },
  {
   "cell_type": "code",
   "execution_count": null,
   "metadata": {
    "ExecuteTime": {
     "end_time": "2020-10-13T15:25:48.093418Z",
     "start_time": "2020-10-13T15:25:48.081415Z"
    }
   },
   "outputs": [],
   "source": [
    "first_file_sent"
   ]
  },
  {
   "cell_type": "code",
   "execution_count": null,
   "metadata": {
    "ExecuteTime": {
     "end_time": "2020-10-13T15:06:42.025019Z",
     "start_time": "2020-10-13T15:06:42.014027Z"
    }
   },
   "outputs": [],
   "source": [
    "to_be_replaced"
   ]
  },
  {
   "cell_type": "code",
   "execution_count": null,
   "metadata": {
    "ExecuteTime": {
     "end_time": "2020-10-13T15:25:52.519094Z",
     "start_time": "2020-10-13T15:25:52.503093Z"
    }
   },
   "outputs": [],
   "source": [
    "keep = pd.DataFrame(set(first_file_sent['Biobank ID']) - set(to_be_replaced['Replaced Biobank ID']), columns=['Biobank ID'])\n",
    "keep.sort_values('Biobank ID')"
   ]
  },
  {
   "cell_type": "code",
   "execution_count": null,
   "metadata": {
    "ExecuteTime": {
     "end_time": "2020-10-13T15:26:41.115643Z",
     "start_time": "2020-10-13T15:26:41.111640Z"
    }
   },
   "outputs": [],
   "source": [
    "first_file_sent.shape, keep.shape"
   ]
  },
  {
   "cell_type": "code",
   "execution_count": null,
   "metadata": {
    "ExecuteTime": {
     "end_time": "2020-10-13T15:26:45.925227Z",
     "start_time": "2020-10-13T15:26:45.899224Z"
    }
   },
   "outputs": [],
   "source": [
    "new_file_wReplacements = pd.concat([first_file_sent.merge(keep), all_specimen_replaced]).drop('biobank_id', axis = 1)\n",
    "new_file_wReplacements"
   ]
  },
  {
   "cell_type": "code",
   "execution_count": null,
   "metadata": {
    "ExecuteTime": {
     "end_time": "2020-10-13T15:26:46.286252Z",
     "start_time": "2020-10-13T15:26:46.270246Z"
    }
   },
   "outputs": [],
   "source": [
    "save_this_csv(new_file_wReplacements, 'Mayo_Serology_batch4_replacedserums')"
   ]
  },
  {
   "cell_type": "markdown",
   "metadata": {},
   "source": [
    "## 10.14.2020 Replace one more serum in the replacement sent: `A568329493`"
   ]
  },
  {
   "cell_type": "code",
   "execution_count": null,
   "metadata": {
    "ExecuteTime": {
     "end_time": "2020-10-14T17:20:49.888280Z",
     "start_time": "2020-10-14T17:20:49.869276Z"
    }
   },
   "outputs": [],
   "source": [
    "second_file_sent = pd.read_csv(data_directory+'Mayo_Serology_batch4_replacedserums_2020-10-13_10.26.46.csv')\n",
    "second_file_sent.head()"
   ]
  },
  {
   "cell_type": "code",
   "execution_count": null,
   "metadata": {
    "ExecuteTime": {
     "end_time": "2020-10-14T17:20:51.685930Z",
     "start_time": "2020-10-14T17:20:51.673929Z"
    }
   },
   "outputs": [],
   "source": [
    "pd.to_datetime(second_file_sent[second_file_sent['Negative Control'] == 'No']['DateBloodSampleCollected']).min()"
   ]
  },
  {
   "cell_type": "code",
   "execution_count": null,
   "metadata": {
    "ExecuteTime": {
     "end_time": "2020-10-14T17:21:08.839716Z",
     "start_time": "2020-10-14T17:21:08.796713Z"
    }
   },
   "outputs": [],
   "source": [
    "not_in_bids = pd.concat([batch123_andl4_testsamples_bids, non_controls_tobe_replaced[['biobank_id']]]).drop_duplicates().dropna()\n",
    "choose_from_these = pd.DataFrame(set(master_list.biobank_id) - (set(not_in_bids.biobank_id) - set('A568329493')), columns = ['biobank_id'])\n",
    "choose_from_these.sample(n = 1, random_state= 101420)\n",
    "#replace_n"
   ]
  },
  {
   "cell_type": "code",
   "execution_count": null,
   "metadata": {
    "ExecuteTime": {
     "end_time": "2020-10-14T17:21:11.491013Z",
     "start_time": "2020-10-14T17:21:11.460012Z"
    }
   },
   "outputs": [],
   "source": [
    "master_list.merge(choose_from_these.sample(n = 1, random_state= 101420)).drop_duplicates()"
   ]
  },
  {
   "cell_type": "markdown",
   "metadata": {},
   "source": [
    "### Making sure the chosen serum is not in any of the previous lists"
   ]
  },
  {
   "cell_type": "code",
   "execution_count": null,
   "metadata": {
    "ExecuteTime": {
     "end_time": "2020-10-14T16:54:07.264275Z",
     "start_time": "2020-10-14T16:54:07.261274Z"
    }
   },
   "outputs": [],
   "source": [
    "replacement_bid = '342296162'"
   ]
  },
  {
   "cell_type": "code",
   "execution_count": null,
   "metadata": {
    "ExecuteTime": {
     "end_time": "2020-10-14T17:25:01.527242Z",
     "start_time": "2020-10-14T17:25:01.521243Z"
    }
   },
   "outputs": [],
   "source": [
    "'A'+replacement_bid in set(second_file_sent['Biobank ID']) # -set(first_file_sent['Biobank ID']) - "
   ]
  },
  {
   "cell_type": "code",
   "execution_count": null,
   "metadata": {
    "ExecuteTime": {
     "end_time": "2020-10-14T17:24:55.355410Z",
     "start_time": "2020-10-14T17:24:55.350409Z"
    }
   },
   "outputs": [],
   "source": [
    "'A'+replacement_bid in set(first_file_sent['Biobank ID'])"
   ]
  },
  {
   "cell_type": "code",
   "execution_count": null,
   "metadata": {
    "ExecuteTime": {
     "end_time": "2020-10-14T17:24:43.043643Z",
     "start_time": "2020-10-14T17:24:43.037642Z"
    }
   },
   "outputs": [],
   "source": [
    "'A342296162' in set(not_in_bids.biobank_id)"
   ]
  },
  {
   "cell_type": "markdown",
   "metadata": {},
   "source": [
    "### replace old serum with new"
   ]
  },
  {
   "cell_type": "code",
   "execution_count": null,
   "metadata": {
    "ExecuteTime": {
     "end_time": "2020-10-14T17:22:17.638579Z",
     "start_time": "2020-10-14T17:22:17.632579Z"
    }
   },
   "outputs": [],
   "source": [
    "second_file_sent.loc[second_file_sent['Biobank ID'] == 'A568329493', 'Biobank ID'] = 'A'+replacement_bid"
   ]
  },
  {
   "cell_type": "markdown",
   "metadata": {},
   "source": [
    "##### QC"
   ]
  },
  {
   "cell_type": "code",
   "execution_count": null,
   "metadata": {
    "ExecuteTime": {
     "end_time": "2020-10-14T17:24:29.650239Z",
     "start_time": "2020-10-14T17:24:29.629237Z"
    }
   },
   "outputs": [],
   "source": [
    "342296162 in set(master_list.biobank_id)"
   ]
  },
  {
   "cell_type": "code",
   "execution_count": null,
   "metadata": {
    "ExecuteTime": {
     "end_time": "2020-10-14T17:22:18.630299Z",
     "start_time": "2020-10-14T17:22:18.622299Z"
    }
   },
   "outputs": [],
   "source": [
    "second_file_sent.loc[second_file_sent['Biobank ID'] == 'A568329493']"
   ]
  },
  {
   "cell_type": "code",
   "execution_count": null,
   "metadata": {
    "ExecuteTime": {
     "end_time": "2020-10-14T17:22:18.901319Z",
     "start_time": "2020-10-14T17:22:18.892314Z"
    }
   },
   "outputs": [],
   "source": [
    "second_file_sent.loc[second_file_sent['Biobank ID'] == 'A'+replacement_bid]"
   ]
  },
  {
   "cell_type": "code",
   "execution_count": null,
   "metadata": {
    "ExecuteTime": {
     "end_time": "2020-10-14T17:23:23.658023Z",
     "start_time": "2020-10-14T17:23:23.640024Z"
    }
   },
   "outputs": [],
   "source": [
    "master_list.loc[master_list['biobank_id'] == int(replacement_bid)].drop_duplicates()"
   ]
  },
  {
   "cell_type": "markdown",
   "metadata": {},
   "source": [
    "#### Save"
   ]
  },
  {
   "cell_type": "code",
   "execution_count": null,
   "metadata": {
    "ExecuteTime": {
     "end_time": "2020-10-14T17:25:31.182173Z",
     "start_time": "2020-10-14T17:25:31.166172Z"
    }
   },
   "outputs": [],
   "source": [
    "save_this_csv(second_file_sent, 'Mayo_Serology_batch4_replacedserums')"
   ]
  },
  {
   "cell_type": "markdown",
   "metadata": {},
   "source": [
    "# **10.22.2020** Sam emailed  to say some samples were duplicated and asked for them to be replace? \n",
    "I think they are supposed to be dups - Let's check"
   ]
  },
  {
   "cell_type": "code",
   "execution_count": null,
   "metadata": {
    "ExecuteTime": {
     "end_time": "2020-10-23T21:27:13.250315Z",
     "start_time": "2020-10-23T21:27:13.238313Z"
    }
   },
   "outputs": [],
   "source": [
    "serology_batch4_dups = pd.read_csv(data_directory+'serology_batch4_dups.csv')\n",
    "serology_batch4_dups['Biobank ID'].nunique()#head()"
   ]
  },
  {
   "cell_type": "code",
   "execution_count": null,
   "metadata": {
    "ExecuteTime": {
     "end_time": "2020-10-23T21:27:20.990090Z",
     "start_time": "2020-10-23T21:27:20.958094Z"
    }
   },
   "outputs": [],
   "source": [
    "Mayo_Serology_batch4_replacedserums = pd.read_csv(data_directory+'Mayo_Serology_batch4_replacedserums_2020-10-14_12.25.31.csv').drop('Replaced Biobank ID', axis= 1)\n",
    "Mayo_Serology_batch4_replacedserums"
   ]
  },
  {
   "cell_type": "code",
   "execution_count": null,
   "metadata": {
    "ExecuteTime": {
     "end_time": "2020-10-23T21:27:21.210103Z",
     "start_time": "2020-10-23T21:27:21.195100Z"
    }
   },
   "outputs": [],
   "source": [
    "serology_batch4_dups.merge(Mayo_Serology_batch4_replacedserums)[['Positive Control','Negative Control']].drop_duplicates()"
   ]
  },
  {
   "cell_type": "code",
   "execution_count": null,
   "metadata": {
    "ExecuteTime": {
     "end_time": "2020-10-23T21:27:22.311721Z",
     "start_time": "2020-10-23T21:27:22.297721Z"
    }
   },
   "outputs": [],
   "source": [
    "noncontrols_5146 = Mayo_Serology_batch4_replacedserums[(Mayo_Serology_batch4_replacedserums['Positive Control']== 'No')&\n",
    "                                    (Mayo_Serology_batch4_replacedserums['Negative Control'] == 'No')]\n",
    "noncontrols_5146"
   ]
  },
  {
   "cell_type": "code",
   "execution_count": null,
   "metadata": {
    "ExecuteTime": {
     "end_time": "2020-10-23T21:27:23.140721Z",
     "start_time": "2020-10-23T21:27:23.124722Z"
    }
   },
   "outputs": [],
   "source": [
    "noncontrols_5146[['Biobank ID']].drop_duplicates().merge(serology_batch4_dups)#[['Negative Control','Positive Control']].drop_duplicates()"
   ]
  },
  {
   "cell_type": "code",
   "execution_count": null,
   "metadata": {
    "ExecuteTime": {
     "end_time": "2020-10-23T21:27:24.612874Z",
     "start_time": "2020-10-23T21:27:24.601872Z"
    }
   },
   "outputs": [],
   "source": [
    "noncontrola_5146['Biobank ID'].nunique()"
   ]
  },
  {
   "cell_type": "markdown",
   "metadata": {},
   "source": [
    "------------------------------------------"
   ]
  },
  {
   "cell_type": "markdown",
   "metadata": {},
   "source": [
    "## I Cleaned up Mater List in the 01_ notebook, then will use that to get replacements\n",
    "\n",
    "I removed all the insufficients from batch4 and batch123_bids"
   ]
  },
  {
   "cell_type": "code",
   "execution_count": null,
   "metadata": {
    "ExecuteTime": {
     "end_time": "2020-10-23T21:27:25.338355Z",
     "start_time": "2020-10-23T21:27:25.323357Z"
    }
   },
   "outputs": [],
   "source": [
    "master_list.head()"
   ]
  },
  {
   "cell_type": "code",
   "execution_count": null,
   "metadata": {
    "ExecuteTime": {
     "end_time": "2020-10-23T21:27:27.185143Z",
     "start_time": "2020-10-23T21:27:27.177141Z"
    }
   },
   "outputs": [],
   "source": [
    "noncontrols_5126_batch4 = noncontrols_5146\n",
    "noncontrols_5126_batch4['biobank_id'] = [int(i.split('A')[1]) for i in noncontrols_5126_batch4['Biobank ID']]"
   ]
  },
  {
   "cell_type": "code",
   "execution_count": null,
   "metadata": {
    "ExecuteTime": {
     "end_time": "2020-10-23T21:27:27.286150Z",
     "start_time": "2020-10-23T21:27:27.274146Z"
    }
   },
   "outputs": [],
   "source": [
    "batch1234_testsamples_bids = pd.concat([noncontrols_5126_batch4[['biobank_id']], batch123_andl4_testsamples_bids]).drop_duplicates()\n",
    "batch1234_testsamples_bids"
   ]
  },
  {
   "cell_type": "code",
   "execution_count": null,
   "metadata": {
    "ExecuteTime": {
     "end_time": "2020-10-23T21:27:38.674555Z",
     "start_time": "2020-10-23T21:27:38.589554Z"
    }
   },
   "outputs": [],
   "source": [
    "add_to_batch4 = pull_batch(master_ls = master_list, \n",
    "                           batch_size = 20, \n",
    "                           batch_number= 4, previous_batch = batch1234_testsamples_bids)\n",
    "add_to_batch4#.head()"
   ]
  },
  {
   "cell_type": "code",
   "execution_count": null,
   "metadata": {
    "ExecuteTime": {
     "end_time": "2020-10-23T21:27:38.903336Z",
     "start_time": "2020-10-23T21:27:38.899331Z"
    }
   },
   "outputs": [],
   "source": [
    "add_to_batch4['Biobank ID'] = ['A'+str(i) for i in add_to_batch4['biobank_id']]"
   ]
  },
  {
   "cell_type": "code",
   "execution_count": null,
   "metadata": {
    "ExecuteTime": {
     "end_time": "2020-10-23T21:27:40.024504Z",
     "start_time": "2020-10-23T21:27:40.008500Z"
    }
   },
   "outputs": [],
   "source": [
    "add_to_batch4 = add_to_batch4.reset_index().drop('index', axis =1)\n",
    "add_to_batch4"
   ]
  },
  {
   "cell_type": "markdown",
   "metadata": {},
   "source": [
    " ### QC make sure the replacements are not in the previous files"
   ]
  },
  {
   "cell_type": "code",
   "execution_count": null,
   "metadata": {
    "ExecuteTime": {
     "end_time": "2020-10-23T21:27:44.617700Z",
     "start_time": "2020-10-23T21:27:44.599702Z"
    }
   },
   "outputs": [],
   "source": [
    "batch4_first_replacements = pd.read_excel(data_directory+'Mayo Serology Batch Replacements Needed.xlsx')\n",
    "batch4_first_replacements = batch4_first_replacements[batch4_first_replacements['Biobank ID'].str.contains('A')][['Biobank ID']].drop_duplicates()"
   ]
  },
  {
   "cell_type": "code",
   "execution_count": null,
   "metadata": {
    "ExecuteTime": {
     "end_time": "2020-10-23T21:27:45.379248Z",
     "start_time": "2020-10-23T21:27:45.368248Z"
    }
   },
   "outputs": [],
   "source": [
    "serology_batch4_dups['biobank_id'] = [int(i.split('A')[1]) for i in serology_batch4_dups['Biobank ID']]\n",
    "noncontrols_5146['biobank_id'] = [int(i.split('A')[1]) for i in noncontrols_5146['Biobank ID']]\n",
    "batch4_first_replacements['biobank_id'] = [int(i.split('A')[1]) for i in batch4_first_replacements['Biobank ID']]"
   ]
  },
  {
   "cell_type": "code",
   "execution_count": null,
   "metadata": {
    "ExecuteTime": {
     "end_time": "2020-10-23T21:27:46.179610Z",
     "start_time": "2020-10-23T21:27:46.173611Z"
    }
   },
   "outputs": [],
   "source": [
    "set(add_to_batch4.biobank_id) - set(serology_batch4_dups.biobank_id)"
   ]
  },
  {
   "cell_type": "code",
   "execution_count": null,
   "metadata": {
    "ExecuteTime": {
     "end_time": "2020-10-23T21:27:46.990099Z",
     "start_time": "2020-10-23T21:27:46.984099Z"
    }
   },
   "outputs": [],
   "source": [
    "set(add_to_batch4.biobank_id) - set(noncontrols_5146.biobank_id)"
   ]
  },
  {
   "cell_type": "code",
   "execution_count": null,
   "metadata": {
    "ExecuteTime": {
     "end_time": "2020-10-23T21:27:47.584210Z",
     "start_time": "2020-10-23T21:27:47.578213Z"
    }
   },
   "outputs": [],
   "source": [
    "len(set(add_to_batch4.biobank_id) - set(batch4_first_replacements.biobank_id))"
   ]
  },
  {
   "cell_type": "code",
   "execution_count": null,
   "metadata": {
    "ExecuteTime": {
     "end_time": "2020-10-23T21:27:48.236245Z",
     "start_time": "2020-10-23T21:27:48.230246Z"
    }
   },
   "outputs": [],
   "source": [
    "serology_batch4_dups['Biobank ID'].nunique()"
   ]
  },
  {
   "cell_type": "code",
   "execution_count": null,
   "metadata": {
    "ExecuteTime": {
     "end_time": "2020-10-23T21:27:48.674747Z",
     "start_time": "2020-10-23T21:27:48.658744Z"
    }
   },
   "outputs": [],
   "source": [
    "serology_batch4_dups = serology_batch4_dups.rename(columns = {'Biobank ID':'Dups Biobank ID'})\n",
    "serology_batch4_dups = serology_batch4_dups.reset_index().drop('index', axis =1)\n",
    "serology_batch4_dups['Biobank ID'] = serology_batch4_dups['Dups Biobank ID']\n",
    "serology_batch4_dups"
   ]
  },
  {
   "cell_type": "code",
   "execution_count": null,
   "metadata": {
    "ExecuteTime": {
     "end_time": "2020-10-23T21:27:50.453381Z",
     "start_time": "2020-10-23T21:27:50.444378Z"
    }
   },
   "outputs": [],
   "source": [
    "test = serology_batch4_dups[serology_batch4_dups['Dups Biobank ID'] == 'A972911044']\n",
    "test.head(1)"
   ]
  },
  {
   "cell_type": "markdown",
   "metadata": {},
   "source": [
    "## replace"
   ]
  },
  {
   "cell_type": "code",
   "execution_count": null,
   "metadata": {
    "ExecuteTime": {
     "end_time": "2020-10-23T21:09:33.618564Z",
     "start_time": "2020-10-23T21:09:33.614629Z"
    }
   },
   "outputs": [],
   "source": [
    "serology_batch4_dups.columns"
   ]
  },
  {
   "cell_type": "code",
   "execution_count": null,
   "metadata": {},
   "outputs": [],
   "source": [
    "serology_batch4_dups.sort_values('')"
   ]
  },
  {
   "cell_type": "code",
   "execution_count": null,
   "metadata": {
    "ExecuteTime": {
     "end_time": "2020-10-23T21:44:03.408838Z",
     "start_time": "2020-10-23T21:44:03.279831Z"
    }
   },
   "outputs": [],
   "source": [
    "add_to_batch4_wplates1 = pd.DataFrame(columns = ['Dups Biobank ID', 'Plate', 'biobank_id'])\n",
    "add_to_batch4_wplates2 = pd.DataFrame(columns = ['Dups Biobank ID', 'Plate', 'biobank_id'])\n",
    "for b in serology_batch4_dups['Dups Biobank ID']:\n",
    "    df = serology_batch4_dups[serology_batch4_dups['Dups Biobank ID'] == b]\n",
    "    df1 = df.head(1)\n",
    "    df2 = df.tail(1)\n",
    "    add_to_batch4_wplates1 = add_to_batch4_wplates1.append(df1)\n",
    "    add_to_batch4_wplates2 = add_to_batch4_wplates2.append(df2)\n",
    "add_to_batch4_wplates1 = add_to_batch4_wplates1.drop_duplicates().reset_index().drop('index', axis = 1)\n",
    "add_to_batch4_wplates2 = add_to_batch4_wplates2.drop_duplicates().reset_index().drop('index', axis = 1)"
   ]
  },
  {
   "cell_type": "code",
   "execution_count": null,
   "metadata": {
    "ExecuteTime": {
     "end_time": "2020-10-23T21:44:03.444842Z",
     "start_time": "2020-10-23T21:44:03.432841Z"
    }
   },
   "outputs": [],
   "source": [
    "serology_batch4_dups.sort_values('Plate')"
   ]
  },
  {
   "cell_type": "code",
   "execution_count": null,
   "metadata": {
    "ExecuteTime": {
     "end_time": "2020-10-23T21:44:05.701292Z",
     "start_time": "2020-10-23T21:44:05.695291Z"
    }
   },
   "outputs": [],
   "source": [
    "add_to_batch4['Plate'] = add_to_batch4_wplates2['Plate']\n",
    "add_to_batch4['Dups Biobank ID'] = add_to_batch4_wplates2['Dups Biobank ID']\n",
    "add_to_batch4_wplates = add_to_batch4[['Biobank ID','Plate','Dups Biobank ID']]"
   ]
  },
  {
   "cell_type": "code",
   "execution_count": null,
   "metadata": {
    "ExecuteTime": {
     "end_time": "2020-10-23T21:44:05.855301Z",
     "start_time": "2020-10-23T21:44:05.840302Z"
    }
   },
   "outputs": [],
   "source": [
    "add_to_batch4_wplates = pd.concat([add_to_batch4_wplates, add_to_batch4_wplates1.drop('biobank_id', axis = 1)]).sort_values('Dups Biobank ID')\n",
    "add_to_batch4_wplates"
   ]
  },
  {
   "cell_type": "code",
   "execution_count": null,
   "metadata": {
    "ExecuteTime": {
     "end_time": "2020-10-23T21:45:24.109227Z",
     "start_time": "2020-10-23T21:45:24.104228Z"
    }
   },
   "outputs": [],
   "source": [
    "add_to_batch4_wplates.to_csv(data_directory+'Serology_batch4_replaced_duplicates_10.23.2020.csv')"
   ]
  },
  {
   "cell_type": "code",
   "execution_count": null,
   "metadata": {
    "ExecuteTime": {
     "end_time": "2020-10-23T22:02:09.591867Z",
     "start_time": "2020-10-23T22:02:09.585868Z"
    }
   },
   "outputs": [],
   "source": [
    "add_to_batch4_wplates['Biobank ID'].nunique()"
   ]
  },
  {
   "cell_type": "code",
   "execution_count": null,
   "metadata": {},
   "outputs": [],
   "source": []
  }
 ],
 "metadata": {
  "kernelspec": {
   "display_name": "Python 3 (ipykernel)",
   "language": "python",
   "name": "python3"
  },
  "language_info": {
   "codemirror_mode": {
    "name": "ipython",
    "version": 3
   },
   "file_extension": ".py",
   "mimetype": "text/x-python",
   "name": "python",
   "nbconvert_exporter": "python",
   "pygments_lexer": "ipython3",
   "version": "3.9.12"
  },
  "nbTranslate": {
   "displayLangs": [
    "*"
   ],
   "hotkey": "alt-t",
   "langInMainMenu": true,
   "sourceLang": "en",
   "targetLang": "fr",
   "useGoogleTranslate": true
  },
  "toc": {
   "base_numbering": 1,
   "nav_menu": {},
   "number_sections": true,
   "sideBar": true,
   "skip_h1_title": false,
   "title_cell": "Table of Contents",
   "title_sidebar": "Contents",
   "toc_cell": true,
   "toc_position": {
    "height": "calc(100% - 180px)",
    "left": "10px",
    "top": "150px",
    "width": "286.969px"
   },
   "toc_section_display": true,
   "toc_window_display": true
  }
 },
 "nbformat": 4,
 "nbformat_minor": 4
}
