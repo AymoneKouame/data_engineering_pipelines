{
 "cells": [
  {
   "cell_type": "markdown",
   "metadata": {},
   "source": [
    "# SET UP"
   ]
  },
  {
   "cell_type": "code",
   "execution_count": null,
   "metadata": {
    "ExecuteTime": {
     "end_time": "2020-10-22T22:45:43.553970Z",
     "start_time": "2020-10-22T22:45:38.697142Z"
    }
   },
   "outputs": [],
   "source": [
    "%run ../CONNECTIONS/setup.ipynb"
   ]
  },
  {
   "cell_type": "code",
   "execution_count": null,
   "metadata": {
    "ExecuteTime": {
     "end_time": "2020-10-23T00:22:05.505014Z",
     "start_time": "2020-10-23T00:22:05.431008Z"
    }
   },
   "outputs": [],
   "source": [
    "%run Serology_All_Functions.ipynb"
   ]
  },
  {
   "cell_type": "code",
   "execution_count": null,
   "metadata": {
    "ExecuteTime": {
     "end_time": "2020-10-22T22:45:43.581969Z",
     "start_time": "2020-10-22T22:45:43.554969Z"
    }
   },
   "outputs": [],
   "source": [
    "# all files availables in the project folder\n",
    "import glob\n",
    "\n",
    "# Optional: View all the excel files in INPUT dir exported from GA\n",
    "location = '../DATA/DSC2'\n",
    "fileset = [file for file in glob.glob(location + \"**/***.*\", recursive=True)]\n",
    "n = 0\n",
    "for file in fileset:\n",
    "    #print()\n",
    "    print(n, file)\n",
    "    n+=1"
   ]
  },
  {
   "cell_type": "code",
   "execution_count": null,
   "metadata": {
    "ExecuteTime": {
     "end_time": "2020-07-01T17:56:08.004914Z",
     "start_time": "2020-07-01T17:56:07.998909Z"
    }
   },
   "outputs": [],
   "source": [
    "# To save files with today's date/timestamp\n",
    "today = str(datetime.today().strftime('%Y-%m-%d'))\n",
    "time = str(datetime.now().time())[:8]\n",
    "now = (today+'_'+time).replace(':','.')\n",
    "now"
   ]
  },
  {
   "cell_type": "code",
   "execution_count": null,
   "metadata": {
    "ExecuteTime": {
     "end_time": "2020-10-22T22:50:46.245234Z",
     "start_time": "2020-10-22T22:50:46.242234Z"
    }
   },
   "outputs": [],
   "source": [
    "data_directory = '../DATA\\\\DSC2\\\\'"
   ]
  },
  {
   "cell_type": "markdown",
   "metadata": {},
   "source": [
    "## Load needed Inputs"
   ]
  },
  {
   "cell_type": "code",
   "execution_count": null,
   "metadata": {
    "ExecuteTime": {
     "end_time": "2020-06-11T15:15:59.532657Z",
     "start_time": "2020-06-11T15:15:59.508654Z"
    }
   },
   "outputs": [],
   "source": [
    "## pull list of blood tests from dictionnary at \n",
    "# https://docs.google.com/spreadsheets/d/16TVEwQPYehExogaC-bFfZX3aBTKHFcdO1AeHUbnHOag/edit#gid=0\n",
    "\n",
    "blood_tests = pd.read_csv('../DATA/common_inputs/blood_bio_tests.csv').drop_duplicates().iloc[:,1:]\n",
    "blood_tests"
   ]
  },
  {
   "cell_type": "code",
   "execution_count": null,
   "metadata": {
    "ExecuteTime": {
     "end_time": "2020-06-11T15:28:45.395489Z",
     "start_time": "2020-06-11T15:28:45.392492Z"
    }
   },
   "outputs": [],
   "source": [
    "blood_tests2 = tuple(blood_tests.test)\n",
    "#blood_tests"
   ]
  },
  {
   "cell_type": "markdown",
   "metadata": {},
   "source": [
    "## Items to exclude from SQL Query"
   ]
  },
  {
   "cell_type": "markdown",
   "metadata": {},
   "source": [
    "'*Specimens from AI/AN participants and participants who withdrew before the first plate map is completed will be excluded from testing*"
   ]
  },
  {
   "cell_type": "code",
   "execution_count": null,
   "metadata": {
    "ExecuteTime": {
     "end_time": "2020-06-11T15:16:19.986422Z",
     "start_time": "2020-06-11T15:16:19.125555Z"
    }
   },
   "outputs": [],
   "source": [
    "# All participants who have withdrawn\n",
    "withdrawn = pd.read_sql('''\n",
    "        SELECT distinct participant_id, biobank_id, withdrawal_status\n",
    "        from participant_summary \n",
    "        where withdrawal_status =2\n",
    "\n",
    "''', cnx)\n",
    "withdrawn.head() "
   ]
  },
  {
   "cell_type": "code",
   "execution_count": null,
   "metadata": {
    "ExecuteTime": {
     "end_time": "2020-07-08T14:53:04.421473Z",
     "start_time": "2020-07-08T14:53:02.599173Z"
    }
   },
   "outputs": [],
   "source": [
    "# All participants who have at least one AIAN race chosen in code table\n",
    "atleast_oneAIAN_race = pd.read_sql('''\n",
    "        SELECT distinct ps.participant_id, biobank_id, short_value as race_c\n",
    "        from participant_summary ps\n",
    "        left join participant_race_answers p USING(participant_id)\n",
    "        left join code c USING(code_id)\n",
    "        where short_value = 'WhatRaceEthnicity_AIAN'\n",
    "\n",
    "''', cnx)\n",
    "atleast_oneAIAN_race"
   ]
  },
  {
   "cell_type": "code",
   "execution_count": null,
   "metadata": {
    "ExecuteTime": {
     "end_time": "2020-07-08T14:53:27.541945Z",
     "start_time": "2020-07-08T14:53:27.535944Z"
    }
   },
   "outputs": [],
   "source": [
    "atleast_oneAIAN_race.participant_id.nunique()"
   ]
  },
  {
   "cell_type": "code",
   "execution_count": null,
   "metadata": {
    "ExecuteTime": {
     "end_time": "2020-07-08T14:55:42.991386Z",
     "start_time": "2020-07-08T14:55:41.070401Z"
    }
   },
   "outputs": [],
   "source": [
    "\n",
    "# onlyAIAN_race = pd.read_sql('''\n",
    "#         SELECT count(distinct ps.participant_id)\n",
    "#         from participant_summary ps\n",
    "#         where race = 3\n",
    "# ''', cnx)\n",
    "# onlyAIAN_race"
   ]
  },
  {
   "cell_type": "code",
   "execution_count": null,
   "metadata": {
    "ExecuteTime": {
     "end_time": "2020-06-11T15:17:04.514899Z",
     "start_time": "2020-06-11T15:17:04.506898Z"
    }
   },
   "outputs": [],
   "source": [
    "PIDS_atleast_oneAIAN_race= tuple(atleast_oneAIAN_race.participant_id)\n",
    "len(atleast_oneAIAN_race.participant_id.drop_duplicates())"
   ]
  },
  {
   "cell_type": "markdown",
   "metadata": {},
   "source": [
    "--------------------------------------------------------------------------------------------"
   ]
  },
  {
   "cell_type": "code",
   "execution_count": null,
   "metadata": {
    "ExecuteTime": {
     "end_time": "2020-06-11T15:17:25.862050Z",
     "start_time": "2020-06-11T15:17:25.855051Z"
    }
   },
   "outputs": [],
   "source": [
    "wd_aian = tuple(set(list(withdrawn.participant_id) + list(atleast_oneAIAN_race.participant_id)))\n",
    "len(wd_aian)"
   ]
  },
  {
   "cell_type": "code",
   "execution_count": null,
   "metadata": {
    "ExecuteTime": {
     "end_time": "2020-06-11T15:17:42.540654Z",
     "start_time": "2020-06-11T15:17:42.537656Z"
    }
   },
   "outputs": [],
   "source": [
    "# We also need to exclude fake, ghosts and tests pids  - USE DIRECTLY IN SQL QUERY\n",
    "notfakes = '''p.is_ghost_id IS NULL\n",
    "    AND (ps.email NOT LIKE '%@example.com' or ps.email IS NULL)\n",
    "    AND p.hpo_id != 21\n",
    "    #AND (ps.withdrawal_status = 1 or ps.withdrawal_status is null) ## excludes withdrawn too\n",
    "    '''\n"
   ]
  },
  {
   "cell_type": "code",
   "execution_count": null,
   "metadata": {
    "ExecuteTime": {
     "end_time": "2020-06-11T15:53:45.937724Z",
     "start_time": "2020-06-11T15:53:28.561445Z"
    }
   },
   "outputs": [],
   "source": [
    "#NEW 6/11 To track the number of AI/AN and withdrawn per batch -- this is a proxy since we do not have them per batch\n",
    "# This is all the AI/AN that meet the condition sin the Master List belo and would have been included in the query\n",
    "AIAN_WD = pd.read_sql('''\n",
    "\n",
    "    SELECT distinct participant_id, p.withdrawal_status, bos.collected as DateBloodSampleCollected\n",
    "\n",
    "    FROM participant p\n",
    "    INNER JOIN participant_summary ps USING(participant_id)\n",
    "    INNER JOIN biobank_order bo USING(participant_id)\n",
    "    INNER JOIN biobank_ordered_sample bos on bo.biobank_order_id = bos.order_id\n",
    "    INNER JOIN biobank_order_identifier boi on boi.biobank_order_id = bo.biobank_order_id\n",
    "    INNER JOIN biobank_stored_sample bss on bss.biobank_order_identifier = boi.value\n",
    "    \n",
    "    WHERE {0} #exclude withdrawn, fake, tests\n",
    "    AND bos.collected > '2020-01-01 00:00:00'  # need to change this to '2020-01-01 00:00:00'per Mine's email on may 21, 2020\n",
    "                                                #to avoid running the whole query again, the 2020 date constraint was adjust in 2.3\n",
    "    AND bss.status = 1\n",
    "    AND lower(bos.test) IN {1}\n",
    "    \n",
    "   ## group by 1, bos.test, bos.collected, bss.confirmed, bss.status\n",
    "    \n",
    "    '''.format(notfakes, blood_tests2), cnx)\n",
    "\n",
    "\n",
    "#.merge(atleast_oneAIAN_race)#.merge(withdrawn)"
   ]
  },
  {
   "cell_type": "code",
   "execution_count": null,
   "metadata": {
    "ExecuteTime": {
     "end_time": "2020-06-11T15:54:31.458956Z",
     "start_time": "2020-06-11T15:54:31.442962Z"
    }
   },
   "outputs": [],
   "source": [
    "AIANs = AIAN_WD.merge(atleast_oneAIAN_race)\n",
    "AIANs.participant_id.nunique()"
   ]
  },
  {
   "cell_type": "code",
   "execution_count": null,
   "metadata": {
    "ExecuteTime": {
     "end_time": "2020-06-11T16:02:57.073062Z",
     "start_time": "2020-06-11T16:02:57.060061Z"
    }
   },
   "outputs": [],
   "source": [
    "#thoose between btach 1 dates\n",
    "AIANs[(AIANs.DateBloodSampleCollected > '2020-02-26 19:45:00') & (AIANs.DateBloodSampleCollected < '2020-03-18 16:04:00')]"
   ]
  },
  {
   "cell_type": "code",
   "execution_count": null,
   "metadata": {
    "ExecuteTime": {
     "end_time": "2020-06-11T16:34:04.451771Z",
     "start_time": "2020-06-11T16:34:04.435768Z"
    }
   },
   "outputs": [],
   "source": [
    "#thoose between btach 2 dates\n",
    "AIANs[(AIANs.DateBloodSampleCollected > '2020-02-12 19:20:00') & (AIANs.DateBloodSampleCollected < '2020-02-26 19:43:00')]"
   ]
  },
  {
   "cell_type": "code",
   "execution_count": null,
   "metadata": {},
   "outputs": [],
   "source": [
    "'2020-03-18 16:04:00', '2020-02-26 19:45:00')"
   ]
  },
  {
   "cell_type": "code",
   "execution_count": null,
   "metadata": {
    "ExecuteTime": {
     "end_time": "2020-06-11T16:03:35.939161Z",
     "start_time": "2020-06-11T16:03:35.922161Z"
    }
   },
   "outputs": [],
   "source": [
    "WDs = AIAN_WD.merge(withdrawn)\n",
    "WDs.participant_id.nunique()\n",
    "WDs[(WDs.DateBloodSampleCollected > '2020-02-26 19:45:00') & (WDs.DateBloodSampleCollected < '2020-03-18 16:04:00')]"
   ]
  },
  {
   "cell_type": "code",
   "execution_count": null,
   "metadata": {
    "ExecuteTime": {
     "end_time": "2020-06-11T16:36:35.141201Z",
     "start_time": "2020-06-11T16:36:35.123200Z"
    }
   },
   "outputs": [],
   "source": [
    "#batch 2\n",
    "WDs = AIAN_WD.merge(withdrawn)\n",
    "WDs.participant_id.nunique()\n",
    "WDs[(WDs.DateBloodSampleCollected > '2020-02-12 19:20:00') & (WDs.DateBloodSampleCollected < '2020-02-26 19:43:00')]"
   ]
  },
  {
   "cell_type": "markdown",
   "metadata": {},
   "source": [
    "# **Master List Pull** -  2020 Specimens"
   ]
  },
  {
   "cell_type": "markdown",
   "metadata": {},
   "source": [
    "Batches of specimen to be provided to QUEST will be pulled from the Master list.\n",
    "\n",
    "*`400 μL of serum will be provided to Quest from the biobank in tubes including target participant samples from 2020'*"
   ]
  },
  {
   "cell_type": "code",
   "execution_count": null,
   "metadata": {
    "ExecuteTime": {
     "end_time": "2020-06-08T19:41:48.539816Z",
     "start_time": "2020-06-08T19:40:26.689973Z"
    }
   },
   "outputs": [],
   "source": [
    "COVID_blood_samples = pd.read_sql('''\n",
    "\n",
    "    SELECT distinct participant_id, p.biobank_id, \n",
    "    #p.hpo_id, (select name from hpo h where h.hpo_id = p.hpo_id) as hpo,\n",
    "    #date_of_birth as DateOfBirth, sex_id, gender_identity_id, sexual_orientation_id,\n",
    "    (select display from code where code_id = state_id) as state,\n",
    "    race as Race,    \n",
    "    LEFT(zip_code, 5) as ZipCode,\n",
    "    bos.test, bos.collected as DateBloodSampleCollected,\n",
    "    bss.created as DateBloodSampleReceived\n",
    "\n",
    "    \n",
    "    FROM participant p\n",
    "    INNER JOIN participant_summary ps USING(participant_id)\n",
    "    INNER JOIN biobank_order bo USING(participant_id)\n",
    "    INNER JOIN biobank_ordered_sample bos on bo.biobank_order_id = bos.order_id\n",
    "    INNER JOIN biobank_order_identifier boi on boi.biobank_order_id = bo.biobank_order_id\n",
    "    INNER JOIN biobank_stored_sample bss on bss.biobank_order_identifier = boi.value\n",
    "    \n",
    "    WHERE p.participant_id NOT IN {0} ## remove all who selected at least one AIAN race\n",
    "    AND {1} #exclude withdrawn, fake, tests\n",
    "    AND bos.collected > 2020-01-01 00:00:00' #'2019-10-01 00:00:00'  # need to change this to '2020-01-01 00:00:00'per Mine's email on may 21, 2020\n",
    "                                                #to avoid running the whole query again, the 2020 date constraint was adjust in 2.3\n",
    "    AND bss.status = 1\n",
    "    AND lower(bos.test) IN {2}\n",
    "    \n",
    "   ## group by 1, bos.test, bos.collected, bss.confirmed, bss.status\n",
    "    \n",
    "    '''.format(wd_aian, exclude, blood_tests2), cnx)"
   ]
  },
  {
   "cell_type": "code",
   "execution_count": null,
   "metadata": {
    "ExecuteTime": {
     "end_time": "2020-06-08T19:41:48.558084Z",
     "start_time": "2020-06-08T19:41:48.539816Z"
    }
   },
   "outputs": [],
   "source": [
    "COVID_blood_samples.participant_id.drop_duplicates().count()"
   ]
  },
  {
   "cell_type": "markdown",
   "metadata": {},
   "source": [
    "## Data Quality Checks and Cleansing"
   ]
  },
  {
   "cell_type": "markdown",
   "metadata": {},
   "source": [
    "### Checking whether we have instances with received date < collected date"
   ]
  },
  {
   "cell_type": "code",
   "execution_count": null,
   "metadata": {},
   "outputs": [],
   "source": [
    "diff = COVID_blood_samples[['participant_id', 'biobank_id','DateBloodSampleReceived', 'DateBloodSampleCollected']]\n",
    "diff['diff'] = pd.DataFrame(pd.to_datetime(COVID_blood_samples['DateBloodSampleReceived']) -  pd.to_datetime(COVID_blood_samples['DateBloodSampleCollected']))\n",
    "diff"
   ]
  },
  {
   "cell_type": "code",
   "execution_count": null,
   "metadata": {},
   "outputs": [],
   "source": [
    "diff[['participant_id','biobank_id','diff']].drop_duplicates().sort_values('diff')#.groupby(['diff']).count()"
   ]
  },
  {
   "cell_type": "code",
   "execution_count": null,
   "metadata": {},
   "outputs": [],
   "source": [
    "diff.participant_id.drop_duplicates().count()"
   ]
  },
  {
   "cell_type": "code",
   "execution_count": null,
   "metadata": {},
   "outputs": [],
   "source": [
    "COVID_blood_samples.columns"
   ]
  },
  {
   "cell_type": "code",
   "execution_count": null,
   "metadata": {},
   "outputs": [],
   "source": []
  },
  {
   "cell_type": "markdown",
   "metadata": {},
   "source": [
    "### Getting the maximum dates for Collected and Received Samples"
   ]
  },
  {
   "cell_type": "code",
   "execution_count": null,
   "metadata": {},
   "outputs": [],
   "source": [
    "max_dates = COVID_blood_samples[['participant_id', 'biobank_id','DateBloodSampleCollected', 'DateBloodSampleReceived']].groupby(['participant_id', 'biobank_id'], as_index = False).max().drop_duplicates()"
   ]
  },
  {
   "cell_type": "code",
   "execution_count": null,
   "metadata": {},
   "outputs": [],
   "source": [
    "max_dates"
   ]
  },
  {
   "cell_type": "code",
   "execution_count": null,
   "metadata": {},
   "outputs": [],
   "source": [
    "COVID_blood_samples2 = pd.merge(COVID_blood_samples.drop(['DateBloodSampleCollected', 'DateBloodSampleReceived'],\n",
    "                                                        axis = 1).drop_duplicates(), max_dates, on =  ['participant_id','biobank_id'])"
   ]
  },
  {
   "cell_type": "code",
   "execution_count": null,
   "metadata": {},
   "outputs": [],
   "source": [
    "COVID_blood_samples2"
   ]
  },
  {
   "cell_type": "code",
   "execution_count": null,
   "metadata": {},
   "outputs": [],
   "source": []
  },
  {
   "cell_type": "code",
   "execution_count": null,
   "metadata": {},
   "outputs": [],
   "source": [
    "COVID_blood_samples2.test = [x.lower() for x in COVID_blood_samples2.test]\n",
    "blood_tests.test = [x.lower() for x in blood_tests.test]"
   ]
  },
  {
   "cell_type": "code",
   "execution_count": null,
   "metadata": {},
   "outputs": [],
   "source": [
    "COVID_blood_samples3 = pd.merge(COVID_blood_samples2, blood_tests, on = 'test', how = 'inner')\n",
    "COVID_blood_samples3 = COVID_blood_samples2.drop('test', axis = 1).drop_duplicates()\n",
    "COVID_blood_samples3.head()"
   ]
  },
  {
   "cell_type": "code",
   "execution_count": null,
   "metadata": {},
   "outputs": [],
   "source": [
    "COVID_blood_samples3.shape[0],COVID_blood_samples3.participant_id.drop_duplicates().count(), COVID_blood_samples3.biobank_id.drop_duplicates().count()"
   ]
  },
  {
   "cell_type": "markdown",
   "metadata": {},
   "source": [
    "## Adding code names to demographics"
   ]
  },
  {
   "cell_type": "code",
   "execution_count": null,
   "metadata": {},
   "outputs": [],
   "source": [
    "races = pd.read_csv('../INPUTS/ps.race_codes.csv')\n",
    "races.head()"
   ]
  },
  {
   "cell_type": "code",
   "execution_count": null,
   "metadata": {},
   "outputs": [],
   "source": [
    "sex = pd.read_sql('''\n",
    "\n",
    "    select distinct code_id as sex_id, REPLACE(short_value, 'SexAtBirth_', '') as SexAtBirth\n",
    "    from code \n",
    "    where topic = 'Biological Sex'\n",
    "    \n",
    "    ''', cnx)\n",
    "\n",
    "gi = pd.read_sql('''\n",
    "\n",
    "    select distinct code_id as gender_identity_id, REPLACE(short_value, 'GenderIdentity_', '') as GenderIdentity\n",
    "    from code \n",
    "    where topic = 'Gender'\n",
    "    \n",
    "    ''', cnx)\n",
    "\n",
    "so = pd.read_sql('''\n",
    "\n",
    "    select distinct code_id as sexual_orientation_id, REPLACE(short_value, 'SexualOrientation_', '') as SexualOrientation\n",
    "    from code \n",
    "    where topic = 'Sexual Orientation'\n",
    "    \n",
    "    ''', cnx)\n",
    "\n",
    "ethnicity = pd.read_sql('''\n",
    "\n",
    "    SELECT distinct participant_id, 'Hispanic' as Ethnicity\n",
    "    FROM participant_race_answers\n",
    "    WHERE code_id = 207\n",
    "\n",
    "     ''', cnx)\n",
    "\n",
    "ethnicity.head()"
   ]
  },
  {
   "cell_type": "code",
   "execution_count": null,
   "metadata": {},
   "outputs": [],
   "source": [
    "COVID_blood_samples3 = pd.merge(COVID_blood_samples2, races, how = 'left')\n",
    "COVID_blood_samples3 = pd.merge(COVID_blood_samples3, gi, how = 'left')\n",
    "COVID_blood_samples3 = pd.merge(COVID_blood_samples3, sex, how = 'left')\n",
    "COVID_blood_samples3 = pd.merge(COVID_blood_samples3, so, how = 'left').drop(['Race', 'sexual_orientation_id',\n",
    "                                                                              'sex_id','gender_identity_id'], axis =1)\n",
    "\n",
    "COVID_blood_samples3 = pd.merge(COVID_blood_samples3, ethnicity, how = 'left')\n",
    "COVID_blood_samples3['Ethnicity'] = COVID_blood_samples3['Ethnicity'].fillna('Non Hispanic')\n",
    "COVID_blood_samples3[['SexualOrientation','GenderIdentity','SexAtBirth']] = COVID_blood_samples3[['SexualOrientation','GenderIdentity','SexAtBirth']].fillna('Unset')\n",
    "\n",
    "\n",
    "COVID_blood_samples3.head()"
   ]
  },
  {
   "cell_type": "code",
   "execution_count": null,
   "metadata": {
    "scrolled": false
   },
   "outputs": [],
   "source": [
    "COVID_blood_samples4 = pd.merge(COVID_blood_samples3, blood_tests).drop_duplicates()\n",
    "COVID_blood_samples4"
   ]
  },
  {
   "cell_type": "markdown",
   "metadata": {},
   "source": [
    "### Concatenating Blood test types per PID so that we do not have double rows"
   ]
  },
  {
   "cell_type": "code",
   "execution_count": null,
   "metadata": {},
   "outputs": [],
   "source": [
    "COVID_blood_samples4['fluid'] = COVID_blood_samples4['fluid']+', '"
   ]
  },
  {
   "cell_type": "code",
   "execution_count": null,
   "metadata": {},
   "outputs": [],
   "source": [
    "types = COVID_blood_samples4[['participant_id', 'fluid']]\n",
    "types = types.groupby('participant_id').sum().reset_index().rename(columns = {'fluid':'SpecimenTypes'})\n",
    "#types"
   ]
  },
  {
   "cell_type": "code",
   "execution_count": null,
   "metadata": {},
   "outputs": [],
   "source": [
    "COVID_blood_samples5 = pd.merge(COVID_blood_samples4.drop('fluid', axis = 1), types, on = 'participant_id', how = 'left').drop_duplicates()\n",
    "COVID_blood_samples5.head()"
   ]
  },
  {
   "cell_type": "code",
   "execution_count": null,
   "metadata": {},
   "outputs": [],
   "source": [
    "# Check if any column has null values\n",
    "COVID_blood_samples5.isna().drop_duplicates()"
   ]
  },
  {
   "cell_type": "code",
   "execution_count": null,
   "metadata": {},
   "outputs": [],
   "source": [
    "#COVID_blood_samples5['Ethnicity'] = COVID_blood_samples5['Ethnicity'].fillna('Unset')"
   ]
  },
  {
   "cell_type": "code",
   "execution_count": null,
   "metadata": {},
   "outputs": [],
   "source": [
    "## rearranging column names\n",
    "COVID_blood_samples_final = COVID_blood_samples5[['participant_id', 'biobank_id', 'state',\n",
    "                                                      'DateOfBirth', 'SexAtBirth',\n",
    "                                                      'GenderIdentity', 'SexualOrientation', 'race', 'Ethnicity', \n",
    "                                                      'ZipCode', 'DateBloodSampleCollected','DateBloodSampleReceived', \n",
    "                                                      'SpecimenTypes']]"
   ]
  },
  {
   "cell_type": "code",
   "execution_count": null,
   "metadata": {},
   "outputs": [],
   "source": [
    "COVID_blood_samples_final"
   ]
  },
  {
   "cell_type": "code",
   "execution_count": null,
   "metadata": {},
   "outputs": [],
   "source": [
    "## dropping 2 pids with negative diff dates that we found above \n",
    "COVID_blood_samples_final = COVID_blood_samples_final[COVID_blood_samples_final.participant_id != 537352586]\n",
    "COVID_blood_samples_final = COVID_blood_samples_final[COVID_blood_samples_final.participant_id != 855613070]\n",
    "COVID_blood_samples_final"
   ]
  },
  {
   "cell_type": "markdown",
   "metadata": {},
   "source": [
    "### checking dates again"
   ]
  },
  {
   "cell_type": "code",
   "execution_count": null,
   "metadata": {},
   "outputs": [],
   "source": [
    "COVID_blood_samples_final"
   ]
  },
  {
   "cell_type": "code",
   "execution_count": null,
   "metadata": {},
   "outputs": [],
   "source": [
    "diff = COVID_blood_samples_final[['participant_id', 'biobank_id','DateBloodSampleReceived', 'DateBloodSampleCollected']]\n",
    "diff['diff'] = pd.DataFrame(pd.to_datetime(COVID_blood_samples_final['DateBloodSampleReceived']) -  pd.to_datetime(COVID_blood_samples_final['DateBloodSampleCollected']))\n",
    "diff"
   ]
  },
  {
   "cell_type": "code",
   "execution_count": null,
   "metadata": {},
   "outputs": [],
   "source": [
    "diff[['participant_id','biobank_id','diff']].drop_duplicates().sort_values('diff')#.groupby(['diff']).count()"
   ]
  },
  {
   "cell_type": "code",
   "execution_count": null,
   "metadata": {},
   "outputs": [],
   "source": [
    "COVID_blood_samples_final = COVID_blood_samples_final.sort_values('DateBloodSampleCollected', ascending= False)\n",
    "COVID_blood_samples_final"
   ]
  },
  {
   "cell_type": "code",
   "execution_count": null,
   "metadata": {},
   "outputs": [],
   "source": [
    "COVID_blood_samples_final.shape[0],COVID_blood_samples_final.participant_id.drop_duplicates().count(), COVID_blood_samples_final.biobank_id.drop_duplicates().count()"
   ]
  },
  {
   "cell_type": "code",
   "execution_count": null,
   "metadata": {},
   "outputs": [],
   "source": [
    "COVID_blood_samples5[['participant_id','biobank_id','DateBloodSampleCollected', 'DateBloodSampleReceived']].drop_duplicates().groupby(['participant_id','biobank_id']).count().sort_values('DateBloodSampleCollected', ascending = False)"
   ]
  },
  {
   "cell_type": "code",
   "execution_count": null,
   "metadata": {},
   "outputs": [],
   "source": [
    "print('Dates of collection and reception are unique. Some demographics are not, which is fine because those are multiselect.')"
   ]
  },
  {
   "cell_type": "code",
   "execution_count": null,
   "metadata": {},
   "outputs": [],
   "source": [
    "#COVID_blood_samples_final.to_csv('Antobodies_tests_Master_List.csv', index = False)"
   ]
  },
  {
   "cell_type": "code",
   "execution_count": null,
   "metadata": {},
   "outputs": [],
   "source": [
    "list(COVID_blood_samples_final.biobank_id)"
   ]
  },
  {
   "cell_type": "markdown",
   "metadata": {},
   "source": [
    "## **Jan 2020** Master List Clean Up \n",
    "Keeping in Master File only those who have blood serums according to Mine's List"
   ]
  },
  {
   "cell_type": "code",
   "execution_count": null,
   "metadata": {},
   "outputs": [],
   "source": [
    "master_list = pd.read_csv('Antobodies_tests_Master_List_05_18_2020.csv')\n",
    "master_list.head()"
   ]
  },
  {
   "cell_type": "code",
   "execution_count": null,
   "metadata": {},
   "outputs": [],
   "source": [
    "master_list_beforeJan2020 = master_list[master_list.DateBloodSampleCollected < '2020-01-01 00:00:00']\n",
    "master_list_beforeJan2020.DateBloodSampleCollected.max()"
   ]
  },
  {
   "cell_type": "code",
   "execution_count": null,
   "metadata": {},
   "outputs": [],
   "source": [
    "master_list_afterJan2020 = master_list[master_list.DateBloodSampleCollected >= '2020-01-01 00:00:00']\n",
    "master_list_afterJan2020.DateBloodSampleCollected.max()"
   ]
  },
  {
   "cell_type": "code",
   "execution_count": null,
   "metadata": {},
   "outputs": [],
   "source": [
    "master_list2.participant_id.nunique()#shape"
   ]
  },
  {
   "cell_type": "markdown",
   "metadata": {},
   "source": [
    "### Checking the bids with avaiable serums in Mine's list that are in our after jan 2020 list, removing AIANs and WD"
   ]
  },
  {
   "cell_type": "code",
   "execution_count": null,
   "metadata": {},
   "outputs": [],
   "source": [
    "batch1_SerumAvailability = pd.read_csv('Serology_batch1_SerumAvailability.csv')\n",
    "batch1_SerumAvailability['biobank_id'] = [batch1_SerumAvailability.loc[x,'Subject Description'][1:] for x in batch1_SerumAvailability.index]\n",
    "batch1_SerumAvailability['biobank_id'] = [int(x) for x in batch1_SerumAvailability['biobank_id']]\n",
    "\n",
    "batch1_SerumAvailability.head()"
   ]
  },
  {
   "cell_type": "code",
   "execution_count": null,
   "metadata": {},
   "outputs": [],
   "source": [
    "batch1_SerumAvailability.biobank_id.nunique()"
   ]
  },
  {
   "cell_type": "code",
   "execution_count": null,
   "metadata": {},
   "outputs": [],
   "source": [
    "batch1_SerumAvailability_maybeAIANnWD = pd.merge(batch1_SerumAvailability, AIAN_races, how = 'left')\n",
    "batch1_SerumAvailability_maybeAIANnWD = pd.merge(batch1_SerumAvailability_maybeAIANnWD, All_wd, how = 'left')\n",
    "# batch1_SerumAvailability_AIAN = batch1_SerumAvailability_maybeAIANnWD[batch1_SerumAvailability_maybeAIANnWD.race_c == 'WhatRaceEthnicity_AIAN']\n",
    "# batch1_SerumAvailability_AIAN.biobank_id.nunique()\n",
    "batch1_SerumAvailability_maybeAIANnWD.head()"
   ]
  },
  {
   "cell_type": "code",
   "execution_count": null,
   "metadata": {},
   "outputs": [],
   "source": [
    "batch1_SerumAvailability_noAIAN = batch1_SerumAvailability_maybeAIANnWD[batch1_SerumAvailability_maybeAIANnWD.race_c != 'WhatRaceEthnicity_AIAN']\n",
    "batch1_SerumAvailability_noAIANnoWD = batch1_SerumAvailability_noAIAN[batch1_SerumAvailability_noAIAN.withdrawal_status != 2]\n",
    "\n",
    "\n",
    "batch1_SerumAvailability_noAIANnoWD.biobank_id.nunique()"
   ]
  },
  {
   "cell_type": "code",
   "execution_count": null,
   "metadata": {},
   "outputs": [],
   "source": [
    "batch1_SerumAvailability_noAIANnoWD.head()"
   ]
  },
  {
   "cell_type": "code",
   "execution_count": null,
   "metadata": {},
   "outputs": [],
   "source": [
    "serum_availableafterjan2020 = pd.merge(master_list_afterJan2020, \n",
    "                                       batch1_SerumAvailability_noAIANnoWD[['biobank_id']],\n",
    "                                       how = 'inner')"
   ]
  },
  {
   "cell_type": "code",
   "execution_count": null,
   "metadata": {},
   "outputs": [],
   "source": [
    "serum_availableafterjan2020.biobank_id.nunique()#shape"
   ]
  },
  {
   "cell_type": "code",
   "execution_count": null,
   "metadata": {},
   "outputs": [],
   "source": [
    "serum_availableafterjan2020.race.drop_duplicates()"
   ]
  },
  {
   "cell_type": "code",
   "execution_count": null,
   "metadata": {},
   "outputs": [],
   "source": [
    "diff =  set(batch1_SerumAvailability.biobank_id) - set(serum_availableafterjan2020.biobank_id)\n",
    "len(diff)"
   ]
  },
  {
   "cell_type": "markdown",
   "metadata": {},
   "source": [
    "##### Merge with our before Jan list with Mine's list of available serum, no AIAN and WD"
   ]
  },
  {
   "cell_type": "code",
   "execution_count": null,
   "metadata": {},
   "outputs": [],
   "source": [
    "master_list_beforeJan2020.head()"
   ]
  },
  {
   "cell_type": "code",
   "execution_count": null,
   "metadata": {},
   "outputs": [],
   "source": [
    "serum_availableafterjan2020.head()"
   ]
  },
  {
   "cell_type": "markdown",
   "metadata": {},
   "source": [
    "### Save Final Sample Master file"
   ]
  },
  {
   "cell_type": "code",
   "execution_count": null,
   "metadata": {},
   "outputs": [],
   "source": [
    "#master_list_latest = master_list_beforeJan2020.append(serum_availableafterjan2020)\n",
    "master_list_latest = serum_availableafterjan2020\n",
    "master_list_latest= master_list_latest.drop_duplicates()\n",
    "master_list_latest.participant_id.nunique()"
   ]
  },
  {
   "cell_type": "code",
   "execution_count": null,
   "metadata": {},
   "outputs": [],
   "source": [
    "#master_list_latest.to_csv('Antobodies_tests_Master_List_'+now+'.csv', index = False)"
   ]
  },
  {
   "cell_type": "code",
   "execution_count": null,
   "metadata": {
    "ExecuteTime": {
     "end_time": "2020-07-01T16:54:53.340063Z",
     "start_time": "2020-07-01T16:54:53.131054Z"
    }
   },
   "outputs": [],
   "source": [
    "master_list = pd.read_csv('../DATA\\DSC2\\Antobodies_tests_Master_List_2020-05-21.csv').iloc[:,1:]"
   ]
  },
  {
   "cell_type": "code",
   "execution_count": null,
   "metadata": {
    "ExecuteTime": {
     "end_time": "2020-07-01T16:54:54.760279Z",
     "start_time": "2020-07-01T16:54:54.741288Z"
    }
   },
   "outputs": [],
   "source": [
    "master_list"
   ]
  },
  {
   "cell_type": "markdown",
   "metadata": {},
   "source": [
    "## **10.22.2020** Master List Clean Up"
   ]
  },
  {
   "cell_type": "code",
   "execution_count": null,
   "metadata": {
    "ExecuteTime": {
     "end_time": "2020-10-22T23:35:07.744257Z",
     "start_time": "2020-10-22T23:35:07.107220Z"
    }
   },
   "outputs": [],
   "source": [
    "master_list_afterbatch3 = pd.read_csv('../DATA\\DSC2\\master_list_afterBatch3_2020-08-11_14.18.07.csv')\n",
    "master_list_original = pd.read_csv('../DATA\\DSC2\\Antobodies_tests_Master_List_2020-05-21.csv')\n",
    "\n",
    "master_list_afterbatch3.head(3)"
   ]
  },
  {
   "cell_type": "markdown",
   "metadata": {},
   "source": [
    "### load all specimens that were used in previous batches"
   ]
  },
  {
   "cell_type": "code",
   "execution_count": null,
   "metadata": {
    "ExecuteTime": {
     "end_time": "2020-10-22T23:16:53.026704Z",
     "start_time": "2020-10-22T23:16:52.845690Z"
    }
   },
   "outputs": [],
   "source": [
    "# Load Previous batches\n",
    "batch1_manifest = pd.read_csv('../DATA\\\\DSC2\\\\batch1_manifest_fromMayo.csv')#[['biobank_id']]\n",
    "bath1_testsamples = transform_manifest(batch1_manifest, 'Biobank ID', master_list_df= master_list_original,\n",
    "                                       which_df = 'test samples')\n",
    "\n",
    "batch2_manifest = pd.read_csv('../DATA\\\\DSC2\\\\batch2_manifest_fromMayo.csv')#[['biobank_id']] #Manifest file from Mayo received July 22?\n",
    "bath2_testsamples = transform_manifest(batch2_manifest, 'Biobank ID', master_list_df= master_list_original,\n",
    "                                       which_df = 'test samples')\n",
    "\n",
    "batch3_manifest = pd.read_csv(data_directory+'Quest_AoU_Serology_Batch3_manifest_updated.csv').rename(columns = {'Sample ID':'Specimen ID'})\n",
    "batch3_manifest.loc[~batch3_manifest['Partners ID'].isnull(), 'Biobank ID'] = batch3_manifest.loc[~batch3_manifest['Partners ID'].isnull(), 'Partners ID']\n",
    "batch3_manifest = batch3_manifest.drop('Partners ID', axis = 1)\n",
    "\n",
    "bath3_testsamples = transform_manifest(batch3_manifest, 'Biobank ID', master_list_df= master_list_original,\n",
    "                                       which_df = 'test samples')\n"
   ]
  },
  {
   "cell_type": "code",
   "execution_count": null,
   "metadata": {
    "ExecuteTime": {
     "end_time": "2020-10-22T23:16:57.762001Z",
     "start_time": "2020-10-22T23:16:57.729996Z"
    }
   },
   "outputs": [],
   "source": [
    "# Get pervious batches negative controls list\n",
    "batch12_noncontrols_bids = bath1_testsamples[['biobank_id']].merge(bath2_testsamples[['biobank_id']], 'outer').drop_duplicates()\n",
    "batch123_noncontrols_bids = batch12_noncontrols_bids.merge(bath3_testsamples[['biobank_id']], 'outer').drop_duplicates()#.merge(list4_negativecontrols[['biobank_id']], 'outer').drop_duplicates()\n",
    "display(batch123_noncontrols_bids.head())\n",
    "batch123_noncontrols_bids.biobank_id.nunique()"
   ]
  },
  {
   "cell_type": "markdown",
   "metadata": {},
   "source": [
    "### load all files with specimens that have insufficient serums"
   ]
  },
  {
   "cell_type": "code",
   "execution_count": null,
   "metadata": {
    "ExecuteTime": {
     "end_time": "2020-10-22T23:22:18.671752Z",
     "start_time": "2020-10-22T23:22:18.647750Z"
    }
   },
   "outputs": [],
   "source": [
    "insufficient_serum_batch4 = pd.read_excel(data_directory+'Mayo Serology Batch Replacements Needed.xlsx')\n",
    "insufficient_serum_batch4 = insufficient_serum_batch4[~insufficient_serum_batch4['Biobank ID'].str.startswith('PIO')]\n",
    "insufficient_serum_batch4['biobank_id'] = [int(i.split('A')[1]) for i in insufficient_serum_batch4['Biobank ID']]\n",
    "\n",
    "insufficient_serum_batch4_total = pd.DataFrame(['568329493'], columns = ['biobank_id']).append(insufficient_serum_batch4)[['biobank_id']]\n",
    "insufficient_serum_batch4_total"
   ]
  },
  {
   "cell_type": "code",
   "execution_count": null,
   "metadata": {
    "ExecuteTime": {
     "end_time": "2020-10-22T23:37:46.186084Z",
     "start_time": "2020-10-22T23:37:46.180085Z"
    }
   },
   "outputs": [],
   "source": [
    "master_list_afterbatch3.biobank_id.nunique()"
   ]
  },
  {
   "cell_type": "code",
   "execution_count": null,
   "metadata": {
    "ExecuteTime": {
     "end_time": "2020-10-22T23:38:17.540914Z",
     "start_time": "2020-10-22T23:38:17.387906Z"
    }
   },
   "outputs": [],
   "source": [
    "master_list_afterbatch4 = pd.DataFrame(set(master_list_afterbatch3.biobank_id) - \n",
    "                                      (set(insufficient_serum_batch4_total.biobank_id).union(set(insufficient_serum_batch4_total.biobank_id))),\n",
    "            columns = ['biobank_id'])\n",
    "\n",
    "\n",
    "master_list_afterbatch4 = master_list_afterbatch4.merge(master_list_original).drop_duplicates()"
   ]
  },
  {
   "cell_type": "code",
   "execution_count": null,
   "metadata": {
    "ExecuteTime": {
     "end_time": "2020-10-22T23:38:20.254496Z",
     "start_time": "2020-10-22T23:38:20.248493Z"
    }
   },
   "outputs": [],
   "source": [
    "master_list_afterbatch4.participant_id.nunique()"
   ]
  },
  {
   "cell_type": "markdown",
   "metadata": {},
   "source": [
    "### Save new master list"
   ]
  },
  {
   "cell_type": "code",
   "execution_count": null,
   "metadata": {
    "ExecuteTime": {
     "end_time": "2020-10-22T23:38:41.721815Z",
     "start_time": "2020-10-22T23:38:41.451793Z"
    }
   },
   "outputs": [],
   "source": [
    "save_this_csv(master_list_afterbatch4, 'master_list_afterbatch4')"
   ]
  },
  {
   "cell_type": "code",
   "execution_count": null,
   "metadata": {},
   "outputs": [],
   "source": []
  },
  {
   "cell_type": "code",
   "execution_count": null,
   "metadata": {},
   "outputs": [],
   "source": []
  },
  {
   "cell_type": "markdown",
   "metadata": {},
   "source": [
    "------------------------------------"
   ]
  },
  {
   "cell_type": "markdown",
   "metadata": {},
   "source": [
    "# **Negative Controls Master List PULL** 2019 Specimens"
   ]
  },
  {
   "cell_type": "markdown",
   "metadata": {},
   "source": [
    "*'negative control participant samples date matched from 2019 ...Negative controls will be obtained from All of Us participants who enrolled in the program in 2019 matched to date range of the batch with geographic location matching as well.'*"
   ]
  },
  {
   "cell_type": "code",
   "execution_count": null,
   "metadata": {},
   "outputs": [],
   "source": [
    "COVID_controls = pd.read_sql('''\n",
    "\n",
    "    SELECT distinct participant_id, p.biobank_id, \n",
    "    #p.hpo_id, (select name from hpo h where h.hpo_id = p.hpo_id) as hpo,\n",
    "    #date_of_birth as DateOfBirth, sex_id, gender_identity_id, sexual_orientation_id,\n",
    "    race as Race, (select display from code where code_id = state_id) as state,   \n",
    "    LEFT(zip_code, 5) as ZipCode,\n",
    "    bos.test, bos.collected as DateBloodSampleCollected,\n",
    "    bss.created as DateBloodSampleReceived\n",
    "\n",
    "    \n",
    "    FROM participant p\n",
    "    INNER JOIN participant_summary ps USING(participant_id)\n",
    "    INNER JOIN biobank_order bo USING(participant_id)\n",
    "    INNER JOIN biobank_ordered_sample bos on bo.biobank_order_id = bos.order_id\n",
    "    INNER JOIN biobank_order_identifier boi on boi.biobank_order_id = bo.biobank_order_id\n",
    "    INNER JOIN biobank_stored_sample bss on bss.biobank_order_identifier = boi.value\n",
    "    \n",
    "    WHERE p.participant_id NOT IN {0} \n",
    "    AND participant_id NOT IN {1} ## remove all who selected at least one AIAN race\n",
    "    AND {2} #exclude withdrawn, fake, tests\n",
    "    AND bos.collected BETWEEN '2019-02-27 00:00:00' AND '2019-03-18 23:59:59'\n",
    "    AND bss.status = 1\n",
    "    AND lower(bos.test) IN {3}\n",
    "    \n",
    "   ## group by 1, bos.test, bos.collected, bss.confirmed, bss.status\n",
    "    \n",
    "    '''.format(tuple(COVID_blood_samples_final.participant_id),\n",
    "               PIDS_atleast_oneAIAN_race, exclude, blood_tests2), cnx)"
   ]
  },
  {
   "cell_type": "code",
   "execution_count": null,
   "metadata": {
    "ExecuteTime": {
     "end_time": "2020-06-09T15:48:49.595738Z",
     "start_time": "2020-06-09T15:48:49.583736Z"
    }
   },
   "outputs": [],
   "source": [
    "COVID_controls.head()"
   ]
  },
  {
   "cell_type": "code",
   "execution_count": null,
   "metadata": {},
   "outputs": [],
   "source": [
    "\n",
    "#COVID_controls.to_csv('COVID_controls_'+now+'.csv', index = False)"
   ]
  },
  {
   "cell_type": "code",
   "execution_count": null,
   "metadata": {
    "ExecuteTime": {
     "end_time": "2020-06-15T19:39:18.431183Z",
     "start_time": "2020-06-15T19:15:43.307049Z"
    }
   },
   "outputs": [],
   "source": [
    "#fileset[3]\n",
    "COVID_controls = pd.read_csv(fileset[3]).drop_duplicates()\n",
    "COVID_controls.head()"
   ]
  },
  {
   "cell_type": "code",
   "execution_count": null,
   "metadata": {
    "ExecuteTime": {
     "end_time": "2020-06-15T19:41:31.864131Z",
     "start_time": "2020-06-15T19:41:30.706756Z"
    }
   },
   "outputs": [],
   "source": [
    "COVID_controls = COVID_controls.drop('test', axis = 1).drop_duplicates()"
   ]
  },
  {
   "cell_type": "code",
   "execution_count": null,
   "metadata": {},
   "outputs": [],
   "source": []
  },
  {
   "cell_type": "code",
   "execution_count": null,
   "metadata": {
    "ExecuteTime": {
     "end_time": "2020-06-15T19:41:45.665553Z",
     "start_time": "2020-06-15T19:41:45.129499Z"
    }
   },
   "outputs": [],
   "source": [
    "COVID_controls.participant_id.drop_duplicates()"
   ]
  },
  {
   "cell_type": "code",
   "execution_count": null,
   "metadata": {
    "ExecuteTime": {
     "end_time": "2020-06-09T15:49:05.067959Z",
     "start_time": "2020-06-09T15:49:05.063962Z"
    }
   },
   "outputs": [],
   "source": [
    "COVID_controls.biobank_id.nunique()"
   ]
  },
  {
   "cell_type": "markdown",
   "metadata": {},
   "source": [
    "## Negative Control Master List Cleanup\n",
    "Remove from control Master File pids with unavailable serums at the biobank"
   ]
  },
  {
   "cell_type": "markdown",
   "metadata": {},
   "source": [
    "On May 20, 2020, Mine sent a file with all biobank ids that have serum available at the Mayo biobank from 2019. We need to check our control master file against that list to make sure all the controls we add tho the batches have available serum at the Mayo biobank."
   ]
  },
  {
   "cell_type": "markdown",
   "metadata": {},
   "source": [
    "### Load the file of available serum from 2019 and clean it up"
   ]
  },
  {
   "cell_type": "code",
   "execution_count": null,
   "metadata": {
    "ExecuteTime": {
     "end_time": "2020-06-24T20:55:39.775063Z",
     "start_time": "2020-06-24T20:55:39.771061Z"
    }
   },
   "outputs": [],
   "source": [
    "fileset[11]"
   ]
  },
  {
   "cell_type": "code",
   "execution_count": null,
   "metadata": {
    "ExecuteTime": {
     "end_time": "2020-06-24T20:55:45.875232Z",
     "start_time": "2020-06-24T20:55:45.821229Z"
    }
   },
   "outputs": [],
   "source": [
    "availableserums_4negcontrols = pd.read_csv(fileset[11])\n",
    "availableserums_4negcontrols.head()"
   ]
  },
  {
   "cell_type": "code",
   "execution_count": null,
   "metadata": {
    "ExecuteTime": {
     "end_time": "2020-06-24T20:55:52.321397Z",
     "start_time": "2020-06-24T20:55:52.299398Z"
    }
   },
   "outputs": [],
   "source": [
    "## From my conversation with francis, Mine included some biobank IDs starting with B. These should be removed\n",
    "availableserums_4negcontrols[availableserums_4negcontrols.Externalparticipant.str.startswith('B')]\n"
   ]
  },
  {
   "cell_type": "code",
   "execution_count": null,
   "metadata": {
    "ExecuteTime": {
     "end_time": "2020-06-24T20:56:03.773096Z",
     "start_time": "2020-06-24T20:56:03.758092Z"
    }
   },
   "outputs": [],
   "source": [
    "availableserums_4negcontrols = availableserums_4negcontrols[~availableserums_4negcontrols.Externalparticipant.str.startswith('B')]"
   ]
  },
  {
   "cell_type": "code",
   "execution_count": null,
   "metadata": {
    "ExecuteTime": {
     "end_time": "2020-06-24T21:00:16.985520Z",
     "start_time": "2020-06-24T21:00:16.958516Z"
    }
   },
   "outputs": [],
   "source": [
    "#Removing the letter 'A' in front of the biobank IDS\n",
    "availableserums_4negcontrolsPids = availableserums_4negcontrols.drop_duplicates()\n",
    "#availableserums_4negcontrolsPids.Externalparticipant = [int(i.split('A')[1]) for i in availableserums_4negcontrolsPids.Externalparticipant]\n",
    "#availableserums_4negcontrolsPids = pd.DataFrame(availableserums_4negcontrolsPids)\n",
    "availableserums_4negcontrolsPids = availableserums_4negcontrolsPids.rename(columns = {'Externalparticipant':'biobank_id'})\n",
    "availableserums_4negcontrolsPids"
   ]
  },
  {
   "cell_type": "markdown",
   "metadata": {},
   "source": [
    "#### removing samples with insufficient serums that were still in Mine's list - jUNE 15,2020"
   ]
  },
  {
   "cell_type": "code",
   "execution_count": null,
   "metadata": {
    "ExecuteTime": {
     "end_time": "2020-06-24T21:06:14.378518Z",
     "start_time": "2020-06-24T21:06:14.344513Z"
    }
   },
   "outputs": [],
   "source": [
    "availableserums_4negcontrolsPids = availableserums_4negcontrolsPids[availableserums_4negcontrolsPids.biobank_id != 'A538648580'].drop_duplicates()\n",
    "availableserums_4negcontrolsPids"
   ]
  },
  {
   "cell_type": "code",
   "execution_count": null,
   "metadata": {
    "ExecuteTime": {
     "end_time": "2020-06-24T21:06:17.585654Z",
     "start_time": "2020-06-24T21:06:17.580656Z"
    }
   },
   "outputs": [],
   "source": [
    "len(availableserums_4negcontrolsPids)"
   ]
  },
  {
   "cell_type": "code",
   "execution_count": null,
   "metadata": {
    "ExecuteTime": {
     "end_time": "2020-06-24T21:08:47.253951Z",
     "start_time": "2020-06-24T21:08:47.159946Z"
    }
   },
   "outputs": [],
   "source": [
    "availableserums_4negcontrolsPids.to_csv('../DATA/DSC2/NegControls_mustMatch_availableSerumsin2019_'+now+'.csv', index = False)"
   ]
  },
  {
   "cell_type": "markdown",
   "metadata": {},
   "source": [
    "### June 15, 2020 - Removing another unavaible serum from list"
   ]
  },
  {
   "cell_type": "markdown",
   "metadata": {},
   "source": [
    "On June, 2020 Mine said a bid wih unvailable serum (538648580) made it to the list she sent us on May 20. let's remove it from the file"
   ]
  },
  {
   "cell_type": "code",
   "execution_count": null,
   "metadata": {
    "ExecuteTime": {
     "end_time": "2020-06-24T20:48:40.038877Z",
     "start_time": "2020-06-24T20:48:40.032876Z"
    }
   },
   "outputs": [],
   "source": [
    "fileset[6]"
   ]
  },
  {
   "cell_type": "code",
   "execution_count": null,
   "metadata": {
    "ExecuteTime": {
     "end_time": "2020-06-24T20:52:41.657430Z",
     "start_time": "2020-06-24T20:52:41.629428Z"
    }
   },
   "outputs": [],
   "source": [
    "availableserums_4negcontrolsPids = pd.read_csv(fileset[6])\n",
    "availableserums_4negcontrolsPids.head()"
   ]
  },
  {
   "cell_type": "code",
   "execution_count": null,
   "metadata": {
    "ExecuteTime": {
     "end_time": "2020-06-24T20:52:47.839240Z",
     "start_time": "2020-06-24T20:52:47.830239Z"
    }
   },
   "outputs": [],
   "source": [
    "availableserums_4negcontrolsPids[availableserums_4negcontrolsPids.biobank_id == 538648580]\n"
   ]
  },
  {
   "cell_type": "code",
   "execution_count": null,
   "metadata": {
    "ExecuteTime": {
     "end_time": "2020-06-15T19:42:32.992735Z",
     "start_time": "2020-06-15T19:42:32.985737Z"
    }
   },
   "outputs": [],
   "source": [
    "availableserums_4negcontrolsPids = availableserums_4negcontrolsPids[availableserums_4negcontrolsPids.biobank_id != 538648580]\n",
    "len(availableserums_4negcontrolsPids)"
   ]
  },
  {
   "cell_type": "markdown",
   "metadata": {},
   "source": [
    "### Inner merge available serum file with Controls Master file\n",
    "And save new control Master file List"
   ]
  },
  {
   "cell_type": "code",
   "execution_count": null,
   "metadata": {
    "ExecuteTime": {
     "end_time": "2020-06-15T19:45:16.786998Z",
     "start_time": "2020-06-15T19:45:16.760000Z"
    }
   },
   "outputs": [],
   "source": [
    "COVID_controls2 = pd.merge(availableserums_4negcontrolsPids, COVID_controls)\n",
    "COVID_controls2.head()"
   ]
  },
  {
   "cell_type": "code",
   "execution_count": null,
   "metadata": {
    "ExecuteTime": {
     "end_time": "2020-06-15T19:45:16.967010Z",
     "start_time": "2020-06-15T19:45:16.962014Z"
    }
   },
   "outputs": [],
   "source": [
    "COVID_controls2.shape"
   ]
  },
  {
   "cell_type": "markdown",
   "metadata": {},
   "source": [
    "## Match the Negative Control States with the Samples States"
   ]
  },
  {
   "cell_type": "code",
   "execution_count": null,
   "metadata": {
    "ExecuteTime": {
     "end_time": "2020-06-15T19:45:42.786689Z",
     "start_time": "2020-06-15T19:45:20.499788Z"
    }
   },
   "outputs": [],
   "source": [
    "COVID_controls2= pd.merge(COVID_controls2, master_list_latest[['state']]).drop_duplicates()"
   ]
  },
  {
   "cell_type": "code",
   "execution_count": null,
   "metadata": {
    "ExecuteTime": {
     "end_time": "2020-06-15T19:45:42.797525Z",
     "start_time": "2020-06-15T19:45:42.786689Z"
    }
   },
   "outputs": [],
   "source": [
    "COVID_controls2.biobank_id.nunique()"
   ]
  },
  {
   "cell_type": "code",
   "execution_count": null,
   "metadata": {
    "ExecuteTime": {
     "end_time": "2020-06-24T20:50:42.276054Z",
     "start_time": "2020-06-24T20:50:42.269050Z"
    }
   },
   "outputs": [],
   "source": [
    "COVID_controls2 = COVID_controls2[COVID_controls2.biobank_id != 538648580]\n",
    "COVID_controls2.biobank_id.nunique()"
   ]
  },
  {
   "cell_type": "markdown",
   "metadata": {},
   "source": [
    "## Save Negative Controls List"
   ]
  },
  {
   "cell_type": "code",
   "execution_count": null,
   "metadata": {
    "ExecuteTime": {
     "end_time": "2020-06-15T19:45:46.894703Z",
     "start_time": "2020-06-15T19:45:46.799699Z"
    }
   },
   "outputs": [],
   "source": [
    "COVID_controls2.to_csv('../DATA/DSC2/COVID_controls_'+now+'.csv', index = False)\n",
    "COVID_controls2.biobank_id.nunique()"
   ]
  },
  {
   "cell_type": "markdown",
   "metadata": {},
   "source": [
    "## NEW **June 30, 2020** Received New list of available serums from Sam at the biobank. \n",
    "\n",
    "We need to match the master negative control list with those"
   ]
  },
  {
   "cell_type": "code",
   "execution_count": null,
   "metadata": {
    "ExecuteTime": {
     "end_time": "2020-07-01T17:34:12.551655Z",
     "start_time": "2020-07-01T17:34:12.368643Z"
    }
   },
   "outputs": [],
   "source": [
    "available_serums = pd.read_csv('../DATA\\\\DSC2\\\\11.1.2019-3.18.2020 Available Serum.csv')"
   ]
  },
  {
   "cell_type": "code",
   "execution_count": null,
   "metadata": {
    "ExecuteTime": {
     "end_time": "2020-07-01T17:21:11.109139Z",
     "start_time": "2020-07-01T17:21:11.098140Z"
    }
   },
   "outputs": [],
   "source": [
    "negative_serums.head()\n",
    "available_serums.head()"
   ]
  },
  {
   "cell_type": "markdown",
   "metadata": {},
   "source": [
    "### Check if all pids in the master_list have available serums"
   ]
  },
  {
   "cell_type": "code",
   "execution_count": null,
   "metadata": {
    "ExecuteTime": {
     "end_time": "2020-07-01T17:21:29.199638Z",
     "start_time": "2020-07-01T17:21:29.099630Z"
    }
   },
   "outputs": [],
   "source": [
    "available_serums_bids = available_serums[available_serums['Subject Description'].str.startswith('A')]\n",
    "available_serums_KIT = available_serums[~available_serums['Subject Description'].str.startswith('A')]"
   ]
  },
  {
   "cell_type": "code",
   "execution_count": null,
   "metadata": {
    "ExecuteTime": {
     "end_time": "2020-07-01T18:20:01.126034Z",
     "start_time": "2020-07-01T18:20:01.107036Z"
    }
   },
   "outputs": [],
   "source": [
    "available_serums_bids"
   ]
  },
  {
   "cell_type": "code",
   "execution_count": null,
   "metadata": {
    "ExecuteTime": {
     "end_time": "2020-07-01T17:26:16.681338Z",
     "start_time": "2020-07-01T17:26:16.571333Z"
    }
   },
   "outputs": [],
   "source": [
    "available_serums_bids['biobank_id'] = [int(i.split('A')[1]) for i in available_serums_bids['Subject Description']]"
   ]
  },
  {
   "cell_type": "code",
   "execution_count": null,
   "metadata": {
    "ExecuteTime": {
     "end_time": "2020-07-01T17:26:41.560987Z",
     "start_time": "2020-07-01T17:26:41.527988Z"
    }
   },
   "outputs": [],
   "source": [
    "pd.merge(master_list.biobank_id.drop_duplicates(),available_serums_bids.biobank_id.drop_duplicates())"
   ]
  },
  {
   "cell_type": "code",
   "execution_count": null,
   "metadata": {
    "ExecuteTime": {
     "end_time": "2020-07-01T17:27:57.033167Z",
     "start_time": "2020-07-01T17:27:57.021167Z"
    }
   },
   "outputs": [],
   "source": [
    "master_list.biobank_id.nunique(), available_serums_bids.biobank_id.nunique()"
   ]
  },
  {
   "cell_type": "code",
   "execution_count": null,
   "metadata": {
    "ExecuteTime": {
     "end_time": "2020-07-01T17:32:08.681361Z",
     "start_time": "2020-07-01T17:32:08.660359Z"
    }
   },
   "outputs": [],
   "source": [
    "available_serums_bids['Collection Date'].min(), available_serums_bids['Collection Date'].max()"
   ]
  },
  {
   "cell_type": "markdown",
   "metadata": {},
   "source": [
    "**Email from Sam:**\n",
    "\n",
    "*Hello Aymone,\n",
    "Attached is an updated list of all AoU serum in storage from 11/1/2019-3/18/2020 with participants who have already been selected in batch 1 and 2 removed. I have will also include a list with those same date ranges for 2018-2019 for negative control selection in a separate email due to file size. The volume for all samples has been included so we can ensure that there is a sample with suitable volume for each participant chosen, particularly for the negative controls that require double the volume to aliquot in duplicate. Please let me know if you have any questions.*\n"
   ]
  },
  {
   "cell_type": "markdown",
   "metadata": {},
   "source": [
    "**There are 33K pids in the list of available serums sent by the biobank (all from 2020), excluding those from batch 1 and 2. Our master file has 54k, of which 31K are in the available serum list. Since the pids fr batches 1 and 2 have already been done.I will not merge the two files. Instead for batch 3, I will make sure that the pids are in the available serums**"
   ]
  },
  {
   "cell_type": "code",
   "execution_count": null,
   "metadata": {
    "ExecuteTime": {
     "end_time": "2020-07-01T18:19:41.169592Z",
     "start_time": "2020-07-01T18:19:40.530546Z"
    }
   },
   "outputs": [],
   "source": [
    "available_serums_bids.to_csv('../DATA\\\\DSC2\\\\11.1.2019-3.18.2020 Available Serum with bids.csv')"
   ]
  },
  {
   "cell_type": "markdown",
   "metadata": {},
   "source": [
    "### Check that all henagtive controls in our master list have availble serums"
   ]
  },
  {
   "cell_type": "code",
   "execution_count": null,
   "metadata": {},
   "outputs": [],
   "source": []
  },
  {
   "cell_type": "code",
   "execution_count": null,
   "metadata": {
    "ExecuteTime": {
     "end_time": "2020-08-05T18:55:17.976928Z",
     "start_time": "2020-08-05T18:55:17.712913Z"
    }
   },
   "outputs": [],
   "source": [
    "negative_serums = pd.read_csv('../DATA\\\\DSC2\\\\11.1.2018-3.18.2019 Negative Serum with bids.csv')\n",
    "negative_serums.head()"
   ]
  },
  {
   "cell_type": "code",
   "execution_count": null,
   "metadata": {
    "ExecuteTime": {
     "end_time": "2020-08-05T18:55:31.580801Z",
     "start_time": "2020-08-05T18:55:31.578802Z"
    }
   },
   "outputs": [],
   "source": [
    "#negative_serums['Subject Description'].sort_values()"
   ]
  },
  {
   "cell_type": "code",
   "execution_count": null,
   "metadata": {
    "ExecuteTime": {
     "end_time": "2020-08-05T18:55:35.573255Z",
     "start_time": "2020-08-05T18:55:35.570256Z"
    }
   },
   "outputs": [],
   "source": [
    "#negative_serums['biobank_id'] = [int(i.split('A')[1]) for i in negative_serums['Subject Description']]"
   ]
  },
  {
   "cell_type": "code",
   "execution_count": null,
   "metadata": {
    "ExecuteTime": {
     "end_time": "2020-08-05T18:55:39.174146Z",
     "start_time": "2020-08-05T18:55:39.171144Z"
    }
   },
   "outputs": [],
   "source": [
    "#negative_serums"
   ]
  },
  {
   "cell_type": "code",
   "execution_count": null,
   "metadata": {
    "ExecuteTime": {
     "end_time": "2020-08-05T18:55:52.463633Z",
     "start_time": "2020-08-05T18:55:52.420631Z"
    }
   },
   "outputs": [],
   "source": [
    "COVID_controls2 = pd.read_csv('../DATA\\DSC2\\COVID_controls_2020-06-15_14.14.52.csv')"
   ]
  },
  {
   "cell_type": "code",
   "execution_count": null,
   "metadata": {
    "ExecuteTime": {
     "end_time": "2020-08-05T18:55:53.932914Z",
     "start_time": "2020-08-05T18:55:53.902910Z"
    }
   },
   "outputs": [],
   "source": [
    "pd.merge(COVID_controls2.biobank_id.drop_duplicates(),negative_serums.biobank_id.drop_duplicates())"
   ]
  },
  {
   "cell_type": "code",
   "execution_count": null,
   "metadata": {
    "ExecuteTime": {
     "end_time": "2020-08-05T18:56:06.531860Z",
     "start_time": "2020-08-05T18:56:06.523860Z"
    }
   },
   "outputs": [],
   "source": [
    "COVID_controls2.biobank_id.nunique(), negative_serums.biobank_id.nunique()"
   ]
  },
  {
   "cell_type": "code",
   "execution_count": null,
   "metadata": {
    "ExecuteTime": {
     "end_time": "2020-07-01T17:55:32.129111Z",
     "start_time": "2020-07-01T17:55:31.994103Z"
    }
   },
   "outputs": [],
   "source": [
    "COVID_controls3 = pd.merge(COVID_controls2, negative_serums).drop_duplicates()\n",
    "COVID_controls3"
   ]
  },
  {
   "cell_type": "code",
   "execution_count": null,
   "metadata": {
    "ExecuteTime": {
     "end_time": "2020-07-01T17:56:28.555542Z",
     "start_time": "2020-07-01T17:56:28.349532Z"
    }
   },
   "outputs": [],
   "source": [
    "COVID_controls3.to_csv('../DATA/DSC2/COVID_controls_afterbatch2'+now+'.csv', index = False)\n",
    "COVID_controls3.biobank_id.nunique()"
   ]
  },
  {
   "cell_type": "code",
   "execution_count": null,
   "metadata": {
    "ExecuteTime": {
     "end_time": "2020-07-01T18:21:07.605807Z",
     "start_time": "2020-07-01T18:21:06.841751Z"
    }
   },
   "outputs": [],
   "source": [
    "negative_serums.to_csv('../DATA\\\\DSC2\\\\11.1.2018-3.18.2019 Negative Serum with bids.csv')"
   ]
  },
  {
   "cell_type": "markdown",
   "metadata": {},
   "source": [
    "## **10.22.2020** Negative Control Clean up"
   ]
  },
  {
   "cell_type": "code",
   "execution_count": null,
   "metadata": {
    "ExecuteTime": {
     "end_time": "2020-10-22T23:54:29.482538Z",
     "start_time": "2020-10-22T23:54:29.312528Z"
    }
   },
   "outputs": [],
   "source": [
    "negative_controls_master4 = pd.read_csv('../DATA\\\\DSC2\\\\negative_controls_master_afterlist4_2020.10.08.csv').iloc[:,1:]\n",
    "negative_controls_master_original = pd.read_csv('../DATA\\DSC2\\COVID_controls_2020-06-15_14.14.52.csv') #very first\n",
    "\n",
    "#removing all the crap and dups\n",
    "negative_controls_master4 = negative_controls_master4[['participant_id','biobank_id', 'Negative Control','Positive Control']].drop_duplicates().merge(negative_controls_master_original)\n",
    "negative_controls_master4.head()"
   ]
  },
  {
   "cell_type": "code",
   "execution_count": null,
   "metadata": {
    "ExecuteTime": {
     "end_time": "2020-10-22T23:43:51.885658Z",
     "start_time": "2020-10-22T23:43:51.878656Z"
    }
   },
   "outputs": [],
   "source": [
    "## from Ortho/Roche list 4\n",
    "insufficient_neg_ortho_roche_batch12 = pd.DataFrame([215453393, 167765452, 570857394, 215933740], columns = ['biobank_id'])\n",
    "insufficient_neg_ortho_roche_batch12"
   ]
  },
  {
   "cell_type": "code",
   "execution_count": null,
   "metadata": {
    "ExecuteTime": {
     "end_time": "2020-10-22T23:54:42.983425Z",
     "start_time": "2020-10-22T23:54:42.908418Z"
    }
   },
   "outputs": [],
   "source": [
    "negative_controls_master5 = pd.DataFrame(set(negative_controls_master4.biobank_id) -set(insufficient_neg_ortho_roche_batch12.biobank_id),\n",
    "            columns = ['biobank_id'])\n",
    "\n",
    "negative_controls_master5= negative_controls_master5.merge(negative_controls_master4).drop_duplicates()\n",
    "save_this_csv(negative_controls_master5, 'negative_controls_master_afterbatch4')"
   ]
  },
  {
   "cell_type": "code",
   "execution_count": null,
   "metadata": {
    "ExecuteTime": {
     "end_time": "2020-10-22T23:54:44.569509Z",
     "start_time": "2020-10-22T23:54:44.554508Z"
    }
   },
   "outputs": [],
   "source": [
    "negative_controls_master5.head()"
   ]
  },
  {
   "cell_type": "markdown",
   "metadata": {},
   "source": [
    "# **Positive Control Lists** Specimens from Partners\n",
    "\n",
    "*'and positive controls from consortia donations.'*"
   ]
  },
  {
   "cell_type": "code",
   "execution_count": null,
   "metadata": {
    "ExecuteTime": {
     "end_time": "2020-06-10T15:52:04.654210Z",
     "start_time": "2020-06-10T15:52:04.300624Z"
    }
   },
   "outputs": [],
   "source": [
    "import pandas as pd\n",
    "COVID_positive_controls = pd.read_csv('../DATA/DSC2/Vanderbilt_COVID Positive Controls_05.26.20.csv')"
   ]
  },
  {
   "cell_type": "code",
   "execution_count": null,
   "metadata": {
    "ExecuteTime": {
     "end_time": "2020-06-10T15:52:10.722726Z",
     "start_time": "2020-06-10T15:52:10.711727Z"
    }
   },
   "outputs": [],
   "source": [
    "COVID_positive_controls= COVID_positive_controls.dropna()#[['Sample ID','Positive Classification','']]\n",
    "COVID_positive_controls.shape"
   ]
  },
  {
   "cell_type": "markdown",
   "metadata": {},
   "source": [
    "## generating random IDs for the positive controls to give to quest -- we can match later with the map"
   ]
  },
  {
   "cell_type": "code",
   "execution_count": null,
   "metadata": {
    "ExecuteTime": {
     "end_time": "2020-06-10T15:53:17.800293Z",
     "start_time": "2020-06-10T15:53:17.787294Z"
    }
   },
   "outputs": [],
   "source": [
    "COVID_positive_controls.head()"
   ]
  },
  {
   "cell_type": "code",
   "execution_count": null,
   "metadata": {
    "ExecuteTime": {
     "end_time": "2020-06-10T16:36:07.917068Z",
     "start_time": "2020-06-10T16:36:07.895071Z"
    }
   },
   "outputs": [],
   "source": [
    "import numpy as np\n",
    "seed(51011)\n",
    "start = 5623\n",
    "stop = 40836+ len(COVID_positive_controls)\n",
    "\n",
    "COVID_positive_controls['serology_id'] = np.random.randint(low = start,\n",
    "                                                   size = len(COVID_positive_controls),\n",
    "                                                   high = stop,\n",
    "                                                   dtype = 'int64')\n",
    "\n",
    "COVID_positive_controls"
   ]
  },
  {
   "cell_type": "code",
   "execution_count": null,
   "metadata": {
    "ExecuteTime": {
     "end_time": "2020-06-10T16:40:36.648192Z",
     "start_time": "2020-06-10T16:40:36.645191Z"
    }
   },
   "outputs": [],
   "source": [
    "COVID_positive_controls.serology_id.nunique()\n",
    "COVID_positive_controls_final = COVID_positive_controls"
   ]
  },
  {
   "cell_type": "markdown",
   "metadata": {},
   "source": [
    "## Save positive control list"
   ]
  },
  {
   "cell_type": "code",
   "execution_count": null,
   "metadata": {
    "ExecuteTime": {
     "end_time": "2020-06-10T16:51:55.391510Z",
     "start_time": "2020-06-10T16:51:55.384507Z"
    }
   },
   "outputs": [],
   "source": [
    "COVID_positive_controls_final.to_csv('../DATA/DSC2/VandiCOVIDPositiveControls_'+now+'.csv', index = False)"
   ]
  },
  {
   "cell_type": "markdown",
   "metadata": {},
   "source": [
    "###### OLD QC -- check if the 5000 are in my list -- Delete?"
   ]
  },
  {
   "cell_type": "code",
   "execution_count": null,
   "metadata": {
    "ExecuteTime": {
     "end_time": "2020-06-09T15:24:51.760403Z",
     "start_time": "2020-06-09T15:24:51.757403Z"
    }
   },
   "outputs": [],
   "source": [
    "# serum_samples1 = pd.read_csv('serum_samples_list_2020-05-06 with locations.csv')\n",
    "\n",
    "# #removing AIAN and Withdrawn PIDS\n",
    "# serum_samples1 = serum_samples1[(serum_samples1.is_AIAN_participant != 1) & (serum_samples1.withdrawal_status!=2)]\n",
    "# serum_samples1.head()\n",
    "\n",
    "# serum_samples_check = serum_samples1[['biobank_id','Description','Sequence', 'Rack', 'Position in Rack']]\n",
    "# first4982.biobank_id.nunique(), serum_samples_check.biobank_id.nunique()\n",
    "# common_pids= pd.merge(serum_samples_check.biobank_id.drop_duplicates(), first4982.biobank_id.drop_duplicates(), 'inner')\n",
    "# common_pids"
   ]
  },
  {
   "cell_type": "markdown",
   "metadata": {},
   "source": [
    "## **10.22.2020** Clean Up Positive Controls"
   ]
  },
  {
   "cell_type": "code",
   "execution_count": null,
   "metadata": {
    "ExecuteTime": {
     "end_time": "2020-10-22T22:57:42.182057Z",
     "start_time": "2020-10-22T22:57:42.160055Z"
    }
   },
   "outputs": [],
   "source": [
    "# load positive controls list\n",
    "vumc_positive_controls = pd.read_csv('../DATA\\\\DSC2\\\\VUMCPositive Controls Tracker_addedCals_10_08_2020.csv')\n",
    "vumc_positive_controls.head(5)"
   ]
  },
  {
   "cell_type": "code",
   "execution_count": null,
   "metadata": {},
   "outputs": [],
   "source": []
  },
  {
   "cell_type": "code",
   "execution_count": null,
   "metadata": {},
   "outputs": [],
   "source": []
  },
  {
   "cell_type": "code",
   "execution_count": null,
   "metadata": {},
   "outputs": [],
   "source": [
    "insufficient_serum_batch4 = pd.read_excel(data_directory+'Mayo Serology Batch Replacements Needed.xlsx')"
   ]
  },
  {
   "cell_type": "code",
   "execution_count": null,
   "metadata": {
    "ExecuteTime": {
     "end_time": "2020-10-22T23:05:38.328971Z",
     "start_time": "2020-10-22T23:05:38.319970Z"
    }
   },
   "outputs": [],
   "source": [
    "insuffificent_pos1 = insufficient_serum_batch4[insufficient_serum_batch4['Biobank ID'].str.startswith('PIO')]\n",
    "insuffificent_pos1"
   ]
  },
  {
   "cell_type": "code",
   "execution_count": null,
   "metadata": {
    "ExecuteTime": {
     "end_time": "2020-10-22T23:05:54.133037Z",
     "start_time": "2020-10-22T23:05:54.123039Z"
    }
   },
   "outputs": [],
   "source": [
    "insufficient_serum_batch4[~insufficient_serum_batch4['Biobank ID'].str.startswith('A')]\n"
   ]
  },
  {
   "cell_type": "code",
   "execution_count": null,
   "metadata": {
    "ExecuteTime": {
     "end_time": "2020-10-22T23:01:36.928694Z",
     "start_time": "2020-10-22T23:01:36.924696Z"
    }
   },
   "outputs": [],
   "source": [
    "insuffificent_pos1['Biobank ID'].tolist()"
   ]
  },
  {
   "cell_type": "code",
   "execution_count": null,
   "metadata": {
    "ExecuteTime": {
     "end_time": "2020-10-22T23:04:48.551377Z",
     "start_time": "2020-10-22T23:04:48.513373Z"
    }
   },
   "outputs": [],
   "source": [
    "vumc_positive_controls_10_22_2020 = vumc_positive_controls[~vumc_positive_controls['Sample ID'].isin(insuffificent_pos1['Biobank ID'].tolist())]\n",
    "vumc_positive_controls_10_22_2020"
   ]
  },
  {
   "cell_type": "code",
   "execution_count": null,
   "metadata": {
    "ExecuteTime": {
     "end_time": "2020-10-22T23:04:54.644444Z",
     "start_time": "2020-10-22T23:04:54.637446Z"
    }
   },
   "outputs": [],
   "source": [
    "vumc_positive_controls_10_22_2020.to_csv(data_directory+'VUMCPositive Controls Tracker_10.22.2020.csv')"
   ]
  },
  {
   "cell_type": "code",
   "execution_count": null,
   "metadata": {},
   "outputs": [],
   "source": []
  }
 ],
 "metadata": {
  "kernelspec": {
   "display_name": "Python 3 (ipykernel)",
   "language": "python",
   "name": "python3"
  },
  "language_info": {
   "codemirror_mode": {
    "name": "ipython",
    "version": 3
   },
   "file_extension": ".py",
   "mimetype": "text/x-python",
   "name": "python",
   "nbconvert_exporter": "python",
   "pygments_lexer": "ipython3",
   "version": "3.9.12"
  },
  "nbTranslate": {
   "displayLangs": [
    "*"
   ],
   "hotkey": "alt-t",
   "langInMainMenu": true,
   "sourceLang": "en",
   "targetLang": "fr",
   "useGoogleTranslate": true
  },
  "toc": {
   "base_numbering": 1,
   "nav_menu": {},
   "number_sections": true,
   "sideBar": true,
   "skip_h1_title": false,
   "title_cell": "Table of Contents",
   "title_sidebar": "Contents",
   "toc_cell": false,
   "toc_position": {
    "height": "calc(100% - 180px)",
    "left": "10px",
    "top": "150px",
    "width": "580px"
   },
   "toc_section_display": true,
   "toc_window_display": true
  }
 },
 "nbformat": 4,
 "nbformat_minor": 4
}
