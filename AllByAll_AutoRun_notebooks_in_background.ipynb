{
 "cells": [
  {
   "cell_type": "code",
   "execution_count": 1,
   "id": "0e6f471c",
   "metadata": {},
   "outputs": [],
   "source": [
    "import glob\n",
    "import gzip\n",
    "import nbformat\n",
    "from nbconvert.preprocessors import CellExecutionError\n",
    "from nbconvert.preprocessors import ExecutePreprocessor\n",
    "import os\n",
    "import shutil\n",
    "import tensorflow as tf\n",
    "import time\n",
    "import subprocess\n",
    "\n",
    "#!pip install dask\n",
    "import dask.dataframe as dd #This parallelizes the :func:`pandas.read_csv` - much faster than \n",
    "#Although Dask doesn’t provide a wide range of data preprocessing functions such as pandas \n",
    "## it supports parallel computing and loads data faster than pandas\n",
    "## I tested and reading the total file went from almost 3 min to less than 30. Reading the column is even faster!!\n",
    "\n",
    "summary_notebooks_to_run = [f for f in os.listdir() if f.endswith('_summary.ipynb')]\n",
    "\n",
    "def get_kernel(kernel):\n",
    "    return 'ir' if kernel.lower() == 'r' else 'python3'\n",
    "\n",
    "def run_notebook(NOTEBOOK_TO_RUN, KERNEL = 'R'):\n",
    "    \n",
    "    KERNEL_NAME = get_kernel(KERNEL)    \n",
    "    OUTPUT_NOTEBOOK = NOTEBOOK_TO_RUN\n",
    "    \n",
    "    with open(NOTEBOOK_TO_RUN) as f_in:\n",
    "        nb = nbformat.read(f_in, as_version=4)\n",
    "        ep = ExecutePreprocessor(timeout=-1, kernel_name=KERNEL_NAME)\n",
    "        try:\n",
    "            out = ep.preprocess(nb, {'metadata': {'path': ''}})\n",
    "        except CellExecutionError:\n",
    "            out = None\n",
    "            print(f'''Error executing the notebook \"{NOTEBOOK_TO_RUN}\".\n",
    "            See notebook \"{OUTPUT_NOTEBOOK}\" for the traceback.''')\n",
    "        finally:\n",
    "            with open(OUTPUT_NOTEBOOK, mode='w', encoding='utf-8') as f_out:\n",
    "                nbformat.write(nb, f_out)\n",
    "            # Save the executed notebook to the workspace bucket.\n",
    "            output_notebook_path = os.path.join(os.getenv('WORKSPACE_BUCKET'), 'notebooks', OUTPUT_NOTEBOOK)\n",
    "            tf.io.gfile.copy(src=OUTPUT_NOTEBOOK, dst=output_notebook_path,overwrite=True)\n",
    "            print(f'Wrote executed notebook to {output_notebook_path}')\n",
    "            "
   ]
  },
  {
   "cell_type": "code",
   "execution_count": null,
   "id": "6a262652",
   "metadata": {},
   "outputs": [],
   "source": [
    "for NOTEBOOK_TO_RUN in summary_notebooks_to_run:\n",
    "    run_notebook(NOTEBOOK_TO_RUN, KERNEL = 'R')"
   ]
  }
 ],
 "metadata": {
  "kernelspec": {
   "display_name": "Python 3 (ipykernel)",
   "language": "python",
   "name": "python3"
  },
  "language_info": {
   "codemirror_mode": {
    "name": "ipython",
    "version": 3
   },
   "file_extension": ".py",
   "mimetype": "text/x-python",
   "name": "python",
   "nbconvert_exporter": "python",
   "pygments_lexer": "ipython3",
   "version": "3.9.12"
  },
  "toc": {
   "base_numbering": 1,
   "nav_menu": {},
   "number_sections": true,
   "sideBar": true,
   "skip_h1_title": false,
   "title_cell": "Table of Contents",
   "title_sidebar": "Contents",
   "toc_cell": false,
   "toc_position": {
    "height": "calc(100% - 180px)",
    "left": "10px",
    "top": "150px",
    "width": "413.993px"
   },
   "toc_section_display": true,
   "toc_window_display": true
  }
 },
 "nbformat": 4,
 "nbformat_minor": 5
}
