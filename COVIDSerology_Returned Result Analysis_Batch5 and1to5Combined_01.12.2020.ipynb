{
 "cells": [
  {
   "cell_type": "markdown",
   "metadata": {},
   "source": [
    "# Set Up"
   ]
  },
  {
   "cell_type": "code",
   "execution_count": null,
   "metadata": {
    "ExecuteTime": {
     "end_time": "2021-11-23T16:47:37.577592Z",
     "start_time": "2021-11-23T16:47:30.932934Z"
    }
   },
   "outputs": [],
   "source": [
    "%run ../setup.ipynb"
   ]
  },
  {
   "cell_type": "code",
   "execution_count": null,
   "metadata": {
    "ExecuteTime": {
     "end_time": "2021-11-23T16:47:39.622089Z",
     "start_time": "2021-11-23T16:47:39.496083Z"
    }
   },
   "outputs": [],
   "source": [
    "%run Serology_All_Functions.ipynb"
   ]
  },
  {
   "cell_type": "code",
   "execution_count": null,
   "metadata": {
    "ExecuteTime": {
     "end_time": "2021-11-23T16:47:43.675274Z",
     "start_time": "2021-11-23T16:47:43.672275Z"
    }
   },
   "outputs": [],
   "source": [
    "data_directory = '../DATA\\\\DSC2\\\\'\n",
    "bucket_manifests_dir = 'S:\\\\Aymone\\\\serology\\\\bucket\\\\antibody_manifests\\\\'\n",
    "bucket_returned_results_dir = 'S:\\\\Aymone\\\\serology\\\\bucket\\\\returned_results\\\\'"
   ]
  },
  {
   "cell_type": "code",
   "execution_count": null,
   "metadata": {
    "ExecuteTime": {
     "end_time": "2021-11-23T16:47:43.982295Z",
     "start_time": "2021-11-23T16:47:43.970296Z"
    }
   },
   "outputs": [],
   "source": [
    "import glob\n",
    "\n",
    "location = bucket_returned_results_dir#bucket_returned_results_dir\n",
    "allfileset = [file for file in glob.glob(location + \"**/***.*\", recursive=True)]\n",
    "recent_fileset = [file for file in glob.glob(location + \"**/***202010*.*\", recursive=True)]\n",
    "batch_fileset = [file for file in glob.glob(location + \"**/***batch5***.*\", recursive=True)]\n",
    "n = 0\n",
    "for file in batch_fileset:\n",
    "    #print()\n",
    "    print(n, file)\n",
    "    n+=1"
   ]
  },
  {
   "cell_type": "code",
   "execution_count": null,
   "metadata": {},
   "outputs": [],
   "source": []
  },
  {
   "cell_type": "markdown",
   "metadata": {},
   "source": [
    "## Load previous files/inputs"
   ]
  },
  {
   "cell_type": "code",
   "execution_count": null,
   "metadata": {
    "ExecuteTime": {
     "end_time": "2021-10-25T17:45:24.449968Z",
     "start_time": "2021-10-25T17:45:20.043685Z"
    }
   },
   "outputs": [],
   "source": [
    "import math\n",
    "#master_list = pd.read_csv('../DATA\\DSC2\\Antobodies_tests_Master_List_afterBatch3_2020-08-11_14.19.13.csv')\n",
    "master_list_original = pd.read_csv('../DATA\\DSC2\\Antobodies_tests_Master_List_2020-05-21.csv').drop_duplicates()\n",
    "master_list_original['Age'] = [math.floor(((pd.to_datetime(master_list_original['DateBloodSampleCollected'][i]) - pd.to_datetime(master_list_original['DateOfBirth'][i])).days)/365) for i in master_list_original.index]\n",
    "master_list_original['Biobank ID'] = ['A'+str(i) for i in master_list_original.biobank_id]\n",
    "master_list_original.head(3)"
   ]
  },
  {
   "cell_type": "code",
   "execution_count": null,
   "metadata": {
    "ExecuteTime": {
     "end_time": "2021-10-25T17:45:24.452968Z",
     "start_time": "2021-10-25T17:45:24.450967Z"
    }
   },
   "outputs": [],
   "source": [
    "# master_list_original = master_list_original[['participant_id', 'biobank_id', 'state', 'DateOfBirth', 'Biobank ID',\n",
    "#        'SexAtBirth',# 'GenderIdentity', 'SexualOrientation', \n",
    "#         'race',\n",
    "#       # 'Ethnicity', \n",
    "#        'ZipCode', 'DateBloodSampleCollected',\n",
    "#        #'DateBloodSampleReceived', \n",
    "#         'Positive Control',\n",
    "#        'Negative Control'#, 'hpo'\n",
    "# ]].drop_duplicates()\n",
    "\n",
    "# master_list_original.to_csv(data_directory+'Antobodies_tests_Master_List_2020-05-21_reduced_columns.csv', index = False)"
   ]
  },
  {
   "cell_type": "code",
   "execution_count": null,
   "metadata": {
    "ExecuteTime": {
     "end_time": "2021-10-25T17:45:24.461969Z",
     "start_time": "2021-10-25T17:45:24.453968Z"
    }
   },
   "outputs": [],
   "source": [
    "# batch1to4_combined = pd.read_csv(data_directory+'batch1to4_combined.csv_2020-12-18.csv')\n",
    "# batch1to4_combined.columns"
   ]
  },
  {
   "cell_type": "code",
   "execution_count": null,
   "metadata": {
    "ExecuteTime": {
     "end_time": "2021-07-15T16:46:38.714806Z",
     "start_time": "2021-07-15T16:46:38.709802Z"
    }
   },
   "outputs": [],
   "source": [
    "# batch1to4_combined = batch1to4_combined[['Specimen ID', 'batch', 'biobank_id', 'participant_id',\n",
    "#        'state', 'DateOfBirth', 'SexAtBirth', #'GenderIdentity', 'SexualOrientation','Ethnicity', \n",
    "#         'race',  'ZipCode',\n",
    "#        'DateBloodSampleCollected', #'DateBloodSampleReceived', 'SpecimenTypes',\n",
    "#        'Positive Control', 'Negative Control', #'are_you_currently_pregnant',\n",
    "#        #'hpo', \n",
    "#                     'Biobank ID', 'Positive Control ID']].drop_duplicates()\n",
    "\n",
    "# batch1to4_combined.to_csv(data_directory+'batch1to4_combined.csv_2020-12-18_reduced_columns.csv', index = False)"
   ]
  },
  {
   "cell_type": "code",
   "execution_count": null,
   "metadata": {
    "ExecuteTime": {
     "end_time": "2021-07-15T16:46:38.722806Z",
     "start_time": "2021-07-15T16:46:38.715803Z"
    }
   },
   "outputs": [],
   "source": [
    "# batch1to4_rec_merged = batch1to4_rec_merged[['Specimen ID', #'Matrix Tube ID', 'Collection Date', 'DOS',\n",
    "#        'Abbott;LIS Result_ab', #'Abbott;LIS Comment_ab',\n",
    "#        'Abbott;Instrument Raw Result_ab', 'Abbott;Instrument RLU_ab',\n",
    "#        'Abbott;Run Date Time_ab', #'Abbott;Accession_ab',\n",
    "#        'Abbott;Instrument Name_ab', 'EUROIMMUN;LIS Result_ei',\n",
    "#        #'EUROIMMUN;LIS Comment_ei', \n",
    "#         'EUROIMMUN;COV2IGG: DELTA OD_ei',\n",
    "#        'EUROIMMUN;COV2IGG:INDEX_ei', 'EUROIMMUN;Date Time_ei',\n",
    "#        #'EUROIMMUN;Accession_ei', 'EUROIMMUN;Position_ei', \n",
    "#         'batch',\n",
    "#        'outcome_ab', 'outcome_ei', 'od_ab', 'od_ei', 'agree', 'runtime_ab',\n",
    "#        'runtime_ei', 'Biobank ID', 'biobank_id', 'Positive Control ID',\n",
    "#        'DateBloodSampleCollected', 'Positive Control', 'Negative Control']].drop_duplicates()\n",
    "\n",
    "# batch1to4_rec_merged.to_csv(data_directory+'batch1to5_ab_ei_recalculated_merged_1.12.2021_reduced_columns.csv', index = False)"
   ]
  },
  {
   "cell_type": "code",
   "execution_count": null,
   "metadata": {
    "ExecuteTime": {
     "end_time": "2021-07-15T16:46:38.728806Z",
     "start_time": "2021-07-15T16:46:38.723803Z"
    }
   },
   "outputs": [],
   "source": [
    "#master_list['Biobank ID'] = ['A'+str(i) for i in master_list.biobank_id]"
   ]
  },
  {
   "cell_type": "code",
   "execution_count": null,
   "metadata": {
    "ExecuteTime": {
     "end_time": "2021-11-23T16:48:24.967445Z",
     "start_time": "2021-11-23T16:48:22.166447Z"
    }
   },
   "outputs": [],
   "source": [
    "# # load negative controls list\n",
    "first_negative_controls_master = pd.read_csv('../DATA\\DSC2\\COVID_controls_2020-06-15_14.14.52.csv')\n",
    "first_negative_controls_master['Biobank ID'] = ['A'+str(i) for i in first_negative_controls_master.biobank_id]\n",
    "first_negative_controls_master['Age'] = [math.floor(((pd.to_datetime(first_negative_controls_master['DateBloodSampleCollected'][i]) - pd.to_datetime(first_negative_controls_master['DateOfBirth'][i])).days)/365) for i in first_negative_controls_master.index]\n",
    "\n",
    "\n",
    "# negative_controls_master2 = pd.read_csv('../DATA\\DSC2\\COVID_controls_afterbatch22020-07-01_12.56.08.csv')\n",
    "# negative_controls_master = pd.read_csv('../DATA\\\\DSC2\\\\negative_controls_master_afterbatch4_2020-10-22_18.54.42.csv') #most recent\n",
    "# negative_controls_master['Biobank ID'] = ['A'+str(i) for i in negative_controls_master.biobank_id]\n",
    "# negative_controls_master.head()"
   ]
  },
  {
   "cell_type": "code",
   "execution_count": null,
   "metadata": {
    "ExecuteTime": {
     "end_time": "2021-11-23T16:55:21.211438Z",
     "start_time": "2021-11-23T16:55:21.190441Z"
    }
   },
   "outputs": [],
   "source": [
    "first_negative_controls_master[['Biobank ID','DateBloodSampleCollected']].drop_duplicates().groupby('Biobank ID').nunique()\\\n",
    ".sort_values('DateBloodSampleCollected',ascending = False)"
   ]
  },
  {
   "cell_type": "code",
   "execution_count": null,
   "metadata": {
    "ExecuteTime": {
     "end_time": "2021-11-23T16:53:24.311598Z",
     "start_time": "2021-11-23T16:53:24.306587Z"
    }
   },
   "outputs": [],
   "source": [
    "first_negative_controls_master['Biobank ID'].nunique()"
   ]
  },
  {
   "cell_type": "code",
   "execution_count": null,
   "metadata": {
    "ExecuteTime": {
     "end_time": "2021-11-23T16:57:21.196491Z",
     "start_time": "2021-11-23T16:57:21.187486Z"
    }
   },
   "outputs": [],
   "source": [
    "first_negative_controls_master[first_negative_controls_master['Biobank ID'] == \"A540390136\"]\\\n",
    "[['Biobank ID','DateBloodSampleCollected']]"
   ]
  },
  {
   "cell_type": "code",
   "execution_count": null,
   "metadata": {
    "ExecuteTime": {
     "end_time": "2021-11-23T16:48:26.213671Z",
     "start_time": "2021-11-23T16:48:25.850679Z"
    }
   },
   "outputs": [],
   "source": [
    "# load positive controls list\n",
    "#vumc_positive_controls = pd.read_csv('../DATA\\\\DSC2\\\\VUMCPositive Controls Tracker_addedCals_10_08_2020.csv')\n",
    "mayo_positive_controls = pd.read_excel(data_directory+'Mayo Positive Control Stock Tubes.xlsx', sheet_name = 'Sheet1')\n",
    "mayo_positive_controls = mayo_positive_controls.rename(columns={'Sample Id':'Biobank ID'})\n",
    "mayo_positive_controls = mayo_positive_controls[['Biobank ID', 'External Participant Id','Collection Date (CST)']]\n",
    "mayo_positive_controls.columns = ['Biobank ID', 'External Participant Id','DateBloodSampleCollected']\n",
    "mayo_positive_controls.DateBloodSampleCollected = [datetime.date(pd.to_datetime(i)) for i in mayo_positive_controls.DateBloodSampleCollected]\n",
    "mayo_positive_controls.head(5)"
   ]
  },
  {
   "cell_type": "code",
   "execution_count": null,
   "metadata": {
    "ExecuteTime": {
     "end_time": "2021-11-23T16:52:53.771541Z",
     "start_time": "2021-11-23T16:52:53.760545Z"
    }
   },
   "outputs": [],
   "source": [
    "mayo_positive_controls[['Biobank ID','DateBloodSampleCollected']].drop_duplicates()"
   ]
  },
  {
   "cell_type": "code",
   "execution_count": null,
   "metadata": {
    "ExecuteTime": {
     "end_time": "2021-11-23T16:52:41.395646Z",
     "start_time": "2021-11-23T16:52:41.391647Z"
    }
   },
   "outputs": [],
   "source": [
    "mayo_positive_controls['Biobank ID'].nunique()"
   ]
  },
  {
   "cell_type": "markdown",
   "metadata": {},
   "source": [
    "# **1.12.20201** Batch 5"
   ]
  },
  {
   "cell_type": "markdown",
   "metadata": {},
   "source": [
    "## Batch 5 That I sent to Mayo, including replaced serums"
   ]
  },
  {
   "cell_type": "code",
   "execution_count": null,
   "metadata": {
    "ExecuteTime": {
     "end_time": "2021-10-25T17:45:35.349093Z",
     "start_time": "2021-10-25T17:45:35.314086Z"
    }
   },
   "outputs": [],
   "source": [
    "# Load files sent to Sam\n",
    "batch5_sent_to_mayo = pd.read_csv(data_directory+'Mayo_Serology_batch5_replacedSerums_2020-12-03.csv')#[['Sample ID','Biobank ID']].drop_duplicates().rename(columns = {'Sample Id':'Specimen ID'})\n",
    "batch5_sent_to_mayo = batch5_sent_to_mayo[['Biobank ID', 'DateBloodSampleCollected', 'Positive Control', 'Negative Control']]\n",
    "batch5_sent_to_mayo['batch'] = 5\n",
    "batch5_sent_to_mayo"
   ]
  },
  {
   "cell_type": "markdown",
   "metadata": {},
   "source": [
    "**MAYO used the external pids of the positive controls nstead of Sample Ids**"
   ]
  },
  {
   "cell_type": "code",
   "execution_count": null,
   "metadata": {
    "ExecuteTime": {
     "end_time": "2021-10-25T17:45:35.773114Z",
     "start_time": "2021-10-25T17:45:35.741114Z"
    }
   },
   "outputs": [],
   "source": [
    "batch5_poscontrols = batch5_sent_to_mayo[batch5_sent_to_mayo['Positive Control'] == 'Yes']\n",
    "batch5_poscontrols['Biobank ID'] = batch5_poscontrols['Biobank ID'].astype('int64')\n",
    "batch5_poscontrols.DateBloodSampleCollected = [datetime.date(pd.to_datetime(i)) for i in batch5_poscontrols.DateBloodSampleCollected]\n",
    "batch5_poscontrols = batch5_poscontrols.merge(mayo_positive_controls)\n",
    "\n",
    "batch5_poscontrols['Positive Control ID'] = batch5_poscontrols['External Participant Id']\n",
    "\n",
    "batch5_poscontrols = batch5_poscontrols[['External Participant Id', 'DateBloodSampleCollected', 'Positive Control',\n",
    "       'Negative Control', 'batch', 'Positive Control ID']]\n",
    "batch5_poscontrols.columns = ['Biobank ID', 'DateBloodSampleCollected',\n",
    "       'Positive Control', 'Negative Control', 'batch',\n",
    "       'Positive Control ID']\n",
    "\n",
    "batch5_poscontrols"
   ]
  },
  {
   "cell_type": "code",
   "execution_count": null,
   "metadata": {
    "ExecuteTime": {
     "end_time": "2021-10-25T17:45:36.480166Z",
     "start_time": "2021-10-25T17:45:36.077136Z"
    }
   },
   "outputs": [],
   "source": [
    "batch5_sent_to_mayo1 = batch5_sent_to_mayo[batch5_sent_to_mayo['Positive Control'] == 'No']\n",
    "batch5_sent_to_mayo1['biobank_id'] = [int(i.split('A')[1]) for i in batch5_sent_to_mayo1['Biobank ID']]\n",
    "batch5_sent_to_mayo1.DateBloodSampleCollected = [datetime.date(pd.to_datetime(i)) for i in batch5_sent_to_mayo1.DateBloodSampleCollected]\n",
    "\n",
    "batch5_sent_to_mayo = pd.concat([batch5_sent_to_mayo1, batch5_poscontrols])\n",
    "batch5_sent_to_mayo"
   ]
  },
  {
   "cell_type": "markdown",
   "metadata": {},
   "source": [
    "## Manifest loaded by Mayo in the bucket"
   ]
  },
  {
   "cell_type": "code",
   "execution_count": null,
   "metadata": {},
   "outputs": [],
   "source": []
  },
  {
   "cell_type": "code",
   "execution_count": null,
   "metadata": {
    "ExecuteTime": {
     "end_time": "2021-10-25T17:45:37.345218Z",
     "start_time": "2021-10-25T17:45:36.976194Z"
    }
   },
   "outputs": [],
   "source": [
    "batch5_manifest = pd.read_csv(bucket_manifests_dir+'antibody_manifests_Quest_AoU_Serology_Batch5.csv').drop('Unnamed: 7', axis =1)\n",
    "batch5_manifest =batch5_manifest[['Biobank ID','Sample ID']]\n",
    "batch5_manifest.columns = ['Biobank ID','Specimen ID']\n",
    "#batch5 = batch5_manifest.merge(batch5_sent_to_mayo)\n",
    "# batch4_manifest_from_mayo = pd.read_csv(bucket_manifests_dir+'antibody_manifests_Quest_AoU_Serology_Batch4.csv')[['Sample ID','Biobank ID']].drop_duplicates().rename(columns = {'Sample ID':'Specimen ID'})\n",
    "# batch4_manifest_from_mayo['batch'] = 4\n",
    "# bath4_testsamples = transform_manifest(batch4_manifest_from_mayo, 'Biobank ID', master_list_df= master_list_original,\n",
    "#                                        which_df = 'test samples').merge(master_list_original[['biobank_id','Biobank ID', 'participant_id',\n",
    "#                                             'DateBloodSampleCollected', 'Negative Control','Positive Control']])\n",
    "\n",
    "# bath4_negativecontrols = transform_manifest(batch4_manifest_from_mayo, 'Biobank ID', negative_controls_master_df= first_negative_controls_master,\n",
    "#                                             which_df = 'negative controls').merge(negative_controls_master[['biobank_id','Biobank ID', 'participant_id',\n",
    "#                                             'DateBloodSampleCollected', 'Negative Control','Positive Control']])\n",
    "\n",
    "# bath4_positivecontrols = transform_manifest(batch4_manifest_from_mayo, 'Biobank ID', which_df = 'positive controls')\n",
    "batch5 = batch5_manifest.merge(batch5_sent_to_mayo).drop_duplicates()\n",
    "batch5.DateBloodSampleCollected = [datetime.date(pd.to_datetime(i)) for i in batch5.DateBloodSampleCollected]\n",
    "\n",
    "batch5"
   ]
  },
  {
   "cell_type": "markdown",
   "metadata": {},
   "source": [
    "# Stack batches 1 to 5 manifests/files I sent"
   ]
  },
  {
   "cell_type": "code",
   "execution_count": null,
   "metadata": {
    "ExecuteTime": {
     "end_time": "2021-10-25T17:45:39.101331Z",
     "start_time": "2021-10-25T17:45:37.479225Z"
    }
   },
   "outputs": [],
   "source": [
    "selected_cols1 = ['Biobank ID', 'Positive Control ID', 'biobank_id', \n",
    "                 'Specimen ID', 'batch', #'participant_id',\n",
    "       #'state', 'DateOfBirth', 'SexAtBirth', 'race',\n",
    "       #'GenderIdentity','SexualOrientation', 'race', 'Ethnicity', 'ZipCode',\n",
    "    # 'DateBloodSampleReceived', 'SpecimenTypes',\n",
    "       'DateBloodSampleCollected', \n",
    "       'Positive Control', 'Negative Control']\n",
    "\n",
    "batch1to4 = pd.read_csv(data_directory+'batch1to4_combined.csv_2020-12-18.csv')[selected_cols1]\n",
    "batch1to4.loc[batch1to4['Positive Control'] == 'Yes', 'Biobank ID'] = [i for i in batch1to4.loc[batch1to4['Positive Control'] == 'Yes']['Positive Control ID']]\n",
    "batch1to4.DateBloodSampleCollected = [datetime.date(pd.to_datetime(i)) for i in batch1to4.DateBloodSampleCollected]\n",
    "\n",
    "batch1to4.head()"
   ]
  },
  {
   "cell_type": "markdown",
   "metadata": {},
   "source": [
    "--------------------------------------"
   ]
  },
  {
   "cell_type": "code",
   "execution_count": null,
   "metadata": {
    "ExecuteTime": {
     "end_time": "2021-10-25T17:45:39.228338Z",
     "start_time": "2021-10-25T17:45:39.196338Z"
    }
   },
   "outputs": [],
   "source": [
    "batch1to5 = pd.concat([batch1to4, batch5]).drop_duplicates()\n",
    "batch1to5.head()"
   ]
  },
  {
   "cell_type": "code",
   "execution_count": null,
   "metadata": {
    "ExecuteTime": {
     "end_time": "2021-10-25T17:45:39.539357Z",
     "start_time": "2021-10-25T17:45:39.485356Z"
    }
   },
   "outputs": [],
   "source": [
    "##  remove the 56\n",
    "the46 = pd.read_csv(data_directory+'the 46 Specimens betweeen Oct and Dec 2019.csv')\n",
    "batch1to5= pd.DataFrame(set(batch1to5['Biobank ID']) - set(the46['Biobank ID']), columns = ['Biobank ID']).merge(batch1to5)\n",
    "batch1to5"
   ]
  },
  {
   "cell_type": "code",
   "execution_count": null,
   "metadata": {
    "ExecuteTime": {
     "end_time": "2021-10-25T17:45:39.838381Z",
     "start_time": "2021-10-25T17:45:39.821375Z"
    }
   },
   "outputs": [],
   "source": [
    "batch1to5_testsamples = batch1to5[(batch1to5['Positive Control'] == 'No')&(batch1to5['Negative Control'] == 'No')]\n",
    "batch1to5_negativecontrols = batch1to5[batch1to5['Negative Control'] == 'Yes']\n",
    "batch1to5_positivecontrols = batch1to5[(batch1to5['Positive Control'] == 'Yes')][['Specimen ID','Positive Control ID','Positive Control','Negative Control','batch']]"
   ]
  },
  {
   "cell_type": "code",
   "execution_count": null,
   "metadata": {
    "ExecuteTime": {
     "end_time": "2021-10-25T17:45:40.041390Z",
     "start_time": "2021-10-25T17:45:40.034389Z"
    }
   },
   "outputs": [],
   "source": [
    "batch1to5_negativecontrols.DateBloodSampleCollected.min(), batch1to5_negativecontrols.DateBloodSampleCollected.max()"
   ]
  },
  {
   "cell_type": "code",
   "execution_count": null,
   "metadata": {
    "ExecuteTime": {
     "end_time": "2021-10-25T17:45:41.063456Z",
     "start_time": "2021-10-25T17:45:41.053455Z"
    }
   },
   "outputs": [],
   "source": [
    "batch1to5_testsamples.DateBloodSampleCollected.min(), batch1to5_testsamples.DateBloodSampleCollected.max()"
   ]
  },
  {
   "cell_type": "code",
   "execution_count": null,
   "metadata": {
    "ExecuteTime": {
     "end_time": "2021-10-25T17:45:41.439479Z",
     "start_time": "2021-10-25T17:45:41.329472Z"
    }
   },
   "outputs": [],
   "source": [
    "save_this_csv_or_xl(batch1to5,'batch1to5_combined.csv')"
   ]
  },
  {
   "cell_type": "markdown",
   "metadata": {},
   "source": [
    "## QC"
   ]
  },
  {
   "cell_type": "code",
   "execution_count": null,
   "metadata": {
    "ExecuteTime": {
     "end_time": "2021-10-25T17:45:41.760498Z",
     "start_time": "2021-10-25T17:45:41.733498Z"
    }
   },
   "outputs": [],
   "source": [
    "QC_batch_numbers(batch1to5_testsamples, 'Biobank ID')"
   ]
  },
  {
   "cell_type": "code",
   "execution_count": null,
   "metadata": {
    "ExecuteTime": {
     "end_time": "2021-10-25T17:45:42.023527Z",
     "start_time": "2021-10-25T17:45:42.012516Z"
    }
   },
   "outputs": [],
   "source": [
    "QC_batch_numbers(batch1to5_negativecontrols, 'Biobank ID')"
   ]
  },
  {
   "cell_type": "code",
   "execution_count": null,
   "metadata": {
    "ExecuteTime": {
     "end_time": "2021-10-25T17:45:42.307534Z",
     "start_time": "2021-10-25T17:45:42.301535Z"
    }
   },
   "outputs": [],
   "source": [
    "batch1to5['Specimen ID'].nunique()#, 5060+300+80+5060+256+64+5146+62+62+5146+62+62"
   ]
  },
  {
   "cell_type": "markdown",
   "metadata": {},
   "source": [
    "# Get stacked returned result file merged with biobank ids"
   ]
  },
  {
   "cell_type": "code",
   "execution_count": null,
   "metadata": {
    "ExecuteTime": {
     "end_time": "2021-10-25T17:45:47.695958Z",
     "start_time": "2021-10-25T17:45:47.692962Z"
    }
   },
   "outputs": [],
   "source": [
    "pr '39504;SARS-CoV-2 Serology (COVID-19) Antibody (IgG), Immunoassay, Immunoassay, '\n",
    "keep_columns = ['Specimen ID', f'{pr}Abbott;LIS Result',\n",
    "               f'{pr}Abbott;LIS Comment', \n",
    "                f'{pr}Abbott;Instrument Raw Result', \n",
    "                f'{pr}Abbott;Instrument RLU', \n",
    "                f'{pr}Abbott;Run Date Time', \n",
    "                f'{pr}Abbott;Accession',\n",
    "                f'{pr}Abbott;Instrument Name',\n",
    "                f'{pr} EUROIMMUN;LIS Result',\n",
    "                f'{pr}EUROIMMUN;LIS Comment',\n",
    "                f'{pr}EUROIMMUN;COV2IGG: DELTA OD',\n",
    "                f'{pr}EUROIMMUN;COV2IGG:INDEX',\n",
    "                f'{pr}EUROIMMUN;Date Time',\n",
    "               f'{pr}EUROIMMUN;Accession',\n",
    "                f'{pr}EUROIMMUN;Position','batch']\n",
    "\n",
    "# keep_columns2 = ['Specimen ID', 'batch', 'biobank_id', 'participant_id', 'Positive Control ID',\n",
    "#                #  'state','DateOfBirth', 'SexAtBirth', 'GenderIdentity', 'SexualOrientation',\n",
    "#               # 'race', 'Ethnicity', 'ZipCode', \n",
    "#                  'DateBloodSampleCollected',\n",
    "#                #'DateBloodSampleReceived', 'SpecimenTypes', 'are_you_currently_pregnant', 'hpo',\n",
    "#                  'Positive Control', 'Negative Control']"
   ]
  },
  {
   "cell_type": "markdown",
   "metadata": {
    "ExecuteTime": {
     "end_time": "2020-10-10T01:16:59.836154Z",
     "start_time": "2020-10-10T01:16:59.831152Z"
    }
   },
   "source": [
    "------------------------"
   ]
  },
  {
   "cell_type": "code",
   "execution_count": null,
   "metadata": {
    "ExecuteTime": {
     "end_time": "2021-10-25T17:45:55.121436Z",
     "start_time": "2021-10-25T17:45:48.123986Z"
    }
   },
   "outputs": [],
   "source": [
    "returned_batch1_flat = pd.read_excel(bucket_returned_results_dir+'Quest_AoU_Flat_Batch1_20201008.xlsx'); returned_batch1_flat['batch'] = 1\n",
    "returned_batch2_flat = pd.read_excel(bucket_returned_results_dir+'Quest_AoU_Flat_Batch2_20201008_2.xlsx'); returned_batch2_flat['batch'] = 2\n",
    "returned_batch3_flat = pd.read_excel(bucket_returned_results_dir+'Quest_AoU_Flat_Batch3_20200922_2.xlsx'); returned_batch3_flat['batch'] = 3\n",
    "returned_batch4_flat = pd.read_excel(bucket_returned_results_dir+'Quest_AoU_Flat_Batch4_20201120_2_mod.xlsx'); returned_batch4_flat['batch'] = 4\n",
    "returned_batch5_flat = pd.read_excel(bucket_returned_results_dir +'Quest_AoU_Flat_Batch5_20210111_2.xlsx'); returned_batch5_flat['batch'] = 5\n",
    "\n",
    "returned_batch1to5_flat = pd.concat([returned_batch1_flat,returned_batch2_flat,returned_batch3_flat, \n",
    "                                     returned_batch4_flat, returned_batch5_flat])\n",
    "\n",
    "returned_batch1to5_flat= returned_batch1to5_flat[keep_columns]"
   ]
  },
  {
   "cell_type": "code",
   "execution_count": null,
   "metadata": {
    "ExecuteTime": {
     "end_time": "2021-10-25T17:45:55.146439Z",
     "start_time": "2021-10-25T17:45:55.122435Z"
    }
   },
   "outputs": [],
   "source": [
    "returned_batch1to5_flat"
   ]
  },
  {
   "cell_type": "code",
   "execution_count": null,
   "metadata": {
    "ExecuteTime": {
     "end_time": "2021-10-25T17:45:55.285443Z",
     "start_time": "2021-10-25T17:45:55.147435Z"
    }
   },
   "outputs": [],
   "source": [
    "returned_batch1to5_flat_merged = returned_batch1to5_flat.merge(batch1to5).drop_duplicates()\n",
    "returned_batch1to5_flat_merged.head()"
   ]
  },
  {
   "cell_type": "code",
   "execution_count": null,
   "metadata": {
    "ExecuteTime": {
     "end_time": "2021-10-25T17:45:55.290448Z",
     "start_time": "2021-10-25T17:45:55.286444Z"
    }
   },
   "outputs": [],
   "source": [
    "returned_batch1to5_flat_merged.shape"
   ]
  },
  {
   "cell_type": "code",
   "execution_count": null,
   "metadata": {
    "ExecuteTime": {
     "end_time": "2021-10-25T17:45:55.297448Z",
     "start_time": "2021-10-25T17:45:55.291446Z"
    }
   },
   "outputs": [],
   "source": [
    "returned_batch1to5_flat_merged.columns = ['Specimen ID',\n",
    "       'Abbott;LIS Result',\n",
    "       'Abbott;LIS Comment',\n",
    "       'Abbott;Instrument Raw Result',\n",
    "       'Abbott;Instrument RLU',\n",
    "       'Abbott;Run Date Time',\n",
    "       'Abbott;Accession',\n",
    "       'Abbott;Instrument Name',\n",
    "       'EUROIMMUN;LIS Result',\n",
    "       'EUROIMMUN;LIS Comment',\n",
    "       'EUROIMMUN;COV2IGG: DELTA OD',\n",
    "       'EUROIMMUN;COV2IGG:INDEX',\n",
    "       'EUROIMMUN;Date Time',\n",
    "       'EUROIMMUN;Accession',\n",
    "       'EUROIMMUN;Position',\n",
    "       'batch', 'Biobank ID', 'Positive Control ID', 'biobank_id',\n",
    "       'DateBloodSampleCollected', 'Positive Control', 'Negative Control']"
   ]
  },
  {
   "cell_type": "code",
   "execution_count": null,
   "metadata": {
    "ExecuteTime": {
     "end_time": "2021-10-25T17:45:55.328454Z",
     "start_time": "2021-10-25T17:45:55.298446Z"
    }
   },
   "outputs": [],
   "source": [
    "some_counts = returned_batch1to5_flat_merged[['Specimen ID',\n",
    "       'Abbott;LIS Result',\n",
    "       'Abbott;Instrument Raw Result',\n",
    "       'EUROIMMUN;LIS Result',\n",
    "       'EUROIMMUN;COV2IGG: DELTA OD',\n",
    "       'batch', 'Biobank ID', 'Positive Control ID', 'biobank_id',\n",
    "       'DateBloodSampleCollected', 'Positive Control', 'Negative Control']]\n",
    "\n",
    "some_counts"
   ]
  },
  {
   "cell_type": "code",
   "execution_count": null,
   "metadata": {
    "ExecuteTime": {
     "end_time": "2021-10-25T17:45:55.341449Z",
     "start_time": "2021-10-25T17:45:55.329446Z"
    }
   },
   "outputs": [],
   "source": [
    "some_counts['Abbott;LIS Result'].unique(), some_counts['EUROIMMUN;LIS Result'].unique()"
   ]
  },
  {
   "cell_type": "code",
   "execution_count": null,
   "metadata": {
    "ExecuteTime": {
     "end_time": "2021-10-25T17:45:55.355450Z",
     "start_time": "2021-10-25T17:45:55.342449Z"
    }
   },
   "outputs": [],
   "source": [
    "some_counts[some_counts['Abbott;LIS Result'] == 'pending']"
   ]
  },
  {
   "cell_type": "code",
   "execution_count": null,
   "metadata": {
    "ExecuteTime": {
     "end_time": "2021-10-25T17:45:55.415457Z",
     "start_time": "2021-10-25T17:45:55.356454Z"
    }
   },
   "outputs": [],
   "source": [
    "some_counts = some_counts[['Biobank ID','batch','Specimen ID',# 'Positive Control ID', #'biobank_id',\n",
    "                           'Positive Control', 'Negative Control',\n",
    "                           'Abbott;LIS Result', 'EUROIMMUN;LIS Result']]\n",
    "some_counts_noncontrols = some_counts[(some_counts['Positive Control'] == 'No') &\n",
    "                                      (some_counts['Negative Control'] == 'No')].merge(master_list_original[['Biobank ID','DateBloodSampleCollected']])\n",
    "some_counts_noncontrols[['Biobank ID',\n",
    "                           'Abbott;LIS Result', \n",
    "                         'EUROIMMUN;LIS Result']].groupby(['Abbott;LIS Result', 'EUROIMMUN;LIS Result']).nunique()"
   ]
  },
  {
   "cell_type": "code",
   "execution_count": null,
   "metadata": {
    "ExecuteTime": {
     "end_time": "2021-10-25T17:45:55.431455Z",
     "start_time": "2021-10-25T17:45:55.416455Z"
    }
   },
   "outputs": [],
   "source": [
    "some_counts[(some_counts['Negative Control'] == 'Yes')&((some_counts['Abbott;LIS Result'] == 'TNP')\n",
    "|(some_counts['EUROIMMUN;LIS Result'] == 'TNP')|(some_counts['Abbott;LIS Result'].isnull()))]#['Abbott;LIS Result'].unique()#.isnull()#.drop_duplicates()\n"
   ]
  },
  {
   "cell_type": "code",
   "execution_count": null,
   "metadata": {
    "ExecuteTime": {
     "end_time": "2021-10-25T17:45:55.444462Z",
     "start_time": "2021-10-25T17:45:55.432460Z"
    }
   },
   "outputs": [],
   "source": [
    "some_counts[some_counts['Biobank ID'].isin(['A215794482','A143411645'])]"
   ]
  },
  {
   "cell_type": "code",
   "execution_count": null,
   "metadata": {
    "ExecuteTime": {
     "end_time": "2021-10-25T17:45:55.461458Z",
     "start_time": "2021-10-25T17:45:55.445461Z"
    }
   },
   "outputs": [],
   "source": [
    "some_counts[(some_counts['Positive Control'] == 'Yes')&((some_counts['Abbott;LIS Result'] == 'TNP')\n",
    "|(some_counts['EUROIMMUN;LIS Result'] == 'TNP')|(some_counts['Abbott;LIS Result'].isnull()))]#['Abbott;LIS Result'].unique()#.isnull()#.drop_duplicates()\n"
   ]
  },
  {
   "cell_type": "code",
   "execution_count": null,
   "metadata": {
    "ExecuteTime": {
     "end_time": "2021-06-04T15:08:23.675871Z",
     "start_time": "2021-06-04T15:08:23.660870Z"
    }
   },
   "outputs": [],
   "source": [
    "some_counts[some_counts['Biobank ID'] == 'PIO 1014']"
   ]
  },
  {
   "cell_type": "code",
   "execution_count": null,
   "metadata": {
    "ExecuteTime": {
     "end_time": "2021-06-04T15:08:23.799881Z",
     "start_time": "2021-06-04T15:08:23.676873Z"
    }
   },
   "outputs": [],
   "source": [
    "some_counts.DateBloodSampleCollected = [datetime.date(pd.to_datetime(i)) for i in some_counts.DateBloodSampleCollected]\n",
    "some_counts.DateBloodSampleCollected.min(), some_counts.DateBloodSampleCollected.max()"
   ]
  },
  {
   "cell_type": "code",
   "execution_count": null,
   "metadata": {
    "ExecuteTime": {
     "end_time": "2021-06-04T15:08:23.800881Z",
     "start_time": "2021-06-04T15:08:21.294Z"
    }
   },
   "outputs": [],
   "source": [
    "some_counts_noncontrols['Biobank ID'].nunique()"
   ]
  },
  {
   "cell_type": "code",
   "execution_count": null,
   "metadata": {
    "ExecuteTime": {
     "end_time": "2021-06-04T15:08:23.801881Z",
     "start_time": "2021-06-04T15:08:21.642Z"
    }
   },
   "outputs": [],
   "source": [
    "some_counts_noncontrols[some_counts_noncontrols['Abbott;LIS Result'] == 'TNP']['Biobank ID'].nunique()"
   ]
  },
  {
   "cell_type": "code",
   "execution_count": null,
   "metadata": {
    "ExecuteTime": {
     "end_time": "2021-06-04T15:08:23.802879Z",
     "start_time": "2021-06-04T15:08:21.965Z"
    }
   },
   "outputs": [],
   "source": [
    "some_counts_noncontrols[some_counts_noncontrols['EUROIMMUN;LIS Result'] == 'TNP']['Biobank ID'].nunique()"
   ]
  },
  {
   "cell_type": "code",
   "execution_count": null,
   "metadata": {
    "ExecuteTime": {
     "end_time": "2021-06-04T15:08:23.803881Z",
     "start_time": "2021-06-04T15:08:22.239Z"
    }
   },
   "outputs": [],
   "source": [
    "some_counts_noncontrols[(some_counts_noncontrols['Abbott;LIS Result'] == 'TNP')&\n",
    "            (some_counts_noncontrols['EUROIMMUN;LIS Result'] == 'TNP')]['Biobank ID'].nunique()"
   ]
  },
  {
   "cell_type": "code",
   "execution_count": null,
   "metadata": {
    "ExecuteTime": {
     "end_time": "2021-06-04T15:08:23.804880Z",
     "start_time": "2021-06-04T15:08:22.437Z"
    }
   },
   "outputs": [],
   "source": [
    "some_counts[(some_counts['Abbott;LIS Result'] == 'TNP')|(some_counts['EUROIMMUN;LIS Result'] == 'TNP')]['Biobank ID'].nunique()"
   ]
  },
  {
   "cell_type": "code",
   "execution_count": null,
   "metadata": {
    "ExecuteTime": {
     "end_time": "2021-06-04T15:08:23.805880Z",
     "start_time": "2021-06-04T15:08:22.697Z"
    }
   },
   "outputs": [],
   "source": [
    "some_counts_noncontrols[(some_counts_noncontrols['Abbott;LIS Result'] == 'pending')|\n",
    "            (some_counts_noncontrols['EUROIMMUN;LIS Result'] == 'pending')]"
   ]
  },
  {
   "cell_type": "code",
   "execution_count": null,
   "metadata": {
    "ExecuteTime": {
     "end_time": "2021-06-04T15:08:23.806880Z",
     "start_time": "2021-06-04T15:08:22.963Z"
    }
   },
   "outputs": [],
   "source": [
    "24089-24079"
   ]
  },
  {
   "cell_type": "code",
   "execution_count": null,
   "metadata": {
    "ExecuteTime": {
     "end_time": "2021-03-19T19:36:26.080011Z",
     "start_time": "2021-03-19T19:36:26.078011Z"
    }
   },
   "outputs": [],
   "source": [
    "# test = returned_batch1to5_flat_merged[(returned_batch1to5_flat_merged['Negative Control']=='Yes') &\n",
    "#                            ((returned_batch1to5_flat_merged['EUROIMMUN;COV2IGG: DELTA OD'] >=1.1) |\n",
    "#                    (returned_batch1to5_flat_merged['Abbott;Instrument Raw Result'] >= 1.4))][['biobank_id', 'Specimen ID',#'outcome_ei','outcome_ab', \n",
    "#                                                                               'Negative Control','EUROIMMUN;COV2IGG: DELTA OD','Abbott;Instrument Raw Result', 'batch']]\n",
    "\n",
    "# test"
   ]
  },
  {
   "cell_type": "code",
   "execution_count": null,
   "metadata": {
    "ExecuteTime": {
     "end_time": "2021-03-19T19:36:26.284025Z",
     "start_time": "2021-03-19T19:36:26.269024Z"
    }
   },
   "outputs": [],
   "source": [
    "### tnp controls\n",
    "some_counts[(some_counts['Abbott;LIS Result'] == 'TNP')|\n",
    "            (some_counts['EUROIMMUN;LIS Result'] == 'TNP')]"
   ]
  },
  {
   "cell_type": "code",
   "execution_count": null,
   "metadata": {
    "ExecuteTime": {
     "end_time": "2021-03-19T19:36:26.513037Z",
     "start_time": "2021-03-19T19:36:26.502039Z"
    }
   },
   "outputs": [],
   "source": [
    "### tnp controls\n",
    "some_counts[(some_counts['Abbott;LIS Result'].isnull())|\n",
    "            (some_counts['EUROIMMUN;LIS Result'].isnull())]"
   ]
  },
  {
   "cell_type": "markdown",
   "metadata": {
    "ExecuteTime": {
     "end_time": "2021-02-12T16:27:02.030753Z",
     "start_time": "2021-02-12T16:27:02.025751Z"
    }
   },
   "source": [
    "### FUNCTION TO GET Melissa's dfs"
   ]
  },
  {
   "cell_type": "code",
   "execution_count": null,
   "metadata": {
    "ExecuteTime": {
     "end_time": "2021-03-19T19:36:27.117072Z",
     "start_time": "2021-03-19T19:36:27.108072Z"
    }
   },
   "outputs": [],
   "source": [
    "def melissa_df(df, ID):\n",
    "    df = df[((df.outcome_ab ==1) | (df.outcome_ei == 1)) |\n",
    "           ((df.outcome_ab ==1) & (df.outcome_ei == 1))][[ID]].merge(df, 'left')[[ID,'Specimen ID','outcome_ei','outcome_ab', \n",
    "                                                                              'Negative Control','od_ei','od_ab', 'batch', 'runtime_ab','runtime_ei']]\n",
    "\n",
    "    display(df[ID].nunique())\n",
    "    \n",
    "    df1 = df.sort_values(['batch',ID,'runtime_ab', 'runtime_ei']).drop_duplicates()#.to_csv(data_directory+'false_pos_neg_controls.csv')\n",
    "    df1['Abbott Result'] = df1['outcome_ab'].replace({0:'Negative', 1:'Positive'})\n",
    "    df1['EUROIMMUN Result'] = df1['outcome_ei'].replace({0:'Negative', 1:'Positive'})\n",
    "    \n",
    "    \n",
    "    df1 = df1.reset_index()[[ID,'Specimen ID', #'Negative Control',\n",
    "                                'Abbott Result','EUROIMMUN Result', #'od_ei','od_ab', \n",
    "                                                 'runtime_ab','runtime_ei']]\n",
    "    \n",
    "    display(df1[ID].nunique())\n",
    "\n",
    "    pv_df = pd.DataFrame()\n",
    "    for p in df1[ID]:\n",
    "        DF = df1[df1[ID] == p].reset_index().drop('index', axis =1)\n",
    "        for i in DF.index:\n",
    "            DF['AB'+str(i+1)] = DF.loc[i,'Abbott Result']\n",
    "            DF['EI'+str(i+1)] = DF.loc[i,'EUROIMMUN Result']\n",
    "\n",
    "            DF['AB'+str(i+1)+'_Date'] = DF.loc[i,'runtime_ab']\n",
    "            DF['EI'+str(i+1)+'_Date'] = DF.loc[i,'runtime_ei']\n",
    "\n",
    "        #df = df\n",
    "    #display(pv_df)\n",
    "        \n",
    "        pv_df = pd.concat([pv_df, DF])\n",
    "    \n",
    "    pv_df2= pv_df.drop(['Abbott Result','EUROIMMUN Result',\n",
    "                        'runtime_ab','runtime_ei', 'Specimen ID'], axis =1).drop_duplicates()#.reset_index().drop(['index', 'Specimen ID', 'Negative Control'], axis = 1).reset_index()\n",
    "    #pv_false_pos_neg_controls2 = pv_false_pos_neg_controls2[['biobank_id', 'AB1', 'AB2','EI1', 'EI2', 'AB1_Date', 'AB2_Date', 'EI1_Date', 'EI2_Date']]\n",
    "    \n",
    "    \n",
    "    return pv_df2"
   ]
  },
  {
   "cell_type": "markdown",
   "metadata": {},
   "source": [
    "# ANALYSIS"
   ]
  },
  {
   "cell_type": "markdown",
   "metadata": {},
   "source": [
    "## Study Pop to date\n",
    "General Numbers QC/counts"
   ]
  },
  {
   "cell_type": "markdown",
   "metadata": {
    "ExecuteTime": {
     "end_time": "2020-10-08T21:26:35.245838Z",
     "start_time": "2020-10-08T21:26:35.240838Z"
    }
   },
   "source": [
    "### Merge with all ab and ei recalculated results"
   ]
  },
  {
   "cell_type": "code",
   "execution_count": null,
   "metadata": {
    "ExecuteTime": {
     "end_time": "2021-10-25T17:46:01.033997Z",
     "start_time": "2021-10-25T17:46:00.844985Z"
    }
   },
   "outputs": [],
   "source": [
    "# from R Combined code, cell ~19 (if ran straight from beg)\n",
    "batch1to5_ab_ei_recalculated= pd.read_csv(data_directory+'batch1to5_ab_ei_recalculated_01.12.2021.csv')#.rename(columns= {\n",
    "                                                                                                                   #    '39504;SARS-CoV-2 Serology (COVID-19) Antibody (IgG), Immunoassay, Abbott;LIS Result_ab':'Abbott Result',\n",
    "                                                                                                                     #   '39504;SARS-CoV-2 Serology (COVID-19) Antibody (IgG), Immunoassay, EUROIMMUN;COV2IGG: DELTA OD_ei':'EUROIMMUN Result'})\n",
    "    \n",
    "batch1to5_ab_ei_recalculated_m1 = batch1to5_ab_ei_recalculated.merge(batch1to5[[\n",
    " 'batch',\n",
    "'Biobank ID',\n",
    "'Specimen ID',\n",
    " 'biobank_id',\n",
    " #'participant_id',\n",
    " 'Positive Control ID',\n",
    " 'DateBloodSampleCollected',\n",
    " 'Positive Control',\n",
    " 'Negative Control']])\n",
    "batch1to5_ab_ei_recalculated_m1['Specimen ID'].nunique()"
   ]
  },
  {
   "cell_type": "code",
   "execution_count": null,
   "metadata": {
    "ExecuteTime": {
     "end_time": "2021-10-25T17:46:01.966790Z",
     "start_time": "2021-10-25T17:46:01.961789Z"
    }
   },
   "outputs": [],
   "source": [
    "batch1to5_ab_ei_recalculated_m1.columns"
   ]
  },
  {
   "cell_type": "code",
   "execution_count": null,
   "metadata": {
    "ExecuteTime": {
     "end_time": "2021-10-25T17:46:02.305810Z",
     "start_time": "2021-10-25T17:46:02.242806Z"
    }
   },
   "outputs": [],
   "source": [
    "check2 = batch1to5_ab_ei_recalculated_m1[(batch1to5_ab_ei_recalculated_m1.batch ==1)\n",
    "                               & (batch1to5_ab_ei_recalculated_m1['Negative Control'] == 'Yes')\n",
    "                                ][['Biobank ID', 'Specimen ID', 'outcome_ab', 'runtime_ab']]\n",
    "\n",
    "check2 = check2.groupby(['Biobank ID', 'Specimen ID', 'outcome_ab'], as_index = False).min()\n",
    "check2"
   ]
  },
  {
   "cell_type": "code",
   "execution_count": null,
   "metadata": {
    "ExecuteTime": {
     "end_time": "2021-10-25T17:46:02.694837Z",
     "start_time": "2021-10-25T17:46:02.567828Z"
    }
   },
   "outputs": [],
   "source": [
    "check2[['Positive Control ID'\n",
    "        #'Specimen ID'\n",
    "        , 'outcome_ab']].drop_duplicates().groupby([#'Positive Control ID', \n",
    "                                               'outcome_ab']).nunique()"
   ]
  },
  {
   "cell_type": "code",
   "execution_count": null,
   "metadata": {
    "ExecuteTime": {
     "end_time": "2021-10-25T17:46:02.873847Z",
     "start_time": "2021-10-25T17:46:02.850848Z"
    }
   },
   "outputs": [],
   "source": [
    "improperly_formatted = batch1to5_ab_ei_recalculated[batch1to5_ab_ei_recalculated['Specimen ID'].isin([20238000670,20241001878,\n",
    "                                                                              20239000874,20238000670,20234002247])]\n",
    "\n",
    "improperly_formatted[['Specimen ID','runtime_ab','runtime_ei']].merge(batch1to5)"
   ]
  },
  {
   "cell_type": "code",
   "execution_count": null,
   "metadata": {
    "ExecuteTime": {
     "end_time": "2021-10-25T17:46:03.572891Z",
     "start_time": "2021-10-25T17:46:03.160866Z"
    }
   },
   "outputs": [],
   "source": [
    "batch1to5_ab_ei_recalculated_m1.to_csv(data_directory+'batch1to5_ab_ei_recalculated_merged_1.12.2021.csv', index = False)"
   ]
  },
  {
   "cell_type": "markdown",
   "metadata": {},
   "source": [
    "### **For ab and ei Counts, you can skip the steps above ad start here**"
   ]
  },
  {
   "cell_type": "code",
   "execution_count": null,
   "metadata": {
    "ExecuteTime": {
     "end_time": "2021-11-23T16:49:10.724609Z",
     "start_time": "2021-11-23T16:49:10.722609Z"
    }
   },
   "outputs": [],
   "source": [
    "data_directory = '../DATA\\\\DSC2\\\\'"
   ]
  },
  {
   "cell_type": "code",
   "execution_count": null,
   "metadata": {
    "ExecuteTime": {
     "end_time": "2021-11-23T16:49:10.918611Z",
     "start_time": "2021-11-23T16:49:10.725606Z"
    }
   },
   "outputs": [],
   "source": [
    "import pandas as pd\n",
    "batch1to5_ab_ei_recalculated_m1 = pd.read_csv(data_directory+'batch1to5_ab_ei_recalculated_merged_1.12.2021.csv')\n",
    "batch1to5_ab_ei_recalculated_m1"
   ]
  },
  {
   "cell_type": "markdown",
   "metadata": {},
   "source": [
    "### TNPS"
   ]
  },
  {
   "cell_type": "code",
   "execution_count": null,
   "metadata": {
    "ExecuteTime": {
     "end_time": "2021-11-23T16:49:12.075942Z",
     "start_time": "2021-11-23T16:49:12.066947Z"
    }
   },
   "outputs": [],
   "source": [
    "## should not nbe any - they were removed in the R Code\n",
    "batch1to5_ab_ei_recalculated_m1[~batch1to5_ab_ei_recalculated_m1.outcome_ei.isin([0,1])][['biobank_id','Specimen ID','Positive Control ID',\n",
    "                                        'EUROIMMUN;COV2IGG: DELTA OD_ei',\n",
    "                                        'outcome_ei','batch',\n",
    "                                        'Positive Control','Negative Control']]"
   ]
  },
  {
   "cell_type": "markdown",
   "metadata": {},
   "source": [
    "----------------------------------"
   ]
  },
  {
   "cell_type": "markdown",
   "metadata": {},
   "source": [
    "## Get Counts for Slides"
   ]
  },
  {
   "cell_type": "code",
   "execution_count": null,
   "metadata": {
    "ExecuteTime": {
     "end_time": "2021-11-23T16:49:13.764791Z",
     "start_time": "2021-11-23T16:49:13.751796Z"
    }
   },
   "outputs": [],
   "source": [
    "batch1to5_ab_ei_recalculated_m1[batch1to5_ab_ei_recalculated_m1['EUROIMMUN;COV2IGG: DELTA OD_ei'] == 'pending']#['Biobank ID'].nunique()"
   ]
  },
  {
   "cell_type": "code",
   "execution_count": null,
   "metadata": {
    "ExecuteTime": {
     "end_time": "2021-11-23T16:49:14.035797Z",
     "start_time": "2021-11-23T16:49:14.025798Z"
    }
   },
   "outputs": [],
   "source": [
    "batch1to5_ab_ei_recalculated_m1['Biobank ID'].nunique(), batch1to5_ab_ei_recalculated_m1['Specimen ID'].nunique()"
   ]
  },
  {
   "cell_type": "code",
   "execution_count": null,
   "metadata": {
    "ExecuteTime": {
     "end_time": "2021-11-23T16:49:14.349796Z",
     "start_time": "2021-11-23T16:49:14.346796Z"
    }
   },
   "outputs": [],
   "source": [
    "25737-320-1338"
   ]
  },
  {
   "cell_type": "markdown",
   "metadata": {},
   "source": [
    "### Neg Controls"
   ]
  },
  {
   "cell_type": "code",
   "execution_count": null,
   "metadata": {
    "ExecuteTime": {
     "end_time": "2021-11-23T16:49:16.628660Z",
     "start_time": "2021-11-23T16:49:16.616660Z"
    }
   },
   "outputs": [],
   "source": [
    "neg_controls = batch1to5_ab_ei_recalculated_m1[(batch1to5_ab_ei_recalculated_m1['Negative Control'] == 'Yes')&\n",
    "                                               (batch1to5_ab_ei_recalculated_m1['Positive Control'] == 'No')]\n",
    "\n",
    "neg_controls['biobank_id'].dropna().nunique(), neg_controls['Specimen ID'].nunique(),neg_controls['Biobank ID'].dropna().nunique()"
   ]
  },
  {
   "cell_type": "code",
   "execution_count": null,
   "metadata": {
    "ExecuteTime": {
     "end_time": "2021-11-23T16:50:43.895615Z",
     "start_time": "2021-11-23T16:50:43.884618Z"
    }
   },
   "outputs": [],
   "source": [
    "neg_controls[['Biobank ID','DateBloodSampleCollected']].drop_duplicates()"
   ]
  },
  {
   "cell_type": "code",
   "execution_count": null,
   "metadata": {
    "ExecuteTime": {
     "end_time": "2021-11-23T16:49:17.088660Z",
     "start_time": "2021-11-23T16:49:17.084662Z"
    }
   },
   "outputs": [],
   "source": [
    "neg_controls.DateBloodSampleCollected.min(),neg_controls.DateBloodSampleCollected.max()"
   ]
  },
  {
   "cell_type": "code",
   "execution_count": null,
   "metadata": {
    "ExecuteTime": {
     "end_time": "2021-11-23T16:49:17.514665Z",
     "start_time": "2021-11-23T16:49:17.387670Z"
    }
   },
   "outputs": [],
   "source": [
    "melissa_df(neg_controls, ID = 'biobank_id')"
   ]
  },
  {
   "cell_type": "code",
   "execution_count": null,
   "metadata": {
    "ExecuteTime": {
     "end_time": "2021-11-23T16:49:17.669661Z",
     "start_time": "2021-11-23T16:49:17.665662Z"
    }
   },
   "outputs": [],
   "source": [
    "#neg_controls.to_csv(data_directory+'Batch 1 to 5 Negative Controls.csv')"
   ]
  },
  {
   "cell_type": "code",
   "execution_count": null,
   "metadata": {
    "ExecuteTime": {
     "end_time": "2021-11-23T16:49:18.162668Z",
     "start_time": "2021-11-23T16:49:18.159667Z"
    }
   },
   "outputs": [],
   "source": [
    "# neg_controls[neg_controls.biobank_id == 373949839.0][['biobank_id', 'Specimen ID','outcome_ei','outcome_ab', \n",
    "#                                                                               'Negative Control','od_ei','od_ab', 'batch', 'runtime_ab','runtime_ei']]\n"
   ]
  },
  {
   "cell_type": "code",
   "execution_count": null,
   "metadata": {
    "ExecuteTime": {
     "end_time": "2021-10-27T16:50:15.510987Z",
     "start_time": "2021-10-27T16:50:15.507984Z"
    }
   },
   "outputs": [],
   "source": [
    "# false_pos_neg_controls = neg_controls[(neg_controls.outcome_ab ==1) | \n",
    "#                                       (neg_controls.outcome_ei == 1)][['biobank_id']].merge(neg_controls, 'left')[['biobank_id','Specimen ID','outcome_ei','outcome_ab', \n",
    "#                                                                               'Negative Control','od_ei','od_ab', 'batch', 'runtime_ab','runtime_ei']]\n",
    "\n",
    "# false_pos_neg_controls = false_pos_neg_controls.sort_values(['batch','biobank_id','runtime_ab', 'runtime_ei']).drop_duplicates()#.to_csv(data_directory+'false_pos_neg_controls.csv')\n",
    "# false_pos_neg_controls['Abbott Result'] = false_pos_neg_controls['outcome_ab'].replace({0:'Negative', 1:'Positive'})\n",
    "# false_pos_neg_controls['EUROIMMUN Result'] = false_pos_neg_controls['outcome_ei'].replace({0:'Negative', 1:'Positive'})\n",
    "\n",
    "# false_pos_neg_controls"
   ]
  },
  {
   "cell_type": "code",
   "execution_count": null,
   "metadata": {
    "ExecuteTime": {
     "end_time": "2021-10-27T16:50:15.759015Z",
     "start_time": "2021-10-27T16:50:15.756017Z"
    }
   },
   "outputs": [],
   "source": [
    "# false_pos_neg_controls = false_pos_neg_controls.reset_index()[['biobank_id','Specimen ID', #'Negative Control',\n",
    "#                                                  'Abbott Result','EUROIMMUN Result', #'od_ei','od_ab', \n",
    "#                                                  'runtime_ab','runtime_ei']]\n",
    "\n",
    "# false_pos_neg_controls"
   ]
  },
  {
   "cell_type": "code",
   "execution_count": null,
   "metadata": {
    "ExecuteTime": {
     "end_time": "2021-10-27T16:50:16.160065Z",
     "start_time": "2021-10-27T16:50:16.148064Z"
    }
   },
   "outputs": [],
   "source": [
    "len(false_pos_neg_controls)"
   ]
  },
  {
   "cell_type": "code",
   "execution_count": null,
   "metadata": {
    "ExecuteTime": {
     "end_time": "2021-10-27T16:50:16.480102Z",
     "start_time": "2021-10-27T16:50:16.469103Z"
    }
   },
   "outputs": [],
   "source": [
    "false_pos_neg_controls.loc[0,'biobank_id']"
   ]
  },
  {
   "cell_type": "code",
   "execution_count": null,
   "metadata": {
    "ExecuteTime": {
     "end_time": "2021-10-27T16:50:17.060180Z",
     "start_time": "2021-10-27T16:50:17.057175Z"
    }
   },
   "outputs": [],
   "source": [
    "# pv_false_pos_neg_controls = pd.DataFrame()\n",
    "# for p in false_pos_neg_controls.biobank_id:\n",
    "#     df = false_pos_neg_controls[false_pos_neg_controls.biobank_id == p].reset_index().drop('index', axis =1)\n",
    "#     for i in df.index:\n",
    "#         df['AB'+str(i+1)] = df.loc[i,'Abbott Result']\n",
    "#         df['EI'+str(i+1)] = df.loc[i,'EUROIMMUN Result']\n",
    "        \n",
    "#         df['AB'+str(i+1)+'_Date'] = df.loc[i,'runtime_ab']\n",
    "#         df['EI'+str(i+1)+'_Date'] = df.loc[i,'runtime_ei']\n",
    "        \n",
    "#         #df = df\n",
    "#     #display(df)\n",
    "        \n",
    "#     pv_false_pos_neg_controls = pd.concat([pv_false_pos_neg_controls, df])\n",
    "    "
   ]
  },
  {
   "cell_type": "code",
   "execution_count": null,
   "metadata": {
    "ExecuteTime": {
     "end_time": "2021-10-27T16:50:17.475234Z",
     "start_time": "2021-10-27T16:50:17.472225Z"
    }
   },
   "outputs": [],
   "source": [
    "# pv_false_pos_neg_controls2= pv_false_pos_neg_controls.drop(['Abbott Result','EUROIMMUN Result','runtime_ab','runtime_ei', 'Specimen ID'], axis =1).drop_duplicates()#.reset_index().drop(['index', 'Specimen ID', 'Negative Control'], axis = 1).reset_index()\n",
    "# pv_false_pos_neg_controls2 = pv_false_pos_neg_controls2[['biobank_id', 'AB1', 'AB2','EI1', 'EI2', 'AB1_Date', 'AB2_Date', 'EI1_Date', 'EI2_Date']]\n",
    "# pv_false_pos_neg_controls2"
   ]
  },
  {
   "cell_type": "code",
   "execution_count": null,
   "metadata": {
    "ExecuteTime": {
     "end_time": "2021-10-27T16:50:17.724255Z",
     "start_time": "2021-10-27T16:50:17.722255Z"
    }
   },
   "outputs": [],
   "source": [
    "#pv_false_pos_neg_controls2.to_csv(data_directory+'Negative Controls AB OR EI Positive.csv')"
   ]
  },
  {
   "cell_type": "code",
   "execution_count": null,
   "metadata": {
    "ExecuteTime": {
     "end_time": "2021-10-27T16:50:18.516351Z",
     "start_time": "2021-10-27T16:50:18.512350Z"
    }
   },
   "outputs": [],
   "source": [
    "995/1000"
   ]
  },
  {
   "cell_type": "code",
   "execution_count": null,
   "metadata": {
    "ExecuteTime": {
     "end_time": "2021-10-27T16:50:18.851394Z",
     "start_time": "2021-10-27T16:50:18.840393Z"
    }
   },
   "outputs": [],
   "source": [
    "false_pos_neg_controls.biobank_id.nunique()"
   ]
  },
  {
   "cell_type": "code",
   "execution_count": null,
   "metadata": {
    "ExecuteTime": {
     "end_time": "2021-10-27T16:50:19.150430Z",
     "start_time": "2021-10-27T16:50:19.145430Z"
    }
   },
   "outputs": [],
   "source": [
    "neg_controls.DateBloodSampleCollected.min(), neg_controls.DateBloodSampleCollected.max()"
   ]
  },
  {
   "cell_type": "code",
   "execution_count": null,
   "metadata": {
    "ExecuteTime": {
     "end_time": "2021-10-27T16:50:19.468470Z",
     "start_time": "2021-10-27T16:50:19.456465Z"
    }
   },
   "outputs": [],
   "source": [
    "neg_controls[['biobank_id','Specimen ID']].groupby('biobank_id').nunique().sort_values('Specimen ID')"
   ]
  },
  {
   "cell_type": "code",
   "execution_count": null,
   "metadata": {
    "ExecuteTime": {
     "end_time": "2021-10-27T16:50:21.523720Z",
     "start_time": "2021-10-27T16:50:21.418704Z"
    }
   },
   "outputs": [],
   "source": [
    "neg_controls.merge(batch1to5_ab_ei_recalculated_m1)[['biobank_id', 'outcome_ab', 'outcome_ei']].groupby(['outcome_ab', 'outcome_ei']).nunique()\n"
   ]
  },
  {
   "cell_type": "code",
   "execution_count": null,
   "metadata": {
    "ExecuteTime": {
     "end_time": "2021-10-25T17:46:19.240346Z",
     "start_time": "2021-10-25T17:46:19.050334Z"
    }
   },
   "outputs": [],
   "source": [
    "neg_controls.merge(batch1to5_ab_ei_recalculated_m1)[['biobank_id', 'outcome_ab']].groupby(['outcome_ab']).nunique(),\n",
    "neg_controls.merge(batch1to5_ab_ei_recalculated_m1)[['biobank_id', 'outcome_ei']].groupby(['outcome_ei']).nunique()\n",
    "\n"
   ]
  },
  {
   "cell_type": "code",
   "execution_count": null,
   "metadata": {
    "ExecuteTime": {
     "end_time": "2021-10-25T17:46:19.652486Z",
     "start_time": "2021-10-25T17:46:19.640372Z"
    }
   },
   "outputs": [],
   "source": [
    "neg_controls[neg_controls.batch == 5][['biobank_id','outcome_ab','outcome_ei', 'batch']].groupby(['outcome_ab','outcome_ei', 'batch']).nunique()"
   ]
  },
  {
   "cell_type": "code",
   "execution_count": null,
   "metadata": {
    "ExecuteTime": {
     "end_time": "2021-10-25T17:46:19.935390Z",
     "start_time": "2021-10-25T17:46:19.925391Z"
    }
   },
   "outputs": [],
   "source": [
    "neg_controls[neg_controls.outcome_ei != neg_controls.outcome_ab][['Biobank ID','Specimen ID']].sort_values('Biobank ID')"
   ]
  },
  {
   "cell_type": "code",
   "execution_count": null,
   "metadata": {
    "ExecuteTime": {
     "end_time": "2021-10-25T17:46:20.194410Z",
     "start_time": "2021-10-25T17:46:20.184408Z"
    }
   },
   "outputs": [],
   "source": [
    "non_controls[non_controls['Biobank ID'] == 'A209601492']#.biobank_id.nunique()"
   ]
  },
  {
   "cell_type": "code",
   "execution_count": null,
   "metadata": {
    "ExecuteTime": {
     "end_time": "2021-10-25T17:46:20.469426Z",
     "start_time": "2021-10-25T17:46:20.454426Z"
    }
   },
   "outputs": [],
   "source": [
    "b = neg_controls[neg_controls.batch == 5][['Biobank ID','Specimen ID','outcome_ab','outcome_ei', 'batch']]\n",
    "b[['Biobank ID','Specimen ID']].groupby(['Biobank ID']).nunique().reset_index()#.groupby(['outcome_ab','outcome_ei', 'batch']).count()\n"
   ]
  },
  {
   "cell_type": "markdown",
   "metadata": {
    "ExecuteTime": {
     "end_time": "2020-12-07T12:45:20.294218Z",
     "start_time": "2020-12-07T12:45:20.292218Z"
    }
   },
   "source": [
    "### Pos Controls"
   ]
  },
  {
   "cell_type": "code",
   "execution_count": null,
   "metadata": {
    "ExecuteTime": {
     "end_time": "2021-11-23T16:51:04.409621Z",
     "start_time": "2021-11-23T16:51:04.397619Z"
    }
   },
   "outputs": [],
   "source": [
    "pos_controls = batch1to5_ab_ei_recalculated_m1[(batch1to5_ab_ei_recalculated_m1['Negative Control'] == 'No')&\n",
    "                                               (batch1to5_ab_ei_recalculated_m1['Positive Control'] == 'Yes')]\n",
    "\n",
    "pos_controls['Positive Control ID'].dropna().nunique(), pos_controls['Specimen ID'].nunique(),pos_controls['Biobank ID'].dropna().nunique()"
   ]
  },
  {
   "cell_type": "code",
   "execution_count": null,
   "metadata": {
    "ExecuteTime": {
     "end_time": "2021-11-23T16:51:33.725806Z",
     "start_time": "2021-11-23T16:51:33.715808Z"
    }
   },
   "outputs": [],
   "source": [
    "pos_controls[['Positive Control ID','DateBloodSampleCollected']].drop_duplicates()"
   ]
  },
  {
   "cell_type": "code",
   "execution_count": null,
   "metadata": {
    "ExecuteTime": {
     "end_time": "2021-10-25T17:46:23.854696Z",
     "start_time": "2021-10-25T17:46:23.849692Z"
    }
   },
   "outputs": [],
   "source": [
    "batch1to5_ab_ei_recalculated_m1.columns"
   ]
  },
  {
   "cell_type": "code",
   "execution_count": null,
   "metadata": {
    "ExecuteTime": {
     "end_time": "2021-10-25T17:46:24.173715Z",
     "start_time": "2021-10-25T17:46:24.164713Z"
    }
   },
   "outputs": [],
   "source": [
    "pos_controls_source = pos_controls[['Positive Control ID', 'batch']]\n",
    "pos_controls_source['Partner'] = ''\n",
    "\n",
    "pos_controls_source.loc[pos_controls_source['Positive Control ID'].str.startswith('PIO'), 'Partner'] = 'Vanderbilt'\n",
    "pos_controls_source.loc[pos_controls_source['Positive Control ID'].str.startswith('ST-'), 'Partner'] = 'Mayo'\n",
    "pos_controls_source.loc[pos_controls_source['Positive Control ID'].str.startswith('0'), 'Partner'] = 'Boston'"
   ]
  },
  {
   "cell_type": "code",
   "execution_count": null,
   "metadata": {
    "ExecuteTime": {
     "end_time": "2021-10-25T17:46:24.439740Z",
     "start_time": "2021-10-25T17:46:24.430730Z"
    }
   },
   "outputs": [],
   "source": [
    "pos_controls_source.drop('batch',1).groupby(['Partner']).nunique()#sort_values('Positive Control ID')"
   ]
  },
  {
   "cell_type": "code",
   "execution_count": null,
   "metadata": {},
   "outputs": [],
   "source": [
    "44+45+18"
   ]
  },
  {
   "cell_type": "code",
   "execution_count": null,
   "metadata": {
    "ExecuteTime": {
     "end_time": "2021-10-25T17:46:25.560799Z",
     "start_time": "2021-10-25T17:46:25.549796Z"
    }
   },
   "outputs": [],
   "source": [
    "pos_controls_source.groupby(['batch','Partner']).nunique()#sort_values('Positive Control ID')"
   ]
  },
  {
   "cell_type": "code",
   "execution_count": null,
   "metadata": {
    "ExecuteTime": {
     "end_time": "2021-10-25T17:46:25.926817Z",
     "start_time": "2021-10-25T17:46:25.915818Z"
    }
   },
   "outputs": [],
   "source": [
    "pos_controls_source[pos_controls_source['Partner'] == 'Vanderbilt'].sort_values('Positive Control ID')"
   ]
  },
  {
   "cell_type": "code",
   "execution_count": null,
   "metadata": {},
   "outputs": [],
   "source": []
  },
  {
   "cell_type": "code",
   "execution_count": null,
   "metadata": {
    "ExecuteTime": {
     "end_time": "2021-10-25T17:46:28.670070Z",
     "start_time": "2021-10-25T17:46:28.664068Z"
    }
   },
   "outputs": [],
   "source": [
    "pos_controls_source[pos_controls_source['Positive Control ID'] == 'ST-01562734']"
   ]
  },
  {
   "cell_type": "code",
   "execution_count": null,
   "metadata": {
    "ExecuteTime": {
     "end_time": "2021-10-25T17:46:28.937090Z",
     "start_time": "2021-10-25T17:46:28.931107Z"
    }
   },
   "outputs": [],
   "source": [
    "pos_controls_source[pos_controls_source['Positive Control ID'] ==' ST01554045']"
   ]
  },
  {
   "cell_type": "code",
   "execution_count": null,
   "metadata": {
    "ExecuteTime": {
     "end_time": "2021-10-25T17:46:29.209108Z",
     "start_time": "2021-10-25T17:46:29.195106Z"
    }
   },
   "outputs": [],
   "source": [
    "pos_controls_source2 = pos_controls_source[pos_controls_source['Partner'] == 'Mayo'].merge(pos_controls)[['Biobank ID','Partner','outcome_ei','outcome_ab']].drop_duplicates().reset_index(drop = True)#.count()\n",
    "pos_controls_source2.to_csv(data_directory+'Mayo Positive Controls.csv')#.groupby('Partner').nunique()"
   ]
  },
  {
   "cell_type": "code",
   "execution_count": null,
   "metadata": {
    "ExecuteTime": {
     "end_time": "2021-10-25T17:46:29.470222Z",
     "start_time": "2021-10-25T17:46:29.465119Z"
    }
   },
   "outputs": [],
   "source": [
    "pos_controls_source2['Biobank ID'].nunique()"
   ]
  },
  {
   "cell_type": "code",
   "execution_count": null,
   "metadata": {
    "ExecuteTime": {
     "end_time": "2021-10-25T17:46:29.748138Z",
     "start_time": "2021-10-25T17:46:29.736138Z"
    }
   },
   "outputs": [],
   "source": [
    "discordant_poscontrols = melissa_df(pos_controls, ID = 'Biobank ID').sort_values(['AB1', 'EI1'], ascending = False)\n",
    "discordant_poscontrols.to_csv(data_directory+'Positive Controls, AB_EI positive.csv')\n",
    "discordant_poscontrols # = discordant_poscontrols[discordant_poscontrols.columns.sort_values()]"
   ]
  },
  {
   "cell_type": "code",
   "execution_count": null,
   "metadata": {
    "ExecuteTime": {
     "end_time": "2021-07-15T16:48:00.007846Z",
     "start_time": "2021-07-15T16:47:59.997842Z"
    }
   },
   "outputs": [],
   "source": [
    "discordant_poscontrols.columns"
   ]
  },
  {
   "cell_type": "code",
   "execution_count": null,
   "metadata": {
    "ExecuteTime": {
     "end_time": "2021-07-15T16:48:00.313869Z",
     "start_time": "2021-07-15T16:48:00.300867Z"
    }
   },
   "outputs": [],
   "source": [
    "cols = ['AB1', 'EI1', 'AB2', 'EI2',\n",
    "       'AB3', 'EI3', 'AB4','EI4', 'AB5', 'EI5', 'AB6', 'EI6','AB7', 'EI7', 'AB8', 'EI8', 'Biobank ID']\n",
    "\n",
    "discordant_poscontrols_ct = discordant_poscontrols.fillna('NA').groupby(['AB1', 'EI1', 'AB2', 'EI2',\n",
    "       'AB3', 'EI3', 'AB4',\n",
    "       'EI4', 'AB5', 'EI5', #'AB5_Date', 'EI5_Date',\n",
    "       'AB6', 'EI6',#'AB6_Date', 'EI6_Date', \n",
    "                                'AB7', 'EI7', #'AB7_Date','EI7_Date', \n",
    "        'AB8', 'EI8'#, 'AB8_Date', 'EI8_Date'\n",
    "                               ], as_index = False).nunique()[cols].replace('NA','')\n",
    "\n",
    "discordant_poscontrols_ct#.to_excel(data_directory+'test.xlsx')#.sum()"
   ]
  },
  {
   "cell_type": "code",
   "execution_count": null,
   "metadata": {
    "ExecuteTime": {
     "end_time": "2021-07-15T16:48:00.579897Z",
     "start_time": "2021-07-15T16:48:00.567892Z"
    }
   },
   "outputs": [],
   "source": [
    "discordant_poscontrols[(discordant_poscontrols['Biobank ID'] == 'PIO 1101') #&(discordant_poscontrols.EI3 == 'Positive')\n",
    "                      ][cols]#iloc[:,:24]"
   ]
  },
  {
   "cell_type": "code",
   "execution_count": null,
   "metadata": {
    "ExecuteTime": {
     "end_time": "2021-07-15T16:48:00.933927Z",
     "start_time": "2021-07-15T16:48:00.922925Z"
    }
   },
   "outputs": [],
   "source": [
    "discordant_poscontrols[discordant_poscontrols['EI2'] == 'Negative']"
   ]
  },
  {
   "cell_type": "code",
   "execution_count": null,
   "metadata": {
    "ExecuteTime": {
     "end_time": "2021-07-15T16:48:01.552982Z",
     "start_time": "2021-07-15T16:48:01.542981Z"
    }
   },
   "outputs": [],
   "source": [
    "discordant_poscontrols[discordant_poscontrols]"
   ]
  },
  {
   "cell_type": "code",
   "execution_count": null,
   "metadata": {
    "ExecuteTime": {
     "end_time": "2021-07-15T16:48:01.812005Z",
     "start_time": "2021-07-15T16:48:01.803003Z"
    }
   },
   "outputs": [],
   "source": [
    "pos_controls_source.groupby('Partner').nunique()"
   ]
  },
  {
   "cell_type": "code",
   "execution_count": null,
   "metadata": {
    "ExecuteTime": {
     "end_time": "2021-07-15T16:48:02.105035Z",
     "start_time": "2021-07-15T16:48:02.102032Z"
    }
   },
   "outputs": [],
   "source": [
    "45+44+18"
   ]
  },
  {
   "cell_type": "code",
   "execution_count": null,
   "metadata": {
    "ExecuteTime": {
     "end_time": "2021-07-15T16:48:02.370057Z",
     "start_time": "2021-07-15T16:48:02.358054Z"
    }
   },
   "outputs": [],
   "source": [
    "pos_controls[(pos_controls.outcome_ab == 1) & (pos_controls.outcome_ei ==1)#& (~pos_controls.outcome_ab.isnull())\n",
    "            ][['Biobank ID', 'outcome_ei','outcome_ab']].drop_duplicates().groupby(['outcome_ei','outcome_ab']).nunique()"
   ]
  },
  {
   "cell_type": "code",
   "execution_count": null,
   "metadata": {
    "ExecuteTime": {
     "end_time": "2021-07-15T16:48:02.672085Z",
     "start_time": "2021-07-15T16:48:02.660082Z"
    }
   },
   "outputs": [],
   "source": [
    "pos_controls[(pos_controls.outcome_ab == 1) & (pos_controls.outcome_ei ==0)#& (~pos_controls.outcome_ab.isnull())\n",
    "            ][['Biobank ID', 'outcome_ei','outcome_ab']].drop_duplicates().groupby(['outcome_ei','outcome_ab']).nunique()"
   ]
  },
  {
   "cell_type": "code",
   "execution_count": null,
   "metadata": {
    "ExecuteTime": {
     "end_time": "2021-07-15T16:44:29.923832Z",
     "start_time": "2021-07-15T16:44:29.920830Z"
    }
   },
   "outputs": [],
   "source": [
    "99+12"
   ]
  },
  {
   "cell_type": "code",
   "execution_count": null,
   "metadata": {
    "ExecuteTime": {
     "end_time": "2021-07-15T16:44:31.769468Z",
     "start_time": "2021-07-15T16:44:31.753466Z"
    }
   },
   "outputs": [],
   "source": [
    "pos_controls[pos_controls.outcome_ab != pos_controls.outcome_ei][['Positive Control ID','Specimen ID',\n",
    "                                                   'outcome_ei','runtime_ei','outcome_ab',\n",
    "                                                   'runtime_ab', 'batch']].sort_values(['batch','Positive Control ID','Specimen ID'])"
   ]
  },
  {
   "cell_type": "code",
   "execution_count": null,
   "metadata": {
    "ExecuteTime": {
     "end_time": "2021-07-15T16:44:33.179205Z",
     "start_time": "2021-07-15T16:44:33.167203Z"
    }
   },
   "outputs": [],
   "source": [
    "pos_controls[['Positive Control ID','Specimen ID']].groupby('Positive Control ID').nunique().sort_values('Specimen ID')"
   ]
  },
  {
   "cell_type": "code",
   "execution_count": null,
   "metadata": {
    "ExecuteTime": {
     "end_time": "2021-07-15T16:44:33.434248Z",
     "start_time": "2021-07-15T16:44:33.422218Z"
    }
   },
   "outputs": [],
   "source": [
    "pos_controls[pos_controls.batch == 5][['Biobank ID','outcome_ab','outcome_ei', 'batch']].groupby(['outcome_ab','outcome_ei', 'batch']).nunique()"
   ]
  },
  {
   "cell_type": "code",
   "execution_count": null,
   "metadata": {
    "ExecuteTime": {
     "end_time": "2021-07-15T16:44:41.261985Z",
     "start_time": "2021-07-15T16:44:41.248980Z"
    }
   },
   "outputs": [],
   "source": [
    "pos_controls[pos_controls.batch == 5][['Biobank ID','outcome_ab','outcome_ei', 'batch']].groupby(['outcome_ab','outcome_ei', 'batch']).count()"
   ]
  },
  {
   "cell_type": "code",
   "execution_count": null,
   "metadata": {
    "ExecuteTime": {
     "end_time": "2021-07-15T16:44:41.608001Z",
     "start_time": "2021-07-15T16:44:41.551998Z"
    }
   },
   "outputs": [],
   "source": [
    "t = pos_controls[pos_controls.batch == 5][['Biobank ID','Specimen ID','outcome_ab','outcome_ei', 'batch']]\n",
    "t2 = t[['Biobank ID','Specimen ID']].groupby(['Biobank ID']).nunique().reset_index()#.groupby(['outcome_ab','outcome_ei', 'batch']).count()\n",
    "\n",
    "t2.columns = ['Biobank ID','N']\n",
    "t2 = t2.merge(pos_controls)\n",
    "t2"
   ]
  },
  {
   "cell_type": "code",
   "execution_count": null,
   "metadata": {
    "ExecuteTime": {
     "end_time": "2021-07-15T16:44:42.415053Z",
     "start_time": "2021-07-15T16:44:42.403053Z"
    }
   },
   "outputs": [],
   "source": [
    "t2[t2['N']>1][['Biobank ID','Specimen ID', 'outcome_ab','outcome_ei']].sort_values('Biobank ID')"
   ]
  },
  {
   "cell_type": "code",
   "execution_count": null,
   "metadata": {
    "ExecuteTime": {
     "end_time": "2021-07-15T16:44:42.690070Z",
     "start_time": "2021-07-15T16:44:42.669070Z"
    }
   },
   "outputs": [],
   "source": [
    "pos_controls[(pos_controls.batch == 5)&(pos_controls.outcome_ei == 0)]#['Biobank ID'].nunique()"
   ]
  },
  {
   "cell_type": "markdown",
   "metadata": {},
   "source": [
    "### All controls"
   ]
  },
  {
   "cell_type": "code",
   "execution_count": null,
   "metadata": {
    "ExecuteTime": {
     "end_time": "2021-07-15T17:49:09.203650Z",
     "start_time": "2021-07-15T17:49:09.092640Z"
    }
   },
   "outputs": [],
   "source": [
    "controls = pd.concat([neg_controls, pos_controls])\n",
    "controls= controls[['Biobank ID','Specimen ID','od_ei','outcome_ei','runtime_ei'\n",
    "          ,'od_ab', 'outcome_ab', 'runtime_ab', 'Positive Control', 'Negative Control', 'batch']].drop_duplicates()\n",
    "controls['Biobank ID'].nunique(), controls['Specimen ID'].nunique(), controls.columns"
   ]
  },
  {
   "cell_type": "code",
   "execution_count": null,
   "metadata": {
    "ExecuteTime": {
     "end_time": "2021-07-15T17:33:14.879269Z",
     "start_time": "2021-07-15T17:33:14.874269Z"
    }
   },
   "outputs": [],
   "source": [
    "320+1338"
   ]
  },
  {
   "cell_type": "code",
   "execution_count": null,
   "metadata": {
    "ExecuteTime": {
     "end_time": "2021-07-15T17:43:14.516557Z",
     "start_time": "2021-07-15T17:43:14.324543Z"
    }
   },
   "outputs": [],
   "source": [
    "controls_ei_ordered = controls[['Biobank ID','runtime_ei']].drop_duplicates().\\\n",
    "groupby(['Biobank ID'], as_index = False).min()\n",
    "controls_ei_ordered.merge(controls[['Biobank ID','outcome_ei', 'runtime_ei','Positive Control','Negative Control']])\\\n",
    ".groupby(['outcome_ei','Positive Control','Negative Control']).nunique()"
   ]
  },
  {
   "cell_type": "code",
   "execution_count": null,
   "metadata": {
    "ExecuteTime": {
     "end_time": "2021-07-15T18:07:34.815192Z",
     "start_time": "2021-07-15T18:07:34.662180Z"
    }
   },
   "outputs": [],
   "source": [
    "controls_ab_ordered = controls[['Biobank ID','runtime_ab']].drop_duplicates().\\\n",
    "groupby(['Biobank ID'], as_index = False).min()\n",
    "controls_ab_ordered.merge(controls[['Biobank ID','outcome_ab', 'runtime_ab','outcome_ei','Positive Control','Negative Control']])\\\n",
    ".groupby(['outcome_ab','Positive Control','Negative Control']).nunique()"
   ]
  },
  {
   "cell_type": "code",
   "execution_count": null,
   "metadata": {
    "ExecuteTime": {
     "end_time": "2021-07-15T18:09:33.942739Z",
     "start_time": "2021-07-15T18:09:33.909737Z"
    }
   },
   "outputs": [],
   "source": [
    "poscontrols_ab_ordered = pos_controls[['Biobank ID','runtime_ab']].drop_duplicates().\\\n",
    "groupby(['Biobank ID'], as_index = False).min()\n",
    "poscontrols_ab_ordered.merge(pos_controls[['Biobank ID','outcome_ab', 'runtime_ab','outcome_ei']])\\\n",
    ".groupby(['outcome_ab', 'outcome_ei']).nunique()"
   ]
  },
  {
   "cell_type": "code",
   "execution_count": null,
   "metadata": {
    "ExecuteTime": {
     "end_time": "2021-07-15T18:11:03.050072Z",
     "start_time": "2021-07-15T18:11:03.029070Z"
    }
   },
   "outputs": [],
   "source": [
    "poscontrols_ei_ordered = pos_controls[['Biobank ID','runtime_ei']].drop_duplicates().\\\n",
    "groupby(['Biobank ID'], as_index = False).min()\n",
    "poscontrols_ei_ordered.merge(pos_controls[['Biobank ID','outcome_ei', 'runtime_ei','outcome_ab']])\\\n",
    ".groupby(['outcome_ab', 'outcome_ei']).nunique()"
   ]
  },
  {
   "cell_type": "code",
   "execution_count": null,
   "metadata": {
    "ExecuteTime": {
     "end_time": "2021-07-15T18:14:48.736887Z",
     "start_time": "2021-07-15T18:14:48.720884Z"
    }
   },
   "outputs": [],
   "source": [
    "controls[controls['Biobank ID'] == 'PIO 1101'].sort_values('outcome_ei')"
   ]
  },
  {
   "cell_type": "code",
   "execution_count": null,
   "metadata": {
    "ExecuteTime": {
     "end_time": "2021-07-15T18:03:38.225369Z",
     "start_time": "2021-07-15T18:03:37.831344Z"
    }
   },
   "outputs": [],
   "source": [
    "for p in pos_controls['Biobank ID'].unique():\n",
    "    df = pos_controls[pos_controls['Biobank ID'] == p][['Biobank ID','Specimen ID','od_ei','outcome_ei','runtime_ei'\n",
    "          ,'od_ab', 'outcome_ab', 'runtime_ab', 'Positive Control', 'Negative Control']].drop_duplicates()\n",
    "    if len(df.outcome_ei.unique())>=2:\n",
    "        display(df.sort_values('outcome_ab'))\n",
    "        "
   ]
  },
  {
   "cell_type": "code",
   "execution_count": null,
   "metadata": {
    "ExecuteTime": {
     "end_time": "2021-07-15T17:52:30.253810Z",
     "start_time": "2021-07-15T17:52:30.242809Z"
    }
   },
   "outputs": [],
   "source": [
    "controls[(controls.batch ==1) & (controls.runtime_ei == '2020/07/08 21:52:10')\n",
    "         & (controls.runtime_ab == '2020/07/09 13:18:00')]"
   ]
  },
  {
   "cell_type": "code",
   "execution_count": null,
   "metadata": {
    "ExecuteTime": {
     "end_time": "2021-07-15T17:45:09.321876Z",
     "start_time": "2021-07-15T17:45:09.298869Z"
    }
   },
   "outputs": [],
   "source": [
    "controls_ei_ordered[controls_ei_ordered['Biobank ID'] == 'PIO 1045']"
   ]
  },
  {
   "cell_type": "code",
   "execution_count": null,
   "metadata": {
    "ExecuteTime": {
     "end_time": "2021-07-15T17:45:30.281275Z",
     "start_time": "2021-07-15T17:45:30.267269Z"
    }
   },
   "outputs": [],
   "source": [
    "controls_ab_ordered[controls_ab_ordered['Biobank ID'] == 'PIO 1045']"
   ]
  },
  {
   "cell_type": "code",
   "execution_count": null,
   "metadata": {
    "ExecuteTime": {
     "end_time": "2021-07-15T17:46:18.642451Z",
     "start_time": "2021-07-15T17:46:18.575446Z"
    }
   },
   "outputs": [],
   "source": [
    "controls[controls['Biobank ID'] == 'PIO 1045'].sort_values('runtime_ei')"
   ]
  },
  {
   "cell_type": "code",
   "execution_count": null,
   "metadata": {
    "ExecuteTime": {
     "end_time": "2021-07-15T17:46:50.271783Z",
     "start_time": "2021-07-15T17:46:50.257780Z"
    }
   },
   "outputs": [],
   "source": [
    "controls[controls['Biobank ID'] == 'PIO 1045'].sort_values('runtime_ab')"
   ]
  },
  {
   "cell_type": "markdown",
   "metadata": {},
   "source": [
    "### Non Controls"
   ]
  },
  {
   "cell_type": "code",
   "execution_count": null,
   "metadata": {
    "ExecuteTime": {
     "end_time": "2021-10-27T16:50:28.174732Z",
     "start_time": "2021-10-27T16:50:28.150729Z"
    }
   },
   "outputs": [],
   "source": [
    "non_controls = batch1to5_ab_ei_recalculated_m1[(batch1to5_ab_ei_recalculated_m1['Negative Control'] == 'No')&\n",
    "                                               (batch1to5_ab_ei_recalculated_m1['Positive Control'] == 'No')]\n",
    "\n",
    "non_controls['Biobank ID'].dropna().nunique(), non_controls['Specimen ID'].nunique(),non_controls['Biobank ID'].dropna().nunique()"
   ]
  },
  {
   "cell_type": "code",
   "execution_count": null,
   "metadata": {
    "ExecuteTime": {
     "end_time": "2021-10-25T17:46:46.350268Z",
     "start_time": "2021-10-25T17:46:46.339274Z"
    }
   },
   "outputs": [],
   "source": [
    "non_controls[(non_controls.outcome_ab == 1) &\n",
    "                (non_controls.outcome_ei ==1)][['Biobank ID','outcome_ei','outcome_ab','od_ei','od_ab', 'batch']]"
   ]
  },
  {
   "cell_type": "code",
   "execution_count": null,
   "metadata": {
    "ExecuteTime": {
     "end_time": "2021-10-25T18:09:16.422851Z",
     "start_time": "2021-10-25T18:09:16.406851Z"
    }
   },
   "outputs": [],
   "source": [
    "non_controls[(non_controls.outcome_ab !=non_controls.outcome_ei)][['Biobank ID','outcome_ei','outcome_ab','od_ei','od_ab', 'batch']]"
   ]
  },
  {
   "cell_type": "code",
   "execution_count": null,
   "metadata": {
    "ExecuteTime": {
     "end_time": "2021-10-25T17:46:53.414609Z",
     "start_time": "2021-10-25T17:46:53.404605Z"
    }
   },
   "outputs": [],
   "source": [
    "discordant_noncontrols = melissa_df(non_controls, ID = 'biobank_id').sort_values(['AB1', 'EI1'], ascending = False)\n",
    "discordant_noncontrols.to_csv(data_directory+'Non Controls, AB_EI positive.csv')\n",
    "discordant_noncontrols"
   ]
  },
  {
   "cell_type": "code",
   "execution_count": null,
   "metadata": {
    "ExecuteTime": {
     "end_time": "2021-07-15T16:44:44.082153Z",
     "start_time": "2021-07-15T16:44:44.071148Z"
    }
   },
   "outputs": [],
   "source": [
    "discordant_noncontrols.groupby(['AB1','EI1']).nunique()"
   ]
  },
  {
   "cell_type": "code",
   "execution_count": null,
   "metadata": {
    "ExecuteTime": {
     "end_time": "2021-07-15T16:44:44.388167Z",
     "start_time": "2021-07-15T16:44:44.367166Z"
    }
   },
   "outputs": [],
   "source": [
    "display(non_controls[['biobank_id','outcome_ab']].groupby(['outcome_ab']).nunique()), display(non_controls[['biobank_id','outcome_ei']].groupby(['outcome_ei']).nunique())"
   ]
  },
  {
   "cell_type": "code",
   "execution_count": null,
   "metadata": {
    "ExecuteTime": {
     "end_time": "2021-07-15T16:44:44.637185Z",
     "start_time": "2021-07-15T16:44:44.621180Z"
    },
    "scrolled": true
   },
   "outputs": [],
   "source": [
    "non_controls[['biobank_id','outcome_ab','outcome_ei', 'batch']].groupby(['outcome_ab','outcome_ei', 'batch']).nunique()"
   ]
  },
  {
   "cell_type": "code",
   "execution_count": null,
   "metadata": {
    "ExecuteTime": {
     "end_time": "2021-07-15T16:45:20.986187Z",
     "start_time": "2021-07-15T16:45:20.981187Z"
    }
   },
   "outputs": [],
   "source": [
    "145+23787+147"
   ]
  },
  {
   "cell_type": "code",
   "execution_count": null,
   "metadata": {
    "ExecuteTime": {
     "end_time": "2021-07-15T16:45:23.538003Z",
     "start_time": "2021-07-15T16:45:23.532998Z"
    }
   },
   "outputs": [],
   "source": [
    "128-99, 111-88"
   ]
  },
  {
   "cell_type": "code",
   "execution_count": null,
   "metadata": {
    "ExecuteTime": {
     "end_time": "2021-07-15T16:45:23.826016Z",
     "start_time": "2021-07-15T16:45:23.822017Z"
    }
   },
   "outputs": [],
   "source": [
    "128+7"
   ]
  },
  {
   "cell_type": "code",
   "execution_count": null,
   "metadata": {
    "ExecuteTime": {
     "end_time": "2021-07-15T16:45:24.086034Z",
     "start_time": "2021-07-15T16:45:24.082031Z"
    }
   },
   "outputs": [],
   "source": [
    "118+20235"
   ]
  },
  {
   "cell_type": "code",
   "execution_count": null,
   "metadata": {
    "ExecuteTime": {
     "end_time": "2021-07-15T16:45:24.368050Z",
     "start_time": "2021-07-15T16:45:24.364049Z"
    }
   },
   "outputs": [],
   "source": [
    "267+678+20354"
   ]
  },
  {
   "cell_type": "code",
   "execution_count": null,
   "metadata": {
    "ExecuteTime": {
     "end_time": "2021-07-15T16:45:24.630069Z",
     "start_time": "2021-07-15T16:45:24.615065Z"
    }
   },
   "outputs": [],
   "source": [
    "non_controls[non_controls.batch == 5][['biobank_id','outcome_ab','outcome_ei', 'batch']].groupby(['outcome_ab','outcome_ei', 'batch']).nunique()"
   ]
  },
  {
   "cell_type": "code",
   "execution_count": null,
   "metadata": {
    "ExecuteTime": {
     "end_time": "2021-07-15T16:45:24.935084Z",
     "start_time": "2021-07-15T16:45:24.931085Z"
    }
   },
   "outputs": [],
   "source": [
    "3680+17+27+2"
   ]
  },
  {
   "cell_type": "markdown",
   "metadata": {},
   "source": [
    "### disordat results in NEG AND positive control duplicate specimens"
   ]
  },
  {
   "cell_type": "code",
   "execution_count": null,
   "metadata": {
    "ExecuteTime": {
     "end_time": "2021-07-15T16:45:25.356108Z",
     "start_time": "2021-07-15T16:45:25.344108Z"
    }
   },
   "outputs": [],
   "source": [
    "neg_controls[(neg_controls.batch == 5)&\n",
    "    (neg_controls.outcome_ab != neg_controls.outcome_ei)][['Biobank ID', 'Specimen ID','outcome_ab','od_ab','runtime_ab','batch']].sort_values('Biobank ID')"
   ]
  },
  {
   "cell_type": "code",
   "execution_count": null,
   "metadata": {
    "ExecuteTime": {
     "end_time": "2021-07-15T16:45:25.619126Z",
     "start_time": "2021-07-15T16:45:25.609124Z"
    }
   },
   "outputs": [],
   "source": [
    "pos_controls[(pos_controls.batch == 5)&\n",
    "    (pos_controls.outcome_ab != pos_controls.outcome_ei)][['Biobank ID', 'Specimen ID','batch']].sort_values('Biobank ID')"
   ]
  },
  {
   "cell_type": "code",
   "execution_count": null,
   "metadata": {
    "ExecuteTime": {
     "end_time": "2021-07-15T16:45:25.915142Z",
     "start_time": "2021-07-15T16:45:25.913144Z"
    }
   },
   "outputs": [],
   "source": [
    "# batch1234_ab_ei_recalculated_m[#(batch123_eb_ei_recalculated_m.batch == 1)& \n",
    "#     (batch1234_ab_ei_recalculated_m.outcome_ei == 0)&\n",
    "#                               (batch1234_ab_ei_recalculated_m['Positive Control ID'].isin([#'PIO 1016',\n",
    "#                                                                                           #'PIO 1039',\n",
    "#                                                                                           'PIO 1045'\n",
    "#                                                                                          ]))][['Positive Control ID','outcome_ab','outcome_ei','od_ei','od_ab','runtime_ab','runtime_ei','batch']].sort_values('runtime_ei')"
   ]
  },
  {
   "cell_type": "code",
   "execution_count": null,
   "metadata": {
    "ExecuteTime": {
     "end_time": "2021-07-15T16:45:26.116156Z",
     "start_time": "2021-07-15T16:45:26.114155Z"
    }
   },
   "outputs": [],
   "source": [
    "# batch1234_ab_ei_recalculated_m[(batch1234_ab_ei_recalculated_m.batch == 4)& \n",
    "#     (batch1234_ab_ei_recalculated_m.outcome_ei == 0)&\n",
    "#                               (batch1234_ab_ei_recalculated_m['Positive Control'] == 'Yes')][['Positive Control ID','outcome_ab','outcome_ei','od_ei','od_ab','runtime_ab','runtime_ei','batch']].sort_values('Positive Control ID')"
   ]
  },
  {
   "cell_type": "markdown",
   "metadata": {},
   "source": [
    "-----------------------"
   ]
  },
  {
   "cell_type": "code",
   "execution_count": null,
   "metadata": {
    "ExecuteTime": {
     "end_time": "2021-07-15T16:45:26.438179Z",
     "start_time": "2021-07-15T16:45:26.433177Z"
    }
   },
   "outputs": [],
   "source": [
    "16090-12-5"
   ]
  },
  {
   "cell_type": "code",
   "execution_count": null,
   "metadata": {
    "ExecuteTime": {
     "end_time": "2021-07-15T16:45:27.255228Z",
     "start_time": "2021-07-15T16:45:27.252224Z"
    }
   },
   "outputs": [],
   "source": [
    "#batch1234_ab_ei_recalculated_m[batch1234_ab_ei_recalculated_m.biobank_id == 215794482][['39504;SARS-CoV-2 Serology (COVID-19) Antibody (IgG), Immunoassay, EUROIMMUN;COV2IGG: DELTA OD_ei', 'batch', 'Specimen ID']]"
   ]
  },
  {
   "cell_type": "markdown",
   "metadata": {},
   "source": [
    "## Analyze results type"
   ]
  },
  {
   "cell_type": "code",
   "execution_count": null,
   "metadata": {
    "ExecuteTime": {
     "end_time": "2021-07-15T16:45:28.531457Z",
     "start_time": "2021-07-15T16:45:28.527457Z"
    }
   },
   "outputs": [],
   "source": [
    "non_controls.columns"
   ]
  },
  {
   "cell_type": "code",
   "execution_count": null,
   "metadata": {
    "ExecuteTime": {
     "end_time": "2021-10-25T17:47:28.575918Z",
     "start_time": "2021-10-25T17:47:28.547920Z"
    }
   },
   "outputs": [],
   "source": [
    "noncontrols_ab_ei_pos = non_controls[(non_controls.outcome_ab == 1)&\n",
    "                   (non_controls.outcome_ei == 1)][['biobank_id','Biobank ID','od_ab','od_ei','batch']]\n",
    "\n",
    "noncontrols_ab_ei_pos.merge(master_list_original[['Biobank ID','biobank_id','SexAtBirth','Age', 'state',\n",
    "                                                'race', 'DateBloodSampleCollected']])"
   ]
  },
  {
   "cell_type": "code",
   "execution_count": null,
   "metadata": {
    "ExecuteTime": {
     "end_time": "2021-07-15T16:45:29.184497Z",
     "start_time": "2021-07-15T16:45:29.179496Z"
    }
   },
   "outputs": [],
   "source": [
    "9/24079"
   ]
  },
  {
   "cell_type": "code",
   "execution_count": null,
   "metadata": {
    "ExecuteTime": {
     "end_time": "2021-07-15T16:45:29.421511Z",
     "start_time": "2021-07-15T16:45:29.419509Z"
    }
   },
   "outputs": [],
   "source": [
    "# returned_batch123_flat_merged_grp = batch1234_ab_ei_recalculated_m[['Specimen ID', 'outcome_ab', 'outcome_ei']].groupby(['outcome_ab', 'outcome_ei']).nunique()\n",
    "# returned_batch123_flat_merged_grp"
   ]
  },
  {
   "cell_type": "markdown",
   "metadata": {},
   "source": [
    "## SKIP 5.4? Order and get first test for each sample tested twice"
   ]
  },
  {
   "cell_type": "markdown",
   "metadata": {},
   "source": [
    "### Neg controls EI"
   ]
  },
  {
   "cell_type": "code",
   "execution_count": null,
   "metadata": {
    "ExecuteTime": {
     "end_time": "2021-07-15T16:47:25.885451Z",
     "start_time": "2021-07-15T16:47:25.859448Z"
    }
   },
   "outputs": [],
   "source": [
    "batch1to5_ab_ei_recalculated_m1.runtime_ei = pd.to_datetime(batch1to5_ab_ei_recalculated_m1.runtime_ei, utc = True)\n",
    "DF1 = batch1to5_ab_ei_recalculated_m1[['Specimen ID','outcome_ei','od_ei','runtime_ei']].merge(no_TNP2[['participant_id','Specimen ID']].drop_duplicates())\n",
    "\n",
    "\n",
    "DF = DF1[['participant_id','runtime_ei']].drop_duplicates().groupby(['participant_id']).min().reset_index().drop_duplicates()\n",
    "DF = DF.merge(DF1[['participant_id', 'Specimen ID','runtime_ei','outcome_ei']].drop_duplicates(), 'left').drop_duplicates().sort_values('participant_id')\n",
    "\n",
    "## There are 3 participants with same exact runtime for their Specimens. \n",
    "## Since all results are neg, I wil just randomly pick the one\n",
    "DF = DF.sample(frac = 1)\n",
    "DF=DF.groupby('participant_id').head(1)\n",
    "DFn = DF\n"
   ]
  },
  {
   "cell_type": "code",
   "execution_count": null,
   "metadata": {
    "ExecuteTime": {
     "end_time": "2021-07-15T16:45:30.976606Z",
     "start_time": "2021-07-15T16:45:30.966601Z"
    }
   },
   "outputs": [],
   "source": [
    "DF[['participant_id','outcome_ei']].groupby('outcome_ei').nunique()"
   ]
  },
  {
   "cell_type": "markdown",
   "metadata": {},
   "source": [
    "### Neg controls AB"
   ]
  },
  {
   "cell_type": "code",
   "execution_count": null,
   "metadata": {
    "ExecuteTime": {
     "end_time": "2021-07-15T16:45:31.509632Z",
     "start_time": "2021-07-15T16:45:31.497632Z"
    }
   },
   "outputs": [],
   "source": [
    "DF1 = batch1234_ab_ei_recalculated[['Specimen ID','outcome_ab','od_ab','runtime_ab']].merge(no_TNP2[['participant_id','Specimen ID']].drop_duplicates())\n",
    "\n",
    "\n",
    "DF = DF1[['participant_id','runtime_ab']].drop_duplicates().groupby(['participant_id']).min().reset_index().drop_duplicates()\n",
    "DF = DF.merge(DF1[['participant_id', 'Specimen ID','runtime_ab','outcome_ab']].drop_duplicates(), 'left').drop_duplicates().sort_values('participant_id')\n",
    "\n",
    "## There are 1 participants with same exact runtime for their Specimens.\n",
    "###TEST\n",
    "###DF[['participant_id','Specimen ID','runtime_ab']].groupby(['participant_id', 'runtime_ab']).nunique().sort_values('Specimen ID')\n",
    "###DF[DF.participant_id == 512784997.0 ]\n",
    "\n",
    "## Since all results are neg, I wil just randomly pick the one\n",
    "DF = DF.sample(frac = 1)\n",
    "DF=DF.groupby('participant_id').head(1)\n",
    "DFn2 = DF\n"
   ]
  },
  {
   "cell_type": "code",
   "execution_count": null,
   "metadata": {
    "ExecuteTime": {
     "end_time": "2021-07-15T16:45:31.795651Z",
     "start_time": "2021-07-15T16:45:31.784649Z"
    }
   },
   "outputs": [],
   "source": [
    "DF[['participant_id','outcome_ab']].groupby('outcome_ab').nunique()"
   ]
  },
  {
   "cell_type": "markdown",
   "metadata": {},
   "source": [
    "### Pos controls EI"
   ]
  },
  {
   "cell_type": "code",
   "execution_count": null,
   "metadata": {
    "ExecuteTime": {
     "end_time": "2021-07-15T16:45:34.138083Z",
     "start_time": "2021-07-15T16:45:34.124085Z"
    }
   },
   "outputs": [],
   "source": [
    "DF1 = batch1234_ab_ei_recalculated[['Specimen ID','outcome_ei','od_ei','runtime_ei']].merge(no_TNP3[['Positive Control ID','Specimen ID']].drop_duplicates())\n",
    "\n",
    "\n",
    "DF = DF1[['Positive Control ID','runtime_ei']].drop_duplicates().groupby(['Positive Control ID']).min().reset_index().drop_duplicates()\n",
    "DF = DF.merge(DF1[['Positive Control ID', 'Specimen ID','runtime_ei','outcome_ei']].drop_duplicates(), 'left').drop_duplicates().sort_values('Positive Control ID')\n",
    "\n",
    "## There is 1 participants with same exact runtime for their Specimens. \n",
    "###TEST\n",
    "#DF[['Positive Control ID','Specimen ID','runtime_ei']].groupby(['Positive Control ID', 'runtime_ei']).nunique().sort_values('Specimen ID')\n",
    "#DF[DF['Positive Control ID'] == 'PIO 1015' ]\n",
    "\n",
    "## Since all results are neg, I wil just randomly pick the one\n",
    "DF = DF.sample(frac = 1)\n",
    "DF=DF.groupby('Positive Control ID').head(1)\n",
    "DF['Positive Control ID'].count()\n",
    "\n",
    "DFp = DF"
   ]
  },
  {
   "cell_type": "code",
   "execution_count": null,
   "metadata": {
    "ExecuteTime": {
     "end_time": "2021-07-15T16:45:34.398098Z",
     "start_time": "2021-07-15T16:45:34.385098Z"
    }
   },
   "outputs": [],
   "source": [
    "DF[['Positive Control ID','outcome_ei']].groupby('outcome_ei').nunique()"
   ]
  },
  {
   "cell_type": "code",
   "execution_count": null,
   "metadata": {
    "ExecuteTime": {
     "end_time": "2021-07-15T16:45:35.247152Z",
     "start_time": "2021-07-15T16:45:35.243149Z"
    }
   },
   "outputs": [],
   "source": [
    "57+309"
   ]
  },
  {
   "cell_type": "markdown",
   "metadata": {},
   "source": [
    "### Pos AB"
   ]
  },
  {
   "cell_type": "code",
   "execution_count": null,
   "metadata": {
    "ExecuteTime": {
     "end_time": "2021-07-15T16:46:14.791372Z",
     "start_time": "2021-07-15T16:46:14.775371Z"
    }
   },
   "outputs": [],
   "source": [
    "DF1 = batch1to5_ab_ei_recalculated_m1[['Specimen ID','outcome_ab','od_ab','runtime_ab']].merge(no_TNP3[['Positive Control ID','Specimen ID']].drop_duplicates())\n",
    "\n",
    "\n",
    "DF = DF1[['Positive Control ID','runtime_ab']].drop_duplicates().groupby(['Positive Control ID']).min().reset_index().drop_duplicates()\n",
    "DF = DF.merge(DF1[['Positive Control ID', 'Specimen ID','runtime_ab','outcome_ab']].drop_duplicates(), 'left').drop_duplicates().sort_values('Positive Control ID')\n",
    "DF['Positive Control ID'].count()\n",
    "DFp2 = DF"
   ]
  },
  {
   "cell_type": "code",
   "execution_count": null,
   "metadata": {
    "ExecuteTime": {
     "end_time": "2021-07-15T16:45:35.917190Z",
     "start_time": "2021-07-15T16:45:35.907187Z"
    }
   },
   "outputs": [],
   "source": [
    "DF[['Positive Control ID','outcome_ab']].groupby('outcome_ab').nunique()"
   ]
  },
  {
   "cell_type": "markdown",
   "metadata": {},
   "source": [
    "### Combined ordered DF"
   ]
  },
  {
   "cell_type": "code",
   "execution_count": null,
   "metadata": {
    "ExecuteTime": {
     "end_time": "2020-12-18T17:51:33.112864Z",
     "start_time": "2020-12-18T17:51:33.094863Z"
    }
   },
   "outputs": [],
   "source": [
    "## negative controls ordered DFs merged\n",
    "all_DFns = DFn.merge(DFn2, on = 'participant_id')[['participant_id','outcome_ei','outcome_ab']]\n",
    "all_DFns['Positive Control'] = 'No'\n",
    "all_DFns['Negative Control'] = 'Yes'\n",
    "all_DFns.groupby(['outcome_ab','outcome_ei']).nunique()"
   ]
  },
  {
   "cell_type": "code",
   "execution_count": null,
   "metadata": {
    "ExecuteTime": {
     "end_time": "2020-12-18T17:51:33.622891Z",
     "start_time": "2020-12-18T17:51:33.612892Z"
    }
   },
   "outputs": [],
   "source": [
    "all_DFns[['outcome_ei','outcome_ab']].isna().drop_duplicates()"
   ]
  },
  {
   "cell_type": "code",
   "execution_count": null,
   "metadata": {
    "ExecuteTime": {
     "end_time": "2020-12-18T17:51:33.889909Z",
     "start_time": "2020-12-18T17:51:33.871908Z"
    }
   },
   "outputs": [],
   "source": [
    "## positive controls ordered DFs merged\n",
    "all_DFps = DFp.merge(DFp2, on = 'Positive Control ID')[['Positive Control ID','outcome_ei','outcome_ab']]\n",
    "all_DFps['Positive Control'] = 'Yes'\n",
    "all_DFps['Negative Control'] = 'No'\n",
    "all_DFps.groupby(['outcome_ab','outcome_ei']).nunique()"
   ]
  },
  {
   "cell_type": "code",
   "execution_count": null,
   "metadata": {},
   "outputs": [],
   "source": []
  },
  {
   "cell_type": "code",
   "execution_count": null,
   "metadata": {
    "ExecuteTime": {
     "end_time": "2020-12-18T17:51:34.310934Z",
     "start_time": "2020-12-18T17:51:34.298932Z"
    }
   },
   "outputs": [],
   "source": [
    "all_DFps#[['outcome_ei','outcome_ab']].isna().drop_duplicates()"
   ]
  },
  {
   "cell_type": "code",
   "execution_count": null,
   "metadata": {
    "ExecuteTime": {
     "end_time": "2020-12-18T17:51:45.087515Z",
     "start_time": "2020-12-18T17:51:45.082514Z"
    }
   },
   "outputs": [],
   "source": [
    "all_DFps['Positive Control ID'].nunique()"
   ]
  },
  {
   "cell_type": "code",
   "execution_count": null,
   "metadata": {
    "ExecuteTime": {
     "end_time": "2020-12-18T17:51:45.458536Z",
     "start_time": "2020-12-18T17:51:45.429535Z"
    }
   },
   "outputs": [],
   "source": [
    "DF_noncontrol = batch1234_ab_ei_recalculated[['Specimen ID','outcome_ei',#'od_ei','runtime_ab','od_ab',\n",
    "                                             'outcome_ab']].merge(no_TNP4[['participant_id','Specimen ID']].drop_duplicates()).drop('Specimen ID', axis =1 )\n",
    "DF_noncontrol['Positive Control'] = 'No'\n",
    "DF_noncontrol['Negative Control'] = 'No'\n",
    "DF_noncontrol"
   ]
  },
  {
   "cell_type": "code",
   "execution_count": null,
   "metadata": {
    "ExecuteTime": {
     "end_time": "2020-12-18T17:51:46.006566Z",
     "start_time": "2020-12-18T17:51:45.952564Z"
    }
   },
   "outputs": [],
   "source": [
    "batch1234_ab_ei_recalculated_ordered = pd.merge(DF_noncontrol, all_DFns, 'outer').merge(all_DFps, 'outer').drop_duplicates()\n",
    "batch1234_ab_ei_recalculated_ordered"
   ]
  },
  {
   "cell_type": "code",
   "execution_count": null,
   "metadata": {
    "ExecuteTime": {
     "end_time": "2020-12-18T17:51:46.364589Z",
     "start_time": "2020-12-18T17:51:46.360587Z"
    }
   },
   "outputs": [],
   "source": [
    "309+57+15256"
   ]
  },
  {
   "cell_type": "code",
   "execution_count": null,
   "metadata": {
    "ExecuteTime": {
     "end_time": "2020-12-18T17:51:46.631601Z",
     "start_time": "2020-12-18T17:51:46.542597Z"
    }
   },
   "outputs": [],
   "source": [
    "batch1234_ab_ei_recalculated_ordered.to_csv(data_directory+'batch1234_ab_ei_recalculated_ordered11.29.2020.csv')"
   ]
  },
  {
   "cell_type": "code",
   "execution_count": null,
   "metadata": {
    "ExecuteTime": {
     "end_time": "2020-12-18T17:51:46.781609Z",
     "start_time": "2020-12-18T17:51:46.765608Z"
    }
   },
   "outputs": [],
   "source": [
    "batch1234_ab_ei_recalculated_ordered[(batch1234_ab_ei_recalculated_ordered['Positive Control'] == 'Yes')&\n",
    "                                   (batch1234_ab_ei_recalculated_ordered['Negative Control'] == 'No')][['Positive Control ID','outcome_ei', 'outcome_ab']].drop_duplicates().groupby(['outcome_ei', 'outcome_ab']).nunique()"
   ]
  },
  {
   "cell_type": "markdown",
   "metadata": {},
   "source": [
    "## Update Demog Information table"
   ]
  },
  {
   "cell_type": "code",
   "execution_count": null,
   "metadata": {
    "ExecuteTime": {
     "end_time": "2021-03-22T17:29:17.549340Z",
     "start_time": "2021-03-22T17:29:17.544339Z"
    }
   },
   "outputs": [],
   "source": [
    "import pandas as pd\n",
    "import numpy as np\n",
    "vandi_pos_controls_demog = pd.read_csv(data_directory+'COVID Vanderbilt Controls with Demographics.csv')"
   ]
  },
  {
   "cell_type": "markdown",
   "metadata": {},
   "source": [
    "### Function to get demog information"
   ]
  },
  {
   "cell_type": "code",
   "execution_count": null,
   "metadata": {
    "ExecuteTime": {
     "end_time": "2021-03-22T17:27:25.979875Z",
     "start_time": "2021-03-22T17:27:25.971872Z"
    }
   },
   "outputs": [],
   "source": [
    "import statistics as stats"
   ]
  },
  {
   "cell_type": "code",
   "execution_count": null,
   "metadata": {
    "ExecuteTime": {
     "end_time": "2021-03-22T17:27:26.279891Z",
     "start_time": "2021-03-22T17:27:26.274897Z"
    }
   },
   "outputs": [],
   "source": [
    "##\n",
    "otherrace = ['MORE THAN ONE RACE',\n",
    "             'OTHER RACE', 'HLS AND ONE OTHER RACE', \n",
    "             'MIDDLE EASTERN OR NORTH AFRICAN', 'HLS AND MORE THAN ONE OTHER RACE']\n",
    "\n",
    "noanswers = ['PMI SKIP','PREFER NOT TO SAY','UNSET'] #, 'PMI_Skip','PREFER_NOT_TO_SAY'\n",
    "\n",
    "###################################################################################################################\n",
    "\n",
    "othersex = ['SEXATBIRTHNONEOFTHESE','INTERSEX']\n",
    "noanswer_sex = ['UNSET', 'PMI SKIP']\n",
    "\n",
    "###################################################################################################################\n",
    "northeast = [\"Connecticut\", \"Maine\", \"Massachusetts\", \"New Hampshire\",\n",
    "             \"Rhode Island\", \"Vermont\", \"New Jersey\",\"New York\", \"Pennsylvania\"]\n",
    "\n",
    "midwest = [\"Indiana\", \"Illinois\", \"Michigan\", \"Ohio\", \"Wisconsin\", \"Iowa\", \"Kansas\", \"Minnesota\", \"Missouri\", \n",
    "           \"Nebraska\", \"North Dakota\", \"South Dakota\"]\n",
    "\n",
    "south = [\"Delaware\", \"District of Columbia\", \"Florida\", \"Georgia\", \"Maryland\", \"North Carolina\", \n",
    "         \"South Carolina\", \"Virginia\", \"West Virginia\", \"Alabama\", \"Kentucky\", \"Mississippi\",\n",
    "         \"Tennessee\", \"Arkansas\", \"Louisiana\", \"Oklahoma\", \"Texas\"]\n",
    "\n",
    "west = [\"Arizona\", \"Colorado\",\"Idaho\", \"New Mexico\",\"Montana\", \"Utah\", \"Nevada\", \"Wyoming\", \n",
    "        \"Alaska\", \"California\", \"Hawaii\",\"Oregon\", \"Washington\"]\n",
    "\n",
    "other = ['American Samoa','Guam','Palau', 'Federated States of Micronesia', 'Puerto Rico', 'Virgin Islands',\n",
    "        'Marshall Islands']\n",
    "\n",
    "undisclosed = ['Unknown']\n",
    "\n",
    "######################################################################################################################\n",
    "\n"
   ]
  },
  {
   "cell_type": "code",
   "execution_count": null,
   "metadata": {
    "ExecuteTime": {
     "end_time": "2021-03-22T17:27:26.524909Z",
     "start_time": "2021-03-22T17:27:26.518906Z"
    }
   },
   "outputs": [],
   "source": [
    "len(['Minnesota', 'Alabama', 'Michigan', 'Wisconsin', 'Illinois',\n",
    "       'New York', 'Missouri', 'Arizona', 'California', 'Massachusetts',\n",
    "       'Mississippi', 'Georgia', 'Pennsylvania', 'Guam', 'Kansas',\n",
    "       'Florida', 'Washington', 'New Jersey', 'Nebraska', 'Nevada',\n",
    "       'Colorado', 'Tennessee', 'Connecticut', 'Louisiana', 'Indiana',\n",
    "       'Rhode Island', 'Alaska', 'Montana', 'Maryland', 'Oklahoma',\n",
    "       'New Hampshire', 'Maine', 'South Carolina', 'South Dakota',\n",
    "       'Texas', 'New Mexico', 'Delaware', 'Vermont', 'Oregon', 'Iowa',\n",
    "       'North Carolina', 'Wyoming', 'Ohio',\n",
    "       'Federated States of Micronesia', 'Palau', 'Idaho', 'Utah',\n",
    "       'American Samoa', 'Hawaii', 'Kentucky', 'Arkansas', 'Virginia',\n",
    "       'District of Columbia', 'Puerto Rico', 'North Dakota',\n",
    "       'West Virginia', 'Virgin Islands', 'Marshall Islands'])"
   ]
  },
  {
   "cell_type": "code",
   "execution_count": null,
   "metadata": {
    "ExecuteTime": {
     "end_time": "2021-03-22T17:27:26.813922Z",
     "start_time": "2021-03-22T17:27:26.809923Z"
    }
   },
   "outputs": [],
   "source": [
    "len(northeast)+len(midwest)+len(south)+len(west)+len(other)"
   ]
  },
  {
   "cell_type": "code",
   "execution_count": null,
   "metadata": {
    "ExecuteTime": {
     "end_time": "2021-03-22T17:27:27.123944Z",
     "start_time": "2021-03-22T17:27:27.112942Z"
    }
   },
   "outputs": [],
   "source": [
    "master_index = ['Characterisitics', 'AGE IN YEARS, median (IQR 75th, 25th)', ' ',\n",
    "\n",
    "        'Sex at Birth', 'FEMALE', 'MALE',\n",
    "        'SKIP, PREFER NOT TO SAY OR NO ANSWER', ' ', \n",
    "        \n",
    "        'Race', 'ASIAN',\n",
    "        'BLACK OR AFRICAN AMERICAN', 'HISPANIC LATINO OR SPANISH',\n",
    "        'HLS AND BLACK', 'HLS AND WHITE', 'MIXED ORIGIN OR OTHER', 'OTHER RACE',\n",
    "        'SKIP, PREFER NOT TO SAY OR NO ANSWER', 'WHITE', ' ',\n",
    "        \n",
    "        'Geography of Residence','MIDWEST', 'NORTHEAST', 'SOUTH', 'WEST', 'UNDISCLOSED']\n",
    "\n",
    "master_df = pd.DataFrame(index = master_index)\n",
    "master_df['order'] = range(len(master_df.index))\n",
    "master_df = master_df.reset_index()\n",
    "master_df.columns = ['demog', 'order']\n",
    "master_df"
   ]
  },
  {
   "cell_type": "code",
   "execution_count": null,
   "metadata": {},
   "outputs": [],
   "source": []
  },
  {
   "cell_type": "code",
   "execution_count": null,
   "metadata": {
    "ExecuteTime": {
     "end_time": "2021-03-22T17:27:28.098003Z",
     "start_time": "2021-03-22T17:27:28.073002Z"
    }
   },
   "outputs": [],
   "source": [
    "def format_demographics(DF, df_name, pid = 'Biobank ID'):\n",
    "    \n",
    "    total = int(DF[pid].nunique())\n",
    "\n",
    "    cols = pd.MultiIndex.from_tuples([(df_name, 'N='),(df_name, str(total))])\n",
    "    print(cols)\n",
    "    demog_df = pd.DataFrame(columns = cols, index = ['Characterisitics']) \n",
    "    demog_df.iloc[0,0] = 'n'\n",
    "    demog_df.iloc[0,1] = '%'\n",
    "\n",
    "    ## Get Age Statistics\n",
    "    perc_75_age = np.percentile(DF['Age'], 75)\n",
    "    perc_50_age = np.percentile(DF['Age'], 50)\n",
    "    perc_25_age = np.percentile(DF['Age'], 25)\n",
    "    \n",
    "    df_age = pd.DataFrame(columns = cols, index = ['AGE IN YEARS, median (IQR 75th, 25th)'])\n",
    "    df_age.iloc[0,0] = perc_50_age\n",
    "    df_age.iloc[0,1] = ' ('+str(perc_75_age )+', '+str(perc_25_age)+')'\n",
    "\n",
    "    \n",
    "    # Get Race Statistics\n",
    "    DF['r'] = DF['Race']\n",
    "    DF.loc[DF['r'].isin(otherrace), 'Race'] = 'OTHER RACE'\n",
    "    DF.loc[DF['r'].isin(noanswers), 'Race'] = 'SKIP, PREFER NOT TO SAY OR NO ANSWER'\n",
    "    \n",
    "    # Get Sex At Borth Statistics\n",
    "    DF['Sex at Birth'] = DF['SexAtBirth']\n",
    "    DF.loc[DF['Sex at Birth'].isin(othersex), 'Sex at Birth'] = 'OTHER SEX AT BIRTH'\n",
    "    DF.loc[DF['Sex at Birth'].isin(noanswer_sex), 'Sex at Birth'] = 'SKIP, PREFER NOT TO SAY OR NO ANSWER'\n",
    "\n",
    "    # Get Location Statistics\n",
    "    DF['Geography of Residence'] = ''\n",
    "    DF.loc[DF['State'].isin(northeast), 'Geography of Residence'] = 'NORTHEAST'\n",
    "    DF.loc[DF['State'].isin(midwest), 'Geography of Residence'] = 'MIDWEST'\n",
    "    DF.loc[DF['State'].isin(south), 'Geography of Residence'] = 'SOUTH'\n",
    "    DF.loc[DF['State'].isin(west), 'Geography of Residence'] = 'WEST'\n",
    "    DF.loc[DF['State'].isin(other), 'Geography of Residence'] = 'US TERRITORIES'\n",
    "    DF.loc[DF['State'].isin(undisclosed), 'Geography of Residence'] = 'UNDISCLOSED'\n",
    "    # Put it together   \n",
    "    demographics_df = pd.concat([demog_df, df_age]).fillna(' ')\n",
    "    #demog_df = demog_df.reindex(demog_df.index.values.tolist()+[' ']).fillna('')\n",
    "\n",
    "    for c in ['Sex at Birth','Race', 'Geography of Residence']:\n",
    "        d = DF[[pid, c]].groupby([c]).nunique()[[pid]]\n",
    "        #d = d.reset_index()\n",
    "#         d = d.rename(columns = {c:\"demog\"})#.drop('order', axis = 1)\n",
    "#         d = d.merge(master_df, on = 'demog', how = 'right').sort_values('order')\n",
    "#         display(d)\n",
    "\n",
    "       # display(d)\n",
    "        #d.columns = cols\n",
    "       # \n",
    "        d[(df_name, str(total))] = [round((d[pid][i]/total)*100,1) for i in d.index]\n",
    "       # display(d.sum())\n",
    "        d[(df_name, str(total))] = [str(i)+'%' for i in d[(df_name, str(total))]]\n",
    "        d[(df_name, str(total))] = d[(df_name, str(total))].astype('string')\n",
    "        d[(df_name, str(total))] = d[(df_name, str(total))].fillna('0%')\n",
    "        display(d)\n",
    "        \n",
    "        d.columns = cols#d.rename(columns = {pid:(df_name, 'N=')})\n",
    "        d[(df_name, 'N=')] = d[(df_name, 'N=')].fillna(0)\n",
    "        d[(df_name, 'N=')] = d[(df_name, 'N=')].astype('int64')\n",
    "        \n",
    "        d = d.reindex([' ']+[c] + d.index.values.tolist())\n",
    "        #d = d.reindex(d.index.values.tolist()+[' '])\n",
    "\n",
    "        demographics_df = pd.concat([demographics_df, d]).fillna(' ')\n",
    "     \n",
    "    return demographics_df\n",
    "\n",
    "def table_1(noncontrol_df = non_controls_demog, negcontrols_df = neg_controls_demog,\n",
    "           poscontrol_df = pos_controls_demog):\n",
    "\n",
    "    non_controls_demog = format_demographics(noncontrol_df, df_name ='All of Us Participants').reset_index()\n",
    "    #non_controls_demog['order'] = range(len(non_controls_demog.index))\n",
    "\n",
    "    neg_controls_demog = format_demographics(negcontrols_df, df_name = 'Negative Controls').reset_index()\n",
    "    \n",
    "\n",
    "#     pos_controls_demog = format_demographics(poscontrol_df, \n",
    "#                                              df_name = 'Positive Controls',pid = 'Positive Control ID').reset_index()\n",
    "\n",
    "    table_1 = non_controls_demog.merge(neg_controls_demog, how = 'left', on = 'index').drop_duplicates()\n",
    "\n",
    "   # table_1 = table_1.merge(pos_controls_demog, how = 'outer', on = 'index').drop_duplicates()\n",
    "\n",
    "    table_1 = table_1.fillna(' ').replace(' (nan, nan)', ' ')\n",
    "    table_1 = table_1.rename(columns = {'index':\" \"})#.drop('order', axis = 1)\n",
    "    \n",
    "   # table2 = table_1.reindex(table_1.index.values.tolist()[0:2]+[' ']+table_1.index.values.tolist()[2:]).reset_index().drop('level_0', axis = 1).fillna(' ')\n",
    "\n",
    "\n",
    "    # demographics_df['n'] = demographics_df['n'].fillna(0)\n",
    "    # demographics_df['%'] = demographics_df['%'].fillna('0%')\n",
    "    \n",
    "\n",
    "    return table_1"
   ]
  },
  {
   "cell_type": "markdown",
   "metadata": {},
   "source": [
    "### Get demographics"
   ]
  },
  {
   "cell_type": "markdown",
   "metadata": {},
   "source": [
    "----------------------------------\n",
    "We are updating the demog table with those who have non null or non TNP resuls only = 15,256\n"
   ]
  },
  {
   "cell_type": "code",
   "execution_count": null,
   "metadata": {
    "ExecuteTime": {
     "end_time": "2021-03-22T17:27:34.227505Z",
     "start_time": "2021-03-22T17:27:34.224505Z"
    }
   },
   "outputs": [],
   "source": [
    "demog_columns = ['Biobank ID','SexAtBirth', \n",
    " 'DateOfBirth', 'state', 'race', #'participant_id','biobank_id', \n",
    " 'Negative Control', 'Positive Control']\n",
    "\n",
    "demog_columns2 = ['Biobank ID',#'participant_id','biobank_id', \n",
    "                  'SexAtBirth', \n",
    " 'Age', 'State', 'Race', \n",
    " 'Negative Control', 'Positive Control']"
   ]
  },
  {
   "cell_type": "code",
   "execution_count": null,
   "metadata": {
    "ExecuteTime": {
     "end_time": "2021-03-22T17:27:39.466840Z",
     "start_time": "2021-03-22T17:27:34.485521Z"
    }
   },
   "outputs": [],
   "source": [
    "non_controls_demog = non_controls.merge(master_list_original[demog_columns]).drop_duplicates()\n",
    "non_controls_demog['race'] = [i.upper() for i in non_controls_demog.race]\n",
    "non_controls_demog['Age'] = [math.floor(((pd.to_datetime(non_controls_demog['DateBloodSampleCollected'][i]) - pd.to_datetime(non_controls_demog['DateOfBirth'][i])).days)/365) for i in non_controls_demog.index]\n",
    "non_controls_demog = non_controls_demog.rename(columns = {'race':\"Race\", 'state':'State'})[demog_columns2]\n",
    "#pos_controls_demog = neg_controls.merge(first_negative_controls_master[demog_columns])\n",
    "\n",
    "neg_controls_demog = neg_controls.merge(first_negative_controls_master[demog_columns]).drop_duplicates()\n",
    "neg_controls_demog['race'] = [i.upper() for i in neg_controls_demog.race]\n",
    "neg_controls_demog['Age'] = [math.floor(((pd.to_datetime(neg_controls_demog['DateBloodSampleCollected'][i]) - pd.to_datetime(neg_controls_demog['DateOfBirth'][i])).days)/365) for i in neg_controls_demog.index]\n",
    "neg_controls_demog = neg_controls_demog.rename(columns = {'race':\"Race\", 'state':'State'})[demog_columns2]"
   ]
  },
  {
   "cell_type": "code",
   "execution_count": null,
   "metadata": {
    "ExecuteTime": {
     "end_time": "2021-03-22T17:27:39.480845Z",
     "start_time": "2021-03-22T17:27:39.468841Z"
    }
   },
   "outputs": [],
   "source": [
    "non_controls_demog[non_controls_demog['SexAtBirth'] == 'SexAtBirthNoneOfThese']"
   ]
  },
  {
   "cell_type": "code",
   "execution_count": null,
   "metadata": {
    "ExecuteTime": {
     "end_time": "2021-03-22T17:27:39.491842Z",
     "start_time": "2021-03-22T17:27:39.481841Z"
    }
   },
   "outputs": [],
   "source": [
    "non_controls_demog.SexAtBirth.unique()"
   ]
  },
  {
   "cell_type": "code",
   "execution_count": null,
   "metadata": {
    "ExecuteTime": {
     "end_time": "2021-03-22T17:27:39.506842Z",
     "start_time": "2021-03-22T17:27:39.492843Z"
    }
   },
   "outputs": [],
   "source": [
    "non_controls_demog[non_controls_demog.State == 'Puerto Rico']"
   ]
  },
  {
   "cell_type": "code",
   "execution_count": null,
   "metadata": {
    "ExecuteTime": {
     "end_time": "2021-03-22T17:27:39.522845Z",
     "start_time": "2021-03-22T17:27:39.507842Z"
    }
   },
   "outputs": [],
   "source": [
    "non_controls_demog.biobank_id.nunique(), neg_controls_demog.biobank_id.nunique()"
   ]
  },
  {
   "cell_type": "code",
   "execution_count": null,
   "metadata": {
    "ExecuteTime": {
     "end_time": "2021-03-22T17:32:48.818202Z",
     "start_time": "2021-03-22T17:32:48.807199Z"
    }
   },
   "outputs": [],
   "source": [
    "pos_controls_demog = pos_controls[['Positive Control ID']].merge(vandi_pos_controls_demog[['Sample ID', 'Age', 'Gender', 'Race',\n",
    "       'Date', 'Ethnicity']].rename(columns = {'Sample ID':'Positive Control ID',\n",
    "                                              'Date':'DateBloodSampleCollected'})).drop_duplicates()#['biobank_id'].nunique()\n",
    "pos_controls_demog.Race = [i.replace('_',' ').upper() for i in pos_controls_demog.Race]"
   ]
  },
  {
   "cell_type": "code",
   "execution_count": null,
   "metadata": {
    "ExecuteTime": {
     "end_time": "2021-03-22T17:33:46.354774Z",
     "start_time": "2021-03-22T17:33:46.348773Z"
    }
   },
   "outputs": [],
   "source": [
    "np.percentile(pos_controls_demog['Age'].dropna(), 75), np.percentile(pos_controls_demog['Age'].dropna(), 50),np.percentile(pos_controls_demog['Age'].dropna(), 25)"
   ]
  },
  {
   "cell_type": "markdown",
   "metadata": {},
   "source": [
    "------------------------------------"
   ]
  },
  {
   "cell_type": "code",
   "execution_count": null,
   "metadata": {
    "ExecuteTime": {
     "end_time": "2021-03-15T17:04:39.598104Z",
     "start_time": "2021-03-15T17:04:39.588100Z"
    }
   },
   "outputs": [],
   "source": [
    "negcontrols_demog = format_demographics(neg_controls_demog, df_name = 'Negative Controls')#.reset_index()\n"
   ]
  },
  {
   "cell_type": "code",
   "execution_count": null,
   "metadata": {
    "ExecuteTime": {
     "end_time": "2021-03-15T17:04:39.795115Z",
     "start_time": "2021-03-15T17:04:39.785113Z"
    }
   },
   "outputs": [],
   "source": [
    "negcontrols_demog"
   ]
  },
  {
   "cell_type": "code",
   "execution_count": null,
   "metadata": {
    "ExecuteTime": {
     "end_time": "2021-01-12T23:14:57.273981Z",
     "start_time": "2021-01-12T23:14:57.269981Z"
    }
   },
   "outputs": [],
   "source": [
    "26+199+3+537+14+180+1+4+9+11+16"
   ]
  },
  {
   "cell_type": "code",
   "execution_count": null,
   "metadata": {
    "ExecuteTime": {
     "end_time": "2021-01-12T23:18:12.293994Z",
     "start_time": "2021-01-12T23:18:12.290996Z"
    }
   },
   "outputs": [],
   "source": [
    "29+29+19+23"
   ]
  },
  {
   "cell_type": "code",
   "execution_count": null,
   "metadata": {
    "ExecuteTime": {
     "end_time": "2021-01-12T23:15:44.954031Z",
     "start_time": "2021-01-12T23:15:44.948027Z"
    }
   },
   "outputs": [],
   "source": [
    "1+4+9+11; 0.1+0.4+0.9+1.1"
   ]
  },
  {
   "cell_type": "code",
   "execution_count": null,
   "metadata": {
    "ExecuteTime": {
     "end_time": "2021-01-12T22:54:20.727868Z",
     "start_time": "2021-01-12T22:54:20.633864Z"
    }
   },
   "outputs": [],
   "source": [
    "noncontrols_demog = format_demographics(non_controls_demog, df_name ='All of Us Participants')#.reset_index()\n",
    "\n",
    "# pos_controls_demog = format_demographics(positive_controls_demographics, \n",
    "#                                             df_name = 'Positive Controls',pid = 'Biobank ID')#reset_index()\n",
    "noncontrols_demog"
   ]
  },
  {
   "cell_type": "code",
   "execution_count": null,
   "metadata": {
    "ExecuteTime": {
     "end_time": "2021-01-12T23:01:02.529081Z",
     "start_time": "2021-01-12T23:01:02.525084Z"
    }
   },
   "outputs": [],
   "source": [
    "29+25+23+23"
   ]
  },
  {
   "cell_type": "code",
   "execution_count": null,
   "metadata": {
    "ExecuteTime": {
     "end_time": "2021-01-12T23:07:02.004923Z",
     "start_time": "2021-01-12T23:07:01.997922Z"
    }
   },
   "outputs": [],
   "source": [
    "24079 - (6953+6092+5612+5408+14)"
   ]
  },
  {
   "cell_type": "code",
   "execution_count": null,
   "metadata": {
    "ExecuteTime": {
     "end_time": "2021-01-12T23:03:27.597380Z",
     "start_time": "2021-01-12T23:03:27.591376Z"
    }
   },
   "outputs": [],
   "source": [
    "non_controls_demog.State.unique()"
   ]
  },
  {
   "cell_type": "code",
   "execution_count": null,
   "metadata": {
    "ExecuteTime": {
     "end_time": "2021-01-12T23:42:37.274502Z",
     "start_time": "2021-01-12T23:42:37.222499Z"
    }
   },
   "outputs": [],
   "source": [
    "non_controls_demog[['Biobank ID', 'State']].to_csv(data_directory+'Non Controls States1.12.21.csv')"
   ]
  },
  {
   "cell_type": "code",
   "execution_count": null,
   "metadata": {},
   "outputs": [],
   "source": []
  },
  {
   "cell_type": "code",
   "execution_count": null,
   "metadata": {},
   "outputs": [],
   "source": []
  },
  {
   "cell_type": "code",
   "execution_count": null,
   "metadata": {},
   "outputs": [],
   "source": []
  },
  {
   "cell_type": "markdown",
   "metadata": {},
   "source": [
    "---------------------"
   ]
  },
  {
   "cell_type": "code",
   "execution_count": null,
   "metadata": {
    "ExecuteTime": {
     "end_time": "2020-10-26T00:09:53.211416Z",
     "start_time": "2020-10-26T00:09:53.208416Z"
    }
   },
   "outputs": [],
   "source": [
    "# proto_serology_data = pd.read_csv(data_directory+'proto_serology_data10.01.2020.xlsx')\n",
    "# proto_serology_data"
   ]
  },
  {
   "cell_type": "markdown",
   "metadata": {},
   "source": [
    "## color the dots - PRE-TEST"
   ]
  },
  {
   "cell_type": "code",
   "execution_count": null,
   "metadata": {
    "ExecuteTime": {
     "end_time": "2020-10-26T00:09:55.163601Z",
     "start_time": "2020-10-26T00:09:55.137594Z"
    }
   },
   "outputs": [],
   "source": [
    "color_dots1 = pd.read_csv(data_directory+'pos_controls_ordered_ab.xlsx')\n",
    "color_dots1[['outcome_ab.x', 'outcome_ab.y']] = color_dots1[['outcome_ab.x', 'outcome_ab.y']].replace(0,'Neg')\n",
    "color_dots1[['outcome_ab.x', 'outcome_ab.y']] = color_dots1[['outcome_ab.x', 'outcome_ab.y']].replace(1,'Pos')\n",
    "color_dots1[['Positive.Control.ID','outcome_ab.x', 'outcome_ab.y']].groupby(['outcome_ab.x', 'outcome_ab.y']).nunique()"
   ]
  },
  {
   "cell_type": "code",
   "execution_count": null,
   "metadata": {
    "ExecuteTime": {
     "end_time": "2020-10-26T00:09:56.754394Z",
     "start_time": "2020-10-26T00:09:56.742388Z"
    }
   },
   "outputs": [],
   "source": [
    "color_dots1[(color_dots1['outcome_ab.x'] == 'Neg')&(color_dots1['outcome_ab.y'] == 'Pos')]"
   ]
  },
  {
   "cell_type": "markdown",
   "metadata": {},
   "source": [
    "## **Slide 24** update"
   ]
  },
  {
   "cell_type": "code",
   "execution_count": null,
   "metadata": {
    "ExecuteTime": {
     "end_time": "2020-12-07T15:09:42.378349Z",
     "start_time": "2020-12-07T15:09:42.312342Z"
    }
   },
   "outputs": [],
   "source": [
    "the_20354 = no_TNP4[['Specimen ID',\n",
    "       'batch', 'biobank_id', 'participant_id', 'Positive Control ID',\n",
    "       'DateBloodSampleCollected', 'Positive Control', 'Negative Control']].merge(batch1234_ab_ei_recalculated_m)\n",
    "\n",
    "the_20354= the_20354[['Specimen ID', 'batch', 'biobank_id', 'participant_id',\n",
    "       'Positive Control ID', 'DateBloodSampleCollected', 'Positive Control',\n",
    "       'Negative Control', #'Matrix Tube ID', 'Collection Date', 'DOS',\n",
    "       'Abbott Result', 'EUROIMMUN Result', 'outcome_ab', 'outcome_ab_raw',\n",
    "       'outcome_ei', 'outcome_ei_raw', 'od_ei', 'od_ab', 'agree', 'runtime_ab',\n",
    "       'runtime_ei']]\n",
    "#the_15256.columns"
   ]
  },
  {
   "cell_type": "code",
   "execution_count": null,
   "metadata": {
    "ExecuteTime": {
     "end_time": "2020-12-07T15:09:46.515458Z",
     "start_time": "2020-12-07T15:09:46.494457Z"
    }
   },
   "outputs": [],
   "source": [
    "the_ab_ei_concord_pos = the_20354#[['participant_id','outcome_ei','outcome_ab']]\n",
    "the_ab_ei_concord_pos= the_ab_ei_concord_pos[(the_ab_ei_concord_pos.outcome_ei == 1)&\n",
    "                                             (the_ab_ei_concord_pos.outcome_ab == 1)]\n",
    "the_ab_ei_concord_pos#[['outcome_ei','outcome_ab']].drop_duplicates()"
   ]
  },
  {
   "cell_type": "code",
   "execution_count": null,
   "metadata": {
    "ExecuteTime": {
     "end_time": "2020-12-07T15:09:58.026851Z",
     "start_time": "2020-12-07T15:09:58.010845Z"
    }
   },
   "outputs": [],
   "source": [
    "the_20354[['participant_id','outcome_ab','outcome_ei']].groupby(['outcome_ab','outcome_ei']).nunique()"
   ]
  },
  {
   "cell_type": "markdown",
   "metadata": {},
   "source": [
    "## **Update Slide 39**"
   ]
  },
  {
   "cell_type": "code",
   "execution_count": null,
   "metadata": {
    "ExecuteTime": {
     "end_time": "2020-10-26T00:10:00.329709Z",
     "start_time": "2020-10-26T00:10:00.191698Z"
    }
   },
   "outputs": [],
   "source": [
    "ortho_roche_results_merged22[ortho_roche_results_merged22['N Unique Biobank ID'].isin(['A632528203','A533845406',\n",
    "                                                          'A441304170','A844593630'])]"
   ]
  },
  {
   "cell_type": "code",
   "execution_count": null,
   "metadata": {
    "ExecuteTime": {
     "end_time": "2020-10-26T00:10:00.501726Z",
     "start_time": "2020-10-26T00:10:00.490725Z"
    }
   },
   "outputs": [],
   "source": [
    "## 5th concordant on ab and ei\n",
    "ortho_roche_results_merged22[(ortho_roche_results_merged22['Abbott Result'] == 'POSITIVE')&\n",
    "                             (ortho_roche_results_merged22['EUROIMMUN Result'] == 'POSITIVE')]"
   ]
  },
  {
   "cell_type": "code",
   "execution_count": null,
   "metadata": {
    "ExecuteTime": {
     "end_time": "2020-10-26T00:10:01.204794Z",
     "start_time": "2020-10-26T00:10:01.193788Z"
    }
   },
   "outputs": [],
   "source": [
    "ab_ei_recalculated[ab_ei_recalculated['Biobank ID'] == \"A232285819\"]"
   ]
  },
  {
   "cell_type": "code",
   "execution_count": null,
   "metadata": {
    "ExecuteTime": {
     "end_time": "2020-10-26T00:10:01.648834Z",
     "start_time": "2020-10-26T00:10:01.635832Z"
    }
   },
   "outputs": [],
   "source": [
    "master_list_original[master_list_original['biobank_id'] == 232285819]"
   ]
  },
  {
   "cell_type": "code",
   "execution_count": null,
   "metadata": {
    "ExecuteTime": {
     "end_time": "2020-10-26T00:10:02.036866Z",
     "start_time": "2020-10-26T00:10:02.032864Z"
    }
   },
   "outputs": [],
   "source": [
    "1940-2020"
   ]
  },
  {
   "cell_type": "markdown",
   "metadata": {},
   "source": [
    "# last updated 02.11.2021 **ORTHO and ROCHE** \n",
    "\n",
    "Various Analyses to fill out Slide deck"
   ]
  },
  {
   "cell_type": "markdown",
   "metadata": {},
   "source": [
    "## Inputs"
   ]
  },
  {
   "cell_type": "markdown",
   "metadata": {},
   "source": [
    "### Load batch 1 to 5 recalculated ei ab outcomes"
   ]
  },
  {
   "cell_type": "code",
   "execution_count": null,
   "metadata": {
    "ExecuteTime": {
     "end_time": "2021-10-25T17:47:54.668770Z",
     "start_time": "2021-10-25T17:47:54.647775Z"
    }
   },
   "outputs": [],
   "source": [
    "batch1to5_ab_ei_recalculated_m1.head()"
   ]
  },
  {
   "cell_type": "code",
   "execution_count": null,
   "metadata": {
    "ExecuteTime": {
     "end_time": "2021-02-12T16:33:27.928421Z",
     "start_time": "2021-02-12T16:33:27.925423Z"
    }
   },
   "outputs": [],
   "source": [
    "#get_specimens_counts(batch1to5_ab_ei_recalculated_m1, 'Biobank ID')"
   ]
  },
  {
   "cell_type": "markdown",
   "metadata": {},
   "source": [
    "### Load all ortho/roche files that I sent to Mayo"
   ]
  },
  {
   "cell_type": "code",
   "execution_count": null,
   "metadata": {
    "ExecuteTime": {
     "end_time": "2021-10-25T17:47:57.985854Z",
     "start_time": "2021-10-25T17:47:57.818840Z"
    }
   },
   "outputs": [],
   "source": [
    "## batch 1-3\n",
    "ortho_roche_list4 = pd.read_csv(data_directory+'DRC_Serology_list4_2020-09-02_11.17.13.csv')\n",
    "ortho_roche_list4.loc[~ortho_roche_list4['Positive Control ID'].isnull(), 'Biobank ID'] = ortho_roche_list4['Positive Control ID']\n",
    "ortho_roche_list4 = ortho_roche_list4.drop(['Positive Control ID', 'DateBloodSampleCollected'], axis = 1).drop_duplicates()\n",
    "\n",
    "ortho_roche_list5 = pd.read_csv(data_directory+'10 Negatives from 2019 from batch1and2 09.30.2020.csv')\n",
    "ortho_roche_list4['ortho_roche_round'] = '1-2; the 290'\n",
    "ortho_roche_list5['ortho_roche_round'] = '1-2; the 290'\n",
    "\n",
    "# ortho_roche_batch3_1 = pd.read_csv(data_directory+'batch4_ortho_roche_46IDs_2020-11-18.csv')\n",
    "# ortho_roche_batch3_1['ortho_roche_round'] = '3; the partial 46; the 54 is the full list'\n",
    "\n",
    "ortho_roche_batch3 = pd.read_excel(data_directory+'Samples for Roche and Ortho.xlsx')\n",
    "ortho_roche_batch3['ortho_roche_round'] = '3; the 54'\n",
    "\n",
    "ortho_roche_batch1to3 = pd.read_csv(data_directory+'Specimens_ortho_roche_10.23.2020.csv')\n",
    "#ortho_roche_batch1to3 = master_list_original[['Biobank ID', 'Positive Control','Negative Control']].merge(ortho_roche_batch1to3[['Biobank ID']].drop_duplicates(), 'right')\n",
    "ortho_roche_batch1to3['ortho_roche_round'] = '1-3; the 187+4 = 191 due to miscommunication'\n",
    "\n",
    "#batch 4\n",
    "ortho_roche_batch4 = pd.read_csv(data_directory+'batch4b_ortho_roche_71_Specimens_2020-12-01.csv')\n",
    "ortho_roche_batch4['ortho_roche_round'] = '4; the 71'\n",
    "\n",
    "#batch 4\n",
    "ortho_roche_batch5 = pd.read_csv(data_directory+'batch5_ortho_roche_53_specimens_1.20.2021.csv')\n",
    "ortho_roche_batch5 = ortho_roche_batch5.drop(['outcome_ab','outcome_ei'], axis =1)\n",
    "ortho_roche_batch5['ortho_roche_round'] = '5; the 53'\n",
    "\n",
    "## ALL TOGETHER\n",
    "\n",
    "ortho_roche_batch1to5_lists_sent = pd.concat([ortho_roche_list4, ortho_roche_list5, \n",
    "                                              ortho_roche_batch3[['Biobank ID','Negative Control','Positive Control', 'ortho_roche_round']],\n",
    "                                             ortho_roche_batch1to3,#ortho_roche_batch3_1, \n",
    "                                              #ortho_roche_batch_the19[['Biobank ID','Negative Control','Positive Control', 'ortho_roche_round']],\n",
    "                                              ortho_roche_batch4[['Biobank ID','Negative Control','Positive Control', 'ortho_roche_round']],\n",
    "                                            ortho_roche_batch5]).drop_duplicates()\n",
    "\n",
    "\n",
    "\n",
    "#some 'Biobank ID' strings had '.0' at the end, which  messed up my merges later\n",
    "ortho_roche_batch1to5_lists_sent['Biobank ID'] = [str(i.split('.0')[0]) for i in ortho_roche_batch1to5_lists_sent['Biobank ID']]\n",
    "\n",
    "ortho_roche_batch1to5_lists_sent"
   ]
  },
  {
   "cell_type": "code",
   "execution_count": null,
   "metadata": {
    "ExecuteTime": {
     "end_time": "2021-10-25T17:47:58.704898Z",
     "start_time": "2021-10-25T17:47:58.700895Z"
    }
   },
   "outputs": [],
   "source": [
    "637+53"
   ]
  },
  {
   "cell_type": "code",
   "execution_count": null,
   "metadata": {
    "ExecuteTime": {
     "end_time": "2021-10-25T17:47:59.169935Z",
     "start_time": "2021-10-25T17:47:59.165925Z"
    }
   },
   "outputs": [],
   "source": [
    "ortho_roche_batch1to5_lists_sent.Note.unique()"
   ]
  },
  {
   "cell_type": "code",
   "execution_count": null,
   "metadata": {
    "ExecuteTime": {
     "end_time": "2021-10-25T17:47:59.446943Z",
     "start_time": "2021-10-25T17:47:59.431942Z"
    }
   },
   "outputs": [],
   "source": [
    "remove_serums = ortho_roche_batch1to5_lists_sent[~(ortho_roche_batch1to5_lists_sent.Note.isnull()) &\n",
    "                                 (ortho_roche_batch1to5_lists_sent.Note.str.startswith('Insufficient'))]\n",
    "\n",
    "ortho_roche_batch1to5_lists_sent = ortho_roche_batch1to5_lists_sent[~ortho_roche_batch1to5_lists_sent['Biobank ID'].isin(list(remove_serums['Biobank ID']))].drop_duplicates()\n",
    "\n",
    "ortho_roche_batch1to5_lists_sent"
   ]
  },
  {
   "cell_type": "code",
   "execution_count": null,
   "metadata": {
    "ExecuteTime": {
     "end_time": "2021-10-25T17:47:59.745964Z",
     "start_time": "2021-10-25T17:47:59.740966Z"
    }
   },
   "outputs": [],
   "source": [
    "634+53"
   ]
  },
  {
   "cell_type": "code",
   "execution_count": null,
   "metadata": {
    "ExecuteTime": {
     "end_time": "2021-10-25T17:47:59.998979Z",
     "start_time": "2021-10-25T17:47:59.994992Z"
    }
   },
   "outputs": [],
   "source": [
    "ortho_roche_batch1to5_lists_sent['Biobank ID'].nunique()"
   ]
  },
  {
   "cell_type": "code",
   "execution_count": null,
   "metadata": {
    "ExecuteTime": {
     "end_time": "2021-10-25T17:48:00.767027Z",
     "start_time": "2021-10-25T17:48:00.759027Z"
    }
   },
   "outputs": [],
   "source": [
    "ortho_roche_batch1to5_lists_sent[(ortho_roche_batch1to5_lists_sent['Biobank ID'].isnull())]"
   ]
  },
  {
   "cell_type": "markdown",
   "metadata": {},
   "source": [
    "---------------------------------------"
   ]
  },
  {
   "cell_type": "code",
   "execution_count": null,
   "metadata": {
    "ExecuteTime": {
     "end_time": "2021-10-25T17:48:01.257066Z",
     "start_time": "2021-10-25T17:48:01.226057Z"
    }
   },
   "outputs": [],
   "source": [
    "ortho_roche_batch1to5_lists_sent1 = ortho_roche_batch1to5_lists_sent[['Biobank ID', 'ortho_roche_round']].merge(master_list_original[['Biobank ID', 'Negative Control', 'Positive Control']])\n",
    "ortho_roche_batch1to5_lists_sent2 = ortho_roche_batch1to5_lists_sent[['Biobank ID', 'ortho_roche_round']].merge(first_negative_controls_master[['Biobank ID', 'Negative Control', 'Positive Control']])\n",
    "ortho_roche_batch1to5_lists_sent3 = ortho_roche_batch1to5_lists_sent[~(ortho_roche_batch1to5_lists_sent['Biobank ID'].str.startswith('A'))]\n",
    "ortho_roche_batch1to5_lists_sent3['Positive Control'] == 'Yes'\n",
    "ortho_roche_batch1to5_lists_sent3['Negative Control'] == 'No'\n",
    "\n",
    "ortho_roche_batch1to5_lists_sent5 = pd.concat([ortho_roche_batch1to5_lists_sent1, ortho_roche_batch1to5_lists_sent2, \n",
    "                                              ortho_roche_batch1to5_lists_sent3])\n",
    "ortho_roche_batch1to5_lists_sent5"
   ]
  },
  {
   "cell_type": "code",
   "execution_count": null,
   "metadata": {
    "ExecuteTime": {
     "end_time": "2021-10-25T17:48:01.495074Z",
     "start_time": "2021-10-25T17:48:01.490075Z"
    }
   },
   "outputs": [],
   "source": [
    "ortho_roche_batch1to5_lists_sent5['Positive Control'].unique(), ortho_roche_batch1to5_lists_sent5['Negative Control'].unique()"
   ]
  },
  {
   "cell_type": "code",
   "execution_count": null,
   "metadata": {
    "ExecuteTime": {
     "end_time": "2021-10-25T17:48:02.323128Z",
     "start_time": "2021-10-25T17:48:02.320130Z"
    }
   },
   "outputs": [],
   "source": [
    "# ortho_roche_batch1to5_lists_sent5[(ortho_roche_batch1to5_lists_sent5['ortho_roche_round'] != '5; the 53')\n",
    "#                                  & (ortho_roche_batch1to5_lists_sent5['ortho_roche_round'] != '4; the 71')][['Biobank ID', 'Negative Control','Positive Control']].drop_duplicates().groupby(['Negative Control','Positive Control']).nunique()"
   ]
  },
  {
   "cell_type": "markdown",
   "metadata": {},
   "source": [
    "**MERGE WITH RETURNED RESULTS TO MAKE SURE EVERYTHING MATCHES CORRECTLY. SEE EMAILS ON 1.6.2021 ABOUT WEIRD 4 POSITIVE CONTROLS**\n"
   ]
  },
  {
   "cell_type": "markdown",
   "metadata": {},
   "source": [
    "### Ortho/Roche results sent by Mayo"
   ]
  },
  {
   "cell_type": "code",
   "execution_count": null,
   "metadata": {
    "ExecuteTime": {
     "end_time": "2021-10-25T17:48:04.159166Z",
     "start_time": "2021-10-25T17:48:04.024157Z"
    }
   },
   "outputs": [],
   "source": [
    "selected_cols = ['Biobank ID', #'Patient Name', \n",
    "                 'Specimen ID', \n",
    "                 'COVTA COVTI',\n",
    "       'COVTA COVTS', 'VCOV2 VSARS', 'VCOV2 SCO7', \n",
    "                # 'COVTI & VSARS match'\n",
    "                ]\n",
    "\n",
    "ortho_roche_results0 = pd.read_csv(bucket_returned_results_dir+'Roche and Ortho results_09212020_SNT_copy.csv')[selected_cols]\n",
    "ortho_roche_results2 = pd.read_csv(bucket_returned_results_dir+'Roch_Ortho_Batch2_Results_copy_20201012.csv')[selected_cols]\n",
    "ortho_roche_results2_0 = pd.read_csv(bucket_returned_results_dir+'antibody_manifests_Roche and Ortho results_09212020_SNT_copy.csv')[selected_cols]\n",
    "\n",
    "#ortho_roche_results2['batch_test'] = 2\n",
    "ortho_roche_results3 = pd.read_csv(bucket_returned_results_dir+'Roch_Ortho_Batch3_Results_copy_20201012.csv')[selected_cols]\n",
    "ortho_roche_results4 = pd.read_csv(bucket_returned_results_dir+'antibody_manifests_Roch_Ortho_Batch4_Results - Copy.csv')[selected_cols]\n",
    "#ortho_roche_results3['batch_test'] = 3\n",
    "ortho_roche_results5 = pd.read_csv(bucket_returned_results_dir+'antibody_manifests_Roch_Ortho_Batch5_Results - Copy.csv')[selected_cols]\n",
    "\n",
    "\n",
    "ortho_roche_results1 = pd.concat([ortho_roche_results2, ortho_roche_results3\n",
    "                                  ,ortho_roche_results4, ortho_roche_results5\n",
    "                                  #,ortho_roche_results2_0, ortho_roche_results0\n",
    "                                 ]).drop_duplicates()[selected_cols]\n",
    "\n",
    "ortho_roche_results1"
   ]
  },
  {
   "cell_type": "code",
   "execution_count": null,
   "metadata": {},
   "outputs": [],
   "source": []
  },
  {
   "cell_type": "code",
   "execution_count": null,
   "metadata": {
    "ExecuteTime": {
     "end_time": "2021-10-25T19:23:50.763547Z",
     "start_time": "2021-10-25T19:23:50.753546Z"
    }
   },
   "outputs": [],
   "source": [
    "ortho_roche_results1[ortho_roche_results1['Biobank ID'] =='A844593630']"
   ]
  },
  {
   "cell_type": "code",
   "execution_count": null,
   "metadata": {
    "ExecuteTime": {
     "end_time": "2021-10-25T17:48:05.459245Z",
     "start_time": "2021-10-25T17:48:05.456245Z"
    }
   },
   "outputs": [],
   "source": [
    "ortho_roche_results1 = ortho_roche_results1.rename(columns = {'COVTA COVTI':'Roche Result',\n",
    "                                                                         'COVTA COVTS':'Roche Score',\n",
    "                                                                         'VCOV2 VSARS':'Ortho Result', \n",
    "                                                                          'VCOV2 SCO7':'Ortho Score',\n",
    "                                                                         #'COVTI & VSARS match':'Roche and Ortho match'\n",
    "                                                             })"
   ]
  },
  {
   "cell_type": "markdown",
   "metadata": {
    "ExecuteTime": {
     "end_time": "2021-01-15T19:41:11.497086Z",
     "start_time": "2021-01-15T19:41:11.493085Z"
    }
   },
   "source": [
    "--------------------------------------------------------------------"
   ]
  },
  {
   "cell_type": "markdown",
   "metadata": {},
   "source": [
    "**LOOK AT EMAILS ON 1.7.2020?**\n",
    "\n",
    "Sam SAYS\n",
    "\n",
    "20212007032 (External Participant Id= ST-01562706) = MC Positive Control, 20345004607\n",
    "\n",
    "20212006663 (External Participant Id = ST-01562734) = MC Positive Control, 20345004595\n",
    "\n",
    "\n",
    "0420P3B00044 = X, ST01553251\n",
    "\n",
    "0520P3B00050 = X, ST01554045"
   ]
  },
  {
   "cell_type": "code",
   "execution_count": null,
   "metadata": {
    "ExecuteTime": {
     "end_time": "2021-10-25T17:48:10.924369Z",
     "start_time": "2021-10-25T17:48:10.917365Z"
    }
   },
   "outputs": [],
   "source": [
    "# replace Biobank IDs by the appropriate numbers\n",
    "\n",
    "ortho_roche_results1.loc[ortho_roche_results1['Specimen ID'] == ' ST01553251', 'Biobank ID'] = '0420P3B00044'\n",
    "ortho_roche_results1.loc[ortho_roche_results1['Specimen ID'] == ' ST01554045', 'Biobank ID'] = '0520P3B00050'\n",
    "ortho_roche_results1.loc[ortho_roche_results1['Specimen ID'] == '20345004607', 'Biobank ID'] = 'ST-01562706'#'20212007032'\n",
    "ortho_roche_results1.loc[ortho_roche_results1['Specimen ID'] == '20345004595', 'Biobank ID'] = 'ST-01562734'#'20212006663'"
   ]
  },
  {
   "cell_type": "code",
   "execution_count": null,
   "metadata": {
    "ExecuteTime": {
     "end_time": "2021-10-25T17:48:11.126380Z",
     "start_time": "2021-10-25T17:48:11.122379Z"
    }
   },
   "outputs": [],
   "source": [
    "ortho_roche_results1 = ortho_roche_results1.rename(columns = {'Specimen ID':'or_Specimen ID'})"
   ]
  },
  {
   "cell_type": "markdown",
   "metadata": {},
   "source": [
    "--------------------------------------"
   ]
  },
  {
   "cell_type": "code",
   "execution_count": null,
   "metadata": {
    "ExecuteTime": {
     "end_time": "2021-10-25T17:48:11.486404Z",
     "start_time": "2021-10-25T17:48:11.479402Z"
    }
   },
   "outputs": [],
   "source": [
    "# CHECKING if there are any specimens in the list that i sent but not in mayo results\n",
    "in_mayo_results_not_in_sent = pd.DataFrame(set(ortho_roche_results1['Biobank ID']) - set(ortho_roche_batch1to5_lists_sent5['Biobank ID']),\n",
    "                                           columns = ['Biobank ID'])\n",
    "\n",
    "in_mayo_results_not_in_sent"
   ]
  },
  {
   "cell_type": "code",
   "execution_count": null,
   "metadata": {
    "ExecuteTime": {
     "end_time": "2021-10-25T17:48:11.788423Z",
     "start_time": "2021-10-25T17:48:11.783424Z"
    }
   },
   "outputs": [],
   "source": [
    "ortho_roche_results1['Biobank ID'].nunique(),ortho_roche_results1['or_Specimen ID'].nunique()"
   ]
  },
  {
   "cell_type": "code",
   "execution_count": null,
   "metadata": {
    "ExecuteTime": {
     "end_time": "2021-10-25T17:48:12.045438Z",
     "start_time": "2021-10-25T17:48:12.040438Z"
    }
   },
   "outputs": [],
   "source": [
    "ortho_roche_batch1to5_lists_sent5['Positive Control'].unique()"
   ]
  },
  {
   "cell_type": "code",
   "execution_count": null,
   "metadata": {
    "ExecuteTime": {
     "end_time": "2021-10-25T17:48:12.311456Z",
     "start_time": "2021-10-25T17:48:12.296453Z"
    }
   },
   "outputs": [],
   "source": [
    "or_specimens_df = ortho_roche_results1.merge(ortho_roche_batch1to5_lists_sent5.drop_duplicates()).drop_duplicates()\n",
    "or_specimens_df = or_specimens_df[['Biobank ID', 'or_Specimen ID','Roche Result', 'Roche Score', 'Ortho Result',\n",
    "       'Ortho Score', 'Negative Control', 'Positive Control']].drop_duplicates()"
   ]
  },
  {
   "cell_type": "code",
   "execution_count": null,
   "metadata": {
    "ExecuteTime": {
     "end_time": "2021-10-25T17:48:12.507468Z",
     "start_time": "2021-10-25T17:48:12.501467Z"
    }
   },
   "outputs": [],
   "source": [
    "or_specimens_df[or_specimens_df['Positive Control'] == 'Yes']['Biobank ID'].nunique(), or_specimens_df[or_specimens_df['Positive Control'] == 'Yes']['or_Specimen ID'].nunique()"
   ]
  },
  {
   "cell_type": "code",
   "execution_count": null,
   "metadata": {
    "ExecuteTime": {
     "end_time": "2021-10-25T17:48:12.759485Z",
     "start_time": "2021-10-25T17:48:12.753484Z"
    }
   },
   "outputs": [],
   "source": [
    "or_specimens_df[or_specimens_df['Negative Control'] == 'Yes']['or_Specimen ID'].unique()"
   ]
  },
  {
   "cell_type": "code",
   "execution_count": null,
   "metadata": {
    "ExecuteTime": {
     "end_time": "2021-10-25T17:48:13.011500Z",
     "start_time": "2021-10-25T17:48:13.004504Z"
    }
   },
   "outputs": [],
   "source": [
    "or_specimens_df[or_specimens_df['Negative Control'] == 'Yes']['Biobank ID'].nunique(), or_specimens_df[or_specimens_df['Negative Control'] == 'Yes']['or_Specimen ID'].nunique()"
   ]
  },
  {
   "cell_type": "markdown",
   "metadata": {
    "ExecuteTime": {
     "end_time": "2021-01-11T20:51:05.758525Z",
     "start_time": "2021-01-11T20:51:05.744527Z"
    }
   },
   "source": [
    "------------------------------------------------"
   ]
  },
  {
   "cell_type": "code",
   "execution_count": null,
   "metadata": {
    "ExecuteTime": {
     "end_time": "2021-10-25T17:48:13.465529Z",
     "start_time": "2021-10-25T17:48:13.436527Z"
    }
   },
   "outputs": [],
   "source": [
    "ortho_roche_results = ortho_roche_results1#.drop(['or_Specimen ID'],axis =1).drop_duplicates()\n",
    "\n",
    "ortho_roche_results.loc[ortho_roche_results['Roche Score'] == 'QNS', 'Roche Score'] = None\n",
    "ortho_roche_results.loc[ortho_roche_results['Ortho Score'] == 'QNS', 'Ortho Score'] = None                        \n",
    "ortho_roche_results['Roche Score'] = ortho_roche_results['Roche Score'].astype(float)\n",
    "ortho_roche_results['Ortho Score'] = ortho_roche_results['Ortho Score'].astype(float)\n",
    "\n",
    "ortho_roche_results = ortho_roche_results.merge(ortho_roche_batch1to5_lists_sent5.drop_duplicates()).drop_duplicates()\n",
    "# ortho_roche_results = ortho_roche_results.merge(master_list_original[['Biobank ID','Negative Control','Positive Control']].drop_duplicates(), 'left')\n",
    "# ortho_roche_results = ortho_roche_results.merge(first_negative_controls_master[['Biobank ID','Negative Control','Positive Control']].drop_duplicates(), 'right')\n",
    "\n",
    "ortho_roche_results"
   ]
  },
  {
   "cell_type": "code",
   "execution_count": null,
   "metadata": {
    "ExecuteTime": {
     "end_time": "2021-10-25T17:48:14.382588Z",
     "start_time": "2021-10-25T17:48:14.379588Z"
    }
   },
   "outputs": [],
   "source": [
    "# ortho_roche_batch1to3_lists_sent = ortho_roche_results[#(ortho_roche_results['ortho_roche_round'] != '4; the 71') &\n",
    "#                                (ortho_roche_results['ortho_roche_round'] != '5; the 53')\n",
    "#                                                                 ].merge(ortho_roche_results)\n",
    "\n",
    "# display(ortho_roche_batch1to3_lists_sent['Biobank ID'].count())#+71+53\n",
    "# ortho_roche_batch1to3_lists_sent[['Biobank ID', 'Negative Control','Positive Control']].drop_duplicates().groupby(['Negative Control','Positive Control']).count()#+71+53"
   ]
  },
  {
   "cell_type": "code",
   "execution_count": null,
   "metadata": {
    "ExecuteTime": {
     "end_time": "2021-10-25T17:48:14.606601Z",
     "start_time": "2021-10-25T17:48:14.594602Z"
    }
   },
   "outputs": [],
   "source": [
    "ortho_roche_batch1to5_neg = ortho_roche_batch1to3_lists_sent[ortho_roche_batch1to3_lists_sent['Negative Control'] == 'Yes'].drop_duplicates()\n",
    "ortho_roche_batch1to5_lists_sent_neg"
   ]
  },
  {
   "cell_type": "code",
   "execution_count": null,
   "metadata": {
    "ExecuteTime": {
     "end_time": "2021-10-25T17:48:14.862622Z",
     "start_time": "2021-10-25T17:48:14.851622Z"
    }
   },
   "outputs": [],
   "source": [
    "ortho_roche_batch1to3_lists_sent_neg[ortho_roche_batch1to3_lists_sent_neg['ortho_roche_round'] != '5; the 53']['or_Specimen ID'].count()"
   ]
  },
  {
   "cell_type": "code",
   "execution_count": null,
   "metadata": {
    "ExecuteTime": {
     "end_time": "2021-10-25T17:48:15.110634Z",
     "start_time": "2021-10-25T17:48:15.107635Z"
    }
   },
   "outputs": [],
   "source": [
    "376-369"
   ]
  },
  {
   "cell_type": "code",
   "execution_count": null,
   "metadata": {
    "ExecuteTime": {
     "end_time": "2021-10-25T17:48:15.371652Z",
     "start_time": "2021-10-25T17:48:15.360651Z"
    }
   },
   "outputs": [],
   "source": [
    "ortho_roche_batch1to3_lists_sent_neg['or_Specimen ID'] = ortho_roche_batch1to3_lists_sent_neg['or_Specimen ID'].replace(' *', 0)\n",
    "ortho_roche_batch1to3_lists_sent_neg['or_Specimen ID'] = ortho_roche_batch1to3_lists_sent_neg['or_Specimen ID'].astype('int64')"
   ]
  },
  {
   "cell_type": "code",
   "execution_count": null,
   "metadata": {
    "ExecuteTime": {
     "end_time": "2021-03-19T19:37:18.383049Z",
     "start_time": "2021-03-19T19:37:18.374047Z"
    }
   },
   "outputs": [],
   "source": [
    "ortho_roche_batch1to3_lists_sent_neg[(ortho_roche_batch1to3_lists_sent_neg['or_Specimen ID'] != 0)\n",
    "                                    & (ortho_roche_batch1to3_lists_sent_neg['Biobank ID'] == 'A646320624')][['Biobank ID','or_Specimen ID']].drop_duplicates().sort_values('or_Specimen ID')"
   ]
  },
  {
   "cell_type": "code",
   "execution_count": null,
   "metadata": {
    "ExecuteTime": {
     "end_time": "2021-03-19T19:37:18.664066Z",
     "start_time": "2021-03-19T19:37:18.651061Z"
    }
   },
   "outputs": [],
   "source": [
    "ortho_roche_results[(ortho_roche_results['Biobank ID'] == 'A646320624')]#[['Biobank ID','or_Specimen ID']]"
   ]
  },
  {
   "cell_type": "code",
   "execution_count": null,
   "metadata": {
    "ExecuteTime": {
     "end_time": "2021-03-19T19:37:18.993080Z",
     "start_time": "2021-03-19T19:37:18.987078Z"
    }
   },
   "outputs": [],
   "source": [
    "184+6"
   ]
  },
  {
   "cell_type": "code",
   "execution_count": null,
   "metadata": {
    "ExecuteTime": {
     "end_time": "2021-03-19T19:37:19.900132Z",
     "start_time": "2021-03-19T19:37:19.886132Z"
    }
   },
   "outputs": [],
   "source": [
    "ortho_roche_batch1to3_lists_sent_neg[ortho_roche_batch1to3_lists_sent_neg['or_Specimen ID'] == 0]#[['Biobank ID','or_Specimen ID']]['or_Specimen ID'].nunique()"
   ]
  },
  {
   "cell_type": "code",
   "execution_count": null,
   "metadata": {
    "ExecuteTime": {
     "end_time": "2021-03-26T19:47:12.042189Z",
     "start_time": "2021-03-26T19:47:12.028190Z"
    }
   },
   "outputs": [],
   "source": [
    "ortho_roche_results.to_csv(data_directory+'ortho_roche_results_2.12.2021.csv', index = False)"
   ]
  },
  {
   "cell_type": "markdown",
   "metadata": {},
   "source": [
    "## ** ***For Ortho Roche, you can skip 6.1 and start here**\n",
    "run 5.1.2 for ab_ei recalculated"
   ]
  },
  {
   "cell_type": "code",
   "execution_count": null,
   "metadata": {
    "ExecuteTime": {
     "end_time": "2021-10-27T16:50:37.343484Z",
     "start_time": "2021-10-27T16:50:37.336480Z"
    }
   },
   "outputs": [],
   "source": [
    "import pandas as pd\n",
    "ortho_roche_results = pd.read_csv(data_directory+'ortho_roche_results_2.12.2021.csv')"
   ]
  },
  {
   "cell_type": "code",
   "execution_count": null,
   "metadata": {},
   "outputs": [],
   "source": []
  },
  {
   "cell_type": "code",
   "execution_count": null,
   "metadata": {
    "ExecuteTime": {
     "end_time": "2021-10-27T16:50:39.224079Z",
     "start_time": "2021-10-27T16:50:39.219079Z"
    }
   },
   "outputs": [],
   "source": [
    "ortho_roche_results.ortho_roche_round.unique()"
   ]
  },
  {
   "cell_type": "code",
   "execution_count": null,
   "metadata": {
    "ExecuteTime": {
     "end_time": "2021-10-27T16:50:39.513113Z",
     "start_time": "2021-10-27T16:50:39.510112Z"
    }
   },
   "outputs": [],
   "source": [
    "## fixing Spec ID in ortho/roche"
   ]
  },
  {
   "cell_type": "code",
   "execution_count": null,
   "metadata": {
    "ExecuteTime": {
     "end_time": "2021-10-27T16:50:40.016173Z",
     "start_time": "2021-10-27T16:50:40.010170Z"
    }
   },
   "outputs": [],
   "source": [
    "# replace Biobank IDs by the appropriate numbers pe Sam's email\n",
    "\n",
    "ortho_roche_results.loc[ortho_roche_results['or_Specimen ID'] == ' ST01553251', 'Biobank ID'] = '0420P3B00044'\n",
    "ortho_roche_results.loc[ortho_roche_results['or_Specimen ID'] == ' ST01554045', 'Biobank ID'] = '0520P3B00050'\n",
    "ortho_roche_results.loc[ortho_roche_results['or_Specimen ID'] == '20345004607', 'Biobank ID'] = 'ST-01562706'#'20212007032'\n",
    "ortho_roche_results.loc[ortho_roche_results['or_Specimen ID'] == '20345004595', 'Biobank ID'] = 'ST-01562734'#'20212006663'"
   ]
  },
  {
   "cell_type": "code",
   "execution_count": null,
   "metadata": {
    "ExecuteTime": {
     "end_time": "2021-10-27T16:50:40.261200Z",
     "start_time": "2021-10-27T16:50:40.255199Z"
    }
   },
   "outputs": [],
   "source": [
    "ortho_roche_results[(ortho_roche_results['Negative Control'] == 'Yes')&\n",
    "                   (ortho_roche_results['ortho_roche_round'] != '5; the 53')]['or_Specimen ID'].count()\n"
   ]
  },
  {
   "cell_type": "code",
   "execution_count": null,
   "metadata": {
    "ExecuteTime": {
     "end_time": "2021-10-27T16:50:40.559234Z",
     "start_time": "2021-10-27T16:50:40.549234Z"
    }
   },
   "outputs": [],
   "source": [
    "ortho_roche_results_spec1 = ortho_roche_results[ortho_roche_results['or_Specimen ID'] != ' *'].drop_duplicates()\n",
    "ortho_roche_results_spec1['or_Specimen ID'] = [i.strip('.0') for i in ortho_roche_results_spec1['or_Specimen ID']]\n",
    "ortho_roche_results_spec1 = ortho_roche_results_spec1.drop_duplicates()\n",
    "\n",
    "#############\n",
    "ortho_roche_results_spec1_neg = ortho_roche_results_spec1[ortho_roche_results_spec1['Negative Control'] == 'Yes']\n",
    "ortho_roche_results_spec1_pos = ortho_roche_results_spec1[ortho_roche_results_spec1['Positive Control'] == 'Yes']"
   ]
  },
  {
   "cell_type": "code",
   "execution_count": null,
   "metadata": {
    "ExecuteTime": {
     "end_time": "2021-10-27T16:50:41.052303Z",
     "start_time": "2021-10-27T16:50:41.047289Z"
    }
   },
   "outputs": [],
   "source": [
    "ortho_roche_results_spec1_neg['or_Specimen ID'].count(),ortho_roche_results_spec1_neg['or_Specimen ID'].nunique()"
   ]
  },
  {
   "cell_type": "code",
   "execution_count": null,
   "metadata": {
    "ExecuteTime": {
     "end_time": "2021-10-27T16:50:41.352327Z",
     "start_time": "2021-10-27T16:50:41.348325Z"
    }
   },
   "outputs": [],
   "source": [
    "ortho_roche_results_spec1_neg['Biobank ID'].nunique()"
   ]
  },
  {
   "cell_type": "code",
   "execution_count": null,
   "metadata": {
    "ExecuteTime": {
     "end_time": "2021-10-27T16:50:41.877389Z",
     "start_time": "2021-10-27T16:50:41.873384Z"
    }
   },
   "outputs": [],
   "source": [
    "ortho_roche_results_spec1_pos['or_Specimen ID'].count(),ortho_roche_results_spec1_pos['or_Specimen ID'].nunique()"
   ]
  },
  {
   "cell_type": "code",
   "execution_count": null,
   "metadata": {
    "ExecuteTime": {
     "end_time": "2021-10-27T16:50:42.184426Z",
     "start_time": "2021-10-27T16:50:42.171418Z"
    }
   },
   "outputs": [],
   "source": [
    "ortho_roche_results_spec1_pos#['Biobank ID'].count()"
   ]
  },
  {
   "cell_type": "code",
   "execution_count": null,
   "metadata": {
    "ExecuteTime": {
     "end_time": "2021-10-27T16:50:42.463453Z",
     "start_time": "2021-10-27T16:50:42.458453Z"
    }
   },
   "outputs": [],
   "source": [
    "134+122"
   ]
  },
  {
   "cell_type": "code",
   "execution_count": null,
   "metadata": {
    "ExecuteTime": {
     "end_time": "2021-10-27T16:50:43.006514Z",
     "start_time": "2021-10-27T16:50:42.999515Z"
    }
   },
   "outputs": [],
   "source": [
    "ortho_roche_results_spec2 = ortho_roche_results[ortho_roche_results['or_Specimen ID'] == ' *']\n",
    "\n",
    "\n",
    "#####\n",
    "ortho_roche_results_spec2_neg = ortho_roche_results_spec2[ortho_roche_results_spec2['Negative Control'] == 'Yes']\n",
    "ortho_roche_results_spec2_pos = ortho_roche_results_spec2[ortho_roche_results_spec2['Positive Control'] == 'Yes']"
   ]
  },
  {
   "cell_type": "code",
   "execution_count": null,
   "metadata": {
    "ExecuteTime": {
     "end_time": "2021-10-27T16:50:43.243544Z",
     "start_time": "2021-10-27T16:50:43.239542Z"
    }
   },
   "outputs": [],
   "source": [
    "set(ortho_roche_results_spec1['Biobank ID']) in set(ortho_roche_results_spec2['Biobank ID'])"
   ]
  },
  {
   "cell_type": "code",
   "execution_count": null,
   "metadata": {
    "ExecuteTime": {
     "end_time": "2021-10-27T16:50:43.523575Z",
     "start_time": "2021-10-27T16:50:43.518573Z"
    }
   },
   "outputs": [],
   "source": [
    "set(ortho_roche_results_spec2['Biobank ID']) in set(ortho_roche_results_spec1['Biobank ID'])"
   ]
  },
  {
   "cell_type": "code",
   "execution_count": null,
   "metadata": {
    "ExecuteTime": {
     "end_time": "2021-10-27T16:50:43.815609Z",
     "start_time": "2021-10-27T16:50:43.803607Z"
    }
   },
   "outputs": [],
   "source": [
    "ortho_roche_results_spec1_neg[['Biobank ID','or_Specimen ID']].groupby('Biobank ID').nunique().sort_values('or_Specimen ID')"
   ]
  },
  {
   "cell_type": "code",
   "execution_count": null,
   "metadata": {
    "ExecuteTime": {
     "end_time": "2021-10-27T16:50:44.098645Z",
     "start_time": "2021-10-27T16:50:44.088639Z"
    }
   },
   "outputs": [],
   "source": [
    "ortho_roche_results_spec2_neg[['Biobank ID','or_Specimen ID']].groupby('Biobank ID').nunique().sort_values('or_Specimen ID')"
   ]
  },
  {
   "cell_type": "code",
   "execution_count": null,
   "metadata": {
    "ExecuteTime": {
     "end_time": "2021-10-27T16:50:44.376672Z",
     "start_time": "2021-10-27T16:50:44.371673Z"
    }
   },
   "outputs": [],
   "source": [
    "ortho_roche_results_spec2_neg['or_Specimen ID'].count(),ortho_roche_results_spec2_neg['Biobank ID'].nunique()"
   ]
  },
  {
   "cell_type": "code",
   "execution_count": null,
   "metadata": {
    "ExecuteTime": {
     "end_time": "2021-10-27T16:50:44.661707Z",
     "start_time": "2021-10-27T16:50:44.657706Z"
    }
   },
   "outputs": [],
   "source": [
    "ortho_roche_results_spec2_neg['Biobank ID'].count()"
   ]
  },
  {
   "cell_type": "code",
   "execution_count": null,
   "metadata": {
    "ExecuteTime": {
     "end_time": "2021-10-27T16:50:44.941740Z",
     "start_time": "2021-10-27T16:50:44.937737Z"
    }
   },
   "outputs": [],
   "source": [
    "ortho_roche_results_spec2_pos['or_Specimen ID'].count(),ortho_roche_results_spec2_pos['Biobank ID'].nunique()"
   ]
  },
  {
   "cell_type": "code",
   "execution_count": null,
   "metadata": {
    "ExecuteTime": {
     "end_time": "2021-10-27T16:50:45.232774Z",
     "start_time": "2021-10-27T16:50:45.221770Z"
    }
   },
   "outputs": [],
   "source": [
    "ortho_roche_results_spec2_pos#['Biobank ID']#.count()"
   ]
  },
  {
   "cell_type": "code",
   "execution_count": null,
   "metadata": {
    "ExecuteTime": {
     "end_time": "2021-10-27T16:50:45.505805Z",
     "start_time": "2021-10-27T16:50:45.502804Z"
    }
   },
   "outputs": [],
   "source": [
    "### total specimens in ortho/roche\n",
    "\n",
    "### positive controls\n",
    "8+2"
   ]
  },
  {
   "cell_type": "code",
   "execution_count": null,
   "metadata": {
    "ExecuteTime": {
     "end_time": "2021-10-27T16:50:47.394021Z",
     "start_time": "2021-10-27T16:50:47.390017Z"
    }
   },
   "outputs": [],
   "source": [
    "### total specimens in ortho/roche\n",
    "\n",
    "### negeative controls\n",
    "184+11"
   ]
  },
  {
   "cell_type": "code",
   "execution_count": null,
   "metadata": {
    "ExecuteTime": {
     "end_time": "2021-10-27T16:50:47.707058Z",
     "start_time": "2021-10-27T16:50:47.704055Z"
    }
   },
   "outputs": [],
   "source": [
    "174+11"
   ]
  },
  {
   "cell_type": "code",
   "execution_count": null,
   "metadata": {
    "ExecuteTime": {
     "end_time": "2021-10-27T16:50:47.997091Z",
     "start_time": "2021-10-27T16:50:47.983087Z"
    }
   },
   "outputs": [],
   "source": [
    "ortho_roche_results[(ortho_roche_results['Ortho Result'] == 'QNS') | \n",
    "                    (ortho_roche_results['Roche Result']== 'QNS')\n",
    "                   ].drop_duplicates()"
   ]
  },
  {
   "cell_type": "code",
   "execution_count": null,
   "metadata": {
    "ExecuteTime": {
     "end_time": "2021-10-27T16:50:48.281121Z",
     "start_time": "2021-10-27T16:50:48.268120Z"
    }
   },
   "outputs": [],
   "source": [
    "ortho_roche_results[(ortho_roche_results['Ortho Result'] == 'QNS') | \n",
    "                    (ortho_roche_results['Roche Result']== 'QNS')\n",
    "                   ].drop_duplicates()"
   ]
  },
  {
   "cell_type": "code",
   "execution_count": null,
   "metadata": {
    "ExecuteTime": {
     "end_time": "2021-10-27T16:50:50.535381Z",
     "start_time": "2021-10-27T16:50:50.521378Z"
    }
   },
   "outputs": [],
   "source": [
    "ortho_roche_results[(ortho_roche_results['Ortho Result'].isnull()) | \n",
    "                    (ortho_roche_results['Roche Result'].isnull())\n",
    "                   ].drop_duplicates()"
   ]
  },
  {
   "cell_type": "code",
   "execution_count": null,
   "metadata": {
    "ExecuteTime": {
     "end_time": "2021-10-27T16:50:51.671510Z",
     "start_time": "2021-10-27T16:50:51.655509Z"
    }
   },
   "outputs": [],
   "source": [
    "ortho_roche_results[ortho_roche_results['Biobank ID'].isin(['A438277211','A309360313'])].drop_duplicates()"
   ]
  },
  {
   "cell_type": "code",
   "execution_count": null,
   "metadata": {},
   "outputs": [],
   "source": []
  },
  {
   "cell_type": "code",
   "execution_count": null,
   "metadata": {
    "ExecuteTime": {
     "end_time": "2021-10-27T16:50:52.186571Z",
     "start_time": "2021-10-27T16:50:52.179571Z"
    }
   },
   "outputs": [],
   "source": [
    "ortho_roche_results.loc[(ortho_roche_results['Biobank ID']== 'A438277211')&\n",
    "                    (ortho_roche_results['or_Specimen ID']== '20269001157'), \n",
    "                    ['Roche Result', 'Roche Score']] = ortho_roche_results.loc[(ortho_roche_results['Biobank ID']== 'A438277211')&\n",
    "                    (ortho_roche_results['or_Specimen ID']== '20269001157.0'), \n",
    "                    ['Roche Result', 'Roche Score']].values\n"
   ]
  },
  {
   "cell_type": "code",
   "execution_count": null,
   "metadata": {
    "ExecuteTime": {
     "end_time": "2021-10-27T16:50:52.429600Z",
     "start_time": "2021-10-27T16:50:52.409597Z"
    }
   },
   "outputs": [],
   "source": [
    "ortho_roche_results.drop_duplicates()"
   ]
  },
  {
   "cell_type": "markdown",
   "metadata": {},
   "source": [
    "## Results Analysis and Counts"
   ]
  },
  {
   "cell_type": "markdown",
   "metadata": {},
   "source": [
    "### Batch 5 Only"
   ]
  },
  {
   "cell_type": "markdown",
   "metadata": {},
   "source": [
    "`Batch 5 Ortho Roche List:`\n",
    "\n",
    "Total Specimens = 53\n",
    "\n",
    "2020 Specimens from batch 5 (non-controls)\n",
    "-\tEI-/Ab- = 0\n",
    "-\tEI-/Ab+ = 27\n",
    "-\tEI+/Ab- = 17\n",
    "-\tEI+/Ab+ =  2\n",
    "\n",
    "2019 Negative controls from batch 5 \n",
    "-\tEI-/Ab- = 5\n",
    "\n",
    "Positive controls from batch 5 \n",
    "-\tEI+/Ab+ = 2\n",
    "\n"
   ]
  },
  {
   "cell_type": "code",
   "execution_count": null,
   "metadata": {
    "ExecuteTime": {
     "end_time": "2021-06-17T21:54:25.810079Z",
     "start_time": "2021-06-17T21:54:25.806078Z"
    }
   },
   "outputs": [],
   "source": [
    "ortho_roche_results.columns"
   ]
  },
  {
   "cell_type": "code",
   "execution_count": null,
   "metadata": {
    "ExecuteTime": {
     "end_time": "2021-06-17T21:54:26.227104Z",
     "start_time": "2021-06-17T21:54:26.222100Z"
    }
   },
   "outputs": [],
   "source": [
    "ortho_roche_results.ortho_roche_round.unique()"
   ]
  },
  {
   "cell_type": "markdown",
   "metadata": {},
   "source": [
    "#### all 53 specimens"
   ]
  },
  {
   "cell_type": "code",
   "execution_count": null,
   "metadata": {
    "ExecuteTime": {
     "end_time": "2021-06-17T21:54:26.891135Z",
     "start_time": "2021-06-17T21:54:26.836131Z"
    }
   },
   "outputs": [],
   "source": [
    "batch1to4_or_ro = ortho_roche_results.merge(batch1to5_ab_ei_recalculated_m1, 'left').drop_duplicates()\n",
    "batch1to4_or_ro = batch1to4_or_ro[batch1to4_or_ro.ortho_roche_round != '5; the 53'][['Biobank ID', 'or_Specimen ID','Roche Result', 'Roche Score', 'Ortho Result',\n",
    "       'Ortho Score', 'Negative Control', 'Positive Control', 'batch']].drop_duplicates()\n",
    "\n",
    "batch1to4_or_ro_pos = batch1to4_or_ro[batch1to4_or_ro['Positive Control'] == 'Yes']\n",
    "batch1to4_or_ro_pos[['Biobank ID','or_Specimen ID']].drop_duplicates()#.groupby('Biobank ID').nunique()"
   ]
  },
  {
   "cell_type": "code",
   "execution_count": null,
   "metadata": {
    "ExecuteTime": {
     "end_time": "2021-06-17T21:54:27.123147Z",
     "start_time": "2021-06-17T21:54:27.078143Z"
    }
   },
   "outputs": [],
   "source": [
    "batch5_or_ro = ortho_roche_results[ortho_roche_results.ortho_roche_round == '5; the 53'][['Biobank ID', 'Roche Result', 'Roche Score', 'Ortho Result',\n",
    "       'Ortho Score', 'Negative Control', 'Positive Control', 'ortho_roche_round']].merge(batch1to5_ab_ei_recalculated_m1).drop_duplicates()\n",
    "\n",
    "\n",
    "batch5_or_ro[['Biobank ID', 'Roche Result', \n",
    "                 'Ortho Result','Negative Control', 'Positive Control','outcome_ab', 'outcome_ei']].groupby(['Negative Control', 'Positive Control',\n",
    "                'Roche Result','Ortho Result','outcome_ab','outcome_ei']).nunique()"
   ]
  },
  {
   "cell_type": "code",
   "execution_count": null,
   "metadata": {
    "ExecuteTime": {
     "end_time": "2021-02-16T23:46:59.701553Z",
     "start_time": "2021-02-16T23:46:59.648552Z"
    }
   },
   "outputs": [],
   "source": []
  },
  {
   "cell_type": "code",
   "execution_count": null,
   "metadata": {
    "ExecuteTime": {
     "end_time": "2021-06-17T21:54:27.530168Z",
     "start_time": "2021-06-17T21:54:27.501165Z"
    }
   },
   "outputs": [],
   "source": [
    "batch5_or_ro[(batch5_or_ro['Ortho Result'] == 'Positive') | (batch5_or_ro['Roche Result'] == 'Positive')].drop_duplicates()"
   ]
  },
  {
   "cell_type": "markdown",
   "metadata": {},
   "source": [
    "#### non controls"
   ]
  },
  {
   "cell_type": "code",
   "execution_count": null,
   "metadata": {
    "ExecuteTime": {
     "end_time": "2021-06-17T21:54:28.031193Z",
     "start_time": "2021-06-17T21:54:27.908185Z"
    }
   },
   "outputs": [],
   "source": [
    "batch5_ab_ei_or_ro = batch5_or_ro[(batch5_or_ro['Positive Control'] == 'No') &\n",
    "                    (batch5_or_ro['Negative Control'] == 'No')].merge(batch1to5_ab_ei_recalculated_m1).drop_duplicates()\n",
    "\n",
    "batch5_ab_ei_or_ro = batch5_ab_ei_or_ro[['Biobank ID', 'Roche Result', 'Roche Score', 'Ortho Result',\n",
    "       'Ortho Score', 'ortho_roche_round',#'Negative Control', 'Positive Control',\n",
    "       'outcome_ab', 'outcome_ei', 'od_ab',\n",
    "       'od_ei', 'batch', 'DateBloodSampleCollected']]\n",
    "batch5_ab_ei_or_ro"
   ]
  },
  {
   "cell_type": "code",
   "execution_count": null,
   "metadata": {
    "ExecuteTime": {
     "end_time": "2021-06-17T21:54:28.156197Z",
     "start_time": "2021-06-17T21:54:28.151198Z"
    }
   },
   "outputs": [],
   "source": [
    "batch5_ab_ei_or_ro['Biobank ID'].nunique()"
   ]
  },
  {
   "cell_type": "code",
   "execution_count": null,
   "metadata": {
    "ExecuteTime": {
     "end_time": "2021-06-17T21:54:28.398211Z",
     "start_time": "2021-06-17T21:54:28.384208Z"
    }
   },
   "outputs": [],
   "source": [
    "batch5_ab_ei_or_ro[['Biobank ID','Ortho Result',\n",
    "                    'Roche Result', 'outcome_ei','outcome_ab']].groupby(['outcome_ei','outcome_ab',\n",
    "                                                                         'Ortho Result','Roche Result']).nunique()"
   ]
  },
  {
   "cell_type": "markdown",
   "metadata": {},
   "source": [
    "### Non Controls Ortho/roche; AB/EI results"
   ]
  },
  {
   "cell_type": "code",
   "execution_count": null,
   "metadata": {
    "ExecuteTime": {
     "end_time": "2021-10-27T16:51:51.182156Z",
     "start_time": "2021-10-27T16:51:51.178151Z"
    }
   },
   "outputs": [],
   "source": [
    "batch1to5_ab_ei_recalculated_m1.columns"
   ]
  },
  {
   "cell_type": "code",
   "execution_count": null,
   "metadata": {
    "ExecuteTime": {
     "end_time": "2021-10-27T16:51:52.690662Z",
     "start_time": "2021-10-27T16:51:52.686692Z"
    }
   },
   "outputs": [],
   "source": [
    "ortho_roche_results.columns"
   ]
  },
  {
   "cell_type": "code",
   "execution_count": null,
   "metadata": {
    "ExecuteTime": {
     "end_time": "2021-10-27T16:51:52.979691Z",
     "start_time": "2021-10-27T16:51:52.975688Z"
    }
   },
   "outputs": [],
   "source": [
    "ab_ei_cols = ['Specimen ID','batch',#'participant_id',\n",
    "       'outcome_ab', 'outcome_ei', 'od_ab', 'od_ei', 'agree', 'runtime_ab',\n",
    "       'runtime_ei', 'Biobank ID', 'biobank_id', 'Positive Control ID',\n",
    "       'DateBloodSampleCollected', 'Positive Control', 'Negative Control']"
   ]
  },
  {
   "cell_type": "code",
   "execution_count": null,
   "metadata": {
    "ExecuteTime": {
     "end_time": "2021-10-27T16:51:53.238714Z",
     "start_time": "2021-10-27T16:51:53.208715Z"
    }
   },
   "outputs": [],
   "source": [
    "noncontrols_ortho_roche_ab_ei = ortho_roche_results[(ortho_roche_results['Positive Control'] == 'No') &\n",
    "                                           (ortho_roche_results['Negative Control'] == 'No')].merge(batch1to5_ab_ei_recalculated_m1[ab_ei_cols]).drop_duplicates()\n",
    "\n",
    "noncontrols_ortho_roche_ab_ei['Biobank ID'].nunique()"
   ]
  },
  {
   "cell_type": "code",
   "execution_count": null,
   "metadata": {
    "ExecuteTime": {
     "end_time": "2021-10-27T16:51:53.513745Z",
     "start_time": "2021-10-27T16:51:53.494742Z"
    }
   },
   "outputs": [],
   "source": [
    "non_control_disc_ab_ei = non_controls[(non_controls.outcome_ab !=non_controls.outcome_ei)][['Biobank ID','outcome_ei','outcome_ab','od_ei','od_ab', 'batch']].reset_index(drop = True)\n",
    "non_control_disc_ab_ei.tail()"
   ]
  },
  {
   "cell_type": "code",
   "execution_count": null,
   "metadata": {
    "ExecuteTime": {
     "end_time": "2021-10-27T16:51:53.792774Z",
     "start_time": "2021-10-27T16:51:53.779771Z"
    }
   },
   "outputs": [],
   "source": [
    "noncontrols_ortho_roche_ab_ei_disc = noncontrols_ortho_roche_ab_ei[(noncontrols_ortho_roche_ab_ei.outcome_ab \\\n",
    "                                                                    !=noncontrols_ortho_roche_ab_ei.outcome_ei)][['Biobank ID','outcome_ei','outcome_ab','od_ei','od_ab', 'batch']].reset_index(drop = True)\n",
    "noncontrols_ortho_roche_ab_ei_disc.tail()"
   ]
  },
  {
   "cell_type": "code",
   "execution_count": null,
   "metadata": {
    "ExecuteTime": {
     "end_time": "2021-10-27T16:51:54.068803Z",
     "start_time": "2021-10-27T16:51:54.063799Z"
    }
   },
   "outputs": [],
   "source": [
    "noncontrols_ortho_roche_ab_ei_disc['Biobank ID'].nunique(), non_control_disc_ab_ei['Biobank ID'].nunique()"
   ]
  },
  {
   "cell_type": "code",
   "execution_count": null,
   "metadata": {
    "ExecuteTime": {
     "end_time": "2021-10-27T16:51:54.349832Z",
     "start_time": "2021-10-27T16:51:54.346828Z"
    }
   },
   "outputs": [],
   "source": [
    "#ortho_roche_batch1to5_lists_sent[ortho_roche_batch1to5_lists_sent['Biobank ID'] == 'A964462449']"
   ]
  },
  {
   "cell_type": "code",
   "execution_count": null,
   "metadata": {
    "ExecuteTime": {
     "end_time": "2021-10-27T16:51:54.637862Z",
     "start_time": "2021-10-27T16:51:54.629858Z"
    }
   },
   "outputs": [],
   "source": [
    "pd.DataFrame(set(non_control_disc_ab_ei['Biobank ID']) - set(noncontrols_ortho_roche_ab_ei_disc['Biobank ID'])\n",
    "             , columns = ['Biobank ID'])#.merge(ortho_roche_results)"
   ]
  },
  {
   "cell_type": "code",
   "execution_count": null,
   "metadata": {
    "ExecuteTime": {
     "end_time": "2021-10-27T16:51:54.935893Z",
     "start_time": "2021-10-27T16:51:54.929889Z"
    }
   },
   "outputs": [],
   "source": [
    "noncontrols_ortho_roche_ab_ei.biobank_id.value_counts()"
   ]
  },
  {
   "cell_type": "code",
   "execution_count": null,
   "metadata": {
    "ExecuteTime": {
     "end_time": "2021-10-27T16:51:55.221921Z",
     "start_time": "2021-10-27T16:51:55.208919Z"
    }
   },
   "outputs": [],
   "source": [
    "noncontrols_ortho_roche_ab_ei[['Biobank ID','Negative Control','Positive Control', 'outcome_ab', 'outcome_ei']].dropna()\\\n",
    ".groupby(['Negative Control','Positive Control', 'outcome_ab', 'outcome_ei']).nunique()"
   ]
  },
  {
   "cell_type": "code",
   "execution_count": null,
   "metadata": {
    "ExecuteTime": {
     "end_time": "2021-10-27T16:51:55.515951Z",
     "start_time": "2021-10-27T16:51:55.492946Z"
    }
   },
   "outputs": [],
   "source": [
    "the9_ab_ei_ortho_roche = pd.read_csv(data_directory+'the9_order.csv').merge(noncontrols_ortho_roche_ab_ei[['biobank_id',\n",
    "                                                                                                          #'Ortho Result','Roche Result', \n",
    "                                                                                                           'od_ab','od_ei',\n",
    "                                                                                                           'Ortho Score','Roche Score',\n",
    "                                                                                                           'batch']])\n",
    "the9_ab_ei_ortho_roche.drop(['biobank_id','participant_id'], axis =1)"
   ]
  },
  {
   "cell_type": "code",
   "execution_count": null,
   "metadata": {
    "ExecuteTime": {
     "end_time": "2021-10-27T16:51:57.058108Z",
     "start_time": "2021-10-27T16:51:57.028105Z"
    }
   },
   "outputs": [],
   "source": [
    "the23_ab_ei_ortho_roche = pd.read_csv(data_directory+'the23_order.csv').merge(noncontrols_ortho_roche_ab_ei[['Biobank ID',\n",
    "                                                                                                          #'Ortho Result','Roche Result', \n",
    "                                                                                                           'od_ab','od_ei',\n",
    "                                                                                                           'Ortho Score','Roche Score',\n",
    "                                                                                                           'batch']], 'left')\n",
    "the23_ab_ei_ortho_roche.drop(['biobank_id','participant_id'], axis =1).sort_values('DateBloodSampleCollected')[['Order', 'Biobank ID',# 'participant_id', 'biobank_id',\n",
    "       'DateBloodSampleCollected', 'state', 'Age', 'SexAtBirth', 'race',\n",
    "       'od_ab', 'od_ei', 'Ortho Score', 'Roche Score', 'batch']]"
   ]
  },
  {
   "cell_type": "code",
   "execution_count": null,
   "metadata": {
    "ExecuteTime": {
     "end_time": "2021-10-27T16:51:57.308135Z",
     "start_time": "2021-10-27T16:51:57.304132Z"
    }
   },
   "outputs": [],
   "source": [
    "the23_ab_ei_ortho_roche['Biobank ID'].nunique()"
   ]
  },
  {
   "cell_type": "code",
   "execution_count": null,
   "metadata": {
    "ExecuteTime": {
     "end_time": "2021-10-27T16:51:57.653171Z",
     "start_time": "2021-10-27T16:51:57.642167Z"
    }
   },
   "outputs": [],
   "source": [
    "##  those with no results on ortho/roche\n",
    "noncontrols_ab_ei_QNS_ortho_roche =noncontrols_ortho_roche_ab_ei[(noncontrols_ortho_roche_ab_ei['Roche Score'].isnull()) |\n",
    "                              (noncontrols_ortho_roche_ab_ei['Ortho Score'].isnull()) ][['Biobank ID','outcome_ei','outcome_ab',\n",
    "                                                                                         'Roche Result','Roche Score','Ortho Result',\n",
    "                                                                                         'Ortho Score']]\n",
    "\n",
    "noncontrols_ab_ei_QNS_ortho_roche"
   ]
  },
  {
   "cell_type": "code",
   "execution_count": null,
   "metadata": {
    "ExecuteTime": {
     "end_time": "2021-10-27T16:51:57.949197Z",
     "start_time": "2021-10-27T16:51:57.946198Z"
    }
   },
   "outputs": [],
   "source": [
    "235+7+204"
   ]
  },
  {
   "cell_type": "code",
   "execution_count": null,
   "metadata": {
    "ExecuteTime": {
     "end_time": "2021-10-27T16:51:58.234234Z",
     "start_time": "2021-10-27T16:51:58.232229Z"
    }
   },
   "outputs": [],
   "source": [
    "#noncontrols_ortho_roche_ab_ei = noncontrols_ortho_roche_ab_ei[~noncontrols_ortho_roche_ab_ei['Biobank ID'].isin(['A309360313','A293960432'])]"
   ]
  },
  {
   "cell_type": "markdown",
   "metadata": {},
   "source": [
    "Not removing them because they have results on one platform"
   ]
  },
  {
   "cell_type": "markdown",
   "metadata": {},
   "source": [
    "#### **2.19.2021** file of all AoU participants and their results to send to Gail"
   ]
  },
  {
   "cell_type": "code",
   "execution_count": null,
   "metadata": {
    "ExecuteTime": {
     "end_time": "2021-10-27T16:51:58.736278Z",
     "start_time": "2021-10-27T16:51:58.733279Z"
    }
   },
   "outputs": [],
   "source": [
    "ab_ei_cols = ['Specimen ID','batch',#'participant_id',\n",
    "       'outcome_ab', 'outcome_ei', 'od_ab', 'od_ei', 'agree', 'runtime_ab',\n",
    "       'runtime_ei', 'Biobank ID', 'biobank_id', 'Positive Control ID',\n",
    "       'DateBloodSampleCollected', 'Positive Control', 'Negative Control']"
   ]
  },
  {
   "cell_type": "code",
   "execution_count": null,
   "metadata": {
    "ExecuteTime": {
     "end_time": "2021-10-27T16:51:59.071314Z",
     "start_time": "2021-10-27T16:51:58.970302Z"
    }
   },
   "outputs": [],
   "source": [
    "noncontrols_ortho_roche_ab_ei_all = ortho_roche_results[(ortho_roche_results['Positive Control'] == 'No') &\n",
    "                                           (ortho_roche_results['Negative Control'] == 'No')].merge(non_controls[ab_ei_cols], 'outer').drop_duplicates()\n",
    "\n",
    "\n",
    "noncontrols_ortho_roche_ab_ei_all['Abbott Result'] = noncontrols_ortho_roche_ab_ei_all['outcome_ab'].replace(0,'Negative').replace(1, 'Positive')\n",
    "noncontrols_ortho_roche_ab_ei_all['EUROIMMUN Result'] = noncontrols_ortho_roche_ab_ei_all['outcome_ei'].replace(0,'Negative').replace(1, 'Positive')\n",
    "\n",
    "\n",
    "noncontrols_ortho_roche_ab_ei_all = noncontrols_ortho_roche_ab_ei_all.merge(master_list_original[['biobank_id','participant_id']])[['biobank_id','participant_id','DateBloodSampleCollected','Abbott Result', 'EUROIMMUN Result', 'Ortho Result','Roche Result']].drop_duplicates()#['Biobank ID'].nunique()\n",
    "noncontrols_ortho_roche_ab_ei_all = noncontrols_ortho_roche_ab_ei_all.replace('QNS', 'Not Tested on this platform')\n",
    "\n",
    "noncontrols_ortho_roche_ab_ei_all[['Ortho Result','Roche Result']] = noncontrols_ortho_roche_ab_ei_all[['Ortho Result','Roche Result']].fillna('Not Tested on this platform')#.participant_id.nunique()\n",
    "noncontrols_ortho_roche_ab_ei_all = noncontrols_ortho_roche_ab_ei_all.drop_duplicates()"
   ]
  },
  {
   "cell_type": "code",
   "execution_count": null,
   "metadata": {
    "ExecuteTime": {
     "end_time": "2021-10-27T16:52:00.344445Z",
     "start_time": "2021-10-27T16:52:00.288439Z"
    }
   },
   "outputs": [],
   "source": [
    "noncontrols_ortho_roche_ab_ei_all#.participant_id.nunique()"
   ]
  },
  {
   "cell_type": "markdown",
   "metadata": {},
   "source": [
    "##QC"
   ]
  },
  {
   "cell_type": "code",
   "execution_count": null,
   "metadata": {
    "ExecuteTime": {
     "end_time": "2021-10-27T16:52:01.061521Z",
     "start_time": "2021-10-27T16:52:00.985511Z"
    }
   },
   "outputs": [],
   "source": [
    "noncontrols_ortho_roche_ab_ei_all.drop(['Ortho Result','Roche Result'], axis=1).groupby(['Abbott Result', 'EUROIMMUN Result']).nunique()"
   ]
  },
  {
   "cell_type": "code",
   "execution_count": null,
   "metadata": {
    "ExecuteTime": {
     "end_time": "2021-10-27T16:52:01.279543Z",
     "start_time": "2021-10-27T16:52:01.274540Z"
    }
   },
   "outputs": [],
   "source": [
    "145+138+9"
   ]
  },
  {
   "cell_type": "code",
   "execution_count": null,
   "metadata": {
    "ExecuteTime": {
     "end_time": "2021-10-27T16:52:01.561574Z",
     "start_time": "2021-10-27T16:52:01.557569Z"
    }
   },
   "outputs": [],
   "source": [
    "23787+"
   ]
  },
  {
   "cell_type": "code",
   "execution_count": null,
   "metadata": {
    "ExecuteTime": {
     "end_time": "2021-10-27T16:52:01.912605Z",
     "start_time": "2021-10-27T16:52:01.843598Z"
    }
   },
   "outputs": [],
   "source": [
    "noncontrols_ortho_roche_ab_ei_all.drop(['Abbott Result', 'EUROIMMUN Result'], axis=1).groupby(['Ortho Result','Roche Result']).nunique()"
   ]
  },
  {
   "cell_type": "code",
   "execution_count": null,
   "metadata": {
    "ExecuteTime": {
     "end_time": "2021-10-27T16:52:02.122625Z",
     "start_time": "2021-10-27T16:52:02.118627Z"
    }
   },
   "outputs": [],
   "source": [
    "206+132+122"
   ]
  },
  {
   "cell_type": "code",
   "execution_count": null,
   "metadata": {
    "ExecuteTime": {
     "end_time": "2021-10-27T16:52:02.479661Z",
     "start_time": "2021-10-27T16:52:02.399655Z"
    }
   },
   "outputs": [],
   "source": [
    "qc2 = noncontrols_ortho_roche_ab_ei_all[(noncontrols_ortho_roche_ab_ei_all['Ortho Result'] != 'Not Tested on this platform') &\n",
    "                                  (noncontrols_ortho_roche_ab_ei_all['Roche Result'] != 'Not Tested on this platform')]\n",
    "qc2.groupby(['Abbott Result', 'EUROIMMUN Result','Roche Result', 'Ortho Result']).nunique()"
   ]
  },
  {
   "cell_type": "code",
   "execution_count": null,
   "metadata": {
    "ExecuteTime": {
     "end_time": "2021-10-27T16:52:03.953813Z",
     "start_time": "2021-10-27T16:52:03.948812Z"
    }
   },
   "outputs": [],
   "source": [
    "122+21+132+1+1"
   ]
  },
  {
   "cell_type": "code",
   "execution_count": null,
   "metadata": {
    "ExecuteTime": {
     "end_time": "2021-10-27T16:52:04.460866Z",
     "start_time": "2021-10-27T16:52:04.248844Z"
    }
   },
   "outputs": [],
   "source": [
    "noncontrols_ortho_roche_ab_ei_all.to_csv(data_directory+'AoU Participants Serology Tests Results.csv', index = False)"
   ]
  },
  {
   "cell_type": "markdown",
   "metadata": {},
   "source": [
    "### Negative Controls Ortho/Rohe; AB/EI"
   ]
  },
  {
   "cell_type": "code",
   "execution_count": null,
   "metadata": {
    "ExecuteTime": {
     "end_time": "2021-10-27T16:52:04.671889Z",
     "start_time": "2021-10-27T16:52:04.634883Z"
    }
   },
   "outputs": [],
   "source": [
    "neg_controls_ortho_roche_ab_ei = ortho_roche_results[ortho_roche_results['Negative Control'] == 'Yes'].merge(batch1to5_ab_ei_recalculated_m1[ab_ei_cols], 'left').drop_duplicates()\n",
    "neg_controls_ortho_roche_ab_ei = neg_controls_ortho_roche_ab_ei.drop('biobank_id', axis =1).merge(first_negative_controls_master[['Biobank ID','biobank_id']])\n",
    "display(neg_controls_ortho_roche_ab_ei['biobank_id'].nunique())\n",
    "neg_controls_ortho_roche_ab_ei"
   ]
  },
  {
   "cell_type": "code",
   "execution_count": null,
   "metadata": {
    "ExecuteTime": {
     "end_time": "2021-10-27T16:52:04.929915Z",
     "start_time": "2021-10-27T16:52:04.915910Z"
    }
   },
   "outputs": [],
   "source": [
    "neg_controls_ortho_roche_ab_ei[neg_controls_ortho_roche_ab_ei.batch == 5][['Biobank ID', 'Roche Result', 'Roche Score', 'Ortho Result',\n",
    "       'Ortho Score',  #'Negative Control', 'Positive Control',\n",
    "       'outcome_ab', 'outcome_ei', 'od_ab',\n",
    "       'od_ei', 'batch', 'DateBloodSampleCollected', 'ortho_roche_round']]"
   ]
  },
  {
   "cell_type": "code",
   "execution_count": null,
   "metadata": {
    "ExecuteTime": {
     "end_time": "2021-10-27T16:52:05.224946Z",
     "start_time": "2021-10-27T16:52:05.213943Z"
    }
   },
   "outputs": [],
   "source": [
    "t = neg_controls_ortho_roche_ab_ei[['Biobank ID', 'Specimen ID']].groupby('Biobank ID').nunique().sort_values('Specimen ID')\n",
    "t"
   ]
  },
  {
   "cell_type": "code",
   "execution_count": null,
   "metadata": {
    "ExecuteTime": {
     "end_time": "2021-10-27T16:52:05.497973Z",
     "start_time": "2021-10-27T16:52:05.491971Z"
    }
   },
   "outputs": [],
   "source": [
    "t[t['Specimen ID']>1].count()"
   ]
  },
  {
   "cell_type": "markdown",
   "metadata": {},
   "source": [
    "### Positive Controls Ortho/Rohe; AB/EI"
   ]
  },
  {
   "cell_type": "code",
   "execution_count": null,
   "metadata": {
    "ExecuteTime": {
     "end_time": "2021-10-27T16:52:05.953025Z",
     "start_time": "2021-10-27T16:52:05.914016Z"
    }
   },
   "outputs": [],
   "source": [
    "pos_controls_ortho_roche_ab_ei= ortho_roche_results[ortho_roche_results['Positive Control'] == 'Yes'].merge(batch1to5_ab_ei_recalculated_m1, 'left').drop_duplicates()\n",
    "pos_controls_ortho_roche_ab_ei['Biobank ID'].nunique()"
   ]
  },
  {
   "cell_type": "code",
   "execution_count": null,
   "metadata": {
    "ExecuteTime": {
     "end_time": "2021-10-27T16:52:07.580188Z",
     "start_time": "2021-10-27T16:52:07.564184Z"
    }
   },
   "outputs": [],
   "source": [
    "pos_controls_ortho_roche_ab_ei[pos_controls_ortho_roche_ab_ei.batch == 5][['Biobank ID', 'Roche Result', 'Roche Score', 'Ortho Result',\n",
    "       'Ortho Score',  #'Negative Control', 'Positive Control',\n",
    "       'outcome_ab', 'outcome_ei', 'od_ab',\n",
    "       'od_ei', 'batch', 'DateBloodSampleCollected', 'ortho_roche_round']]"
   ]
  },
  {
   "cell_type": "code",
   "execution_count": null,
   "metadata": {
    "ExecuteTime": {
     "end_time": "2021-10-27T16:52:07.848213Z",
     "start_time": "2021-10-27T16:52:07.845213Z"
    }
   },
   "outputs": [],
   "source": [
    "46+5+2"
   ]
  },
  {
   "cell_type": "code",
   "execution_count": null,
   "metadata": {
    "ExecuteTime": {
     "end_time": "2021-10-27T16:52:08.137244Z",
     "start_time": "2021-10-27T16:52:08.127241Z"
    }
   },
   "outputs": [],
   "source": [
    "pos_controls_ortho_roche_ab_ei[['Biobank ID', 'Specimen ID']].groupby('Biobank ID').nunique()"
   ]
  },
  {
   "cell_type": "markdown",
   "metadata": {},
   "source": [
    "### Counts by Platforms"
   ]
  },
  {
   "cell_type": "code",
   "execution_count": null,
   "metadata": {
    "ExecuteTime": {
     "end_time": "2021-10-27T16:52:08.537283Z",
     "start_time": "2021-10-27T16:52:08.532283Z"
    }
   },
   "outputs": [],
   "source": [
    "noncontrols_ortho_roche_ab_ei[(noncontrols_ortho_roche_ab_ei['outcome_ei']==\n",
    "                              noncontrols_ortho_roche_ab_ei['outcome_ab']) &\n",
    "                             (noncontrols_ortho_roche_ab_ei['outcome_ab'] == 1)]['Biobank ID'].nunique()"
   ]
  },
  {
   "cell_type": "code",
   "execution_count": null,
   "metadata": {
    "ExecuteTime": {
     "end_time": "2021-10-27T16:52:08.815311Z",
     "start_time": "2021-10-27T16:52:08.810311Z"
    }
   },
   "outputs": [],
   "source": [
    "noncontrols_ortho_roche_ab_ei[(noncontrols_ortho_roche_ab_ei['outcome_ei']==\n",
    "                              noncontrols_ortho_roche_ab_ei['outcome_ab']) &\n",
    "                             (noncontrols_ortho_roche_ab_ei['outcome_ab'] == 0)]['Biobank ID'].nunique()"
   ]
  },
  {
   "cell_type": "code",
   "execution_count": null,
   "metadata": {
    "ExecuteTime": {
     "end_time": "2021-10-27T16:52:09.106346Z",
     "start_time": "2021-10-27T16:52:09.100341Z"
    }
   },
   "outputs": [],
   "source": [
    "noncontrols_ortho_roche_ab_ei[(noncontrols_ortho_roche_ab_ei['outcome_ei']!=\n",
    "                              noncontrols_ortho_roche_ab_ei['outcome_ab']) &\n",
    "                             (noncontrols_ortho_roche_ab_ei['outcome_ab'] == 1)]['Biobank ID'].nunique()"
   ]
  },
  {
   "cell_type": "code",
   "execution_count": null,
   "metadata": {
    "ExecuteTime": {
     "end_time": "2021-10-27T16:52:09.383377Z",
     "start_time": "2021-10-27T16:52:09.378370Z"
    }
   },
   "outputs": [],
   "source": [
    "noncontrols_ortho_roche_ab_ei[(noncontrols_ortho_roche_ab_ei['outcome_ei']!=\n",
    "                              noncontrols_ortho_roche_ab_ei['outcome_ab']) &\n",
    "                             (noncontrols_ortho_roche_ab_ei['outcome_ab'] == 0)]['Biobank ID'].nunique()"
   ]
  },
  {
   "cell_type": "code",
   "execution_count": null,
   "metadata": {
    "ExecuteTime": {
     "end_time": "2021-10-27T16:52:09.663400Z",
     "start_time": "2021-10-27T16:52:09.659398Z"
    }
   },
   "outputs": [],
   "source": [
    "9+204+136+143"
   ]
  },
  {
   "cell_type": "code",
   "execution_count": null,
   "metadata": {
    "ExecuteTime": {
     "end_time": "2021-06-17T21:56:39.470382Z",
     "start_time": "2021-06-17T21:56:39.465380Z"
    }
   },
   "outputs": [],
   "source": []
  },
  {
   "cell_type": "code",
   "execution_count": null,
   "metadata": {
    "ExecuteTime": {
     "end_time": "2021-06-17T21:57:32.824977Z",
     "start_time": "2021-06-17T21:57:32.789976Z"
    }
   },
   "outputs": [],
   "source": []
  },
  {
   "cell_type": "code",
   "execution_count": null,
   "metadata": {},
   "outputs": [],
   "source": []
  },
  {
   "cell_type": "markdown",
   "metadata": {},
   "source": [
    "#### conconcordant ab/ei positve"
   ]
  },
  {
   "cell_type": "code",
   "execution_count": null,
   "metadata": {
    "ExecuteTime": {
     "end_time": "2021-10-27T16:52:15.217968Z",
     "start_time": "2021-10-27T16:52:15.200964Z"
    }
   },
   "outputs": [],
   "source": [
    "## Concordant Roche/Ortho Positive\n",
    "noncontrols_ortho_roche_ab_ei[(noncontrols_ortho_roche_ab_ei['outcome_ei'] == 1) &\n",
    "                              (noncontrols_ortho_roche_ab_ei['outcome_ab'] == 1) &\n",
    "                              (noncontrols_ortho_roche_ab_ei['Roche Result'] == 'Positive') &\n",
    "                                  (noncontrols_ortho_roche_ab_ei['Ortho Result'] == 'Positive')]"
   ]
  },
  {
   "cell_type": "code",
   "execution_count": null,
   "metadata": {
    "ExecuteTime": {
     "end_time": "2021-10-27T16:52:16.973149Z",
     "start_time": "2021-10-27T16:52:16.967145Z"
    }
   },
   "outputs": [],
   "source": [
    "## Ortho + and Roche -\n",
    "the4 = noncontrols_ortho_roche_ab_ei[(noncontrols_ortho_roche_ab_ei['outcome_ei'] == 1) &\n",
    "                              (noncontrols_ortho_roche_ab_ei['outcome_ab'] == 1) &\n",
    "                              (noncontrols_ortho_roche_ab_ei['Roche Result'] == 'Negative') &\n",
    "                                  (noncontrols_ortho_roche_ab_ei['Ortho Result'] == 'Positive')]\n",
    "the4['Biobank ID'].nunique()"
   ]
  },
  {
   "cell_type": "code",
   "execution_count": null,
   "metadata": {
    "ExecuteTime": {
     "end_time": "2021-10-27T16:52:19.314466Z",
     "start_time": "2021-10-27T16:52:19.303470Z"
    }
   },
   "outputs": [],
   "source": [
    "the4[['Biobank ID','outcome_ab','outcome_ei','Ortho Score','Ortho Result','Roche Score','Roche Result']]"
   ]
  },
  {
   "cell_type": "code",
   "execution_count": null,
   "metadata": {
    "ExecuteTime": {
     "end_time": "2021-10-25T19:23:02.634259Z",
     "start_time": "2021-10-25T19:23:02.622264Z"
    }
   },
   "outputs": [],
   "source": [
    "ortho_roche_results[ortho_roche_results['Biobank ID'] == \"A844593630\"]"
   ]
  },
  {
   "cell_type": "code",
   "execution_count": null,
   "metadata": {
    "ExecuteTime": {
     "end_time": "2021-10-25T19:14:32.240093Z",
     "start_time": "2021-10-25T19:14:32.208104Z"
    }
   },
   "outputs": [],
   "source": [
    "noncontrols_ortho_roche_ab_ei"
   ]
  },
  {
   "cell_type": "code",
   "execution_count": null,
   "metadata": {
    "ExecuteTime": {
     "end_time": "2021-10-25T17:52:33.519481Z",
     "start_time": "2021-10-25T17:52:33.513478Z"
    }
   },
   "outputs": [],
   "source": [
    "## Ortho - and Roche +\n",
    "noncontrols_ortho_roche_ab_ei[(noncontrols_ortho_roche_ab_ei['outcome_ei'] == 1) &\n",
    "                              (noncontrols_ortho_roche_ab_ei['outcome_ab'] == 1) &\n",
    "                              (noncontrols_ortho_roche_ab_ei['Roche Result'] == 'Positive') &\n",
    "                                  (noncontrols_ortho_roche_ab_ei['Ortho Result'] == 'Negative')]['Biobank ID'].nunique()"
   ]
  },
  {
   "cell_type": "code",
   "execution_count": null,
   "metadata": {
    "ExecuteTime": {
     "end_time": "2021-10-25T17:52:34.046510Z",
     "start_time": "2021-10-25T17:52:34.040508Z"
    }
   },
   "outputs": [],
   "source": [
    "## concordant ortho/roche negative\n",
    "noncontrols_ortho_roche_ab_ei[(noncontrols_ortho_roche_ab_ei['outcome_ei'] == 1) &\n",
    "                              (noncontrols_ortho_roche_ab_ei['outcome_ab'] == 1) &\n",
    "                              (noncontrols_ortho_roche_ab_ei['Roche Result'] == 'Negative') &\n",
    "                                  (noncontrols_ortho_roche_ab_ei['Ortho Result'] == 'Negative')]['Biobank ID'].nunique()"
   ]
  },
  {
   "cell_type": "markdown",
   "metadata": {},
   "source": [
    "#### Concordant AB/EI Neg"
   ]
  },
  {
   "cell_type": "code",
   "execution_count": null,
   "metadata": {
    "ExecuteTime": {
     "end_time": "2021-03-22T16:58:22.409407Z",
     "start_time": "2021-03-22T16:58:22.401406Z"
    }
   },
   "outputs": [],
   "source": [
    "## Concordant Roche/Ortho Positive\n",
    "noncontrols_ortho_roche_ab_ei[(noncontrols_ortho_roche_ab_ei['outcome_ei'] == 0) &\n",
    "                              (noncontrols_ortho_roche_ab_ei['outcome_ab'] == 0) &\n",
    "                              (noncontrols_ortho_roche_ab_ei['Roche Result'] == 'Positive') &\n",
    "                                  (noncontrols_ortho_roche_ab_ei['Ortho Result'] == 'Positive')]['Biobank ID'].nunique()"
   ]
  },
  {
   "cell_type": "code",
   "execution_count": null,
   "metadata": {
    "ExecuteTime": {
     "end_time": "2021-03-22T16:58:22.659424Z",
     "start_time": "2021-03-22T16:58:22.652447Z"
    }
   },
   "outputs": [],
   "source": [
    "## C\n",
    "noncontrols_ortho_roche_ab_ei[(noncontrols_ortho_roche_ab_ei['outcome_ei'] == 0) &\n",
    "                              (noncontrols_ortho_roche_ab_ei['outcome_ab'] == 0) &\n",
    "                              (noncontrols_ortho_roche_ab_ei['Roche Result'] == 'Positive') &\n",
    "                                  (noncontrols_ortho_roche_ab_ei['Ortho Result'] == 'Negative')]['Biobank ID'].nunique()"
   ]
  },
  {
   "cell_type": "code",
   "execution_count": null,
   "metadata": {
    "ExecuteTime": {
     "end_time": "2021-03-22T16:58:22.918443Z",
     "start_time": "2021-03-22T16:58:22.912444Z"
    }
   },
   "outputs": [],
   "source": [
    "## \n",
    "noncontrols_ortho_roche_ab_ei[(noncontrols_ortho_roche_ab_ei['outcome_ei'] == 0) &\n",
    "                              (noncontrols_ortho_roche_ab_ei['outcome_ab'] == 0) &\n",
    "                              (noncontrols_ortho_roche_ab_ei['Roche Result'] == 'Negative') &\n",
    "                                  (noncontrols_ortho_roche_ab_ei['Ortho Result'] == 'Positive')]['Biobank ID'].nunique()"
   ]
  },
  {
   "cell_type": "code",
   "execution_count": null,
   "metadata": {
    "ExecuteTime": {
     "end_time": "2021-03-22T16:58:23.168454Z",
     "start_time": "2021-03-22T16:58:23.162455Z"
    }
   },
   "outputs": [],
   "source": [
    "## \n",
    "noncontrols_ortho_roche_ab_ei[(noncontrols_ortho_roche_ab_ei['outcome_ei'] == 0) &\n",
    "                              (noncontrols_ortho_roche_ab_ei['outcome_ab'] == 0) &\n",
    "                              (noncontrols_ortho_roche_ab_ei['Roche Result'] == 'Negative') &\n",
    "                                  (noncontrols_ortho_roche_ab_ei['Ortho Result'] == 'Negative')]['Biobank ID'].nunique()"
   ]
  },
  {
   "cell_type": "markdown",
   "metadata": {},
   "source": [
    "#### AB Positive , EI Negative"
   ]
  },
  {
   "cell_type": "code",
   "execution_count": null,
   "metadata": {
    "ExecuteTime": {
     "end_time": "2021-03-22T16:58:23.555476Z",
     "start_time": "2021-03-22T16:58:23.548478Z"
    }
   },
   "outputs": [],
   "source": [
    "## Concordant Roche/Ortho Positive\n",
    "noncontrols_ortho_roche_ab_ei[(noncontrols_ortho_roche_ab_ei['outcome_ei'] == 0) &\n",
    "                              (noncontrols_ortho_roche_ab_ei['outcome_ab'] == 1) &\n",
    "                              (noncontrols_ortho_roche_ab_ei['Roche Result'] == 'Positive') &\n",
    "                                  (noncontrols_ortho_roche_ab_ei['Ortho Result'] == 'Positive')]['Biobank ID'].nunique()"
   ]
  },
  {
   "cell_type": "code",
   "execution_count": null,
   "metadata": {
    "ExecuteTime": {
     "end_time": "2021-03-22T16:58:23.832494Z",
     "start_time": "2021-03-22T16:58:23.826492Z"
    }
   },
   "outputs": [],
   "source": [
    "## \n",
    "noncontrols_ortho_roche_ab_ei[(noncontrols_ortho_roche_ab_ei['outcome_ei'] == 0) &\n",
    "                              (noncontrols_ortho_roche_ab_ei['outcome_ab'] == 1) &\n",
    "                              (noncontrols_ortho_roche_ab_ei['Roche Result'] == 'Positive') &\n",
    "                                  (noncontrols_ortho_roche_ab_ei['Ortho Result'] == 'Negative')]['Biobank ID'].nunique()"
   ]
  },
  {
   "cell_type": "code",
   "execution_count": null,
   "metadata": {
    "ExecuteTime": {
     "end_time": "2021-03-22T16:58:24.116515Z",
     "start_time": "2021-03-22T16:58:24.110510Z"
    }
   },
   "outputs": [],
   "source": [
    "## \n",
    "noncontrols_ortho_roche_ab_ei[(noncontrols_ortho_roche_ab_ei['outcome_ei'] == 0) &\n",
    "                              (noncontrols_ortho_roche_ab_ei['outcome_ab'] == 1) &\n",
    "                              (noncontrols_ortho_roche_ab_ei['Roche Result'] == 'Negative') &\n",
    "                                  (noncontrols_ortho_roche_ab_ei['Ortho Result'] == 'Positive')]['Biobank ID'].nunique()"
   ]
  },
  {
   "cell_type": "code",
   "execution_count": null,
   "metadata": {
    "ExecuteTime": {
     "end_time": "2021-03-22T16:58:24.388529Z",
     "start_time": "2021-03-22T16:58:24.382526Z"
    }
   },
   "outputs": [],
   "source": [
    "## \n",
    "noncontrols_ortho_roche_ab_ei[(noncontrols_ortho_roche_ab_ei['outcome_ei'] == 0) &\n",
    "                              (noncontrols_ortho_roche_ab_ei['outcome_ab'] == 1) &\n",
    "                              (noncontrols_ortho_roche_ab_ei['Roche Result'] == 'Negative') &\n",
    "                                  (noncontrols_ortho_roche_ab_ei['Ortho Result'] == 'Negative')]['Biobank ID'].nunique()"
   ]
  },
  {
   "cell_type": "code",
   "execution_count": null,
   "metadata": {
    "ExecuteTime": {
     "end_time": "2021-03-22T16:58:24.625544Z",
     "start_time": "2021-03-22T16:58:24.622542Z"
    }
   },
   "outputs": [],
   "source": [
    "132+1+1"
   ]
  },
  {
   "cell_type": "markdown",
   "metadata": {},
   "source": [
    "#### AB negative and EI positive"
   ]
  },
  {
   "cell_type": "code",
   "execution_count": null,
   "metadata": {
    "ExecuteTime": {
     "end_time": "2021-03-22T16:58:26.376651Z",
     "start_time": "2021-03-22T16:58:26.369647Z"
    }
   },
   "outputs": [],
   "source": [
    "## Concordant Roche/Ortho Positive\n",
    "noncontrols_ortho_roche_ab_ei[(noncontrols_ortho_roche_ab_ei['outcome_ei'] == 1) &\n",
    "                              (noncontrols_ortho_roche_ab_ei['outcome_ab'] == 0) &\n",
    "                              (noncontrols_ortho_roche_ab_ei['Roche Result'] == 'Positive') &\n",
    "                                  (noncontrols_ortho_roche_ab_ei['Ortho Result'] == 'Positive')]['Biobank ID'].nunique()"
   ]
  },
  {
   "cell_type": "code",
   "execution_count": null,
   "metadata": {
    "ExecuteTime": {
     "end_time": "2021-03-22T16:58:27.365711Z",
     "start_time": "2021-03-22T16:58:27.358708Z"
    }
   },
   "outputs": [],
   "source": [
    "## \n",
    "noncontrols_ortho_roche_ab_ei[(noncontrols_ortho_roche_ab_ei['outcome_ei'] == 1) &\n",
    "                              (noncontrols_ortho_roche_ab_ei['outcome_ab'] == 0) &\n",
    "                              (noncontrols_ortho_roche_ab_ei['Roche Result'] == 'Positive') &\n",
    "                                  (noncontrols_ortho_roche_ab_ei['Ortho Result'] == 'Negative')]['Biobank ID'].nunique()"
   ]
  },
  {
   "cell_type": "code",
   "execution_count": null,
   "metadata": {
    "ExecuteTime": {
     "end_time": "2021-03-22T16:58:27.741731Z",
     "start_time": "2021-03-22T16:58:27.735730Z"
    }
   },
   "outputs": [],
   "source": [
    "## \n",
    "noncontrols_ortho_roche_ab_ei[(noncontrols_ortho_roche_ab_ei['outcome_ei'] == 1) &\n",
    "                              (noncontrols_ortho_roche_ab_ei['outcome_ab'] == 0) &\n",
    "                              (noncontrols_ortho_roche_ab_ei['Roche Result'] == 'Negative') &\n",
    "                                  (noncontrols_ortho_roche_ab_ei['Ortho Result'] == 'Positive')]['Biobank ID'].nunique()"
   ]
  },
  {
   "cell_type": "code",
   "execution_count": null,
   "metadata": {
    "ExecuteTime": {
     "end_time": "2021-03-22T16:58:28.035749Z",
     "start_time": "2021-03-22T16:58:28.028748Z"
    }
   },
   "outputs": [],
   "source": [
    "## \n",
    "noncontrols_ortho_roche_ab_ei[(noncontrols_ortho_roche_ab_ei['outcome_ei'] == 1) &\n",
    "                              (noncontrols_ortho_roche_ab_ei['outcome_ab'] == 0) &\n",
    "                              (noncontrols_ortho_roche_ab_ei['Roche Result'] == 'Negative') &\n",
    "                                  (noncontrols_ortho_roche_ab_ei['Ortho Result'] == 'Negative')]['Biobank ID'].nunique()"
   ]
  },
  {
   "cell_type": "code",
   "execution_count": null,
   "metadata": {
    "ExecuteTime": {
     "end_time": "2021-03-22T16:58:28.277763Z",
     "start_time": "2021-03-22T16:58:28.274763Z"
    }
   },
   "outputs": [],
   "source": [
    "21+122; "
   ]
  },
  {
   "cell_type": "code",
   "execution_count": null,
   "metadata": {
    "ExecuteTime": {
     "end_time": "2021-03-22T16:58:28.554781Z",
     "start_time": "2021-03-22T16:58:28.551780Z"
    }
   },
   "outputs": [],
   "source": [
    "143+134+204+9"
   ]
  },
  {
   "cell_type": "code",
   "execution_count": null,
   "metadata": {
    "ExecuteTime": {
     "end_time": "2021-03-22T16:58:28.807798Z",
     "start_time": "2021-03-22T16:58:28.804797Z"
    }
   },
   "outputs": [],
   "source": [
    "134+143+2+9+204"
   ]
  },
  {
   "cell_type": "code",
   "execution_count": null,
   "metadata": {},
   "outputs": [],
   "source": []
  },
  {
   "cell_type": "markdown",
   "metadata": {},
   "source": [
    "## Individuals who are positive on >=2 testing platforms"
   ]
  },
  {
   "cell_type": "code",
   "execution_count": null,
   "metadata": {
    "ExecuteTime": {
     "end_time": "2021-03-22T16:58:29.565844Z",
     "start_time": "2021-03-22T16:58:29.546842Z"
    }
   },
   "outputs": [],
   "source": [
    "noncontrols_discordant_ab_ei = noncontrols_ortho_roche_ab_ei[(noncontrols_ortho_roche_ab_ei['outcome_ei'] !=\n",
    "                              noncontrols_ortho_roche_ab_ei['outcome_ab'])][['Biobank ID','outcome_ei','outcome_ab',\n",
    "                                                                                         'Roche Result','Roche Score',\n",
    "                                                                                        'Ortho Result',\n",
    "                                                                                         'Ortho Score', 'batch']]\n",
    "\n",
    "\n",
    "noncontrols_discordant_ab_ei"
   ]
  },
  {
   "cell_type": "code",
   "execution_count": null,
   "metadata": {
    "ExecuteTime": {
     "end_time": "2021-03-22T16:58:29.839858Z",
     "start_time": "2021-03-22T16:58:29.835858Z"
    }
   },
   "outputs": [],
   "source": [
    "noncontrols_discordant_ab_ei['Biobank ID'].nunique()"
   ]
  },
  {
   "cell_type": "code",
   "execution_count": null,
   "metadata": {
    "ExecuteTime": {
     "end_time": "2021-03-22T16:58:30.097873Z",
     "start_time": "2021-03-22T16:58:30.094874Z"
    }
   },
   "outputs": [],
   "source": [
    "134+143"
   ]
  },
  {
   "cell_type": "code",
   "execution_count": null,
   "metadata": {
    "ExecuteTime": {
     "end_time": "2021-03-22T16:58:30.375889Z",
     "start_time": "2021-03-22T16:58:30.359890Z"
    }
   },
   "outputs": [],
   "source": [
    "noncontrols_discordant_ab_ei['outcome_ab_str'] = noncontrols_discordant_ab_ei['outcome_ab'].replace(0,'Negative').replace(1, 'Positive')\n",
    "noncontrols_discordant_ab_ei['outcome_ei_str'] = noncontrols_discordant_ab_ei['outcome_ei'].replace(0,'Negative').replace(1, 'Positive')\n",
    "\n",
    "# noncontrols['outcome_ab_str'] = noncontrols['outcome_ab'].replace(0,'Negative').replace(1, 'Positive')\n",
    "# noncontrols['outcome_ei_str'] = noncontrols['outcome_ei'].replace(0,'Negative').replace(1, 'Positive')\n",
    "\n",
    "# ortho_roche_results_merged = ortho_roche_results_merged[['Biobank ID', 'Specimen ID', 'Roche Result',\n",
    "#        'Roche Score', 'Ortho Result', 'Ortho Score', \n",
    "#        'batch_test', 'outcome_ab',\n",
    "#        'outcome_ei','od_ei', 'od_ab', 'runtime_ab',\n",
    "#        'runtime_ei', 'biobank_id', 'participant_id', 'state',\n",
    "#        'Positive Control', 'Negative Control', 'Positive Control ID', 'batch',\n",
    "#        'outcome_ab_str', 'outcome_ei_str']].drop_duplicates()\n",
    "\n",
    "noncontrols_discordant_ab_ei.head()"
   ]
  },
  {
   "cell_type": "markdown",
   "metadata": {},
   "source": [
    "### ab+/ortho+, dscordant ab/ei"
   ]
  },
  {
   "cell_type": "code",
   "execution_count": null,
   "metadata": {
    "ExecuteTime": {
     "end_time": "2021-03-22T16:58:30.868936Z",
     "start_time": "2021-03-22T16:58:30.855916Z"
    }
   },
   "outputs": [],
   "source": [
    "ab_ei_disc_ab_ortho_pos = noncontrols_discordant_ab_ei[\n",
    "                                                    (noncontrols_discordant_ab_ei['outcome_ab_str'] == 'Positive')&\n",
    "                                                   (noncontrols_discordant_ab_ei['Ortho Result'] == 'Positive')]#.merge(master_list)\n",
    "\n",
    "ab_ei_disc_ab_ortho_pos['Tested'] = ['Ab+, Ortho+, Ei-, Roche-']\n",
    "ab_ei_disc_ab_ortho_pos#['batch']#.dropna().nunique()"
   ]
  },
  {
   "cell_type": "markdown",
   "metadata": {},
   "source": [
    "### ei+/roche+, ab_ei_dicordant"
   ]
  },
  {
   "cell_type": "code",
   "execution_count": null,
   "metadata": {
    "ExecuteTime": {
     "end_time": "2021-03-22T16:58:31.385949Z",
     "start_time": "2021-03-22T16:58:31.375948Z"
    }
   },
   "outputs": [],
   "source": [
    "ab_ei_disc_ei_roche_pos = noncontrols_discordant_ab_ei[(noncontrols_discordant_ab_ei['outcome_ei_str'] == 'Positive')&\n",
    "                            (noncontrols_discordant_ab_ei['Roche Result'] == 'Positive')]#.merge(master_list)\n",
    "ab_ei_disc_ei_roche_pos"
   ]
  },
  {
   "cell_type": "markdown",
   "metadata": {},
   "source": [
    "### ab+/roche+, discordant ab/ei"
   ]
  },
  {
   "cell_type": "code",
   "execution_count": null,
   "metadata": {
    "ExecuteTime": {
     "end_time": "2021-03-22T16:58:31.946984Z",
     "start_time": "2021-03-22T16:58:31.933988Z"
    }
   },
   "outputs": [],
   "source": [
    "ab_ei_disc_ab_roche_pos = noncontrols_discordant_ab_ei[(noncontrols_discordant_ab_ei['outcome_ab_str'] == 'Positive')&\n",
    "                            (noncontrols_discordant_ab_ei['Roche Result'] == 'Positive')]#.merge(master_list)\n",
    "\n",
    "ab_ei_disc_ab_roche_pos['Tested'] = ['Ab+, Roche+, Ei-, Ortho-']\n",
    "ab_ei_disc_ab_roche_pos"
   ]
  },
  {
   "cell_type": "code",
   "execution_count": null,
   "metadata": {
    "ExecuteTime": {
     "end_time": "2021-03-22T16:58:32.217006Z",
     "start_time": "2021-03-22T16:58:32.211001Z"
    }
   },
   "outputs": [],
   "source": [
    "noncontrols_ortho_roche_ab_ei[(noncontrols_ortho_roche_ab_ei['outcome_ab'] == 1)&\n",
    "                             (noncontrols_ortho_roche_ab_ei['Roche Result'] == 'Positive')]['Biobank ID'].nunique()\n"
   ]
  },
  {
   "cell_type": "code",
   "execution_count": null,
   "metadata": {},
   "outputs": [],
   "source": []
  },
  {
   "cell_type": "markdown",
   "metadata": {},
   "source": [
    "### ei+/ortho+, discordant ab/ei"
   ]
  },
  {
   "cell_type": "code",
   "execution_count": null,
   "metadata": {
    "ExecuteTime": {
     "end_time": "2021-03-22T16:58:33.613086Z",
     "start_time": "2021-03-22T16:58:33.593083Z"
    }
   },
   "outputs": [],
   "source": [
    "ab_ei_disc_ei_ortho_pos = noncontrols_discordant_ab_ei[(noncontrols_discordant_ab_ei['outcome_ei_str'] == 'Positive')&\n",
    "                            (noncontrols_discordant_ab_ei['Ortho Result'] == 'Positive')]#.merge(master_list)\n",
    "\n",
    "ab_ei_disc_ei_ortho_pos['Tested'] = 'EI+, Ortho+, Ab-, Roche-'\n",
    "display(ab_ei_disc_ei_ortho_pos['Biobank ID'].nunique())\n",
    "ab_ei_disc_ei_ortho_pos\n"
   ]
  },
  {
   "cell_type": "code",
   "execution_count": null,
   "metadata": {
    "ExecuteTime": {
     "end_time": "2021-03-22T16:58:33.839100Z",
     "start_time": "2021-03-22T16:58:33.834100Z"
    }
   },
   "outputs": [],
   "source": [
    "ab_ei_disc_ei_ortho_pos['Biobank ID'].nunique()"
   ]
  },
  {
   "cell_type": "markdown",
   "metadata": {},
   "source": [
    "### **2.12.2021**; N = 23+9;  Individuals who are positive on >=2 testing platforms"
   ]
  },
  {
   "cell_type": "code",
   "execution_count": null,
   "metadata": {
    "ExecuteTime": {
     "end_time": "2021-03-22T16:58:34.644152Z",
     "start_time": "2021-03-22T16:58:34.620149Z"
    }
   },
   "outputs": [],
   "source": [
    "the20_order = pd.read_csv(data_directory+'the20_order.csv')\n",
    "the20_order"
   ]
  },
  {
   "cell_type": "code",
   "execution_count": null,
   "metadata": {
    "ExecuteTime": {
     "end_time": "2021-03-22T16:58:34.974168Z",
     "start_time": "2021-03-22T16:58:34.969166Z"
    }
   },
   "outputs": [],
   "source": [
    "non_controls.columns"
   ]
  },
  {
   "cell_type": "code",
   "execution_count": null,
   "metadata": {
    "ExecuteTime": {
     "end_time": "2021-03-22T16:58:35.324188Z",
     "start_time": "2021-03-22T16:58:35.253183Z"
    }
   },
   "outputs": [],
   "source": [
    "the21_and_2 = pd.concat([ab_ei_disc_ei_ortho_pos, ab_ei_disc_ab_roche_pos, \n",
    "                         ab_ei_disc_ab_ortho_pos, ab_ei_disc_ei_roche_pos\n",
    "                        ]).merge(batch1to5_ab_ei_recalculated_m1, 'left').reset_index().drop('index', axis = 1)\n",
    "\n",
    "the21_and_2"
   ]
  },
  {
   "cell_type": "code",
   "execution_count": null,
   "metadata": {
    "ExecuteTime": {
     "end_time": "2021-03-22T16:58:35.637206Z",
     "start_time": "2021-03-22T16:58:35.631207Z"
    }
   },
   "outputs": [],
   "source": [
    "the21_and_2.columns"
   ]
  },
  {
   "cell_type": "code",
   "execution_count": null,
   "metadata": {
    "ExecuteTime": {
     "end_time": "2021-03-22T16:58:35.891223Z",
     "start_time": "2021-03-22T16:58:35.874224Z"
    }
   },
   "outputs": [],
   "source": [
    "the9_ab_ei_ortho_roche.sort_values('DateBloodSampleCollected')"
   ]
  },
  {
   "cell_type": "code",
   "execution_count": null,
   "metadata": {
    "ExecuteTime": {
     "end_time": "2021-03-22T16:58:36.199242Z",
     "start_time": "2021-03-22T16:58:36.191242Z"
    }
   },
   "outputs": [],
   "source": [
    "ortho_roche_results1[ortho_roche_results1['Biobank ID'] == \"A977982923\"].drop_duplicates()"
   ]
  },
  {
   "cell_type": "code",
   "execution_count": null,
   "metadata": {
    "ExecuteTime": {
     "end_time": "2021-03-22T16:58:37.325314Z",
     "start_time": "2021-03-22T16:58:37.321309Z"
    }
   },
   "outputs": [],
   "source": [
    "the9_ab_ei_ortho_roche.columns"
   ]
  },
  {
   "cell_type": "code",
   "execution_count": null,
   "metadata": {
    "ExecuteTime": {
     "end_time": "2021-03-22T16:58:37.713342Z",
     "start_time": "2021-03-22T16:58:37.708334Z"
    }
   },
   "outputs": [],
   "source": [
    "23+9"
   ]
  },
  {
   "cell_type": "code",
   "execution_count": null,
   "metadata": {
    "ExecuteTime": {
     "end_time": "2021-03-22T16:58:38.320370Z",
     "start_time": "2021-03-22T16:58:38.312371Z"
    }
   },
   "outputs": [],
   "source": [
    "all_pos_on_2platforms['Biobank ID'].nunique()"
   ]
  },
  {
   "cell_type": "code",
   "execution_count": null,
   "metadata": {
    "ExecuteTime": {
     "end_time": "2021-03-22T16:58:38.566385Z",
     "start_time": "2021-03-22T16:58:38.561385Z"
    }
   },
   "outputs": [],
   "source": [
    "9+21+1+1"
   ]
  },
  {
   "cell_type": "code",
   "execution_count": null,
   "metadata": {
    "ExecuteTime": {
     "end_time": "2021-03-22T16:59:43.694520Z",
     "start_time": "2021-03-22T16:59:43.690527Z"
    }
   },
   "outputs": [],
   "source": [
    "master_list_original.columns"
   ]
  },
  {
   "cell_type": "code",
   "execution_count": null,
   "metadata": {
    "ExecuteTime": {
     "end_time": "2021-03-22T17:00:21.650438Z",
     "start_time": "2021-03-22T17:00:21.588431Z"
    }
   },
   "outputs": [],
   "source": [
    "the23 = the20_order[['Order','biobank_id']].merge(the21_and_2,'right').sort_values('Order')\n",
    "the23.loc[the23.Order.isnull(), 'Order'] = range(30,33) #next starts at 33?\n",
    "the23.biobank_id = the23.biobank_id.astype('int64')\n",
    "the23 = master_list_original[['participant_id','biobank_id','state','SexAtBirth','Age','race']].merge(the23)#sort_values('Order')\n",
    "the23#.columns"
   ]
  },
  {
   "cell_type": "code",
   "execution_count": null,
   "metadata": {
    "ExecuteTime": {
     "end_time": "2021-03-22T17:00:22.710789Z",
     "start_time": "2021-03-22T17:00:22.706782Z"
    }
   },
   "outputs": [],
   "source": [
    "the23.biobank_id.nunique()"
   ]
  },
  {
   "cell_type": "code",
   "execution_count": null,
   "metadata": {
    "ExecuteTime": {
     "end_time": "2021-03-22T17:00:23.218815Z",
     "start_time": "2021-03-22T17:00:23.195813Z"
    }
   },
   "outputs": [],
   "source": [
    "the23 = the23[['Order', 'Biobank ID', 'participant_id', 'biobank_id', 'DateBloodSampleCollected', 'state',\n",
    "       'Age','SexAtBirth','race', 'od_ei', 'od_ab', 'Ortho Score','Roche Score']].sort_values('Order')\n",
    "the23"
   ]
  },
  {
   "cell_type": "code",
   "execution_count": null,
   "metadata": {
    "ExecuteTime": {
     "end_time": "2021-03-22T17:00:23.479834Z",
     "start_time": "2021-03-22T17:00:23.465834Z"
    }
   },
   "outputs": [],
   "source": [
    "the23[['Order', 'DateBloodSampleCollected', 'state',\n",
    "       'Age','SexAtBirth','race']].rename(columns = {'Order':'ID'}).sort_values('ID')"
   ]
  },
  {
   "cell_type": "code",
   "execution_count": null,
   "metadata": {
    "ExecuteTime": {
     "end_time": "2021-03-22T17:00:24.303885Z",
     "start_time": "2021-03-22T17:00:24.285881Z"
    }
   },
   "outputs": [],
   "source": [
    "the23[['Order', 'DateBloodSampleCollected', 'state',\n",
    "       'Age','SexAtBirth','race', 'od_ei', 'od_ab', 'Ortho Score','Roche Score']].rename(columns = {'Order':'ID'})"
   ]
  },
  {
   "cell_type": "code",
   "execution_count": null,
   "metadata": {
    "ExecuteTime": {
     "end_time": "2021-03-22T17:00:25.210169Z",
     "start_time": "2021-03-22T17:00:25.204169Z"
    }
   },
   "outputs": [],
   "source": [
    "the23.to_csv(data_directory+'the23_order.csv', index = False)"
   ]
  },
  {
   "cell_type": "code",
   "execution_count": null,
   "metadata": {
    "ExecuteTime": {
     "end_time": "2021-03-22T17:00:38.744113Z",
     "start_time": "2021-03-22T17:00:38.738113Z"
    }
   },
   "outputs": [],
   "source": [
    "the23.count()"
   ]
  },
  {
   "cell_type": "markdown",
   "metadata": {},
   "source": [
    "#### **2.12.2021 Batch 5 Specimens to be sent to Ligia Lab**"
   ]
  },
  {
   "cell_type": "code",
   "execution_count": null,
   "metadata": {
    "ExecuteTime": {
     "end_time": "2021-03-22T17:00:46.504852Z",
     "start_time": "2021-03-22T17:00:46.479850Z"
    }
   },
   "outputs": [],
   "source": [
    "## all who are pos on 2+ platforms, for batch 5\n",
    "the9_ab_ei_ortho_roche['Tested'] = 'Ab+, EI+'\n",
    "\n",
    "all_pos_on_2platforms = pd.concat([the21_and_2, the9_ab_ei_ortho_roche.merge(master_list_original[['Biobank ID','biobank_id']])])\n",
    "all_pos_on_2platforms_batch5 = all_pos_on_2platforms[all_pos_on_2platforms.batch == 5][['Biobank ID', 'Tested']]\n",
    "\n",
    "all_pos_on_2platforms_batch5.to_csv(data_directory+'Titers_LigiaLab_5_specimens_2.12.2021.csv', index = False)\n",
    "all_pos_on_2platforms_batch5"
   ]
  },
  {
   "cell_type": "markdown",
   "metadata": {},
   "source": [
    "## Ab, Roche, AB, EI for ALL non controls"
   ]
  },
  {
   "cell_type": "code",
   "execution_count": null,
   "metadata": {},
   "outputs": [],
   "source": []
  },
  {
   "cell_type": "markdown",
   "metadata": {},
   "source": [
    "### AB and Ortho"
   ]
  },
  {
   "cell_type": "code",
   "execution_count": null,
   "metadata": {
    "ExecuteTime": {
     "end_time": "2021-03-22T17:00:47.281940Z",
     "start_time": "2021-03-22T17:00:47.274936Z"
    }
   },
   "outputs": [],
   "source": [
    "noncontrols_ortho_roche_ab_ei[(noncontrols_ortho_roche_ab_ei['outcome_ab'] == 1)&\n",
    "                             (noncontrols_ortho_roche_ab_ei['Ortho Result'] == 'Positive')]['Biobank ID'].nunique()\n"
   ]
  },
  {
   "cell_type": "code",
   "execution_count": null,
   "metadata": {
    "ExecuteTime": {
     "end_time": "2021-03-22T17:00:47.621976Z",
     "start_time": "2021-03-22T17:00:47.615975Z"
    }
   },
   "outputs": [],
   "source": [
    "noncontrols_ortho_roche_ab_ei[(noncontrols_ortho_roche_ab_ei['outcome_ab'] == 0)&\n",
    "                             (noncontrols_ortho_roche_ab_ei['Ortho Result'] == 'Positive')]['Biobank ID'].nunique()\n",
    "\n"
   ]
  },
  {
   "cell_type": "code",
   "execution_count": null,
   "metadata": {
    "ExecuteTime": {
     "end_time": "2021-03-22T17:00:47.903005Z",
     "start_time": "2021-03-22T17:00:47.897003Z"
    }
   },
   "outputs": [],
   "source": [
    "noncontrols_ortho_roche_ab_ei[(noncontrols_ortho_roche_ab_ei['outcome_ab'] == 1)&\n",
    "                             (noncontrols_ortho_roche_ab_ei['Ortho Result'] == 'Negative')]['Biobank ID'].nunique()\n"
   ]
  },
  {
   "cell_type": "code",
   "execution_count": null,
   "metadata": {
    "ExecuteTime": {
     "end_time": "2021-03-22T17:00:49.075131Z",
     "start_time": "2021-03-22T17:00:49.069131Z"
    }
   },
   "outputs": [],
   "source": [
    "noncontrols_ortho_roche_ab_ei[(noncontrols_ortho_roche_ab_ei['outcome_ab'] == 0)&\n",
    "                             (noncontrols_ortho_roche_ab_ei['Ortho Result'] == 'Negative')]['Biobank ID'].nunique()\n"
   ]
  },
  {
   "cell_type": "code",
   "execution_count": null,
   "metadata": {
    "ExecuteTime": {
     "end_time": "2021-03-22T17:00:49.442172Z",
     "start_time": "2021-03-22T17:00:49.437171Z"
    }
   },
   "outputs": [],
   "source": [
    "309+21+115"
   ]
  },
  {
   "cell_type": "code",
   "execution_count": null,
   "metadata": {
    "ExecuteTime": {
     "end_time": "2021-03-22T17:00:49.646198Z",
     "start_time": "2021-03-22T17:00:49.641198Z"
    }
   },
   "outputs": [],
   "source": [
    "111+309+25"
   ]
  },
  {
   "cell_type": "markdown",
   "metadata": {},
   "source": [
    "### AB and Roche"
   ]
  },
  {
   "cell_type": "code",
   "execution_count": null,
   "metadata": {
    "ExecuteTime": {
     "end_time": "2021-03-22T17:00:55.173872Z",
     "start_time": "2021-03-22T17:00:55.166861Z"
    }
   },
   "outputs": [],
   "source": [
    "noncontrols_ortho_roche_ab_ei[(noncontrols_ortho_roche_ab_ei['outcome_ab'] == 1)&\n",
    "                             (noncontrols_ortho_roche_ab_ei['Roche Result'] == 'Positive')]['Biobank ID'].nunique()\n"
   ]
  },
  {
   "cell_type": "code",
   "execution_count": null,
   "metadata": {
    "ExecuteTime": {
     "end_time": "2021-03-22T17:00:55.389887Z",
     "start_time": "2021-03-22T17:00:55.383886Z"
    }
   },
   "outputs": [],
   "source": [
    "noncontrols_ortho_roche_ab_ei[(noncontrols_ortho_roche_ab_ei['outcome_ab'] == 0)&\n",
    "                             (noncontrols_ortho_roche_ab_ei['Roche Result'] == 'Positive')]['Biobank ID'].nunique()\n",
    "\n"
   ]
  },
  {
   "cell_type": "code",
   "execution_count": null,
   "metadata": {
    "ExecuteTime": {
     "end_time": "2021-03-22T17:00:55.639916Z",
     "start_time": "2021-03-22T17:00:55.633917Z"
    }
   },
   "outputs": [],
   "source": [
    "noncontrols_ortho_roche_ab_ei[(noncontrols_ortho_roche_ab_ei['outcome_ab'] == 1)&\n",
    "                             (noncontrols_ortho_roche_ab_ei['Roche Result'] == 'Negative')]['Biobank ID'].nunique()\n"
   ]
  },
  {
   "cell_type": "code",
   "execution_count": null,
   "metadata": {
    "ExecuteTime": {
     "end_time": "2021-03-22T17:00:55.851941Z",
     "start_time": "2021-03-22T17:00:55.846934Z"
    }
   },
   "outputs": [],
   "source": [
    "noncontrols_ortho_roche_ab_ei[(noncontrols_ortho_roche_ab_ei['outcome_ab'] == 0)&\n",
    "                             (noncontrols_ortho_roche_ab_ei['Roche Result'] == 'Negative')]['Biobank ID'].nunique()\n"
   ]
  },
  {
   "cell_type": "code",
   "execution_count": null,
   "metadata": {
    "ExecuteTime": {
     "end_time": "2021-03-22T17:00:56.813886Z",
     "start_time": "2021-03-22T17:00:56.809882Z"
    }
   },
   "outputs": [],
   "source": [
    "114+329"
   ]
  },
  {
   "cell_type": "code",
   "execution_count": null,
   "metadata": {
    "ExecuteTime": {
     "end_time": "2021-03-22T17:00:57.029914Z",
     "start_time": "2021-03-22T17:00:57.025908Z"
    }
   },
   "outputs": [],
   "source": [
    "115+330"
   ]
  },
  {
   "cell_type": "code",
   "execution_count": null,
   "metadata": {},
   "outputs": [],
   "source": []
  },
  {
   "cell_type": "markdown",
   "metadata": {},
   "source": [
    "### EI and Ortho"
   ]
  },
  {
   "cell_type": "code",
   "execution_count": null,
   "metadata": {
    "ExecuteTime": {
     "end_time": "2021-01-16T01:06:39.665615Z",
     "start_time": "2021-01-16T01:06:39.660614Z"
    }
   },
   "outputs": [],
   "source": [
    "noncontrols_ortho_roche_ab_ei[(noncontrols_ortho_roche_ab_ei['outcome_ei'] == 1)&\n",
    "                             (noncontrols_ortho_roche_ab_ei['Ortho Result'] == 'Positive')]['Biobank ID'].nunique()\n"
   ]
  },
  {
   "cell_type": "code",
   "execution_count": null,
   "metadata": {
    "ExecuteTime": {
     "end_time": "2021-01-16T01:06:54.108625Z",
     "start_time": "2021-01-16T01:06:54.103625Z"
    }
   },
   "outputs": [],
   "source": [
    "noncontrols_ortho_roche_ab_ei[(noncontrols_ortho_roche_ab_ei['outcome_ei'] == 0)&\n",
    "                             (noncontrols_ortho_roche_ab_ei['Ortho Result'] == 'Positive')]['Biobank ID'].nunique()\n",
    "\n"
   ]
  },
  {
   "cell_type": "code",
   "execution_count": null,
   "metadata": {
    "ExecuteTime": {
     "end_time": "2021-01-16T01:07:37.920596Z",
     "start_time": "2021-01-16T01:07:37.913595Z"
    }
   },
   "outputs": [],
   "source": [
    "noncontrols_ortho_roche_ab_ei[(noncontrols_ortho_roche_ab_ei['outcome_ei'] == 1)&\n",
    "                             (noncontrols_ortho_roche_ab_ei['Ortho Result'] == 'Negative')]['Biobank ID'].nunique()\n"
   ]
  },
  {
   "cell_type": "code",
   "execution_count": null,
   "metadata": {
    "ExecuteTime": {
     "end_time": "2021-01-16T01:07:59.049192Z",
     "start_time": "2021-01-16T01:07:59.043189Z"
    }
   },
   "outputs": [],
   "source": [
    "noncontrols_ortho_roche_ab_ei[(noncontrols_ortho_roche_ab_ei['outcome_ei'] == 0)&\n",
    "                             (noncontrols_ortho_roche_ab_ei['Ortho Result'] == 'Negative')]['Biobank ID'].nunique()\n"
   ]
  },
  {
   "cell_type": "code",
   "execution_count": null,
   "metadata": {
    "ExecuteTime": {
     "end_time": "2021-01-16T01:09:00.843353Z",
     "start_time": "2021-01-16T01:09:00.838369Z"
    }
   },
   "outputs": [],
   "source": [
    "25+420"
   ]
  },
  {
   "cell_type": "markdown",
   "metadata": {},
   "source": [
    "### EI and Roche"
   ]
  },
  {
   "cell_type": "code",
   "execution_count": null,
   "metadata": {
    "ExecuteTime": {
     "end_time": "2021-01-16T01:09:16.016159Z",
     "start_time": "2021-01-16T01:09:16.010161Z"
    }
   },
   "outputs": [],
   "source": [
    "noncontrols_ortho_roche_ab_ei[(noncontrols_ortho_roche_ab_ei['outcome_ei'] == 1)&\n",
    "                             (noncontrols_ortho_roche_ab_ei['Roche Result'] == 'Positive')]['Biobank ID'].nunique()\n"
   ]
  },
  {
   "cell_type": "code",
   "execution_count": null,
   "metadata": {
    "ExecuteTime": {
     "end_time": "2021-01-16T01:09:40.763495Z",
     "start_time": "2021-01-16T01:09:40.757495Z"
    }
   },
   "outputs": [],
   "source": [
    "noncontrols_ortho_roche_ab_ei[(noncontrols_ortho_roche_ab_ei['outcome_ei'] == 0)&\n",
    "                             (noncontrols_ortho_roche_ab_ei['Roche Result'] == 'Positive')]['Biobank ID'].nunique()\n",
    "\n"
   ]
  },
  {
   "cell_type": "code",
   "execution_count": null,
   "metadata": {
    "ExecuteTime": {
     "end_time": "2021-01-16T01:10:01.756334Z",
     "start_time": "2021-01-16T01:10:01.750326Z"
    }
   },
   "outputs": [],
   "source": [
    "noncontrols_ortho_roche_ab_ei[(noncontrols_ortho_roche_ab_ei['outcome_ei'] == 1)&\n",
    "                             (noncontrols_ortho_roche_ab_ei['Roche Result'] == 'Negative')]['Biobank ID'].nunique()\n"
   ]
  },
  {
   "cell_type": "code",
   "execution_count": null,
   "metadata": {
    "ExecuteTime": {
     "end_time": "2021-01-16T01:10:21.842094Z",
     "start_time": "2021-01-16T01:10:21.836094Z"
    }
   },
   "outputs": [],
   "source": [
    "noncontrols_ortho_roche_ab_ei[(noncontrols_ortho_roche_ab_ei['outcome_ei'] == 0)&\n",
    "                             (noncontrols_ortho_roche_ab_ei['Roche Result'] == 'Negative')]['Biobank ID'].nunique()\n"
   ]
  },
  {
   "cell_type": "code",
   "execution_count": null,
   "metadata": {
    "ExecuteTime": {
     "end_time": "2021-01-16T01:11:05.860216Z",
     "start_time": "2021-01-16T01:11:05.856211Z"
    }
   },
   "outputs": [],
   "source": [
    "312+133"
   ]
  },
  {
   "cell_type": "code",
   "execution_count": null,
   "metadata": {},
   "outputs": [],
   "source": []
  },
  {
   "cell_type": "code",
   "execution_count": null,
   "metadata": {},
   "outputs": [],
   "source": []
  },
  {
   "cell_type": "code",
   "execution_count": null,
   "metadata": {},
   "outputs": [],
   "source": []
  },
  {
   "cell_type": "code",
   "execution_count": null,
   "metadata": {},
   "outputs": [],
   "source": []
  },
  {
   "cell_type": "markdown",
   "metadata": {},
   "source": [
    "### Optical Density Plots"
   ]
  },
  {
   "cell_type": "code",
   "execution_count": null,
   "metadata": {},
   "outputs": [],
   "source": [
    "for the opticl density plot I must remove the QNS, otherwise it will mess up "
   ]
  },
  {
   "cell_type": "code",
   "execution_count": null,
   "metadata": {
    "ExecuteTime": {
     "end_time": "2021-06-17T21:51:29.277030Z",
     "start_time": "2021-06-17T21:51:29.274027Z"
    }
   },
   "outputs": [],
   "source": [
    "#.getsourcelines(agree)\n",
    "def agree(DF, col1, col2, agreename):\n",
    "    DF[agreename] = DF[col1] == DF[col2]\n",
    "    DF[agreename] = DF[agreename].replace(True, 1).replace(False, 0)\n",
    "    DF[agreename] .unique()\n",
    "  \n",
    "    return DF"
   ]
  },
  {
   "cell_type": "code",
   "execution_count": null,
   "metadata": {
    "ExecuteTime": {
     "end_time": "2021-06-17T22:03:22.929798Z",
     "start_time": "2021-06-17T22:03:22.580782Z"
    }
   },
   "outputs": [],
   "source": [
    "pos_control_od_plot = batch1to5_ab_ei_recalculated_m1[batch1to5_ab_ei_recalculated_m1['Positive Control'] == \"Yes\"]\n",
    "agree(pos_control_od_plot, 'outcome_ab', 'outcome_ei', 'ab_ei_agree')\n",
    "\n",
    "pos_control_od_plot['ab_ei_agree'] = pd.Categorical(pos_control_od_plot['ab_ei_agree'])\n",
    "\n",
    "## roche/ei\n",
    "\n",
    "(ggplot(pos_control_od_plot, aes(x=\"od_ab\",y='od_ei', color = \"ab_ei_agree\"))\n",
    "+geom_point(size = 3)\n",
    "+theme_classic()\n",
    "+xlab(\"Abbott CIA\")\n",
    "+ylab(\"EI Optical Density Ratio\")+theme_classic()\n",
    "+ggtitle(\"Raw Values For EI and Roche: Non Controls\")\n",
    "+geom_hline(yintercept=1.1)\n",
    "+geom_vline(xintercept=1.4))\n",
    "\n"
   ]
  },
  {
   "cell_type": "code",
   "execution_count": null,
   "metadata": {
    "ExecuteTime": {
     "end_time": "2021-06-17T21:51:29.478034Z",
     "start_time": "2021-06-17T21:51:29.467035Z"
    }
   },
   "outputs": [],
   "source": [
    "noncontrols_ortho_roche_ab_ei['outcome_ab_str'] = noncontrols_ortho_roche_ab_ei['outcome_ab'].replace(0,'Negative').replace(1, 'Positive')\n",
    "noncontrols_ortho_roche_ab_ei['outcome_ei_str'] = noncontrols_ortho_roche_ab_ei['outcome_ei'].replace(0,'Negative').replace(1, 'Positive')"
   ]
  },
  {
   "cell_type": "code",
   "execution_count": null,
   "metadata": {
    "ExecuteTime": {
     "end_time": "2021-06-17T21:51:30.074063Z",
     "start_time": "2021-06-17T21:51:30.061057Z"
    }
   },
   "outputs": [],
   "source": [
    "noncontrols_ortho_roche_ab_ei['outcome_ortho'] = noncontrols_ortho_roche_ab_ei['Ortho Result']\n",
    "noncontrols_ortho_roche_ab_ei['outcome_roche'] = noncontrols_ortho_roche_ab_ei['Roche Result']\n",
    "noncontrols_ortho_roche_ab_ei[['outcome_ortho','outcome_roche']] = noncontrols_ortho_roche_ab_ei[['outcome_ortho','outcome_roche']].replace('QNS',None).replace('Negative',0).replace('Positive',1)\n",
    "\n",
    "agree(noncontrols_ortho_roche_ab_ei, 'Roche Result', 'outcome_ab_str', 'roche_ab_agree')\n",
    "agree(noncontrols_ortho_roche_ab_ei, 'Ortho Result', 'outcome_ei_str', 'ortho_ei_agree')\n",
    "agree(noncontrols_ortho_roche_ab_ei, 'Roche Result', 'outcome_ei_str', 'roche_ei_agree')\n",
    "agree(noncontrols_ortho_roche_ab_ei, 'Ortho Result', 'outcome_ab_str', 'ortho_ab_agree')\n"
   ]
  },
  {
   "cell_type": "code",
   "execution_count": null,
   "metadata": {
    "ExecuteTime": {
     "end_time": "2021-06-17T21:51:30.268067Z",
     "start_time": "2021-06-17T21:51:30.256065Z"
    }
   },
   "outputs": [],
   "source": [
    "noncontrols_od_plot_roche_ab_ei = noncontrols_ortho_roche_ab_ei[~noncontrols_ortho_roche_ab_ei['Roche Score'].isnull()][['Biobank ID', 'outcome_roche', 'Roche Score', \n",
    "                                                                                                                         'outcome_ab', 'outcome_ei',\n",
    "                                                                                                                         'od_ab', 'od_ei','roche_ei_agree', 'roche_ab_agree']].drop_duplicates()\n",
    "\n",
    "noncontrols_od_plot_ortho_ab_ei = noncontrols_ortho_roche_ab_ei[~noncontrols_ortho_roche_ab_ei['Ortho Score'].isnull()][['Biobank ID', 'outcome_ortho', 'Ortho Score', \n",
    "                                                                                                                         'outcome_ab', 'outcome_ei',\n",
    "                                                                                                                         'od_ab', 'od_ei','ortho_ei_agree', 'ortho_ab_agree']].drop_duplicates()"
   ]
  },
  {
   "cell_type": "code",
   "execution_count": null,
   "metadata": {
    "ExecuteTime": {
     "end_time": "2021-01-16T02:17:51.278514Z",
     "start_time": "2021-01-16T02:17:51.258513Z"
    }
   },
   "outputs": [],
   "source": [
    "noncontrols_od_plot_ortho_ab_ei"
   ]
  },
  {
   "cell_type": "code",
   "execution_count": null,
   "metadata": {
    "ExecuteTime": {
     "end_time": "2021-01-16T02:17:21.870661Z",
     "start_time": "2021-01-16T02:17:21.479640Z"
    }
   },
   "outputs": [],
   "source": [
    "noncontrols_od_plot_ortho_ab_ei['ortho_ei_agree'] = pd.Categorical(noncontrols_od_plot_ortho_ab_ei['ortho_ei_agree'])\n",
    "noncontrols_od_plot_ortho_ab_ei['ortho_ab_agree'] = pd.Categorical(noncontrols_od_plot_ortho_ab_ei['ortho_ab_agree'])\n",
    "\n",
    "## ortho/ei\n",
    "\n",
    "(ggplot(noncontrols_od_plot_ortho_ab_ei2, aes(x=\"od_ei\",y='Ortho Score', fill = \"ortho_ei_agree\"))\n",
    "+geom_point(size = 3)\n",
    "+theme_classic()\n",
    "+xlab(\"EI CIA\")\n",
    "+ylab(\"EI Optical Density Ratio\")+theme_classic()\n",
    "+ggtitle(\"Raw Values For EI and Ortho: Non Controls\")\n",
    "+geom_hline(yintercept=1)\n",
    "+geom_vline(xintercept=1.1))\n",
    "\n"
   ]
  },
  {
   "cell_type": "code",
   "execution_count": null,
   "metadata": {
    "ExecuteTime": {
     "end_time": "2021-01-16T02:25:07.460123Z",
     "start_time": "2021-01-16T02:25:07.110105Z"
    }
   },
   "outputs": [],
   "source": [
    "## ortho/ab\n",
    "\n",
    "(ggplot(noncontrols_od_plot_ortho_ab_ei, aes(x=\"od_ab\",y='Ortho Score', fill = \"ortho_ab_agree\"))\n",
    "+geom_point(size = 3)\n",
    "+theme_classic()\n",
    "+xlab(\"Abbott CIA\")\n",
    "+ylab(\"AB Optical Density Ratio\")+theme_classic()\n",
    "+ggtitle(\"Raw Values For Abbott and Ortho: Non Controls\")\n",
    "+geom_hline(yintercept=1)\n",
    "+geom_vline(xintercept=1.4))\n",
    "\n"
   ]
  },
  {
   "cell_type": "markdown",
   "metadata": {},
   "source": [
    "-----------------------------"
   ]
  },
  {
   "cell_type": "code",
   "execution_count": null,
   "metadata": {
    "ExecuteTime": {
     "end_time": "2021-01-16T02:31:24.351757Z",
     "start_time": "2021-01-16T02:31:23.993743Z"
    }
   },
   "outputs": [],
   "source": [
    "noncontrols_od_plot_roche_ab_ei['roche_ei_agree'] = pd.Categorical(noncontrols_od_plot_roche_ab_ei['roche_ei_agree'])\n",
    "noncontrols_od_plot_roche_ab_ei['roche_ab_agree'] = pd.Categorical(noncontrols_od_plot_roche_ab_ei['roche_ab_agree'])\n",
    "\n",
    "## roche/ei\n",
    "\n",
    "(ggplot(noncontrols_od_plot_roche_ab_ei, aes(x=\"od_ei\",y='Roche Score', fill = \"roche_ei_agree\"))\n",
    "+geom_point(size = 3)\n",
    "+theme_classic()\n",
    "+xlab(\"EI CIA\")\n",
    "+ylab(\"EI Optical Density Ratio\")+theme_classic()\n",
    "+ggtitle(\"Raw Values For EI and Roche: Non Controls\")\n",
    "+geom_hline(yintercept=1)\n",
    "+geom_vline(xintercept=1.1))\n",
    "\n"
   ]
  },
  {
   "cell_type": "code",
   "execution_count": null,
   "metadata": {
    "ExecuteTime": {
     "end_time": "2021-01-16T02:36:03.473284Z",
     "start_time": "2021-01-16T02:36:03.106268Z"
    }
   },
   "outputs": [],
   "source": [
    "#roche/ab\n",
    "\n",
    "(ggplot(noncontrols_od_plot_roche_ab_ei, aes(x=\"od_ab\",y='Roche Score', fill = \"roche_ab_agree\"))\n",
    "+geom_point(size = 3)\n",
    "+theme_classic()\n",
    "+xlab(\"Abbott CIA\")\n",
    "+ylab(\"AB Optical Density Ratio\")+theme_classic()\n",
    "+ggtitle(\"Raw Values For Abbott and Roche: Non Controls\")\n",
    "+geom_hline(yintercept=1)\n",
    "+geom_vline(xintercept=1.4))\n",
    "\n"
   ]
  },
  {
   "cell_type": "code",
   "execution_count": null,
   "metadata": {},
   "outputs": [],
   "source": []
  },
  {
   "cell_type": "markdown",
   "metadata": {},
   "source": [
    "# 10.16.2020 Update Table with EHR data "
   ]
  },
  {
   "cell_type": "markdown",
   "metadata": {},
   "source": [
    "## load EHR data"
   ]
  },
  {
   "cell_type": "code",
   "execution_count": null,
   "metadata": {
    "ExecuteTime": {
     "end_time": "2020-11-09T17:27:40.087612Z",
     "start_time": "2020-11-09T17:27:39.956604Z"
    }
   },
   "outputs": [],
   "source": [
    "# outpatient_visits = pd.read_excel(data_directory+'EHR_for_serology.xlsx',sheet_name=0)\n",
    "# diagnoses = pd.read_excel(data_directory+'EHR_for_serology.xlsx',sheet_name=1)\n",
    "\n",
    "# outpatient_visits['participant_id'] = outpatient_visits['participant_id'].astype('int64')\n",
    "# diagnoses['participant_id'] = diagnoses['participant_id'].astype('int64')\n",
    "\n",
    "\n",
    "EHR_for_serology = pd.read_excel(data_directory+'EHR_for_serology_resp.xlsx',sheet_name=1)\n",
    "EHR_for_serology['participant_id'] = EHR_for_serology['participant_id'].astype('int64')\n",
    "EHR_for_serology['person_id'] = EHR_for_serology['person_id'].astype('int64')\n",
    "\n",
    "EHR_for_serology\n"
   ]
  },
  {
   "cell_type": "code",
   "execution_count": null,
   "metadata": {
    "ExecuteTime": {
     "end_time": "2020-10-21T22:00:59.854310Z",
     "start_time": "2020-10-21T22:00:59.849305Z"
    }
   },
   "outputs": [],
   "source": [
    "outpatient_visits.participant_id.unique()"
   ]
  },
  {
   "cell_type": "markdown",
   "metadata": {},
   "source": [
    "## the 12: eb/ei disco but ortho/ei cocordant"
   ]
  },
  {
   "cell_type": "code",
   "execution_count": null,
   "metadata": {
    "ExecuteTime": {
     "end_time": "2020-11-09T17:32:39.405454Z",
     "start_time": "2020-11-09T17:32:39.394454Z"
    }
   },
   "outputs": [],
   "source": [
    "ab_ei_disc_ei_ortho_pos.columns"
   ]
  },
  {
   "cell_type": "code",
   "execution_count": null,
   "metadata": {
    "ExecuteTime": {
     "end_time": "2020-10-21T22:01:00.155330Z",
     "start_time": "2020-10-21T22:01:00.144326Z"
    }
   },
   "outputs": [],
   "source": [
    "ab_ei_disc_ei_ortho_pos['participant_id'] = ab_ei_disc_ei_ortho_pos['participant_id'].astype('int64')\n",
    "ab_ei_disc_ei_ortho_pos.participant_id.unique()"
   ]
  },
  {
   "cell_type": "code",
   "execution_count": null,
   "metadata": {
    "ExecuteTime": {
     "end_time": "2020-10-21T22:01:00.283339Z",
     "start_time": "2020-10-21T22:01:00.273340Z"
    }
   },
   "outputs": [],
   "source": [
    "outpatient_visits_merged"
   ]
  },
  {
   "cell_type": "markdown",
   "metadata": {},
   "source": [
    "### Outpatient visits"
   ]
  },
  {
   "cell_type": "code",
   "execution_count": null,
   "metadata": {
    "ExecuteTime": {
     "end_time": "2020-10-21T22:01:00.465359Z",
     "start_time": "2020-10-21T22:01:00.451358Z"
    }
   },
   "outputs": [],
   "source": [
    "outpatient_visits_merged = ab_ei_disc_ei_ortho_pos[['participant_id','biobank_id', 'Roche Result',\n",
    "       'Ortho Result', 'outcome_ab_str', 'outcome_ei_str', 'state',\n",
    "       'batch']].merge(master_list_original[['participant_id','race','SexAtBirth', 'DateOfBirth', 'DateBloodSampleCollected']]).merge(outpatient_visits, on = 'participant_id').drop_duplicates()\n",
    "\n",
    "for p in outpatient_visits_merged.participant_id.unique():\n",
    "    df = outpatient_visits_merged[outpatient_visits_merged.participant_id == p].sort_values('visit_start_date')\n",
    "    print(colored('pid :'+ str(p), 'yellow'))\n",
    "    display(df[['race','SexAtBirth','DateOfBirth','state', 'DateBloodSampleCollected', 'visit_start_date']])\n",
    "    print(str(df.visit_start_date).replace('-', '/'))\n",
    "    #display(df)"
   ]
  },
  {
   "cell_type": "markdown",
   "metadata": {},
   "source": [
    "yyyy - mm-dd"
   ]
  },
  {
   "cell_type": "markdown",
   "metadata": {},
   "source": [
    "### Diagnosis visits"
   ]
  },
  {
   "cell_type": "code",
   "execution_count": null,
   "metadata": {
    "ExecuteTime": {
     "end_time": "2020-10-21T22:01:00.693375Z",
     "start_time": "2020-10-21T22:01:00.678373Z"
    }
   },
   "outputs": [],
   "source": [
    "diagnosis_merged = ab_ei_disc_ei_ortho_pos[['participant_id','biobank_id', 'Roche Result',\n",
    "       'Ortho Result', 'outcome_ab_str', 'outcome_ei_str', 'state',\n",
    "       'batch']].merge(master_list_original[['participant_id','race','SexAtBirth', 'DateOfBirth', 'DateBloodSampleCollected']]).merge(diagnoses, on = 'participant_id').drop_duplicates()\n",
    "\n",
    "for p in diagnosis_merged.participant_id.unique():\n",
    "    df = diagnosis_merged[diagnosis_merged.participant_id == p].sort_values('condition_start_date')\n",
    "    print(colored('\\n pid :'+ str(p), 'yellow'))\n",
    "    display(df[['race','SexAtBirth','DateOfBirth','state', 'DateBloodSampleCollected', 'condition_start_date', 'concept_name']])\n",
    "    print(colored(str(df.concept_name), 'red'))\n",
    "    print(colored('\\n'+str(df.condition_start_date).replace('-', '/'), 'magenta'))\n",
    "    display(df.shape)\n",
    "    \n",
    "    #display(df)"
   ]
  },
  {
   "cell_type": "code",
   "execution_count": null,
   "metadata": {
    "ExecuteTime": {
     "end_time": "2020-10-21T22:01:00.855388Z",
     "start_time": "2020-10-21T22:01:00.806381Z"
    }
   },
   "outputs": [],
   "source": [
    "batch123_eb_ei_recalculated_m#ecalculated"
   ]
  },
  {
   "cell_type": "markdown",
   "metadata": {},
   "source": [
    "## the 5 ab/ei pos "
   ]
  },
  {
   "cell_type": "code",
   "execution_count": null,
   "metadata": {
    "ExecuteTime": {
     "end_time": "2020-10-26T20:39:12.367226Z",
     "start_time": "2020-10-26T20:39:12.249217Z"
    }
   },
   "outputs": [],
   "source": [
    "no_TNP_noncontrols = no_TNP[['biobank_id','participant_id', 'Abbott Result', 'EUROIMMUN Result', 'batch']].merge(master_list_original[['biobank_id', 'participant_id', 'DateOfBirth', 'state',\n",
    "       'DateBloodSampleCollected',\n",
    "       'Positive Control', 'Negative Control', 'SexAtBirth', 'race']]).merge(batch123_eb_ei_recalculated_m[['biobank_id','od_ei','od_ab', 'outcome_ei','outcome_ab']]).drop_duplicates()#['biobank_id'].nunique()\n",
    "\n",
    "no_TNP_noncontrols_ebei_pos = no_TNP_noncontrols[(no_TNP_noncontrols['Abbott Result'] == 'POSITIVE')&\n",
    "                                                 (no_TNP_noncontrols['EUROIMMUN Result'] == 'POSITIVE')]\n",
    "\n",
    "no_TNP_noncontrols_ebei_pos['participant_id'] = no_TNP_noncontrols_ebei_pos['participant_id'].astype('int64')\n",
    "no_TNP_noncontrols_ebei_pos"
   ]
  },
  {
   "cell_type": "code",
   "execution_count": null,
   "metadata": {
    "ExecuteTime": {
     "end_time": "2020-11-09T17:42:23.408211Z",
     "start_time": "2020-11-09T17:42:23.402209Z"
    }
   },
   "outputs": [],
   "source": [
    "the5 = no_TNP_noncontrols[(no_TNP_noncontrols['outcome_ei'] == 1)&\n",
    "                   (no_TNP_noncontrols['outcome_ab'] == 1)]\n",
    "the5['participant_id'].nunique()"
   ]
  },
  {
   "cell_type": "code",
   "execution_count": null,
   "metadata": {
    "ExecuteTime": {
     "end_time": "2020-11-09T17:42:26.945875Z",
     "start_time": "2020-11-09T17:42:26.936874Z"
    }
   },
   "outputs": [],
   "source": [
    "the5[['participant_id','DateBloodSampleCollected']]"
   ]
  },
  {
   "cell_type": "code",
   "execution_count": null,
   "metadata": {
    "ExecuteTime": {
     "end_time": "2020-11-09T17:43:42.313208Z",
     "start_time": "2020-11-09T17:43:42.305213Z"
    }
   },
   "outputs": [],
   "source": [
    "the5.to_csv(data_directory+'the5_abei_pos_noncontrols.csv')"
   ]
  },
  {
   "cell_type": "code",
   "execution_count": null,
   "metadata": {
    "ExecuteTime": {
     "end_time": "2020-10-26T20:39:15.526652Z",
     "start_time": "2020-10-26T20:39:15.519652Z"
    }
   },
   "outputs": [],
   "source": [
    "the88 = no_TNP_noncontrols[(no_TNP_noncontrols['outcome_ei'] == 0)&\n",
    "                   (no_TNP_noncontrols['outcome_ab'] == 1)]\n",
    "the88['participant_id'].nunique()"
   ]
  },
  {
   "cell_type": "code",
   "execution_count": null,
   "metadata": {
    "ExecuteTime": {
     "end_time": "2020-10-26T20:39:15.812674Z",
     "start_time": "2020-10-26T20:39:15.804668Z"
    }
   },
   "outputs": [],
   "source": [
    "the99 = no_TNP_noncontrols[(no_TNP_noncontrols['outcome_ei'] == 1)&\n",
    "                   (no_TNP_noncontrols['outcome_ab'] == 0)]\n",
    "the99['participant_id'].nunique()"
   ]
  },
  {
   "cell_type": "code",
   "execution_count": null,
   "metadata": {
    "ExecuteTime": {
     "end_time": "2020-10-26T20:39:16.080686Z",
     "start_time": "2020-10-26T20:39:16.070684Z"
    }
   },
   "outputs": [],
   "source": [
    "the15064 = no_TNP_noncontrols[(no_TNP_noncontrols['outcome_ei'] == 0)&\n",
    "                   (no_TNP_noncontrols['outcome_ab'] == 0)]\n",
    "the15064['participant_id'].nunique()"
   ]
  },
  {
   "cell_type": "markdown",
   "metadata": {},
   "source": [
    "# Geographic distrbution/map on non controls"
   ]
  },
  {
   "cell_type": "code",
   "execution_count": null,
   "metadata": {
    "ExecuteTime": {
     "end_time": "2021-03-19T19:14:00.008141Z",
     "start_time": "2021-03-19T19:13:59.911136Z"
    }
   },
   "outputs": [],
   "source": [
    "my_dir = [file for file in glob.glob(data_directory + \"**/****.*\", recursive=True)]\n",
    "#sept_fileset = [file for file in glob.glob(location + \"**/***202009*.*\", recursive=True)]\n",
    "n = 0\n",
    "for file in my_dir:\n",
    "    #print()\n",
    "    print(n, file)\n",
    "    n+=1"
   ]
  },
  {
   "cell_type": "code",
   "execution_count": null,
   "metadata": {
    "ExecuteTime": {
     "end_time": "2021-03-19T19:14:00.196154Z",
     "start_time": "2021-03-19T19:14:00.156151Z"
    }
   },
   "outputs": [],
   "source": [
    "state_counts_plot = pd.read_csv('../DATA\\DSC2\\ state_counts_plot.csv')\n",
    "state_counts_plot"
   ]
  },
  {
   "cell_type": "code",
   "execution_count": null,
   "metadata": {
    "ExecuteTime": {
     "end_time": "2021-03-19T19:14:00.426168Z",
     "start_time": "2021-03-19T19:14:00.413167Z"
    }
   },
   "outputs": [],
   "source": [
    "study_sites = pd.read_sql('''SELECT site_id, hpo_id, organization_type, latitude, longitude \n",
    "            FROM rdr.site inner join rdr.hpo USING (hpo_id)''', cnx)\n",
    "\n",
    "study_sites[['site_id','hpo_id','organization_type']] = study_sites[['site_id','hpo_id','organization_type']].fillna(0)\n",
    "study_sites = study_sites.merge(OrganizationType())\n",
    "#study_sites['sign'] = '+'\n",
    "study_sites = study_sites[['site_id', 'latitude', 'longitude','Organization_Type']].drop_duplicates().groupby(['latitude', 'longitude','Organization_Type']).nunique().reset_index()\n",
    "study_sites"
   ]
  },
  {
   "cell_type": "code",
   "execution_count": null,
   "metadata": {
    "ExecuteTime": {
     "end_time": "2021-03-19T19:14:02.493301Z",
     "start_time": "2021-03-19T19:14:00.696185Z"
    }
   },
   "outputs": [],
   "source": [
    "state_counts_plot['fillit'] = ''\n",
    "\n",
    "for i in state_counts_plot.forlabel.index:\n",
    "    if state_counts_plot.state_count[i] <20:\n",
    "        state_counts_plot['fillit'][i] = 'light grey'\n",
    "    else:\n",
    "        state_counts_plot['fillit'][i] = 'light grey'"
   ]
  },
  {
   "cell_type": "code",
   "execution_count": null,
   "metadata": {
    "ExecuteTime": {
     "end_time": "2021-03-19T19:14:02.500300Z",
     "start_time": "2021-03-19T19:14:02.494304Z"
    }
   },
   "outputs": [],
   "source": [
    "state_counts_plot.forlabel = pd.Categorical(state_counts_plot.forlabel)"
   ]
  },
  {
   "cell_type": "code",
   "execution_count": null,
   "metadata": {
    "ExecuteTime": {
     "end_time": "2021-03-19T19:14:02.532305Z",
     "start_time": "2021-03-19T19:14:02.501301Z"
    }
   },
   "outputs": [],
   "source": [
    "state_centroids = pd.read_csv('../DATA\\DSC2\\ states_centroids.csv')[['ID','X','Y']]\n",
    "state_centroids.columns = ['region','x','y']\n",
    "state_centroids = state_centroids.merge(state_counts_plot[['region','forlabel']].drop_duplicates())"
   ]
  },
  {
   "cell_type": "code",
   "execution_count": null,
   "metadata": {
    "ExecuteTime": {
     "end_time": "2021-03-19T19:14:02.544305Z",
     "start_time": "2021-03-19T19:14:02.534303Z"
    }
   },
   "outputs": [],
   "source": [
    "state_centroids['other_state_count'] = ''\n",
    "\n",
    "for i in state_centroids.forlabel.index:\n",
    "    if state_centroids.forlabel[i] <20:\n",
    "        state_centroids['other_state_count'][i] = '<20'\n",
    "    else:\n",
    "        state_centroids['other_state_count'][i] = state_centroids['forlabel'][i]"
   ]
  },
  {
   "cell_type": "code",
   "execution_count": null,
   "metadata": {
    "ExecuteTime": {
     "end_time": "2021-03-19T19:14:02.548304Z",
     "start_time": "2021-03-19T19:14:02.545303Z"
    }
   },
   "outputs": [],
   "source": [
    "from plotnine import *"
   ]
  },
  {
   "cell_type": "code",
   "execution_count": null,
   "metadata": {
    "ExecuteTime": {
     "end_time": "2021-03-19T19:14:02.556306Z",
     "start_time": "2021-03-19T19:14:02.549304Z"
    }
   },
   "outputs": [],
   "source": [
    "plotnine.options.figure_size = (18,10)\n",
    "\n",
    "def geoplot(which_numbers):\n",
    "    \n",
    "    \n",
    "    plot =  (ggplot()\n",
    "        + geom_polygon(state_counts_plot, aes(x = 'long', y = 'lat',group = 'group'), fill=\"white\", colour = \"grey\")\n",
    "        + geom_polygon(state_counts_plot[state_counts_plot.state_count >20], \n",
    "                       aes(x = 'long', y = 'lat',group = 'group'), fill=\"#F5F5F5\", colour = \"black\")\n",
    "        + geom_polygon(state_counts_plot[state_counts_plot.state_count >1000], \n",
    "                       aes(x = 'long', y = 'lat',group = 'group'), fill=\"#D4D4D4\", colour = \"black\") \n",
    "             \n",
    "#         + geom_polygon(study_sites, aes(x = 'longitude', y = 'latitude', color = 'Organization_Type')\n",
    "#                     #, size = 10, color = 'darkblue'\n",
    "#                    ) \n",
    "\n",
    "\n",
    "        + geom_text(state_centroids, aes(x = 'x', y = 'y', label = which_numbers), size = 10) \n",
    "         #+ coord_flip()\n",
    "        +theme_classic()\n",
    "        + theme(title= element_text(size = 14, color = 'darkblue', \n",
    "                               fontweight='bold', va = 'center_baseline'))        #+annotate(text, pd.Categorical(state_counts_plot.forlabel))\n",
    "    #                  size = 8, va = 'bottom', ha = 'center', format_string = '{:g}')\n",
    "\n",
    "         + labs(x = '', y = '', title = \"Sample Distribution of AoU Specimens 1/02/2020 - 3/18/2020\")\n",
    "    #     + theme(legend_title= element_blank(), legend_position= 'right')\n",
    "    )   \n",
    "    return plot"
   ]
  },
  {
   "cell_type": "code",
   "execution_count": null,
   "metadata": {
    "ExecuteTime": {
     "end_time": "2021-03-19T19:14:03.642370Z",
     "start_time": "2021-03-19T19:14:02.557302Z"
    }
   },
   "outputs": [],
   "source": [
    "geoplot(which_numbers = 'other_state_count')"
   ]
  },
  {
   "cell_type": "code",
   "execution_count": null,
   "metadata": {
    "ExecuteTime": {
     "end_time": "2021-03-19T19:14:04.586428Z",
     "start_time": "2021-03-19T19:14:03.645371Z"
    }
   },
   "outputs": [],
   "source": [
    "geoplot(which_numbers = 'forlabel')"
   ]
  },
  {
   "cell_type": "code",
   "execution_count": null,
   "metadata": {
    "ExecuteTime": {
     "end_time": "2021-03-19T19:14:04.591432Z",
     "start_time": "2021-03-19T19:14:04.587425Z"
    }
   },
   "outputs": [],
   "source": [
    "## update 10/20 they just want a map with numbers\n",
    "options(repr.plot.width = 15, repr.plot.height = 10)\n",
    "ggplot(state_counts_plot, aes(x=long, y=lat, group = group), colour = \"grey\") +\n",
    "  geom_polygon(fill=\"white\", colour = \"black\") +\n",
    "  #geom_polygon(fill=\"light grey\", color = 'white') +\n",
    "  geom_label(aes(label = as.factor(forlabel)))+\n",
    "\n",
    "#  geom_polygon(data = filter(state_counts_plot, region %in% group100plus$region), \n",
    "#               aes(fill = `Count by State`))+ scale_fill_viridis_c(option = \"C\")+\n",
    "    \n",
    "    #geom_polygon(group100plus, aes(long, lat, group = group, fill = state_count), color = 'white')+\n",
    "    theme_classic()+\n",
    "    ggtitle(\"Geographic Distribution of AoU Specimens in US and Territories\")+#+facet_grid(.~Platform)\n",
    "    theme(plot.title = element_text(size = 20, face = \"bold\"))"
   ]
  },
  {
   "cell_type": "code",
   "execution_count": null,
   "metadata": {},
   "outputs": [],
   "source": []
  },
  {
   "cell_type": "code",
   "execution_count": null,
   "metadata": {},
   "outputs": [],
   "source": []
  },
  {
   "cell_type": "code",
   "execution_count": null,
   "metadata": {},
   "outputs": [],
   "source": []
  },
  {
   "cell_type": "code",
   "execution_count": null,
   "metadata": {
    "ExecuteTime": {
     "end_time": "2020-10-21T22:01:05.853804Z",
     "start_time": "2020-10-21T22:01:03.540Z"
    }
   },
   "outputs": [],
   "source": [
    "from sklearn.metrics import cohen_kappa_score"
   ]
  },
  {
   "cell_type": "code",
   "execution_count": null,
   "metadata": {
    "ExecuteTime": {
     "end_time": "2020-10-21T22:01:05.854803Z",
     "start_time": "2020-10-21T22:01:03.657Z"
    }
   },
   "outputs": [],
   "source": [
    "kp_array = [[the5['participant_id'].nunique(),\n",
    "          the88['participant_id'].nunique()], \n",
    "         [the99['participant_id'].nunique(),\n",
    "         the15064['participant_id'].nunique()]]\n",
    "\n",
    "kp_array"
   ]
  },
  {
   "cell_type": "code",
   "execution_count": null,
   "metadata": {
    "ExecuteTime": {
     "end_time": "2020-10-21T22:01:05.855802Z",
     "start_time": "2020-10-21T22:01:03.769Z"
    }
   },
   "outputs": [],
   "source": [
    "cohen_kappa_score(['ei','ei','ab','ab'], kp_array)"
   ]
  }
 ],
 "metadata": {
  "kernelspec": {
   "display_name": "Python 3 (ipykernel)",
   "language": "python",
   "name": "python3"
  },
  "language_info": {
   "codemirror_mode": {
    "name": "ipython",
    "version": 3
   },
   "file_extension": ".py",
   "mimetype": "text/x-python",
   "name": "python",
   "nbconvert_exporter": "python",
   "pygments_lexer": "ipython3",
   "version": "3.9.12"
  },
  "nbTranslate": {
   "displayLangs": [
    "*"
   ],
   "hotkey": "alt-t",
   "langInMainMenu": true,
   "sourceLang": "en",
   "targetLang": "fr",
   "useGoogleTranslate": true
  },
  "toc": {
   "base_numbering": 1,
   "nav_menu": {},
   "number_sections": true,
   "sideBar": true,
   "skip_h1_title": false,
   "title_cell": "Table of Contents",
   "title_sidebar": "Contents",
   "toc_cell": false,
   "toc_position": {
    "height": "861.094px",
    "left": "57.9792px",
    "top": "110.052px",
    "width": "384.392px"
   },
   "toc_section_display": true,
   "toc_window_display": true
  }
 },
 "nbformat": 4,
 "nbformat_minor": 4
}
