{
 "cells": [
  {
   "cell_type": "markdown",
   "metadata": {},
   "source": [
    "# Set Up"
   ]
  },
  {
   "cell_type": "code",
   "execution_count": null,
   "metadata": {
    "ExecuteTime": {
     "end_time": "2021-10-25T16:19:06.269018Z",
     "start_time": "2021-10-25T16:18:59.535488Z"
    }
   },
   "outputs": [],
   "source": [
    "%run ../setup.ipynb"
   ]
  },
  {
   "cell_type": "code",
   "execution_count": null,
   "metadata": {
    "ExecuteTime": {
     "end_time": "2021-10-25T16:19:09.199035Z",
     "start_time": "2021-10-25T16:19:09.196032Z"
    }
   },
   "outputs": [],
   "source": [
    "data_directory = '../DATA\\\\DSC2\\\\'\n",
    "bucket_manifests_dir = 'S:\\\\Aymone\\\\serology\\\\bucket\\\\antibody_manifests\\\\'\n",
    "bucket_returned_results_dir = 'S:\\\\Aymone\\\\serology\\\\bucket\\\\returned_results\\\\'"
   ]
  },
  {
   "cell_type": "markdown",
   "metadata": {},
   "source": [
    "# Load data for the 19 seropositive and other pids"
   ]
  },
  {
   "cell_type": "code",
   "execution_count": null,
   "metadata": {
    "ExecuteTime": {
     "end_time": "2021-10-25T16:20:37.408248Z",
     "start_time": "2021-10-25T16:20:37.294239Z"
    }
   },
   "outputs": [],
   "source": [
    "the9 = pd.read_csv(data_directory+'the9_order.csv')#.iloc[:,1:]\n",
    "the23 = pd.read_csv(data_directory+'the23_order.csv')#.iloc[:,1:]\n",
    "the32 = pd.concat([the9, the23])[the9.columns].reset_index(drop = True)\n",
    "the32['Biobank ID'] = ['A'+str(i) for i in the32.biobank_id]\n",
    "\n",
    "the32"
   ]
  },
  {
   "cell_type": "code",
   "execution_count": null,
   "metadata": {
    "ExecuteTime": {
     "end_time": "2021-09-20T20:25:12.483750Z",
     "start_time": "2021-09-20T20:25:12.479751Z"
    }
   },
   "outputs": [],
   "source": [
    "the32.columns"
   ]
  },
  {
   "cell_type": "markdown",
   "metadata": {},
   "source": [
    "## Load AB/EI, Orho/Roche Results of batch 1-5 and demographics"
   ]
  },
  {
   "cell_type": "code",
   "execution_count": null,
   "metadata": {
    "ExecuteTime": {
     "end_time": "2021-10-25T17:35:50.552415Z",
     "start_time": "2021-10-25T17:35:50.406404Z"
    }
   },
   "outputs": [],
   "source": [
    "master_list_original = pd.read_csv('../DATA\\DSC2\\Antobodies_tests_Master_List_2020-05-21.csv').drop_duplicates()[['participant_id', 'biobank_id', #'Age',\n",
    "       'DateBloodSampleCollected', 'state', 'race', 'SexAtBirth',\n",
    "       'DateOfBirth', 'Negative Control', 'Positive Control']]\n",
    "master_list_original = master_list_original.merge(the32[['participant_id']])\n",
    "\n",
    "master_list_original['Age'] = [math.floor(((pd.to_datetime(master_list_original['DateBloodSampleCollected'][i]) - pd.to_datetime(master_list_original['DateOfBirth'][i])).days)/365) for i in master_list_original.index]\n",
    "master_list_original['Biobank ID'] = ['A'+str(i) for i in master_list_original.biobank_id]\n",
    "master_list_original= master_list_original[['participant_id','biobank_id','DateOfBirth', \n",
    "                                           'race', 'participant_id', 'SexAtBirth', 'state', 'DateBloodSampleCollected']]\n",
    "\n",
    "master_list_original\n"
   ]
  },
  {
   "cell_type": "code",
   "execution_count": null,
   "metadata": {
    "ExecuteTime": {
     "end_time": "2021-09-20T20:25:13.087416Z",
     "start_time": "2021-09-20T20:25:13.084414Z"
    }
   },
   "outputs": [],
   "source": [
    "# batch1to5_combined = pd.read_csv(data_directory+'batch1to5_combined.csv_2021-02-12.csv').merge(master_list_original, 'left').drop_duplicates()\n",
    "# batch1to5_combined_demog = batch1to5_combined[['biobank_id', 'participant_id', 'Positive Control ID', 'Biobank ID',\n",
    "#                    'batch', 'DateOfBirth', \n",
    "#                     'state', 'SexAtBirth', 'race', 'DateBloodSampleCollected',\n",
    "#                     'Positive Control', 'Negative Control']]\n",
    "# batch1to5_combined_demog.DateBloodSampleCollected = [datetime.date(pd.to_datetime(i)) for i in batch1to5_combined_demog.DateBloodSampleCollected]\n"
   ]
  },
  {
   "cell_type": "code",
   "execution_count": null,
   "metadata": {
    "ExecuteTime": {
     "end_time": "2021-10-25T17:36:08.442943Z",
     "start_time": "2021-10-25T17:36:08.301930Z"
    },
    "scrolled": true
   },
   "outputs": [],
   "source": [
    "batch1to5_ab_ei_recalculated = pd.read_csv(data_directory+'batch1to5_ab_ei_recalculated_merged_1.12.2021.csv')#.iloc[:,1:]\n",
    "batch1to5_ab_ei_recalculated = batch1to5_ab_ei_recalculated[['Biobank ID','biobank_id', \"DateBloodSampleCollected\",#'Positive Control ID', \n",
    "                               'Abbott;LIS Result_ab', 'EUROIMMUN;LIS Result_ei', \n",
    "                                'batch', 'od_ei','od_ab', 'outcome_ei', 'outcome_ab',\n",
    "                                'Positive Control', 'Negative Control']]"
   ]
  },
  {
   "cell_type": "code",
   "execution_count": null,
   "metadata": {
    "ExecuteTime": {
     "end_time": "2021-10-25T16:21:25.240494Z",
     "start_time": "2021-10-25T16:21:25.236491Z"
    }
   },
   "outputs": [],
   "source": [
    "batch1to5_ab_ei_recalculated.columns"
   ]
  },
  {
   "cell_type": "code",
   "execution_count": null,
   "metadata": {
    "ExecuteTime": {
     "end_time": "2021-10-25T17:36:17.142632Z",
     "start_time": "2021-10-25T17:36:17.044625Z"
    }
   },
   "outputs": [],
   "source": [
    "selected_cols = ['Biobank ID', #'Patient Name', \n",
    "                 'Specimen ID', \n",
    "                 'COVTA COVTI',\n",
    "       'COVTA COVTS', 'VCOV2 VSARS', 'VCOV2 SCO7', \n",
    "                # 'COVTI & VSARS match'\n",
    "                ]\n",
    "\n",
    "ortho_roche_results0 = pd.read_csv(bucket_returned_results_dir+'Roche and Ortho results_09212020_SNT_copy.csv')[selected_cols]\n",
    "ortho_roche_results2 = pd.read_csv(bucket_returned_results_dir+'Roch_Ortho_Batch2_Results_copy_20201012.csv')[selected_cols]\n",
    "ortho_roche_results2_0 = pd.read_csv(bucket_returned_results_dir+'antibody_manifests_Roche and Ortho results_09212020_SNT_copy.csv')[selected_cols]\n",
    "\n",
    "#ortho_roche_results2['batch_test'] = 2\n",
    "ortho_roche_results3 = pd.read_csv(bucket_returned_results_dir+'Roch_Ortho_Batch3_Results_copy_20201012.csv')[selected_cols]\n",
    "ortho_roche_results4 = pd.read_csv(bucket_returned_results_dir+'antibody_manifests_Roch_Ortho_Batch4_Results - Copy.csv')[selected_cols]\n",
    "#ortho_roche_results3['batch_test'] = 3\n",
    "ortho_roche_results5 = pd.read_csv(bucket_returned_results_dir+'antibody_manifests_Roch_Ortho_Batch5_Results - Copy.csv')[selected_cols]\n",
    "\n",
    "\n",
    "ortho_roche_results1 = pd.concat([ortho_roche_results2, ortho_roche_results3\n",
    "                                  ,ortho_roche_results4, ortho_roche_results5\n",
    "                                  #ortho_roche_results2_0, ortho_roche_results0\n",
    "                                 ]).drop_duplicates()[selected_cols]\n",
    "\n",
    "\n",
    "ortho_roche_results1 = ortho_roche_results1.drop('Specimen ID', 1).rename(columns = {'COVTA COVTI':'Roche Result',\n",
    "                                                                         'COVTA COVTS':'Roche Score',\n",
    "                                                                         'VCOV2 VSARS':'Ortho Result', \n",
    "                                                                          'VCOV2 SCO7':'Ortho Score',\n",
    "                                                                         'COVTI & VSARS match':'Roche and Ortho match'})\n",
    "\n",
    "ortho_roche_results1"
   ]
  },
  {
   "cell_type": "code",
   "execution_count": null,
   "metadata": {
    "ExecuteTime": {
     "end_time": "2021-10-25T17:36:17.821705Z",
     "start_time": "2021-10-25T17:36:17.815706Z"
    }
   },
   "outputs": [],
   "source": [
    "ortho_roche_results1[ortho_roche_results1['Biobank ID'] == \"A136710369\"]"
   ]
  },
  {
   "cell_type": "code",
   "execution_count": null,
   "metadata": {
    "ExecuteTime": {
     "end_time": "2021-10-25T17:36:19.286741Z",
     "start_time": "2021-10-25T17:36:19.282738Z"
    }
   },
   "outputs": [],
   "source": [
    "tuple(the32.participant_id.values)"
   ]
  },
  {
   "cell_type": "code",
   "execution_count": null,
   "metadata": {
    "ExecuteTime": {
     "end_time": "2021-10-25T17:38:13.599605Z",
     "start_time": "2021-10-25T17:38:13.579604Z"
    }
   },
   "outputs": [],
   "source": [
    "#batch1to5_elisas = ortho_roche_results1.merge(batch1to5_ab_ei_recalculated).drop_duplicates()\n",
    "batch1to5_elisas = ortho_roche_results1.merge(batch1to5_ab_ei_recalculated)\n",
    "batch1to5_elisas_the32 = batch1to5_elisas[batch1to5_elisas['Biobank ID'].isin(the32['Biobank ID'].values)]\n",
    "#batch1to4_abei_ortho_roche.DateBloodSampleCollected = [datetime.date(pd.to_datetime(i)) for i in batch1to4_abei_ortho_roche.DateBloodSampleCollected]"
   ]
  },
  {
   "cell_type": "code",
   "execution_count": null,
   "metadata": {
    "ExecuteTime": {
     "end_time": "2021-10-25T17:38:14.296977Z",
     "start_time": "2021-10-25T17:38:14.263974Z"
    }
   },
   "outputs": [],
   "source": [
    "## a QNS in the 'Ortho Score' column is making drop_duplicates() not work\n",
    "batch1to5_elisas_the32.loc[batch1to5_elisas_the32[\"Ortho Score\"] == 'QNS', 'Ortho Result'] = 'QNS'\n",
    "batch1to5_elisas_the32.loc[batch1to5_elisas_the32[\"Ortho Score\"] == 'QNS', 'Ortho Score'] = None\n",
    "batch1to5_elisas_the32[\"Ortho Score\"] = batch1to5_elisas_the32[\"Ortho Score\"].astype('float')\n",
    "batch1to5_elisas_the32 = batch1to5_elisas_the32.reset_index().drop('index', 1).drop_duplicates()\n",
    "batch1to5_elisas_the32"
   ]
  },
  {
   "cell_type": "code",
   "execution_count": null,
   "metadata": {
    "ExecuteTime": {
     "end_time": "2021-10-25T17:38:19.491688Z",
     "start_time": "2021-10-25T17:38:19.486678Z"
    }
   },
   "outputs": [],
   "source": [
    "batch1to5_elisas_the32.biobank_id.nunique()"
   ]
  },
  {
   "cell_type": "code",
   "execution_count": null,
   "metadata": {
    "ExecuteTime": {
     "end_time": "2021-09-20T20:25:14.687302Z",
     "start_time": "2021-09-20T20:25:14.684304Z"
    }
   },
   "outputs": [],
   "source": [
    "batch1to5_elisas_the32['One of the 32 Seropositive?']= 'Yes'"
   ]
  },
  {
   "cell_type": "markdown",
   "metadata": {},
   "source": [
    "# Results in December and November 2020\n",
    "and Check if all seropositives are in "
   ]
  },
  {
   "cell_type": "markdown",
   "metadata": {},
   "source": [
    "## Manifest"
   ]
  },
  {
   "cell_type": "code",
   "execution_count": null,
   "metadata": {
    "ExecuteTime": {
     "end_time": "2021-10-25T16:21:40.224518Z",
     "start_time": "2021-10-25T16:21:40.152514Z"
    }
   },
   "outputs": [],
   "source": [
    "ligia_manifest1 = pd.read_excel(bucket_manifests_dir+'antibody_manifests_PKG-2010-267457_AoU_NIH_10.28.2020.xlsx')\n",
    "ligia_manifest1 = ligia_manifest1.rename(columns = {'Matrix (Tube) ID':'SID'})\n",
    "\n",
    "df1 = ligia_manifest1[~ligia_manifest1['Biobank ID'].isnull()]\n",
    "df1['biobank_id'] = [int(i.split('A')[1]) for i in df1['Biobank ID']]\n",
    "\n",
    "# df = ligia_manifest1[ligia_manifest1['Biobank ID'].isnull()].reset_index().drop('index',axis = 1)\n",
    "# for i in df.index:#['Biobank ID']:\n",
    "#     df['Biobank ID'][i] = 'Positive Control '+str(i)"
   ]
  },
  {
   "cell_type": "code",
   "execution_count": null,
   "metadata": {
    "ExecuteTime": {
     "end_time": "2021-10-25T16:31:13.559625Z",
     "start_time": "2021-10-25T16:31:13.547624Z"
    }
   },
   "outputs": [],
   "source": [
    "ligia_manifest1 = df1# pd.concat([df1, df])\n",
    "ligia_manifest1 = ligia_manifest1[['Biobank ID', 'biobank_id', 'Sample Id', 'SID','Study']]\n",
    "ligia_manifest1"
   ]
  },
  {
   "cell_type": "code",
   "execution_count": null,
   "metadata": {
    "ExecuteTime": {
     "end_time": "2021-10-25T16:31:17.060138Z",
     "start_time": "2021-10-25T16:31:17.018134Z"
    }
   },
   "outputs": [],
   "source": [
    "ligia_manifest2 = pd.read_excel(bucket_manifests_dir+'NIH_Pinto_Serum_12.10.2020.xlsx')\n",
    "ligia_manifest2 = ligia_manifest2.rename(columns = {'Sample ID':'Sample Id'})\n",
    "ligia_manifest2 = ligia_manifest2.rename(columns = {'Matrix (Tube) ID':'SID'})\n",
    "\n",
    "#ligia_manifest_all = pd.concat([ligia_manifest1,ligia_manifest2])\n",
    "ligia_manifest2 = ligia_manifest2[~ligia_manifest2['Biobank ID'].isnull()]\n",
    "ligia_manifest2['biobank_id'] = [int(i.split('A')[1]) for i in ligia_manifest2['Biobank ID']]\n",
    "#ligia_manifest = ligia_manifest[['Biobank ID', 'biobank_id', 'SID','Collection Date','Study']]\n",
    "ligia_manifest2"
   ]
  },
  {
   "cell_type": "code",
   "execution_count": null,
   "metadata": {
    "ExecuteTime": {
     "end_time": "2021-10-25T16:31:26.425464Z",
     "start_time": "2021-10-25T16:31:26.392461Z"
    }
   },
   "outputs": [],
   "source": [
    "ligia_manifest3 = pd.read_excel(bucket_manifests_dir+'Titers_LigiaLab_2.12.2021.xlsx')#[['Biobank ID','Sample Id', 'SID']]\n",
    "ligia_manifest3['biobank_id'] = [int(i.split('A')[1]) for i in ligia_manifest3['Biobank ID']]\n",
    "#ligia_manifest = ligia_manifest[['Biobank ID', 'biobank_id', 'SID','Collection Date','Study']]\n",
    "ligia_manifest3"
   ]
  },
  {
   "cell_type": "markdown",
   "metadata": {},
   "source": [
    "## Merge Manifest with Results"
   ]
  },
  {
   "cell_type": "code",
   "execution_count": null,
   "metadata": {
    "ExecuteTime": {
     "end_time": "2021-10-25T16:37:52.556215Z",
     "start_time": "2021-10-25T16:37:52.553214Z"
    }
   },
   "outputs": [],
   "source": [
    "ligia_file1 = bucket_returned_results_dir+'Mayo Clinic _results_sent06NOV2020_v2_ligia.xlsx'\n",
    "ligia_file2 = bucket_returned_results_dir+'Mayo Clinic _results_23DEC20_V2.xlsx'\n",
    "ligia_file3 = bucket_returned_results_dir+'Mayo Clinic _results_12MAR21_vFINAL.xlsx'"
   ]
  },
  {
   "cell_type": "code",
   "execution_count": null,
   "metadata": {
    "ExecuteTime": {
     "end_time": "2021-10-25T16:48:24.902965Z",
     "start_time": "2021-10-25T16:48:24.871961Z"
    }
   },
   "outputs": [],
   "source": [
    "pd.read_excel(ligia_file2, sheet_name = 4).head(1)"
   ]
  },
  {
   "cell_type": "code",
   "execution_count": null,
   "metadata": {
    "ExecuteTime": {
     "end_time": "2021-10-25T16:49:08.480231Z",
     "start_time": "2021-10-25T16:49:08.473226Z"
    }
   },
   "outputs": [],
   "source": [
    "ligia_manifest_all.head(1)"
   ]
  },
  {
   "cell_type": "code",
   "execution_count": null,
   "metadata": {
    "ExecuteTime": {
     "end_time": "2021-10-25T16:46:44.631837Z",
     "start_time": "2021-10-25T16:46:44.596833Z"
    }
   },
   "outputs": [],
   "source": [
    "pd.read_excel(ligia_file1, sheet_name = 1).head(1)"
   ]
  },
  {
   "cell_type": "code",
   "execution_count": null,
   "metadata": {
    "ExecuteTime": {
     "end_time": "2021-10-25T16:41:25.683964Z",
     "start_time": "2021-10-25T16:41:25.677961Z"
    }
   },
   "outputs": [],
   "source": [
    "def get_ligia_results(which_file, manifest_df):\n",
    "    \n",
    "    ligia_results_spikeIgM = manifest_df.merge(pd.read_excel(which_file, sheet_name = 1))\n",
    "    display(ligia_results_spikeIgM)\n",
    "    ligia_results_spikeIgM = ligia_results_spikeIgM[['biobank_id','Spike IgM (AU/mL)']]\n",
    "    print('Spike IgM Results for:'+str(ligia_results_spikeIgM.biobank_id.nunique())+' people.')\n",
    "    \n",
    "    ligia_results_spikeIgG = manifest_df.merge(pd.read_excel(which_file, sheet_name = 2))\n",
    "    ligia_results_spikeIgG = ligia_results_spikeIgG[['biobank_id','Spike IgG (AU/mL)']]\n",
    "    print('Spike IgG Results for:'+str(ligia_results_spikeIgG.biobank_id.nunique())+' people.')\n",
    "    \n",
    "    ligia_results_nuclIgG = manifest_df.merge(pd.read_excel(which_file, sheet_name = 3))\n",
    "    ligia_results_nuclIgG = ligia_results_nuclIgG[['biobank_id','Nucleocapsid IgG (AU/mL)']]\n",
    "    print('nuclIgG Results for:'+str(ligia_results_nuclIgG.biobank_id.nunique())+' people.')\n",
    "    \n",
    "    ligia_results_nuclIgM = manifest_df.merge(pd.read_excel(which_file, sheet_name = 4))\n",
    "    ligia_results_nuclIgM = ligia_results_nuclIgM[['biobank_id','Nucleocapsid IgM (AU/mL)']]\n",
    "    print('nuclIgM Results for:'+str(ligia_results_nuclIgM.biobank_id.nunique())+' people.')\n",
    "    \n",
    "    ligia_results_all = ligia_results_spikeIgM.merge(ligia_results_spikeIgG).merge(ligia_results_nuclIgG).merge(ligia_results_nuclIgM)\n",
    "    print('\\nTotal Results for:'+str(ligia_results_all.biobank_id.nunique())+' people.')\n",
    "    \n",
    "    return ligia_results_all"
   ]
  },
  {
   "cell_type": "code",
   "execution_count": null,
   "metadata": {
    "ExecuteTime": {
     "end_time": "2021-10-25T16:48:53.524850Z",
     "start_time": "2021-10-25T16:48:53.171825Z"
    }
   },
   "outputs": [],
   "source": [
    "get_ligia_results(ligia_file2, ligia_manifest2)"
   ]
  },
  {
   "cell_type": "code",
   "execution_count": null,
   "metadata": {
    "ExecuteTime": {
     "end_time": "2021-10-25T16:41:33.838346Z",
     "start_time": "2021-10-25T16:41:33.392317Z"
    }
   },
   "outputs": [],
   "source": [
    "ligia_results1 = get_ligia_results(ligia_file1, ligia_manifest1)\n",
    "ligia_results2 = get_ligia_results(ligia_file2, ligia_manifest2)\n",
    "ligia_results3 = get_ligia_results(ligia_file3, ligia_manifest3)\n",
    "ligia_results1to3 = pd.concat([ligia_results1, ligia_results2, ligia_results3])#.merge(batch1to5_elisas_the32[['biobank_id','One of the 32 Seropositive?']], 'left')\n",
    "ligia_results1to3.biobank_id.nunique()"
   ]
  },
  {
   "cell_type": "code",
   "execution_count": null,
   "metadata": {
    "ExecuteTime": {
     "end_time": "2021-09-20T20:25:16.551656Z",
     "start_time": "2021-09-20T20:25:16.549652Z"
    }
   },
   "outputs": [],
   "source": [
    "#batch1to5_elisas['Abbott;LIS Result_ab'] = batch1to5_elisas['Abbott;LIS Result_ab'].astype('string')"
   ]
  },
  {
   "cell_type": "code",
   "execution_count": null,
   "metadata": {
    "ExecuteTime": {
     "end_time": "2021-10-25T16:53:59.746831Z",
     "start_time": "2021-10-25T16:53:59.718827Z"
    }
   },
   "outputs": [],
   "source": [
    "batch1to5_elisas[~batch1to5_elisas['biobank_id'].isin(ligia_results1to3['biobank_id'].values)].drop_duplicates()\n"
   ]
  },
  {
   "cell_type": "code",
   "execution_count": null,
   "metadata": {
    "ExecuteTime": {
     "end_time": "2021-10-25T17:39:29.692481Z",
     "start_time": "2021-10-25T17:39:29.680483Z"
    }
   },
   "outputs": [],
   "source": [
    "batch1to5_elisas_the76 = batch1to5_elisas[batch1to5_elisas['biobank_id'].isin(ligia_results1to3['biobank_id'].values)].drop_duplicates()\n",
    "batch1to5_elisas_the76.biobank_id = batch1to5_elisas_the76.biobank_id.astype('int64') #[['Roche Result','','','']]\n",
    "batch1to5_elisas_the76 = batch1to5_elisas_the76[(batch1to5_elisas_the76['Negative Control'] == 'No') & \n",
    "                                                (batch1to5_elisas_the76['Positive Control'] == 'No')].drop(['outcome_ab'\n",
    "                                                                                                            ,'outcome_ei'\n",
    "                                                                                                            ,'Biobank ID',\n",
    "                                                                                                            'Positive Control','Negative Control'\n",
    "                                                                                                           ],1)"
   ]
  },
  {
   "cell_type": "code",
   "execution_count": null,
   "metadata": {
    "ExecuteTime": {
     "end_time": "2021-10-25T17:39:31.367367Z",
     "start_time": "2021-10-25T17:39:31.360368Z"
    }
   },
   "outputs": [],
   "source": [
    "batch1to5_elisas_the76.loc[batch1to5_elisas_the76['Ortho Score'] == 'QNS', 'Ortho Score'] = None\n",
    "#theQNS = batch1to5_elisas_the77[batch1to5_elisas_the77['Ortho Score'] == 'QNS']\n",
    "batch1to5_elisas_the76[['Roche Result','Ortho Result']] = batch1to5_elisas_the76[['Roche Result','Ortho Result']].astype('string')\n",
    "batch1to5_elisas_the76['Ortho Score'] = batch1to5_elisas_the76['Ortho Score'].astype('float64')"
   ]
  },
  {
   "cell_type": "code",
   "execution_count": null,
   "metadata": {
    "ExecuteTime": {
     "end_time": "2021-10-25T17:39:31.564294Z",
     "start_time": "2021-10-25T17:39:31.543292Z"
    }
   },
   "outputs": [],
   "source": [
    "batch1to5_elisas_the76.drop_duplicates()"
   ]
  },
  {
   "cell_type": "code",
   "execution_count": null,
   "metadata": {
    "ExecuteTime": {
     "end_time": "2021-10-25T16:53:08.926368Z",
     "start_time": "2021-10-25T16:53:08.895367Z"
    }
   },
   "outputs": [],
   "source": [
    "batch1to5_elisas_the76[batch1to5_elisas_the76.biobank_id == 293960432]"
   ]
  },
  {
   "cell_type": "code",
   "execution_count": null,
   "metadata": {
    "ExecuteTime": {
     "end_time": "2021-09-20T20:25:17.697962Z",
     "start_time": "2021-09-20T20:25:17.678960Z"
    }
   },
   "outputs": [],
   "source": [
    "mysterious76_perShawn = pd.read_csv(data_directory+'Mysterious-76.csv')\n",
    "mysterious76_perShawn_pids = mysterious76_perShawn[['Biobank.ID']].drop_duplicates()\n",
    "mysterious76_perShawn_pids.columns = ['biobank_id']\n",
    "mysterious76_perShawn_pids"
   ]
  },
  {
   "cell_type": "code",
   "execution_count": null,
   "metadata": {
    "ExecuteTime": {
     "end_time": "2021-09-20T20:25:17.917974Z",
     "start_time": "2021-09-20T20:25:17.888975Z"
    }
   },
   "outputs": [],
   "source": [
    "all_76_elisas = ligia_results1to3.merge(batch1to5_elisas_the76, 'right')\n",
    "all_76_elisas.drop_duplicates()#[all_77_elisas['Ortho Result'] == 'QNS']"
   ]
  },
  {
   "cell_type": "code",
   "execution_count": null,
   "metadata": {
    "ExecuteTime": {
     "end_time": "2021-09-20T20:25:18.230172Z",
     "start_time": "2021-09-20T20:25:18.223171Z"
    }
   },
   "outputs": [],
   "source": [
    "all_76_elisas.to_csv(data_directory+'the76_with_titers_and_elisas.csv')"
   ]
  },
  {
   "cell_type": "code",
   "execution_count": null,
   "metadata": {},
   "outputs": [],
   "source": []
  },
  {
   "cell_type": "code",
   "execution_count": null,
   "metadata": {
    "ExecuteTime": {
     "end_time": "2021-09-20T20:30:42.498701Z",
     "start_time": "2021-09-20T20:30:42.485702Z"
    }
   },
   "outputs": [],
   "source": [
    "all_76_elisas[['biobank_id','Abbott;LIS Result_ab','Ortho Result','Roche Result', 'EUROIMMUN;LIS Result_ei']].groupby(['Abbott;LIS Result_ab','Ortho Result','Roche Result', 'EUROIMMUN;LIS Result_ei']).nunique()"
   ]
  },
  {
   "cell_type": "code",
   "execution_count": null,
   "metadata": {
    "ExecuteTime": {
     "end_time": "2021-09-20T20:25:18.496326Z",
     "start_time": "2021-09-20T20:25:18.492329Z"
    }
   },
   "outputs": [],
   "source": [
    "len(set(all_76_elisas.biobank_id) - set(the32.biobank_id))"
   ]
  },
  {
   "cell_type": "markdown",
   "metadata": {},
   "source": [
    "## QC"
   ]
  },
  {
   "cell_type": "markdown",
   "metadata": {},
   "source": [
    "### Specimens sent to Ligia's Lab not of the 32"
   ]
  },
  {
   "cell_type": "code",
   "execution_count": null,
   "metadata": {
    "ExecuteTime": {
     "end_time": "2021-09-20T20:25:19.934119Z",
     "start_time": "2021-09-20T20:25:19.900119Z"
    }
   },
   "outputs": [],
   "source": [
    "in_ligia_lab = pd.DataFrame(set(the32.biobank_id).intersection(set(ligia_results1to3.biobank_id)),\n",
    "                                columns = ['biobank_id']).merge(batch1to5_elisas_the32) #ligia_manifest2\n",
    "in_ligia_lab"
   ]
  },
  {
   "cell_type": "code",
   "execution_count": null,
   "metadata": {
    "ExecuteTime": {
     "end_time": "2021-09-20T20:25:20.125134Z",
     "start_time": "2021-09-20T20:25:20.121136Z"
    }
   },
   "outputs": [],
   "source": [
    "set(the32.biobank_id) in set(ligia_results1to3.biobank_id)"
   ]
  },
  {
   "cell_type": "code",
   "execution_count": null,
   "metadata": {
    "ExecuteTime": {
     "end_time": "2021-09-20T20:25:20.422202Z",
     "start_time": "2021-09-20T20:25:20.394199Z"
    }
   },
   "outputs": [],
   "source": [
    "the32_ligia_lab = the32.merge(ligia_results1to3)\n",
    "the32_ligia_lab"
   ]
  },
  {
   "cell_type": "code",
   "execution_count": null,
   "metadata": {
    "ExecuteTime": {
     "end_time": "2021-09-20T20:25:20.520208Z",
     "start_time": "2021-09-20T20:25:20.515207Z"
    }
   },
   "outputs": [],
   "source": [
    "the32_ligia_lab.biobank_id.nunique()"
   ]
  },
  {
   "cell_type": "code",
   "execution_count": null,
   "metadata": {
    "ExecuteTime": {
     "end_time": "2021-09-20T20:25:21.567426Z",
     "start_time": "2021-09-20T20:25:21.561430Z"
    }
   },
   "outputs": [],
   "source": [
    "the32_ligia_lab.to_csv(data_directory+'the32_ligia_lab.csv', index = False)"
   ]
  },
  {
   "cell_type": "code",
   "execution_count": null,
   "metadata": {
    "ExecuteTime": {
     "end_time": "2021-09-20T20:25:21.806573Z",
     "start_time": "2021-09-20T20:25:21.788578Z"
    }
   },
   "outputs": [],
   "source": [
    "in_ligia_lab[in_ligia_lab.biobank_id == 977982923]"
   ]
  },
  {
   "cell_type": "code",
   "execution_count": null,
   "metadata": {
    "ExecuteTime": {
     "end_time": "2021-09-20T20:25:21.897579Z",
     "start_time": "2021-09-20T20:25:21.884581Z"
    }
   },
   "outputs": [],
   "source": [
    "not_in_ligia_lab = pd.DataFrame(set(the32.biobank_id) - set(ligia_results1_and_2.biobank_id),\n",
    "                                columns = ['biobank_id']).merge(batch1to5_elisas_the32) #ligia_manifest2\n",
    "not_in_ligia_lab"
   ]
  },
  {
   "cell_type": "code",
   "execution_count": null,
   "metadata": {
    "ExecuteTime": {
     "end_time": "2021-09-20T20:25:22.782636Z",
     "start_time": "2021-09-20T20:25:22.778635Z"
    }
   },
   "outputs": [],
   "source": [
    "27+5"
   ]
  },
  {
   "cell_type": "markdown",
   "metadata": {},
   "source": [
    "`325704569` is a negative control that was sent to Ligia's lab"
   ]
  },
  {
   "cell_type": "code",
   "execution_count": null,
   "metadata": {},
   "outputs": [],
   "source": []
  },
  {
   "cell_type": "code",
   "execution_count": null,
   "metadata": {},
   "outputs": [],
   "source": []
  },
  {
   "cell_type": "code",
   "execution_count": null,
   "metadata": {},
   "outputs": [],
   "source": []
  },
  {
   "cell_type": "code",
   "execution_count": null,
   "metadata": {},
   "outputs": [],
   "source": []
  },
  {
   "cell_type": "code",
   "execution_count": null,
   "metadata": {},
   "outputs": [],
   "source": []
  },
  {
   "cell_type": "markdown",
   "metadata": {},
   "source": [
    "### Those of the 19 that Mayo did not send"
   ]
  },
  {
   "cell_type": "code",
   "execution_count": null,
   "metadata": {
    "ExecuteTime": {
     "end_time": "2021-04-06T20:18:33.402863Z",
     "start_time": "2021-04-06T20:18:33.390864Z"
    }
   },
   "outputs": [],
   "source": [
    "of_the19_notsent = the19_order[['Order','biobank_id']].merge(pd.DataFrame(set(the19.biobank_id) - set(ligia_results1_allpeople.biobank_id), columns = ['biobank_id']).dropna().merge(the19_tests))\n",
    "of_the19_notsent.columns"
   ]
  },
  {
   "cell_type": "code",
   "execution_count": null,
   "metadata": {
    "ExecuteTime": {
     "end_time": "2021-04-06T20:18:35.032250Z",
     "start_time": "2021-04-06T20:18:35.021244Z"
    }
   },
   "outputs": [],
   "source": [
    "of_the19_notsent[['Order','batch','biobank_id', 'DateOfBirth',\n",
    "       'state', 'SexAtBirth', 'race', 'DateBloodSampleCollected',\n",
    "        'Roche Result', 'Ortho Result', 'Abbott Result',\n",
    "       'EUROIMMUN Result', 'outcome_ei', 'outcome_ab', 'batch', \n",
    "       'Positive Control', 'Negative Control', \n",
    "       'One of the 19 Seropositive?']]"
   ]
  },
  {
   "cell_type": "markdown",
   "metadata": {},
   "source": [
    "# Results on January 2021"
   ]
  },
  {
   "cell_type": "markdown",
   "metadata": {},
   "source": [
    "## Manifest"
   ]
  },
  {
   "cell_type": "code",
   "execution_count": null,
   "metadata": {
    "ExecuteTime": {
     "end_time": "2021-03-19T20:32:47.316652Z",
     "start_time": "2021-03-19T20:32:47.277650Z"
    }
   },
   "outputs": [],
   "source": [
    "ligia_manifest2 = pd.read_excel(bucket_manifests_dir+'NIH_Pinto_Serum_12.10.2020.xlsx')\n",
    "ligia_manifest2 = ligia_manifest2.rename(columns = {'Sample ID':'Sample Id'})\n",
    "ligia_manifest2 = ligia_manifest2.rename(columns = {'Matrix (Tube) ID':'SID'})\n",
    "ligia_manifest2['biobank_id'] = [int(i.split('A')[1]) for i in ligia_manifest2['Biobank ID']]\n",
    "ligia_manifest2 = ligia_manifest2[['Biobank ID', 'biobank_id', 'Sample Id', 'SID']]\n",
    "\n",
    "# ligia_manifest_all = pd.concat([ligia_manifest1,ligia_manifest2])\n",
    "# ligia_manifest = ligia_manifest_all[~ligia_manifest_all['Biobank ID'].isnull()]\n",
    "ligia_manifest2"
   ]
  },
  {
   "cell_type": "markdown",
   "metadata": {},
   "source": [
    "## Merge Manifest with Results"
   ]
  },
  {
   "cell_type": "code",
   "execution_count": null,
   "metadata": {
    "ExecuteTime": {
     "end_time": "2021-03-19T20:32:49.148737Z",
     "start_time": "2021-03-19T20:32:49.145737Z"
    }
   },
   "outputs": [],
   "source": [
    "ligia_file2 = bucket_returned_results_dir+'Mayo Clinic _results_23DEC20_V2.xlsx'"
   ]
  },
  {
   "cell_type": "code",
   "execution_count": null,
   "metadata": {
    "ExecuteTime": {
     "end_time": "2021-03-19T20:32:49.518468Z",
     "start_time": "2021-03-19T20:32:49.336453Z"
    }
   },
   "outputs": [],
   "source": [
    "ligia_results2_merged = get_ligia_results(which_file = ligia_file2, manifest_df = ligia_manifest2)\n",
    "\n",
    "# all people in the results\n",
    "ligia_results2_allpeople = ligia_results2_merged.merge(batch1to4_abei_ortho_roche_all)\n",
    "ligia_results2_allpeople.DateBloodSampleCollected = [datetime.date(pd.to_datetime(i)) for i in ligia_results2_allpeople.DateBloodSampleCollected]\n",
    "print('All people results: '+str(ligia_results2_allpeople.biobank_id.nunique()))\n",
    "\n",
    "# from the 19 \n",
    "ligia_results2_the19 = ligia_results2_allpeople[ligia_results2_allpeople['One of the 19 Seropositive?'] == 'Yes']\n",
    "ligia_results2_the19 = the19_order[['Order','biobank_id']].merge(ligia_results2_the19)\n",
    "print('From the 19 seropositives: '+str(ligia_results2_the19.biobank_id.nunique()))\n",
    "\n",
    "# Other specimens\n",
    "ligia_results2_theothers = ligia_results2_allpeople[ligia_results2_allpeople['One of the 19 Seropositive?'] == 'No']\n",
    "print('All other results: '+str(ligia_results2_theothers.biobank_id.nunique()))"
   ]
  },
  {
   "cell_type": "markdown",
   "metadata": {},
   "source": [
    "## QC"
   ]
  },
  {
   "cell_type": "markdown",
   "metadata": {},
   "source": [
    "### Specimens sent to Ligia's Lab not of the 19"
   ]
  },
  {
   "cell_type": "code",
   "execution_count": null,
   "metadata": {
    "ExecuteTime": {
     "end_time": "2021-03-19T20:32:51.640328Z",
     "start_time": "2021-03-19T20:32:51.635329Z"
    }
   },
   "outputs": [],
   "source": [
    "ls = tuple(set(ligia_results2_allpeople.biobank_id) - set(the19.biobank_id))\n",
    "ls"
   ]
  },
  {
   "cell_type": "code",
   "execution_count": null,
   "metadata": {
    "ExecuteTime": {
     "end_time": "2021-03-19T20:32:52.234552Z",
     "start_time": "2021-03-19T20:32:52.228553Z"
    }
   },
   "outputs": [],
   "source": [
    "non_in_the19 = ligia_results2_allpeople[ligia_results2_allpeople.biobank_id.isin(ls)]\n",
    "non_in_the19.columns"
   ]
  },
  {
   "cell_type": "code",
   "execution_count": null,
   "metadata": {
    "ExecuteTime": {
     "end_time": "2021-03-19T20:32:52.464330Z",
     "start_time": "2021-03-19T20:32:52.458327Z"
    }
   },
   "outputs": [],
   "source": [
    "non_in_the19 = non_in_the19.replace({'POSITIVE':1, 'Positive':1, 'NEGATIVE':0,\"Negative\":0})"
   ]
  },
  {
   "cell_type": "code",
   "execution_count": null,
   "metadata": {
    "ExecuteTime": {
     "end_time": "2021-03-19T20:32:52.703685Z",
     "start_time": "2021-03-19T20:32:52.663685Z"
    }
   },
   "outputs": [],
   "source": [
    "non_in_the19[['biobank_id', #'participant_id',\n",
    "              'Spike IgM (AU/mL)', 'Spike IgG (AU/mL)',\n",
    "       'Nucleocapsid IgG (AU/mL)', 'Nucleocapsid IgM (AU/mL)', \n",
    "       'Roche Result', 'Roche Score', 'Ortho Result','Ortho Score', \n",
    "        'outcome_ab','od_ab', 'outcome_ei', 'od_ei',\n",
    "       #'Positive Control ID', 'batch', #'DateOfBirth', \n",
    "        'state', 'SexAtBirth','race', 'DateBloodSampleCollected', \n",
    "              #'Positive Control',\n",
    "       #'Negative Control', 'One of the 19 Seropositive?'\n",
    "             ]]"
   ]
  },
  {
   "cell_type": "code",
   "execution_count": null,
   "metadata": {
    "ExecuteTime": {
     "end_time": "2021-01-14T21:12:37.497265Z",
     "start_time": "2021-01-14T21:12:37.483267Z"
    }
   },
   "outputs": [],
   "source": [
    "#non_in_the19[non_in_the19.participant_id == 893884192]\n"
   ]
  },
  {
   "cell_type": "code",
   "execution_count": null,
   "metadata": {
    "ExecuteTime": {
     "end_time": "2021-01-14T21:10:58.323236Z",
     "start_time": "2021-01-14T21:10:58.314235Z"
    }
   },
   "outputs": [],
   "source": [
    "non_in_the19[['Negative Control','Positive Control']].drop_duplicates()"
   ]
  },
  {
   "cell_type": "code",
   "execution_count": null,
   "metadata": {
    "ExecuteTime": {
     "end_time": "2021-01-14T21:10:58.340235Z",
     "start_time": "2021-01-14T21:10:58.324237Z"
    }
   },
   "outputs": [],
   "source": [
    "non_in_the19['Age'] = [math.floor(((pd.to_datetime(non_in_the19['DateBloodSampleCollected'][i]) - pd.to_datetime(non_in_the19['DateOfBirth'][i])).days)/365) for i in non_in_the19.index]"
   ]
  },
  {
   "cell_type": "code",
   "execution_count": null,
   "metadata": {
    "ExecuteTime": {
     "end_time": "2021-01-14T21:10:58.353235Z",
     "start_time": "2021-01-14T21:10:58.341235Z"
    }
   },
   "outputs": [],
   "source": [
    "non_in_the19[['biobank_id', 'Spike IgM (AU/mL)', 'Spike IgG (AU/mL)',\n",
    "       'Nucleocapsid IgG (AU/mL)', 'Nucleocapsid IgM (AU/mL)', 'Roche Result', 'Roche Score', 'Ortho Result',\n",
    "       'Ortho Score', 'DateBloodSampleCollected', 'Age', 'state', 'SexAtBirth',\n",
    "       'race',  'outcome_ab','od_ab', 'outcome_ei', 'od_ei']].to_csv(data_directory+'Others_Ligia_lab.csv', index = False)"
   ]
  },
  {
   "cell_type": "markdown",
   "metadata": {},
   "source": [
    "### Those of the 19 that Mayo did not send"
   ]
  },
  {
   "cell_type": "code",
   "execution_count": null,
   "metadata": {
    "ExecuteTime": {
     "end_time": "2021-01-14T21:10:58.378240Z",
     "start_time": "2021-01-14T21:10:58.354236Z"
    }
   },
   "outputs": [],
   "source": [
    "of_the19_notsent = the19_order[['Order','biobank_id']].merge(pd.DataFrame(set(the19.biobank_id) - set(ligia_results2_allpeople.biobank_id) - set(ligia_results1_the19.biobank_id), columns = ['biobank_id']).dropna().merge(the19_tests))\n",
    "of_the19_notsent#.columns"
   ]
  },
  {
   "cell_type": "code",
   "execution_count": null,
   "metadata": {
    "ExecuteTime": {
     "end_time": "2021-01-14T21:10:58.413241Z",
     "start_time": "2021-01-14T21:10:58.379238Z"
    }
   },
   "outputs": [],
   "source": [
    "ligia_results_the19 = pd.concat([ligia_results1_the19, ligia_results2_the19])\n",
    "ligia_results_the19"
   ]
  },
  {
   "cell_type": "code",
   "execution_count": null,
   "metadata": {
    "ExecuteTime": {
     "end_time": "2021-01-14T21:10:58.420239Z",
     "start_time": "2021-01-14T21:10:58.414241Z"
    }
   },
   "outputs": [],
   "source": [
    "ligia_results_the19.to_csv(data_directory+'the19_Ligia_lab.csv', index = False)"
   ]
  },
  {
   "cell_type": "markdown",
   "metadata": {},
   "source": [
    "# QC on 10.25.21 using file Issac/Sheri sent"
   ]
  },
  {
   "cell_type": "markdown",
   "metadata": {},
   "source": [
    "## Al manifest combined"
   ]
  },
  {
   "cell_type": "code",
   "execution_count": null,
   "metadata": {
    "ExecuteTime": {
     "end_time": "2021-10-25T16:51:02.263637Z",
     "start_time": "2021-10-25T16:51:02.250637Z"
    }
   },
   "outputs": [],
   "source": [
    "all_manisfests = pd.concat([ligia_manifest1, ligia_manifest2, ligia_manifest3])[['Biobank ID','biobank_id','Sample Id', 'SID']]\n",
    "all_manisfests"
   ]
  },
  {
   "cell_type": "markdown",
   "metadata": {
    "ExecuteTime": {
     "end_time": "2021-10-25T16:34:13.011914Z",
     "start_time": "2021-10-25T16:34:13.008911Z"
    }
   },
   "source": [
    "## Merge Manifest with File Isaac Sent"
   ]
  },
  {
   "cell_type": "code",
   "execution_count": null,
   "metadata": {
    "ExecuteTime": {
     "end_time": "2021-10-25T16:50:48.519899Z",
     "start_time": "2021-10-25T16:50:48.482897Z"
    }
   },
   "outputs": [],
   "source": [
    "all_samples_sent_to_lab = pd.read_excel(data_directory+'serology to Ligia.xlsx', sheet_name='Sheet2')\n",
    "all_samples_sent_to_lab = all_samples_sent_to_lab[['Sample Id','Origin','Collection Date']].drop_duplicates()\n",
    "\n",
    "noncontrols_sent_to_lab = all_samples_sent_to_lab[all_samples_sent_to_lab.Origin == 'PMI Participant']\n",
    "noncontrols_sent_to_lab"
   ]
  },
  {
   "cell_type": "code",
   "execution_count": null,
   "metadata": {
    "ExecuteTime": {
     "end_time": "2021-10-25T18:01:40.457155Z",
     "start_time": "2021-10-25T18:01:40.451152Z"
    }
   },
   "outputs": [],
   "source": [
    "all_samples_sent_to_lab[all_samples_sent_to_lab.Origin != 'PMI Participant'].Origin.unique()"
   ]
  },
  {
   "cell_type": "code",
   "execution_count": null,
   "metadata": {
    "ExecuteTime": {
     "end_time": "2021-10-25T17:59:59.666994Z",
     "start_time": "2021-10-25T17:59:59.660984Z"
    }
   },
   "outputs": [],
   "source": [
    "all_samples_sent_to_lab['Sample Id'].nunique()"
   ]
  },
  {
   "cell_type": "code",
   "execution_count": null,
   "metadata": {
    "ExecuteTime": {
     "end_time": "2021-10-25T16:51:07.483578Z",
     "start_time": "2021-10-25T16:51:07.469578Z"
    }
   },
   "outputs": [],
   "source": [
    "ligia_manifest_all = noncontrols_sent_to_lab[['Sample Id']].merge(all_manisfests)\n",
    "ligia_manifest_all"
   ]
  },
  {
   "cell_type": "markdown",
   "metadata": {},
   "source": [
    "## Merge with Results"
   ]
  },
  {
   "cell_type": "code",
   "execution_count": null,
   "metadata": {
    "ExecuteTime": {
     "end_time": "2021-10-25T16:51:09.443835Z",
     "start_time": "2021-10-25T16:51:09.439832Z"
    }
   },
   "outputs": [],
   "source": [
    "ligia_file2"
   ]
  },
  {
   "cell_type": "code",
   "execution_count": null,
   "metadata": {
    "ExecuteTime": {
     "end_time": "2021-10-25T16:51:09.993642Z",
     "start_time": "2021-10-25T16:51:09.645618Z"
    }
   },
   "outputs": [],
   "source": [
    "ligia_results1_merged = get_ligia_results(which_file = ligia_file1, manifest_df = ligia_manifest_all)\n",
    "ligia_results2_merged = get_ligia_results(which_file = ligia_file2, manifest_df = ligia_manifest_all)\n",
    "ligia_results3_merged = get_ligia_results(which_file = ligia_file3, manifest_df = ligia_manifest_all)"
   ]
  },
  {
   "cell_type": "code",
   "execution_count": null,
   "metadata": {
    "ExecuteTime": {
     "end_time": "2021-10-25T16:57:21.492397Z",
     "start_time": "2021-10-25T16:57:21.478395Z"
    }
   },
   "outputs": [],
   "source": [
    "ligia_results_merged = pd.concat([ligia_results1_merged,ligia_results2_merged,ligia_results3_merged])\n",
    "ligia_results_merged"
   ]
  },
  {
   "cell_type": "markdown",
   "metadata": {},
   "source": [
    "## mETGING WITHTHE OTHER RESULTS"
   ]
  },
  {
   "cell_type": "code",
   "execution_count": null,
   "metadata": {
    "ExecuteTime": {
     "end_time": "2021-10-25T17:39:36.284937Z",
     "start_time": "2021-10-25T17:39:36.254933Z"
    }
   },
   "outputs": [],
   "source": [
    "ligia_results_merged_results = ligia_results_merged.merge(batch1to5_elisas_the76).drop_duplicates()\n",
    "ligia_results_merged_results"
   ]
  },
  {
   "cell_type": "code",
   "execution_count": null,
   "metadata": {
    "ExecuteTime": {
     "end_time": "2021-10-25T17:39:36.416948Z",
     "start_time": "2021-10-25T17:39:36.412938Z"
    }
   },
   "outputs": [],
   "source": [
    "set(ligia_results_merged.biobank_id) - set(ligia_results_merged_results.biobank_id)"
   ]
  },
  {
   "cell_type": "code",
   "execution_count": null,
   "metadata": {
    "ExecuteTime": {
     "end_time": "2021-10-25T17:39:36.615956Z",
     "start_time": "2021-10-25T17:39:36.604953Z"
    }
   },
   "outputs": [],
   "source": [
    "ligia_results_merged_results = ligia_manifest_all[['Sample Id','biobank_id']]\\\n",
    ".merge(ligia_results_merged_results[['biobank_id', 'DateBloodSampleCollected','Spike IgM (AU/mL)', 'Spike IgG (AU/mL)',\n",
    "       'Nucleocapsid IgG (AU/mL)', 'Nucleocapsid IgM (AU/mL)', 'Roche Result',\n",
    "       'Roche Score', 'Ortho Result', 'Ortho Score', 'Abbott;LIS Result_ab','od_ab',\n",
    "       'EUROIMMUN;LIS Result_ei', 'od_ei', 'batch']]).drop('biobank_id',1)\n",
    "\n",
    "ligia_results_merged_results['control_status'] = 'Non Control'"
   ]
  },
  {
   "cell_type": "code",
   "execution_count": null,
   "metadata": {
    "ExecuteTime": {
     "end_time": "2021-10-25T17:39:40.131393Z",
     "start_time": "2021-10-25T17:39:40.103391Z"
    }
   },
   "outputs": [],
   "source": [
    "ligia_results_merged_results"
   ]
  },
  {
   "cell_type": "code",
   "execution_count": null,
   "metadata": {
    "ExecuteTime": {
     "end_time": "2021-10-25T17:40:05.744448Z",
     "start_time": "2021-10-25T17:40:05.720441Z"
    }
   },
   "outputs": [],
   "source": [
    "the1_missing = ligia_manifest_all[['biobank_id','Sample Id']].merge(\n",
    "    ligia_results_merged.merge(batch1to5_elisas[batch1to5_elisas.biobank_id.isin({325704569})]))#.drop_duplicates()).drop('biobank_id',1)\n",
    "the1_missing = the1_missing[['Sample Id', 'DateBloodSampleCollected','Spike IgM (AU/mL)', 'Spike IgG (AU/mL)',\n",
    "       'Nucleocapsid IgG (AU/mL)', 'Nucleocapsid IgM (AU/mL)', 'Roche Result',\n",
    "       'Roche Score', 'Ortho Result', 'Ortho Score', 'Abbott;LIS Result_ab','od_ab',\n",
    "       'EUROIMMUN;LIS Result_ei', 'od_ei', 'batch']]\n",
    "\n",
    "the1_missing"
   ]
  },
  {
   "cell_type": "code",
   "execution_count": null,
   "metadata": {
    "ExecuteTime": {
     "end_time": "2021-10-25T17:40:07.693387Z",
     "start_time": "2021-10-25T17:40:07.675384Z"
    }
   },
   "outputs": [],
   "source": [
    "the1_missing = the1_missing[['Sample Id', 'DateBloodSampleCollected','Spike IgM (AU/mL)', 'Spike IgG (AU/mL)',\n",
    "       'Nucleocapsid IgG (AU/mL)', 'Nucleocapsid IgM (AU/mL)', 'Roche Result',\n",
    "       'Roche Score', 'Ortho Result', 'Ortho Score', 'Abbott;LIS Result_ab','od_ab',\n",
    "       'EUROIMMUN;LIS Result_ei', 'od_ei', 'batch']].drop_duplicates().iloc[:2]\n",
    "\n",
    "the1_missing['control_status'] = 'Negative Control'\n",
    "the1_missing"
   ]
  },
  {
   "cell_type": "code",
   "execution_count": null,
   "metadata": {
    "ExecuteTime": {
     "end_time": "2021-10-25T17:40:45.450581Z",
     "start_time": "2021-10-25T17:40:45.402583Z"
    }
   },
   "outputs": [],
   "source": [
    "all_ligia_results_merged_results = pd.merge(ligia_results_merged_results, the1_missing, 'outer').drop_duplicates().reset_index()\n",
    "all_ligia_results_merged_results"
   ]
  },
  {
   "cell_type": "code",
   "execution_count": null,
   "metadata": {
    "ExecuteTime": {
     "end_time": "2021-10-25T19:06:24.830001Z",
     "start_time": "2021-10-25T19:06:24.826998Z"
    }
   },
   "outputs": [],
   "source": [
    "data_directory"
   ]
  },
  {
   "cell_type": "code",
   "execution_count": null,
   "metadata": {
    "ExecuteTime": {
     "end_time": "2021-10-25T17:41:02.534256Z",
     "start_time": "2021-10-25T17:41:02.527515Z"
    }
   },
   "outputs": [],
   "source": [
    "all_ligia_results_merged_results.to_csv(data_directory+'all_ligia_results_merged_results.csv', index  = False)"
   ]
  }
 ],
 "metadata": {
  "kernelspec": {
   "display_name": "Python 3 (ipykernel)",
   "language": "python",
   "name": "python3"
  },
  "language_info": {
   "codemirror_mode": {
    "name": "ipython",
    "version": 3
   },
   "file_extension": ".py",
   "mimetype": "text/x-python",
   "name": "python",
   "nbconvert_exporter": "python",
   "pygments_lexer": "ipython3",
   "version": "3.9.12"
  },
  "nbTranslate": {
   "displayLangs": [
    "*"
   ],
   "hotkey": "alt-t",
   "langInMainMenu": true,
   "sourceLang": "en",
   "targetLang": "fr",
   "useGoogleTranslate": true
  },
  "toc": {
   "base_numbering": 1,
   "nav_menu": {},
   "number_sections": true,
   "sideBar": true,
   "skip_h1_title": false,
   "title_cell": "Table of Contents",
   "title_sidebar": "Contents",
   "toc_cell": false,
   "toc_position": {
    "height": "calc(100% - 180px)",
    "left": "10px",
    "top": "150px",
    "width": "383.958px"
   },
   "toc_section_display": true,
   "toc_window_display": true
  }
 },
 "nbformat": 4,
 "nbformat_minor": 4
}
