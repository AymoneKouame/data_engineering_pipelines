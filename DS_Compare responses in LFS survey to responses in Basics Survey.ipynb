{
 "cells": [
  {
   "cell_type": "markdown",
   "id": "7f1b18f1",
   "metadata": {},
   "source": [
    "Background \n",
    "\n",
    "Since the program launched on May 31, 2017, participants completed a Basics survey to share basic demographic information about themselves.  On October 22, 2019, six (6) American Community Survey Disability questions were added to the Basics Survey.  However, roughly 250k participants who enrolled between May 31, 2017 to October 21, 2019 were served the version of the Basics Survey without the 6 disability questions, leading to data missingness and under-estimation of disability in the AoU Cohort.  \n",
    "\n",
    "To address this gap, these six disability surveys were served to participants as a separate Life Functioning Survey (LFS) for participants enrolled prior to October 2019.\n",
    "\n",
    "Scope\n",
    "\n",
    "Analyze to compare LFS answers and questions seen by participants with Questions and Answers seen by participants in the TheBasics survey.  Do participants see the same q/a pairs regardless of which survey they answered the question in?"
   ]
  },
  {
   "cell_type": "markdown",
   "id": "d289feaa",
   "metadata": {},
   "source": [
    "# Set Up"
   ]
  },
  {
   "cell_type": "code",
   "execution_count": null,
   "id": "66100a51",
   "metadata": {},
   "outputs": [],
   "source": [
    "import pandas as pd\n",
    "dataset = 'aou-res-curation-prod.2023q2r1_ptsc_rdr'\n",
    "dataset2 = 'aou-res-curation-output-prod.C2022Q4R9'"
   ]
  },
  {
   "cell_type": "markdown",
   "id": "932bc5a3",
   "metadata": {},
   "source": [
    "The Basics: Disability 903517\n",
    "\n",
    "PPI parent code of\n",
    "\n",
    "    Disability: Blind 903574\n",
    "    Disability: Deaf 903573\n",
    "    Disability: Difficulty Concentrating 903575\n",
    "    Disability: Dressing Bathing 903577\n",
    "    Disability: Errands Alone 903578\n",
    "    Disability: Walking Climbing 903576"
   ]
  },
  {
   "cell_type": "markdown",
   "id": "4e93632b",
   "metadata": {},
   "source": [
    "# Get Data"
   ]
  },
  {
   "cell_type": "code",
   "execution_count": null,
   "id": "35a17b2b",
   "metadata": {},
   "outputs": [],
   "source": [
    "# ancestor_cid = \"903517\"\n",
    "\n",
    "# basics_disability_df = pd.read_gbq(f\"\"\"\n",
    "#         SELECT distinct person_id, observation_source_concept_id, observation_source_value\n",
    "#                 , value_source_value, value_as_string, value_source_concept_id\n",
    "#        -- FROM `{dataset}.concept` \n",
    "#         FROM  `{dataset}.concept_ancestor` ---on (concept_id=ancestor_concept_id)\n",
    "#         join `{dataset}.observation` on (descendant_concept_id=observation_concept_id)\n",
    "#         --join `{dataset}.observation_ext` using(observation_id)\n",
    "#         WHERE observation_concept_id not in (40766240,43528428,1585389) --hcau vocab issues\n",
    "#         AND ancestor_concept_id = {ancestor_cid}\n",
    "#         --and concept_class_id='Module'\n",
    "#         --and concept_name IN ('The Basics') \n",
    "#         --and src_id='PPI/PM'\n",
    "#         and questionnaire_response_id is not null\n",
    "#         \"\"\")\n",
    "# basics_disability_df.head()"
   ]
  },
  {
   "cell_type": "code",
   "execution_count": null,
   "id": "e2a9e458",
   "metadata": {},
   "outputs": [],
   "source": [
    "ancestor_cid = \"903517\"\n",
    "\n",
    "basics_disability_df = pd.read_gbq(f\"\"\"\n",
    "        SELECT distinct person_id, observation_source_concept_id, observation_source_value\n",
    "                , value_source_value, value_as_string, value_source_concept_id\n",
    "        FROM  `{dataset2}.concept_ancestor` ---on (concept_id=ancestor_concept_id)\n",
    "        join `{dataset2}.observation` on (descendant_concept_id=observation_concept_id)\n",
    "        WHERE observation_concept_id not in (40766240,43528428,1585389) --hcau vocab issues\n",
    "        AND ancestor_concept_id = {ancestor_cid}\n",
    "        and questionnaire_response_id is not null\n",
    "        \"\"\")\n",
    "basics_disability_df.head()"
   ]
  },
  {
   "cell_type": "code",
   "execution_count": null,
   "id": "72f9cf9b",
   "metadata": {},
   "outputs": [],
   "source": [
    "print(basics_disability_df.person_id.nunique())\n",
    "basics_disability_df_gp = basics_disability_df.groupby(['observation_source_value','observation_source_concept_id','value_source_value', 'value_as_string', 'value_source_concept_id'], as_index = False).nunique()\n",
    "#basics_disability_df_gp.columns = ['basics_'+c for c in basics_disability_df_gp.columns]"
   ]
  },
  {
   "cell_type": "code",
   "execution_count": null,
   "id": "123035e1",
   "metadata": {},
   "outputs": [],
   "source": [
    "lfs_survey_df = pd.read_gbq(f\"\"\" \n",
    "        SELECT DISTINCT o.person_id, observation_source_concept_id, observation_source_value\n",
    "                , value_source_value, value_as_string, value_source_concept_id\n",
    "        FROM `{dataset}.survey_conduct` sc\n",
    "        LEFT JOIN `{dataset}.observation` o ON questionnaire_response_id = survey_conduct_id\n",
    "        WHERE survey_source_value = 'lfs' \n",
    "        -- AND observation_id IS NULL\n",
    "\"\"\")\n",
    "lfs_survey_df"
   ]
  },
  {
   "cell_type": "code",
   "execution_count": null,
   "id": "06fa5697",
   "metadata": {},
   "outputs": [],
   "source": [
    "print(lfs_survey_df.person_id.nunique())\n",
    "lfs_survey_gp = lfs_survey_df.groupby(['observation_source_value','observation_source_concept_id','value_source_value', 'value_as_string', 'value_source_concept_id'], as_index = False).nunique()\n",
    "#lfs_survey_gp.columns = ['lfs_'+c for c in lfs_survey_gp.columns ]"
   ]
  },
  {
   "cell_type": "markdown",
   "id": "bf1a6940",
   "metadata": {},
   "source": [
    "# Compare"
   ]
  },
  {
   "cell_type": "code",
   "execution_count": null,
   "id": "b133f2ec",
   "metadata": {},
   "outputs": [],
   "source": [
    "def transform(df,c = c):\n",
    "    DF= df[df.observation_source_concept_id == c][cols].drop_duplicates()\n",
    "    dd = pd.DataFrame()\n",
    "    dd['question'] = DF['observation_source_concept_id'].astype('str')+'_'+DF['observation_source_value'].astype('str')\n",
    "    dd['answer'] = DF['value_source_concept_id'].astype('str')+'_'+DF['value_source_value'].astype('str')+'_'+DF['value_as_string'].astype('str')\n",
    "    dd = dd.to_dict('records')\n",
    "    return DF, dd"
   ]
  },
  {
   "cell_type": "code",
   "execution_count": null,
   "id": "f25dd392",
   "metadata": {
    "scrolled": true
   },
   "outputs": [],
   "source": [
    "cols = ['observation_source_concept_id','observation_source_value','value_source_value'\n",
    "        ,'value_source_concept_id','value_as_string']\n",
    "for c in qc_sim_diff.basics_observation_source_concept_id.unique():\n",
    "    print('\\n\\n'+str(c)+ ' '+str(basics_disability_df_gp[basics_disability_df_gp.observation_source_concept_id == c]['observation_source_value'].unique()))\n",
    "    print('\\n  Basics')\n",
    "    df_basics, dd_basics= transform(basics_disability_df_gp)\n",
    "    display(df_basics)\n",
    "    print('  LFS')\n",
    "    df_lfs, dd_lfs = transform(lfs_survey_gp)\n",
    "    display(df_lfs)\n",
    "    for col in df_basics.columns:\n",
    "        print(f'Are the {col}s the same?:'); print(set(df_basics[col].values== df_lfs[col].values))\n",
    "    print(f'\\nBranching logic the same?:'+ str(dd_basics== dd_lfs).upper()); print('\\n  In The Basics Survey'); display(dd_basics); print('\\n  In LFS Survey');display(dd_lfs)"
   ]
  },
  {
   "cell_type": "code",
   "execution_count": null,
   "id": "f81c5cb7",
   "metadata": {},
   "outputs": [],
   "source": [
    "def transform(df,c = c):\n",
    "    DF= df[df.observation_source_concept_id == c][cols].drop_duplicates()\n",
    "    dd = pd.DataFrame()\n",
    "    dd['question_id_and_str'] = DF['observation_source_concept_id'].astype('str')+'_'+DF['observation_source_value'].astype('str')\n",
    "    dd['answer_id_and_str'] = DF['value_source_concept_id'].astype('str')+'_'+DF['value_source_value'].astype('str')\n",
    "    dd = dd.to_dict('records')\n",
    "    return DF, dd"
   ]
  },
  {
   "cell_type": "code",
   "execution_count": null,
   "id": "fd37ee75",
   "metadata": {
    "scrolled": false
   },
   "outputs": [],
   "source": [
    "cols = ['observation_source_concept_id','observation_source_value','value_source_value'\n",
    "        ,'value_source_concept_id'#,'value_as_string'\n",
    "       ]\n",
    "for c in qc_sim_diff.basics_observation_source_concept_id.unique():\n",
    "    print('\\n\\nFOR QUESTION: '+str(c)+ ' '+str(basics_disability_df_gp[basics_disability_df_gp.observation_source_concept_id == c]['observation_source_value'].unique()).upper())\n",
    "    print('\\n  In The Basics Survey')\n",
    "    df_basics, dd_basics= transform(basics_disability_df_gp); display(df_basics)\n",
    "    print('  In LFS Survey')\n",
    "    df_lfs, dd_lfs = transform(lfs_survey_gp); display(df_lfs)\n",
    "#     for col in df_basics.columns:\n",
    "#         print(f'Are the {col}s the same?:'); print(set(df_basics[col].values== df_lfs[col].values))\n",
    "    print(f'\\n  Branching logic (question/answer pairs) the same?:'+ str(dd_basics== dd_lfs).upper())"
   ]
  },
  {
   "cell_type": "code",
   "execution_count": null,
   "id": "66ccdba9",
   "metadata": {},
   "outputs": [],
   "source": []
  }
 ],
 "metadata": {
  "kernelspec": {
   "display_name": "Python 3 (ipykernel)",
   "language": "python",
   "name": "python3"
  },
  "language_info": {
   "codemirror_mode": {
    "name": "ipython",
    "version": 3
   },
   "file_extension": ".py",
   "mimetype": "text/x-python",
   "name": "python",
   "nbconvert_exporter": "python",
   "pygments_lexer": "ipython3",
   "version": "3.9.12"
  },
  "toc": {
   "base_numbering": 1,
   "nav_menu": {},
   "number_sections": true,
   "sideBar": true,
   "skip_h1_title": false,
   "title_cell": "Table of Contents",
   "title_sidebar": "Contents",
   "toc_cell": false,
   "toc_position": {
    "height": "calc(100% - 180px)",
    "left": "10px",
    "top": "150px",
    "width": "384px"
   },
   "toc_section_display": true,
   "toc_window_display": false
  }
 },
 "nbformat": 4,
 "nbformat_minor": 5
}
