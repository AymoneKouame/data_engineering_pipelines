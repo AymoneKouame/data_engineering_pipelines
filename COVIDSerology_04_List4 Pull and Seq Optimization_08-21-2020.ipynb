{
 "cells": [
  {
   "cell_type": "markdown",
   "metadata": {
    "toc": true
   },
   "source": [
    "<h1>Table of Contents<span class=\"tocSkip\"></span></h1>\n",
    "<div class=\"toc\"><ul class=\"toc-item\"><li><span><a href=\"#Set-Up\" data-toc-modified-id=\"Set-Up-1\"><span class=\"toc-item-num\">1&nbsp;&nbsp;</span>Set Up</a></span><ul class=\"toc-item\"><li><span><a href=\"#Load-All-function-used-for-this-project\" data-toc-modified-id=\"Load-All-function-used-for-this-project-1.1\"><span class=\"toc-item-num\">1.1&nbsp;&nbsp;</span>Load All function used for this project</a></span></li><li><span><a href=\"#Load-needed-datasets\" data-toc-modified-id=\"Load-needed-datasets-1.2\"><span class=\"toc-item-num\">1.2&nbsp;&nbsp;</span>Load needed datasets</a></span><ul class=\"toc-item\"><li><span><a href=\"#Load-Master-Files\" data-toc-modified-id=\"Load-Master-Files-1.2.1\"><span class=\"toc-item-num\">1.2.1&nbsp;&nbsp;</span>Load Master Files</a></span></li><li><span><a href=\"#Load-Previous-Batches,-including-their-controls\" data-toc-modified-id=\"Load-Previous-Batches,-including-their-controls-1.2.2\"><span class=\"toc-item-num\">1.2.2&nbsp;&nbsp;</span>Load Previous Batches, including their controls</a></span></li><li><span><a href=\"#08.30.2020-Load-all-results-from-batch-1-and-2\" data-toc-modified-id=\"08.30.2020-Load-all-results-from-batch-1-and-2-1.2.3\"><span class=\"toc-item-num\">1.2.3&nbsp;&nbsp;</span><strong>08.30.2020</strong> Load all results from batch 1 and 2</a></span></li></ul></li></ul></li><li><span><a href=\"#EXECUTE-THE-PLATING-STRATEGY\" data-toc-modified-id=\"EXECUTE-THE-PLATING-STRATEGY-2\"><span class=\"toc-item-num\">2&nbsp;&nbsp;</span>EXECUTE THE PLATING STRATEGY</a></span><ul class=\"toc-item\"><li><span><a href=\"#Plating-Numbers-we-need\" data-toc-modified-id=\"Plating-Numbers-we-need-2.1\"><span class=\"toc-item-num\">2.1&nbsp;&nbsp;</span>Plating Numbers we need</a></span></li><li><span><a href=\"#BATCH-4\" data-toc-modified-id=\"BATCH-4-2.2\"><span class=\"toc-item-num\">2.2&nbsp;&nbsp;</span>BATCH 4</a></span><ul class=\"toc-item\"><li><span><a href=\"#Non-control-Samples\" data-toc-modified-id=\"Non-control-Samples-2.2.1\"><span class=\"toc-item-num\">2.2.1&nbsp;&nbsp;</span>Non control Samples</a></span></li><li><span><a href=\"#Randomize-by-State\" data-toc-modified-id=\"Randomize-by-State-2.2.2\"><span class=\"toc-item-num\">2.2.2&nbsp;&nbsp;</span>Randomize by State</a></span></li><li><span><a href=\"#Sequence-Optimization\" data-toc-modified-id=\"Sequence-Optimization-2.2.3\"><span class=\"toc-item-num\">2.2.3&nbsp;&nbsp;</span>Sequence Optimization</a></span></li><li><span><a href=\"#Add-Negative-Controls\" data-toc-modified-id=\"Add-Negative-Controls-2.2.4\"><span class=\"toc-item-num\">2.2.4&nbsp;&nbsp;</span>Add Negative Controls</a></span><ul class=\"toc-item\"><li><span><a href=\"#MATCH-1:1-ON-STATE-WITH-TEST-SAMPLES-AND-SELECT-N-RANDOM-NEG-CONTROLS\" data-toc-modified-id=\"MATCH-1:1-ON-STATE-WITH-TEST-SAMPLES-AND-SELECT-N-RANDOM-NEG-CONTROLS-2.2.4.1\"><span class=\"toc-item-num\">2.2.4.1&nbsp;&nbsp;</span>MATCH 1:1 ON STATE WITH TEST SAMPLES AND SELECT N RANDOM NEG CONTROLS</a></span></li></ul></li><li><span><a href=\"#Add-Postitive-Controls\" data-toc-modified-id=\"Add-Postitive-Controls-2.2.5\"><span class=\"toc-item-num\">2.2.5&nbsp;&nbsp;</span>Add Postitive Controls</a></span><ul class=\"toc-item\"><li><span><a href=\"#QC\" data-toc-modified-id=\"QC-2.2.5.1\"><span class=\"toc-item-num\">2.2.5.1&nbsp;&nbsp;</span>QC</a></span></li></ul></li><li><span><a href=\"#FINAL-DELIVERABLE\" data-toc-modified-id=\"FINAL-DELIVERABLE-2.2.6\"><span class=\"toc-item-num\">2.2.6&nbsp;&nbsp;</span>FINAL DELIVERABLE</a></span><ul class=\"toc-item\"><li><span><a href=\"#Formatting-file-for-Mayo\" data-toc-modified-id=\"Formatting-file-for-Mayo-2.2.6.1\"><span class=\"toc-item-num\">2.2.6.1&nbsp;&nbsp;</span>Formatting file for Mayo</a></span></li><li><span><a href=\"#FINAL-BATCH-NUMBERS-QC\" data-toc-modified-id=\"FINAL-BATCH-NUMBERS-QC-2.2.6.2\"><span class=\"toc-item-num\">2.2.6.2&nbsp;&nbsp;</span>FINAL BATCH NUMBERS QC</a></span></li><li><span><a href=\"#Save-Final-Files\" data-toc-modified-id=\"Save-Final-Files-2.2.6.3\"><span class=\"toc-item-num\">2.2.6.3&nbsp;&nbsp;</span>Save Final Files</a></span></li></ul></li></ul></li><li><span><a href=\"#09.01.2020-Replace-4-neg-controls-in-Batch-sent-to-Mayo-Yesterday\" data-toc-modified-id=\"09.01.2020-Replace-4-neg-controls-in-Batch-sent-to-Mayo-Yesterday-2.3\"><span class=\"toc-item-num\">2.3&nbsp;&nbsp;</span><strong>09.01.2020</strong> Replace 4 neg controls in Batch sent to Mayo Yesterday</a></span><ul class=\"toc-item\"><li><ul class=\"toc-item\"><li><span><a href=\"#Remove-the-insufficient-volumns-and-replace-with-the-new/save-new-files\" data-toc-modified-id=\"Remove-the-insufficient-volumns-and-replace-with-the-new/save-new-files-2.3.0.1\"><span class=\"toc-item-num\">2.3.0.1&nbsp;&nbsp;</span>Remove the insufficient volumns and replace with the new/save new files</a></span></li></ul></li></ul></li></ul></li></ul></div>"
   ]
  },
  {
   "cell_type": "markdown",
   "metadata": {},
   "source": [
    "# Set Up"
   ]
  },
  {
   "cell_type": "code",
   "execution_count": null,
   "metadata": {
    "ExecuteTime": {
     "end_time": "2021-02-23T16:44:58.897429Z",
     "start_time": "2021-02-23T16:44:36.752142Z"
    }
   },
   "outputs": [],
   "source": [
    "%run ../setup.ipynb"
   ]
  },
  {
   "cell_type": "code",
   "execution_count": null,
   "metadata": {
    "ExecuteTime": {
     "end_time": "2021-02-23T16:45:01.757717Z",
     "start_time": "2021-02-23T16:45:01.705713Z"
    }
   },
   "outputs": [],
   "source": [
    "import glob\n",
    "\n",
    "location = '../DATA/DSC2'\n",
    "fileset = [file for file in glob.glob(location + \"**/***.*\", recursive=True)]\n",
    "n = 0\n",
    "for file in fileset:\n",
    "    #print()\n",
    "    print(n, file)\n",
    "    n+=1"
   ]
  },
  {
   "cell_type": "code",
   "execution_count": null,
   "metadata": {
    "ExecuteTime": {
     "end_time": "2021-02-23T16:45:02.177546Z",
     "start_time": "2021-02-23T16:45:02.174547Z"
    }
   },
   "outputs": [],
   "source": [
    "data_directory = '../DATA\\\\DSC2\\\\'\n",
    "david_directory = 'S:\\\\david\\\\fromAymone\\\\'"
   ]
  },
  {
   "cell_type": "markdown",
   "metadata": {},
   "source": [
    "## Load All function used for this project"
   ]
  },
  {
   "cell_type": "code",
   "execution_count": null,
   "metadata": {
    "ExecuteTime": {
     "end_time": "2021-02-23T16:45:02.621577Z",
     "start_time": "2021-02-23T16:45:02.571575Z"
    }
   },
   "outputs": [],
   "source": [
    "%run Serology_All_Functions.ipynb"
   ]
  },
  {
   "cell_type": "markdown",
   "metadata": {},
   "source": [
    "## Load needed datasets"
   ]
  },
  {
   "cell_type": "code",
   "execution_count": null,
   "metadata": {},
   "outputs": [],
   "source": []
  },
  {
   "cell_type": "code",
   "execution_count": null,
   "metadata": {},
   "outputs": [],
   "source": []
  },
  {
   "cell_type": "markdown",
   "metadata": {},
   "source": [
    "### Load Master Files\n",
    "Serology Master File, Negative Control Master File, Positive Control List "
   ]
  },
  {
   "cell_type": "code",
   "execution_count": null,
   "metadata": {
    "ExecuteTime": {
     "end_time": "2021-02-23T16:45:07.517309Z",
     "start_time": "2021-02-23T16:45:06.966271Z"
    }
   },
   "outputs": [],
   "source": [
    "# load master sample list\n",
    "\n",
    "first_master_list = pd.read_csv('../DATA\\DSC2\\Antobodies_tests_Master_List_2020-05-21.csv')\n",
    "first_master_list['Positive Control'] = 'No'\n",
    "first_master_list['Negative Control'] = 'No'\n",
    "master_list = pd.read_csv('../DATA\\DSC2\\Antobodies_tests_Master_List_afterBatch3_2020-08-11_14.19.13.csv')\n",
    "master_list.head(3)"
   ]
  },
  {
   "cell_type": "code",
   "execution_count": null,
   "metadata": {
    "ExecuteTime": {
     "end_time": "2021-02-23T16:45:07.554311Z",
     "start_time": "2021-02-23T16:45:07.519307Z"
    }
   },
   "outputs": [],
   "source": [
    "# # load negative controls list\n",
    "first_negative_controls_master = pd.read_csv('../DATA\\DSC2\\COVID_controls_2020-06-15_14.14.52.csv')\n",
    "first_negative_controls_master.head(3)"
   ]
  },
  {
   "cell_type": "code",
   "execution_count": null,
   "metadata": {
    "ExecuteTime": {
     "end_time": "2021-02-23T16:45:07.701320Z",
     "start_time": "2021-02-23T16:45:07.555310Z"
    }
   },
   "outputs": [],
   "source": [
    "## or this?\n",
    "negative_controls_master = pd.read_csv('../DATA\\DSC2\\COVID_controls_afterbatch22020-07-01_12.56.08.csv')\n",
    "negative_controls_master.head()#.to_csv('../DATA\\DSC2\\COVID_controls_afterbatch22020-07-01_12.56.08.csv', index = False)"
   ]
  },
  {
   "cell_type": "code",
   "execution_count": null,
   "metadata": {
    "ExecuteTime": {
     "end_time": "2021-02-23T16:45:10.960059Z",
     "start_time": "2021-02-23T16:45:10.857052Z"
    }
   },
   "outputs": [],
   "source": [
    "# load positive controls list\n",
    "vumc_positive_controls = pd.read_csv('../DATA\\\\DSC2\\\\VUMCPositive Controls Tracker_addedCals_08_03_2020.csv')\n",
    "vumc_positive_controls.head(5)"
   ]
  },
  {
   "cell_type": "code",
   "execution_count": null,
   "metadata": {
    "ExecuteTime": {
     "end_time": "2021-02-23T16:45:21.660159Z",
     "start_time": "2021-02-23T16:45:21.615157Z"
    }
   },
   "outputs": [],
   "source": [
    "pmp_positive_controls = pd.concat([pd.read_csv('../DATA\\DSC2\\ppm_positive_controls.csv'),\n",
    "                                   pd.read_csv('../DATA\\DSC2\\ppm_positive_controls_scnd.csv')], sort = False).drop_duplicates()\n",
    "pmp_positive_controls.head(5)"
   ]
  },
  {
   "cell_type": "code",
   "execution_count": null,
   "metadata": {},
   "outputs": [],
   "source": []
  },
  {
   "cell_type": "markdown",
   "metadata": {},
   "source": [
    "### Load Previous Batches, including their controls"
   ]
  },
  {
   "cell_type": "code",
   "execution_count": null,
   "metadata": {
    "ExecuteTime": {
     "end_time": "2020-09-24T17:03:41.285253Z",
     "start_time": "2020-09-24T17:03:41.215255Z"
    }
   },
   "outputs": [],
   "source": [
    "# Load Previous batches\n",
    "batch1_manifest = pd.read_csv('../DATA\\\\DSC2\\\\batch1_manifest_fromMayo.csv')#[['biobank_id']]\n",
    "batch1_manifest.head()"
   ]
  },
  {
   "cell_type": "code",
   "execution_count": null,
   "metadata": {
    "ExecuteTime": {
     "end_time": "2020-09-24T17:03:46.451436Z",
     "start_time": "2020-09-24T17:03:46.343432Z"
    }
   },
   "outputs": [],
   "source": [
    "bath1_testsamples = transform_manifest(batch1_manifest, 'Biobank ID', which_df = 'test samples')\n",
    "bath1_negativecontrols = transform_manifest(batch1_manifest, 'Biobank ID', which_df = 'negative controls')\n",
    "#bath1_testsamples = transform_manifest(batch1_manifest, 'Biobank ID', which_df = 'test samples')\n",
    "bath1_positivecontrols = transform_manifest(batch1_manifest, 'Biobank ID', which_df = 'positive controls')\n"
   ]
  },
  {
   "cell_type": "markdown",
   "metadata": {},
   "source": [
    "-------------------------------------------------------------"
   ]
  },
  {
   "cell_type": "code",
   "execution_count": null,
   "metadata": {
    "ExecuteTime": {
     "end_time": "2020-09-24T17:03:47.847080Z",
     "start_time": "2020-09-24T17:03:47.781075Z"
    }
   },
   "outputs": [],
   "source": [
    "batch2_manifest = pd.read_csv('../DATA\\\\DSC2\\\\batch2_manifest_fromMayo.csv')#[['biobank_id']] #Manifest file from Mayo received July 22?\n",
    "batch2_manifest.head()"
   ]
  },
  {
   "cell_type": "code",
   "execution_count": null,
   "metadata": {
    "ExecuteTime": {
     "end_time": "2020-09-24T17:03:48.094093Z",
     "start_time": "2020-09-24T17:03:47.988088Z"
    }
   },
   "outputs": [],
   "source": [
    "bath2_testsamples = transform_manifest(batch2_manifest, 'Biobank ID', which_df = 'test samples')\n",
    "bath2_negativecontrols = transform_manifest(batch2_manifest, 'Biobank ID', which_df = 'negative controls')\n",
    "bath2_positivecontrols = transform_manifest(batch2_manifest, 'Biobank ID', which_df = 'positive controls')\n",
    "#bath2_positivecontrols"
   ]
  },
  {
   "cell_type": "markdown",
   "metadata": {},
   "source": [
    "-----------------------------------------------------------------------"
   ]
  },
  {
   "cell_type": "code",
   "execution_count": null,
   "metadata": {
    "ExecuteTime": {
     "end_time": "2020-09-24T17:03:52.200861Z",
     "start_time": "2020-09-24T17:03:52.139858Z"
    }
   },
   "outputs": [],
   "source": [
    "batch3 = pd.read_csv('../DATA\\DSC2\\Mayo_batch3_replaced_serums_2020-08-11_15.59.09.csv')\n",
    "batch3"
   ]
  },
  {
   "cell_type": "code",
   "execution_count": null,
   "metadata": {
    "ExecuteTime": {
     "end_time": "2020-09-24T17:03:52.493880Z",
     "start_time": "2020-09-24T17:03:52.386874Z"
    }
   },
   "outputs": [],
   "source": [
    "bath3_testsamples = transform_manifest(batch3, 'Biobank ID', which_df = 'test samples')\n",
    "bath3_negativecontrols = transform_manifest(batch3, 'Biobank ID', which_df = 'negative controls')\n",
    "bath3_positivecontrols = batch3[batch3['Positive Control'] == 'Yes']"
   ]
  },
  {
   "cell_type": "code",
   "execution_count": null,
   "metadata": {
    "ExecuteTime": {
     "end_time": "2020-09-24T17:03:57.494095Z",
     "start_time": "2020-09-24T17:03:57.490093Z"
    }
   },
   "outputs": [],
   "source": [
    "bath3_positivecontrols   = bath3_positivecontrols.rename(columns = {'Biobank ID':'Positive Control ID'})"
   ]
  },
  {
   "cell_type": "code",
   "execution_count": null,
   "metadata": {
    "ExecuteTime": {
     "end_time": "2020-09-24T17:03:57.840113Z",
     "start_time": "2020-09-24T17:03:57.726105Z"
    }
   },
   "outputs": [],
   "source": [
    "batch1and2_testsamples_bids1 = bath1_testsamples.rename(columns = {'Sample Id':'Sample ID'}).merge(bath2_testsamples, 'outer').drop_duplicates()\n",
    "batch1_2and3_testsamples_bids = batch1and2_testsamples_bids1[['biobank_id']].merge(bath3_testsamples[['biobank_id']], 'outer').drop_duplicates()\n",
    "batch1_2and3_testsamples_bids.biobank_id.nunique()"
   ]
  },
  {
   "cell_type": "code",
   "execution_count": null,
   "metadata": {
    "ExecuteTime": {
     "end_time": "2020-09-24T17:03:58.191238Z",
     "start_time": "2020-09-24T17:03:58.140234Z"
    }
   },
   "outputs": [],
   "source": [
    "# Get pervious batches negative controls list\n",
    "batch1and2_negative_bids1 = bath1_negativecontrols.rename(columns = {'Sample Id':'Sample ID'}).merge(bath2_negativecontrols, 'outer').drop_duplicates()\n",
    "batch1_2and3_negative_bids = batch1and2_negative_bids1[['biobank_id']].merge(bath3_negativecontrols[['biobank_id']], 'outer').drop_duplicates()\n",
    "len(batch1and2_negative_bids1)"
   ]
  },
  {
   "cell_type": "code",
   "execution_count": null,
   "metadata": {
    "ExecuteTime": {
     "end_time": "2020-09-24T17:03:58.257245Z",
     "start_time": "2020-09-24T17:03:58.236245Z"
    }
   },
   "outputs": [],
   "source": [
    "# Get pervious batches positive controls list\n",
    "batch1and2_positive_bids1 = bath1_positivecontrols.rename(columns = {'Sample Id':'Sample ID'}).merge(bath2_positivecontrols, 'outer').drop_duplicates()\n",
    "batch1_2and3_positive_bids = batch1and2_positive_bids1[['Positive Control ID']].merge(bath3_positivecontrols[['Positive Control ID']], 'outer').drop_duplicates()\n",
    "len(batch1_2and3_positive_bids)"
   ]
  },
  {
   "cell_type": "markdown",
   "metadata": {},
   "source": [
    "### **08.30.2020** Load all results from batch 1 and 2 \n",
    "to get negs and pos for list 4"
   ]
  },
  {
   "cell_type": "code",
   "execution_count": null,
   "metadata": {
    "ExecuteTime": {
     "end_time": "2020-09-24T17:42:56.669802Z",
     "start_time": "2020-09-24T17:42:56.599797Z"
    }
   },
   "outputs": [],
   "source": [
    "batch1_and2_allResults = pd.read_csv(data_directory+'full_results_08_31_2020.csv')[['Specimen ID', 'outcome_ab', 'outcome_ab_raw', 'outcome_ei', 'outcome_ei_raw']]\n",
    "batch1_and2_allResults = batch1_and2_allResults.rename(columns = {'Specimen ID':'Sample ID'})\n",
    "batch1_and2_allResults.head()"
   ]
  },
  {
   "cell_type": "code",
   "execution_count": null,
   "metadata": {},
   "outputs": [],
   "source": []
  },
  {
   "cell_type": "markdown",
   "metadata": {},
   "source": [
    "# EXECUTE THE PLATING STRATEGY"
   ]
  },
  {
   "cell_type": "markdown",
   "metadata": {},
   "source": [
    "## Plating Numbers we need"
   ]
  },
  {
   "cell_type": "code",
   "execution_count": null,
   "metadata": {
    "ExecuteTime": {
     "end_time": "2020-09-24T17:04:27.685387Z",
     "start_time": "2020-09-24T17:04:27.681380Z"
    }
   },
   "outputs": [],
   "source": [
    "import math\n",
    "### Which batch number is this (that we deliver to the biobank?)\n",
    "batch_number = 4\n",
    "batch_size = 143  ## w/o controls\n",
    "#nwells = 143 #without the controls\n",
    "number_of_plates = 1 #not a plating system ; so I am putting plate = 1\n",
    "NegControls_perBatch = batch_size #match 1 to 1\n",
    "PosControls_perBatch = 4"
   ]
  },
  {
   "cell_type": "code",
   "execution_count": null,
   "metadata": {
    "ExecuteTime": {
     "end_time": "2020-09-24T17:04:27.778389Z",
     "start_time": "2020-09-24T17:04:27.774384Z"
    }
   },
   "outputs": [],
   "source": [
    "83+62"
   ]
  },
  {
   "cell_type": "markdown",
   "metadata": {},
   "source": [
    "## BATCH 4"
   ]
  },
  {
   "cell_type": "markdown",
   "metadata": {},
   "source": [
    "### Non control Samples"
   ]
  },
  {
   "cell_type": "markdown",
   "metadata": {},
   "source": [
    "We wont use `pull_batch()`"
   ]
  },
  {
   "cell_type": "markdown",
   "metadata": {
    "ExecuteTime": {
     "end_time": "2020-08-31T17:07:33.367773Z",
     "start_time": "2020-08-31T17:07:33.364776Z"
    }
   },
   "source": [
    "Batch 4 Test Samples = any of the samples that tested positive on any platform in Batches 1/2. It should be 145 samples"
   ]
  },
  {
   "cell_type": "code",
   "execution_count": null,
   "metadata": {
    "ExecuteTime": {
     "end_time": "2020-09-24T17:04:32.029028Z",
     "start_time": "2020-09-24T17:04:32.005026Z"
    }
   },
   "outputs": [],
   "source": [
    "batch1and2_manifest = pd.concat([batch1_manifest.rename(columns ={'Sample Id':'Specimen ID'}), batch2_manifest[['Biobank ID','Sample ID']].rename(columns ={'Sample ID':'Specimen ID'})])\n",
    "batch1and2_manifest"
   ]
  },
  {
   "cell_type": "code",
   "execution_count": null,
   "metadata": {
    "ExecuteTime": {
     "end_time": "2020-09-24T17:04:34.280252Z",
     "start_time": "2020-09-24T17:04:34.268254Z"
    }
   },
   "outputs": [],
   "source": [
    "batch1and2_manifest[batch1and2_manifest['Specimen ID'] == 20169003373]"
   ]
  },
  {
   "cell_type": "code",
   "execution_count": null,
   "metadata": {
    "ExecuteTime": {
     "end_time": "2020-09-24T17:45:22.455848Z",
     "start_time": "2020-09-24T17:45:22.414847Z"
    },
    "scrolled": true
   },
   "outputs": [],
   "source": [
    "batch1_and2_tested_positive = pd.read_csv(data_directory+'serology_positive_samples_ei_ab_08_13_2020.csv')\n",
    "batch1_and2_tested_positive2 = batch1_and2_tested_positive.merge(batch1and2_manifest[['Biobank ID','Specimen ID']])\n",
    "batch1_and2_tested_positive2\n",
    "\n",
    "#batch1_and2_allResults_merged = batch1and2_manifest[['Biobank ID','Specimen ID']].merge(batch1_and2_allResults).drop_duplicates()\n",
    "#batch1_and2_allResults_merged.to_csv(data_directory+'batch1_and2_allResults_mergedWmanifest.csv', index = False)"
   ]
  },
  {
   "cell_type": "code",
   "execution_count": null,
   "metadata": {
    "ExecuteTime": {
     "end_time": "2020-09-02T14:21:51.503345Z",
     "start_time": "2020-09-02T14:21:51.498347Z"
    }
   },
   "outputs": [],
   "source": [
    "batch1_and2_tested_positive2.columns"
   ]
  },
  {
   "cell_type": "code",
   "execution_count": null,
   "metadata": {
    "ExecuteTime": {
     "end_time": "2020-09-02T14:21:52.358606Z",
     "start_time": "2020-09-02T14:21:52.348605Z"
    }
   },
   "outputs": [],
   "source": [
    "batch1_and2_tested_positive"
   ]
  },
  {
   "cell_type": "code",
   "execution_count": null,
   "metadata": {
    "ExecuteTime": {
     "end_time": "2020-09-02T14:21:54.813901Z",
     "start_time": "2020-09-02T14:21:54.807900Z"
    }
   },
   "outputs": [],
   "source": [
    "batch1_and2_tested_positive['Specimen ID'].nunique(), batch1_and2_tested_positive2['Specimen ID'].nunique()"
   ]
  },
  {
   "cell_type": "code",
   "execution_count": null,
   "metadata": {
    "ExecuteTime": {
     "end_time": "2020-09-02T14:21:55.889067Z",
     "start_time": "2020-09-02T14:21:55.877067Z"
    }
   },
   "outputs": [],
   "source": [
    "batch1_and2_tested_positive2_pos = transform_manifest(batch1_and2_tested_positive2, 'Biobank ID', 'positive controls')[['Specimen ID', 'Positive Control ID', 'outcome_ab', 'outcome_ei']]"
   ]
  },
  {
   "cell_type": "code",
   "execution_count": null,
   "metadata": {
    "ExecuteTime": {
     "end_time": "2020-09-02T14:21:56.871483Z",
     "start_time": "2020-09-02T14:21:56.859483Z"
    }
   },
   "outputs": [],
   "source": [
    "batch1_and2_tested_positive2"
   ]
  },
  {
   "cell_type": "code",
   "execution_count": null,
   "metadata": {
    "ExecuteTime": {
     "end_time": "2020-09-02T14:21:57.088492Z",
     "start_time": "2020-09-02T14:21:57.084489Z"
    }
   },
   "outputs": [],
   "source": [
    "batch1_and2_tested_positive2_pos['Positive Control ID'].nunique()"
   ]
  },
  {
   "cell_type": "code",
   "execution_count": null,
   "metadata": {
    "ExecuteTime": {
     "end_time": "2020-09-02T14:21:57.373545Z",
     "start_time": "2020-09-02T14:21:57.317542Z"
    }
   },
   "outputs": [],
   "source": [
    "batch1_and2_tested_positive2_testSamples = transform_manifest(batch1_and2_tested_positive2, 'Biobank ID', 'test samples')[['Specimen ID', 'biobank_id', 'outcome_ab', 'outcome_ei']]"
   ]
  },
  {
   "cell_type": "code",
   "execution_count": null,
   "metadata": {
    "ExecuteTime": {
     "end_time": "2020-09-02T14:22:01.002444Z",
     "start_time": "2020-09-02T14:22:00.955440Z"
    }
   },
   "outputs": [],
   "source": [
    "batch1and2_testedPos_testSamples = pd.concat([batch1_and2_tested_positive2_testSamples.merge(first_master_list),\n",
    "                                              batch1_and2_tested_positive2_testSamples.merge(first_negative_controls_master)]).drop_duplicates()\n"
   ]
  },
  {
   "cell_type": "code",
   "execution_count": null,
   "metadata": {
    "ExecuteTime": {
     "end_time": "2020-09-02T14:22:02.508254Z",
     "start_time": "2020-09-02T14:22:02.486253Z"
    },
    "scrolled": true
   },
   "outputs": [],
   "source": [
    "batch1and2_testedPos_testSamples[batch1and2_testedPos_testSamples['Negative Control'] == 'Yes'].drop_duplicates()"
   ]
  },
  {
   "cell_type": "code",
   "execution_count": null,
   "metadata": {
    "ExecuteTime": {
     "end_time": "2020-09-02T14:22:04.792704Z",
     "start_time": "2020-09-02T14:22:04.787707Z"
    }
   },
   "outputs": [],
   "source": [
    "batch1and2_testedPos_testSamples= batch1and2_testedPos_testSamples[batch1and2_testedPos_testSamples['Negative Control'] == 'No']\n",
    "batch1and2_testedPos_testSamples= batch1and2_testedPos_testSamples[batch1and2_testedPos_testSamples['Positive Control'] == 'No']"
   ]
  },
  {
   "cell_type": "code",
   "execution_count": null,
   "metadata": {
    "ExecuteTime": {
     "end_time": "2020-09-02T14:22:05.575814Z",
     "start_time": "2020-09-02T14:22:05.572814Z"
    },
    "scrolled": false
   },
   "outputs": [],
   "source": [
    "# batch1and2_testedPos_testsamples = transform_manifest(batch1_and2_tested_positive2, 'Biobank ID', which_df = 'test samples')[['Specimen ID','biobank_id', 'outcome_ab','outcome_ei','Negative Control', 'Positive Control']]\n",
    "# batch1and2_testedPos_PosControls = transform_manifest(batch1_and2_tested_positive2, 'Biobank ID', which_df = 'positive controls')\n",
    "# batch1and2_testedPos_NegControls = transform_manifest(batch1_and2_tested_positive2, 'Biobank ID', which_df = 'negative controls')[['Specimen ID','biobank_id', 'outcome_ab','outcome_ei','Negative Control', 'Positive Control']]"
   ]
  },
  {
   "cell_type": "code",
   "execution_count": null,
   "metadata": {
    "ExecuteTime": {
     "end_time": "2020-09-02T14:22:05.962448Z",
     "start_time": "2020-09-02T14:22:05.957446Z"
    }
   },
   "outputs": [],
   "source": [
    "batch1and2_testedPos_testSamples.biobank_id.nunique()"
   ]
  },
  {
   "cell_type": "markdown",
   "metadata": {},
   "source": [
    "Confirm with David that the number of Pids (non pos and non neg controls) who tested positive in batch 1 and 2 is **143 and NOT 145** - yes, confirmed - 143"
   ]
  },
  {
   "cell_type": "markdown",
   "metadata": {},
   "source": [
    "---------------------------------------------------------"
   ]
  },
  {
   "cell_type": "code",
   "execution_count": null,
   "metadata": {
    "ExecuteTime": {
     "end_time": "2020-09-02T14:22:10.003698Z",
     "start_time": "2020-09-02T14:22:09.998696Z"
    }
   },
   "outputs": [],
   "source": [
    "#batch3.state.drop_duplicates().sort_values()\n",
    "batch4 = batch1and2_testedPos_testSamples\n",
    "batch4.state.nunique()"
   ]
  },
  {
   "cell_type": "markdown",
   "metadata": {
    "ExecuteTime": {
     "end_time": "2020-08-07T18:06:58.248891Z",
     "start_time": "2020-08-07T18:06:58.246895Z"
    }
   },
   "source": [
    "##### Quick checks + Save batch to drive for documentation"
   ]
  },
  {
   "cell_type": "code",
   "execution_count": null,
   "metadata": {
    "ExecuteTime": {
     "end_time": "2020-09-01T13:53:49.726567Z",
     "start_time": "2020-09-01T13:53:49.719560Z"
    }
   },
   "outputs": [],
   "source": [
    "#Check dates of specimen collection and number of unique biobank_ids\n",
    "batch4.participant_id.nunique(), pd.to_datetime(batch4['DateBloodSampleCollected']).max(), pd.to_datetime(batch4['DateBloodSampleCollected']).min()\n"
   ]
  },
  {
   "cell_type": "code",
   "execution_count": null,
   "metadata": {
    "ExecuteTime": {
     "end_time": "2020-09-01T20:22:33.002132Z",
     "start_time": "2020-09-01T20:22:32.992128Z"
    }
   },
   "outputs": [],
   "source": [
    "batch4[batch4['Specimen ID'] == 20169003373]"
   ]
  },
  {
   "cell_type": "code",
   "execution_count": null,
   "metadata": {
    "ExecuteTime": {
     "end_time": "2020-09-01T13:54:18.669215Z",
     "start_time": "2020-09-01T13:54:18.632180Z"
    }
   },
   "outputs": [],
   "source": [
    "# Check that batch3 pids **are** in batch1 or batch2\n",
    "pd.merge(batch4['biobank_id'],batch1and2_testsamples_bids1)"
   ]
  },
  {
   "cell_type": "code",
   "execution_count": null,
   "metadata": {
    "ExecuteTime": {
     "end_time": "2020-09-01T13:53:50.207208Z",
     "start_time": "2020-09-01T13:53:50.204206Z"
    }
   },
   "outputs": [],
   "source": [
    "#save_this_csv(batch3, desired_filename='Serology_batch' +str(batch_number))"
   ]
  },
  {
   "cell_type": "code",
   "execution_count": null,
   "metadata": {
    "ExecuteTime": {
     "end_time": "2020-09-01T20:28:42.217495Z",
     "start_time": "2020-09-01T20:28:42.207500Z"
    }
   },
   "outputs": [],
   "source": [
    "batch4[batch4['Specimen ID'] == 20169003373]"
   ]
  },
  {
   "cell_type": "markdown",
   "metadata": {
    "ExecuteTime": {
     "end_time": "2020-08-05T16:01:14.884590Z",
     "start_time": "2020-08-05T16:01:14.881591Z"
    }
   },
   "source": [
    "### Randomize by State \n",
    "use `randomize_state()` "
   ]
  },
  {
   "cell_type": "code",
   "execution_count": null,
   "metadata": {
    "ExecuteTime": {
     "end_time": "2020-08-31T22:28:29.801304Z",
     "start_time": "2020-08-31T22:28:29.799299Z"
    }
   },
   "outputs": [],
   "source": [
    "# samples_groups = randomize_state(batch_df = batch4, batch_size = batch_size, rand_state = 831)\n",
    "# samples_groups.head()"
   ]
  },
  {
   "cell_type": "markdown",
   "metadata": {
    "ExecuteTime": {
     "end_time": "2020-08-05T16:01:54.973397Z",
     "start_time": "2020-08-05T16:01:54.968402Z"
    }
   },
   "source": [
    "### Sequence Optimization\n",
    "Not batch/plate system - dont' use `optimize_sequence()`"
   ]
  },
  {
   "cell_type": "code",
   "execution_count": null,
   "metadata": {
    "ExecuteTime": {
     "end_time": "2020-08-31T21:28:24.972571Z",
     "start_time": "2020-08-31T21:28:24.970571Z"
    }
   },
   "outputs": [],
   "source": [
    "# #nwells defined in 2.1 #excludes both positive and negative control wells for now\n",
    "\n",
    "# samples_groups_optimized = optimize_sequence(df = samples_groups, n_wells = nwells, batch_size = batch_size,\n",
    "#                                              rand_state= 80511)\n",
    "# samples_groups_optimized.sort_values('plate')"
   ]
  },
  {
   "cell_type": "code",
   "execution_count": null,
   "metadata": {
    "ExecuteTime": {
     "end_time": "2020-08-07T18:07:05.089278Z",
     "start_time": "2020-08-07T18:07:05.087277Z"
    }
   },
   "outputs": [],
   "source": [
    "##### QC and fix"
   ]
  },
  {
   "cell_type": "markdown",
   "metadata": {
    "ExecuteTime": {
     "end_time": "2020-08-05T16:06:33.835579Z",
     "start_time": "2020-08-05T16:06:33.831578Z"
    }
   },
   "source": [
    "### Add Negative Controls\n",
    "negs from 2019 samples already tested in batch 1 and 2, that were concordant negative on ei/abbot\n",
    "Match 1:1 to non-control samples on state"
   ]
  },
  {
   "cell_type": "code",
   "execution_count": null,
   "metadata": {
    "ExecuteTime": {
     "end_time": "2020-09-01T13:54:28.649737Z",
     "start_time": "2020-09-01T13:54:28.617707Z"
    }
   },
   "outputs": [],
   "source": [
    "batch1and2_negative_bids1"
   ]
  },
  {
   "cell_type": "code",
   "execution_count": null,
   "metadata": {
    "ExecuteTime": {
     "end_time": "2020-09-01T20:30:05.359452Z",
     "start_time": "2020-09-01T20:30:05.344452Z"
    }
   },
   "outputs": [],
   "source": [
    "batch1and2_negative_bids1[batch1and2_negative_bids1['Sample ID'] == 20169003373]"
   ]
  },
  {
   "cell_type": "code",
   "execution_count": null,
   "metadata": {
    "ExecuteTime": {
     "end_time": "2020-09-02T14:19:50.172917Z",
     "start_time": "2020-09-02T14:19:50.149919Z"
    }
   },
   "outputs": [],
   "source": [
    "batch1_and2_NegControls_Results = batch1_and2_allResults.merge(batch1and2_negative_bids1[['Sample ID','biobank_id', 'Negative Control', 'Positive Control']])\n",
    "batch1_and2_NegControls_Results#= batch1_and2_NegControls_Results.merge(first_master_list)"
   ]
  },
  {
   "cell_type": "code",
   "execution_count": null,
   "metadata": {
    "ExecuteTime": {
     "end_time": "2020-09-02T14:20:08.136839Z",
     "start_time": "2020-09-02T14:20:08.127838Z"
    }
   },
   "outputs": [],
   "source": [
    "batch1_and2_NegControls_Results[batch1_and2_NegControls_Results['Sample ID'] == 20169003373]"
   ]
  },
  {
   "cell_type": "code",
   "execution_count": null,
   "metadata": {
    "ExecuteTime": {
     "end_time": "2020-09-02T14:20:13.102952Z",
     "start_time": "2020-09-02T14:20:13.096952Z"
    }
   },
   "outputs": [],
   "source": [
    "## GET ONLY TRUE NEGS (neg on both platforms)\n",
    "batch1and2_trueNeg = batch1_and2_NegControls_Results[(batch1_and2_NegControls_Results.outcome_ab_raw == 'NEGATIVE') \n",
    "                                                      & (batch1_and2_NegControls_Results.outcome_ei_raw == 'NEGATIVE')]\n"
   ]
  },
  {
   "cell_type": "code",
   "execution_count": null,
   "metadata": {
    "ExecuteTime": {
     "end_time": "2020-09-02T14:20:14.028710Z",
     "start_time": "2020-09-02T14:20:13.995707Z"
    }
   },
   "outputs": [],
   "source": [
    "## DROP BIOBANK IDs WITH ONE OR MORE SAMPLES THAT TESTED OTHER THAN NEGATIVE (even if other samples have tested neg on both ei and ab)\n",
    "eb_ei = batch1_and2_NegControls_Results\n",
    "eb_ei['eb+ei'] = batch1_and2_NegControls_Results['outcome_ei_raw']+','+batch1_and2_NegControls_Results['outcome_ab_raw']\n",
    "eb_ei = eb_ei[['biobank_id','eb+ei']].groupby(['biobank_id']).nunique()[['eb+ei']].sort_values('eb+ei').reset_index()\n",
    "\n",
    "## keeping only pids who have one set of result for all samples\n",
    "eb_ei = eb_ei[eb_ei['eb+ei'] ==1].drop_duplicates()\n",
    "eb_ei"
   ]
  },
  {
   "cell_type": "code",
   "execution_count": null,
   "metadata": {
    "ExecuteTime": {
     "end_time": "2020-09-02T14:20:49.657123Z",
     "start_time": "2020-09-02T14:20:49.649124Z"
    }
   },
   "outputs": [],
   "source": [
    "batch1and2_trueNeg2 = eb_ei[['biobank_id']].merge(batch1and2_trueNeg)"
   ]
  },
  {
   "cell_type": "code",
   "execution_count": null,
   "metadata": {
    "ExecuteTime": {
     "end_time": "2020-09-02T14:21:05.681751Z",
     "start_time": "2020-09-02T14:21:05.571758Z"
    }
   },
   "outputs": [],
   "source": [
    "batch4_negControls = pd.concat([batch1and2_trueNeg2[['biobank_id']].merge(first_negative_controls_master).drop_duplicates(),\n",
    "                                 batch1and2_trueNeg2[['biobank_id']].merge(negative_controls_master).drop_duplicates()]).drop_duplicates()\n",
    "batch4_negControls"
   ]
  },
  {
   "cell_type": "code",
   "execution_count": null,
   "metadata": {
    "ExecuteTime": {
     "end_time": "2020-09-02T14:21:05.758751Z",
     "start_time": "2020-09-02T14:21:05.753751Z"
    }
   },
   "outputs": [],
   "source": [
    "batch1and2_trueNeg2.biobank_id.nunique()"
   ]
  },
  {
   "cell_type": "code",
   "execution_count": null,
   "metadata": {
    "ExecuteTime": {
     "end_time": "2020-08-31T21:29:59.038855Z",
     "start_time": "2020-08-31T21:29:59.034857Z"
    }
   },
   "outputs": [],
   "source": [
    "# batch3_negControls = batch_negative_controls(ramdomized_sample_df = samples_groups_optimized,#samples_groups, \n",
    "#                                                 batch_df = batch3, \n",
    "#                                                negControls_master = negative_controls_master, \n",
    "#                                                unrepeated_negControls = NegControls_perBatch,\n",
    "#                                                number_plates = number_of_plates, rand_state = 8051107,\n",
    "#                                                 previous_batch_negControls = batch1and2_negative_bids)\n",
    "\n",
    "# batch3_negControls"
   ]
  },
  {
   "cell_type": "code",
   "execution_count": null,
   "metadata": {
    "ExecuteTime": {
     "end_time": "2020-09-01T16:21:49.061788Z",
     "start_time": "2020-09-01T16:21:49.056787Z"
    }
   },
   "outputs": [],
   "source": [
    "batch4_negControls.columns"
   ]
  },
  {
   "cell_type": "markdown",
   "metadata": {},
   "source": [
    "#### MATCH 1:1 ON STATE WITH TEST SAMPLES AND SELECT N RANDOM NEG CONTROLS"
   ]
  },
  {
   "cell_type": "code",
   "execution_count": null,
   "metadata": {
    "ExecuteTime": {
     "end_time": "2020-09-01T16:22:09.542408Z",
     "start_time": "2020-09-01T16:22:09.538406Z"
    }
   },
   "outputs": [],
   "source": [
    "rand_state = 831\n",
    "NegControls_perBatch"
   ]
  },
  {
   "cell_type": "code",
   "execution_count": null,
   "metadata": {
    "ExecuteTime": {
     "end_time": "2020-09-02T14:23:51.727950Z",
     "start_time": "2020-09-02T14:23:51.701951Z"
    }
   },
   "outputs": [],
   "source": [
    "batch4_negControls = batch4[['state']].merge(batch4_negControls)\n",
    "batch4_negControls_df = batch4_negControls[['state','biobank_id', 'participant_id', 'DateBloodSampleCollected','Negative Control', 'Positive Control']].drop_duplicates().sample(n = NegControls_perBatch, random_state = rand_state)"
   ]
  },
  {
   "cell_type": "code",
   "execution_count": null,
   "metadata": {
    "ExecuteTime": {
     "end_time": "2020-09-01T16:22:12.511052Z",
     "start_time": "2020-09-01T16:22:12.506048Z"
    }
   },
   "outputs": [],
   "source": [
    "batch4_negControls_df.biobank_id.nunique(), batch4['biobank_id'].nunique()"
   ]
  },
  {
   "cell_type": "code",
   "execution_count": null,
   "metadata": {
    "ExecuteTime": {
     "end_time": "2020-09-01T16:22:44.110145Z",
     "start_time": "2020-09-01T16:22:44.104141Z"
    }
   },
   "outputs": [],
   "source": [
    "batch4_negControls.state.nunique(), batch4_negControls_df.state.nunique(), batch4.state.nunique()"
   ]
  },
  {
   "cell_type": "code",
   "execution_count": null,
   "metadata": {
    "ExecuteTime": {
     "end_time": "2020-09-01T16:22:46.877904Z",
     "start_time": "2020-09-01T16:22:46.865903Z"
    }
   },
   "outputs": [],
   "source": [
    "batch4_negControls_df[['state']].drop_duplicates().sort_values('state'), batch4[['state']].drop_duplicates().sort_values('state')"
   ]
  },
  {
   "cell_type": "code",
   "execution_count": null,
   "metadata": {
    "ExecuteTime": {
     "end_time": "2020-09-01T16:22:54.916994Z",
     "start_time": "2020-09-01T16:22:54.911993Z"
    }
   },
   "outputs": [],
   "source": [
    "set(batch4_negControls_df.state)  - set(batch4.state)\n",
    "#set(batch4.state) - set(batch4_negControls_df.state)"
   ]
  },
  {
   "cell_type": "code",
   "execution_count": null,
   "metadata": {
    "ExecuteTime": {
     "end_time": "2020-09-01T16:26:25.330196Z",
     "start_time": "2020-09-01T16:26:25.318195Z"
    }
   },
   "outputs": [],
   "source": [
    "batch4_negControls_df = batch4_negControls_df.drop('state', axis = 1).drop_duplicates()\n",
    "batch4_negControls_df"
   ]
  },
  {
   "cell_type": "markdown",
   "metadata": {},
   "source": [
    "##### QC AND FIX"
   ]
  },
  {
   "cell_type": "code",
   "execution_count": null,
   "metadata": {
    "ExecuteTime": {
     "end_time": "2020-09-01T20:24:40.279795Z",
     "start_time": "2020-09-01T20:24:40.264795Z"
    }
   },
   "outputs": [],
   "source": [
    "batch4_negControls[batch4_negControls['Sample'] == 20169003373]\n",
    "#batch4_negControls.columns"
   ]
  },
  {
   "cell_type": "code",
   "execution_count": null,
   "metadata": {
    "ExecuteTime": {
     "end_time": "2020-09-01T16:22:59.141528Z",
     "start_time": "2020-09-01T16:22:58.342472Z"
    }
   },
   "outputs": [],
   "source": [
    "# ensure theat the negs are true negs\n",
    "for c in batch4_negControls_df.biobank_id:\n",
    "    display(batch1_and2_NegControls_Results[batch1_and2_NegControls_Results.biobank_id == c][['outcome_ab_raw','outcome_ei_raw']].drop_duplicates())"
   ]
  },
  {
   "cell_type": "code",
   "execution_count": null,
   "metadata": {
    "ExecuteTime": {
     "end_time": "2020-08-07T17:48:49.417059Z",
     "start_time": "2020-08-07T17:48:49.415058Z"
    }
   },
   "outputs": [],
   "source": [
    "#savebatch3_negControls_.to_csv('../DATA/DSC2/batch'+str(b_number)+str(scenario)+'_negative_controls_'+now+'.csv')"
   ]
  },
  {
   "cell_type": "code",
   "execution_count": null,
   "metadata": {
    "ExecuteTime": {
     "end_time": "2020-09-01T16:23:24.359034Z",
     "start_time": "2020-09-01T16:23:24.355035Z"
    }
   },
   "outputs": [],
   "source": [
    "batch4_negControls_df['DateBloodSampleCollected'].min(), batch4_negControls_df['DateBloodSampleCollected'].max()"
   ]
  },
  {
   "cell_type": "markdown",
   "metadata": {},
   "source": [
    "### Add Postitive Controls\n",
    "4 total positives chosen randomly from the boston and vandy samples that were already run and concordant positive"
   ]
  },
  {
   "cell_type": "code",
   "execution_count": null,
   "metadata": {
    "ExecuteTime": {
     "end_time": "2020-09-01T14:01:54.673756Z",
     "start_time": "2020-09-01T14:01:54.663749Z"
    }
   },
   "outputs": [],
   "source": [
    "batch1and2_positive_bids1.head(3)"
   ]
  },
  {
   "cell_type": "code",
   "execution_count": null,
   "metadata": {
    "ExecuteTime": {
     "end_time": "2020-09-01T14:01:55.493516Z",
     "start_time": "2020-09-01T14:01:55.476511Z"
    }
   },
   "outputs": [],
   "source": [
    "batch1_and2_PosControls_Results = batch1_and2_allResults.merge(batch1and2_positive_bids1[['Sample ID','Positive Control ID']])\n",
    "batch1_and2_PosControls_Results#= batch1_and2_NegControls_Results.merge(first_master_list)"
   ]
  },
  {
   "cell_type": "code",
   "execution_count": null,
   "metadata": {
    "ExecuteTime": {
     "end_time": "2020-09-01T14:03:07.006582Z",
     "start_time": "2020-09-01T14:03:07.002580Z"
    }
   },
   "outputs": [],
   "source": [
    "rand_state, PosControls_perBatch"
   ]
  },
  {
   "cell_type": "code",
   "execution_count": null,
   "metadata": {
    "ExecuteTime": {
     "end_time": "2020-09-01T14:03:14.859188Z",
     "start_time": "2020-09-01T14:03:14.845185Z"
    }
   },
   "outputs": [],
   "source": [
    "## GET ONLY TRUE POS (pos on both platforms)\n",
    "batch1and2_truePos = batch1_and2_PosControls_Results[(batch1_and2_PosControls_Results.outcome_ab_raw == 'POSITIVE') \n",
    "                                                      & (batch1_and2_PosControls_Results.outcome_ei_raw == 'POSITIVE')]\n",
    "\n",
    "# randomly select 4 samples\n",
    "positive_controls_df = batch1and2_truePos[['Sample ID', 'Positive Control ID']].sample(n = PosControls_perBatch, random_state = rand_state)\n",
    "positive_controls_df['Negative Control'] = 'No'\n",
    "positive_controls_df['Positive Control'] = 'Yes'\n",
    "\n",
    "positive_controls_df"
   ]
  },
  {
   "cell_type": "code",
   "execution_count": null,
   "metadata": {
    "ExecuteTime": {
     "end_time": "2020-08-31T22:21:12.427965Z",
     "start_time": "2020-08-31T22:21:12.424961Z"
    }
   },
   "outputs": [],
   "source": [
    "# positive_controls_df = batch_positive_controls(pos_controls_df = batch3_posControls, \n",
    "#                                                    rand_state = 805134, \n",
    "#                                                    number_plates = number_of_plates,\n",
    "#                                                    aliquots_needed = 350)\n",
    "# positive_controls_df #= _sc1[['Sample ID','serology_id','positive control', 'negative control', 'plate']]\n",
    "# #positive_controls_df_sc1"
   ]
  },
  {
   "cell_type": "code",
   "execution_count": null,
   "metadata": {
    "ExecuteTime": {
     "end_time": "2020-08-31T22:21:49.645626Z",
     "start_time": "2020-08-31T22:21:49.640623Z"
    }
   },
   "outputs": [],
   "source": [
    "batch1and2_truePos['Sample ID'].nunique(), batch1and2_truePos['Sample ID'].count(), batch1and2_truePos['Positive Control ID'].nunique()  "
   ]
  },
  {
   "cell_type": "markdown",
   "metadata": {},
   "source": [
    "#### QC"
   ]
  },
  {
   "cell_type": "code",
   "execution_count": null,
   "metadata": {
    "ExecuteTime": {
     "end_time": "2020-08-31T22:12:13.639165Z",
     "start_time": "2020-08-31T22:12:13.635167Z"
    }
   },
   "outputs": [],
   "source": [
    "#positive_controls_df[['plate','Total vol (ml)']].groupby('plate').sum()"
   ]
  },
  {
   "cell_type": "code",
   "execution_count": null,
   "metadata": {
    "ExecuteTime": {
     "end_time": "2020-08-07T18:13:32.734079Z",
     "start_time": "2020-08-07T18:13:32.731081Z"
    }
   },
   "outputs": [],
   "source": [
    "# ## QC\n",
    "# batch_controls_demog = pd.merge(COVID_controls, batch_controls_repeated[['biobank_id']], how = 'inner')#.drop('Unnamed: 0', axis =1)\n",
    "# batch_controls_demog.head()\n",
    "\n",
    "# for v in ['Race','state']:\n",
    "#     display(get_dist(DF = batch_controls_demog, dist_var = v, group = None, groupnumber = None))"
   ]
  },
  {
   "cell_type": "code",
   "execution_count": null,
   "metadata": {
    "ExecuteTime": {
     "end_time": "2020-09-01T16:25:20.264129Z",
     "start_time": "2020-09-01T16:25:20.235126Z"
    }
   },
   "outputs": [],
   "source": [
    "# cHECK that the 4 chosen are true pos\n",
    "for c in positive_controls_df['Positive Control ID']:\n",
    "    display(batch1_and2_PosControls_Results[batch1_and2_PosControls_Results['Positive Control ID'] == c][['Positive Control ID','outcome_ab_raw','outcome_ei_raw']].drop_duplicates())"
   ]
  },
  {
   "cell_type": "markdown",
   "metadata": {},
   "source": [
    "### FINAL DELIVERABLE"
   ]
  },
  {
   "cell_type": "code",
   "execution_count": null,
   "metadata": {
    "ExecuteTime": {
     "end_time": "2020-09-01T16:26:54.582513Z",
     "start_time": "2020-09-01T16:26:54.563513Z"
    }
   },
   "outputs": [],
   "source": [
    "Serology_batch_final = pd.concat([batch4[['biobank_id','Negative Control','Positive Control', 'DateBloodSampleCollected']], batch4_negControls_df, positive_controls_df]).drop(['participant_id','Sample ID'], axis = 1).drop_duplicates()\n",
    "Serology_batch_final"
   ]
  },
  {
   "cell_type": "code",
   "execution_count": null,
   "metadata": {
    "ExecuteTime": {
     "end_time": "2020-09-01T16:28:35.536268Z",
     "start_time": "2020-09-01T16:28:35.530262Z"
    }
   },
   "outputs": [],
   "source": [
    "Serology_batch_final['biobank_id'].nunique(),Serology_batch_final['Positive Control ID'].nunique(), Serology_batch_final[Serology_batch_final['Negative Control'] == 'Yes']['biobank_id'].nunique()"
   ]
  },
  {
   "cell_type": "markdown",
   "metadata": {},
   "source": [
    "#### Formatting file for Mayo"
   ]
  },
  {
   "cell_type": "code",
   "execution_count": null,
   "metadata": {
    "ExecuteTime": {
     "end_time": "2020-09-01T16:28:38.289662Z",
     "start_time": "2020-09-01T16:28:38.268664Z"
    }
   },
   "outputs": [],
   "source": [
    "Mayo_Serology_batch_final = Serology_batch_final\n",
    "Mayo_Serology_batch_final['biobank_id']  = Mayo_Serology_batch_final['biobank_id'].fillna(0)\n",
    "Mayo_Serology_batch_final['biobank_id'] = [int(i) for i in Mayo_Serology_batch_final['biobank_id']]\n",
    "Mayo_Serology_batch_final['biobank_id'] = ['A'+str(i) for i in Mayo_Serology_batch_final['biobank_id']]\n",
    "Mayo_Serology_batch_final.columns = ['Biobank ID', 'Negative Control', 'Positive Control', \n",
    "                                     'DateBloodSampleCollected', #'DateBloodSampleReceived',\n",
    "                                     'Positive Control ID',]\n",
    "Mayo_Serology_batch_final = Mayo_Serology_batch_final[['Biobank ID','DateBloodSampleCollected', 'Negative Control', 'Positive Control', 'Positive Control ID']].replace('A0', '').drop_duplicates()\n",
    "Mayo_Serology_batch_final"
   ]
  },
  {
   "cell_type": "code",
   "execution_count": null,
   "metadata": {
    "ExecuteTime": {
     "end_time": "2020-09-01T16:28:57.225428Z",
     "start_time": "2020-09-01T16:28:57.219430Z"
    }
   },
   "outputs": [],
   "source": [
    "Mayo_Serology_batch_final['Biobank ID'].nunique(), Mayo_Serology_batch_final[Mayo_Serology_batch_final['Negative Control'] == 'Yes']['Biobank ID'].nunique()"
   ]
  },
  {
   "cell_type": "code",
   "execution_count": null,
   "metadata": {
    "ExecuteTime": {
     "end_time": "2020-09-01T16:29:00.786310Z",
     "start_time": "2020-09-01T16:29:00.770193Z"
    }
   },
   "outputs": [],
   "source": [
    "Mayo_Serology_batch_final = pd.concat([Mayo_Serology_batch_final[Mayo_Serology_batch_final['Positive Control ID'].isnull()].drop('Positive Control ID', axis = 1),\n",
    "                                      Mayo_Serology_batch_final[~Mayo_Serology_batch_final['Positive Control ID'].isnull()].drop('Biobank ID',axis = 1).rename(columns = {'Positive Control ID':'Biobank ID'})])\n",
    "\n",
    "\n",
    "Mayo_Serology_batch_final"
   ]
  },
  {
   "cell_type": "code",
   "execution_count": null,
   "metadata": {
    "ExecuteTime": {
     "end_time": "2020-09-01T16:29:04.075148Z",
     "start_time": "2020-09-01T16:29:04.064146Z"
    }
   },
   "outputs": [],
   "source": [
    "## RANDOMLY SHUFFLE\n",
    "Mayo_Serology_batch_final = Mayo_Serology_batch_final.sample(n = Mayo_Serology_batch_final.shape[0], random_state= 901)\n",
    "Mayo_Serology_batch_final.head()"
   ]
  },
  {
   "cell_type": "markdown",
   "metadata": {
    "ExecuteTime": {
     "end_time": "2020-09-01T15:29:22.553197Z",
     "start_time": "2020-09-01T15:29:22.547196Z"
    }
   },
   "source": [
    "#### FINAL BATCH NUMBERS QC "
   ]
  },
  {
   "cell_type": "code",
   "execution_count": null,
   "metadata": {
    "ExecuteTime": {
     "end_time": "2020-09-01T16:50:16.279474Z",
     "start_time": "2020-09-01T16:50:16.271473Z"
    }
   },
   "outputs": [],
   "source": [
    "QC_batch_numbers(Serology_batch_final)"
   ]
  },
  {
   "cell_type": "code",
   "execution_count": null,
   "metadata": {
    "ExecuteTime": {
     "end_time": "2020-09-01T16:50:16.451548Z",
     "start_time": "2020-09-01T16:50:16.443545Z"
    }
   },
   "outputs": [],
   "source": [
    "QC_batch_numbers(Mayo_Serology_batch_final)"
   ]
  },
  {
   "cell_type": "markdown",
   "metadata": {},
   "source": [
    "#### Save Final Files"
   ]
  },
  {
   "cell_type": "code",
   "execution_count": null,
   "metadata": {
    "ExecuteTime": {
     "end_time": "2020-09-01T16:29:55.545584Z",
     "start_time": "2020-09-01T16:29:55.536587Z"
    }
   },
   "outputs": [],
   "source": [
    "save_this_csv(Serology_batch_final, 'DRC_Serology_list'+str(batch_number))\n",
    "save_this_csv(Mayo_Serology_batch_final, 'Mayo_Serology_list'+str(batch_number))"
   ]
  },
  {
   "cell_type": "markdown",
   "metadata": {},
   "source": [
    "## **09.01.2020** Replace 4 neg controls in Batch sent to Mayo Yesterday\n",
    "Sam at Mayo found 4 negs with insufficient volumes"
   ]
  },
  {
   "cell_type": "code",
   "execution_count": null,
   "metadata": {
    "ExecuteTime": {
     "end_time": "2020-09-02T16:08:17.067588Z",
     "start_time": "2020-09-02T16:08:17.055586Z"
    }
   },
   "outputs": [],
   "source": [
    "Mayo_Serology_batch_final = pd.read_csv('../DATA\\DSC2\\Mayo_Serology_list4_2020-09-01_11.29.55.csv') "
   ]
  },
  {
   "cell_type": "code",
   "execution_count": null,
   "metadata": {
    "ExecuteTime": {
     "end_time": "2020-09-02T14:50:25.671207Z",
     "start_time": "2020-09-02T14:50:25.656208Z"
    }
   },
   "outputs": [],
   "source": [
    "Serology_batch_final = pd.read_csv('../DATA\\DSC2\\DRC_Serology_list4_2020-09-01_11.29.55.csv') \n",
    "Serology_batch_final_negs = Serology_batch_final[Serology_batch_final['Negative Control'] == 'Yes']\n",
    "Serology_batch_final_negs['Biobank ID'] = [int(i.split('A')[1]) for i in Serology_batch_final_negs['Biobank ID']]\n",
    "Serology_batch_final_negs.head()"
   ]
  },
  {
   "cell_type": "code",
   "execution_count": null,
   "metadata": {
    "ExecuteTime": {
     "end_time": "2020-09-02T14:42:41.193237Z",
     "start_time": "2020-09-02T14:42:41.170235Z"
    }
   },
   "outputs": [],
   "source": [
    "batch4_negControls.head()"
   ]
  },
  {
   "cell_type": "code",
   "execution_count": null,
   "metadata": {
    "ExecuteTime": {
     "end_time": "2020-09-02T14:52:59.699825Z",
     "start_time": "2020-09-02T14:52:59.687824Z"
    }
   },
   "outputs": [],
   "source": [
    "not_selected = pd.DataFrame(set(batch4_negControls.biobank_id) - set(Serology_batch_final_negs['Biobank ID']), columns = ['Biobank ID'])\n",
    "not_selected"
   ]
  },
  {
   "cell_type": "code",
   "execution_count": null,
   "metadata": {
    "ExecuteTime": {
     "end_time": "2020-09-02T14:53:01.825960Z",
     "start_time": "2020-09-02T14:53:01.817964Z"
    }
   },
   "outputs": [],
   "source": [
    "batch4_replacement_negControls = not_selected.sample(n = 4, random_state = 902)\n",
    "batch4_replacement_negControls"
   ]
  },
  {
   "cell_type": "code",
   "execution_count": null,
   "metadata": {
    "ExecuteTime": {
     "end_time": "2020-09-02T14:53:05.969406Z",
     "start_time": "2020-09-02T14:53:05.960405Z"
    }
   },
   "outputs": [],
   "source": [
    "# ensure they are not in previous negs sent\n",
    "pd.merge(batch4_replacement_negControls['Biobank ID'], Serology_batch_final_negs['Biobank ID'])"
   ]
  },
  {
   "cell_type": "code",
   "execution_count": null,
   "metadata": {
    "ExecuteTime": {
     "end_time": "2020-09-02T14:53:19.621157Z",
     "start_time": "2020-09-02T14:53:19.594156Z"
    }
   },
   "outputs": [],
   "source": [
    "# ensure theat the negs are true negs\n",
    "for c in batch4_replacement_negControls['Biobank ID']:\n",
    "    display(batch1_and2_NegControls_Results[batch1_and2_NegControls_Results.biobank_id == c][['outcome_ab_raw','outcome_ei_raw']].drop_duplicates())"
   ]
  },
  {
   "cell_type": "markdown",
   "metadata": {},
   "source": [
    "#### Remove the insufficient volumns and replace with the new/save new files"
   ]
  },
  {
   "cell_type": "code",
   "execution_count": null,
   "metadata": {
    "ExecuteTime": {
     "end_time": "2020-09-02T16:15:05.974048Z",
     "start_time": "2020-09-02T16:15:05.962043Z"
    }
   },
   "outputs": [],
   "source": [
    "Mayo_Serology_batch_final.loc[Mayo_Serology_batch_final['Biobank ID'] == 'A215453393', 'Biobank ID'] = 'A982763211'\n",
    "Mayo_Serology_batch_final.loc[Mayo_Serology_batch_final['Biobank ID'] == 'A167765452', 'Biobank ID'] = 'A356579234'\n",
    "Mayo_Serology_batch_final.loc[Mayo_Serology_batch_final['Biobank ID'] == 'A570857394', 'Biobank ID'] = 'A535260632'\n",
    "Mayo_Serology_batch_final.loc[Mayo_Serology_batch_final['Biobank ID'] == 'A215933740', 'Biobank ID'] = 'A215455285'\n",
    "\n",
    "save_this_csv(Serology_batch_final, 'Mayo_Serology_list'+str(4))"
   ]
  },
  {
   "cell_type": "code",
   "execution_count": null,
   "metadata": {
    "ExecuteTime": {
     "end_time": "2020-09-02T16:17:13.431599Z",
     "start_time": "2020-09-02T16:17:13.419596Z"
    }
   },
   "outputs": [],
   "source": [
    "Serology_batch_final.loc[Serology_batch_final['Biobank ID'] == 'A215453393', 'Biobank ID'] = 'A982763211'\n",
    "Serology_batch_final.loc[Serology_batch_final['Biobank ID'] == 'A167765452', 'Biobank ID'] = 'A356579234'\n",
    "Serology_batch_final.loc[Serology_batch_final['Biobank ID'] == 'A570857394', 'Biobank ID'] = 'A535260632'\n",
    "Serology_batch_final.loc[Serology_batch_final['Biobank ID'] == 'A215933740', 'Biobank ID'] = 'A215455285'\n",
    "\n",
    "save_this_csv(Serology_batch_final, 'DRC_Serology_list'+str(4))"
   ]
  },
  {
   "cell_type": "code",
   "execution_count": null,
   "metadata": {
    "ExecuteTime": {
     "end_time": "2020-09-02T16:17:23.323701Z",
     "start_time": "2020-09-02T16:17:23.314704Z"
    }
   },
   "outputs": [],
   "source": [
    "Serology_batch_final[Serology_batch_final['Biobank ID'] == 'A535260632']"
   ]
  },
  {
   "cell_type": "code",
   "execution_count": null,
   "metadata": {},
   "outputs": [],
   "source": []
  }
 ],
 "metadata": {
  "kernelspec": {
   "display_name": "Python 3 (ipykernel)",
   "language": "python",
   "name": "python3"
  },
  "language_info": {
   "codemirror_mode": {
    "name": "ipython",
    "version": 3
   },
   "file_extension": ".py",
   "mimetype": "text/x-python",
   "name": "python",
   "nbconvert_exporter": "python",
   "pygments_lexer": "ipython3",
   "version": "3.9.12"
  },
  "nbTranslate": {
   "displayLangs": [
    "*"
   ],
   "hotkey": "alt-t",
   "langInMainMenu": true,
   "sourceLang": "en",
   "targetLang": "fr",
   "useGoogleTranslate": true
  },
  "toc": {
   "base_numbering": 1,
   "nav_menu": {},
   "number_sections": true,
   "sideBar": true,
   "skip_h1_title": false,
   "title_cell": "Table of Contents",
   "title_sidebar": "Contents",
   "toc_cell": true,
   "toc_position": {
    "height": "calc(100% - 180px)",
    "left": "10px",
    "top": "150px",
    "width": "383.912px"
   },
   "toc_section_display": true,
   "toc_window_display": true
  }
 },
 "nbformat": 4,
 "nbformat_minor": 4
}
