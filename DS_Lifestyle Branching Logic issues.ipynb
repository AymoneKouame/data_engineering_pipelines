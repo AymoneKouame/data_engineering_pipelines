{
 "cells": [
  {
   "cell_type": "markdown",
   "id": "4d0ab218",
   "metadata": {},
   "source": [
    "DST: Are you able to reproduce this issue? The user is noting participants who have \"Skip\"  to the parent question \"\"Have you smoked at least 100 cigarettes in your entire life? (There are 20 cigarettes in a pack.)\" (concept ID 1585857) still have response options for the branching logic - \"Do you now smoke cigarettes every day, some days, or not at all?\" (concept ID 1585860).\n",
    "\n",
    "I was exploring the survey response structure and had a few questions.\n",
    "\n",
    "When looking at the first cigarette question on the \"Lifestyle\" survey. People who answered \"yes\" to smoking 100 cigs can also have an NA value for the follow-up question on \"Smoke Frequency (Do you now smoke cigarettes every day, some days, or not at all?)\"? Why are these people not labeled as \"PMI: Skip\"?\n",
    "\n",
    "When looking at everyone who didn't answer \"yes\" to smoking 100 cigs (No, Dont Know, Prefer Not To Answer, and Skip). Why do people who have \"PMI: Skip\" responses to 100 Cigs Lifetime able to have responses to the follow-up question \"Smoke Frequency\"? Is this labeled in the data dictionary somewhere?\n",
    "\n",
    "I guess I’m still confused why people that “Skipped” the parent question have responses for the “child” question. "
   ]
  },
  {
   "cell_type": "markdown",
   "id": "2ed888b3",
   "metadata": {},
   "source": [
    "# Set Up"
   ]
  },
  {
   "cell_type": "code",
   "execution_count": null,
   "id": "5cc69fa1",
   "metadata": {},
   "outputs": [],
   "source": [
    "dataset = 'aou-res-curation-output-prod.C2022Q4R11' #v7 w/o AIAN\n",
    "\n",
    "# MODULES and CLIENT\n",
    "from google.cloud import bigquery\n",
    "import numpy as np\n",
    "import pandas as pd\n",
    "pd.set_option('display.max_rows', 200)\n",
    "pd.set_option('max_colwidth', -1)\n",
    "from datetime import datetime"
   ]
  },
  {
   "cell_type": "markdown",
   "id": "ee6038d5",
   "metadata": {},
   "source": [
    "# data"
   ]
  },
  {
   "cell_type": "code",
   "execution_count": null,
   "id": "df5b3089",
   "metadata": {},
   "outputs": [],
   "source": [
    "def survey_data(qid, add = '', dataset = dataset):\n",
    "    \n",
    "    df = pd.read_gbq(f'''   \n",
    "        SELECT DISTINCT person_id, concept_name as question, observation_source_concept_id question_id\n",
    "        , value_source_value as answer, value_source_concept_id as answer_id, observation_datetime\n",
    "        FROM `{dataset}.observation`\n",
    "        JOIN `{dataset}.concept` on observation_source_concept_id = concept_id\n",
    "        WHERE observation_source_concept_id = {qid}\n",
    "        {add} ''')\n",
    "    \n",
    "    display(df.fillna('N/A').groupby(['question','question_id','answer', 'answer_id']).nunique())\n",
    "    \n",
    "    return df"
   ]
  },
  {
   "cell_type": "code",
   "execution_count": null,
   "id": "5b4b2ccf",
   "metadata": {},
   "outputs": [],
   "source": [
    "smoke_100cigs_notyes = survey_data(qid = '1585857', add = \"AND value_source_value != '100CigsLifetime_Yes'\")\n",
    "smoke_100cigs_notyes.head()"
   ]
  },
  {
   "cell_type": "code",
   "execution_count": null,
   "id": "de8eec34",
   "metadata": {},
   "outputs": [],
   "source": [
    "smoke_frequency = survey_data(qid = '1585860')\n",
    "smoke_frequency.head()"
   ]
  },
  {
   "cell_type": "code",
   "execution_count": null,
   "id": "b6165b9e",
   "metadata": {},
   "outputs": [],
   "source": [
    "bl_issues = survey_data(qid = '1585857'\n",
    "                        , add = F\"\"\" AND value_source_value != '100CigsLifetime_Yes' \n",
    "                        AND person_id IN (SELECT DISTINCT person_id\n",
    "                                            FROM `{dataset}.observation`\n",
    "                                            WHERE observation_source_concept_id = 1585860\n",
    "                                            )\"\"\")\n",
    "bl_issues.head()"
   ]
  },
  {
   "cell_type": "code",
   "execution_count": null,
   "id": "f9c0a5d9",
   "metadata": {},
   "outputs": [],
   "source": [
    "len(set(smoke_100cigs_notyes.person_id).intersection(set(smoke_frequency.person_id)))"
   ]
  },
  {
   "cell_type": "code",
   "execution_count": null,
   "id": "0a268127",
   "metadata": {},
   "outputs": [],
   "source": [
    "bl_issue_pids = set(smoke_100cigs_notyes.person_id).intersection(set(smoke_frequency.person_id))\n",
    "len(bl_issue_pids)"
   ]
  },
  {
   "cell_type": "code",
   "execution_count": null,
   "id": "e3911480",
   "metadata": {},
   "outputs": [],
   "source": [
    "pd.DataFrame(bl_issue_pids, columns = ['person_id']).to_csv('Lifestyle_branching_logic_issues.csv', index = False)"
   ]
  },
  {
   "cell_type": "code",
   "execution_count": null,
   "id": "0c1816f4",
   "metadata": {},
   "outputs": [],
   "source": [
    "smoke_100cigs_notyes[smoke_100cigs_notyes.person_id.isin(bl_issue_pids)].sort_values()"
   ]
  },
  {
   "cell_type": "code",
   "execution_count": null,
   "id": "8e1eec42",
   "metadata": {},
   "outputs": [],
   "source": [
    "test = smoke_100cigs_notyes.merge(smoke_frequency[['person_id','observation_datetime']]\n",
    "                          , on = 'person_id')#[smoke_100cigs_notyes.person_id == 1548608 ]\n",
    "\n",
    "test['days_diff'] = test['observation_datetime_y'] - test['observation_datetime_x']\n",
    "test['days_diff'] = [i.days for i in test['days_diff']]\n",
    "test"
   ]
  },
  {
   "cell_type": "code",
   "execution_count": null,
   "id": "6ed3bc5b",
   "metadata": {},
   "outputs": [],
   "source": [
    "test[test.days_diff >0]"
   ]
  },
  {
   "cell_type": "code",
   "execution_count": null,
   "id": "d0f2a39f",
   "metadata": {},
   "outputs": [],
   "source": [
    "smoke_100cigs_notyes['observation_datetime_y'] - smoke_100cigs_notyes['observation_datetime_x']"
   ]
  },
  {
   "cell_type": "code",
   "execution_count": null,
   "id": "2eabd629",
   "metadata": {},
   "outputs": [],
   "source": [
    "smoke_frequency[smoke_frequency.person_id.isin(bl_issue_pids)]#.groupby(['question','answer']).nunique()"
   ]
  },
  {
   "cell_type": "code",
   "execution_count": null,
   "id": "5541887b",
   "metadata": {},
   "outputs": [],
   "source": [
    "smoke_100cigs_notyes[smoke_100cigs_notyes.person_id.isin(bl_issue_pids)].groupby(['question','answer']).nunique()"
   ]
  },
  {
   "cell_type": "markdown",
   "id": "fac59b72",
   "metadata": {},
   "source": [
    "# do they have any other survey data?"
   ]
  },
  {
   "cell_type": "code",
   "execution_count": null,
   "id": "81ecdb71",
   "metadata": {},
   "outputs": [],
   "source": [
    "basics_df = pd.read_gbq(f'''   \n",
    "        SELECT COUNT(DISTINCT answer) AS N_ANSWERS, question, person_id, DATE(survey_datetime) as suvey_date\n",
    "        FROM `{dataset}.ds_survey`\n",
    "        WHERE person_id IN {tuple(bl_issue_pids)}\n",
    "        AND survey IN ('The Basics')\n",
    "        GROUP BY 2,3,4\n",
    "        HAVING N_ANSWERS>1\n",
    "        ''')\n",
    "basics_df.head()"
   ]
  },
  {
   "cell_type": "code",
   "execution_count": null,
   "id": "b429fc02",
   "metadata": {},
   "outputs": [],
   "source": [
    "lifestyle_df = pd.read_gbq(f'''   \n",
    "        SELECT COUNT(DISTINCT DATE(survey_datetime)) as n_suvey_dates, answer, question, person_id\n",
    "        FROM `{dataset}.ds_survey`\n",
    "        WHERE person_id IN {tuple(bl_issue_pids)}\n",
    "        AND survey IN ('Lifestyle')\n",
    "        GROUP BY 2,3,4\n",
    "        HAVING n_suvey_dates>1\n",
    "        ''')\n",
    "lifestyle_df.head()"
   ]
  }
 ],
 "metadata": {
  "kernelspec": {
   "display_name": "Python 3 (ipykernel)",
   "language": "python",
   "name": "python3"
  },
  "language_info": {
   "codemirror_mode": {
    "name": "ipython",
    "version": 3
   },
   "file_extension": ".py",
   "mimetype": "text/x-python",
   "name": "python",
   "nbconvert_exporter": "python",
   "pygments_lexer": "ipython3",
   "version": "3.9.12"
  },
  "toc": {
   "base_numbering": 1,
   "nav_menu": {},
   "number_sections": true,
   "sideBar": true,
   "skip_h1_title": false,
   "title_cell": "Table of Contents",
   "title_sidebar": "Contents",
   "toc_cell": false,
   "toc_position": {
    "height": "calc(100% - 180px)",
    "left": "10px",
    "top": "150px",
    "width": "349.091px"
   },
   "toc_section_display": true,
   "toc_window_display": true
  }
 },
 "nbformat": 4,
 "nbformat_minor": 5
}
