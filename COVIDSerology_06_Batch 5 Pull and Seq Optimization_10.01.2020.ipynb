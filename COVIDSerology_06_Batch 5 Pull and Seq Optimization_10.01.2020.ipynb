{
 "cells": [
  {
   "cell_type": "markdown",
   "metadata": {
    "toc": true
   },
   "source": [
    "<h1>Table of Contents<span class=\"tocSkip\"></span></h1>\n",
    "<div class=\"toc\"><ul class=\"toc-item\"><li><span><a href=\"#Set-Up\" data-toc-modified-id=\"Set-Up-1\"><span class=\"toc-item-num\">1&nbsp;&nbsp;</span>Set Up</a></span><ul class=\"toc-item\"><li><span><a href=\"#Load-All-function-used-for-this-project\" data-toc-modified-id=\"Load-All-function-used-for-this-project-1.1\"><span class=\"toc-item-num\">1.1&nbsp;&nbsp;</span>Load All function used for this project</a></span></li><li><span><a href=\"#Load-needed-datasets\" data-toc-modified-id=\"Load-needed-datasets-1.2\"><span class=\"toc-item-num\">1.2&nbsp;&nbsp;</span>Load needed datasets</a></span><ul class=\"toc-item\"><li><span><a href=\"#Load-Master-Files\" data-toc-modified-id=\"Load-Master-Files-1.2.1\"><span class=\"toc-item-num\">1.2.1&nbsp;&nbsp;</span>Load Master Files</a></span></li><li><span><a href=\"#Load-Previous-Batches,-includeing-their-controls\" data-toc-modified-id=\"Load-Previous-Batches,-includeing-their-controls-1.2.2\"><span class=\"toc-item-num\">1.2.2&nbsp;&nbsp;</span>Load Previous Batches, includeing their controls</a></span></li></ul></li></ul></li><li><span><a href=\"#EXECUTE-THE-PLATING-STRATEGY\" data-toc-modified-id=\"EXECUTE-THE-PLATING-STRATEGY-2\"><span class=\"toc-item-num\">2&nbsp;&nbsp;</span>EXECUTE THE PLATING STRATEGY</a></span><ul class=\"toc-item\"><li><span><a href=\"#BATCH-5\" data-toc-modified-id=\"BATCH-5-2.1\"><span class=\"toc-item-num\">2.1&nbsp;&nbsp;</span>BATCH 5</a></span><ul class=\"toc-item\"><li><span><a href=\"#Pull-batch-5\" data-toc-modified-id=\"Pull-batch-5-2.1.1\"><span class=\"toc-item-num\">2.1.1&nbsp;&nbsp;</span>Pull batch 5</a></span></li><li><span><a href=\"#Randomize-by-State\" data-toc-modified-id=\"Randomize-by-State-2.1.2\"><span class=\"toc-item-num\">2.1.2&nbsp;&nbsp;</span>Randomize by State</a></span></li><li><span><a href=\"#Optimize-Sequence\" data-toc-modified-id=\"Optimize-Sequence-2.1.3\"><span class=\"toc-item-num\">2.1.3&nbsp;&nbsp;</span>Optimize Sequence</a></span><ul class=\"toc-item\"><li><span><a href=\"#further-clean-up-batch-5-to-keep-only-samples-with-available-serums-per-Sam's-list\" data-toc-modified-id=\"further-clean-up-batch-5-to-keep-only-samples-with-available-serums-per-Sam's-list-2.1.3.1\"><span class=\"toc-item-num\">2.1.3.1&nbsp;&nbsp;</span>further clean up batch 5 to keep only samples with available serums per Sam's list</a></span></li><li><span><a href=\"#Plating-Numbers-we-need\" data-toc-modified-id=\"Plating-Numbers-we-need-2.1.3.2\"><span class=\"toc-item-num\">2.1.3.2&nbsp;&nbsp;</span>Plating Numbers we need</a></span></li><li><span><a href=\"#Optimization\" data-toc-modified-id=\"Optimization-2.1.3.3\"><span class=\"toc-item-num\">2.1.3.3&nbsp;&nbsp;</span>Optimization</a></span></li><li><span><a href=\"#QC\" data-toc-modified-id=\"QC-2.1.3.4\"><span class=\"toc-item-num\">2.1.3.4&nbsp;&nbsp;</span>QC</a></span></li></ul></li><li><span><a href=\"#Add-Negative-Controls-matched-on-state\" data-toc-modified-id=\"Add-Negative-Controls-matched-on-state-2.1.4\"><span class=\"toc-item-num\">2.1.4&nbsp;&nbsp;</span>Add Negative Controls matched on state</a></span></li><li><span><a href=\"#Add-Postitive-Controls\" data-toc-modified-id=\"Add-Postitive-Controls-2.1.5\"><span class=\"toc-item-num\">2.1.5&nbsp;&nbsp;</span>Add Postitive Controls</a></span></li><li><span><a href=\"#FINAL-DELIVERABLE\" data-toc-modified-id=\"FINAL-DELIVERABLE-2.1.6\"><span class=\"toc-item-num\">2.1.6&nbsp;&nbsp;</span>FINAL DELIVERABLE</a></span></li></ul></li></ul></li><li><span><a href=\"#12/3/2020-Serum-Replacement\" data-toc-modified-id=\"12/3/2020-Serum-Replacement-3\"><span class=\"toc-item-num\">3&nbsp;&nbsp;</span><strong>12/3/2020 Serum Replacement</strong></a></span><ul class=\"toc-item\"><li><span><a href=\"#find-replacements-from-same-states\" data-toc-modified-id=\"find-replacements-from-same-states-3.1\"><span class=\"toc-item-num\">3.1&nbsp;&nbsp;</span>find replacements from same states</a></span></li><li><span><a href=\"#replace-them-in-the-original-file-and-save-the-new-batch-5-file\" data-toc-modified-id=\"replace-them-in-the-original-file-and-save-the-new-batch-5-file-3.2\"><span class=\"toc-item-num\">3.2&nbsp;&nbsp;</span>replace them in the original file and save the new batch 5 file</a></span></li><li><span><a href=\"#QC\" data-toc-modified-id=\"QC-3.3\"><span class=\"toc-item-num\">3.3&nbsp;&nbsp;</span>QC</a></span></li></ul></li></ul></div>"
   ]
  },
  {
   "cell_type": "markdown",
   "metadata": {},
   "source": [
    "# Set Up"
   ]
  },
  {
   "cell_type": "code",
   "execution_count": null,
   "metadata": {
    "ExecuteTime": {
     "end_time": "2020-12-09T00:07:57.217685Z",
     "start_time": "2020-12-09T00:07:51.678467Z"
    }
   },
   "outputs": [],
   "source": [
    "%run ../setup.ipynb"
   ]
  },
  {
   "cell_type": "code",
   "execution_count": null,
   "metadata": {
    "ExecuteTime": {
     "end_time": "2020-12-09T00:08:13.366411Z",
     "start_time": "2020-12-09T00:08:13.328408Z"
    }
   },
   "outputs": [],
   "source": [
    "import glob\n",
    "\n",
    "location = '../DATA/DSC2'\n",
    "fileset = [file for file in glob.glob(location + \"**/***.*\", recursive=True)]\n",
    "n = 0\n",
    "for file in fileset:\n",
    "    #print()\n",
    "    print(n, file)\n",
    "    n+=1"
   ]
  },
  {
   "cell_type": "code",
   "execution_count": null,
   "metadata": {
    "ExecuteTime": {
     "end_time": "2020-12-09T00:08:16.033677Z",
     "start_time": "2020-12-09T00:08:16.029679Z"
    }
   },
   "outputs": [],
   "source": [
    "data_directory = '../DATA\\\\DSC2\\\\'\n",
    "bucket_manifests_dir = 'S:\\\\Aymone\\\\serology\\\\bucket\\\\antibody_manifests\\\\'\n",
    "bucket_returned_results_dir = 'S:\\\\Aymone\\\\serology\\\\bucket\\\\returned_results\\\\'"
   ]
  },
  {
   "cell_type": "markdown",
   "metadata": {},
   "source": [
    "## Load All function used for this project"
   ]
  },
  {
   "cell_type": "code",
   "execution_count": null,
   "metadata": {
    "ExecuteTime": {
     "end_time": "2020-12-03T18:36:32.334090Z",
     "start_time": "2020-12-03T18:36:32.201083Z"
    }
   },
   "outputs": [],
   "source": [
    "%run Serology_All_Functions.ipynb"
   ]
  },
  {
   "cell_type": "markdown",
   "metadata": {},
   "source": [
    "## Load needed datasets"
   ]
  },
  {
   "cell_type": "markdown",
   "metadata": {},
   "source": [
    "### Load Master Files\n",
    "Serology Master File, Negative Control Master File, Positive Control List "
   ]
  },
  {
   "cell_type": "code",
   "execution_count": null,
   "metadata": {
    "ExecuteTime": {
     "end_time": "2020-12-03T18:36:36.923915Z",
     "start_time": "2020-12-03T18:36:36.425888Z"
    }
   },
   "outputs": [],
   "source": [
    "# # load master sample list\n",
    "master_list_original = pd.read_csv('../DATA\\DSC2\\Antobodies_tests_Master_List_2020-05-21.csv') ##very first\n",
    "master_list_original = master_list_original[pd.to_datetime(master_list_original.DateBloodSampleCollected)>= '2020-01-01']\n",
    "\n",
    "# master_list_afterbatch3 = pd.read_csv('../DATA\\DSC2\\master_list_afterBatch3_2020-08-11_14.18.07.csv')\n",
    "# master_list_afterbatch3 = master_list_afterbatch3[pd.to_datetime(master_list_afterbatch3.DateBloodSampleCollected)>= '2020-01-01']\n",
    "\n",
    "master_list_afterbatch4 = pd.read_csv('../DATA\\DSC2\\master_list_afterbatch4_2020-10-22_18.38.41.csv') ## most recent\n",
    "master_list_afterbatch4 = master_list_afterbatch4[pd.to_datetime(master_list_afterbatch4.DateBloodSampleCollected)>= '2020-01-01']\n",
    "\n",
    "master_list_afterbatch4.head(3)"
   ]
  },
  {
   "cell_type": "code",
   "execution_count": null,
   "metadata": {
    "ExecuteTime": {
     "end_time": "2020-12-03T18:36:37.347580Z",
     "start_time": "2020-12-03T18:36:37.203573Z"
    }
   },
   "outputs": [],
   "source": [
    "# # load negative controls list\n",
    "# negative_controls_master_original = pd.read_csv('../DATA\\DSC2\\COVID_controls_2020-06-15_14.14.52.csv') #very first\n",
    "# negative_controls_master_original.head()\n",
    "# ## or this?\n",
    "# negative_controls_master3 = pd.read_csv('../DATA\\DSC2\\COVID_controls_afterbatch22020-07-01_12.56.08.csv')\n",
    "negative_controls_master4 = pd.read_csv('../DATA\\\\DSC2\\\\negative_controls_master_afterlist4_2020.10.08.csv')\n",
    "negative_controls_master4.head()"
   ]
  },
  {
   "cell_type": "code",
   "execution_count": null,
   "metadata": {
    "ExecuteTime": {
     "end_time": "2020-12-03T18:36:38.340872Z",
     "start_time": "2020-12-03T18:36:38.337876Z"
    }
   },
   "outputs": [],
   "source": [
    "#negative_controls_master = pd.read_csv('../DATA\\\\DSC2\\\\negative_controls_master_afterbatch4_2020-10-22_18.54.42.csv') #most recent"
   ]
  },
  {
   "cell_type": "code",
   "execution_count": null,
   "metadata": {
    "ExecuteTime": {
     "end_time": "2020-12-03T18:36:39.330009Z",
     "start_time": "2020-12-03T18:36:39.303011Z"
    }
   },
   "outputs": [],
   "source": [
    "# load positive controls list\n",
    "##vumc_positive_controls = pd.read_csv('../DATA\\\\DSC2\\\\VUMCPositive Controls Tracker_addedCals_10_08_2020.csv') ##Includes pos with insufficient vols\n",
    "vumc_positive_controls = pd.read_csv(data_directory+'VUMCPositive Controls Tracker_10.22.2020.csv')\n",
    "vumc_positive_controls.head(5)"
   ]
  },
  {
   "cell_type": "code",
   "execution_count": null,
   "metadata": {
    "ExecuteTime": {
     "end_time": "2020-12-03T18:36:39.570022Z",
     "start_time": "2020-12-03T18:36:39.533020Z"
    }
   },
   "outputs": [],
   "source": [
    "pmp_positive_controls = pd.concat([pd.read_csv('../DATA\\DSC2\\ppm_positive_controls.csv'),\n",
    "                                   pd.read_csv('../DATA\\DSC2\\ppm_positive_controls_scnd.csv')], sort = False).drop_duplicates()\n",
    "pmp_positive_controls.head(5)"
   ]
  },
  {
   "cell_type": "code",
   "execution_count": null,
   "metadata": {},
   "outputs": [],
   "source": []
  },
  {
   "cell_type": "markdown",
   "metadata": {},
   "source": [
    "### Load Previous Batches, includeing their controls"
   ]
  },
  {
   "cell_type": "code",
   "execution_count": null,
   "metadata": {
    "ExecuteTime": {
     "end_time": "2020-12-09T00:08:21.030936Z",
     "start_time": "2020-12-09T00:08:20.828919Z"
    }
   },
   "outputs": [],
   "source": [
    "# # Load Previous batches\n",
    "# batch1_manifest = pd.read_csv('../DATA\\\\DSC2\\\\batch1_manifest_fromMayo.csv')#[['biobank_id']]\n",
    "# bath1_testsamples = transform_manifest(batch1_manifest, 'Biobank ID', master_list_df= master_list_original,\n",
    "#                                        which_df = 'test samples')\n",
    "# bath1_negativecontrols = transform_manifest(batch1_manifest, 'Biobank ID',negative_controls_master_df = negative_controls_master_original, \n",
    "#                                             which_df = 'negative controls')\n",
    "# #bath1_testsamples = transform_manifest(batch1_manifest, 'Biobank ID', which_df = 'test samples')\n",
    "\n",
    "\n",
    "# ##########################################################\n",
    "# batch2_manifest = pd.read_csv('../DATA\\\\DSC2\\\\batch2_manifest_fromMayo.csv')#[['biobank_id']] #Manifest file from Mayo received July 22?\n",
    "# bath2_testsamples = transform_manifest(batch2_manifest, 'Biobank ID', master_list_df= master_list_original,\n",
    "#                                        which_df = 'test samples')\n",
    "# bath2_negativecontrols = transform_manifest(batch2_manifest, 'Biobank ID', negative_controls_master_df= negative_controls_master_original,\n",
    "#                                             which_df = 'negative controls')\n",
    "\n",
    "\n",
    "# ############################################################\n",
    "# batch3_manifest = pd.read_csv(data_directory+'Quest_AoU_Serology_Batch3_manifest_updated.csv').rename(columns = {'Sample ID':'Specimen ID'})\n",
    "# batch3_manifest.loc[~batch3_manifest['Partners ID'].isnull(), 'Biobank ID'] = batch3_manifest.loc[~batch3_manifest['Partners ID'].isnull(), 'Partners ID']\n",
    "# batch3_manifest = batch3_manifest.drop('Partners ID', axis = 1)\n",
    "\n",
    "# bath3_testsamples = transform_manifest(batch3_manifest, 'Biobank ID', master_list_df= master_list_original,\n",
    "#                                        which_df = 'test samples')\n",
    "# bath3_negativecontrols = transform_manifest(batch3_manifest, 'Biobank ID', negative_controls_master_df= negative_controls_master_original,\n",
    "#                                             which_df = 'negative controls')\n",
    "\n",
    "\n",
    "# ##################################################################\n",
    "# list4 = pd.read_csv(data_directory+'DRC_Serology_list4_2020-09-02_11.17.13.csv')\n",
    "\n",
    "# list4_testsamples = transform_manifest(list4, 'Biobank ID', master_list_df= master_list_original,\n",
    "#                                        which_df = 'test samples')\n",
    "\n",
    "# list4_negativecontrols = transform_manifest(list4[['Biobank ID', 'Negative Control',\n",
    "#                                                    'Positive Control','DateBloodSampleCollected']], 'Biobank ID', \n",
    "#                                             negative_controls_master_df= negative_controls_master3.drop('DateBloodSampleCollected',axis =1),\n",
    "#                                             which_df = 'negative controls')\n",
    "\n",
    "\n",
    "####################################################################\n",
    "#batch4 = pd.read_csv(data_directory+'Mayo_Serology_batch4_replacedserums_2020-10-14_12.25.31.csv')\n",
    "\n",
    "batch1to4_combined = pd.read_csv(data_directory+'batch1to4_combined.csv_2020-11-30.csv')\n",
    "batch1to4_testsamples = batch1to4_combined[(batch1to4_combined['Negative Control'] == 'No')&\n",
    "                                             (batch1to4_combined['Positive Control'] == 'No')]\n",
    "\n",
    "batch1to4_negativecontrols  = batch1to4_combined[(batch1to4_combined['Negative Control'] == 'Yes')&\n",
    "                                             (batch1to4_combined['Positive Control'] == 'No')]\n",
    "\n",
    "batch1to4_positivecontrols = batch1to4_combined[(batch1to4_combined['Negative Control'] == 'No')&\n",
    "                                             (batch1to4_combined['Positive Control'] == 'Yes')]\n"
   ]
  },
  {
   "cell_type": "code",
   "execution_count": null,
   "metadata": {
    "ExecuteTime": {
     "end_time": "2020-12-03T18:36:44.071153Z",
     "start_time": "2020-12-03T18:36:44.054148Z"
    }
   },
   "outputs": [],
   "source": [
    "batch1to4_testsamples[batch1to4_testsamples.batch == 4].biobank_id.nunique(), batch1to4_negativecontrols[batch1to4_negativecontrols.batch == 4].biobank_id.nunique(), batch1to4_positivecontrols[batch1to4_positivecontrols.batch == 4]['Positive Control ID'].nunique()"
   ]
  },
  {
   "cell_type": "code",
   "execution_count": null,
   "metadata": {
    "ExecuteTime": {
     "end_time": "2020-12-03T18:36:44.213158Z",
     "start_time": "2020-12-03T18:36:44.208158Z"
    }
   },
   "outputs": [],
   "source": [
    "batch1to4_combined.biobank_id.nunique(),batch1to4_negativecontrols.biobank_id.nunique(),batch1to4_positivecontrols['Positive Control ID'].nunique()"
   ]
  },
  {
   "cell_type": "code",
   "execution_count": null,
   "metadata": {
    "ExecuteTime": {
     "end_time": "2020-12-09T00:09:34.617725Z",
     "start_time": "2020-12-09T00:09:34.598725Z"
    }
   },
   "outputs": [],
   "source": [
    "batch1to4_negativecontrols[batch1to4_negativecontrols.biobank_id == 318389023]"
   ]
  },
  {
   "cell_type": "code",
   "execution_count": null,
   "metadata": {},
   "outputs": [],
   "source": [
    "A318389023"
   ]
  },
  {
   "cell_type": "markdown",
   "metadata": {},
   "source": [
    "-----------------------------------------------------------"
   ]
  },
  {
   "cell_type": "code",
   "execution_count": null,
   "metadata": {
    "ExecuteTime": {
     "end_time": "2020-12-02T15:02:57.285510Z",
     "start_time": "2020-12-02T15:02:57.242507Z"
    }
   },
   "outputs": [],
   "source": [
    "remainder2020_from_master_list = pd.DataFrame(set(master_list_afterbatch4.biobank_id)- set(batch1to4_testsamples.biobank_id),\n",
    "                                          columns = ['biobank_id'])\n",
    "remainder2020_from_master_list = remainder2020_from_master_list.merge(master_list_original).drop_duplicates()\n",
    "remainder2020_from_master_list.biobank_id.nunique()"
   ]
  },
  {
   "cell_type": "code",
   "execution_count": null,
   "metadata": {
    "ExecuteTime": {
     "end_time": "2020-12-02T15:02:57.362516Z",
     "start_time": "2020-12-02T15:02:57.356515Z"
    }
   },
   "outputs": [],
   "source": [
    "remainder2020_from_master_list.DateBloodSampleCollected.min(),remainder2020_from_master_list.DateBloodSampleCollected.max()"
   ]
  },
  {
   "cell_type": "markdown",
   "metadata": {},
   "source": [
    "# EXECUTE THE PLATING STRATEGY"
   ]
  },
  {
   "cell_type": "markdown",
   "metadata": {},
   "source": [
    "## BATCH 5"
   ]
  },
  {
   "cell_type": "markdown",
   "metadata": {},
   "source": [
    "### Pull batch 5\n",
    "\n",
    "Use the remainder of 2020 samples within date range specified by Sheri"
   ]
  },
  {
   "cell_type": "code",
   "execution_count": null,
   "metadata": {
    "ExecuteTime": {
     "end_time": "2020-12-02T15:02:58.141560Z",
     "start_time": "2020-12-02T15:02:58.138559Z"
    }
   },
   "outputs": [],
   "source": [
    "potential_batch5 = remainder2020_from_master_list"
   ]
  },
  {
   "cell_type": "code",
   "execution_count": null,
   "metadata": {
    "ExecuteTime": {
     "end_time": "2020-12-02T15:02:58.322572Z",
     "start_time": "2020-12-02T15:02:58.317574Z"
    }
   },
   "outputs": [],
   "source": [
    "potential_batch5.state.nunique()"
   ]
  },
  {
   "cell_type": "code",
   "execution_count": null,
   "metadata": {
    "ExecuteTime": {
     "end_time": "2020-12-02T15:02:58.487581Z",
     "start_time": "2020-12-02T15:02:58.482578Z"
    }
   },
   "outputs": [],
   "source": [
    "#Check dates of specimen collection and number of unique biobank_ids\n",
    "potential_batch5.participant_id.nunique(), potential_batch5['DateBloodSampleCollected'].min(), potential_batch5['DateBloodSampleCollected'].max()\n"
   ]
  },
  {
   "cell_type": "code",
   "execution_count": null,
   "metadata": {
    "ExecuteTime": {
     "end_time": "2020-12-02T15:02:58.614591Z",
     "start_time": "2020-12-02T15:02:58.597586Z"
    }
   },
   "outputs": [],
   "source": [
    "#make sure batch 5 is not in batch 1 to 4\n",
    "potential_batch5[['biobank_id']].merge(batch1to4_testsamples[['biobank_id']])"
   ]
  },
  {
   "cell_type": "code",
   "execution_count": null,
   "metadata": {
    "ExecuteTime": {
     "end_time": "2020-12-02T15:02:58.732593Z",
     "start_time": "2020-12-02T15:02:58.724595Z"
    }
   },
   "outputs": [],
   "source": [
    "potential_batch5= potential_batch5[['biobank_id', 'participant_id', 'state', #'DateOfBirth', 'SexAtBirth',\n",
    "       #'GenderIdentity', 'SexualOrientation', 'race', 'Ethnicity', 'ZipCode',\n",
    "       'DateBloodSampleCollected', #'DateBloodSampleReceived', 'SpecimenTypes',\n",
    "       'Positive Control', 'Negative Control', #'are_you_currently_pregnant','hpo'\n",
    "                  ]].drop_duplicates() "
   ]
  },
  {
   "cell_type": "markdown",
   "metadata": {
    "ExecuteTime": {
     "end_time": "2020-08-05T16:01:14.884590Z",
     "start_time": "2020-08-05T16:01:14.881591Z"
    }
   },
   "source": [
    "### Randomize by State\n",
    "Uses `randomize_and_locate()`"
   ]
  },
  {
   "cell_type": "code",
   "execution_count": null,
   "metadata": {
    "ExecuteTime": {
     "end_time": "2020-12-02T15:02:59.166732Z",
     "start_time": "2020-12-02T15:02:59.162735Z"
    }
   },
   "outputs": [],
   "source": [
    "#batch 5 size\n",
    "b_size = int(potential_batch5.participant_id.nunique())\n",
    "b_size"
   ]
  },
  {
   "cell_type": "code",
   "execution_count": null,
   "metadata": {
    "ExecuteTime": {
     "end_time": "2020-12-02T15:02:59.308740Z",
     "start_time": "2020-12-02T15:02:59.296740Z"
    }
   },
   "outputs": [],
   "source": [
    "# randomize by state = rnadomly shuffle states\n",
    "batch5_state = potential_batch5[['state']].sample(n = b_size, random_state = 1130)\n",
    "batch5_randomState = potential_batch5.sample(n = b_size, random_state= 1130) \n",
    "    \n",
    "batch5_randomState.head()"
   ]
  },
  {
   "cell_type": "code",
   "execution_count": null,
   "metadata": {
    "ExecuteTime": {
     "end_time": "2020-12-02T15:02:59.567753Z",
     "start_time": "2020-12-02T15:02:59.562751Z"
    }
   },
   "outputs": [],
   "source": [
    "batch5_randomState.participant_id.nunique()"
   ]
  },
  {
   "cell_type": "markdown",
   "metadata": {},
   "source": [
    "### Optimize Sequence\n"
   ]
  },
  {
   "cell_type": "markdown",
   "metadata": {},
   "source": [
    "**Email from Sam on 11/19/2020**\n",
    "\n",
    "I have attached a report from that includes serum from participants collected 1/1/2020 through 1/14/2020. I have already removed participants previously utilized and any that have insufficient serum. Ultimately, we would like to minimize the number of source racks (column H) needed to create each plate. If no source rack is listed, it is because the sample is in a freezer where there are too few samples to require any optimization so it does not need to be taken into consideration. "
   ]
  },
  {
   "cell_type": "markdown",
   "metadata": {},
   "source": [
    "#### further clean up batch 5 to keep only samples with available serums per Sam's list"
   ]
  },
  {
   "cell_type": "code",
   "execution_count": null,
   "metadata": {
    "ExecuteTime": {
     "end_time": "2020-12-02T15:03:01.799038Z",
     "start_time": "2020-12-02T15:03:00.393958Z"
    }
   },
   "outputs": [],
   "source": [
    "AoUSerums_fromMayo = pd.read_excel(data_directory+'AoU Serum 1.1.20-1.15.20.xlsx')\n",
    "AoUSerums_fromMayo['biobank_id'] = [int(i.split('A')[1]) for i in AoUSerums_fromMayo['Biobank Id']]\n",
    "AoUSerums_fromMayo"
   ]
  },
  {
   "cell_type": "code",
   "execution_count": null,
   "metadata": {
    "ExecuteTime": {
     "end_time": "2020-12-02T15:03:01.805043Z",
     "start_time": "2020-12-02T15:03:01.800040Z"
    }
   },
   "outputs": [],
   "source": [
    "AoUSerums_fromMayo.columns"
   ]
  },
  {
   "cell_type": "code",
   "execution_count": null,
   "metadata": {
    "ExecuteTime": {
     "end_time": "2020-12-02T15:03:01.816040Z",
     "start_time": "2020-12-02T15:03:01.807037Z"
    }
   },
   "outputs": [],
   "source": [
    "AoUSerums_fromMayo['Sample Type'].unique()"
   ]
  },
  {
   "cell_type": "code",
   "execution_count": null,
   "metadata": {
    "ExecuteTime": {
     "end_time": "2020-12-02T15:03:01.826038Z",
     "start_time": "2020-12-02T15:03:01.817037Z"
    }
   },
   "outputs": [],
   "source": [
    "AoUSerums_fromMayo.biobank_id.nunique()"
   ]
  },
  {
   "cell_type": "code",
   "execution_count": null,
   "metadata": {
    "ExecuteTime": {
     "end_time": "2020-12-02T15:03:01.839042Z",
     "start_time": "2020-12-02T15:03:01.827039Z"
    }
   },
   "outputs": [],
   "source": [
    "not_in_drc_masterlist = pd.DataFrame(set(AoUSerums_fromMayo.biobank_id) - set(remainder2020_from_master_list.biobank_id),\n",
    "                                    columns = ['biobank_id'])\n",
    "not_in_drc_masterlist"
   ]
  },
  {
   "cell_type": "code",
   "execution_count": null,
   "metadata": {
    "ExecuteTime": {
     "end_time": "2020-12-02T15:03:01.965051Z",
     "start_time": "2020-12-02T15:03:01.840040Z"
    }
   },
   "outputs": [],
   "source": [
    "not_in_drc_masterlist_race = pd.read_sql('''SELECT p.participant_id, p.biobank_id, race, p.withdrawal_status, is_ghost_id,\n",
    "deceased_status, p.suspension_status\n",
    "                FROM participant_summary ps\n",
    "                INNER JOIN participant p USING (participant_id)\n",
    "                WHERE p.biobank_id IN {}'''.format(tuple(not_in_drc_masterlist.biobank_id)), cnx).merge(Race())\n",
    "\n",
    "not_in_drc_masterlist_race"
   ]
  },
  {
   "cell_type": "code",
   "execution_count": null,
   "metadata": {
    "ExecuteTime": {
     "end_time": "2020-12-02T15:03:01.966046Z",
     "start_time": "2020-12-02T15:03:01.718Z"
    }
   },
   "outputs": [],
   "source": [
    "not_in_drc_masterlist_race['deceased_status'].unique(),\n",
    "not_in_drc_masterlist_race['withdrawal_status'].unique(),\n",
    "not_in_drc_masterlist_race['suspension_status'].unique(),\n",
    "not_in_drc_masterlist_race['Race'].unique()"
   ]
  },
  {
   "cell_type": "markdown",
   "metadata": {},
   "source": [
    "------------------------------------------------------"
   ]
  },
  {
   "cell_type": "code",
   "execution_count": null,
   "metadata": {
    "ExecuteTime": {
     "end_time": "2020-12-02T15:03:02.124056Z",
     "start_time": "2020-12-02T15:03:02.120056Z"
    }
   },
   "outputs": [],
   "source": [
    "batch5_randomState.biobank_id.nunique()"
   ]
  },
  {
   "cell_type": "code",
   "execution_count": null,
   "metadata": {
    "ExecuteTime": {
     "end_time": "2020-12-02T15:03:02.334073Z",
     "start_time": "2020-12-02T15:03:02.328068Z"
    }
   },
   "outputs": [],
   "source": [
    "3770-3726, 3955-3770"
   ]
  },
  {
   "cell_type": "markdown",
   "metadata": {
    "ExecuteTime": {
     "end_time": "2020-12-01T17:38:43.981730Z",
     "start_time": "2020-12-01T17:38:43.977727Z"
    }
   },
   "source": [
    "---------------------------------------------------"
   ]
  },
  {
   "cell_type": "code",
   "execution_count": null,
   "metadata": {
    "ExecuteTime": {
     "end_time": "2020-12-02T15:03:02.762113Z",
     "start_time": "2020-12-02T15:03:02.731114Z"
    }
   },
   "outputs": [],
   "source": [
    "batch5 = AoUSerums_fromMayo.merge(batch5_randomState).drop_duplicates()\n",
    "batch5.biobank_id.nunique()"
   ]
  },
  {
   "cell_type": "markdown",
   "metadata": {},
   "source": [
    "#### Plating Numbers we need"
   ]
  },
  {
   "cell_type": "markdown",
   "metadata": {},
   "source": [
    "We have been approved to tests 4460  in total including controls"
   ]
  },
  {
   "cell_type": "code",
   "execution_count": null,
   "metadata": {
    "ExecuteTime": {
     "end_time": "2020-12-02T15:03:03.275480Z",
     "start_time": "2020-12-02T15:03:03.271482Z"
    }
   },
   "outputs": [],
   "source": [
    "3726+660"
   ]
  },
  {
   "cell_type": "code",
   "execution_count": null,
   "metadata": {
    "ExecuteTime": {
     "end_time": "2020-12-02T15:03:03.563179Z",
     "start_time": "2020-12-02T15:03:03.559180Z"
    }
   },
   "outputs": [],
   "source": [
    "4386/85"
   ]
  },
  {
   "cell_type": "code",
   "execution_count": null,
   "metadata": {
    "ExecuteTime": {
     "end_time": "2020-12-02T15:03:03.728255Z",
     "start_time": "2020-12-02T15:03:03.724256Z"
    }
   },
   "outputs": [],
   "source": [
    "60*85"
   ]
  },
  {
   "cell_type": "code",
   "execution_count": null,
   "metadata": {
    "ExecuteTime": {
     "end_time": "2020-12-02T15:03:03.882264Z",
     "start_time": "2020-12-02T15:03:03.879265Z"
    }
   },
   "outputs": [],
   "source": [
    "5100-4401"
   ]
  },
  {
   "cell_type": "code",
   "execution_count": null,
   "metadata": {
    "ExecuteTime": {
     "end_time": "2020-12-02T15:03:04.136282Z",
     "start_time": "2020-12-02T15:03:04.130278Z"
    }
   },
   "outputs": [],
   "source": [
    "import math\n",
    "\n",
    "### Which batch number is this?\n",
    "batch_number = 5\n",
    "batch_size = int(batch5.biobank_id.nunique()) \n",
    "init_NegControls_perBatch = 660  \n",
    "#For batch 3+ we have done 85 -sample wells  (including controls so I will do the same)\n",
    "nwells = 85 #including controls\n",
    "\n",
    "\n",
    "number_of_plates = math.ceil((batch_size+init_NegControls_perBatch)/nwells) #excluding controls\n",
    "number_of_plates"
   ]
  },
  {
   "cell_type": "code",
   "execution_count": null,
   "metadata": {
    "ExecuteTime": {
     "end_time": "2020-12-02T19:38:15.236447Z",
     "start_time": "2020-12-02T19:38:15.232450Z"
    }
   },
   "outputs": [],
   "source": [
    "660+53"
   ]
  },
  {
   "cell_type": "code",
   "execution_count": null,
   "metadata": {
    "ExecuteTime": {
     "end_time": "2020-12-02T20:26:29.893480Z",
     "start_time": "2020-12-02T20:26:29.887475Z"
    }
   },
   "outputs": [],
   "source": [
    "# FINAL PLATE NUMBERS\n",
    "\n",
    "### Which batch number is this?\n",
    "batch_number = 5\n",
    "batch_size = int(batch5.biobank_id.nunique()) \n",
    "NegControls_perBatch = 660 ## per Sheri's request\n",
    "PosControls_perBatch = 53 #per Sheri's email\n",
    "\n",
    "#For batch 3+ we have done 85 -sample wells  (including controls so I will do the same)\n",
    "nwells = 85 #including controls\n",
    "\n",
    "\n",
    "number_of_plates = 53 #math.ceil((batch_size+NegControls_perBatch)/nwells) #excluding controls\n",
    "neg_controls_per_plate = math.floor(NegControls_perBatch/number_of_plates)\n",
    "nwells_excluding_controls = math.ceil(batch_size/number_of_plates)\n",
    "\n",
    "number_of_plates, nwells_excluding_controls, neg_controls_per_plate, NegControls_perBatch"
   ]
  },
  {
   "cell_type": "code",
   "execution_count": null,
   "metadata": {
    "ExecuteTime": {
     "end_time": "2020-12-02T20:11:11.254941Z",
     "start_time": "2020-12-02T20:11:11.249947Z"
    }
   },
   "outputs": [],
   "source": [
    "3726/53"
   ]
  },
  {
   "cell_type": "code",
   "execution_count": null,
   "metadata": {
    "ExecuteTime": {
     "end_time": "2020-12-02T16:15:38.802151Z",
     "start_time": "2020-12-02T16:15:38.798150Z"
    }
   },
   "outputs": [],
   "source": [
    "3726+734"
   ]
  },
  {
   "cell_type": "code",
   "execution_count": null,
   "metadata": {},
   "outputs": [],
   "source": []
  },
  {
   "cell_type": "markdown",
   "metadata": {},
   "source": [
    "We may add more neg controls or pos controls - we will let Sheri decide"
   ]
  },
  {
   "cell_type": "markdown",
   "metadata": {},
   "source": [
    "#### Optimization"
   ]
  },
  {
   "cell_type": "markdown",
   "metadata": {},
   "source": [
    "Ultimately, we would like to minimize the number of source racks (column H) needed to create each plate. If no source rack is listed, it is because the sample is in a freezer where there are too few samples to require any optimization so it does not need to be taken into consideration. "
   ]
  },
  {
   "cell_type": "code",
   "execution_count": null,
   "metadata": {
    "ExecuteTime": {
     "end_time": "2020-12-02T15:03:17.410169Z",
     "start_time": "2020-12-02T15:03:17.382169Z"
    }
   },
   "outputs": [],
   "source": [
    "batch5 = batch5[['biobank_id', 'participant_id', 'state', \n",
    "                           'DateBloodSampleCollected','Collection Date', \n",
    "                           'Sample Type', \n",
    "                           'Location',\n",
    "                           #'Volume (uL)', \n",
    "                           'Matrix Id',\n",
    "                           'Source Rack', \n",
    "                           'PositionInRack', 'Shelf',\n",
    "                           'Freezer, Bay', \n",
    "                           'Positive Control',\n",
    "                           'Negative Control']].drop_duplicates()\n",
    "\n",
    "batch5.head()"
   ]
  },
  {
   "cell_type": "code",
   "execution_count": null,
   "metadata": {
    "ExecuteTime": {
     "end_time": "2020-12-02T15:03:17.734954Z",
     "start_time": "2020-12-02T15:03:17.729954Z"
    }
   },
   "outputs": [],
   "source": [
    " batch5['Source Rack'].nunique()"
   ]
  },
  {
   "cell_type": "code",
   "execution_count": null,
   "metadata": {
    "ExecuteTime": {
     "end_time": "2020-12-02T15:03:17.953965Z",
     "start_time": "2020-12-02T15:03:17.947966Z"
    }
   },
   "outputs": [],
   "source": [
    "batch5['Location'].nunique(), batch5['Freezer, Bay'].nunique()"
   ]
  },
  {
   "cell_type": "code",
   "execution_count": null,
   "metadata": {
    "ExecuteTime": {
     "end_time": "2020-12-02T15:03:18.153978Z",
     "start_time": "2020-12-02T15:03:18.146978Z"
    }
   },
   "outputs": [],
   "source": [
    "batch5['Location'].unique(), batch5['Freezer, Bay'].unique()"
   ]
  },
  {
   "cell_type": "code",
   "execution_count": null,
   "metadata": {
    "ExecuteTime": {
     "end_time": "2020-12-02T15:03:18.301986Z",
     "start_time": "2020-12-02T15:03:18.288986Z"
    }
   },
   "outputs": [],
   "source": [
    "batch5['location_id'] = int()\n",
    "\n",
    "batch5.loc[batch5['Location'] == '/BiOS Freezer_MN_03/Store', 'location_id'] = 0\n",
    "batch5.loc[batch5['Location'] == '/BiOS Freezer_MN_04/Store', 'location_id'] = 1\n",
    "batch5.loc[batch5['Location'] == '/BAPLB_#473/Shelf2/RackD/Slot6/BX-00345332/G1', 'location_id'] = 2\n",
    "batch5.loc[batch5['Location'] == '/BAPLB_#473/Shelf2/RackD/Slot6/BX-00345332/G2', 'location_id'] =3\n",
    "batch5.loc[batch5['Location'] == '/BAPLB_#473/Shelf2/RackD/Slot6/BX-00345332/G6', 'location_id'] = 4"
   ]
  },
  {
   "cell_type": "code",
   "execution_count": null,
   "metadata": {
    "ExecuteTime": {
     "end_time": "2020-12-02T15:03:18.592611Z",
     "start_time": "2020-12-02T15:03:18.567613Z"
    }
   },
   "outputs": [],
   "source": [
    "batch5['freezer_bay_id'] = int()\n",
    "\n",
    "batch5.loc[batch5['Freezer, Bay'] == 'Freezer 2, Bay 2', 'freezer_bay_id'] = 0\n",
    "batch5.loc[batch5['Freezer, Bay'] == 'Freezer 3, Bay 1', 'freezer_bay_id'] = 1\n",
    "batch5.loc[batch5['Freezer, Bay'] == 'Freezer 3, Bay 2', 'freezer_bay_id'] = 2\n",
    "batch5.loc[batch5['Freezer, Bay'] == 'Freezer 4, Bay 1', 'freezer_bay_id'] = 3\n",
    "batch5.loc[batch5['Freezer, Bay'] == 'Freezer 4, Bay 2', 'freezer_bay_id'] = 4\n",
    "batch5.loc[batch5['Freezer, Bay'] == 'Freezer 7, Bay 1', 'freezer_bay_id'] = 5\n",
    "batch5.loc[batch5['Freezer, Bay'] == 'Freezer 7, Bay 2', 'freezer_bay_id'] = 6\n",
    "batch5.loc[batch5['Freezer, Bay'] == 'Freezer 9, Bay 1', 'freezer_bay_id'] = 7\n",
    "batch5.loc[batch5['Freezer, Bay'] == 'Freezer 10, Bay 2', 'freezer_bay_id'] = 8\n",
    "\n",
    "batch5.loc[(batch5['Location'] == '/BiOS Freezer_MN_04/Store')&\n",
    "           (batch5['Freezer, Bay'].isnull()), 'freezer_bay_id'] = 9\n",
    "\n",
    "batch5.loc[(batch5['Location'] == '/BAPLB_#473/Shelf2/RackD/Slot6/BX-00345332/G1')&\n",
    "           (batch5['Freezer, Bay'].isnull()), 'freezer_bay_id'] = 10\n",
    "\n",
    "batch5.loc[(batch5['Location'] == '/BAPLB_#473/Shelf2/RackD/Slot6/BX-00345332/G2')&\n",
    "                      (batch5['Freezer, Bay'].isnull()), 'freezer_bay_id'] = 11\n",
    "\n",
    "batch5.loc[(batch5['Location'] == '/BAPLB_#473/Shelf2/RackD/Slot6/BX-00345332/G6') &        \n",
    "           (batch5['Freezer, Bay'].isnull()), 'freezer_bay_id'] = 12"
   ]
  },
  {
   "cell_type": "code",
   "execution_count": null,
   "metadata": {
    "ExecuteTime": {
     "end_time": "2020-12-02T15:03:18.799324Z",
     "start_time": "2020-12-02T15:03:18.784321Z"
    }
   },
   "outputs": [],
   "source": [
    " batch5[['location_id','Location', 'freezer_bay_id','Freezer, Bay']].drop_duplicates().sort_values(['location_id','freezer_bay_id'])"
   ]
  },
  {
   "cell_type": "code",
   "execution_count": null,
   "metadata": {
    "ExecuteTime": {
     "end_time": "2020-12-02T15:03:19.007333Z",
     "start_time": "2020-12-02T15:03:19.002334Z"
    }
   },
   "outputs": [],
   "source": [
    "batch5['PositionInRack'].nunique(), batch5['Shelf'].nunique()"
   ]
  },
  {
   "cell_type": "code",
   "execution_count": null,
   "metadata": {
    "ExecuteTime": {
     "end_time": "2020-12-02T15:03:19.221396Z",
     "start_time": "2020-12-02T15:03:19.207399Z"
    }
   },
   "outputs": [],
   "source": [
    "batch5[['Shelf','PositionInRack']].drop_duplicates().sort_values(['Shelf','PositionInRack'])#.to_csv(data_directory+'positiionInRacK.csv')"
   ]
  },
  {
   "cell_type": "code",
   "execution_count": null,
   "metadata": {
    "ExecuteTime": {
     "end_time": "2020-12-02T15:03:19.417681Z",
     "start_time": "2020-12-02T15:03:19.389680Z"
    }
   },
   "outputs": [],
   "source": [
    "batch5[['location_id', 'Location', 'freezer_bay_id', 'Freezer, Bay', 'Shelf','PositionInRack','Source Rack']].drop_duplicates().sort_values(['location_id', 'freezer_bay_id', 'Shelf','PositionInRack','Source Rack'])\n"
   ]
  },
  {
   "cell_type": "code",
   "execution_count": null,
   "metadata": {
    "ExecuteTime": {
     "end_time": "2020-12-02T15:03:19.645392Z",
     "start_time": "2020-12-02T15:03:19.615394Z"
    }
   },
   "outputs": [],
   "source": [
    "location_opt = batch5[['participant_id', 'location_id', \n",
    "                       'Location', 'freezer_bay_id', 'Freezer, Bay', \n",
    "                       'Shelf','PositionInRack','Source Rack']].drop_duplicates().sort_values(['location_id', 'freezer_bay_id', 'Shelf','PositionInRack','Source Rack'])\n",
    "\n",
    "location_opt"
   ]
  },
  {
   "cell_type": "code",
   "execution_count": null,
   "metadata": {
    "ExecuteTime": {
     "end_time": "2020-12-02T15:03:19.774402Z",
     "start_time": "2020-12-02T15:03:19.761398Z"
    }
   },
   "outputs": [],
   "source": [
    "location_opt[['participant_id','Source Rack']].groupby(['Source Rack']).nunique()"
   ]
  },
  {
   "cell_type": "code",
   "execution_count": null,
   "metadata": {
    "ExecuteTime": {
     "end_time": "2020-12-02T15:03:19.979410Z",
     "start_time": "2020-12-02T15:03:19.957410Z"
    }
   },
   "outputs": [],
   "source": [
    "location_opt.groupby(['location_id', 'Location', 'freezer_bay_id', 'Freezer, Bay']).nunique()"
   ]
  },
  {
   "cell_type": "code",
   "execution_count": null,
   "metadata": {
    "ExecuteTime": {
     "end_time": "2020-12-02T15:03:20.091418Z",
     "start_time": "2020-12-02T15:03:20.070416Z"
    }
   },
   "outputs": [],
   "source": [
    "location_opt.groupby(['location_id', 'Location']).nunique()"
   ]
  },
  {
   "cell_type": "code",
   "execution_count": null,
   "metadata": {
    "ExecuteTime": {
     "end_time": "2020-12-02T15:03:20.199422Z",
     "start_time": "2020-12-02T15:03:20.194423Z"
    }
   },
   "outputs": [],
   "source": [
    "3699+29"
   ]
  },
  {
   "cell_type": "code",
   "execution_count": null,
   "metadata": {
    "ExecuteTime": {
     "end_time": "2020-12-02T15:03:20.366437Z",
     "start_time": "2020-12-02T15:03:20.362432Z"
    }
   },
   "outputs": [],
   "source": [
    "3726/359"
   ]
  },
  {
   "cell_type": "code",
   "execution_count": null,
   "metadata": {
    "ExecuteTime": {
     "end_time": "2020-12-02T15:03:20.601331Z",
     "start_time": "2020-12-02T15:03:20.595332Z"
    }
   },
   "outputs": [],
   "source": [
    "opt_order = ['location_id', 'freezer_bay_id', 'Shelf','PositionInRack','Source Rack']\n",
    "opt_order"
   ]
  },
  {
   "cell_type": "code",
   "execution_count": null,
   "metadata": {
    "ExecuteTime": {
     "end_time": "2020-12-02T15:03:21.013114Z",
     "start_time": "2020-12-02T15:03:21.008115Z"
    }
   },
   "outputs": [],
   "source": [
    "batch5.columns.tolist()"
   ]
  },
  {
   "cell_type": "code",
   "execution_count": null,
   "metadata": {
    "ExecuteTime": {
     "end_time": "2020-12-02T15:03:21.284116Z",
     "start_time": "2020-12-02T15:03:21.274113Z"
    }
   },
   "outputs": [],
   "source": [
    "batch5 = batch5.sort_values(opt_order)"
   ]
  },
  {
   "cell_type": "code",
   "execution_count": null,
   "metadata": {
    "ExecuteTime": {
     "end_time": "2020-12-02T15:04:22.942658Z",
     "start_time": "2020-12-02T15:03:21.525128Z"
    }
   },
   "outputs": [],
   "source": [
    "batch5_dedup = pd.DataFrame(columns = batch5.columns.tolist())\n",
    "for p in batch5.participant_id.unique():\n",
    "    \n",
    "    df = batch5[batch5.participant_id == p].sort_values(opt_order).head(1)\n",
    "    batch5_dedup = batch5_dedup.merge(df, 'outer')"
   ]
  },
  {
   "cell_type": "code",
   "execution_count": null,
   "metadata": {
    "ExecuteTime": {
     "end_time": "2020-12-02T15:04:22.972656Z",
     "start_time": "2020-12-02T15:04:22.943653Z"
    }
   },
   "outputs": [],
   "source": [
    "batch5_dedup.groupby(['location_id', 'Location', 'freezer_bay_id', 'Freezer, Bay']).nunique()"
   ]
  },
  {
   "cell_type": "code",
   "execution_count": null,
   "metadata": {
    "ExecuteTime": {
     "end_time": "2020-12-02T15:04:22.977657Z",
     "start_time": "2020-12-02T15:04:22.973656Z"
    }
   },
   "outputs": [],
   "source": [
    "batch5_dedup.participant_id.count()"
   ]
  },
  {
   "cell_type": "markdown",
   "metadata": {},
   "source": [
    "--------------------------------------------------"
   ]
  },
  {
   "cell_type": "code",
   "execution_count": null,
   "metadata": {
    "ExecuteTime": {
     "end_time": "2020-12-02T15:04:22.985655Z",
     "start_time": "2020-12-02T15:04:22.978655Z"
    }
   },
   "outputs": [],
   "source": [
    "def optimize_sequence(n_wells, df, location_columns_2optimize = opt_order):  \n",
    "    #df = = samples_groups\n",
    "    '''Function to Create Optimized Sequence \n",
    "       Groups participants in plates of n_wells participants\n",
    "       n_wells is the number of wells/the number of people per plate '''\n",
    "\n",
    "    # create empty 'plate' column\n",
    "    df['plate'] = int()\n",
    "    \n",
    "    # SEQUENCE OPTIMIZATION:\n",
    "     ## Order the batch by Description (Bay, Freezer), Sequence and Rack (optimum sequence order provided by biobank)\n",
    "     ## Then assign plate numbers to each participant, starting with plate #1\n",
    "     ## with n_wells participants per plate \n",
    "    n = 0\n",
    "    plate_number = 0\n",
    "\n",
    "    for pid in df.sort_values(location_columns_2optimize).biobank_id: \n",
    "        pids_per_well = df.sort_values(location_columns_2optimize)[['biobank_id']][n:n_wells+n]\n",
    "        ind = pids_per_well.index.values\n",
    "        plate_number += 1\n",
    "\n",
    "        for i in ind:\n",
    "            df.loc[i, 'plate'] = plate_number\n",
    "\n",
    "        n += n_wells\n",
    "        \n",
    "    display(df[['biobank_id','plate']].rename(columns = {'biobank_id':'pids_per_plate'}).groupby('plate').count())\n",
    "    print(colored('Done! We have ' +str(n_wells)+' wells per plate, with ' +str(df.plate.nunique()) + ' plates in total. The last few plates may have different numbers', 'blue'))\n",
    "    \n",
    "    return  df"
   ]
  },
  {
   "cell_type": "code",
   "execution_count": null,
   "metadata": {
    "ExecuteTime": {
     "end_time": "2020-12-02T15:04:22.992656Z",
     "start_time": "2020-12-02T15:04:22.986657Z"
    }
   },
   "outputs": [],
   "source": [
    "nwells, nwells_excluding_controls"
   ]
  },
  {
   "cell_type": "code",
   "execution_count": null,
   "metadata": {
    "ExecuteTime": {
     "end_time": "2020-12-02T20:12:07.218719Z",
     "start_time": "2020-12-02T20:11:51.813835Z"
    }
   },
   "outputs": [],
   "source": [
    "plated_noncontrols = optimize_sequence(n_wells = nwells_excluding_controls, df = batch5_dedup, \n",
    "                                       location_columns_2optimize = opt_order)"
   ]
  },
  {
   "cell_type": "code",
   "execution_count": null,
   "metadata": {
    "ExecuteTime": {
     "end_time": "2020-12-02T20:12:49.232582Z",
     "start_time": "2020-12-02T20:12:49.227583Z"
    }
   },
   "outputs": [],
   "source": [
    "plated_noncontrols.participant_id.count(), plated_noncontrols.participant_id.nunique()"
   ]
  },
  {
   "cell_type": "code",
   "execution_count": null,
   "metadata": {
    "ExecuteTime": {
     "end_time": "2020-12-02T20:12:50.248518Z",
     "start_time": "2020-12-02T20:12:50.224516Z"
    }
   },
   "outputs": [],
   "source": [
    "plated_noncontrols"
   ]
  },
  {
   "cell_type": "markdown",
   "metadata": {},
   "source": [
    "#### QC"
   ]
  },
  {
   "cell_type": "code",
   "execution_count": null,
   "metadata": {
    "ExecuteTime": {
     "end_time": "2020-12-02T20:12:55.971047Z",
     "start_time": "2020-12-02T20:12:55.965046Z"
    }
   },
   "outputs": [],
   "source": [
    "batch5['location_id'].nunique(), batch5['freezer_bay_id'].nunique(), batch5['location_id'].nunique(), batch5['Source Rack'].nunique()"
   ]
  },
  {
   "cell_type": "code",
   "execution_count": null,
   "metadata": {
    "ExecuteTime": {
     "end_time": "2020-12-02T20:12:56.179059Z",
     "start_time": "2020-12-02T20:12:56.174059Z"
    }
   },
   "outputs": [],
   "source": [
    "plated_noncontrols['location_id'].nunique(), plated_noncontrols['freezer_bay_id'].nunique(), plated_noncontrols['location_id'].nunique(), plated_noncontrols['Source Rack'].nunique()"
   ]
  },
  {
   "cell_type": "markdown",
   "metadata": {},
   "source": [
    "The number of trips to different locations and racks has been reduced"
   ]
  },
  {
   "cell_type": "code",
   "execution_count": null,
   "metadata": {
    "ExecuteTime": {
     "end_time": "2020-12-02T20:13:20.388505Z",
     "start_time": "2020-12-02T20:13:20.377506Z"
    }
   },
   "outputs": [],
   "source": [
    "# checking that they are only one pid per plate\n",
    "plated_noncontrols[['participant_id','plate']].groupby(['participant_id']).nunique().sort_values('plate')"
   ]
  },
  {
   "cell_type": "markdown",
   "metadata": {
    "ExecuteTime": {
     "end_time": "2020-08-05T16:06:33.835579Z",
     "start_time": "2020-08-05T16:06:33.831578Z"
    }
   },
   "source": [
    "### Add Negative Controls matched on state\n",
    "Uses `add_negative_controls()`"
   ]
  },
  {
   "cell_type": "code",
   "execution_count": null,
   "metadata": {},
   "outputs": [],
   "source": []
  },
  {
   "cell_type": "code",
   "execution_count": null,
   "metadata": {
    "ExecuteTime": {
     "end_time": "2020-12-02T20:13:29.296188Z",
     "start_time": "2020-12-02T20:13:29.260189Z"
    }
   },
   "outputs": [],
   "source": [
    "remainder_negative_controls = negative_controls_master4[['biobank_id','participant_id']].drop_duplicates()\n",
    "remainder_negative_controls = pd.DataFrame(set(remainder_negative_controls.biobank_id) - set(batch1to4_negativecontrols.biobank_id),\n",
    "                                             columns = ['biobank_id']).merge(negative_controls_master4[['biobank_id','participant_id', 'DateBloodSampleCollected', 'state', 'Positive Control','Negative Control']].drop_duplicates())\n",
    "remainder_negative_controls = remainder_negative_controls.sort_values('DateBloodSampleCollected')\n",
    "remainder_negative_controls"
   ]
  },
  {
   "cell_type": "code",
   "execution_count": null,
   "metadata": {
    "ExecuteTime": {
     "end_time": "2020-12-02T20:13:31.573839Z",
     "start_time": "2020-12-02T20:13:31.548838Z"
    }
   },
   "outputs": [],
   "source": [
    "#2 MATCH  negative controls on state\n",
    "neg_controls_df= pd.merge(remainder_negative_controls[['biobank_id', 'participant_id','state', \n",
    "                                                  'DateBloodSampleCollected', 'Negative Control', \n",
    "                                                  'Positive Control']].drop_duplicates(), \n",
    "                                plated_noncontrols[['state']].drop_duplicates())#.reset_index()\n",
    "    \n",
    "print('Number Pids per Matched States')\n",
    "neg_controls_dist = neg_controls_df[['biobank_id','state']].groupby('state').nunique().sort_values('biobank_id').reset_index()\n",
    "neg_controls_dist"
   ]
  },
  {
   "cell_type": "code",
   "execution_count": null,
   "metadata": {
    "ExecuteTime": {
     "end_time": "2020-12-02T20:13:32.203348Z",
     "start_time": "2020-12-02T20:13:32.181346Z"
    }
   },
   "outputs": [],
   "source": [
    "neg_controls_dist50 = neg_controls_dist[neg_controls_dist.biobank_id <=50]\n",
    "\n",
    "neg_controls_df1= pd.merge(remainder_negative_controls[['biobank_id', 'participant_id','state', \n",
    "                                                  'DateBloodSampleCollected', 'Negative Control', \n",
    "                                                  'Positive Control']].drop_duplicates(), \n",
    "                                neg_controls_dist50[['state']].drop_duplicates())#.reset_index()\n",
    "neg_controls_df1"
   ]
  },
  {
   "cell_type": "code",
   "execution_count": null,
   "metadata": {
    "ExecuteTime": {
     "end_time": "2020-12-02T20:13:33.483489Z",
     "start_time": "2020-12-02T20:13:33.479488Z"
    }
   },
   "outputs": [],
   "source": [
    "NegControls_perBatch -279"
   ]
  },
  {
   "cell_type": "code",
   "execution_count": null,
   "metadata": {
    "ExecuteTime": {
     "end_time": "2020-12-02T20:13:33.589495Z",
     "start_time": "2020-12-02T20:13:33.580495Z"
    }
   },
   "outputs": [],
   "source": [
    "neg_controls_dist_over50 = neg_controls_dist[neg_controls_dist.biobank_id >50]\n",
    "neg_controls_dist_over50"
   ]
  },
  {
   "cell_type": "code",
   "execution_count": null,
   "metadata": {
    "ExecuteTime": {
     "end_time": "2020-12-02T20:13:33.959517Z",
     "start_time": "2020-12-02T20:13:33.955516Z"
    }
   },
   "outputs": [],
   "source": [
    "381/13"
   ]
  },
  {
   "cell_type": "code",
   "execution_count": null,
   "metadata": {
    "ExecuteTime": {
     "end_time": "2020-12-02T20:13:34.787426Z",
     "start_time": "2020-12-02T20:13:34.784423Z"
    }
   },
   "outputs": [],
   "source": [
    "neg_controls_df1.columns"
   ]
  },
  {
   "cell_type": "code",
   "execution_count": null,
   "metadata": {
    "ExecuteTime": {
     "end_time": "2020-12-02T20:13:35.571216Z",
     "start_time": "2020-12-02T20:13:35.509209Z"
    }
   },
   "outputs": [],
   "source": [
    "neg_controls_df2 = pd.DataFrame(columns = ['biobank_id', 'participant_id', 'state', 'DateBloodSampleCollected',\n",
    "       'Negative Control', 'Positive Control'])\n",
    "for s in neg_controls_dist_over50.state.unique():\n",
    "    df = remainder_negative_controls[remainder_negative_controls.state == s]#.drop_duplicates()\n",
    "        #display(df.shape)\n",
    "    df = df.sample(30)\n",
    "    neg_controls_df2 = pd.concat([neg_controls_df2, df]).drop_duplicates()\n",
    "    \n",
    "neg_controls_df2"
   ]
  },
  {
   "cell_type": "code",
   "execution_count": null,
   "metadata": {
    "ExecuteTime": {
     "end_time": "2020-12-02T20:13:36.830146Z",
     "start_time": "2020-12-02T20:13:36.819144Z"
    }
   },
   "outputs": [],
   "source": [
    "remove_extra = neg_controls_df2.sample(9, random_state=122146)\n",
    "remove_extra"
   ]
  },
  {
   "cell_type": "code",
   "execution_count": null,
   "metadata": {
    "ExecuteTime": {
     "end_time": "2020-12-02T20:13:37.105163Z",
     "start_time": "2020-12-02T20:13:37.087163Z"
    }
   },
   "outputs": [],
   "source": [
    "neg_controls_df2 = pd.DataFrame(set(neg_controls_df2.biobank_id) -set(remove_extra.biobank_id),\n",
    "                         columns = ['biobank_id']).merge(neg_controls_df2)\n",
    "neg_controls_df2"
   ]
  },
  {
   "cell_type": "code",
   "execution_count": null,
   "metadata": {
    "ExecuteTime": {
     "end_time": "2020-12-02T20:26:57.252459Z",
     "start_time": "2020-12-02T20:26:57.234460Z"
    }
   },
   "outputs": [],
   "source": [
    "batch5_negControls = pd.concat([neg_controls_df1, neg_controls_df2]).drop_duplicates()\n",
    "batch5_negControls = batch5_negControls.reset_index().drop('index', axis =1)\n",
    "batch5_negControls"
   ]
  },
  {
   "cell_type": "code",
   "execution_count": null,
   "metadata": {
    "ExecuteTime": {
     "end_time": "2020-12-02T20:26:57.938678Z",
     "start_time": "2020-12-02T20:26:57.934677Z"
    }
   },
   "outputs": [],
   "source": [
    "neg_controls_per_plate"
   ]
  },
  {
   "cell_type": "code",
   "execution_count": null,
   "metadata": {
    "ExecuteTime": {
     "end_time": "2020-12-02T20:26:58.041685Z",
     "start_time": "2020-12-02T20:26:58.037686Z"
    }
   },
   "outputs": [],
   "source": [
    "660/53"
   ]
  },
  {
   "cell_type": "code",
   "execution_count": null,
   "metadata": {
    "ExecuteTime": {
     "end_time": "2020-12-02T20:26:58.780502Z",
     "start_time": "2020-12-02T20:26:58.775504Z"
    }
   },
   "outputs": [],
   "source": [
    "12*53"
   ]
  },
  {
   "cell_type": "code",
   "execution_count": null,
   "metadata": {
    "ExecuteTime": {
     "end_time": "2020-12-02T20:26:59.001054Z",
     "start_time": "2020-12-02T20:26:58.996055Z"
    }
   },
   "outputs": [],
   "source": [
    "636-660"
   ]
  },
  {
   "cell_type": "markdown",
   "metadata": {},
   "source": [
    "-------------------------------------------"
   ]
  },
  {
   "cell_type": "markdown",
   "metadata": {},
   "source": [
    "I will assign 636 of the 660 negative controls to plates evenly (12 per plate).\n",
    "\n",
    "Then the remaining 24 will be distributed randomly amongst 24 plates"
   ]
  },
  {
   "cell_type": "code",
   "execution_count": null,
   "metadata": {
    "ExecuteTime": {
     "end_time": "2020-12-02T20:26:59.625997Z",
     "start_time": "2020-12-02T20:26:59.614996Z"
    }
   },
   "outputs": [],
   "source": [
    "batch5_negControls['plate'] = int()\n",
    "\n",
    "neg_controls24 = batch5_negControls.sample(24, random_state= 122159)\n",
    "neg_controls336 = pd.DataFrame(set(batch5_negControls.biobank_id) -set(neg_controls24.biobank_id),\n",
    "                         columns = ['biobank_id']).merge(batch5_negControls).reset_index().drop('index', axis =1)"
   ]
  },
  {
   "cell_type": "code",
   "execution_count": null,
   "metadata": {
    "ExecuteTime": {
     "end_time": "2020-12-02T20:27:01.652079Z",
     "start_time": "2020-12-02T20:27:00.715014Z"
    }
   },
   "outputs": [],
   "source": [
    "### 4 Assign negative controls to plates, 1 per plate\n",
    "batch5_negControls_plates = pd.DataFrame(columns = ['biobank_id','plate'])\n",
    "n = 0\n",
    "p = 1\n",
    "for i in neg_controls336.index:\n",
    "    m = n+(neg_controls_per_plate-1)\n",
    "    DF = neg_controls336[['biobank_id', 'plate']].loc[n:m]\n",
    "    DF['plate'] = p\n",
    "    batch5_negControls_plates = pd.concat([batch5_negControls_plates,DF])\n",
    "    n = m+1   \n",
    "    p = p+1"
   ]
  },
  {
   "cell_type": "code",
   "execution_count": null,
   "metadata": {
    "ExecuteTime": {
     "end_time": "2020-12-02T20:27:01.672080Z",
     "start_time": "2020-12-02T20:27:01.653076Z"
    }
   },
   "outputs": [],
   "source": [
    "batch5_negControls_plates = batch5_negControls_plates.merge(remainder_negative_controls)\n",
    "batch5_negControls_plates"
   ]
  },
  {
   "cell_type": "code",
   "execution_count": null,
   "metadata": {
    "ExecuteTime": {
     "end_time": "2020-12-02T20:27:01.693081Z",
     "start_time": "2020-12-02T20:27:01.673079Z"
    }
   },
   "outputs": [],
   "source": [
    "batch5_negControls_plates.groupby('plate').nunique()"
   ]
  },
  {
   "cell_type": "code",
   "execution_count": null,
   "metadata": {
    "ExecuteTime": {
     "end_time": "2020-12-02T20:27:11.629348Z",
     "start_time": "2020-12-02T20:27:11.620351Z"
    }
   },
   "outputs": [],
   "source": [
    "random_24_plates_ids = batch5_negControls_plates[['plate']].drop_duplicates().sample(24, random_state=122203)\n",
    "random_24_plates_ids"
   ]
  },
  {
   "cell_type": "code",
   "execution_count": null,
   "metadata": {
    "ExecuteTime": {
     "end_time": "2020-12-02T20:27:16.793608Z",
     "start_time": "2020-12-02T20:27:16.778609Z"
    }
   },
   "outputs": [],
   "source": [
    "neg_controls24['plate'] = random_24_plates_ids['plate'].values\n",
    "neg_controls24"
   ]
  },
  {
   "cell_type": "code",
   "execution_count": null,
   "metadata": {
    "ExecuteTime": {
     "end_time": "2020-12-02T20:27:20.231718Z",
     "start_time": "2020-12-02T20:27:20.215716Z"
    }
   },
   "outputs": [],
   "source": [
    "## combine to get all 660 neg controls\n",
    "batch5_negControls_plates_df = pd.concat([batch5_negControls_plates, neg_controls24])\n",
    "batch5_negControls_plates_df"
   ]
  },
  {
   "cell_type": "code",
   "execution_count": null,
   "metadata": {
    "ExecuteTime": {
     "end_time": "2020-12-02T20:27:22.827042Z",
     "start_time": "2020-12-02T20:27:22.815041Z"
    },
    "scrolled": true
   },
   "outputs": [],
   "source": [
    "batch5_negControls_plates_df[['participant_id','plate']].groupby('plate').nunique()"
   ]
  },
  {
   "cell_type": "code",
   "execution_count": null,
   "metadata": {
    "ExecuteTime": {
     "end_time": "2020-12-02T20:27:32.912651Z",
     "start_time": "2020-12-02T20:27:32.892650Z"
    }
   },
   "outputs": [],
   "source": [
    "batch5_negControls_df = batch5_negControls_plates_df.merge(batch5_negControls.drop('plate', axis= 1)).drop_duplicates()\n",
    "batch5_negControls_df"
   ]
  },
  {
   "cell_type": "markdown",
   "metadata": {},
   "source": [
    "##### QC "
   ]
  },
  {
   "cell_type": "code",
   "execution_count": null,
   "metadata": {
    "ExecuteTime": {
     "end_time": "2020-12-02T20:27:35.088426Z",
     "start_time": "2020-12-02T20:27:35.077421Z"
    }
   },
   "outputs": [],
   "source": [
    "batch5_negControls_df[['participant_id','plate']].groupby('plate').nunique()"
   ]
  },
  {
   "cell_type": "code",
   "execution_count": null,
   "metadata": {
    "ExecuteTime": {
     "end_time": "2020-12-02T20:27:39.893838Z",
     "start_time": "2020-12-02T20:27:39.880839Z"
    }
   },
   "outputs": [],
   "source": [
    "# checking that they are only one pid per plate\n",
    "batch5_negControls[['participant_id','plate']].groupby(['participant_id']).nunique().sort_values('plate')"
   ]
  },
  {
   "cell_type": "code",
   "execution_count": null,
   "metadata": {
    "ExecuteTime": {
     "end_time": "2020-12-02T20:28:38.548435Z",
     "start_time": "2020-12-02T20:28:38.526433Z"
    }
   },
   "outputs": [],
   "source": [
    "            \n",
    "print(colored('QC State Matching alogirthm 2: ', 'green'))\n",
    "    \n",
    "print('\\nN Unique states in batch neg controls vs batch_df states: '+str(batch5_negControls_df.state.nunique()) +', '+ str(plated_noncontrols.state.nunique()))\n",
    "print('Unique states in batch neg controls vs batch_df states: ')\n",
    "display(batch5_negControls[['state']].drop_duplicates().sort_values('state'), plated_noncontrols[['state']].drop_duplicates().sort_values('state'))\n",
    "\n",
    "print(colored('Other QCs: ', 'green'))\n",
    "print('unique pids:' + str(batch5_negControls_df.biobank_id.nunique()))\n",
    "print('count of pids:' + str(batch5_negControls_df.biobank_id.count()))\n",
    "print('number of plates (unique and count):' + str(batch5_negControls_df.plate.nunique())+' and ' + str(batch5_negControls_df.plate.count()))\n",
    "print('shape:' + str(batch5_negControls.shape))\n",
    "    \n",
    "    #batch_neg_controls_df = batch_neg_controls_df.drop('state', axis = 1)\n"
   ]
  },
  {
   "cell_type": "code",
   "execution_count": null,
   "metadata": {
    "ExecuteTime": {
     "end_time": "2020-12-02T20:28:46.661786Z",
     "start_time": "2020-12-02T20:28:46.643789Z"
    }
   },
   "outputs": [],
   "source": [
    "# ensure batch 4 negative controls is not in batch1,2,3 or list4\n",
    "pd.merge(batch1to4_negativecontrols, batch5_negControls)"
   ]
  },
  {
   "cell_type": "code",
   "execution_count": null,
   "metadata": {
    "ExecuteTime": {
     "end_time": "2020-12-02T20:28:49.333988Z",
     "start_time": "2020-12-02T20:28:49.329986Z"
    }
   },
   "outputs": [],
   "source": [
    "batch5_negControls.DateBloodSampleCollected.min(), batch5_negControls.DateBloodSampleCollected.max()"
   ]
  },
  {
   "cell_type": "markdown",
   "metadata": {},
   "source": [
    "### Add Postitive Controls"
   ]
  },
  {
   "cell_type": "code",
   "execution_count": null,
   "metadata": {
    "ExecuteTime": {
     "end_time": "2020-12-02T20:34:22.818896Z",
     "start_time": "2020-12-02T20:34:22.813900Z"
    }
   },
   "outputs": [],
   "source": [
    "PosControls_perBatch"
   ]
  },
  {
   "cell_type": "code",
   "execution_count": null,
   "metadata": {
    "ExecuteTime": {
     "end_time": "2020-12-02T20:29:54.459947Z",
     "start_time": "2020-12-02T20:29:54.082918Z"
    }
   },
   "outputs": [],
   "source": [
    "mayo_new_pos_controls = pd.read_excel(data_directory+'Mayo Positive Control Stock Tubes.xlsx', sheet_name=2)\n",
    "mayo_new_pos_controls"
   ]
  },
  {
   "cell_type": "code",
   "execution_count": null,
   "metadata": {
    "ExecuteTime": {
     "end_time": "2020-12-02T20:34:43.249760Z",
     "start_time": "2020-12-02T20:34:43.228754Z"
    }
   },
   "outputs": [],
   "source": [
    "batch5_posControls = mayo_new_pos_controls[['Sample Id', 'Collection Date (CST)']].drop_duplicates().dropna()\n",
    "batch5_posControls = batch5_posControls.sample(PosControls_perBatch, random_state = 122234)\n",
    "batch5_posControls.columns = ['Biobank ID', 'DateBloodSampleCollected']\n",
    "batch5_posControls['Positive Control'] = 'Yes'\n",
    "batch5_posControls['Negative Control'] = 'No'\n",
    "batch5_posControls"
   ]
  },
  {
   "cell_type": "code",
   "execution_count": null,
   "metadata": {
    "ExecuteTime": {
     "end_time": "2020-12-02T20:34:53.297705Z",
     "start_time": "2020-12-02T20:34:53.280704Z"
    }
   },
   "outputs": [],
   "source": [
    "## Assign 1 pos control per plate\n",
    "batch5_posControls['plate']= int()\n",
    "batch5_posControls['plate']= range(1,int(number_of_plates)+1)\n",
    "batch5_posControls"
   ]
  },
  {
   "cell_type": "markdown",
   "metadata": {},
   "source": [
    "### FINAL DELIVERABLE"
   ]
  },
  {
   "cell_type": "code",
   "execution_count": null,
   "metadata": {
    "ExecuteTime": {
     "end_time": "2020-12-02T20:37:01.056599Z",
     "start_time": "2020-12-02T20:37:01.023597Z"
    }
   },
   "outputs": [],
   "source": [
    "Serology_batch_final = pd.concat([plated_noncontrols, batch5_negControls_df])\n",
    "Serology_batch_final['Biobank ID'] = ['A'+str(i) for i in Serology_batch_final['biobank_id']]\n",
    "Serology_batch_final = Serology_batch_final.drop(['state', 'participant_id', 'biobank_id'], axis = 1)\n",
    "# \n",
    "Serology_batch_final"
   ]
  },
  {
   "cell_type": "code",
   "execution_count": null,
   "metadata": {
    "ExecuteTime": {
     "end_time": "2020-12-02T20:38:36.913681Z",
     "start_time": "2020-12-02T20:38:36.884678Z"
    }
   },
   "outputs": [],
   "source": [
    "Mayo_Serology_batch_final= pd.concat([Serology_batch_final,batch5_posControls])\n",
    "Mayo_Serology_batch_final"
   ]
  },
  {
   "cell_type": "code",
   "execution_count": null,
   "metadata": {
    "ExecuteTime": {
     "end_time": "2020-12-02T20:46:00.182817Z",
     "start_time": "2020-12-02T20:46:00.177816Z"
    }
   },
   "outputs": [],
   "source": [
    "71+12+1"
   ]
  },
  {
   "cell_type": "code",
   "execution_count": null,
   "metadata": {
    "ExecuteTime": {
     "end_time": "2020-12-02T20:38:50.715403Z",
     "start_time": "2020-12-02T20:38:50.688404Z"
    }
   },
   "outputs": [],
   "source": [
    "Mayo_Serology_batch_final = Mayo_Serology_batch_final[['Biobank ID', 'DateBloodSampleCollected', #'Collection Date',\n",
    "       'Sample Type', 'Location', 'Matrix Id', 'Source Rack', 'PositionInRack',\n",
    "       'Shelf', 'Freezer, Bay', 'Positive Control', 'Negative Control',\n",
    "       'location_id', 'freezer_bay_id', 'plate']]\n",
    "\n",
    "# Mayo_Serology_batch_final.columns = ['DateBloodSampleCollected',\n",
    "#         'Negative Control', 'Positive Control', 'Biobank ID','Plate ID']\n",
    "# Mayo_Serology_batch_final = Mayo_Serology_batch_final[['Biobank ID','Plate ID', 'DateBloodSampleCollected', 'Negative Control', 'Positive Control']]#.replace('Anan', None)\n",
    "Mayo_Serology_batch_final"
   ]
  },
  {
   "cell_type": "code",
   "execution_count": null,
   "metadata": {
    "ExecuteTime": {
     "end_time": "2020-12-02T20:48:15.441500Z",
     "start_time": "2020-12-02T20:48:15.427498Z"
    }
   },
   "outputs": [],
   "source": [
    "Mayo_Serology_batch_final[['Biobank ID','plate']].groupby('plate').nunique().sort_values('Biobank ID', ascending = False)#.drop('plate', axis = 1)"
   ]
  },
  {
   "cell_type": "code",
   "execution_count": null,
   "metadata": {
    "ExecuteTime": {
     "end_time": "2020-12-02T20:40:25.402221Z",
     "start_time": "2020-12-02T20:40:25.396225Z"
    }
   },
   "outputs": [],
   "source": [
    "## we are approved for 4460\n",
    "Mayo_Serology_batch_final['Biobank ID'].nunique()"
   ]
  },
  {
   "cell_type": "code",
   "execution_count": null,
   "metadata": {
    "ExecuteTime": {
     "end_time": "2020-12-02T21:01:33.339427Z",
     "start_time": "2020-12-02T21:01:33.324424Z"
    }
   },
   "outputs": [],
   "source": [
    "get_specimens_counts(Mayo_Serology_batch_final, 'Biobank ID', plated = 'Yes')"
   ]
  },
  {
   "cell_type": "code",
   "execution_count": null,
   "metadata": {
    "ExecuteTime": {
     "end_time": "2020-12-02T20:51:20.351700Z",
     "start_time": "2020-12-02T20:51:20.311697Z"
    }
   },
   "outputs": [],
   "source": [
    "#save_this_csv(Serology_batch_final, 'DRC_Serology_batch'+str(batch_number))\n",
    "save_this_csv_or_xl(Mayo_Serology_batch_final, 'Mayo_Serology_batch'+str(batch_number))"
   ]
  },
  {
   "cell_type": "code",
   "execution_count": null,
   "metadata": {
    "ExecuteTime": {
     "end_time": "2020-12-02T20:47:31.838361Z",
     "start_time": "2020-12-02T20:47:31.834363Z"
    }
   },
   "outputs": [],
   "source": [
    "71+13+1"
   ]
  },
  {
   "cell_type": "markdown",
   "metadata": {},
   "source": [
    "To send to Sheri\n",
    "\n",
    "Total specimens = 4439\n",
    "   - 3726 non controls from 2020 (with available serums as of 11/19/2020)\n",
    "    Date range = 01/02/2020 to 01/14/2020   \n",
    "   - 660  Negative controls\n",
    "    Date range of 02/27/2019 to 03/16/2019\n",
    "   - 53 Positive controls were included\n",
    "    \n",
    "Plating Strategy - 53 Plates in total\n",
    "   - 24 plates with 85 wells (71 non controls + 13 negative controls + 1 positive control)\n",
    "   - 28 plates with 84 wells (71 non controls + 12 negative controls + 1 positive control)\n",
    "   - last plate has 47 wells (34 non controls + 12 negative controls + 1 positive control)\n",
    "\n",
    "The plating was optimized using the location information provided by Mayo \n",
    "to reduce number of source racks and trips to freezer locations "
   ]
  },
  {
   "cell_type": "code",
   "execution_count": null,
   "metadata": {
    "ExecuteTime": {
     "end_time": "2020-12-02T20:50:04.356634Z",
     "start_time": "2020-12-02T20:50:04.352633Z"
    }
   },
   "outputs": [],
   "source": [
    "24*85+28*84+47"
   ]
  },
  {
   "cell_type": "code",
   "execution_count": null,
   "metadata": {
    "ExecuteTime": {
     "end_time": "2020-12-02T20:50:22.390096Z",
     "start_time": "2020-12-02T20:50:22.386102Z"
    }
   },
   "outputs": [],
   "source": [
    "3726+660+53"
   ]
  },
  {
   "cell_type": "markdown",
   "metadata": {},
   "source": [
    "# **12/3/2020 Serum Replacement**"
   ]
  },
  {
   "cell_type": "code",
   "execution_count": null,
   "metadata": {
    "ExecuteTime": {
     "end_time": "2020-12-03T18:39:05.656027Z",
     "start_time": "2020-12-03T18:39:05.614030Z"
    }
   },
   "outputs": [],
   "source": [
    "initial_batch5_sent = pd.read_csv(data_directory+'Mayo_Serology_batch5_2020-12-02.csv')\n",
    "initial_batch5_sent"
   ]
  },
  {
   "cell_type": "code",
   "execution_count": null,
   "metadata": {
    "ExecuteTime": {
     "end_time": "2020-12-03T18:40:26.539097Z",
     "start_time": "2020-12-03T18:40:26.524103Z"
    }
   },
   "outputs": [],
   "source": [
    "insufficient_serums = initial_batch5_sent[initial_batch5_sent['Biobank ID'].isin(['A900582636','A192012586','A761559114'])]\n",
    "insufficient_serums"
   ]
  },
  {
   "cell_type": "code",
   "execution_count": null,
   "metadata": {},
   "outputs": [],
   "source": [
    "insufficient_serums.merge(negative_controls_master4[['','']])"
   ]
  },
  {
   "cell_type": "markdown",
   "metadata": {},
   "source": [
    "## find replacements from same states"
   ]
  },
  {
   "cell_type": "code",
   "execution_count": null,
   "metadata": {
    "ExecuteTime": {
     "end_time": "2020-12-03T18:50:16.093569Z",
     "start_time": "2020-12-03T18:50:16.059565Z"
    }
   },
   "outputs": [],
   "source": [
    "batch5_negs = transform_manifest(initial_batch5_sent[['Biobank ID']], 'Biobank ID', \n",
    "                                 negative_controls_master_df = negative_controls_master4 ,\n",
    "                                 which_df = 'negative controls')"
   ]
  },
  {
   "cell_type": "code",
   "execution_count": null,
   "metadata": {
    "ExecuteTime": {
     "end_time": "2020-12-03T18:49:18.872584Z",
     "start_time": "2020-12-03T18:49:18.861579Z"
    }
   },
   "outputs": [],
   "source": [
    "negative_controls_master4[negative_controls_master4['biobank_id'].isin([900582636,192012586,761559114])][['biobank_id','state']].drop_duplicates()"
   ]
  },
  {
   "cell_type": "code",
   "execution_count": null,
   "metadata": {
    "ExecuteTime": {
     "end_time": "2020-12-03T18:52:03.617633Z",
     "start_time": "2020-12-03T18:52:03.587630Z"
    }
   },
   "outputs": [],
   "source": [
    "choose_from_these_negs = set(negative_controls_master4.biobank_id)- set(batch1to4_negativecontrols.biobank_id)\n",
    "\n",
    "choose_from_these_negs = pd.DataFrame(choose_from_these_negs- set(batch5_negs.biobank_id),\n",
    "                                          columns = ['biobank_id'])\n",
    "choose_from_these_negs = choose_from_these_negs.merge(negative_controls_master4[['biobank_id','participant_id', 'DateBloodSampleCollected', 'state', 'Positive Control','Negative Control']].drop_duplicates()).drop_duplicates()\n",
    "choose_from_these_negs.biobank_id.nunique()"
   ]
  },
  {
   "cell_type": "code",
   "execution_count": null,
   "metadata": {
    "ExecuteTime": {
     "end_time": "2020-12-03T18:53:30.919013Z",
     "start_time": "2020-12-03T18:53:30.905009Z"
    }
   },
   "outputs": [],
   "source": [
    "choose_from_these_negs = choose_from_these_negs[choose_from_these_negs.state.isin(['Illinois','Pennsylvania','North Carolina'])]\n",
    "choose_from_these_negs"
   ]
  },
  {
   "cell_type": "code",
   "execution_count": null,
   "metadata": {
    "ExecuteTime": {
     "end_time": "2020-12-03T18:58:39.701852Z",
     "start_time": "2020-12-03T18:58:39.696855Z"
    }
   },
   "outputs": [],
   "source": [
    "choose_from_these_negs.state.unique()"
   ]
  },
  {
   "cell_type": "markdown",
   "metadata": {},
   "source": [
    "There is no negative conctrol from NC left"
   ]
  },
  {
   "cell_type": "code",
   "execution_count": null,
   "metadata": {
    "ExecuteTime": {
     "end_time": "2020-12-03T18:56:38.588115Z",
     "start_time": "2020-12-03T18:56:38.584115Z"
    }
   },
   "outputs": [],
   "source": [
    "choose_from_these_negs.columns"
   ]
  },
  {
   "cell_type": "code",
   "execution_count": null,
   "metadata": {
    "ExecuteTime": {
     "end_time": "2020-12-03T18:59:29.896792Z",
     "start_time": "2020-12-03T18:59:29.887794Z"
    }
   },
   "outputs": [],
   "source": [
    "batch5_replacements_negsControls = choose_from_these_negs.sample(3, random_state = 1231258)\n",
    "batch5_replacements_negsControls"
   ]
  },
  {
   "cell_type": "code",
   "execution_count": null,
   "metadata": {
    "ExecuteTime": {
     "end_time": "2020-12-03T19:00:46.558711Z",
     "start_time": "2020-12-03T19:00:46.549705Z"
    }
   },
   "outputs": [],
   "source": [
    "batch5_replacements_negsControls['Biobank ID'] = ['A'+str(i) for i in batch5_replacements_negsControls.biobank_id]\n",
    "batch5_replacements_negsControls"
   ]
  },
  {
   "cell_type": "markdown",
   "metadata": {},
   "source": [
    "## replace them in the original file and save the new batch 5 file"
   ]
  },
  {
   "cell_type": "code",
   "execution_count": null,
   "metadata": {
    "ExecuteTime": {
     "end_time": "2020-12-03T19:03:51.103425Z",
     "start_time": "2020-12-03T19:03:51.101427Z"
    }
   },
   "outputs": [],
   "source": [
    "batch5_with_replaced_serums = initial_batch5_sent"
   ]
  },
  {
   "cell_type": "code",
   "execution_count": null,
   "metadata": {
    "ExecuteTime": {
     "end_time": "2020-12-03T19:04:06.594640Z",
     "start_time": "2020-12-03T19:04:06.587638Z"
    }
   },
   "outputs": [],
   "source": [
    "batch5_with_replaced_serums.loc[batch5_with_replaced_serums['Biobank ID'] == 'A900582636', 'Biobank ID'] = 'A648812117'\n",
    "batch5_with_replaced_serums.loc[batch5_with_replaced_serums['Biobank ID'] == 'A192012586', 'Biobank ID'] = 'A505650966'\n",
    "batch5_with_replaced_serums.loc[batch5_with_replaced_serums['Biobank ID'] == 'A761559114', 'Biobank ID'] = 'A774006151'\n",
    "                        "
   ]
  },
  {
   "cell_type": "code",
   "execution_count": null,
   "metadata": {},
   "outputs": [],
   "source": [
    "batch5_with_replaced_serums[batch5_with_replaced_serums.plate == ]"
   ]
  },
  {
   "cell_type": "markdown",
   "metadata": {},
   "source": [
    "## QC"
   ]
  },
  {
   "cell_type": "code",
   "execution_count": null,
   "metadata": {
    "ExecuteTime": {
     "end_time": "2020-12-03T19:05:17.302246Z",
     "start_time": "2020-12-03T19:05:17.288247Z"
    }
   },
   "outputs": [],
   "source": [
    "get_specimens_counts(batch5_with_replaced_serums, 'Biobank ID')"
   ]
  },
  {
   "cell_type": "code",
   "execution_count": null,
   "metadata": {
    "ExecuteTime": {
     "end_time": "2020-12-03T19:08:55.042572Z",
     "start_time": "2020-12-03T19:08:55.034573Z"
    }
   },
   "outputs": [],
   "source": [
    "## make sure insufficient serums are not in new file\n",
    "batch5_with_replaced_serums[batch5_with_replaced_serums['Biobank ID'].isin(['A900582636','A192012586','A761559114'])]"
   ]
  },
  {
   "cell_type": "code",
   "execution_count": null,
   "metadata": {
    "ExecuteTime": {
     "end_time": "2020-12-03T19:10:17.128210Z",
     "start_time": "2020-12-03T19:10:17.112211Z"
    }
   },
   "outputs": [],
   "source": [
    "## make new serums are in new file\n",
    "batch5_with_replaced_serums[batch5_with_replaced_serums['Biobank ID'].isin(['A648812117','A505650966','A774006151'])]"
   ]
  },
  {
   "cell_type": "code",
   "execution_count": null,
   "metadata": {
    "ExecuteTime": {
     "end_time": "2020-12-03T19:11:02.328895Z",
     "start_time": "2020-12-03T19:11:02.313892Z"
    }
   },
   "outputs": [],
   "source": [
    "#\n",
    "batch5_with_replaced_serums.merge(batch5_replacements_negsControls[['Biobank ID']])[['Biobank ID','DateBloodSampleCollected','Positive Control', 'Negative Control', 'plate']]"
   ]
  },
  {
   "cell_type": "code",
   "execution_count": null,
   "metadata": {
    "ExecuteTime": {
     "end_time": "2020-12-03T19:21:35.910797Z",
     "start_time": "2020-12-03T19:21:35.868793Z"
    }
   },
   "outputs": [],
   "source": [
    "#save_this_csv(Serology_batch_final, 'DRC_Serology_batch'+str(batch_number))\n",
    "save_this_csv_or_xl(batch5_with_replaced_serums, 'Mayo_Serology_batch'+str(5)+'_replacedSerums')"
   ]
  },
  {
   "cell_type": "code",
   "execution_count": null,
   "metadata": {},
   "outputs": [],
   "source": []
  }
 ],
 "metadata": {
  "kernelspec": {
   "display_name": "Python 3 (ipykernel)",
   "language": "python",
   "name": "python3"
  },
  "language_info": {
   "codemirror_mode": {
    "name": "ipython",
    "version": 3
   },
   "file_extension": ".py",
   "mimetype": "text/x-python",
   "name": "python",
   "nbconvert_exporter": "python",
   "pygments_lexer": "ipython3",
   "version": "3.9.12"
  },
  "nbTranslate": {
   "displayLangs": [
    "*"
   ],
   "hotkey": "alt-t",
   "langInMainMenu": true,
   "sourceLang": "en",
   "targetLang": "fr",
   "useGoogleTranslate": true
  },
  "toc": {
   "base_numbering": 1,
   "nav_menu": {},
   "number_sections": true,
   "sideBar": true,
   "skip_h1_title": false,
   "title_cell": "Table of Contents",
   "title_sidebar": "Contents",
   "toc_cell": true,
   "toc_position": {
    "height": "calc(100% - 180px)",
    "left": "10px",
    "top": "150px",
    "width": "286.962px"
   },
   "toc_section_display": true,
   "toc_window_display": true
  }
 },
 "nbformat": 4,
 "nbformat_minor": 4
}
