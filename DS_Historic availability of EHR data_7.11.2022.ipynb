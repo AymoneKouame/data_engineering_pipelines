{
 "cells": [
  {
   "cell_type": "markdown",
   "metadata": {},
   "source": [
    "# Set Up"
   ]
  },
  {
   "cell_type": "code",
   "execution_count": null,
   "metadata": {},
   "outputs": [],
   "source": [
    "import pandas as pd\n",
    "import numpy as np\n",
    "import statistics\n",
    "import datetime\n",
    "import matplotlib.pyplot as plt\n",
    "from matplotlib.ticker import PercentFormatter\n",
    "import os\n",
    "\n",
    "dataset = %env WORKSPACE_CDR"
   ]
  },
  {
   "cell_type": "code",
   "execution_count": null,
   "metadata": {},
   "outputs": [],
   "source": [
    "def pid_cumcount_by_vars(df, cum_count_by):\n",
    "    cummulative_counts_df = pd.DataFrame()\n",
    "    for d in df[cum_count_by[0]].unique():\n",
    "        print('\\n'+d)\n",
    "        DF = df[df[cum_count_by[0]] == d][['person_id']+cum_count_by]\\\n",
    "                .sort_values(cum_count_by, ascending = True)\n",
    "        DF['cumcount'] = (~DF['person_id'].duplicated()).cumsum()\n",
    "        cum_df = DF.drop('person_id',1).drop_duplicates().reset_index(drop = True)\n",
    "        cum_df[cum_count_by[0]] = d\n",
    "        cum_df = cum_df.sort_values(cum_count_by)\\\n",
    "                .groupby(cum_count_by, as_index = False).last() \n",
    "        \n",
    "        \n",
    "        print('  QC: N pids, min cumcount, max cumcount: '+\\\n",
    "              str(DF[\"person_id\"].nunique()), str(cum_df['cumcount'].min()), str(cum_df['cumcount'].max()))\n",
    "        \n",
    "        cummulative_counts_df = pd.concat([cummulative_counts_df, cum_df])\n",
    "        \n",
    "    cummulative_counts_df['cumcount'] = cummulative_counts_df['cumcount'].astype('int')\n",
    "\n",
    "    return cummulative_counts_df"
   ]
  },
  {
   "cell_type": "markdown",
   "metadata": {},
   "source": [
    "# Historic EHR data"
   ]
  },
  {
   "cell_type": "code",
   "execution_count": null,
   "metadata": {},
   "outputs": [],
   "source": [
    "print('Measurement', datetime.datetime.now())\n",
    "historic_meas = pd.read_gbq(f'''\n",
    "            SELECT\n",
    "               DISTINCT person_id, 'Measurement' as ehr_domain, MIN(EXTRACT(YEAR FROM measurement_date)) as year\n",
    "            FROM `{dataset}.measurement` AS m\n",
    "            LEFT JOIN `{dataset}.measurement_ext` AS mm ON m.measurement_id = mm.measurement_id\n",
    "            WHERE LOWER(mm.src_id) LIKE 'ehr site%'\n",
    "            GROUP BY 1,2\n",
    "            ''')\n",
    "\n",
    "print('Condition', datetime.datetime.now())\n",
    "historic_cond = pd.read_gbq(f'''\n",
    "\n",
    "            SELECT\n",
    "               DISTINCT person_id, 'Condition' as ehr_domain\n",
    "               , MIN(EXTRACT(YEAR FROM condition_start_date)) as year\n",
    "            FROM `{dataset}.condition_occurrence` AS m\n",
    "            LEFT JOIN `{dataset}.condition_occurrence_ext` AS mm ON m.condition_occurrence_id = mm.condition_occurrence_id\n",
    "            WHERE LOWER(mm.src_id) LIKE 'ehr site%'\n",
    "            GROUP BY 1,2\n",
    "            ''')\n",
    "\n",
    "print('Device', datetime.datetime.now())            \n",
    "historic_device = pd.read_gbq(f'''\n",
    "\n",
    "            SELECT\n",
    "               DISTINCT person_id, 'Device Exposure' as ehr_domain\n",
    "               , MIN(EXTRACT(YEAR FROM device_exposure_start_date)) as year\n",
    "            FROM `{dataset}.device_exposure` AS m\n",
    "            LEFT JOIN `{dataset}.device_exposure_ext` AS mm ON m.device_exposure_id = mm.device_exposure_id\n",
    "            WHERE LOWER(mm.src_id) LIKE 'ehr site%'\n",
    "            GROUP BY 1,2\n",
    "            ''')\n",
    "\n",
    "print('Drug', datetime.datetime.now())\n",
    "historic_drug = pd.read_gbq(f'''\n",
    "\n",
    "            SELECT\n",
    "               DISTINCT person_id, 'Drug Exposure' as ehr_domain\n",
    "               , MIN(EXTRACT(YEAR FROM drug_exposure_start_date)) as year\n",
    "            FROM `{dataset}.drug_exposure` AS m\n",
    "            LEFT JOIN `{dataset}.drug_exposure_ext` AS mm ON m.drug_exposure_id = mm.drug_exposure_id\n",
    "            WHERE LOWER(mm.src_id) LIKE 'ehr site%'\n",
    "            GROUP BY 1,2\n",
    "            ''')\n",
    "            \n",
    "print('Observation', datetime.datetime.now())\n",
    "historic_obs = pd.read_gbq(f'''\n",
    "\n",
    "            SELECT\n",
    "               DISTINCT person_id, 'Observation' as ehr_domain\n",
    "               , MIN(EXTRACT(YEAR FROM observation_date)) as year\n",
    "            FROM `{dataset}.observation` AS m\n",
    "            LEFT JOIN `{dataset}.observation_ext` AS mm ON m.observation_id = mm.observation_id\n",
    "            WHERE LOWER(mm.src_id) LIKE 'ehr site%'\n",
    "            GROUP BY 1,2\n",
    "            ''')\n",
    "\n",
    "print('Procedure', datetime.datetime.now())\n",
    "historic_proc = pd.read_gbq(f'''\n",
    "\n",
    "            SELECT\n",
    "               DISTINCT person_id, 'Procedure' as ehr_domain\n",
    "               , MIN(EXTRACT(YEAR FROM procedure_date)) as year\n",
    "            FROM `{dataset}.procedure_occurrence` AS m\n",
    "            LEFT JOIN `{dataset}.procedure_occurrence_ext` AS mm ON m.procedure_occurrence_id = mm.procedure_occurrence_id\n",
    "            WHERE LOWER(mm.src_id) LIKE 'ehr site%'\n",
    "            GROUP BY 1,2 ''')\n",
    "\n",
    "print('Visit', datetime.datetime.now())\n",
    "historic_visit = pd.read_gbq(f'''\n",
    "\n",
    "            SELECT\n",
    "               DISTINCT person_id, 'Visit' as ehr_domain\n",
    "               , MIN(EXTRACT(YEAR FROM visit_start_date)) as year\n",
    "            FROM `{dataset}.visit_occurrence` AS m\n",
    "            LEFT JOIN `{dataset}.visit_occurrence_ext` AS mm ON m.visit_occurrence_id = mm.visit_occurrence_id\n",
    "            WHERE LOWER(mm.src_id) LIKE 'ehr site%' \n",
    "            GROUP BY 1,2 ''')\n",
    "\n",
    "\n",
    "print('Overall', datetime.datetime.now())\n",
    "historic_overall = pd.read_gbq(f'''\n",
    "\n",
    "            SELECT\n",
    "               DISTINCT person_id, 'Overall' as ehr_domain\n",
    "               , MIN(EXTRACT(YEAR FROM visit_start_date)) as year\n",
    "            FROM `{dataset}.visit_occurrence` AS m\n",
    "            LEFT JOIN `{dataset}.visit_occurrence_ext` AS mm ON m.visit_occurrence_id = mm.visit_occurrence_id\n",
    "            WHERE LOWER(mm.src_id) LIKE 'ehr site%' \n",
    "            GROUP BY 1,2 ''')\n",
    "\n",
    "historic_ehr_raw = pd.concat([historic_meas, historic_cond\n",
    "                          , historic_device, historic_drug\n",
    "                          , historic_obs, historic_visit, historic_proc])\n"
   ]
  },
  {
   "cell_type": "code",
   "execution_count": null,
   "metadata": {
    "code_folding": []
   },
   "outputs": [],
   "source": [
    "historic_overall = historic_ehr_raw.copy()\n",
    "historic_overall['ehr_domain'] = 'Any EHR'\n",
    "historic_overall = historic_overall.drop_duplicates()#.groupby(['person_id','ehr_domain'], as_index= False).min()\n",
    "historic_ehr = pd.concat([historic_ehr_raw, historic_overall])\n",
    "historic_ehr.person_id.nunique()"
   ]
  },
  {
   "cell_type": "code",
   "execution_count": null,
   "metadata": {},
   "outputs": [],
   "source": [
    "historic_ehr.ehr_domain.unique()"
   ]
  },
  {
   "cell_type": "code",
   "execution_count": null,
   "metadata": {},
   "outputs": [],
   "source": [
    "# QC\n",
    "pd.read_gbq(f'''\n",
    "            SELECT\n",
    "               COUNT(DISTINCT person_id)\n",
    "            FROM `{dataset}.cb_search_person` \n",
    "            WHERE has_ehr_data = 1''')"
   ]
  },
  {
   "cell_type": "markdown",
   "metadata": {},
   "source": [
    "## Cummulative Count"
   ]
  },
  {
   "cell_type": "code",
   "execution_count": null,
   "metadata": {},
   "outputs": [],
   "source": [
    "#historic_ehr2 = historic_ehr.copy()\n",
    "historic_ehr_cum = pid_cumcount_by_vars(df  = historic_ehr.copy(), cum_count_by = ['ehr_domain','year'])\n",
    "historic_ehr_cum.head()"
   ]
  },
  {
   "cell_type": "markdown",
   "metadata": {},
   "source": [
    "## Cum Count Percentage"
   ]
  },
  {
   "cell_type": "code",
   "execution_count": null,
   "metadata": {},
   "outputs": [],
   "source": [
    "denominator = pd.read_gbq(f'''\n",
    "            SELECT\n",
    "               COUNT(DISTINCT person_id) as denom,\n",
    "            FROM `{dataset}.person` ''')\n",
    "denominator = int(denominator.denom[0])\n",
    "denominator"
   ]
  },
  {
   "cell_type": "code",
   "execution_count": null,
   "metadata": {},
   "outputs": [],
   "source": [
    "historic_ehr_cum['cum%'] = round((historic_ehr_cum['cumcount']/denominator)*100,2)\n",
    "historic_ehr_cum.head()"
   ]
  },
  {
   "cell_type": "code",
   "execution_count": null,
   "metadata": {},
   "outputs": [],
   "source": [
    "historic_ehr_cum.ehr_domain.unique()"
   ]
  },
  {
   "cell_type": "markdown",
   "metadata": {},
   "source": [
    "# Plot"
   ]
  },
  {
   "cell_type": "code",
   "execution_count": null,
   "metadata": {
    "scrolled": true
   },
   "outputs": [],
   "source": [
    "cut_off_date = 2010\n",
    "historic_ehr_cum_after2000 = historic_ehr_cum[historic_ehr_cum.year >= cut_off_date]\n",
    "historic_ehr_cum_before2000 = historic_ehr_cum[historic_ehr_cum.year < cut_off_date]\n",
    "historic_ehr_cum_1900to2000 = historic_ehr_cum[historic_ehr_cum.year.between(1900,2000)]"
   ]
  },
  {
   "cell_type": "code",
   "execution_count": null,
   "metadata": {},
   "outputs": [],
   "source": [
    "test = historic_ehr_cum_after2000.drop(['cumcount'],1)\\\n",
    "                     .pivot(index = ['year'], columns = ['ehr_domain']).fillna(0)#.reset_index()\n",
    "test.columns = [c[1] for c in test.columns]\n",
    "\n",
    "test"
   ]
  },
  {
   "cell_type": "code",
   "execution_count": null,
   "metadata": {},
   "outputs": [],
   "source": [
    "import statistics\n",
    "statistics.median(test.index)"
   ]
  },
  {
   "cell_type": "code",
   "execution_count": null,
   "metadata": {},
   "outputs": [],
   "source": [
    "def transform_and_plot(df, denominator = denominator, add_perc_text = 'yes', rotate_x = 0, save_plot = 'yes'):\n",
    "    \n",
    "    #Transform\n",
    "    df_plot = df.drop(['cumcount'],1)\\\n",
    "                    .pivot(index = ['year'], columns = ['ehr_domain']).fillna(0)#.reset_index()\n",
    "    df_plot.columns = [c[1] for c in df_plot.columns]\n",
    "    \n",
    "    current_cdr = dataset.split('prod.')[1]\n",
    "    fig_caption = f'''This plot represents EHR data availability in the current CDR ({current_cdr}). \n",
    "    The denominator for the percentages is the Total Number of Participants in the current CDR, N = {'{:,}'.format(denominator)}.\n",
    "    For better visibility, the plot only displays EHR data growth starting in 2010. '''\n",
    "    \n",
    "    #plot\n",
    "    plt.figure(figsize=(16,8), tight_layout=True)\n",
    "    plt.plot(df_plot, 'o-', linewidth=2)\n",
    "    \n",
    "    ##customization\n",
    "    #plt.xticks([2020, 2021, 2022])\n",
    "    plt.xticks(df_plot.index, size = 13, rotation = rotate_x)\n",
    "    plt.yticks(range(int(df['cum%'].min()), int(df['cum%'].max()), 5),size = 13)\n",
    "    plt.gca().yaxis.set_major_formatter(PercentFormatter(decimals=0))\n",
    "    plt.xlabel('Year', size = 15)\n",
    "    plt.ylabel('% of Participants with EHR data', size = 15)\n",
    "    plt.title('Historical Availability of EHR Records in Current CDR', size = 16)\n",
    "\n",
    "    plt.legend(title='EHR Domains', title_fontsize = 14, labels=df_plot.columns, fontsize = 14)\n",
    "    plt.text(statistics.median(test.index), -16\n",
    "         , fig_caption, verticalalignment='bottom',style='italic'\n",
    "         , horizontalalignment='center', color = 'black', size = 12)\n",
    "\n",
    "    \n",
    "    if add_perc_text.lower() == 'yes':\n",
    "        min_year = df_plot.index.min()\n",
    "        max_year = df_plot.index.max()\n",
    "\n",
    "        for d in ['Any EHR']:\n",
    "            plt.text(min_year+0.5, df_plot[d][min_year]+2\n",
    "                     , d+' ('+str(int(df_plot[d][min_year]))+'%)',verticalalignment='center'\n",
    "                     ,horizontalalignment='right', color = 'black', size = 12, rotation = 13)\n",
    "            plt.text(max_year-0.0001, df_plot[d][max_year]+1\n",
    "                     , d+' ('+str(int(df_plot[d][max_year]))+'%)',verticalalignment='bottom'\n",
    "                     ,horizontalalignment='center', color = 'black', size = 12)\n",
    "\n",
    "        for d in ['Condition', 'Device Exposure', 'Drug Exposure'#,'Measurement'\n",
    "                  ,'Observation'#,'Procedure'\n",
    "                  ,'Visit']:\n",
    "            plt.text(min_year-0.1, df_plot[d][min_year]-0.6\n",
    "                     , str(int(df_plot[d][min_year]))+'%',verticalalignment='center'\n",
    "                     ,horizontalalignment='right', color = 'black', size = 12, rotation = 13)\n",
    "\n",
    "        for d in ['Condition', 'Device Exposure', 'Drug Exposure'#,'Measurement'\n",
    "                  ,'Observation'#,'Procedure','Visit'\n",
    "                 ]:\n",
    "\n",
    "            plt.text(max_year+0.2, df_plot[d][max_year]-1\n",
    "                     , str(int(df_plot[d][max_year]))+'%',verticalalignment='bottom'\n",
    "                     ,horizontalalignment='center', color = 'black', size = 12)\n",
    "\n",
    "    if save_plot.lower() == 'yes':\n",
    "        plt.savefig('HistoricEHR_'+str(current_cdr)+\"_\"+str(datetime.datetime.now().date())+'.jpeg')\n",
    "    plt.show()"
   ]
  },
  {
   "cell_type": "code",
   "execution_count": null,
   "metadata": {},
   "outputs": [],
   "source": [
    "transform_and_plot(df = historic_ehr_cum_after2000)"
   ]
  },
  {
   "cell_type": "markdown",
   "metadata": {},
   "source": [
    "----------------------------"
   ]
  },
  {
   "cell_type": "code",
   "execution_count": null,
   "metadata": {},
   "outputs": [],
   "source": [
    "transform_and_plot(df = historic_ehr_cum_before2000, add_perc_text='no', save_plot = 'no', rotate_x = 90)"
   ]
  },
  {
   "cell_type": "code",
   "execution_count": null,
   "metadata": {},
   "outputs": [],
   "source": [
    "transform_and_plot(df = historic_ehr_cum_1900to2000, add_perc_text='no', save_plot = 'no', rotate_x = 90)"
   ]
  },
  {
   "cell_type": "markdown",
   "metadata": {},
   "source": [
    "-----------"
   ]
  },
  {
   "cell_type": "code",
   "execution_count": null,
   "metadata": {},
   "outputs": [],
   "source": [
    "from google.cloud import bigquery\n",
    "\n",
    "def get_query_cost(query:str)->dict:\n",
    "    \"\"\"Returns a dictionary of the queried data size [GB] and dollar cost of the query [$].\n",
    "    \n",
    "    query:str - a properly formatted SQL query.\n",
    "    \n",
    "    This function uses the google.cloud biqquery method to estimate the query cost without actually executing the query.\n",
    "    Because the query doesn't execute, it does not cost money to receive an estimate.\n",
    "    \"\"\"\n",
    "    config = bigquery.QueryJobConfig(dry_run=True, use_query_cache=False)\n",
    "    client = bigquery.Client(default_query_job_config=config)\n",
    "    query_job = client.query(query)  # API request\n",
    "    bytes_processed = query_job.total_bytes_processed\n",
    "    info_dict = {}\n",
    "    info_dict[\"bytes_processed_GB\"] = round(bytes_processed/1024**3,3)\n",
    "    info_dict[\"cost_dollars\"] = round(bytes_processed/1024**4*5,3)\n",
    "    return info_dict\n",
    "\n"
   ]
  },
  {
   "cell_type": "code",
   "execution_count": null,
   "metadata": {},
   "outputs": [],
   "source": [
    "get_query_cost(query)"
   ]
  }
 ],
 "metadata": {
  "kernelspec": {
   "display_name": "Python 3 (ipykernel)",
   "language": "python",
   "name": "python3"
  },
  "language_info": {
   "codemirror_mode": {
    "name": "ipython",
    "version": 3
   },
   "file_extension": ".py",
   "mimetype": "text/x-python",
   "name": "python",
   "nbconvert_exporter": "python",
   "pygments_lexer": "ipython3",
   "version": "3.9.12"
  },
  "toc": {
   "base_numbering": 1,
   "nav_menu": {},
   "number_sections": true,
   "sideBar": true,
   "skip_h1_title": false,
   "title_cell": "Table of Contents",
   "title_sidebar": "Contents",
   "toc_cell": false,
   "toc_position": {},
   "toc_section_display": true,
   "toc_window_display": true
  }
 },
 "nbformat": 4,
 "nbformat_minor": 2
}
