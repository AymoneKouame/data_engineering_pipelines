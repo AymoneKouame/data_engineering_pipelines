{
 "cells": [
  {
   "cell_type": "markdown",
   "metadata": {},
   "source": [
    "DSC Ticket: https://precisionmedicineinitiative.atlassian.net/browse/DSC-2?focusedCommentId=64650&page=com.atlassian.jira.plugin.system.issuetabpanels%3Acomment-tabpanel#comment-64650\n",
    "\n",
    "The requirements in the [DRC COVID Serology Plating Strategy](https://docs.google.com/document/d/1SWJDZtbrJH5_48NyTx3dE2T8oLr4OUZA5UgoQDNI664/edit?pli=1#) document will be referenced throughput the notebook."
   ]
  },
  {
   "cell_type": "markdown",
   "metadata": {},
   "source": [
    "# SET UP"
   ]
  },
  {
   "cell_type": "code",
   "execution_count": null,
   "metadata": {
    "ExecuteTime": {
     "end_time": "2020-08-03T15:22:08.587696Z",
     "start_time": "2020-08-03T15:20:51.741458Z"
    }
   },
   "outputs": [],
   "source": [
    "# %run C:\\Users\\kouamea\\CONNECTIONS\\setup.ipynb\n",
    "%run ../CONNECTIONS/setup.ipynb"
   ]
  },
  {
   "cell_type": "code",
   "execution_count": null,
   "metadata": {
    "ExecuteTime": {
     "end_time": "2020-07-16T14:44:44.004342Z",
     "start_time": "2020-07-16T14:44:43.995341Z"
    }
   },
   "outputs": [],
   "source": [
    "# To save files with today's date\n",
    "today = str(datetime.today().strftime('%Y-%m-%d'))\n",
    "time = str(datetime.now().time())[:8]\n",
    "now = (today+'_'+time).replace(':','.')\n",
    "now"
   ]
  },
  {
   "cell_type": "markdown",
   "metadata": {},
   "source": [
    "## Load needed datasets"
   ]
  },
  {
   "cell_type": "code",
   "execution_count": null,
   "metadata": {
    "ExecuteTime": {
     "end_time": "2020-08-03T15:23:12.748300Z",
     "start_time": "2020-08-03T15:23:12.741303Z"
    }
   },
   "outputs": [],
   "source": [
    "import glob\n",
    "\n",
    "location = '../DATA/DSC2'\n",
    "fileset = [file for file in glob.glob(location + \"**/***.*\", recursive=True)]\n",
    "n = 0\n",
    "for file in fileset:\n",
    "    #print()\n",
    "    print(n, file)\n",
    "    n+=1"
   ]
  },
  {
   "cell_type": "code",
   "execution_count": null,
   "metadata": {
    "ExecuteTime": {
     "end_time": "2020-06-11T04:51:58.238466Z",
     "start_time": "2020-06-11T04:51:58.198464Z"
    }
   },
   "outputs": [],
   "source": [
    "serum_samples1 = pd.read_csv('../DATA/DSC2/serum_samples_list_2020-05-06 with locations.csv')\n",
    "\n",
    "## Removing AIAN and withdrawn pids from original list\n",
    "## keeping only columns we need\n",
    "serum_samples_check = serum_samples1[(serum_samples1.is_AIAN_participant != 1) & (serum_samples1.withdrawal_status!=2)]\n",
    "serum_samples_check = serum_samples_check[['biobank_id','Description','Sequence', 'Rack', 'Position in Rack']].drop_duplicates()\n",
    "\n",
    "serum_samples_check.head(5)"
   ]
  },
  {
   "cell_type": "markdown",
   "metadata": {},
   "source": [
    "### Load Biobank's File with Sequencing information"
   ]
  },
  {
   "cell_type": "markdown",
   "metadata": {},
   "source": [
    "### Load Serology Master File, Negative Control Master File, Positive Control List and Previous Batch (if applicable)"
   ]
  },
  {
   "cell_type": "code",
   "execution_count": null,
   "metadata": {
    "ExecuteTime": {
     "end_time": "2020-07-02T15:07:35.036672Z",
     "start_time": "2020-07-02T15:07:35.030670Z"
    }
   },
   "outputs": [],
   "source": [
    "master_list_filename = '../DATA\\\\DSC2\\\\Antobodies_tests_Master_List_2020-05-21.csv'\n",
    "Negcontrols_filename = '../DATA\\DSC2\\COVID_controls_2020-06-15_14.14.52.csv'\n",
    "#PosControls_filename = '../DATA\\DSC2\\COVID_controls_2020-06-15_14.14.52.csv'\n",
    "# prevBatch_negControls = fileset[1]\n",
    "# previous_batch_filename = fileset[13]\n",
    "available_serum_filename = '../DATA\\DSC2\\11.1.2019-3.18.2020 Available Serum with bids.csv'\n",
    "avalaible_negative_serum_filename = '../DATA\\DSC2\\11.1.2018-3.18.2019 Negative Serum with bids.csv'\n",
    "\n",
    "master_list_filename, Negcontrols_filename#, PosControls_filename, prevBatch_negControls, previous_batch_filename,"
   ]
  },
  {
   "cell_type": "code",
   "execution_count": null,
   "metadata": {
    "ExecuteTime": {
     "end_time": "2020-07-02T15:09:37.257866Z",
     "start_time": "2020-07-02T15:09:37.026852Z"
    }
   },
   "outputs": [],
   "source": [
    "# load master sample list\n",
    "master_list = pd.read_csv(master_list_filename).iloc[:,1:]\n",
    "master_list.head(3)"
   ]
  },
  {
   "cell_type": "code",
   "execution_count": null,
   "metadata": {
    "ExecuteTime": {
     "end_time": "2020-07-02T15:41:43.411622Z",
     "start_time": "2020-07-02T15:41:43.374621Z"
    }
   },
   "outputs": [],
   "source": [
    "# load negative controls list\n",
    "COVID_controls = pd.read_csv(Negcontrols_filename)\n",
    "COVID_controls.head(3)"
   ]
  },
  {
   "cell_type": "code",
   "execution_count": null,
   "metadata": {
    "ExecuteTime": {
     "end_time": "2020-07-02T15:41:53.231319Z",
     "start_time": "2020-07-02T15:41:53.223321Z"
    }
   },
   "outputs": [],
   "source": [
    "# load positive controls list\n",
    "positive_controls = pd.read_csv(PosControls_filename)\n",
    "positive_controls.head(5)"
   ]
  },
  {
   "cell_type": "code",
   "execution_count": null,
   "metadata": {
    "ExecuteTime": {
     "end_time": "2020-07-01T19:06:03.928812Z",
     "start_time": "2020-07-01T19:06:03.904811Z"
    }
   },
   "outputs": [],
   "source": [
    "# load available serums and available neg serums - both received from biobank\n",
    "available_serum = pd.read_csv(available_serum_filename)\n",
    "available_negative_serum = pd.read_csv(avalaible_negative_serum_filename)"
   ]
  },
  {
   "cell_type": "markdown",
   "metadata": {},
   "source": [
    "----------------------------------------"
   ]
  },
  {
   "cell_type": "code",
   "execution_count": null,
   "metadata": {
    "ExecuteTime": {
     "end_time": "2020-06-11T04:52:05.181988Z",
     "start_time": "2020-06-11T04:52:05.175986Z"
    }
   },
   "outputs": [],
   "source": [
    "# load pervious batch's negatove control list\n",
    "prevBatch_negControlsbids = pd.read_csv(prevBatch_negControls)[['biobank_id']]"
   ]
  },
  {
   "cell_type": "code",
   "execution_count": null,
   "metadata": {
    "ExecuteTime": {
     "end_time": "2020-06-11T04:52:05.925186Z",
     "start_time": "2020-06-11T04:52:05.916185Z"
    }
   },
   "outputs": [],
   "source": [
    "# Load Previous batch, if exists\n",
    "previous_batch_bids = pd.read_csv(previous_batch_filename)[['biobank_id']]\n",
    "previous_batch_bids.head()"
   ]
  },
  {
   "cell_type": "markdown",
   "metadata": {},
   "source": [
    "## Functions to perform each step of the plating strategy"
   ]
  },
  {
   "cell_type": "markdown",
   "metadata": {},
   "source": [
    "*'Serum specimens will be sorted in descending order of collection dates. Following this order, the first batch of specimens will consist of approximately 5,000 specimens optimized to 68 well plating.*\n",
    "\n",
    "*The number of specimens sent for testing in subsequent batches will depend on when the last positive specimen is found. The batches will consist of all specimens collected in the week prior to the last positive specimen until there are no positives.*\n",
    "\n",
    "*The samples will be randomized within the state in which they were collected to reduce geographic bias in each batch.  Plate location will also be optimized for biobank pull and not randomized by freezer location.'*"
   ]
  },
  {
   "cell_type": "markdown",
   "metadata": {},
   "source": [
    "### `get_plating_numbers`: Function to calculate plating numbers we need"
   ]
  },
  {
   "cell_type": "code",
   "execution_count": null,
   "metadata": {
    "ExecuteTime": {
     "end_time": "2020-06-10T21:52:42.467705Z",
     "start_time": "2020-06-10T21:52:42.462709Z"
    }
   },
   "outputs": [],
   "source": [
    "# import math\n",
    "# #Fixed variables (pr requirements/biobank)\n",
    "\n",
    "# raw_batch_size = 5060\n",
    "# NegControls_perBatch = 150 #unrepeated\n",
    "# raw_nwells = 68 #including all positive and negative controls\n",
    "# PosControls_perWell = 1\n",
    "\n",
    "# def get_plating_numbers():\n",
    "\n",
    "#     n_plates_needed = NegControls_perBatch/2\n",
    "#     negControls_perWell = (NegControls_perBatch/n_plates_needed)*2\n",
    "    \n",
    "#     #get the next whole number of plate needed based on inputs above\n",
    "#     #n_plates_needed = math.ceil((raw_batch_size + totalNegControls_perBatch)/nwells)\n",
    "\n",
    "#     #therefore, actual batch size needed \n",
    "#     batch_size = (raw_nwells - negControls_perWell - PosControls_perWell)*n_plates_needed\n",
    "     \n",
    "#     print(colored('We need: batch_size = '+str(batch_size) + ', number of plates = ' +str(n_plates_needed) + ' and number of wells (excluding the neg and pos controls) = '+str((raw_nwells - negControls_perWell - PosControls_perWell)), 'magenta'))\n",
    "#     print(colored('n negative controls per well = '+str(negControls_perWell) + ', n positive controls per well = ' +str(PosControls_perWell), 'magenta'))\n",
    "    "
   ]
  },
  {
   "cell_type": "markdown",
   "metadata": {},
   "source": [
    "Actual number per batch is 5,060 samples from 2020 (5,060 samples + 300 neg = 5,360 / (68-1 pos each= 67 per plate) = 80 plates per batch of 5,000 in the first two batches for a total 10,000 first analysis will be done."
   ]
  },
  {
   "cell_type": "markdown",
   "metadata": {
    "ExecuteTime": {
     "end_time": "2020-06-11T04:53:33.359148Z",
     "start_time": "2020-06-11T04:53:33.354143Z"
    }
   },
   "source": [
    "### 6/11/2020_ New Plating numbers \n",
    "-Andrea wants \n",
    "- 5060 samples\n",
    "- 150x2 neg controls per batch (she says seven distribution does not matter,more than getting at least 5k samples)\n",
    "- 40 positive controls (1 per well)\n",
    "- 68 wells total\n",
    "- (5060+300)/67 wells = 80plates, then add 1 positive control"
   ]
  },
  {
   "cell_type": "markdown",
   "metadata": {},
   "source": [
    "### `pull_batch()`: function to pull batch of desired size from master sample list"
   ]
  },
  {
   "cell_type": "markdown",
   "metadata": {},
   "source": [
    "*'Serum specimens will be sorted in descending order of collection dates. Following this order, the first batch of specimens will consist of approximately 5,000 specimens ...'*"
   ]
  },
  {
   "cell_type": "code",
   "execution_count": null,
   "metadata": {},
   "outputs": [],
   "source": [
    "def pull_batch(batch_size, previous_batch = None):  \n",
    "    '''Sorts sample master file from most recent to oldest and pulls batch of first n (n = desired batch size).\n",
    "       When applicable, excludes list of biobank_ids in the previous batch from new batch\n",
    "       '''\n",
    "    \n",
    "    DF = master_list[['participant_id','biobank_id','DateBloodSampleCollected', 'DateBloodSampleReceived', 'state']].drop_duplicates()\n",
    "    \n",
    "    # If there is a previous batch,\n",
    "    # keep only pids that are in the master list and not in the previous batch\n",
    "    # Else, proceed\n",
    "    if previous_batch.empty:\n",
    "        DF = DF\n",
    "        \n",
    "    else:\n",
    "        keep = pd.DataFrame(set(master_list.biobank_id) - set(previous_batch.biobank_id)).rename(columns = {0:'biobank_id'}) \n",
    "        DF = pd.merge(DF, keep, how = 'inner')\n",
    "    \n",
    "    # Sort Date of collection from most recent to oldest in the master file\n",
    "    # then select the first n(batch size) rows\n",
    "    new_batch = DF.sort_values('DateBloodSampleCollected', ascending= False).iloc[:batch_size,:]\n",
    "    \n",
    "    #new_batch = DF1.sample(n = batch_size, random_state= rand_state)\n",
    "    #new_batch = pd.merge(new_batch, master_list, on = ['participant_id','biobank_id','DateBloodSampleCollected', 'DateBloodSampleReceived'],\n",
    "                         #how = 'left')\n",
    "    print(colored('Batch #' +str(b_number)+' of ' +str(new_batch.biobank_id.nunique()) + ' participants pulled from Master List, sorted in descending order of collection dates, is ready.', 'blue'))\n",
    "    return new_batch"
   ]
  },
  {
   "cell_type": "code",
   "execution_count": null,
   "metadata": {
    "ExecuteTime": {
     "end_time": "2020-06-11T16:11:37.440563Z",
     "start_time": "2020-06-11T16:11:37.430562Z"
    }
   },
   "outputs": [],
   "source": [
    "# def pull_batch(batch_size, previous_batch = None):  \n",
    "#     '''Sorts sample master file from most recent to oldest and pulls batch of first n (n = desired batch size).\n",
    "#        When applicable, excludes list of biobank_ids in the previous batch from new batch\n",
    "#        '''\n",
    "    \n",
    "#     DF = master_list[['participant_id','biobank_id','DateBloodSampleCollected', 'DateBloodSampleReceived', 'state']].drop_duplicates()\n",
    "    \n",
    "# #     # If there is a previous batch,\n",
    "# #     # keep only pids that are in the master list and not in the previous batch\n",
    "# #     # Else, proceed\n",
    "# #     if previous_batch:\n",
    "# #         if not previous_batch.empty:\n",
    "# #             keep = pd.DataFrame(set(master_list.biobank_id) - set(previous_batch.biobank_id)).rename(columns = {0:'biobank_id'}) \n",
    "# #             DF = pd.merge(DF, keep, how = 'inner')\n",
    "    \n",
    "# #     else:\n",
    "# #         DF = DF\n",
    "    \n",
    "#     # Sort Date of collection from most recent to oldest in the master file\n",
    "#     # then select the first n(batch size) rows\n",
    "#     new_batch = DF.sort_values('DateBloodSampleCollected', ascending= False).iloc[:batch_size,:]\n",
    "    \n",
    "#     #new_batch = DF1.sample(n = batch_size, random_state= rand_state)\n",
    "#     #new_batch = pd.merge(new_batch, master_list, on = ['participant_id','biobank_id','DateBloodSampleCollected', 'DateBloodSampleReceived'],\n",
    "#                          #how = 'left')\n",
    "#     print(colored('Batch #' +str(b_number)+' of ' +str(new_batch.biobank_id.nunique()) + ' participants pulled from Master List, sorted in descending order of collection dates, is ready.', 'blue'))\n",
    "#     return new_batch"
   ]
  },
  {
   "cell_type": "code",
   "execution_count": null,
   "metadata": {
    "ExecuteTime": {
     "end_time": "2020-06-11T16:12:19.988732Z",
     "start_time": "2020-06-11T16:12:19.975730Z"
    }
   },
   "outputs": [],
   "source": [
    "def pull_batch2(batch_size, previous_batch):  \n",
    "    '''Sorts sample master file from most recent to oldest and pulls batch of first n (n = desired batch size).\n",
    "       When applicable, excludes list of biobank_ids in the previous batch from new batch\n",
    "       '''\n",
    "    \n",
    "    DF = master_list[['participant_id','biobank_id','DateBloodSampleCollected', 'DateBloodSampleReceived', 'state']].drop_duplicates()\n",
    "    \n",
    "    # If there is a previous batch,\n",
    "    # keep only pids that are in the master list and not in the previous batch\n",
    "    keep = pd.DataFrame(set(master_list.biobank_id) - set(previous_batch.biobank_id)).rename(columns = {0:'biobank_id'}) \n",
    "    DF = pd.merge(DF, keep, how = 'inner')\n",
    "    \n",
    "    # Sort Date of collection from most recent to oldest in the master file\n",
    "    # then select the first n(batch size) rows\n",
    "    new_batch = DF.sort_values('DateBloodSampleCollected', ascending= False).iloc[:batch_size,:]\n",
    "    \n",
    "    #new_batch = DF1.sample(n = batch_size, random_state= rand_state)\n",
    "    #new_batch = pd.merge(new_batch, master_list, on = ['participant_id','biobank_id','DateBloodSampleCollected', 'DateBloodSampleReceived'],\n",
    "                         #how = 'left')\n",
    "    print(colored('Batch #' +str(b_number)+' of ' +str(new_batch.biobank_id.nunique()) + ' participants pulled from Master List, sorted in descending order of collection dates, is ready.', 'blue'))\n",
    "    return new_batch"
   ]
  },
  {
   "cell_type": "markdown",
   "metadata": {},
   "source": [
    "### `randomize_and_locate()`: Function to randomize entire batch by State and add location columns to batch"
   ]
  },
  {
   "cell_type": "markdown",
   "metadata": {},
   "source": [
    "*'The samples will be randomized based within the state in which they were collected to reduce geographic bias in each batch.'*"
   ]
  },
  {
   "cell_type": "code",
   "execution_count": null,
   "metadata": {
    "ExecuteTime": {
     "end_time": "2020-06-11T06:47:40.684268Z",
     "start_time": "2020-06-11T06:47:40.680268Z"
    }
   },
   "outputs": [],
   "source": [
    "def randomize_and_locate(batch_df, batch_size, rand_state):\n",
    "    '''Function to add bay,freezer and rack location columns to pulled batch and randomize by state entire batch \n",
    "        to get it ready for optimization'''\n",
    "    \n",
    "    # randomize by state = rnadomly shuffle states\n",
    "    batch_n_state = batch_df[['state']].sample(n = batch_size, random_state = rand_state)\n",
    "    batch_n_randomState = batch_df.sample(n = batch_size, random_state= rand_state) \n",
    "    \n",
    "#     # Add back participant_ids to the randomized states\n",
    "#     batch_n_randomState = pd.merge(batch_n, batch_n_state)\n",
    "\n",
    "    # Add Location/Sequencing Columns to the batch\n",
    "    batch_n_location = pd.merge(serum_samples_check, \n",
    "                           batch_n_randomState[['biobank_id','participant_id']].drop_duplicates(), 'right')\n",
    "    \n",
    "    print('Shape check:' + str(batch_n_location.shape))\n",
    " \n",
    "    return batch_n_location"
   ]
  },
  {
   "cell_type": "markdown",
   "metadata": {},
   "source": [
    "### `optimize_sequence()`: Function to optimize the Sequence and Group participants by plates of n size\n",
    "\n",
    "*'Plate location will also be optimized for biobank pull and not randomized by freezer location.'*"
   ]
  },
  {
   "cell_type": "code",
   "execution_count": null,
   "metadata": {
    "ExecuteTime": {
     "end_time": "2020-06-11T08:19:05.126287Z",
     "start_time": "2020-06-11T08:19:05.120290Z"
    }
   },
   "outputs": [],
   "source": [
    "def optimize_sequence(n_wells, df):  #df = = samples_groups\n",
    "    '''Function to Create Optimized Sequence \n",
    "       Groups participants in plates of n_wells participants\n",
    "       n_wells is the number of wells/the number of people per plate '''\n",
    "\n",
    "    # create empty 'plate' column\n",
    "    df['plate'] = int()\n",
    "    \n",
    "    # SEQUENCE OPTIMIZATION:\n",
    "     ## Order the batch by Description (Bay, Freezer), Sequence and Rack (optimum sequence order provided by biobank)\n",
    "     ## Then assign plate numbers to each participant, starting with plate #1\n",
    "     ## with n_wells participants per plate \n",
    "    n = 0\n",
    "    plate_number = 0\n",
    "\n",
    "    for pid in df.sort_values(['Description', 'Sequence','Rack']).biobank_id: \n",
    "        pids_per_well = df.sort_values(['Description', 'Sequence', 'Rack'])[['biobank_id']][n:n_wells+n]\n",
    "        ind = pids_per_well.index.values\n",
    "        plate_number += 1\n",
    "\n",
    "        for i in ind:\n",
    "            df.loc[i, 'plate'] = plate_number\n",
    "\n",
    "        n += n_wells\n",
    "        \n",
    "    display(df[['participant_id','plate']].rename(columns = {'participant_id':'pids_per_plate'}).groupby('plate').count())\n",
    "    print(colored('Done! We have ' +str(n_wells)+' wells per plate, with ' +str(df.plate.nunique()) + ' plates in total. The last few plates may have different numbers', 'blue'))\n",
    "    \n",
    "    return  df"
   ]
  },
  {
   "cell_type": "markdown",
   "metadata": {},
   "source": [
    "### `batch_negative_controls()`: Function to add negative controls, including repeated pids \n",
    "*'2019 matched to date range of the batch with geographic location matching as well'*"
   ]
  },
  {
   "cell_type": "code",
   "execution_count": null,
   "metadata": {
    "ExecuteTime": {
     "end_time": "2020-06-11T09:10:51.874552Z",
     "start_time": "2020-06-11T09:10:51.865550Z"
    }
   },
   "outputs": [],
   "source": [
    "## 6/11/2020\n",
    "\n",
    "##FOR NOW I WILL PUT hard numbers for the number of neg controls per plate, because the new numbers are not even\n",
    "## I will come up with an automated way to generate the numbers below later\n",
    "\n",
    "def batch_negative_controls(ramdomized_sample_df, batch_df, negControls_master, unrepeated_negControls, \n",
    "                          stop1, number_plates, rand_state):\n",
    "    '''Select batch negative controls, then appends a repeated list of pids to get a total = number of plates\n",
    "        Add columns of location, plates and negative controls to the batch_controls'''\n",
    "        \n",
    "     #match negative controls on state\n",
    "    neg_controls_df= pd.merge(negControls_master[['biobank_id', 'participant_id','state']].drop_duplicates(), \n",
    "                                batch_df[['state']].drop_duplicates()).drop('state', axis = 1).drop_duplicates()#.reset_index()\n",
    "\n",
    "    ## randomly select the batch negative controls\n",
    "    batch_neg_controls_df = neg_controls_df.sample(n = int(unrepeated_negControls), \n",
    "                                                random_state = rand_state).reset_index().drop('index', axis = 1)\n",
    " \n",
    "    ### Assign negatove controls to plates\n",
    "    batch_neg_controls_df['plate']= int()\n",
    "    \n",
    "    batch_controls = batch_neg_controls_df.sort_values('biobank_id', ascending = True)\n",
    "    batch_controls['plate'][:stop1] = range(1,stop1+1)\n",
    "    batch_controls['plate'][stop1:stop1*2] = range(1,stop1+1)\n",
    "    batch_controls['plate'][stop1*2:]= range(stop1+1,number_plates+1)\n",
    "\n",
    "    repeat = batch_neg_controls_df.iloc[::-1].dropna()#.reset_index().drop('index', axis = 1)\n",
    "    repeat['plate'][:stop1]= range(1,stop1+1)\n",
    "    repeat['plate'][stop1:stop1*2]= range(1,stop1+1)\n",
    "    repeat['plate'][stop1*2:]= range(stop1+1,number_plates+1)\n",
    "    \n",
    "    batch_controls_repeated = batch_controls.append(repeat)\n",
    "      \n",
    "    batch_controls_repeated['negative control'] = 'Yes'\n",
    "    batch_controls_repeated['positive control'] = 'No'\n",
    "    batch_controls_repeated['location'] = 'No'\n",
    "    \n",
    "    return batch_controls_repeated"
   ]
  },
  {
   "cell_type": "code",
   "execution_count": null,
   "metadata": {
    "ExecuteTime": {
     "end_time": "2020-06-11T06:13:33.726623Z",
     "start_time": "2020-06-11T06:13:33.719618Z"
    }
   },
   "outputs": [],
   "source": [
    "# def add_negative_controls(ramdomized_sample_df, batch_df, negControls_master, unrepeated_negControls, \n",
    "#                           number_plates, rand_state):\n",
    "#     ''' This funtions select batch negative controls, then appends a repeated list of pids \n",
    "#         Then merges with the samples from 2020. This will be th einput for th eoptimization function'''\n",
    "    \n",
    "# #     df['plate']= int()\n",
    "# #     batch_controls = df.sort_values('biobank_id', ascending = True)\n",
    "# #     batch_controls['plate'][:number_plates] = range(1,number_plates+1)\n",
    "# #     batch_controls['plate'][number_plates:]= range(1,number_plates+1)\n",
    "\n",
    "# #     repeat = batch_controls.iloc[::-1].dropna()#.reset_index().drop('index', axis = 1)\n",
    "# #     repeat['plate'][:number_plates]= range(1,number_plates+1)\n",
    "# #     repeat['plate'][number_plates:]= range(1, number_plates+1)\n",
    " \n",
    "# #     batch_controls_repeated = batch_controls.append(repeat)\n",
    "      \n",
    "# #     batch_controls_repeated['negative control'] = 'Yes'\n",
    "# #     batch_controls_repeated['positive control'] = 'No'\n",
    "# #     batch_controls_repeated['location'] = 'No'\n",
    "\n",
    "#     #checks\n",
    "#     print('unique pids:' + str(sample_and_negControls.biobank_id.nunique()))\n",
    "#     print('shape:' + str(sample_and_negControls.shape))\n",
    "    \n",
    "#     return sample_and_negControls"
   ]
  },
  {
   "cell_type": "code",
   "execution_count": null,
   "metadata": {
    "ExecuteTime": {
     "end_time": "2020-06-11T06:46:53.390281Z",
     "start_time": "2020-06-11T06:46:53.385281Z"
    }
   },
   "outputs": [],
   "source": [
    "300/80\n",
    "#combination of negative controls per plate that give 300 total (with repeats)\n",
    "3*60 + 30*4,\n",
    "\n",
    "3*79 + 63*1, 64*79 + 4*1\n",
    "\n",
    "3*78 + 33*2, 64*78 + 34*2\n",
    "#(63+4)*70 + "
   ]
  },
  {
   "cell_type": "markdown",
   "metadata": {},
   "source": [
    "### `batch_positive_controls()`:  Function to add positive controls \n",
    "and return final deliverable\n",
    "\n",
    "\n",
    "'*Inclusion of 1 positive control per plate taken from Vanderbilt contributed samples that have prior titer quantification in duplicate\n",
    "45 samples available from Vanderbilt, need 40 per batch, will choose randomly across low/ med/ high and use same 40 in both batches so each will be run 4 times using total volume 1600 uL*'\n",
    "\n"
   ]
  },
  {
   "cell_type": "code",
   "execution_count": null,
   "metadata": {
    "ExecuteTime": {
     "end_time": "2020-06-11T04:57:10.097869Z",
     "start_time": "2020-06-11T04:57:10.093868Z"
    }
   },
   "outputs": [],
   "source": [
    "38+37"
   ]
  },
  {
   "cell_type": "code",
   "execution_count": null,
   "metadata": {
    "ExecuteTime": {
     "end_time": "2020-06-11T09:40:06.018292Z",
     "start_time": "2020-06-11T09:40:06.005289Z"
    }
   },
   "outputs": [],
   "source": [
    "def batch_positive_controls(pos_controls_df, numb_plates, rand_state):\n",
    "    '''Function to get positive controls '''\n",
    "\n",
    "    #df = optimized_seq['positive control'] = 'No'\n",
    "    \n",
    "    # Determine how many samples we need\n",
    "    unique_samples = math.ceil(numb_plates/2)\n",
    "    #repeat = numb_plates - unique_samples   #total = number of plates - because we need one per place\n",
    "    \n",
    "    # choose n samples from positive controls, randomly from high/med/low\n",
    "    pos_controls = pos_controls_df[['Sample ID', 'Positive Classificaiton', 'serology_id']].drop_duplicates()\n",
    "     \n",
    "    pos_controls = pos_controls.sample(n = int(unique_samples), random_state= rand_state)\n",
    "    pos_controls = pd.DataFrame(pos_controls.append(pos_controls))\n",
    "    display(pos_controls.shape)\n",
    "    \n",
    "    ## QC - chheck volume\n",
    "    check = pd.merge(pos_controls, pos_controls_df[['Sample ID', 'Total vol (ml)']].drop_duplicates())\n",
    "    print('checking batch positive control volume:')\n",
    "    display(check['Total vol (ml)'].sum())\n",
    "\n",
    "    pos_controls['positive control'] = 'Yes'\n",
    "    pos_controls['negative control'] = 'No'\n",
    "    pos_controls['location'] = 'No'\n",
    "    pos_controls['plate'] = range(1,number_of_plates+1)\n",
    "  \n",
    "\n",
    "    return pos_controls"
   ]
  },
  {
   "cell_type": "markdown",
   "metadata": {},
   "source": [
    "### `final_deliverable()`:Function to get final deliverable\n",
    "Put the sample, positive controls and negative controls together"
   ]
  },
  {
   "cell_type": "code",
   "execution_count": null,
   "metadata": {
    "ExecuteTime": {
     "end_time": "2020-06-11T09:33:33.530734Z",
     "start_time": "2020-06-11T09:33:33.474728Z"
    }
   },
   "outputs": [],
   "source": [
    "def final_deliverable(optimized_seq, neg_controls, pos_controls):\n",
    "    '''Function to add all together and return final deliverable'''\n",
    "\n",
    "    serology_samples_by_plate = optimized_seq\n",
    "    serology_samples_by_plate['negative control'] = 'No'\n",
    "    serology_samples_by_plate['positive control'] = 'No'\n",
    "    serology_samples_by_plate['location'] = ''\n",
    "    nolocation = serology_samples_by_plate[serology_samples_by_plate.Description.isna()]\n",
    "    location = serology_samples_by_plate[~serology_samples_by_plate.Description.isna()]\n",
    "    location['location'] = 'Yes'\n",
    "    nolocation['location'] = 'No'\n",
    "\n",
    "    serology_samples_by_plate = location.append(nolocation)\n",
    "    \n",
    "    Serology_final_dataset = pd.concat([serology_samples_by_plate, neg_controls], sort=True)\n",
    "    Serology_final_dataset = pd.concat([Serology_final_dataset, pos_controls], sort=True)\n",
    "    \n",
    "    Serology_final_dataset = Serology_final_dataset[['biobank_id', 'serology_id', 'Sample ID', 'Description', 'Position in Rack', 'Rack', 'Sequence',\n",
    "                        'location', 'negative control', 'positive control','plate']]\n",
    "    \n",
    "    return Serology_final_dataset"
   ]
  },
  {
   "cell_type": "markdown",
   "metadata": {},
   "source": [
    "### `get_dist()`: Function to Check the distributions of datasets by a specified variable"
   ]
  },
  {
   "cell_type": "code",
   "execution_count": null,
   "metadata": {
    "ExecuteTime": {
     "end_time": "2020-07-02T15:04:27.702145Z",
     "start_time": "2020-07-02T15:04:27.696143Z"
    }
   },
   "outputs": [],
   "source": [
    "def get_dist(DF, dist_var, group = None, groupnumber = None):\n",
    "    '''group determines whether the distribution is to be done by plate or on the entire dataset.\n",
    "       dist_var is the variable for which we check the distribution -- ie race, state \n",
    "       if group is 'plate', then, group number is the plate number'''\n",
    "            \n",
    "    if group == None:\n",
    "        df = pd.DataFrame(DF[['participant_id', dist_var]].drop_duplicates()[dist_var].value_counts())\n",
    "        df['%ofTheGroup'] = (df[dist_var]/DF.participant_id.nunique())*100\n",
    "        \n",
    "    else:        \n",
    "        df1 = DF[DF[group] == groupnumber] \n",
    "        df = pd.DataFrame(df1[['participant_id', dist_var]].drop_duplicates()[dist_var].value_counts())\n",
    "        df['%ofTheGroup'] = (df[dist_var]/df1.participant_id.nunique())*100\n",
    "\n",
    "            \n",
    "    return df"
   ]
  },
  {
   "cell_type": "markdown",
   "metadata": {
    "ExecuteTime": {
     "end_time": "2020-06-09T17:44:24.801360Z",
     "start_time": "2020-06-09T17:44:24.799361Z"
    }
   },
   "source": [
    "# EXECUTE THE PLATING STRATEGY"
   ]
  },
  {
   "cell_type": "markdown",
   "metadata": {},
   "source": [
    "## Plating Numbers we need\n",
    "Uses `get_plating_numbers()`"
   ]
  },
  {
   "cell_type": "code",
   "execution_count": null,
   "metadata": {
    "ExecuteTime": {
     "end_time": "2020-06-11T05:06:19.551924Z",
     "start_time": "2020-06-11T05:06:19.548926Z"
    }
   },
   "outputs": [],
   "source": [
    "#get_plating_numbers()"
   ]
  },
  {
   "cell_type": "code",
   "execution_count": null,
   "metadata": {
    "ExecuteTime": {
     "end_time": "2020-06-10T13:14:47.573591Z",
     "start_time": "2020-06-10T13:14:47.570591Z"
    }
   },
   "outputs": [],
   "source": [
    "# # To be used for rest of code\n",
    "# b_size = 4725\n",
    "# number_of_plates = 75\n",
    "# n_wells = 63"
   ]
  },
  {
   "cell_type": "code",
   "execution_count": null,
   "metadata": {
    "ExecuteTime": {
     "end_time": "2020-06-11T08:15:31.107105Z",
     "start_time": "2020-06-11T08:15:31.102105Z"
    }
   },
   "outputs": [],
   "source": [
    "# new 06/11/2020\n",
    "# To be used for rest of code\n",
    "import math\n",
    "b_size = 5060\n",
    "number_of_plates = 80\n",
    "nwells = math.floor(5060/80) #excluding controls\n",
    "NegControls_perBatch = 150 #unrepeated\n",
    "nwells"
   ]
  },
  {
   "cell_type": "code",
   "execution_count": null,
   "metadata": {
    "ExecuteTime": {
     "end_time": "2020-06-11T09:53:36.652939Z",
     "start_time": "2020-06-11T09:53:36.643939Z"
    }
   },
   "outputs": [],
   "source": [
    "# FOR NOW WILL USE HARD CODED NUMBERS since the new numbers are not even\n",
    "# i will come up with a function to calculate these later\n",
    "\n",
    "#combination sample+ negative controls per plate that works (with repeats)\n",
    "\n",
    "#plates 1 to 70 = 63 samples and 4 neg controls\n",
    "#plates 71 to 80 = 65 samples and 2 neg controls\n",
    "\n",
    "63*70 + 65*10 + 4*70 + 2*10\n"
   ]
  },
  {
   "cell_type": "markdown",
   "metadata": {},
   "source": [
    "## BATCH 1"
   ]
  },
  {
   "cell_type": "code",
   "execution_count": null,
   "metadata": {},
   "outputs": [],
   "source": []
  },
  {
   "cell_type": "markdown",
   "metadata": {},
   "source": [
    "### Pull batch 1\n",
    "Uses function `pull_batch()`"
   ]
  },
  {
   "cell_type": "markdown",
   "metadata": {},
   "source": [
    "*'Serum specimens will be sorted in descending order of collection dates. Following this order, the first batch of specimens will consist of approximately 5,000 specimens optimized to 68 well plating'*"
   ]
  },
  {
   "cell_type": "code",
   "execution_count": null,
   "metadata": {
    "ExecuteTime": {
     "end_time": "2020-06-11T16:45:34.636703Z",
     "start_time": "2020-06-11T16:45:34.551695Z"
    }
   },
   "outputs": [],
   "source": [
    "### Which batch number is this (that we deliver to the biobank?)\n",
    "b_number = 1\n",
    "#b_size = 4725\n",
    "\n",
    "batch1 = pull_batch(batch_size = b_size, previous_batch = None)\n",
    "batch1.head()"
   ]
  },
  {
   "cell_type": "code",
   "execution_count": null,
   "metadata": {
    "ExecuteTime": {
     "end_time": "2020-06-11T19:43:33.724337Z",
     "start_time": "2020-06-11T19:43:33.707334Z"
    }
   },
   "outputs": [],
   "source": [
    "batch1.state.drop_duplicates().sort_values()\n",
    "#batch_n2.state.nunique()"
   ]
  },
  {
   "cell_type": "markdown",
   "metadata": {},
   "source": [
    "##### Quick checks + Save batch to drive for documentation"
   ]
  },
  {
   "cell_type": "code",
   "execution_count": null,
   "metadata": {
    "ExecuteTime": {
     "end_time": "2020-06-11T16:45:37.241954Z",
     "start_time": "2020-06-11T16:45:37.232956Z"
    }
   },
   "outputs": [],
   "source": [
    "#Check dates of specimen collection and number of unique biobank_ids\n",
    "batch1.participant_id.nunique(), batch1['DateBloodSampleCollected'].max(), batch1['DateBloodSampleCollected'].min()\n"
   ]
  },
  {
   "cell_type": "code",
   "execution_count": null,
   "metadata": {
    "ExecuteTime": {
     "end_time": "2020-06-11T16:45:37.833794Z",
     "start_time": "2020-06-11T16:45:37.828794Z"
    }
   },
   "outputs": [],
   "source": [
    "batch_filename = '../DATA/DSC2/Serology_batch' +str(b_number)+'_'+now+'.csv'\n",
    "batch_filename"
   ]
  },
  {
   "cell_type": "code",
   "execution_count": null,
   "metadata": {
    "ExecuteTime": {
     "end_time": "2020-06-11T16:45:37.978810Z",
     "start_time": "2020-06-11T16:45:37.958806Z"
    }
   },
   "outputs": [],
   "source": [
    "batch1.to_csv(batch_filename, index = False)"
   ]
  },
  {
   "cell_type": "markdown",
   "metadata": {},
   "source": [
    "### Randomize by State and add Location to batch\n",
    "Uses `randomize_and_locate()`"
   ]
  },
  {
   "cell_type": "code",
   "execution_count": null,
   "metadata": {
    "ExecuteTime": {
     "end_time": "2020-06-11T16:45:38.164820Z",
     "start_time": "2020-06-11T16:45:38.158820Z"
    }
   },
   "outputs": [],
   "source": [
    "## double check n participants in batch\n",
    "batch1.participant_id.nunique()"
   ]
  },
  {
   "cell_type": "code",
   "execution_count": null,
   "metadata": {
    "ExecuteTime": {
     "end_time": "2020-06-11T16:45:38.359835Z",
     "start_time": "2020-06-11T16:45:38.335832Z"
    }
   },
   "outputs": [],
   "source": [
    "samples_groups = randomize_and_locate(batch_df = batch1, batch_size = b_size, rand_state = 609)\n",
    "samples_groups.head()"
   ]
  },
  {
   "cell_type": "markdown",
   "metadata": {},
   "source": [
    "### Sequence Optimization\n",
    "Uses `optimize_sequence()`"
   ]
  },
  {
   "cell_type": "markdown",
   "metadata": {},
   "source": [
    "*'...the first batch of specimens will consist of approximately 5,000 specimens optimized to 68 well plating... '*"
   ]
  },
  {
   "cell_type": "markdown",
   "metadata": {},
   "source": [
    "#### **NEW 07/01/2020** New plating numbers have been decided. But we want to use the same samples and pos/neg controls. \n",
    "So, I will simply load them from the previous batch"
   ]
  },
  {
   "cell_type": "code",
   "execution_count": null,
   "metadata": {
    "ExecuteTime": {
     "end_time": "2020-07-01T18:35:38.069049Z",
     "start_time": "2020-07-01T18:35:38.044045Z"
    }
   },
   "outputs": [],
   "source": [
    "batch1 = pd.read_csv('../DATA\\\\DSC2\\\\Quest_Serology_batch1_2020-06-16_13.07.28.csv')\n",
    "batch1.head()"
   ]
  },
  {
   "cell_type": "code",
   "execution_count": null,
   "metadata": {
    "ExecuteTime": {
     "end_time": "2020-07-01T18:36:38.672204Z",
     "start_time": "2020-07-01T18:36:38.668202Z"
    }
   },
   "outputs": [],
   "source": [
    "batch1.columns"
   ]
  },
  {
   "cell_type": "code",
   "execution_count": null,
   "metadata": {
    "ExecuteTime": {
     "end_time": "2020-07-01T18:38:03.189320Z",
     "start_time": "2020-07-01T18:38:03.167314Z"
    }
   },
   "outputs": [],
   "source": [
    "batch1 = batch1[['biobank_id', 'Description', 'Position in Rack', 'Rack',\n",
    "       'Sequence', 'location']].drop_duplicates()\n",
    "\n",
    "batch1"
   ]
  },
  {
   "cell_type": "code",
   "execution_count": null,
   "metadata": {
    "ExecuteTime": {
     "end_time": "2020-07-01T18:57:00.163334Z",
     "start_time": "2020-07-01T18:57:00.147332Z"
    }
   },
   "outputs": [],
   "source": [
    "pd.merge(available_serum, batch1, on ='biobank_id', how= 'right')"
   ]
  },
  {
   "cell_type": "code",
   "execution_count": null,
   "metadata": {},
   "outputs": [],
   "source": []
  },
  {
   "cell_type": "code",
   "execution_count": null,
   "metadata": {
    "ExecuteTime": {
     "end_time": "2020-06-11T09:33:13.400805Z",
     "start_time": "2020-06-11T09:33:01.317436Z"
    }
   },
   "outputs": [],
   "source": [
    "COVID_controls.biobank_id.nunique()"
   ]
  },
  {
   "cell_type": "code",
   "execution_count": null,
   "metadata": {},
   "outputs": [],
   "source": []
  },
  {
   "cell_type": "code",
   "execution_count": null,
   "metadata": {
    "ExecuteTime": {
     "end_time": "2020-06-11T16:46:00.120236Z",
     "start_time": "2020-06-11T16:45:39.287906Z"
    }
   },
   "outputs": [],
   "source": [
    "#nwells defined in 2.1 #excludes both positive and negative control wells for now\n",
    "\n",
    "samples_groups_optimized = optimize_sequence(df = samples_groups, n_wells = nwells)\n",
    "samples_groups_optimized.sort_values('plate')"
   ]
  },
  {
   "cell_type": "code",
   "execution_count": null,
   "metadata": {
    "ExecuteTime": {
     "end_time": "2020-06-11T16:46:00.129231Z",
     "start_time": "2020-06-11T16:46:00.121230Z"
    }
   },
   "outputs": [],
   "source": [
    "## View plates with no location\n",
    "samples_groups_optimized[samples_groups_optimized.Description.isna()].plate.drop_duplicates()"
   ]
  },
  {
   "cell_type": "code",
   "execution_count": null,
   "metadata": {
    "ExecuteTime": {
     "end_time": "2020-06-11T16:46:00.136231Z",
     "start_time": "2020-06-11T16:46:00.131230Z"
    }
   },
   "outputs": [],
   "source": [
    "# TO ACHIVIVE the combination stated in 2.1, I will manually modif the last 10 plates\n",
    "# we need 65 samples in each"
   ]
  },
  {
   "cell_type": "code",
   "execution_count": null,
   "metadata": {
    "ExecuteTime": {
     "end_time": "2020-06-11T16:46:00.152232Z",
     "start_time": "2020-06-11T16:46:00.137231Z"
    }
   },
   "outputs": [],
   "source": [
    "samples_groups_optimized2 = samples_groups_optimized[samples_groups_optimized.plate <=70]\n",
    "samples_groups_optimized2.sort_values('plate').tail()"
   ]
  },
  {
   "cell_type": "code",
   "execution_count": null,
   "metadata": {
    "ExecuteTime": {
     "end_time": "2020-06-11T16:46:00.168238Z",
     "start_time": "2020-06-11T16:46:00.153232Z"
    }
   },
   "outputs": [],
   "source": [
    "samples_groups_optimizedmod = samples_groups_optimized[samples_groups_optimized.plate>=71]\n",
    "samples_groups_optimizedmod.loc[samples_groups_optimizedmod.plate == 81, 'plate'] = 80\n",
    "samples_groups_optimizedmod.sort_values('plate').tail()"
   ]
  },
  {
   "cell_type": "code",
   "execution_count": null,
   "metadata": {
    "ExecuteTime": {
     "end_time": "2020-06-11T16:46:00.177237Z",
     "start_time": "2020-06-11T16:46:00.169233Z"
    }
   },
   "outputs": [],
   "source": [
    "samples_groups_optimizedmod = samples_groups_optimizedmod.sample(n = len(samples_groups_optimizedmod), random_state=512)\n",
    "\n",
    "n = 0\n",
    "m = 65\n",
    "for p in range(71,80):  \n",
    "    samples_groups_optimizedmod['plate'][n:n+m] = p\n",
    "    m +=65\n",
    "    n +=65\n",
    "\n",
    "samples_groups_optimizedmod['plate'][len(samples_groups_optimizedmod)-65:] = 80\n",
    "  \n",
    "    # samples_groups_optimizedmod['plate'][n:n*2] = 78\n",
    "# samples_groups_optimizedmod['plate'][n*2:n*3] = 79\n",
    "# samples_groups_optimizedmod['plate'][n*3:] = 80"
   ]
  },
  {
   "cell_type": "code",
   "execution_count": null,
   "metadata": {
    "ExecuteTime": {
     "end_time": "2020-06-11T16:46:00.196235Z",
     "start_time": "2020-06-11T16:46:00.178234Z"
    }
   },
   "outputs": [],
   "source": [
    "samples_groups_optimizedmod.sort_values('plate')"
   ]
  },
  {
   "cell_type": "code",
   "execution_count": null,
   "metadata": {
    "ExecuteTime": {
     "end_time": "2020-06-11T16:46:00.218239Z",
     "start_time": "2020-06-11T16:46:00.198236Z"
    },
    "scrolled": true
   },
   "outputs": [],
   "source": [
    "samples_groups_optimized2 = samples_groups_optimized2.append(samples_groups_optimizedmod)\n",
    "samples_groups_optimized2[['biobank_id','plate']].groupby('plate').nunique()"
   ]
  },
  {
   "cell_type": "code",
   "execution_count": null,
   "metadata": {
    "ExecuteTime": {
     "end_time": "2020-06-11T16:46:00.223238Z",
     "start_time": "2020-06-11T16:46:00.219237Z"
    }
   },
   "outputs": [],
   "source": [
    "samples_groups_optimized2.biobank_id.nunique()"
   ]
  },
  {
   "cell_type": "markdown",
   "metadata": {},
   "source": [
    "### Add Negative Controls\n",
    "Uses `add_negative_controls()`"
   ]
  },
  {
   "cell_type": "code",
   "execution_count": null,
   "metadata": {
    "ExecuteTime": {
     "end_time": "2020-06-11T16:46:00.230238Z",
     "start_time": "2020-06-11T16:46:00.224238Z"
    }
   },
   "outputs": [],
   "source": [
    "# combination stated in 2.1, \n",
    "#plates 1 to 76 = 64 samples and 3 neg controls\n",
    "#plates 77 to 80 = 49 samples and 18 neg controls\n"
   ]
  },
  {
   "cell_type": "code",
   "execution_count": null,
   "metadata": {
    "ExecuteTime": {
     "end_time": "2020-06-11T16:46:24.590666Z",
     "start_time": "2020-06-11T16:46:24.586666Z"
    }
   },
   "outputs": [],
   "source": [
    "#  #match negative controls on state\n",
    "# batch_controls_df= pd.merge(COVID_controls[['biobank_id', 'state']].drop_duplicates(), batch_n[['state']].drop_duplicates()).drop('state', axis = 1).drop_duplicates()#.reset_index()\n",
    "\n",
    "# number_of_plates, NegControls_perBatch#, repeat_negControls\n",
    "\n",
    "#  ## randomly select the batch negative controls\n",
    "# batch_controls_df2 = batch_controls_df.sample(n = int(NegControls_perBatch), random_state = 610).reset_index().drop('index', axis = 1)\n",
    "# batch_controls_df2"
   ]
  },
  {
   "cell_type": "code",
   "execution_count": null,
   "metadata": {
    "ExecuteTime": {
     "end_time": "2020-06-11T16:46:24.585672Z",
     "start_time": "2020-06-11T16:46:00.231238Z"
    }
   },
   "outputs": [],
   "source": [
    "batch_negControls = batch_negative_controls(ramdomized_sample_df = samples_groups_optimized2,#samples_groups, \n",
    "                                            batch_df = batch1, \n",
    "                                               negControls_master = COVID_controls, \n",
    "                                               unrepeated_negControls = NegControls_perBatch,\n",
    "                                               stop1 = 70, number_plates = number_of_plates, rand_state = 6115)\n",
    "\n",
    "batch_negControls"
   ]
  },
  {
   "cell_type": "code",
   "execution_count": null,
   "metadata": {
    "ExecuteTime": {
     "end_time": "2020-06-11T19:29:13.304894Z",
     "start_time": "2020-06-11T19:29:12.037145Z"
    }
   },
   "outputs": [],
   "source": [
    "#neg_control_dates = pd.merge(batch_negControls, COVID_controls[['biobank_id','DateBloodSampleCollected']])\n",
    "neg_control_dates.DateBloodSampleCollected.max(), neg_control_dates.DateBloodSampleCollected.min()"
   ]
  },
  {
   "cell_type": "code",
   "execution_count": null,
   "metadata": {
    "ExecuteTime": {
     "end_time": "2020-06-11T16:46:24.599663Z",
     "start_time": "2020-06-11T16:46:24.591664Z"
    },
    "scrolled": true
   },
   "outputs": [],
   "source": [
    "# negative_controls_df = batch_negative_controls(df = batch_controls_df2, unrepeated_negControls = NegControls_perBatch, \n",
    "#                                                number_plates = number_of_plates)\n",
    "# negative_controls_df"
   ]
  },
  {
   "cell_type": "markdown",
   "metadata": {},
   "source": [
    "##### QC AND FIX"
   ]
  },
  {
   "cell_type": "code",
   "execution_count": null,
   "metadata": {
    "ExecuteTime": {
     "end_time": "2020-06-11T16:46:24.614666Z",
     "start_time": "2020-06-11T16:46:24.600665Z"
    },
    "scrolled": true
   },
   "outputs": [],
   "source": [
    "# Check that we have 4 DISTINCT PIDS per plate, even with the repeats\n",
    "check = batch_negControls[['biobank_id','plate']].groupby('plate').nunique()#.drop('plate', axis = 1)\n",
    "check.sort_values('biobank_id', ascending = False).tail(15)"
   ]
  },
  {
   "cell_type": "code",
   "execution_count": null,
   "metadata": {
    "ExecuteTime": {
     "end_time": "2020-06-11T16:46:24.618669Z",
     "start_time": "2020-06-11T16:46:24.615667Z"
    }
   },
   "outputs": [],
   "source": [
    "#batch_negControls[batch_negControls.plate == 38]"
   ]
  },
  {
   "cell_type": "code",
   "execution_count": null,
   "metadata": {
    "ExecuteTime": {
     "end_time": "2020-06-11T16:46:24.624671Z",
     "start_time": "2020-06-11T16:46:24.619666Z"
    }
   },
   "outputs": [],
   "source": [
    "# Controlsbids_notIN_batchcontrols = pd.DataFrame(set(batch_controls_df.biobank_id) - set(negative_controls_df.biobank_id))\n",
    "# Controlsbids_notIN_batchcontrols.sample(2, random_state = 1)"
   ]
  },
  {
   "cell_type": "code",
   "execution_count": null,
   "metadata": {
    "ExecuteTime": {
     "end_time": "2020-06-11T16:46:24.657671Z",
     "start_time": "2020-06-11T16:46:24.625666Z"
    }
   },
   "outputs": [],
   "source": [
    "negative_controls_df.to_csv('../DATA/DSC2/batch1_negative_controls_'+now+'.csv')"
   ]
  },
  {
   "cell_type": "code",
   "execution_count": null,
   "metadata": {
    "ExecuteTime": {
     "end_time": "2020-06-11T16:46:24.661670Z",
     "start_time": "2020-06-11T16:46:24.658669Z"
    }
   },
   "outputs": [],
   "source": [
    "# #negative_controls_df.loc[negative_controls_df['plate'] == 38, 'biobank_id'] = 687141743\n",
    "# #check again\n",
    "\n",
    "# # Check that we have 4 DISTINCT PIDS per plate, even with the repeats\n",
    "# check = negative_controls_df[['biobank_id','plate']].groupby('plate').nunique()#.drop('plate', axis = 1)\n",
    "# check.sort_values('biobank_id', ascending = False)#.tail(15)\n",
    "\n",
    "\n",
    "# #yay!!"
   ]
  },
  {
   "cell_type": "markdown",
   "metadata": {},
   "source": [
    "### Add Positive Controls"
   ]
  },
  {
   "cell_type": "code",
   "execution_count": null,
   "metadata": {
    "ExecuteTime": {
     "end_time": "2020-06-11T16:46:24.670672Z",
     "start_time": "2020-06-11T16:46:24.663671Z"
    }
   },
   "outputs": [],
   "source": [
    "now"
   ]
  },
  {
   "cell_type": "code",
   "execution_count": null,
   "metadata": {
    "ExecuteTime": {
     "end_time": "2020-06-12T21:35:46.804469Z",
     "start_time": "2020-06-12T21:35:46.789469Z"
    }
   },
   "outputs": [],
   "source": [
    "positive_controls.head()"
   ]
  },
  {
   "cell_type": "code",
   "execution_count": null,
   "metadata": {
    "ExecuteTime": {
     "end_time": "2020-06-12T21:35:48.851423Z",
     "start_time": "2020-06-12T21:35:48.731423Z"
    }
   },
   "outputs": [],
   "source": [
    "positive_controls_df = batch_positive_controls(positive_controls, rand_state = 511419, numb_plates = number_of_plates)\n",
    "positive_controls_df = positive_controls_df[['Sample ID','serology_id','positive control', 'negative control', 'plate']]\n",
    "positive_controls_df"
   ]
  },
  {
   "cell_type": "code",
   "execution_count": null,
   "metadata": {
    "ExecuteTime": {
     "end_time": "2020-06-11T16:46:24.729692Z",
     "start_time": "2020-06-11T16:46:24.724674Z"
    }
   },
   "outputs": [],
   "source": [
    "positive_controls_df.to_csv('../DATA/DSC2/positive_controls_batch'+str(1)+'_'+now+'.csv')"
   ]
  },
  {
   "cell_type": "code",
   "execution_count": null,
   "metadata": {
    "ExecuteTime": {
     "end_time": "2020-06-11T16:46:24.755677Z",
     "start_time": "2020-06-11T16:46:24.733673Z"
    }
   },
   "outputs": [],
   "source": [
    "positive_controls_df[['serology_id','plate']].groupby('plate').count().sort_values('serology_id')"
   ]
  },
  {
   "cell_type": "markdown",
   "metadata": {},
   "source": [
    "### QC Only: Check Distributios of Batches and Plates "
   ]
  },
  {
   "cell_type": "code",
   "execution_count": null,
   "metadata": {
    "ExecuteTime": {
     "end_time": "2020-06-11T16:46:24.773685Z",
     "start_time": "2020-06-11T16:46:24.757678Z"
    }
   },
   "outputs": [],
   "source": [
    "batch_controls_demog = pd.merge(COVID_controls, batch_controls_repeated[['biobank_id']], how = 'inner')#.drop('Unnamed: 0', axis =1)\n",
    "batch_controls_demog.head()\n",
    "\n",
    "for v in ['Race','state']:\n",
    "    display(get_dist(DF = batch_controls_demog, dist_var = v, group = None, groupnumber = None))"
   ]
  },
  {
   "cell_type": "markdown",
   "metadata": {},
   "source": [
    "#### Whole Batch"
   ]
  },
  {
   "cell_type": "code",
   "execution_count": null,
   "metadata": {
    "ExecuteTime": {
     "end_time": "2020-06-11T16:46:24.774679Z",
     "start_time": "2020-06-11T16:45:47.168Z"
    }
   },
   "outputs": [],
   "source": [
    "## Checking the distribution\n",
    "batch_n_demog = pd.merge(samples_groups, master_list)\n",
    "batch_n_demog.participant_id.nunique()"
   ]
  },
  {
   "cell_type": "code",
   "execution_count": null,
   "metadata": {
    "ExecuteTime": {
     "end_time": "2020-06-11T16:46:24.775678Z",
     "start_time": "2020-06-11T16:45:47.309Z"
    }
   },
   "outputs": [],
   "source": [
    "for v in ['race','state']:\n",
    "    display(get_dist(DF = batch_n_demog, dist_var = v, group = None, groupnumber = None))"
   ]
  },
  {
   "cell_type": "markdown",
   "metadata": {},
   "source": [
    "#### Distribution Per Plate"
   ]
  },
  {
   "cell_type": "code",
   "execution_count": null,
   "metadata": {
    "ExecuteTime": {
     "end_time": "2020-06-11T16:46:24.776679Z",
     "start_time": "2020-06-11T16:45:47.755Z"
    }
   },
   "outputs": [],
   "source": [
    "gr = 'plate'\n",
    "DF = batch_n_demog\n",
    "\n",
    "writer = pd.ExcelWriter('../DATA/DSC2/sample_distributions_plates'+now+'.xlsx')\n",
    "for g in DF[gr].drop_duplicates():\n",
    "    #print(g)    \n",
    "    for v in ['state']: #['race','state']:\n",
    "        distribution = get_dist(DF, dist_var = v, group = gr, groupnumber = g)\n",
    "        display(distribution)\n",
    "        distribution.to_excel(writer, str(v)+'_'+str(gr)+str(g))\n",
    "                        \n",
    "writer.save()"
   ]
  },
  {
   "cell_type": "markdown",
   "metadata": {},
   "source": [
    "### FINAL DELIVERABLE\n",
    "  "
   ]
  },
  {
   "cell_type": "code",
   "execution_count": null,
   "metadata": {
    "ExecuteTime": {
     "end_time": "2020-06-11T16:46:39.433752Z",
     "start_time": "2020-06-11T16:46:39.408753Z"
    }
   },
   "outputs": [],
   "source": [
    "Serology_batch_final = final_deliverable(samples_groups_optimized2, batch_negControls, positive_controls_df)"
   ]
  },
  {
   "cell_type": "code",
   "execution_count": null,
   "metadata": {
    "ExecuteTime": {
     "end_time": "2020-06-11T16:46:39.620767Z",
     "start_time": "2020-06-11T16:46:39.599766Z"
    }
   },
   "outputs": [],
   "source": [
    "Serology_batch_final .sort_values('plate')"
   ]
  },
  {
   "cell_type": "code",
   "execution_count": null,
   "metadata": {
    "ExecuteTime": {
     "end_time": "2020-06-11T16:46:39.864786Z",
     "start_time": "2020-06-11T16:46:39.849784Z"
    }
   },
   "outputs": [],
   "source": [
    "Serology_batch_final[['biobank_id','serology_id','plate']].drop_duplicates().sort_values('plate').groupby('plate').count()"
   ]
  },
  {
   "cell_type": "code",
   "execution_count": null,
   "metadata": {
    "ExecuteTime": {
     "end_time": "2020-06-11T16:46:40.129809Z",
     "start_time": "2020-06-11T16:46:40.110804Z"
    }
   },
   "outputs": [],
   "source": [
    "Serology_batch_final_DRC = Serology_batch_final\n",
    "Serology_batch_final_DRC"
   ]
  },
  {
   "cell_type": "code",
   "execution_count": null,
   "metadata": {
    "ExecuteTime": {
     "end_time": "2020-06-11T16:46:40.367824Z",
     "start_time": "2020-06-11T16:46:40.360826Z"
    }
   },
   "outputs": [],
   "source": [
    "Serology_batch_final_DRC.columns"
   ]
  },
  {
   "cell_type": "code",
   "execution_count": null,
   "metadata": {
    "ExecuteTime": {
     "end_time": "2020-06-11T16:46:40.561844Z",
     "start_time": "2020-06-11T16:46:40.555839Z"
    }
   },
   "outputs": [],
   "source": [
    "Serology_batch_final_quest = Serology_batch_final[['biobank_id', 'serology_id', 'Description', 'Position in Rack', 'Rack',\n",
    "       'Sequence', 'location', 'plate']]"
   ]
  },
  {
   "cell_type": "markdown",
   "metadata": {},
   "source": [
    "##### last checks "
   ]
  },
  {
   "cell_type": "code",
   "execution_count": null,
   "metadata": {
    "ExecuteTime": {
     "end_time": "2020-06-11T16:46:42.835082Z",
     "start_time": "2020-06-11T16:46:42.831082Z"
    }
   },
   "outputs": [],
   "source": [
    "# Serology_batch1_0518 = pd.read_csv('Serology_batch1_0518.csv')\n",
    "# batch1_SerumAvailability = pd.read_csv('Serology_batch1_SerumAvailability.csv')\n",
    "# batch1_SerumAvailability['biobank_id'] = [batch1_SerumAvailability.loc[x,'Subject Description'][1:] for x in batch1_SerumAvailability.index]\n",
    "# batch1_SerumAvailability['biobank_id'] = [int(x) for x in batch1_SerumAvailability['biobank_id']]\n",
    "\n",
    "#len(set(Serology_final_dataset.biobank_id) - set(batch1_SerumAvailability.biobank_id)), len(set(SERUM_SAMPLES_BYPLATE_DEMOG.biobank_id) - set(batch1_SerumAvailability.biobank_id))"
   ]
  },
  {
   "cell_type": "markdown",
   "metadata": {},
   "source": [
    "#### Save Final Deliverable"
   ]
  },
  {
   "cell_type": "code",
   "execution_count": null,
   "metadata": {
    "ExecuteTime": {
     "end_time": "2020-06-11T16:46:43.505413Z",
     "start_time": "2020-06-11T16:46:43.502413Z"
    }
   },
   "outputs": [],
   "source": [
    "batch_number = 1"
   ]
  },
  {
   "cell_type": "code",
   "execution_count": null,
   "metadata": {
    "ExecuteTime": {
     "end_time": "2020-06-11T16:46:43.660424Z",
     "start_time": "2020-06-11T16:46:43.596420Z"
    }
   },
   "outputs": [],
   "source": [
    "Serology_batch_final_DRC.to_csv('../DATA/DSC2/DRC_Serology_batch'+str(batch_number)+'_'+now+'.csv', index = False)\n",
    "\n",
    "#for quest, must mask positive  aand nnegative controls\n",
    "Serology_batch_final_quest.to_csv('../DATA/DSC2/Quest_Serology_batch'+str(batch_number)+'_'+now+'.csv', index = False)\n"
   ]
  },
  {
   "cell_type": "markdown",
   "metadata": {},
   "source": [
    "## BATCH 2"
   ]
  },
  {
   "cell_type": "markdown",
   "metadata": {},
   "source": [
    "### Pull batch 2\n",
    "Uses function `pull_batch()`"
   ]
  },
  {
   "cell_type": "markdown",
   "metadata": {},
   "source": [
    "*'Serum specimens will be sorted in descending order of collection dates. Following this order, the first batch of specimens will consist of approximately 5,000 specimens optimized to 68 well plating'*"
   ]
  },
  {
   "cell_type": "code",
   "execution_count": null,
   "metadata": {
    "ExecuteTime": {
     "end_time": "2020-06-11T16:46:44.774424Z",
     "start_time": "2020-06-11T16:46:44.638414Z"
    }
   },
   "outputs": [],
   "source": [
    "### Which batch number is this (that we deliver to the biobank?)\n",
    "b_number = 2\n",
    "#b_size = 4725\n",
    "\n",
    "batch_n2 = pull_batch2(batch_size = b_size, previous_batch = batch_n)\n",
    "batch_n2.head()"
   ]
  },
  {
   "cell_type": "code",
   "execution_count": null,
   "metadata": {
    "ExecuteTime": {
     "end_time": "2020-06-11T16:46:44.986442Z",
     "start_time": "2020-06-11T16:46:44.967439Z"
    }
   },
   "outputs": [],
   "source": [
    "set(batch_n.participant_id) - set(batch_n2.participant_id) "
   ]
  },
  {
   "cell_type": "markdown",
   "metadata": {},
   "source": [
    "##### Quick checks + Save batch to drive for documentation"
   ]
  },
  {
   "cell_type": "code",
   "execution_count": null,
   "metadata": {
    "ExecuteTime": {
     "end_time": "2020-06-11T16:46:45.336129Z",
     "start_time": "2020-06-11T16:46:45.330129Z"
    }
   },
   "outputs": [],
   "source": [
    "#Check dates of specimen collection and number of unique biobank_ids\n",
    "batch_n2.participant_id.nunique(), batch_n2['DateBloodSampleCollected'].max(), batch_n2['DateBloodSampleCollected'].min()\n"
   ]
  },
  {
   "cell_type": "code",
   "execution_count": null,
   "metadata": {
    "ExecuteTime": {
     "end_time": "2020-06-11T16:46:45.703161Z",
     "start_time": "2020-06-11T16:46:45.695156Z"
    }
   },
   "outputs": [],
   "source": [
    "## check that the biobank ids are not the same as in the first batch\n",
    "len(set(batch_n2.biobank_id) - set(batch_n.biobank_id))"
   ]
  },
  {
   "cell_type": "code",
   "execution_count": null,
   "metadata": {
    "ExecuteTime": {
     "end_time": "2020-06-11T16:46:46.007186Z",
     "start_time": "2020-06-11T16:46:46.000179Z"
    }
   },
   "outputs": [],
   "source": [
    "batch_filename = '../DATA/DSC2/Serology_batch' +str(b_number)+'_'+now+'.csv'\n",
    "batch_filename"
   ]
  },
  {
   "cell_type": "code",
   "execution_count": null,
   "metadata": {
    "ExecuteTime": {
     "end_time": "2020-06-11T16:46:46.372209Z",
     "start_time": "2020-06-11T16:46:46.344206Z"
    }
   },
   "outputs": [],
   "source": [
    "batch_n2.to_csv(batch_filename, index = False)"
   ]
  },
  {
   "cell_type": "markdown",
   "metadata": {},
   "source": [
    "### Randomize by State and add Location to batch\n",
    "Uses `randomize_and_locate()`"
   ]
  },
  {
   "cell_type": "code",
   "execution_count": null,
   "metadata": {
    "ExecuteTime": {
     "end_time": "2020-06-11T16:46:46.934081Z",
     "start_time": "2020-06-11T16:46:46.928077Z"
    }
   },
   "outputs": [],
   "source": [
    "## double check n participants in batch\n",
    "batch_n2.participant_id.nunique()"
   ]
  },
  {
   "cell_type": "code",
   "execution_count": null,
   "metadata": {
    "ExecuteTime": {
     "end_time": "2020-06-11T16:46:47.243106Z",
     "start_time": "2020-06-11T16:46:47.219099Z"
    }
   },
   "outputs": [],
   "source": [
    "samples_groups2 = randomize_and_locate(batch_df = batch_n2, batch_size = b_size, rand_state = 611444)\n",
    "samples_groups2.head()"
   ]
  },
  {
   "cell_type": "markdown",
   "metadata": {},
   "source": [
    "### Sequence Optimization\n",
    "Uses `optimize_sequence()`"
   ]
  },
  {
   "cell_type": "markdown",
   "metadata": {},
   "source": [
    "*'...the first batch of specimens will consist of approximately 5,000 specimens optimized to 68 well plating... '*"
   ]
  },
  {
   "cell_type": "markdown",
   "metadata": {},
   "source": [
    "#### **NEW 07/01/2020** New plating numbers have been decided. But we want to use the same samples and pos/neg controls. \n",
    "So, I will simply load them from the previous batch"
   ]
  },
  {
   "cell_type": "code",
   "execution_count": null,
   "metadata": {},
   "outputs": [],
   "source": [
    "batch2 = pd.read_csv('../DATA\\\\DSC2\\\\Quest_Serology_batch2_2020-06-16_13.07.28.csv')"
   ]
  },
  {
   "cell_type": "code",
   "execution_count": null,
   "metadata": {
    "ExecuteTime": {
     "end_time": "2020-06-11T16:47:06.016190Z",
     "start_time": "2020-06-11T16:46:47.830146Z"
    }
   },
   "outputs": [],
   "source": [
    "samples_groups_optimizedb2 = optimize_sequence(df = samples_groups2, n_wells = nwells)\n",
    "samples_groups_optimizedb2.sort_values('plate')"
   ]
  },
  {
   "cell_type": "code",
   "execution_count": null,
   "metadata": {
    "ExecuteTime": {
     "end_time": "2020-06-11T16:47:06.024191Z",
     "start_time": "2020-06-11T16:47:06.017190Z"
    }
   },
   "outputs": [],
   "source": [
    "## View plates with no location\n",
    "samples_groups_optimizedb2[samples_groups_optimizedb2.Description.isna()].plate.drop_duplicates()"
   ]
  },
  {
   "cell_type": "code",
   "execution_count": null,
   "metadata": {},
   "outputs": [],
   "source": []
  },
  {
   "cell_type": "code",
   "execution_count": null,
   "metadata": {
    "ExecuteTime": {
     "end_time": "2020-06-11T16:47:06.030191Z",
     "start_time": "2020-06-11T16:47:06.026191Z"
    }
   },
   "outputs": [],
   "source": [
    "# TO ACHIVIVE the combination stated in 2.1, I will manually modif the last 10 plates\n",
    "# we need 65 samples in each"
   ]
  },
  {
   "cell_type": "code",
   "execution_count": null,
   "metadata": {
    "ExecuteTime": {
     "end_time": "2020-06-11T16:47:06.046191Z",
     "start_time": "2020-06-11T16:47:06.031193Z"
    }
   },
   "outputs": [],
   "source": [
    "samples_groups_optimizedb22 = samples_groups_optimizedb2[samples_groups_optimizedb2.plate <=70]\n",
    "samples_groups_optimizedb22.sort_values('plate').tail()"
   ]
  },
  {
   "cell_type": "code",
   "execution_count": null,
   "metadata": {
    "ExecuteTime": {
     "end_time": "2020-06-11T16:47:06.062197Z",
     "start_time": "2020-06-11T16:47:06.047190Z"
    }
   },
   "outputs": [],
   "source": [
    "samples_groups_optimizedmodb2 = samples_groups_optimizedb2[samples_groups_optimizedb2.plate>=71]\n",
    "samples_groups_optimizedmodb2.loc[samples_groups_optimizedmodb2.plate == 81, 'plate'] = 80\n",
    "samples_groups_optimizedmodb2.sort_values('plate').tail()"
   ]
  },
  {
   "cell_type": "code",
   "execution_count": null,
   "metadata": {
    "ExecuteTime": {
     "end_time": "2020-06-11T16:47:06.071232Z",
     "start_time": "2020-06-11T16:47:06.063193Z"
    }
   },
   "outputs": [],
   "source": [
    "samples_groups_optimizedmodb2 = samples_groups_optimizedmodb2.sample(n = len(samples_groups_optimizedmodb2), random_state=512)\n",
    "\n",
    "n = 0\n",
    "m = 65\n",
    "for p in range(71,80):  \n",
    "    samples_groups_optimizedmodb2['plate'][n:n+m] = p\n",
    "    m +=65\n",
    "    n +=65\n",
    "\n",
    "samples_groups_optimizedmodb2['plate'][len(samples_groups_optimizedmodb2)-65:] = 80\n",
    "  \n",
    "    # samples_groups_optimizedmod['plate'][n:n*2] = 78\n",
    "# samples_groups_optimizedmod['plate'][n*2:n*3] = 79\n",
    "# samples_groups_optimizedmod['plate'][n*3:] = 80"
   ]
  },
  {
   "cell_type": "code",
   "execution_count": null,
   "metadata": {
    "ExecuteTime": {
     "end_time": "2020-06-11T16:47:06.088196Z",
     "start_time": "2020-06-11T16:47:06.072193Z"
    }
   },
   "outputs": [],
   "source": [
    "samples_groups_optimizedmodb2.sort_values('plate')"
   ]
  },
  {
   "cell_type": "code",
   "execution_count": null,
   "metadata": {
    "ExecuteTime": {
     "end_time": "2020-06-11T16:47:06.105196Z",
     "start_time": "2020-06-11T16:47:06.090195Z"
    },
    "scrolled": true
   },
   "outputs": [],
   "source": [
    "samples_groups_optimizedb22 = samples_groups_optimizedb22.append(samples_groups_optimizedmodb2)\n",
    "samples_groups_optimizedb22[['biobank_id','plate']].groupby('plate').nunique()"
   ]
  },
  {
   "cell_type": "markdown",
   "metadata": {},
   "source": [
    "### Add Negative Controls\n",
    "Uses `batch_negative_controls()`"
   ]
  },
  {
   "cell_type": "code",
   "execution_count": null,
   "metadata": {
    "ExecuteTime": {
     "end_time": "2020-06-11T16:47:54.381111Z",
     "start_time": "2020-06-11T16:47:06.106194Z"
    }
   },
   "outputs": [],
   "source": [
    "# #Make sure batch2 negative controls are not in batch 1 negative controls\n",
    "COVID_controls_keep = pd.DataFrame(set(COVID_controls.biobank_id) - set(batch_negControls.biobank_id)).rename(columns = {0:'biobank_id'}) \n",
    "COVID_controls_keep = pd.merge(COVID_controls[['biobank_id', 'participant_id','state', 'DateBloodSampleCollected']].drop_duplicates(),\n",
    "                               COVID_controls_keep, how = 'inner')"
   ]
  },
  {
   "cell_type": "code",
   "execution_count": null,
   "metadata": {
    "ExecuteTime": {
     "end_time": "2020-06-11T16:47:54.431755Z",
     "start_time": "2020-06-11T16:47:54.381111Z"
    },
    "scrolled": true
   },
   "outputs": [],
   "source": [
    "batch_negControls2 = batch_negative_controls(ramdomized_sample_df = samples_groups_optimizedb22, batch_df = batch_n2, \n",
    "                                               negControls_master = COVID_controls_keep, \n",
    "                                               unrepeated_negControls = NegControls_perBatch,\n",
    "                                               stop1 = 70, number_plates = number_of_plates, rand_state = 6111140)\n",
    "\n",
    "batch_negControls2"
   ]
  },
  {
   "cell_type": "markdown",
   "metadata": {},
   "source": [
    "##### QC AND FIX"
   ]
  },
  {
   "cell_type": "code",
   "execution_count": null,
   "metadata": {
    "ExecuteTime": {
     "end_time": "2020-06-11T19:31:55.005547Z",
     "start_time": "2020-06-11T19:31:53.761516Z"
    }
   },
   "outputs": [],
   "source": [
    "#neg_control_dates2 = pd.merge(batch_negControls2, COVID_controls[['biobank_id','DateBloodSampleCollected']])\n",
    "neg_control_dates2.DateBloodSampleCollected.max(), neg_control_dates2.DateBloodSampleCollected.min()"
   ]
  },
  {
   "cell_type": "code",
   "execution_count": null,
   "metadata": {
    "ExecuteTime": {
     "end_time": "2020-06-11T16:47:54.441757Z",
     "start_time": "2020-06-11T16:47:54.434756Z"
    }
   },
   "outputs": [],
   "source": [
    "#Make sure batch2 negative controls are not in batch 1 negative controls\n",
    "len(set(batch_negControls.biobank_id) - set(batch_negControls2.biobank_id))\n",
    "\n",
    "#yay!"
   ]
  },
  {
   "cell_type": "code",
   "execution_count": null,
   "metadata": {
    "ExecuteTime": {
     "end_time": "2020-06-11T16:48:00.333686Z",
     "start_time": "2020-06-11T16:48:00.321684Z"
    },
    "scrolled": true
   },
   "outputs": [],
   "source": [
    "# Check that we have 4 DISTINCT PIDS per plate, even with the repeats\n",
    "check2 = batch_negControls2[['biobank_id','plate']].groupby('plate').nunique()#.drop('plate', axis = 1)\n",
    "check2.sort_values('biobank_id', ascending = False)#.tail(15)"
   ]
  },
  {
   "cell_type": "code",
   "execution_count": null,
   "metadata": {
    "ExecuteTime": {
     "end_time": "2020-06-11T16:48:00.542701Z",
     "start_time": "2020-06-11T16:48:00.540702Z"
    }
   },
   "outputs": [],
   "source": [
    "# Controlsbids_notIN_batchcontrols = pd.DataFrame(set(batch_controls_df.biobank_id) - set(negative_controls_df.biobank_id))\n",
    "# Controlsbids_notIN_batchcontrols.sample(2, random_state = 1)"
   ]
  },
  {
   "cell_type": "code",
   "execution_count": null,
   "metadata": {
    "ExecuteTime": {
     "end_time": "2020-06-11T16:48:00.792720Z",
     "start_time": "2020-06-11T16:48:00.786717Z"
    }
   },
   "outputs": [],
   "source": [
    "batch_negControls2.to_csv('../DATA/DSC2/batch2_negative_controls_'+now+'.csv')"
   ]
  },
  {
   "cell_type": "markdown",
   "metadata": {},
   "source": [
    "### Add Positive Controls"
   ]
  },
  {
   "cell_type": "markdown",
   "metadata": {},
   "source": [
    "'*Positive controls are one per plate run in duplicate per 5000 and the run again in next 5000, randomly selected across their titer levels (see below)*'"
   ]
  },
  {
   "cell_type": "code",
   "execution_count": null,
   "metadata": {
    "ExecuteTime": {
     "end_time": "2020-06-11T16:48:01.309757Z",
     "start_time": "2020-06-11T16:48:01.304754Z"
    }
   },
   "outputs": [],
   "source": [
    "## USE SAME ONES AS BATCH 1\n",
    "\n",
    "namewas = '../DATA/DSC2/positive_controls_batch'+str(1)+'_'+now+'.csv'\n",
    "namewas"
   ]
  },
  {
   "cell_type": "code",
   "execution_count": null,
   "metadata": {
    "ExecuteTime": {
     "end_time": "2020-06-11T16:48:01.505768Z",
     "start_time": "2020-06-11T16:48:01.481768Z"
    }
   },
   "outputs": [],
   "source": [
    "positive_controls_df =pd.read_csv(namewas).iloc[:, 1:]\n",
    "positive_controls_df"
   ]
  },
  {
   "cell_type": "code",
   "execution_count": null,
   "metadata": {
    "ExecuteTime": {
     "end_time": "2020-06-11T16:48:01.728781Z",
     "start_time": "2020-06-11T16:48:01.716781Z"
    }
   },
   "outputs": [],
   "source": [
    "positive_controls_df[['serology_id','plate']].groupby('plate').count().sort_values('serology_id')"
   ]
  },
  {
   "cell_type": "markdown",
   "metadata": {},
   "source": [
    "### QC Only: Check Distributios of Batches and Plates "
   ]
  },
  {
   "cell_type": "code",
   "execution_count": null,
   "metadata": {
    "ExecuteTime": {
     "end_time": "2020-06-11T16:48:02.040804Z",
     "start_time": "2020-06-11T16:48:02.027896Z"
    }
   },
   "outputs": [],
   "source": [
    "batch_controls_demog = pd.merge(COVID_controls, batch_controls_repeated[['biobank_id']], how = 'inner')#.drop('Unnamed: 0', axis =1)\n",
    "batch_controls_demog.head()\n",
    "\n",
    "for v in ['Race','state']:\n",
    "    display(get_dist(DF = batch_controls_demog, dist_var = v, group = None, groupnumber = None))"
   ]
  },
  {
   "cell_type": "markdown",
   "metadata": {},
   "source": [
    "#### Whole Batch"
   ]
  },
  {
   "cell_type": "code",
   "execution_count": null,
   "metadata": {
    "ExecuteTime": {
     "end_time": "2020-06-09T18:56:21.527294Z",
     "start_time": "2020-06-09T18:56:21.485291Z"
    }
   },
   "outputs": [],
   "source": [
    "## Checking the distribution\n",
    "batch_n_demog = pd.merge(samples_groups, master_list)\n",
    "batch_n_demog.participant_id.nunique()"
   ]
  },
  {
   "cell_type": "code",
   "execution_count": null,
   "metadata": {
    "ExecuteTime": {
     "end_time": "2020-06-09T18:56:28.042918Z",
     "start_time": "2020-06-09T18:56:28.001921Z"
    }
   },
   "outputs": [],
   "source": [
    "for v in ['race','state']:\n",
    "    display(get_dist(DF = batch_n_demog, dist_var = v, group = None, groupnumber = None))"
   ]
  },
  {
   "cell_type": "markdown",
   "metadata": {},
   "source": [
    "#### Distribution Per Plate"
   ]
  },
  {
   "cell_type": "code",
   "execution_count": null,
   "metadata": {
    "ExecuteTime": {
     "end_time": "2020-06-09T19:15:21.202594Z",
     "start_time": "2020-06-09T19:15:19.935509Z"
    }
   },
   "outputs": [],
   "source": [
    "gr = 'plate'\n",
    "DF = batch_n_demog\n",
    "\n",
    "writer = pd.ExcelWriter('../DATA/DSC2/sample_distributions_plates'+now+'.xlsx')\n",
    "for g in DF[gr].drop_duplicates():\n",
    "    #print(g)    \n",
    "    for v in ['state']: #['race','state']:\n",
    "        distribution = get_dist(DF, dist_var = v, group = gr, groupnumber = g)\n",
    "        display(distribution)\n",
    "        distribution.to_excel(writer, str(v)+'_'+str(gr)+str(g))\n",
    "                        \n",
    "writer.save()"
   ]
  },
  {
   "cell_type": "markdown",
   "metadata": {},
   "source": [
    "### FINAL DELIVERABLE\n",
    "  "
   ]
  },
  {
   "cell_type": "code",
   "execution_count": null,
   "metadata": {
    "ExecuteTime": {
     "end_time": "2020-06-11T16:48:20.651870Z",
     "start_time": "2020-06-11T16:48:20.626871Z"
    }
   },
   "outputs": [],
   "source": [
    "Serology_batch2_final2 = final_deliverable(samples_groups_optimizedb22, batch_negControls2, positive_controls_df)"
   ]
  },
  {
   "cell_type": "code",
   "execution_count": null,
   "metadata": {
    "ExecuteTime": {
     "end_time": "2020-06-11T16:48:20.833883Z",
     "start_time": "2020-06-11T16:48:20.810883Z"
    }
   },
   "outputs": [],
   "source": [
    "Serology_batch2_final2 .sort_values('plate')"
   ]
  },
  {
   "cell_type": "code",
   "execution_count": null,
   "metadata": {
    "ExecuteTime": {
     "end_time": "2020-06-11T16:48:21.038896Z",
     "start_time": "2020-06-11T16:48:21.023895Z"
    }
   },
   "outputs": [],
   "source": [
    "Serology_batch2_final2[['biobank_id','serology_id','plate']].drop_duplicates().sort_values('plate').groupby('plate').count()"
   ]
  },
  {
   "cell_type": "code",
   "execution_count": null,
   "metadata": {
    "ExecuteTime": {
     "end_time": "2020-06-11T16:48:21.253909Z",
     "start_time": "2020-06-11T16:48:21.234910Z"
    }
   },
   "outputs": [],
   "source": [
    "Serology_batch2_final_DRC2 = Serology_batch2_final2\n",
    "Serology_batch2_final_DRC2"
   ]
  },
  {
   "cell_type": "code",
   "execution_count": null,
   "metadata": {
    "ExecuteTime": {
     "end_time": "2020-06-11T16:48:24.559080Z",
     "start_time": "2020-06-11T16:48:24.552075Z"
    }
   },
   "outputs": [],
   "source": [
    "Serology_batch2_final_DRC2.biobank_id.nunique(), Serology_batch2_final_DRC2.serology_id.count()"
   ]
  },
  {
   "cell_type": "code",
   "execution_count": null,
   "metadata": {
    "ExecuteTime": {
     "end_time": "2020-06-11T16:48:25.400324Z",
     "start_time": "2020-06-11T16:48:25.395319Z"
    }
   },
   "outputs": [],
   "source": [
    "Serology_batch2_final_quest2 = Serology_batch2_final2[['biobank_id', 'serology_id', 'Description', 'Position in Rack', 'Rack',\n",
    "       'Sequence', 'location', 'plate']]"
   ]
  },
  {
   "cell_type": "markdown",
   "metadata": {},
   "source": [
    "##### last checks "
   ]
  },
  {
   "cell_type": "code",
   "execution_count": null,
   "metadata": {
    "ExecuteTime": {
     "end_time": "2020-06-11T16:48:28.666760Z",
     "start_time": "2020-06-11T16:48:28.658764Z"
    }
   },
   "outputs": [],
   "source": [
    "len(set(Serology_batch_final_quest.biobank_id) - set(Serology_batch2_final_quest2.biobank_id))"
   ]
  },
  {
   "cell_type": "markdown",
   "metadata": {},
   "source": [
    "#### Save Final Deliverable"
   ]
  },
  {
   "cell_type": "code",
   "execution_count": null,
   "metadata": {
    "ExecuteTime": {
     "end_time": "2020-06-11T16:48:44.412806Z",
     "start_time": "2020-06-11T16:48:44.408806Z"
    }
   },
   "outputs": [],
   "source": [
    "batch_number = 2"
   ]
  },
  {
   "cell_type": "code",
   "execution_count": null,
   "metadata": {
    "ExecuteTime": {
     "end_time": "2020-06-11T16:48:44.811751Z",
     "start_time": "2020-06-11T16:48:44.758749Z"
    }
   },
   "outputs": [],
   "source": [
    "Serology_batch2_final_DRC2.to_csv('../DATA/DSC2/DRC_Serology_batch'+str(batch_number)+'_'+now+'.csv', index = False)\n",
    "\n",
    "#for quest, must mask positive  aand nnegative controls\n",
    "Serology_batch2_final_quest2.to_csv('../DATA/DSC2/Quest_Serology_batch'+str(batch_number)+'_'+now+'.csv', index = False)\n"
   ]
  },
  {
   "cell_type": "code",
   "execution_count": null,
   "metadata": {
    "ExecuteTime": {
     "end_time": "2020-06-11T16:48:58.985436Z",
     "start_time": "2020-06-11T16:48:58.980433Z"
    }
   },
   "outputs": [],
   "source": [
    "5290+150"
   ]
  },
  {
   "cell_type": "markdown",
   "metadata": {},
   "source": [
    "# Random"
   ]
  },
  {
   "cell_type": "code",
   "execution_count": null,
   "metadata": {
    "ExecuteTime": {
     "end_time": "2020-06-12T21:38:45.150432Z",
     "start_time": "2020-06-12T21:38:45.143430Z"
    }
   },
   "outputs": [],
   "source": [
    "positive_controls = pd.read_csv('../DATA\\\\DSC2\\\\VandiCOVIDPositiveControls_2020-06-10_11.38.52.csv')"
   ]
  },
  {
   "cell_type": "code",
   "execution_count": null,
   "metadata": {
    "ExecuteTime": {
     "end_time": "2020-06-12T21:39:20.705997Z",
     "start_time": "2020-06-12T21:39:20.691994Z"
    }
   },
   "outputs": [],
   "source": [
    "batch1_2_posControls = pd.read_csv('../DATA\\DSC2\\positive_controls_batch1_2020-06-10_23.51.57.csv')"
   ]
  },
  {
   "cell_type": "code",
   "execution_count": null,
   "metadata": {
    "ExecuteTime": {
     "end_time": "2020-06-12T21:42:04.285563Z",
     "start_time": "2020-06-12T21:42:04.276558Z"
    }
   },
   "outputs": [],
   "source": [
    "remaining_posControls = pd.DataFrame(set(positive_controls['Sample ID']) - set(batch1_2_posControls['Sample ID']))\n",
    "remaining_posControls.columns = ['Sample ID']\n",
    "remaining_posControls = pd.merge(remaining_posControls, positive_controls)"
   ]
  },
  {
   "cell_type": "code",
   "execution_count": null,
   "metadata": {
    "ExecuteTime": {
     "end_time": "2020-06-12T21:45:04.952462Z",
     "start_time": "2020-06-12T21:45:04.948487Z"
    }
   },
   "outputs": [],
   "source": [
    "remaining_posControls['Total vol (ml)'].sum()"
   ]
  },
  {
   "cell_type": "code",
   "execution_count": null,
   "metadata": {
    "ExecuteTime": {
     "end_time": "2020-06-12T21:53:31.494078Z",
     "start_time": "2020-06-12T21:53:31.488084Z"
    }
   },
   "outputs": [],
   "source": [
    "16*22, 200/22, 400/22"
   ]
  },
  {
   "cell_type": "code",
   "execution_count": null,
   "metadata": {
    "ExecuteTime": {
     "end_time": "2020-06-12T21:52:53.183973Z",
     "start_time": "2020-06-12T21:52:53.179977Z"
    }
   },
   "outputs": [],
   "source": [
    "10*5, 10*22"
   ]
  },
  {
   "cell_type": "code",
   "execution_count": null,
   "metadata": {
    "ExecuteTime": {
     "end_time": "2020-06-12T21:53:45.107730Z",
     "start_time": "2020-06-12T21:53:45.103733Z"
    }
   },
   "outputs": [],
   "source": [
    "19*5, "
   ]
  },
  {
   "cell_type": "markdown",
   "metadata": {},
   "source": [
    "# **NEW** June 15, 2020 - Removing 538648580 from the negative conrol list and replacing with a new one.\n",
    "Also add back Sample ID column to batches/ save latest batch files\n",
    "Need to ensure it is not in previous batch 1 or batch 2 negative controls"
   ]
  },
  {
   "cell_type": "code",
   "execution_count": null,
   "metadata": {
    "ExecuteTime": {
     "end_time": "2020-06-24T20:46:33.802977Z",
     "start_time": "2020-06-24T20:46:33.799971Z"
    }
   },
   "outputs": [],
   "source": [
    "#fileset[1], fileset[3]"
   ]
  },
  {
   "cell_type": "code",
   "execution_count": null,
   "metadata": {
    "ExecuteTime": {
     "end_time": "2020-06-15T16:33:28.418142Z",
     "start_time": "2020-06-15T16:33:27.718698Z"
    }
   },
   "outputs": [],
   "source": [
    "batch1_neg_controls = pd.read_csv(fileset[1])\n",
    "batch2_neg_controls = pd.read_csv(fileset[3])"
   ]
  },
  {
   "cell_type": "code",
   "execution_count": null,
   "metadata": {
    "ExecuteTime": {
     "end_time": "2020-06-15T16:33:30.344760Z",
     "start_time": "2020-06-15T16:33:30.335761Z"
    }
   },
   "outputs": [],
   "source": [
    "COVID_controls.head()"
   ]
  },
  {
   "cell_type": "code",
   "execution_count": null,
   "metadata": {
    "ExecuteTime": {
     "end_time": "2020-06-15T16:33:33.575950Z",
     "start_time": "2020-06-15T16:33:33.570944Z"
    }
   },
   "outputs": [],
   "source": [
    "batch1_neg_controls_BIDS = batch1_neg_controls[['biobank_id']]\n",
    "batch2_neg_controls_BIDS = batch2_neg_controls[['biobank_id']]"
   ]
  },
  {
   "cell_type": "code",
   "execution_count": null,
   "metadata": {
    "ExecuteTime": {
     "end_time": "2020-06-15T16:34:11.647649Z",
     "start_time": "2020-06-15T16:34:11.628639Z"
    }
   },
   "outputs": [],
   "source": [
    "rep_BID = pd.DataFrame(set(COVID_controls.biobank_id) - set(batch1_neg_controls_BIDS) - set(batch2_neg_controls_BIDS))\n",
    "rep_BID.columns = ['biobank_id']\n",
    "rep_BID[rep_BID.state]"
   ]
  },
  {
   "cell_type": "code",
   "execution_count": null,
   "metadata": {
    "ExecuteTime": {
     "end_time": "2020-06-15T16:47:58.232190Z",
     "start_time": "2020-06-15T16:47:58.224184Z"
    }
   },
   "outputs": [],
   "source": [
    "COVID_controls[COVID_controls.biobank_id == 347865106]"
   ]
  },
  {
   "cell_type": "markdown",
   "metadata": {},
   "source": [
    "##### Replacing id in batch 1 and adding the Sample Ids back"
   ]
  },
  {
   "cell_type": "code",
   "execution_count": null,
   "metadata": {
    "ExecuteTime": {
     "end_time": "2020-06-15T16:43:43.094333Z",
     "start_time": "2020-06-15T16:43:43.070338Z"
    }
   },
   "outputs": [],
   "source": [
    "batch1 = pd.read_csv('../DATA\\DSC2\\Quest_Serology_batch1_2020-06-10_23.51.57.csv')\n",
    "batch2 = pd.read_csv('../DATA\\DSC2\\Quest_Serology_batch2_2020-06-10_23.51.57.csv')"
   ]
  },
  {
   "cell_type": "code",
   "execution_count": null,
   "metadata": {
    "ExecuteTime": {
     "end_time": "2020-06-15T16:43:47.999709Z",
     "start_time": "2020-06-15T16:43:47.995706Z"
    }
   },
   "outputs": [],
   "source": [
    "batch1.shape, batch2.shape, "
   ]
  },
  {
   "cell_type": "code",
   "execution_count": null,
   "metadata": {
    "ExecuteTime": {
     "end_time": "2020-06-15T16:43:45.405486Z",
     "start_time": "2020-06-15T16:43:45.386484Z"
    }
   },
   "outputs": [],
   "source": [
    "batch1 = batch1.merge(positive_controls[['serology_id','Sample ID']].drop_duplicates(), how = 'outer')\n",
    "batch2 = batch2.merge(positive_controls[['serology_id','Sample ID']].drop_duplicates(), how = 'outer')"
   ]
  },
  {
   "cell_type": "code",
   "execution_count": null,
   "metadata": {
    "ExecuteTime": {
     "end_time": "2020-06-15T16:49:26.896812Z",
     "start_time": "2020-06-15T16:49:26.886812Z"
    }
   },
   "outputs": [],
   "source": [
    "## REPLACING 538648580 in batch 1 with 347865106\n",
    "batch1.loc[batch1.biobank_id == 538648580, 'biobank_id'] = 347865106"
   ]
  },
  {
   "cell_type": "code",
   "execution_count": null,
   "metadata": {
    "ExecuteTime": {
     "end_time": "2020-06-15T16:49:54.162565Z",
     "start_time": "2020-06-15T16:49:54.151564Z"
    }
   },
   "outputs": [],
   "source": [
    "batch1[batch1.biobank_id == 347865106 ]"
   ]
  },
  {
   "cell_type": "code",
   "execution_count": null,
   "metadata": {
    "ExecuteTime": {
     "end_time": "2020-06-15T16:50:42.761482Z",
     "start_time": "2020-06-15T16:50:42.753480Z"
    }
   },
   "outputs": [],
   "source": [
    "batch2[batch2.biobank_id == 347865106]"
   ]
  },
  {
   "cell_type": "code",
   "execution_count": null,
   "metadata": {
    "ExecuteTime": {
     "end_time": "2020-06-15T16:52:04.378902Z",
     "start_time": "2020-06-15T16:52:04.312895Z"
    }
   },
   "outputs": [],
   "source": [
    "#for quest, must mask positive  aand nnegative controls\n",
    "batch2.to_csv('../DATA/DSC2/Quest_Serology_batch'+str(2)+'_'+now+'.csv', index = False)\n",
    "#for quest, must mask positive  aand nnegative controls\n",
    "batch1.to_csv('../DATA/DSC2/Quest_Serology_batch'+str(1)+'_'+now+'.csv', index = False)\n"
   ]
  },
  {
   "cell_type": "markdown",
   "metadata": {},
   "source": [
    "### 06_16_2020 iDENTIFYING NEG CONTROS IN BATCH"
   ]
  },
  {
   "cell_type": "code",
   "execution_count": null,
   "metadata": {
    "ExecuteTime": {
     "end_time": "2020-06-16T17:52:47.431867Z",
     "start_time": "2020-06-16T17:52:47.427866Z"
    }
   },
   "outputs": [],
   "source": [
    "fileset[12], fileset[14]"
   ]
  },
  {
   "cell_type": "code",
   "execution_count": null,
   "metadata": {
    "ExecuteTime": {
     "end_time": "2020-06-16T18:10:56.879824Z",
     "start_time": "2020-06-16T18:10:56.859823Z"
    }
   },
   "outputs": [],
   "source": [
    "batch1 = pd.read_csv(fileset[12])\n",
    "batch2 = pd.read_csv(fileset[14])"
   ]
  },
  {
   "cell_type": "code",
   "execution_count": null,
   "metadata": {
    "ExecuteTime": {
     "end_time": "2020-06-16T18:10:57.090836Z",
     "start_time": "2020-06-16T18:10:57.086834Z"
    }
   },
   "outputs": [],
   "source": [
    "batch1.shape, batch2.shape"
   ]
  },
  {
   "cell_type": "code",
   "execution_count": null,
   "metadata": {
    "ExecuteTime": {
     "end_time": "2020-06-16T18:10:59.555444Z",
     "start_time": "2020-06-16T18:10:59.533440Z"
    }
   },
   "outputs": [],
   "source": [
    "batch1_neg_controls = pd.merge(batch1[['biobank_id', 'plate']], COVID_controls[['biobank_id']])\n",
    "batch1_neg_controls['negative control'] = 'yes'\n",
    "batch1 = batch1.merge(batch1_neg_controls, 'outer')\n",
    "batch1['negative control'] = batch1['negative control'].fillna('No')\n",
    "\n",
    "\n",
    "batch1.shape, batch1_neg_controls.shape"
   ]
  },
  {
   "cell_type": "code",
   "execution_count": null,
   "metadata": {
    "ExecuteTime": {
     "end_time": "2020-06-16T18:11:29.496871Z",
     "start_time": "2020-06-16T18:11:29.472868Z"
    }
   },
   "outputs": [],
   "source": [
    "batch2_neg_controls = pd.merge(batch2[['biobank_id', 'plate']], COVID_controls[['biobank_id']])\n",
    "batch2_neg_controls['negative control'] = 'yes'\n",
    "batch2 = batch2.merge(batch2_neg_controls.drop_duplicates(), 'outer')\n",
    "batch2['negative control'] = batch2['negative control'].fillna('No')\n",
    "\n",
    "batch2.shape, batch2_neg_controls.shape"
   ]
  },
  {
   "cell_type": "code",
   "execution_count": null,
   "metadata": {
    "ExecuteTime": {
     "end_time": "2020-06-16T18:11:31.975897Z",
     "start_time": "2020-06-16T18:11:31.965892Z"
    }
   },
   "outputs": [],
   "source": [
    "len(set(batch1.biobank_id.dropna()) - set(batch2.biobank_id.dropna()))"
   ]
  },
  {
   "cell_type": "code",
   "execution_count": null,
   "metadata": {
    "ExecuteTime": {
     "end_time": "2020-06-16T18:11:42.172707Z",
     "start_time": "2020-06-16T18:11:42.152706Z"
    }
   },
   "outputs": [],
   "source": [
    "batch2"
   ]
  },
  {
   "cell_type": "code",
   "execution_count": null,
   "metadata": {
    "ExecuteTime": {
     "end_time": "2020-06-16T18:11:46.496951Z",
     "start_time": "2020-06-16T18:11:46.439946Z"
    }
   },
   "outputs": [],
   "source": [
    "batch2.to_csv('../DATA/DSC2/Quest_Serology_batch'+str(2)+'_'+now+'.csv', index = False)\n",
    "batch1.to_csv('../DATA/DSC2/Quest_Serology_batch'+str(1)+'_'+now+'.csv', index = False)"
   ]
  },
  {
   "cell_type": "code",
   "execution_count": null,
   "metadata": {
    "ExecuteTime": {
     "end_time": "2020-06-16T18:15:37.397689Z",
     "start_time": "2020-06-16T18:15:37.384686Z"
    }
   },
   "outputs": [],
   "source": [
    "batch1[['biobank_id','negative control']].groupby('negative control').nunique()"
   ]
  },
  {
   "cell_type": "markdown",
   "metadata": {},
   "source": [
    "## June 23, 2020 - Checking excel file that biobank send us \n",
    "\n",
    "Checking that the negs and pos controls are roughly 'random' and not al lin same wells"
   ]
  },
  {
   "cell_type": "code",
   "execution_count": null,
   "metadata": {
    "ExecuteTime": {
     "end_time": "2020-06-30T20:45:02.321308Z",
     "start_time": "2020-06-30T20:45:02.281303Z"
    }
   },
   "outputs": [],
   "source": [
    "coll_map = pd.read_csv('../DATA/DSC2/Collective Children Plate Maps.csv')\n",
    "bids_coll_map = coll_map[coll_map['Biobank ID'].str.startswith('A')]\n",
    "                \n",
    "                #= [int(i.split('A')[1]) for i in coll_map['Biobank ID']]\n",
    "\n",
    "bids_coll_map['biobank_id'] = [int(i.split('A')[1]) for i in bids_coll_map['Biobank ID']]\n",
    "bids_coll_map"
   ]
  },
  {
   "cell_type": "code",
   "execution_count": null,
   "metadata": {
    "ExecuteTime": {
     "end_time": "2020-06-30T20:45:31.135398Z",
     "start_time": "2020-06-30T20:45:31.132396Z"
    }
   },
   "outputs": [],
   "source": [
    "# bids_coll_map = pd.merge(bids_coll_map, batch1_david)\n",
    "# bids_coll_map_neg = bids_coll_map[bids_coll_map['negative control'] == 'yes']\n",
    "# #bids_coll_map_neg[['plate','biobank_id']].groupby(['plate']).nunique()\n",
    "\n",
    "# bids_coll_map_neg"
   ]
  },
  {
   "cell_type": "code",
   "execution_count": null,
   "metadata": {
    "ExecuteTime": {
     "end_time": "2020-06-30T20:46:49.971453Z",
     "start_time": "2020-06-30T20:46:49.950452Z"
    }
   },
   "outputs": [],
   "source": [
    "pos_coll_map = coll_map[~coll_map['Biobank ID'].str.startswith('A')]\n",
    "pos_coll_map = pos_coll_map.rename(columns = {'Biobank ID':'Sample ID'})\n"
   ]
  },
  {
   "cell_type": "code",
   "execution_count": null,
   "metadata": {
    "ExecuteTime": {
     "end_time": "2020-06-30T20:49:33.494318Z",
     "start_time": "2020-06-30T20:49:33.471315Z"
    }
   },
   "outputs": [],
   "source": [
    "coll_map_DRC = pd.concat([bids_coll_map, pos_coll_map], sort=True)\n",
    "coll_map_DRC"
   ]
  },
  {
   "cell_type": "code",
   "execution_count": null,
   "metadata": {
    "ExecuteTime": {
     "end_time": "2020-06-30T20:49:50.949816Z",
     "start_time": "2020-06-30T20:49:50.946817Z"
    }
   },
   "outputs": [],
   "source": [
    "#pos_coll_map = pd.merge(pos_coll_map, batch1)\n",
    "#pos_coll_map[['Plate ID','Biobank ID']].groupby(['Plate ID']).nunique()"
   ]
  },
  {
   "cell_type": "code",
   "execution_count": null,
   "metadata": {
    "ExecuteTime": {
     "end_time": "2020-06-30T20:49:54.628998Z",
     "start_time": "2020-06-30T20:49:54.626994Z"
    }
   },
   "outputs": [],
   "source": [
    "#bids_coll_map"
   ]
  },
  {
   "cell_type": "code",
   "execution_count": null,
   "metadata": {
    "ExecuteTime": {
     "end_time": "2020-06-30T20:24:27.031282Z",
     "start_time": "2020-06-30T20:24:27.021285Z"
    }
   },
   "outputs": [],
   "source": [
    "bids_coll_map['Biobank ID'].sort_values()"
   ]
  },
  {
   "cell_type": "markdown",
   "metadata": {},
   "source": [
    "#### Check that the Sample Id they sent actualy are the corresponding sample Ids"
   ]
  },
  {
   "cell_type": "code",
   "execution_count": null,
   "metadata": {
    "ExecuteTime": {
     "end_time": "2020-06-30T19:37:04.474852Z",
     "start_time": "2020-06-30T19:37:04.469852Z"
    }
   },
   "outputs": [],
   "source": [
    "fileset[10]"
   ]
  },
  {
   "cell_type": "code",
   "execution_count": null,
   "metadata": {
    "ExecuteTime": {
     "end_time": "2020-06-30T16:47:07.223347Z",
     "start_time": "2020-06-30T16:47:07.191340Z"
    },
    "scrolled": true
   },
   "outputs": [],
   "source": [
    "batch1 = pd.read_csv(fileset[10])\n",
    "batch1"
   ]
  },
  {
   "cell_type": "code",
   "execution_count": null,
   "metadata": {
    "ExecuteTime": {
     "end_time": "2020-06-30T17:00:03.011197Z",
     "start_time": "2020-06-30T17:00:03.000212Z"
    }
   },
   "outputs": [],
   "source": [
    "set(batch1.biobank_id.dropna()) - set(bids_coll_map.biobank_id.dropna())"
   ]
  },
  {
   "cell_type": "code",
   "execution_count": null,
   "metadata": {
    "ExecuteTime": {
     "end_time": "2020-06-30T17:02:03.455631Z",
     "start_time": "2020-06-30T17:02:03.417625Z"
    }
   },
   "outputs": [],
   "source": [
    "pd.merge(master_list[['biobank_id','participant_id']], batch1, on = 'biobank_id')[['biobank_id']].nunique()"
   ]
  },
  {
   "cell_type": "markdown",
   "metadata": {},
   "source": [
    "## June 30,2020 Files for David's analysis - 6/30/2020"
   ]
  },
  {
   "cell_type": "code",
   "execution_count": null,
   "metadata": {
    "ExecuteTime": {
     "end_time": "2020-06-30T19:40:39.548880Z",
     "start_time": "2020-06-30T19:40:39.545873Z"
    }
   },
   "outputs": [],
   "source": [
    "### Batch1\n",
    "fileset[12], fileset[8], fileset[2]"
   ]
  },
  {
   "cell_type": "code",
   "execution_count": null,
   "metadata": {
    "ExecuteTime": {
     "end_time": "2020-06-30T19:47:50.732742Z",
     "start_time": "2020-06-30T19:47:50.703739Z"
    }
   },
   "outputs": [],
   "source": [
    "batch1 = pd.read_csv(fileset[12])\n",
    "batch1"
   ]
  },
  {
   "cell_type": "code",
   "execution_count": null,
   "metadata": {
    "ExecuteTime": {
     "end_time": "2020-06-30T19:59:39.787971Z",
     "start_time": "2020-06-30T19:59:36.622768Z"
    }
   },
   "outputs": [],
   "source": [
    "pids_4negcontrols_batch1 = pd.read_sql('''SELECT distinct participant_id, biobank_id\n",
    "FROM participant_summary''', cnx)#.merge(pd.read_csv(fileset[8])[['biobank_id']])"
   ]
  },
  {
   "cell_type": "code",
   "execution_count": null,
   "metadata": {
    "ExecuteTime": {
     "end_time": "2020-06-30T19:59:55.685026Z",
     "start_time": "2020-06-30T19:59:55.553016Z"
    }
   },
   "outputs": [],
   "source": [
    "batch1_david = pd.merge(batch1, pids_4negcontrols_batch1, 'left')#'merge(pids_4negcontrols_batch1, 'left')"
   ]
  },
  {
   "cell_type": "code",
   "execution_count": null,
   "metadata": {
    "ExecuteTime": {
     "end_time": "2020-06-30T19:59:57.841942Z",
     "start_time": "2020-06-30T19:59:57.817942Z"
    }
   },
   "outputs": [],
   "source": [
    "batch1_david"
   ]
  },
  {
   "cell_type": "markdown",
   "metadata": {},
   "source": [
    "#### merging with file from biobank"
   ]
  },
  {
   "cell_type": "code",
   "execution_count": null,
   "metadata": {
    "ExecuteTime": {
     "end_time": "2020-06-30T20:00:01.090112Z",
     "start_time": "2020-06-30T20:00:01.084110Z"
    }
   },
   "outputs": [],
   "source": [
    "#batch1_david  = batch1_david.drop(['serology_id'], axis = 1)"
   ]
  },
  {
   "cell_type": "code",
   "execution_count": null,
   "metadata": {
    "ExecuteTime": {
     "end_time": "2020-06-30T20:00:07.137882Z",
     "start_time": "2020-06-30T20:00:07.099881Z"
    }
   },
   "outputs": [],
   "source": [
    "#batch1_david.to_csv('../DATA\\\\DSC2\\\\Quest_Serology_batch1_2020-06-16_13.07.28_David.csv')"
   ]
  },
  {
   "cell_type": "code",
   "execution_count": null,
   "metadata": {
    "ExecuteTime": {
     "end_time": "2020-06-30T20:50:41.185167Z",
     "start_time": "2020-06-30T20:50:41.154166Z"
    }
   },
   "outputs": [],
   "source": [
    "batch1_david = pd.read_csv(fileset[13])\n",
    "batch1_david"
   ]
  },
  {
   "cell_type": "code",
   "execution_count": null,
   "metadata": {
    "ExecuteTime": {
     "end_time": "2020-06-30T20:51:01.671703Z",
     "start_time": "2020-06-30T20:51:01.653700Z"
    }
   },
   "outputs": [],
   "source": [
    "coll_map_DRC"
   ]
  },
  {
   "cell_type": "code",
   "execution_count": null,
   "metadata": {
    "ExecuteTime": {
     "end_time": "2020-06-30T20:52:25.320428Z",
     "start_time": "2020-06-30T20:52:25.281425Z"
    }
   },
   "outputs": [],
   "source": [
    "batch1_david2 = pd.merge(batch1_david, coll_map_DRC)\n",
    "batch1_david2"
   ]
  },
  {
   "cell_type": "code",
   "execution_count": null,
   "metadata": {
    "ExecuteTime": {
     "end_time": "2020-06-30T21:09:10.712929Z",
     "start_time": "2020-06-30T21:09:10.697927Z"
    }
   },
   "outputs": [],
   "source": [
    "Quest_AoU_Flat_map = pd.read_csv('../DATA/DSC2/Quest_AoU_Flat_20200630_map.csv').drop_duplicates()\n",
    "Quest_AoU_Flat_map"
   ]
  },
  {
   "cell_type": "code",
   "execution_count": null,
   "metadata": {
    "ExecuteTime": {
     "end_time": "2020-07-01T20:33:21.900195Z",
     "start_time": "2020-07-01T20:33:21.810193Z"
    }
   },
   "outputs": [],
   "source": [
    "import pandas as pd\n",
    "\n",
    "coll_map = pd.read_csv('../DATA/DSC2/Collective Children Plate Maps.csv')\n",
    "\n",
    "bids_coll_map = coll_map[coll_map['Biobank ID'].str.startswith('A')]\n",
    "bids_coll_map['biobank_id'] = [int(i.split('A')[1]) for i in bids_coll_map['Biobank ID']]\n",
    "pos_coll_map = coll_map[~coll_map['Biobank ID'].str.startswith('A')]\n",
    "pos_coll_map = pos_coll_map.rename(columns = {'Biobank ID':'Sample ID'})\n",
    "coll_map_DRC = pd.concat([bids_coll_map, pos_coll_map], sort=True)\n",
    "\n",
    "batch1_david = pd.read_csv('../DATA\\\\DSC2\\\\Quest_Serology_batch1_2020-06-16_13.07.28_David.csv')\n",
    "batch1_david2 = pd.merge(batch1_david, coll_map_DRC)\n",
    "\n",
    "Quest_AoU_Flat_map = pd.read_csv('../DATA/DSC2/Quest_AoU_Flat_20200630_map.csv')[['Specimen ID','Matrix Tube ID',\n",
    "                                                                                  'DOS']].drop_duplicates()\n",
    "## nb: `Quest_AoU_Flat_20200630_map.csv`this file is just the first 3 columns of th eflat file they sent\n",
    "\n",
    "Quest_AoU_Flat_map= Quest_AoU_Flat_map.rename(columns = {'Specimen ID':\"Sample Id\"})  #'Specimen ID' = \"Sample Id\"\n",
    "\n",
    "batch1_david3 = pd.merge(batch1_david2[['biobank_id','participant_id',\n",
    "                                       #'Sample ID',\n",
    "                                        'negative control', 'positive control', \n",
    "                                        'Biobank ID', 'Collection Date','Matrix (Tube) ID', \n",
    "                                        'Plate ID', 'Quantity (uL)', 'Sample Id',\n",
    "       'Sample Type', 'Storage Location']].drop_duplicates(), Quest_AoU_Flat_map, on = 'Sample Id', how = 'right').drop_duplicates()\n",
    "\n",
    "\n",
    "batch1_david3.to_csv('../DATA/DSC2/Quest_batch1_returned_results_merged.csv')\n",
    "\n",
    "#NB: I dropped and rearranged some columns manually in the saved CSV. You can do that in Python direftly if you wanr.\n",
    "# Also i renamed the \"Sample Id\" bac to 'Specimen ID'"
   ]
  },
  {
   "cell_type": "code",
   "execution_count": null,
   "metadata": {
    "ExecuteTime": {
     "end_time": "2020-06-30T21:09:16.695835Z",
     "start_time": "2020-06-30T21:09:16.690835Z"
    }
   },
   "outputs": [],
   "source": [
    "Quest_AoU_Flat_map= Quest_AoU_Flat_map.rename(columns = {'Specimen ID':\"Sample Id\"})"
   ]
  },
  {
   "cell_type": "code",
   "execution_count": null,
   "metadata": {
    "ExecuteTime": {
     "end_time": "2020-06-30T21:10:39.862899Z",
     "start_time": "2020-06-30T21:10:39.858899Z"
    }
   },
   "outputs": [],
   "source": [
    "batch1_david2.columns"
   ]
  },
  {
   "cell_type": "code",
   "execution_count": null,
   "metadata": {
    "ExecuteTime": {
     "end_time": "2020-06-30T21:12:32.866365Z",
     "start_time": "2020-06-30T21:12:32.824362Z"
    }
   },
   "outputs": [],
   "source": [
    "batch1_david3 = pd.merge(batch1_david2[['biobank_id','participant_id',\n",
    "                                       'Sample ID',\n",
    "       'negative control', 'positive control', 'Biobank ID', 'Collection Date',\n",
    "       'Matrix (Tube) ID', 'Plate ID', 'Quantity (uL)', 'Sample Id',\n",
    "       'Sample Type', 'Storage Location']].drop_duplicates(), Quest_AoU_Flat_map, on = 'Sample Id', how = 'right').drop_duplicates()\n"
   ]
  },
  {
   "cell_type": "code",
   "execution_count": null,
   "metadata": {
    "ExecuteTime": {
     "end_time": "2020-06-30T21:12:33.821812Z",
     "start_time": "2020-06-30T21:12:33.757808Z"
    }
   },
   "outputs": [],
   "source": [
    "batch1_david2.to_csv('../DATA/DSC2/Quest_Serology_batch1_2020-06-16_13.07.28_David..csv')\n",
    "batch1_david3.to_csv('../DATA/DSC2/Quest_batch1_returned_results_merged.csv')"
   ]
  },
  {
   "cell_type": "markdown",
   "metadata": {},
   "source": [
    "### Get demographics for batch1"
   ]
  },
  {
   "cell_type": "code",
   "execution_count": null,
   "metadata": {
    "ExecuteTime": {
     "end_time": "2020-07-01T14:33:40.592529Z",
     "start_time": "2020-07-01T14:33:40.577530Z"
    }
   },
   "outputs": [],
   "source": [
    "batch1_david2 = pd.read_csv('../DATA\\DSC2\\Quest_Serology_batch1_2020-06-16_13.07.28_David.csv')"
   ]
  },
  {
   "cell_type": "code",
   "execution_count": null,
   "metadata": {
    "ExecuteTime": {
     "end_time": "2020-07-01T14:46:26.306360Z",
     "start_time": "2020-07-01T14:46:26.214353Z"
    }
   },
   "outputs": [],
   "source": [
    "batch1_david2_demog = pd.merge(batch1_david2, master_list, 'left')\n",
    "batch1_david2_demog"
   ]
  },
  {
   "cell_type": "code",
   "execution_count": null,
   "metadata": {
    "ExecuteTime": {
     "end_time": "2020-07-01T15:15:33.513840Z",
     "start_time": "2020-07-01T15:15:26.489601Z"
    }
   },
   "outputs": [],
   "source": [
    "batch1_david2_demog = pd.read_sql('''Select distinct participant_id, biobank_id, \n",
    "                display_name as hpo, hpo_id\n",
    "                from hpo\n",
    "                inner join participant_summary USING(hpo_id)''', cnx).merge(batch1_david2_demog).drop('hpo_id', axis = 1)"
   ]
  },
  {
   "cell_type": "code",
   "execution_count": null,
   "metadata": {
    "ExecuteTime": {
     "end_time": "2020-07-01T15:15:33.553844Z",
     "start_time": "2020-07-01T15:15:33.514840Z"
    }
   },
   "outputs": [],
   "source": [
    "batch1_david2_demog"
   ]
  },
  {
   "cell_type": "code",
   "execution_count": null,
   "metadata": {
    "ExecuteTime": {
     "end_time": "2020-07-01T15:16:01.160012Z",
     "start_time": "2020-07-01T15:16:01.138009Z"
    }
   },
   "outputs": [],
   "source": [
    "batch1_david2[batch1_david2['negative control'] == 'yes']"
   ]
  },
  {
   "cell_type": "code",
   "execution_count": null,
   "metadata": {
    "ExecuteTime": {
     "end_time": "2020-07-01T15:16:02.659012Z",
     "start_time": "2020-07-01T15:16:02.645009Z"
    }
   },
   "outputs": [],
   "source": [
    "bach1_negative_controls_demographics = pd.merge(batch1_david2[batch1_david2['negative control'] == 'yes'][['biobank_id','participant_id']].drop_duplicates(), COVID_controls)"
   ]
  },
  {
   "cell_type": "code",
   "execution_count": null,
   "metadata": {
    "ExecuteTime": {
     "end_time": "2020-07-01T15:16:03.282053Z",
     "start_time": "2020-07-01T15:16:03.260053Z"
    }
   },
   "outputs": [],
   "source": [
    "bach1_negative_controls_demographics"
   ]
  },
  {
   "cell_type": "code",
   "execution_count": null,
   "metadata": {
    "ExecuteTime": {
     "end_time": "2020-07-01T15:17:00.210640Z",
     "start_time": "2020-07-01T15:16:53.478407Z"
    }
   },
   "outputs": [],
   "source": [
    "bach1_negative_controls_demographics = pd.read_sql('''Select distinct participant_id, biobank_id, \n",
    "                display_name as hpo, hpo_id\n",
    "                from hpo\n",
    "                inner join participant_summary USING(hpo_id)''', cnx).merge(bach1_negative_controls_demographics.drop('hpo', axis = 1)).drop('hpo_id', axis = 1)"
   ]
  },
  {
   "cell_type": "code",
   "execution_count": null,
   "metadata": {
    "ExecuteTime": {
     "end_time": "2020-07-01T15:17:02.138240Z",
     "start_time": "2020-07-01T15:17:01.977229Z"
    }
   },
   "outputs": [],
   "source": [
    "bach1_negative_controls_demographics = pd.read_sql('''\n",
    "Select display as SexAtBirth, code_id as sex_id\n",
    "FROM code\n",
    "\n",
    "''', cnx).merge(bach1_negative_controls_demographics).drop('sex_id', axis = 1)\n",
    "\n",
    "bach1_negative_controls_demographics.head()"
   ]
  },
  {
   "cell_type": "code",
   "execution_count": null,
   "metadata": {
    "ExecuteTime": {
     "end_time": "2020-07-01T15:17:06.786859Z",
     "start_time": "2020-07-01T15:17:06.629820Z"
    }
   },
   "outputs": [],
   "source": [
    "bach1_negative_controls_demographics = pd.read_sql('''\n",
    "Select display as GenderIdentity, code_id as gender_identity_id\n",
    "FROM code\n",
    "\n",
    "''', cnx).merge(bach1_negative_controls_demographics).drop('gender_identity_id', axis = 1)\n",
    "\n",
    "bach1_negative_controls_demographics.head()"
   ]
  },
  {
   "cell_type": "code",
   "execution_count": null,
   "metadata": {
    "ExecuteTime": {
     "end_time": "2020-07-01T15:17:06.866840Z",
     "start_time": "2020-07-01T15:17:06.861836Z"
    }
   },
   "outputs": [],
   "source": [
    "r = Race()\n",
    "r.columns = ['race','Race']"
   ]
  },
  {
   "cell_type": "code",
   "execution_count": null,
   "metadata": {
    "ExecuteTime": {
     "end_time": "2020-07-01T15:17:20.072686Z",
     "start_time": "2020-07-01T15:17:19.906078Z"
    }
   },
   "outputs": [],
   "source": [
    "bach1_negative_controls_demographics = pd.read_sql('''\n",
    "Select display as SexualOrientation, code_id as sexual_orientation_id\n",
    "FROM code\n",
    "\n",
    "''', cnx).merge(bach1_negative_controls_demographics).drop(['sexual_orientation_id'], axis = 1).merge(r).drop('Race', axis = 1)\n",
    "\n",
    "bach1_negative_controls_demographics.head()"
   ]
  },
  {
   "cell_type": "code",
   "execution_count": null,
   "metadata": {
    "ExecuteTime": {
     "end_time": "2020-07-01T15:17:23.160552Z",
     "start_time": "2020-07-01T15:17:23.124550Z"
    }
   },
   "outputs": [],
   "source": [
    "batch1_demog = pd.merge(batch1_david2_demog, bach1_negative_controls_demographics, 'outer')\n",
    "batch1_demog.columns"
   ]
  },
  {
   "cell_type": "code",
   "execution_count": null,
   "metadata": {
    "ExecuteTime": {
     "end_time": "2020-07-01T15:17:24.504202Z",
     "start_time": "2020-07-01T15:17:24.499200Z"
    }
   },
   "outputs": [],
   "source": [
    "batch1_david2_demog.biobank_id.nunique()"
   ]
  },
  {
   "cell_type": "code",
   "execution_count": null,
   "metadata": {
    "ExecuteTime": {
     "end_time": "2020-07-01T15:17:25.248016Z",
     "start_time": "2020-07-01T15:17:25.239015Z"
    }
   },
   "outputs": [],
   "source": [
    "set(batch1_david2.biobank_id.dropna()) - set(batch1_david2_demog.biobank_id.dropna()) "
   ]
  },
  {
   "cell_type": "code",
   "execution_count": null,
   "metadata": {
    "ExecuteTime": {
     "end_time": "2020-07-01T15:17:37.390526Z",
     "start_time": "2020-07-01T15:17:37.315524Z"
    }
   },
   "outputs": [],
   "source": [
    "batch1_demog.to_csv('../DATA/DSC2/bach1__demographics.csv')\n",
    "#batch1_demog.to_csv('../DATA/DSC2/bach1__demographics.csv')"
   ]
  },
  {
   "cell_type": "markdown",
   "metadata": {},
   "source": [
    "### **07/022020** checking replated file sent by Mine"
   ]
  },
  {
   "cell_type": "code",
   "execution_count": null,
   "metadata": {
    "ExecuteTime": {
     "end_time": "2020-07-03T14:57:34.935883Z",
     "start_time": "2020-07-03T14:57:34.568872Z"
    }
   },
   "outputs": [],
   "source": [
    "import pandas as pd"
   ]
  },
  {
   "cell_type": "code",
   "execution_count": null,
   "metadata": {
    "ExecuteTime": {
     "end_time": "2020-08-03T15:37:26.676421Z",
     "start_time": "2020-08-03T15:37:26.659418Z"
    }
   },
   "outputs": [],
   "source": [
    "batch2_replated = pd.read_csv('../DATA/DSC2/80-well plate maps with parent IDs_revised controls_07.03.2020.csv')\n",
    "batch2_replated = batch2_replated.rename(columns ={'Biobank ID/Positive Control ID':'biobank_id'}).iloc[:, :4]\n",
    "batch2_replated"
   ]
  },
  {
   "cell_type": "code",
   "execution_count": null,
   "metadata": {
    "ExecuteTime": {
     "end_time": "2020-08-03T16:51:29.227720Z",
     "start_time": "2020-08-03T16:51:29.215720Z"
    }
   },
   "outputs": [],
   "source": [
    "samp_batch2_replated = batch2_replated[~batch2_replated['biobank_id'].str.startswith('PIO')]\n",
    "neg_batch2_replated = samp_batch2_replated[samp_batch2_replated['Negative Control'] == 'yes']\n",
    "samp_batch2_replated = samp_batch2_replated[samp_batch2_replated['Negative Control'] == 'No']\n",
    "samp_batch2_replated['biobank_id'].nunique(), neg_batch2_replated['biobank_id'].nunique()"
   ]
  },
  {
   "cell_type": "code",
   "execution_count": null,
   "metadata": {
    "ExecuteTime": {
     "end_time": "2020-08-03T16:52:29.372753Z",
     "start_time": "2020-08-03T16:52:29.364754Z"
    }
   },
   "outputs": [],
   "source": [
    "pos_batch2_replated = batch2_replated[batch2_replated['biobank_id'].str.startswith('PIO')]\n",
    "pos_batch2_replated['biobank_id'].nunique()"
   ]
  },
  {
   "cell_type": "code",
   "execution_count": null,
   "metadata": {
    "ExecuteTime": {
     "end_time": "2020-08-03T15:37:28.190205Z",
     "start_time": "2020-08-03T15:37:28.177202Z"
    }
   },
   "outputs": [],
   "source": [
    "batch2_replated[['biobank_id','Plate']].groupby('Plate').nunique()"
   ]
  },
  {
   "cell_type": "code",
   "execution_count": null,
   "metadata": {
    "ExecuteTime": {
     "end_time": "2020-07-03T15:36:48.730311Z",
     "start_time": "2020-07-03T15:36:48.724307Z"
    }
   },
   "outputs": [],
   "source": [
    "pos_batch2_replated['biobank_id'].count()"
   ]
  },
  {
   "cell_type": "code",
   "execution_count": null,
   "metadata": {},
   "outputs": [],
   "source": []
  },
  {
   "cell_type": "code",
   "execution_count": null,
   "metadata": {
    "ExecuteTime": {
     "end_time": "2020-08-03T15:23:43.250890Z",
     "start_time": "2020-08-03T15:23:43.230890Z"
    }
   },
   "outputs": [],
   "source": [
    "neg_batch2_replated = batch2_replated[batch2_replated['Negative Control'] == 'yes']\n",
    "neg_batch2_replated\n",
    "neg_batch2_replated[['biobank_id', 'Plate']].groupby('Plate').nunique()"
   ]
  },
  {
   "cell_type": "code",
   "execution_count": null,
   "metadata": {
    "ExecuteTime": {
     "end_time": "2020-07-03T15:36:52.035853Z",
     "start_time": "2020-07-03T15:36:52.026854Z"
    }
   },
   "outputs": [],
   "source": [
    "neg_batch2_replated\n"
   ]
  },
  {
   "cell_type": "code",
   "execution_count": null,
   "metadata": {
    "ExecuteTime": {
     "end_time": "2020-07-03T15:36:52.231866Z",
     "start_time": "2020-07-03T15:36:52.225866Z"
    }
   },
   "outputs": [],
   "source": [
    "neg_batch2_replated.biobank_id.value_counts().sort_values(),"
   ]
  },
  {
   "cell_type": "code",
   "execution_count": null,
   "metadata": {
    "ExecuteTime": {
     "end_time": "2020-07-03T15:36:53.229014Z",
     "start_time": "2020-07-03T15:36:53.220013Z"
    }
   },
   "outputs": [],
   "source": [
    "neg_batch2_replated['Duplicated Negative Control'] = 'Yes'\n",
    "neg_batch2_replated.loc[neg_batch2_replated['biobank_id'] == '954572832', 'Duplicated Negative Control'] = 'No'\n",
    "neg_batch2_replated.loc[neg_batch2_replated['biobank_id'] == '995678363', 'Duplicated Negative Control'] = 'No'\n"
   ]
  },
  {
   "cell_type": "code",
   "execution_count": null,
   "metadata": {
    "ExecuteTime": {
     "end_time": "2020-07-03T15:36:55.996899Z",
     "start_time": "2020-07-03T15:36:55.982895Z"
    }
   },
   "outputs": [],
   "source": [
    "noneg_neg_batch2_replated = batch2_replated[batch2_replated['Negative Control'] == 'No']\n",
    "noneg_neg_batch2_replated['Duplicated Negative Control'] = 'No'\n",
    "noneg_neg_batch2_replated"
   ]
  },
  {
   "cell_type": "code",
   "execution_count": null,
   "metadata": {
    "ExecuteTime": {
     "end_time": "2020-07-03T15:37:37.834493Z",
     "start_time": "2020-07-03T15:37:37.813494Z"
    }
   },
   "outputs": [],
   "source": [
    "batch2_replated_tosend = pd.concat([neg_batch2_replated, noneg_neg_batch2_replated], sort = 'False')\n",
    "batch2_replated_tosend = batch2_replated_tosend[['Plate','Sample ID','biobank_id','Negative Control','Duplicated Negative Control']]\n",
    "\n",
    "batch2_replated_tosend.to_csv('../DATA/DSC2/80-well plate maps with parent IDs_revised controls_07.03.2020.csv')"
   ]
  },
  {
   "cell_type": "code",
   "execution_count": null,
   "metadata": {
    "ExecuteTime": {
     "end_time": "2020-07-03T15:46:15.830908Z",
     "start_time": "2020-07-03T15:46:15.819910Z"
    }
   },
   "outputs": [],
   "source": [
    "batch2_replated_tosend"
   ]
  },
  {
   "cell_type": "code",
   "execution_count": null,
   "metadata": {
    "ExecuteTime": {
     "end_time": "2020-07-03T15:22:50.965555Z",
     "start_time": "2020-07-03T15:22:50.955551Z"
    }
   },
   "outputs": [],
   "source": [
    "neg_batch2_replated[['biobank_id', 'Duplicated Negative Control']].groupby('Duplicated Negative Control').nunique()#.sort_values()"
   ]
  },
  {
   "cell_type": "code",
   "execution_count": null,
   "metadata": {
    "ExecuteTime": {
     "end_time": "2020-07-03T15:15:22.773685Z",
     "start_time": "2020-07-03T15:15:22.769685Z"
    }
   },
   "outputs": [],
   "source": [
    "batch2_replated['biobank_id'].count()"
   ]
  },
  {
   "cell_type": "code",
   "execution_count": null,
   "metadata": {
    "ExecuteTime": {
     "end_time": "2020-07-03T15:15:24.792363Z",
     "start_time": "2020-07-03T15:15:24.787366Z"
    }
   },
   "outputs": [],
   "source": [
    "neg_batch2_replated.biobank_id.nunique()"
   ]
  },
  {
   "cell_type": "code",
   "execution_count": null,
   "metadata": {
    "ExecuteTime": {
     "end_time": "2020-07-02T16:14:23.191139Z",
     "start_time": "2020-07-02T16:14:23.186140Z"
    }
   },
   "outputs": [],
   "source": [
    "neg_batch2_replated.biobank_id.nunique(), pos_batch2_replated['Biobank ID/Positive Control ID'].nunique()"
   ]
  },
  {
   "cell_type": "code",
   "execution_count": null,
   "metadata": {
    "ExecuteTime": {
     "end_time": "2020-07-03T15:23:09.842198Z",
     "start_time": "2020-07-03T15:23:09.833197Z"
    }
   },
   "outputs": [],
   "source": [
    "neg_batch2_replated['biobank_id'] = [int(i) for i in neg_batch2_replated['biobank_id']]\n",
    "pd.merge(neg_batch2_replated.biobank_id,batch2_neg.biobank_id)"
   ]
  },
  {
   "cell_type": "code",
   "execution_count": null,
   "metadata": {
    "ExecuteTime": {
     "end_time": "2020-07-02T15:31:54.073573Z",
     "start_time": "2020-07-02T15:31:54.069571Z"
    }
   },
   "outputs": [],
   "source": [
    "127*2 + 2"
   ]
  },
  {
   "cell_type": "code",
   "execution_count": null,
   "metadata": {
    "ExecuteTime": {
     "end_time": "2020-07-03T15:23:30.121495Z",
     "start_time": "2020-07-03T15:23:30.108490Z"
    }
   },
   "outputs": [],
   "source": [
    "batch2_replated[['biobank_id','Plate']].groupby('Plate').nunique()"
   ]
  },
  {
   "cell_type": "markdown",
   "metadata": {},
   "source": [
    "## checking distributions"
   ]
  },
  {
   "cell_type": "code",
   "execution_count": null,
   "metadata": {
    "ExecuteTime": {
     "end_time": "2020-07-02T16:04:57.329531Z",
     "start_time": "2020-07-02T16:04:57.294529Z"
    }
   },
   "outputs": [],
   "source": [
    "batch2= pd.read_csv('../DATA\\DSC2\\Quest_Serology_batch2_2020-06-16_13.07.28.csv')\n",
    "batch2\n"
   ]
  },
  {
   "cell_type": "code",
   "execution_count": null,
   "metadata": {
    "ExecuteTime": {
     "end_time": "2020-07-02T16:05:38.195165Z",
     "start_time": "2020-07-02T16:05:38.191162Z"
    }
   },
   "outputs": [],
   "source": [
    "#batch1_neg = batch1[batch1['negative control'] == 'yes']\n",
    "batch2_neg = batch2[batch2['negative control'] == 'yes']"
   ]
  },
  {
   "cell_type": "code",
   "execution_count": null,
   "metadata": {
    "ExecuteTime": {
     "end_time": "2020-07-02T15:44:06.195889Z",
     "start_time": "2020-07-02T15:44:06.182884Z"
    }
   },
   "outputs": [],
   "source": [
    "master_list.head()"
   ]
  },
  {
   "cell_type": "code",
   "execution_count": null,
   "metadata": {
    "ExecuteTime": {
     "end_time": "2020-07-02T16:08:53.763276Z",
     "start_time": "2020-07-02T16:08:53.692259Z"
    }
   },
   "outputs": [],
   "source": [
    "nopos_batch2_replated = batch2_replated[~batch2_replated['Biobank ID/Positive Control ID'].str.startswith('PIO')]\n",
    "nopos_batch2_replated = nopos_batch2_replated.rename(columns ={'Biobank ID/Positive Control ID':'biobank_id'})\n",
    "nopos_batch2_replated['biobank_id'] = [int(i) for i in nopos_batch1_replated['biobank_id']]\n",
    "\n",
    "batch2_replated_demog= pd.merge(nopos_batch2_replated, \n",
    "                                master_list[['participant_id','biobank_id','state', 'DateBloodSampleCollected']].drop_duplicates(), on = 'biobank_id', how = 'left')\n",
    "batch2_replated_demog                               "
   ]
  },
  {
   "cell_type": "code",
   "execution_count": null,
   "metadata": {
    "ExecuteTime": {
     "end_time": "2020-07-02T15:53:25.360702Z",
     "start_time": "2020-07-02T15:53:25.349700Z"
    }
   },
   "outputs": [],
   "source": [
    "COVID_controls.head()"
   ]
  },
  {
   "cell_type": "code",
   "execution_count": null,
   "metadata": {
    "ExecuteTime": {
     "end_time": "2020-07-02T15:56:31.078632Z",
     "start_time": "2020-07-02T15:56:31.074638Z"
    }
   },
   "outputs": [],
   "source": [
    "COVID_controls.shape"
   ]
  },
  {
   "cell_type": "code",
   "execution_count": null,
   "metadata": {
    "ExecuteTime": {
     "end_time": "2020-07-02T16:09:04.176606Z",
     "start_time": "2020-07-02T16:09:04.144602Z"
    }
   },
   "outputs": [],
   "source": [
    "batch2_replated_demog_andneg = pd.merge(batch2_replated_demog, \n",
    "                                COVID_controls[['participant_id','biobank_id','state', 'DateBloodSampleCollected']].drop_duplicates(), how = 'left')\n",
    "batch2_replated_demog_andneg                               "
   ]
  },
  {
   "cell_type": "code",
   "execution_count": null,
   "metadata": {
    "ExecuteTime": {
     "end_time": "2020-07-02T16:11:02.218378Z",
     "start_time": "2020-07-02T16:11:02.210350Z"
    }
   },
   "outputs": [],
   "source": [
    "batch2_replated_demog_andneg.DateBloodSampleCollected.dropna().min(), batch2_replated_demog_andneg.DateBloodSampleCollected.dropna().max()"
   ]
  },
  {
   "cell_type": "code",
   "execution_count": null,
   "metadata": {
    "ExecuteTime": {
     "end_time": "2020-07-02T16:11:25.961059Z",
     "start_time": "2020-07-02T16:11:25.342987Z"
    }
   },
   "outputs": [],
   "source": [
    "gr = 'Plate'\n",
    "DF = batch2_replated_demog_andneg\n",
    "\n",
    "#writer = pd.ExcelWriter('../DATA/DSC2/sample_distributions_plates'+now+'.xlsx')\n",
    "for g in DF[gr].drop_duplicates():\n",
    "    #print(g)    \n",
    "    for v in ['state']: #['race','state']:\n",
    "        distribution = get_dist(DF, dist_var = v, group = gr, groupnumber = g)\n",
    "        display(distribution)\n",
    "        #distribution.to_excel(writer, str(v)+'_'+str(gr)+str(g))\n"
   ]
  },
  {
   "cell_type": "code",
   "execution_count": null,
   "metadata": {},
   "outputs": [],
   "source": []
  }
 ],
 "metadata": {
  "kernelspec": {
   "display_name": "Python 3 (ipykernel)",
   "language": "python",
   "name": "python3"
  },
  "language_info": {
   "codemirror_mode": {
    "name": "ipython",
    "version": 3
   },
   "file_extension": ".py",
   "mimetype": "text/x-python",
   "name": "python",
   "nbconvert_exporter": "python",
   "pygments_lexer": "ipython3",
   "version": "3.9.12"
  },
  "nbTranslate": {
   "displayLangs": [
    "*"
   ],
   "hotkey": "alt-t",
   "langInMainMenu": true,
   "sourceLang": "en",
   "targetLang": "fr",
   "useGoogleTranslate": true
  },
  "toc": {
   "base_numbering": 1,
   "nav_menu": {},
   "number_sections": true,
   "sideBar": true,
   "skip_h1_title": false,
   "title_cell": "Table of Contents",
   "title_sidebar": "Contents",
   "toc_cell": false,
   "toc_position": {
    "height": "calc(100% - 180px)",
    "left": "10px",
    "top": "150px",
    "width": "507.691px"
   },
   "toc_section_display": true,
   "toc_window_display": true
  }
 },
 "nbformat": 4,
 "nbformat_minor": 4
}
