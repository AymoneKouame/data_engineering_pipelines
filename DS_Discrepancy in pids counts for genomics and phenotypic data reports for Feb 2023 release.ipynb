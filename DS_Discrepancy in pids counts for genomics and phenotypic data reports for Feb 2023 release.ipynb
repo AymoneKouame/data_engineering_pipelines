{
 "cells": [
  {
   "cell_type": "code",
   "execution_count": null,
   "id": "40fa0fcd",
   "metadata": {},
   "outputs": [],
   "source": [
    "import pandas as pd\n",
    "genomics_pids_not_in_cdr = pd.read_csv('genomics_pids_not_in_cdr.csv').drop_duplicates()"
   ]
  },
  {
   "cell_type": "code",
   "execution_count": null,
   "id": "9886c348",
   "metadata": {},
   "outputs": [],
   "source": [
    "import mysql.connector as mysql\n",
    "con = mysql.connect(**connect_options)"
   ]
  },
  {
   "cell_type": "code",
   "execution_count": null,
   "id": "64c273fa",
   "metadata": {},
   "outputs": [],
   "source": [
    "genomics_pids_not_in_cdr_set = set(genomics_pids_not_in_cdr.person_id)\n",
    "pids =tuple(genomics_pids_not_in_cdr_set)"
   ]
  },
  {
   "cell_type": "code",
   "execution_count": null,
   "id": "94c491cb",
   "metadata": {},
   "outputs": [],
   "source": [
    "c2022q456_cutoff_date = '2022-09-30'\n",
    "\n",
    "consented_pids = pd.read_sql(f'''SELECT DISTINCT research_id\n",
    "            , participant_id, consent_for_study_enrollment as primary_consent\n",
    "            , consent_for_study_enrollment_authored as primary_consent_date\n",
    "            , consent_for_electronic_health_records as ehr_consent\n",
    "            , consent_for_electronic_health_records_authored as ehr_consent_date\n",
    "            , questionnaire_on_the_basics\n",
    "            , p.withdrawal_status\n",
    "            , p.suspension_status\n",
    "            , deceased_status\n",
    "            , date_of_birth\n",
    "            , (DATEDIFF('{c2022q456_cutoff_date}', date_of_birth)/365.25) as age_at_cdr\n",
    "            , (DATEDIFF(consent_for_study_enrollment_authored, date_of_birth)/365.25) as age_at_consent\n",
    "            FROM participant p\n",
    "            JOIN participant_summary using(participant_id)\n",
    "            WHERE research_id in {pids}\n",
    "            ORDER BY 7\n",
    "            ''', con)"
   ]
  },
  {
   "cell_type": "code",
   "execution_count": null,
   "id": "7637b977",
   "metadata": {},
   "outputs": [],
   "source": [
    "consented_pids"
   ]
  },
  {
   "cell_type": "code",
   "execution_count": null,
   "id": "2c01f47e",
   "metadata": {},
   "outputs": [],
   "source": [
    "set(consented_pids.research_id) - set(genomics_pids_not_in_cdr_set)"
   ]
  },
  {
   "cell_type": "code",
   "execution_count": null,
   "id": "d3875041",
   "metadata": {},
   "outputs": [],
   "source": [
    "set(genomics_pids_not_in_cdr_set) - set(consented_pids.research_id)"
   ]
  },
  {
   "cell_type": "code",
   "execution_count": null,
   "id": "01d5a52b",
   "metadata": {},
   "outputs": [],
   "source": [
    "pids2 =tuple(set(consented_pids.participant_id.unique()))\n",
    "\n",
    "def pids_in_cdr(dataset):\n",
    "    if 'C' in dataset:\n",
    "        project = 'aou-res-curation-output-prod'\n",
    "    else:\n",
    "        project = 'aou-res-curation-prod'\n",
    "        \n",
    "    df = pd.read_gbq(f'''SELECT COUNT(DISTINCT person_id) as n_in_{dataset}\n",
    "            FROM `{dataset}.person`\n",
    "            where person_id IN {pids2} or person_id in {pids}''', project_id = project)\n",
    "    return df"
   ]
  },
  {
   "cell_type": "code",
   "execution_count": null,
   "id": "35c77c9e",
   "metadata": {},
   "outputs": [],
   "source": [
    "#dataset = '2022q4r3_rdr'\n",
    "check_cur_datasets = ['rdr20220908', '2022q4r3_rdr', 'C2022Q4R6', '2022q4r3_unioned_ehr']\n",
    "for dataset in check_cur_datasets:\n",
    "    display(pids_in_cdr(dataset = dataset))\n"
   ]
  },
  {
   "cell_type": "code",
   "execution_count": null,
   "id": "adf6438d",
   "metadata": {},
   "outputs": [],
   "source": [
    "obs = pd.read_gbq(f'''SELECT DISTINCT *\n",
    "            FROM `rdr20220908.observation`\n",
    "            where person_id IN {pids2} or person_id in {pids}''', project_id = 'aou-res-curation-prod')"
   ]
  },
  {
   "cell_type": "code",
   "execution_count": null,
   "id": "8b520d6c",
   "metadata": {},
   "outputs": [],
   "source": [
    "dataset = 'rdr20220908'\n",
    "ppi_query = f\"\"\"\n",
    "    SELECT \n",
    "    count(distinct person_id) as n_participants\n",
    "    ,concept_name as survey\n",
    "    FROM \n",
    "    `{dataset}.concept` \n",
    "    join `{dataset}.concept_ancestor` on (concept_id=ancestor_concept_id)\n",
    "    join `{dataset}.observation` on (descendant_concept_id=observation_concept_id)\n",
    "    ##join `{dataset}.observation_ext` using(observation_id)\n",
    "    WHERE observation_concept_id not in (40766240,43528428,1585389) --hcau vocab issues\n",
    "    and concept_class_id='Module'\n",
    "    and concept_name IN ('The Basics', 'Overall Health', 'Lifestyle')\n",
    "    ##, 'Family History', 'Personal Medical History', 'Healthcare Access & Utilization') \n",
    "    ##and src_id='PPI/PM'\n",
    "    ##and questionnaire_response_id is not null\n",
    "    and (person_id IN {pids2} or person_id in {pids})\n",
    "    GROUP BY 2\"\"\"\n",
    "\n",
    "obs = pd.read_gbq(ppi_query)\n",
    "obs"
   ]
  },
  {
   "cell_type": "code",
   "execution_count": null,
   "id": "316ec16d",
   "metadata": {},
   "outputs": [],
   "source": [
    "dataset = 'rdr20220908'\n",
    "consent_query = f\"\"\"\n",
    "    SELECT DISTINCT person_id, observation_date AS primary_consent_date\n",
    "    FROM  `{dataset}.concept`\n",
    "    inner join `{dataset}.concept_ancestor` on concept_id = ancestor_concept_id\n",
    "    inner join `{dataset}.observation` on descendant_concept_id = observation_concept_id \n",
    "\n",
    "    WHERE concept_name = 'Consent PII' AND concept_class_id = 'Module'\n",
    "    and (person_id IN {pids2} or person_id in {pids})\n",
    "\"\"\"\n",
    "consent = pd.read_gbq(consent_query)\n",
    "consent"
   ]
  },
  {
   "cell_type": "code",
   "execution_count": null,
   "id": "494b1d82",
   "metadata": {},
   "outputs": [],
   "source": [
    "import pandas as pd\n",
    "\n",
    "## List of participants with any EHR data\n",
    "def get_ehr_df1(dataset):\n",
    "    \n",
    "    if 'C' in dataset:\n",
    "        project = 'aou-res-curation-output-prod'\n",
    "    else:\n",
    "        project = 'aou-res-curation-prod'\n",
    "        \n",
    "\n",
    "    query = f\"\"\"\n",
    "    WITH ehr as (\n",
    "    SELECT\n",
    "       DISTINCT person_id, measurement_date as ehr_data_date\n",
    "    FROM `{dataset}.measurement` AS m\n",
    "\n",
    "    UNION DISTINCT\n",
    "    SELECT\n",
    "       DISTINCT person_id, condition_start_date ehr_data_date\n",
    "    FROM `{dataset}.condition_occurrence` AS m\n",
    "\n",
    "    UNION DISTINCT\n",
    "    SELECT\n",
    "       DISTINCT person_id, device_exposure_start_date ehr_data_date\n",
    "    FROM `{dataset}.device_exposure` AS m\n",
    "\n",
    "    UNION DISTINCT\n",
    "    SELECT\n",
    "       DISTINCT person_id, drug_exposure_start_date as ehr_data_date\n",
    "    FROM `{dataset}.drug_exposure` AS m\n",
    "\n",
    "    UNION DISTINCT\n",
    "    SELECT\n",
    "       DISTINCT person_id, observation_date as ehr_data_date\n",
    "    FROM `{dataset}.observation` AS m\n",
    "\n",
    "    UNION DISTINCT\n",
    "    SELECT\n",
    "       DISTINCT person_id, procedure_date as ehr_data_date\n",
    "    FROM `{dataset}.procedure_occurrence` AS m\n",
    "\n",
    "    UNION DISTINCT\n",
    "    SELECT\n",
    "       DISTINCT person_id, visit_start_date as ehr_data_date\n",
    "    FROM `{dataset}.visit_occurrence` AS m\n",
    "    )\n",
    "    SELECT DISTINCT person_id, DATE(MIN(ehr_data_date)) as min_ehr_data_date\n",
    "    , DATE(MAX(ehr_data_date)) as max_ehr_data_date\n",
    "    FROM ehr\n",
    "    where (person_id IN {pids2} or person_id in {pids})\n",
    "    group by 1\n",
    "    order by min_ehr_data_date\n",
    "\n",
    "    \"\"\"\n",
    "\n",
    "    ehr_df = pd.read_gbq(query, dialect = 'standard',  project_id=project)\n",
    "    \n",
    "    return ehr_df"
   ]
  },
  {
   "cell_type": "code",
   "execution_count": null,
   "id": "588b2790",
   "metadata": {},
   "outputs": [],
   "source": [
    "!pip install sqldf"
   ]
  },
  {
   "cell_type": "code",
   "execution_count": null,
   "id": "cb395281",
   "metadata": {},
   "outputs": [],
   "source": [
    "!pip install pandasql"
   ]
  },
  {
   "cell_type": "code",
   "execution_count": null,
   "id": "fea39b48",
   "metadata": {},
   "outputs": [],
   "source": [
    "# Import libraries\n",
    "import pandas as pd\n",
    "from pandasql import sqldf\n",
    "\n",
    "# Create a dummy pd.Dataframe\n",
    "df = ehr_data_dates\n",
    "\n",
    "# Define a SQL (SQLite3) query\n",
    "query = \"\"\"\n",
    "SELECT *\n",
    "FROM df\n",
    "where min_ehr_data_date > '1990-07-01'\n",
    "\"\"\"\n",
    "\n",
    "# Run the query\n",
    "#sqldf.run(query)\n",
    "sqldf(query)"
   ]
  },
  {
   "cell_type": "code",
   "execution_count": null,
   "id": "d38136ea",
   "metadata": {},
   "outputs": [],
   "source": [
    "ehr_data_dates = get_ehr_df1('2022q4r3_unioned_ehr')\n",
    "ehr_data_dates"
   ]
  },
  {
   "cell_type": "code",
   "execution_count": null,
   "id": "585840db",
   "metadata": {},
   "outputs": [],
   "source": [
    "pd.to_datetime(ehr_data_dates_and_consent['max_ehr_data_date']) > pd.to_datetime(ehr_data_dates_and_consent['ehr_consent_date'])"
   ]
  },
  {
   "cell_type": "code",
   "execution_count": null,
   "id": "dda4f619",
   "metadata": {},
   "outputs": [],
   "source": [
    "ehr_data_dates_and_consent = ehr_data_dates.rename(columns = {'person_id':\"participant_id\"}).merge(consented_pids[['participant_id','ehr_consent_date']])\n",
    "ehr_data_dates_and_consent['min_ehr_data_date > ehr_consent_date'] = pd.to_datetime(ehr_data_dates_and_consent['min_ehr_data_date']) > pd.to_datetime(ehr_data_dates_and_consent['ehr_consent_date'])\n",
    "ehr_data_dates_and_consent['max_ehr_data_date > ehr_consent_date'] = pd.to_datetime(ehr_data_dates_and_consent['max_ehr_data_date']) > pd.to_datetime(ehr_data_dates_and_consent['ehr_consent_date'])\n",
    "ehr_data_dates_and_consent"
   ]
  },
  {
   "cell_type": "code",
   "execution_count": null,
   "id": "9947650f",
   "metadata": {},
   "outputs": [],
   "source": [
    "#EHR data before the EHR cut off\n",
    "def get_ehr_df3(dataset):\n",
    "    \n",
    "    if 'C' in dataset:\n",
    "        project = 'aou-res-curation-output-prod'\n",
    "    else:\n",
    "        project = 'aou-res-curation-prod'\n",
    "        \n",
    "\n",
    "    query = f\"\"\"\n",
    "    WITH ehr as (\n",
    "    SELECT\n",
    "       DISTINCT person_id, measurement_date as ehr_data_date\n",
    "    FROM `{dataset}.measurement` AS m\n",
    "\n",
    "    UNION DISTINCT\n",
    "    SELECT\n",
    "       DISTINCT person_id, condition_start_date ehr_data_date\n",
    "    FROM `{dataset}.condition_occurrence` AS m\n",
    "\n",
    "    UNION DISTINCT\n",
    "    SELECT\n",
    "       DISTINCT person_id, device_exposure_start_date ehr_data_date\n",
    "    FROM `{dataset}.device_exposure` AS m\n",
    "\n",
    "    UNION DISTINCT\n",
    "    SELECT\n",
    "       DISTINCT person_id, drug_exposure_start_date as ehr_data_date\n",
    "    FROM `{dataset}.drug_exposure` AS m\n",
    "\n",
    "    UNION DISTINCT\n",
    "    SELECT\n",
    "       DISTINCT person_id, observation_date as ehr_data_date\n",
    "    FROM `{dataset}.observation` AS m\n",
    "\n",
    "    UNION DISTINCT\n",
    "    SELECT\n",
    "       DISTINCT person_id, procedure_date as ehr_data_date\n",
    "    FROM `{dataset}.procedure_occurrence` AS m\n",
    "\n",
    "    UNION DISTINCT\n",
    "    SELECT\n",
    "       DISTINCT person_id, visit_start_date as ehr_data_date\n",
    "    FROM `{dataset}.visit_occurrence` AS m\n",
    "    )\n",
    "    SELECT DISTINCT person_id, DATE(MIN(ehr_data_date)) as min_ehr_data_date\n",
    "    , DATE(MAX(ehr_data_date)) as max_ehr_data_date\n",
    "    FROM ehr\n",
    "    where (person_id IN {pids2} or person_id in {pids})\n",
    "    and ehr_data_date <= '2022-07-01'\n",
    "    group by 1\n",
    "    order by min_ehr_data_date\n",
    "\n",
    "    \"\"\"\n",
    "\n",
    "    ehr_df = pd.read_gbq(query, dialect = 'standard',  project_id=project)\n",
    "    \n",
    "    return ehr_df"
   ]
  },
  {
   "cell_type": "code",
   "execution_count": null,
   "id": "322b137a",
   "metadata": {},
   "outputs": [],
   "source": [
    "ehr_data_before_cutoff = get_ehr_df3('2022q4r3_unioned_ehr')\n",
    "ehr_data_before_cutoff"
   ]
  },
  {
   "cell_type": "code",
   "execution_count": null,
   "id": "87a5b00e",
   "metadata": {},
   "outputs": [],
   "source": [
    "def check_actual_ehr_date(ehr_table, date_field, dataset = '2022q4r3_unioned_ehr'):\n",
    "    \n",
    "    if 'C' in dataset:\n",
    "        project = 'aou-res-curation-output-prod'\n",
    "    else:\n",
    "        project = 'aou-res-curation-prod'\n",
    "        \n",
    "    query = f\"\"\"SELECT DISTINCT *\n",
    "            FROM `{dataset}.{ehr_table}`\n",
    "            where (person_id IN {pids2} or person_id in {pids})\n",
    "            and {date_field} <= '2022-07-01'\n",
    "            \"\"\"\n",
    "    ehr_df = pd.read_gbq(query, dialect = 'standard',  project_id=project)\n",
    "    ehr_df = ehr_df.merge(consented_pids[['participant_id','ehr_consent_date']].rename(columns = {'participant_id':\"person_id\"}))\n",
    "    ehr_df['ehr_data_after_ehr_consent'] = pd.to_datetime(ehr_df[date_field]) >= pd.to_datetime(ehr_df['ehr_consent_date'])\n",
    "    ehr_df = ehr_df[ehr_df['ehr_data_after_ehr_consent'] == True]\n",
    "    display(ehr_df.person_id.unique())\n",
    "    return ehr_df"
   ]
  },
  {
   "cell_type": "code",
   "execution_count": null,
   "id": "a1428d5d",
   "metadata": {},
   "outputs": [],
   "source": [
    "check_actual_ehr_date(ehr_table = 'condition_occurrence', date_field = 'condition_start_date', dataset = '2022q4r3_unioned_ehr')"
   ]
  },
  {
   "cell_type": "code",
   "execution_count": null,
   "id": "128fc887",
   "metadata": {},
   "outputs": [],
   "source": [
    "get_ehr_df('2022q4r3_unioned_ehr')"
   ]
  }
 ],
 "metadata": {
  "kernelspec": {
   "display_name": "Python 3 (ipykernel)",
   "language": "python",
   "name": "python3"
  },
  "language_info": {
   "codemirror_mode": {
    "name": "ipython",
    "version": 3
   },
   "file_extension": ".py",
   "mimetype": "text/x-python",
   "name": "python",
   "nbconvert_exporter": "python",
   "pygments_lexer": "ipython3",
   "version": "3.9.12"
  },
  "toc": {
   "base_numbering": 1,
   "nav_menu": {},
   "number_sections": true,
   "sideBar": true,
   "skip_h1_title": false,
   "title_cell": "Table of Contents",
   "title_sidebar": "Contents",
   "toc_cell": false,
   "toc_position": {
    "height": "calc(100% - 180px)",
    "left": "10px",
    "top": "150px",
    "width": "384px"
   },
   "toc_section_display": true,
   "toc_window_display": true
  }
 },
 "nbformat": 4,
 "nbformat_minor": 5
}
